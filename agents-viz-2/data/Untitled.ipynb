{
 "cells": [
  {
   "cell_type": "code",
   "execution_count": 1,
   "metadata": {},
   "outputs": [],
   "source": [
    "import pandas as pd"
   ]
  },
  {
   "cell_type": "code",
   "execution_count": 4,
   "metadata": {},
   "outputs": [],
   "source": [
    "pd.concat( [\n",
    "    pd.read_csv( 'cali-actual-ucis.csv' ),\n",
    "    pd.read_csv( 'cali-apertura-100-ucis.csv' ),\n",
    "    pd.read_csv( 'cali-apertura-30-ucis.csv' ),\n",
    "    pd.read_csv( 'cali-apertura-50-ucis.csv' ),\n",
    "    pd.read_csv( 'cali-no-cuarentena-ucis.csv' )\n",
    "] ).to_csv( 'cali-ucis.csv', index = False )"
   ]
  },
  {
   "cell_type": "code",
   "execution_count": 3,
   "metadata": {},
   "outputs": [],
   "source": [
    "pd.concat( [\n",
    "    pd.read_csv( 'cali-actual-deaths.csv' ),\n",
    "    pd.read_csv( 'cali-apertura-100-deaths.csv' ),\n",
    "    pd.read_csv( 'cali-apertura-30-deaths.csv' ),\n",
    "    pd.read_csv( 'cali-apertura-50-deaths.csv' ),\n",
    "    pd.read_csv( 'cali-no-cuarentena-deaths.csv' )\n",
    "] ).to_csv( 'cali-deaths.csv', index = False )"
   ]
  },
  {
   "cell_type": "code",
   "execution_count": 5,
   "metadata": {},
   "outputs": [],
   "source": [
    "pd.concat( [\n",
    "    pd.read_csv( 'cali-actual-r0.csv' ),\n",
    "    pd.read_csv( 'cali-apertura-100-r0.csv' ),\n",
    "    pd.read_csv( 'cali-apertura-30-r0.csv' ),\n",
    "    pd.read_csv( 'cali-apertura-50-r0.csv' ),\n",
    "    pd.read_csv( 'cali-no-cuarentena-r0.csv' )\n",
    "] ).to_csv( 'cali-r0.csv', index = False )"
   ]
  },
  {
   "cell_type": "code",
   "execution_count": 6,
   "metadata": {},
   "outputs": [],
   "source": [
    "pd.concat( [\n",
    "    pd.read_csv( 'cali-actual-rt.csv' ),\n",
    "    pd.read_csv( 'cali-apertura-100-rt.csv' ),\n",
    "    pd.read_csv( 'cali-apertura-30-rt.csv' ),\n",
    "    pd.read_csv( 'cali-apertura-50-rt.csv' ),\n",
    "    pd.read_csv( 'cali-no-cuarentena-rt.csv' )\n",
    "] ).to_csv( 'cali-rt.csv', index = False )"
   ]
  },
  {
   "cell_type": "code",
   "execution_count": 7,
   "metadata": {},
   "outputs": [],
   "source": [
    "pd.concat( [\n",
    "    pd.read_csv( 'cali-actual-quarantine.csv' ),\n",
    "    pd.read_csv( 'cali-apertura-100-quarantine.csv' ),\n",
    "    pd.read_csv( 'cali-apertura-30-quarantine.csv' ),\n",
    "    pd.read_csv( 'cali-apertura-50-quarantine.csv' ),\n",
    "    pd.read_csv( 'cali-no-cuarentena-quarantine.csv' )\n",
    "] ).to_csv( 'cali-quarantine.csv', index = False )"
   ]
  },
  {
   "cell_type": "code",
   "execution_count": null,
   "metadata": {},
   "outputs": [],
   "source": []
  }
 ],
 "metadata": {
  "kernelspec": {
   "display_name": "Python 3",
   "language": "python",
   "name": "python3"
  },
  "language_info": {
   "codemirror_mode": {
    "name": "ipython",
    "version": 3
   },
   "file_extension": ".py",
   "mimetype": "text/x-python",
   "name": "python",
   "nbconvert_exporter": "python",
   "pygments_lexer": "ipython3",
   "version": "3.7.6"
  }
 },
 "nbformat": 4,
 "nbformat_minor": 4
}
