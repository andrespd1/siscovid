{
 "cells": [
  {
   "cell_type": "code",
   "execution_count": 1,
   "metadata": {},
   "outputs": [],
   "source": [
    "import pandas as pd"
   ]
  },
  {
   "cell_type": "code",
   "execution_count": 9,
   "metadata": {},
   "outputs": [],
   "source": [
    "city = 'medellin'"
   ]
  },
  {
   "cell_type": "code",
   "execution_count": 10,
   "metadata": {},
   "outputs": [],
   "source": [
    "pd.concat( [\n",
    "    pd.read_csv( '{}/{}-actual-ucis.csv'.format( city, city ) ),\n",
    "    pd.read_csv( '{}/{}-apertura-100-ucis.csv'.format( city, city ) ),\n",
    "    #pd.read_csv( '{}/{}-apertura-30-ucis.csv'.format( city, city ) ),\n",
    "    #pd.read_csv( '{}/{}-apertura-50-ucis.csv'.format( city, city ) ),\n",
    "    pd.read_csv( '{}/{}-no-cuarentena-ucis.csv'.format( city, city ) )\n",
    "] ).to_csv( '{}/{}-ucis.csv'.format( city, city ), index = False )"
   ]
  },
  {
   "cell_type": "code",
   "execution_count": 11,
   "metadata": {},
   "outputs": [],
   "source": [
    "pd.concat( [\n",
    "    pd.read_csv( '{}/{}-actual-deaths.csv'.format( city, city ) ),\n",
    "    pd.read_csv( '{}/{}-apertura-100-deaths.csv'.format( city, city ) ),\n",
    "    #pd.read_csv( '{}/{}-apertura-30-deaths.csv'.format( city, city ) ),\n",
    "    #pd.read_csv( '{}/{}-apertura-50-deaths.csv'.format( city, city ) ),\n",
    "    pd.read_csv( '{}/{}-no-cuarentena-deaths.csv'.format( city, city ) )\n",
    "] ).to_csv( '{}/{}-deaths.csv'.format( city, city ), index = False )"
   ]
  },
  {
   "cell_type": "code",
   "execution_count": 12,
   "metadata": {},
   "outputs": [],
   "source": [
    "pd.concat( [\n",
    "    pd.read_csv( '{}/{}-actual-r0.csv'.format( city, city ) ),\n",
    "    pd.read_csv( '{}/{}-apertura-100-r0.csv'.format( city, city ) ),\n",
    "    #pd.read_csv( '{}/{}-apertura-30-r0.csv'.format( city, city ) ),\n",
    "    #pd.read_csv( '{}/{}-apertura-50-r0.csv'.format( city, city ) ),\n",
    "    pd.read_csv( '{}/{}-no-cuarentena-r0.csv'.format( city, city ) )\n",
    "] ).to_csv( '{}/{}-r0.csv'.format( city, city ), index = False )"
   ]
  },
  {
   "cell_type": "code",
   "execution_count": 13,
   "metadata": {},
   "outputs": [],
   "source": [
    "pd.concat( [\n",
    "    pd.read_csv( '{}/{}-actual-rt.csv'.format( city, city ) ),\n",
    "    pd.read_csv( '{}/{}-apertura-100-rt.csv'.format( city, city ) ),\n",
    "    #pd.read_csv( '{}/{}-apertura-30-rt.csv'.format( city, city ) ),\n",
    "    #pd.read_csv( '{}/{}-apertura-50-rt.csv'.format( city, city ) ),\n",
    "    pd.read_csv( '{}/{}-no-cuarentena-rt.csv'.format( city, city ) )\n",
    "] ).to_csv( '{}/{}-rt.csv'.format( city, city ), index = False )"
   ]
  },
  {
   "cell_type": "code",
   "execution_count": 14,
   "metadata": {},
   "outputs": [],
   "source": [
    "pd.concat( [\n",
    "    pd.read_csv( '{}/{}-actual-quarantine.csv'.format( city, city ) ),\n",
    "    pd.read_csv( '{}/{}-apertura-100-quarantine.csv'.format( city, city ) ),\n",
    "    #pd.read_csv( '{}/{}-apertura-30-quarantine.csv'.format( city, city ) ),\n",
    "    #pd.read_csv( '{}/{}-apertura-50-quarantine.csv'.format( city, city ) ),\n",
    "    pd.read_csv( '{}/{}-no-cuarentena-quarantine.csv'.format( city, city ) )\n",
    "] ).to_csv( '{}/{}-quarantine.csv'.format( city, city ), index = False )"
   ]
  },
  {
   "cell_type": "code",
   "execution_count": null,
   "metadata": {},
   "outputs": [],
   "source": []
  }
 ],
 "metadata": {
  "kernelspec": {
   "display_name": "Python 3",
   "language": "python",
   "name": "python3"
  },
  "language_info": {
   "codemirror_mode": {
    "name": "ipython",
    "version": 3
   },
   "file_extension": ".py",
   "mimetype": "text/x-python",
   "name": "python",
   "nbconvert_exporter": "python",
   "pygments_lexer": "ipython3",
   "version": "3.7.6"
  }
 },
 "nbformat": 4,
 "nbformat_minor": 4
}
