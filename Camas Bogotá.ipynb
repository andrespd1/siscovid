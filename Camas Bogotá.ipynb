{
 "cells": [
  {
   "cell_type": "code",
   "execution_count": 1,
   "metadata": {},
   "outputs": [],
   "source": [
    "# Datos: https://datosabiertos.bogota.gov.co/dataset/8c2a07f9-5948-41ca-8f7a-447753426ab9/resource/4911565b-4518-4931-93de-d117c10dbdce/download/osb_ocupacion_hosp_ucis.csv"
   ]
  },
  {
   "cell_type": "code",
   "execution_count": 2,
   "metadata": {},
   "outputs": [],
   "source": [
    "import requests\n",
    "import pandas as pd"
   ]
  },
  {
   "cell_type": "code",
   "execution_count": 3,
   "metadata": {},
   "outputs": [],
   "source": [
    "URL = 'https://datosabiertos.bogota.gov.co/dataset/8c2a07f9-5948-41ca-8f7a-447753426ab9/resource/4911565b-4518-4931-93de-d117c10dbdce/download/osb_ocupacion_hosp_ucis.csv'\n",
    "FILEPATH = './data/camas_bogota_raw.csv'"
   ]
  },
  {
   "cell_type": "code",
   "execution_count": 4,
   "metadata": {},
   "outputs": [],
   "source": [
    "r = requests.get( URL, stream = True )\n",
    "\n",
    "with open( FILEPATH, 'wb' ) as f:\n",
    "    f.write( r.content )"
   ]
  },
  {
   "cell_type": "code",
   "execution_count": 5,
   "metadata": {},
   "outputs": [],
   "source": [
    "camas = pd.read_csv( './data/camas_bogota_raw.csv', encoding = 'ISO-8859-1', dtype = { 'Camas Ocupadas': str, 'Camas habilitadas': str, 'Camas disponibles': str } )"
   ]
  },
  {
   "cell_type": "code",
   "execution_count": 6,
   "metadata": {},
   "outputs": [],
   "source": [
    "camas[ 'Camas Ocupadas' ] = camas[ 'Camas Ocupadas' ].apply( lambda x: str( x ).replace( '.', '' ) ).astype( int )\n",
    "camas[ 'Camas habilitadas' ] = camas[ 'Camas habilitadas' ].apply( lambda x: str( x ).replace( '.', '' ) ).astype( int )\n",
    "camas[ 'Camas disponibles' ] = camas[ 'Camas disponibles' ].apply( lambda x: str( x ).replace( '.', '' ) ).astype( int )"
   ]
  },
  {
   "cell_type": "code",
   "execution_count": 7,
   "metadata": {},
   "outputs": [
    {
     "data": {
      "text/plain": [
       "IPS                        object\n",
       "Servicio                   object\n",
       "Grupo                      object\n",
       "Camas Ocupadas              int64\n",
       "Camas habilitadas           int64\n",
       "Camas disponibles           int64\n",
       "Porcentaje de Ocupación    object\n",
       "Fecha Actualización        object\n",
       "dtype: object"
      ]
     },
     "execution_count": 7,
     "metadata": {},
     "output_type": "execute_result"
    }
   ],
   "source": [
    "camas.dtypes"
   ]
  },
  {
   "cell_type": "code",
   "execution_count": 8,
   "metadata": {},
   "outputs": [
    {
     "data": {
      "text/html": [
       "<div>\n",
       "<style scoped>\n",
       "    .dataframe tbody tr th:only-of-type {\n",
       "        vertical-align: middle;\n",
       "    }\n",
       "\n",
       "    .dataframe tbody tr th {\n",
       "        vertical-align: top;\n",
       "    }\n",
       "\n",
       "    .dataframe thead th {\n",
       "        text-align: right;\n",
       "    }\n",
       "</style>\n",
       "<table border=\"1\" class=\"dataframe\">\n",
       "  <thead>\n",
       "    <tr style=\"text-align: right;\">\n",
       "      <th></th>\n",
       "      <th>IPS</th>\n",
       "      <th>Servicio</th>\n",
       "      <th>Grupo</th>\n",
       "      <th>Camas Ocupadas</th>\n",
       "      <th>Camas habilitadas</th>\n",
       "      <th>Camas disponibles</th>\n",
       "      <th>Porcentaje de Ocupación</th>\n",
       "      <th>Fecha Actualización</th>\n",
       "    </tr>\n",
       "  </thead>\n",
       "  <tbody>\n",
       "    <tr>\n",
       "      <th>0</th>\n",
       "      <td>Públicas</td>\n",
       "      <td>Hospitalización General</td>\n",
       "      <td>Neonatal</td>\n",
       "      <td>107</td>\n",
       "      <td>138</td>\n",
       "      <td>31</td>\n",
       "      <td>78%</td>\n",
       "      <td>13/07/2020</td>\n",
       "    </tr>\n",
       "    <tr>\n",
       "      <th>1</th>\n",
       "      <td>Públicas</td>\n",
       "      <td>Hospitalización General</td>\n",
       "      <td>Pediátrico</td>\n",
       "      <td>208</td>\n",
       "      <td>399</td>\n",
       "      <td>191</td>\n",
       "      <td>52%</td>\n",
       "      <td>13/07/2020</td>\n",
       "    </tr>\n",
       "    <tr>\n",
       "      <th>2</th>\n",
       "      <td>Públicas</td>\n",
       "      <td>Hospitalización General</td>\n",
       "      <td>Adulto</td>\n",
       "      <td>1070</td>\n",
       "      <td>1314</td>\n",
       "      <td>244</td>\n",
       "      <td>81%</td>\n",
       "      <td>13/07/2020</td>\n",
       "    </tr>\n",
       "    <tr>\n",
       "      <th>3</th>\n",
       "      <td>Públicas</td>\n",
       "      <td>Unidad de Cuidado Intermedio</td>\n",
       "      <td>Neonatal</td>\n",
       "      <td>92</td>\n",
       "      <td>126</td>\n",
       "      <td>34</td>\n",
       "      <td>73%</td>\n",
       "      <td>13/07/2020</td>\n",
       "    </tr>\n",
       "    <tr>\n",
       "      <th>4</th>\n",
       "      <td>Públicas</td>\n",
       "      <td>Unidad de Cuidado Intermedio</td>\n",
       "      <td>Pediátrico</td>\n",
       "      <td>7</td>\n",
       "      <td>12</td>\n",
       "      <td>5</td>\n",
       "      <td>58%</td>\n",
       "      <td>13/07/2020</td>\n",
       "    </tr>\n",
       "    <tr>\n",
       "      <th>5</th>\n",
       "      <td>Públicas</td>\n",
       "      <td>Unidad de Cuidado Intermedio</td>\n",
       "      <td>Adulto</td>\n",
       "      <td>46</td>\n",
       "      <td>48</td>\n",
       "      <td>2</td>\n",
       "      <td>96%</td>\n",
       "      <td>13/07/2020</td>\n",
       "    </tr>\n",
       "    <tr>\n",
       "      <th>6</th>\n",
       "      <td>Públicas</td>\n",
       "      <td>Unidad de cuidado intensivo</td>\n",
       "      <td>Neonatal</td>\n",
       "      <td>55</td>\n",
       "      <td>68</td>\n",
       "      <td>13</td>\n",
       "      <td>81%</td>\n",
       "      <td>13/07/2020</td>\n",
       "    </tr>\n",
       "    <tr>\n",
       "      <th>7</th>\n",
       "      <td>Públicas</td>\n",
       "      <td>Unidad de cuidado intensivo</td>\n",
       "      <td>Pediátrico</td>\n",
       "      <td>12</td>\n",
       "      <td>29</td>\n",
       "      <td>17</td>\n",
       "      <td>41%</td>\n",
       "      <td>13/07/2020</td>\n",
       "    </tr>\n",
       "    <tr>\n",
       "      <th>8</th>\n",
       "      <td>Públicas</td>\n",
       "      <td>Unidad de cuidado intensivo</td>\n",
       "      <td>Adulto</td>\n",
       "      <td>244</td>\n",
       "      <td>280</td>\n",
       "      <td>36</td>\n",
       "      <td>87%</td>\n",
       "      <td>13/07/2020</td>\n",
       "    </tr>\n",
       "    <tr>\n",
       "      <th>9</th>\n",
       "      <td>Privadas</td>\n",
       "      <td>Hospitalización General</td>\n",
       "      <td>Neonatal</td>\n",
       "      <td>120</td>\n",
       "      <td>162</td>\n",
       "      <td>42</td>\n",
       "      <td>74%</td>\n",
       "      <td>13/07/2020</td>\n",
       "    </tr>\n",
       "    <tr>\n",
       "      <th>10</th>\n",
       "      <td>Privadas</td>\n",
       "      <td>Hospitalización General</td>\n",
       "      <td>Pediátrico</td>\n",
       "      <td>776</td>\n",
       "      <td>1230</td>\n",
       "      <td>454</td>\n",
       "      <td>63%</td>\n",
       "      <td>13/07/2020</td>\n",
       "    </tr>\n",
       "    <tr>\n",
       "      <th>11</th>\n",
       "      <td>Privadas</td>\n",
       "      <td>Hospitalización General</td>\n",
       "      <td>Adulto</td>\n",
       "      <td>4458</td>\n",
       "      <td>5415</td>\n",
       "      <td>957</td>\n",
       "      <td>82%</td>\n",
       "      <td>13/07/2020</td>\n",
       "    </tr>\n",
       "    <tr>\n",
       "      <th>12</th>\n",
       "      <td>Privadas</td>\n",
       "      <td>Unidad de Cuidado Intermedio</td>\n",
       "      <td>Neonatal</td>\n",
       "      <td>172</td>\n",
       "      <td>252</td>\n",
       "      <td>80</td>\n",
       "      <td>68%</td>\n",
       "      <td>13/07/2020</td>\n",
       "    </tr>\n",
       "    <tr>\n",
       "      <th>13</th>\n",
       "      <td>Privadas</td>\n",
       "      <td>Unidad de Cuidado Intermedio</td>\n",
       "      <td>Pediátrico</td>\n",
       "      <td>43</td>\n",
       "      <td>70</td>\n",
       "      <td>27</td>\n",
       "      <td>61%</td>\n",
       "      <td>13/07/2020</td>\n",
       "    </tr>\n",
       "    <tr>\n",
       "      <th>14</th>\n",
       "      <td>Privadas</td>\n",
       "      <td>Unidad de Cuidado Intermedio</td>\n",
       "      <td>Adulto</td>\n",
       "      <td>426</td>\n",
       "      <td>537</td>\n",
       "      <td>111</td>\n",
       "      <td>79%</td>\n",
       "      <td>13/07/2020</td>\n",
       "    </tr>\n",
       "    <tr>\n",
       "      <th>15</th>\n",
       "      <td>Privadas</td>\n",
       "      <td>Unidad de cuidado intensivo</td>\n",
       "      <td>Neonatal</td>\n",
       "      <td>129</td>\n",
       "      <td>202</td>\n",
       "      <td>73</td>\n",
       "      <td>64%</td>\n",
       "      <td>13/07/2020</td>\n",
       "    </tr>\n",
       "    <tr>\n",
       "      <th>16</th>\n",
       "      <td>Privadas</td>\n",
       "      <td>Unidad de cuidado intensivo</td>\n",
       "      <td>Pediátrico</td>\n",
       "      <td>73</td>\n",
       "      <td>154</td>\n",
       "      <td>81</td>\n",
       "      <td>47%</td>\n",
       "      <td>13/07/2020</td>\n",
       "    </tr>\n",
       "    <tr>\n",
       "      <th>17</th>\n",
       "      <td>Privadas</td>\n",
       "      <td>Unidad de cuidado intensivo</td>\n",
       "      <td>Adulto</td>\n",
       "      <td>1156</td>\n",
       "      <td>1291</td>\n",
       "      <td>135</td>\n",
       "      <td>90%</td>\n",
       "      <td>13/07/2020</td>\n",
       "    </tr>\n",
       "  </tbody>\n",
       "</table>\n",
       "</div>"
      ],
      "text/plain": [
       "         IPS                      Servicio       Grupo  Camas Ocupadas  \\\n",
       "0   Públicas       Hospitalización General    Neonatal             107   \n",
       "1   Públicas       Hospitalización General  Pediátrico             208   \n",
       "2   Públicas       Hospitalización General      Adulto            1070   \n",
       "3   Públicas  Unidad de Cuidado Intermedio    Neonatal              92   \n",
       "4   Públicas  Unidad de Cuidado Intermedio  Pediátrico               7   \n",
       "5   Públicas  Unidad de Cuidado Intermedio      Adulto              46   \n",
       "6   Públicas   Unidad de cuidado intensivo    Neonatal              55   \n",
       "7   Públicas   Unidad de cuidado intensivo  Pediátrico              12   \n",
       "8   Públicas   Unidad de cuidado intensivo      Adulto             244   \n",
       "9   Privadas       Hospitalización General    Neonatal             120   \n",
       "10  Privadas       Hospitalización General  Pediátrico             776   \n",
       "11  Privadas       Hospitalización General      Adulto            4458   \n",
       "12  Privadas  Unidad de Cuidado Intermedio    Neonatal             172   \n",
       "13  Privadas  Unidad de Cuidado Intermedio  Pediátrico              43   \n",
       "14  Privadas  Unidad de Cuidado Intermedio      Adulto             426   \n",
       "15  Privadas   Unidad de cuidado intensivo    Neonatal             129   \n",
       "16  Privadas   Unidad de cuidado intensivo  Pediátrico              73   \n",
       "17  Privadas   Unidad de cuidado intensivo      Adulto            1156   \n",
       "\n",
       "    Camas habilitadas  Camas disponibles Porcentaje de Ocupación  \\\n",
       "0                 138                 31                     78%   \n",
       "1                 399                191                     52%   \n",
       "2                1314                244                     81%   \n",
       "3                 126                 34                     73%   \n",
       "4                  12                  5                     58%   \n",
       "5                  48                  2                     96%   \n",
       "6                  68                 13                     81%   \n",
       "7                  29                 17                     41%   \n",
       "8                 280                 36                     87%   \n",
       "9                 162                 42                     74%   \n",
       "10               1230                454                     63%   \n",
       "11               5415                957                     82%   \n",
       "12                252                 80                     68%   \n",
       "13                 70                 27                     61%   \n",
       "14                537                111                     79%   \n",
       "15                202                 73                     64%   \n",
       "16                154                 81                     47%   \n",
       "17               1291                135                     90%   \n",
       "\n",
       "   Fecha Actualización  \n",
       "0           13/07/2020  \n",
       "1           13/07/2020  \n",
       "2           13/07/2020  \n",
       "3           13/07/2020  \n",
       "4           13/07/2020  \n",
       "5           13/07/2020  \n",
       "6           13/07/2020  \n",
       "7           13/07/2020  \n",
       "8           13/07/2020  \n",
       "9           13/07/2020  \n",
       "10          13/07/2020  \n",
       "11          13/07/2020  \n",
       "12          13/07/2020  \n",
       "13          13/07/2020  \n",
       "14          13/07/2020  \n",
       "15          13/07/2020  \n",
       "16          13/07/2020  \n",
       "17          13/07/2020  "
      ]
     },
     "execution_count": 8,
     "metadata": {},
     "output_type": "execute_result"
    }
   ],
   "source": [
    "camas"
   ]
  },
  {
   "cell_type": "code",
   "execution_count": 9,
   "metadata": {},
   "outputs": [],
   "source": [
    "camas_grouped = camas.groupby( 'Servicio' ).agg( { 'Camas Ocupadas': 'sum', 'Camas habilitadas': 'sum', 'Camas disponibles': 'sum' } ).reset_index()"
   ]
  },
  {
   "cell_type": "code",
   "execution_count": 10,
   "metadata": {},
   "outputs": [],
   "source": [
    "camas_grouped[ '% Ocupación' ] = camas_grouped[ 'Camas Ocupadas' ] / camas_grouped[ 'Camas habilitadas' ]"
   ]
  },
  {
   "cell_type": "code",
   "execution_count": 11,
   "metadata": {},
   "outputs": [],
   "source": [
    "camas_grouped[ 'Servicio' ] = camas_grouped[ 'Servicio' ].replace( { 'Hospitalización General': 'General', 'Unidad de Cuidado Intermedio': 'Intermedio', 'Unidad de cuidado intensivo': 'UCI' } )"
   ]
  },
  {
   "cell_type": "code",
   "execution_count": 12,
   "metadata": {},
   "outputs": [],
   "source": [
    "camas_grouped.rename( columns = { '% Ocupación': 'Ocupacion' }, inplace = True )"
   ]
  },
  {
   "cell_type": "code",
   "execution_count": 13,
   "metadata": {},
   "outputs": [],
   "source": [
    "ucis = pd.read_csv( './data/uci_bogota.csv' )"
   ]
  },
  {
   "cell_type": "code",
   "execution_count": 14,
   "metadata": {},
   "outputs": [],
   "source": [
    "ucis_num = ucis[ 'Camas UCI ocupadas Covid-19' ].values[ -1 ]"
   ]
  },
  {
   "cell_type": "code",
   "execution_count": 15,
   "metadata": {},
   "outputs": [
    {
     "data": {
      "text/plain": [
       "1083"
      ]
     },
     "execution_count": 15,
     "metadata": {},
     "output_type": "execute_result"
    }
   ],
   "source": [
    "ucis_num"
   ]
  },
  {
   "cell_type": "code",
   "execution_count": 16,
   "metadata": {},
   "outputs": [
    {
     "data": {
      "text/plain": [
       "[0, 0, 1083]"
      ]
     },
     "execution_count": 16,
     "metadata": {},
     "output_type": "execute_result"
    }
   ],
   "source": [
    "listofzeros = [ 0 ] * 3\n",
    "listofzeros[ list( camas_grouped[ 'Servicio' ].values ).index( 'UCI' ) ] = ucis_num\n",
    "listofzeros"
   ]
  },
  {
   "cell_type": "code",
   "execution_count": 17,
   "metadata": {},
   "outputs": [],
   "source": [
    "camas_grouped[ 'Camas Ocupadas COVID' ] = pd.Series( listofzeros )"
   ]
  },
  {
   "cell_type": "code",
   "execution_count": 18,
   "metadata": {},
   "outputs": [],
   "source": [
    "camas_grouped[ 'Camas Ocupadas' ] = camas_grouped[ 'Camas Ocupadas' ] - camas_grouped[ 'Camas Ocupadas COVID' ]"
   ]
  },
  {
   "cell_type": "raw",
   "metadata": {},
   "source": [
    "camas_grouped.columns = [ 'Servicio', 'Camas Ocupadas', 'Camas Ocupadas COVID', 'Camas habilitadas', 'Camas disponibles', 'Ocupacion' ]"
   ]
  },
  {
   "cell_type": "code",
   "execution_count": 19,
   "metadata": {},
   "outputs": [
    {
     "data": {
      "text/html": [
       "<div>\n",
       "<style scoped>\n",
       "    .dataframe tbody tr th:only-of-type {\n",
       "        vertical-align: middle;\n",
       "    }\n",
       "\n",
       "    .dataframe tbody tr th {\n",
       "        vertical-align: top;\n",
       "    }\n",
       "\n",
       "    .dataframe thead th {\n",
       "        text-align: right;\n",
       "    }\n",
       "</style>\n",
       "<table border=\"1\" class=\"dataframe\">\n",
       "  <thead>\n",
       "    <tr style=\"text-align: right;\">\n",
       "      <th></th>\n",
       "      <th>Servicio</th>\n",
       "      <th>Camas Ocupadas</th>\n",
       "      <th>Camas habilitadas</th>\n",
       "      <th>Camas disponibles</th>\n",
       "      <th>Ocupacion</th>\n",
       "      <th>Camas Ocupadas COVID</th>\n",
       "    </tr>\n",
       "  </thead>\n",
       "  <tbody>\n",
       "    <tr>\n",
       "      <th>0</th>\n",
       "      <td>General</td>\n",
       "      <td>6739</td>\n",
       "      <td>8658</td>\n",
       "      <td>1919</td>\n",
       "      <td>0.778355</td>\n",
       "      <td>0</td>\n",
       "    </tr>\n",
       "    <tr>\n",
       "      <th>1</th>\n",
       "      <td>Intermedio</td>\n",
       "      <td>786</td>\n",
       "      <td>1045</td>\n",
       "      <td>259</td>\n",
       "      <td>0.752153</td>\n",
       "      <td>0</td>\n",
       "    </tr>\n",
       "    <tr>\n",
       "      <th>2</th>\n",
       "      <td>UCI</td>\n",
       "      <td>586</td>\n",
       "      <td>2024</td>\n",
       "      <td>355</td>\n",
       "      <td>0.824605</td>\n",
       "      <td>1083</td>\n",
       "    </tr>\n",
       "  </tbody>\n",
       "</table>\n",
       "</div>"
      ],
      "text/plain": [
       "     Servicio  Camas Ocupadas  Camas habilitadas  Camas disponibles  \\\n",
       "0     General            6739               8658               1919   \n",
       "1  Intermedio             786               1045                259   \n",
       "2         UCI             586               2024                355   \n",
       "\n",
       "   Ocupacion  Camas Ocupadas COVID  \n",
       "0   0.778355                     0  \n",
       "1   0.752153                     0  \n",
       "2   0.824605                  1083  "
      ]
     },
     "execution_count": 19,
     "metadata": {},
     "output_type": "execute_result"
    }
   ],
   "source": [
    "camas_grouped"
   ]
  },
  {
   "cell_type": "code",
   "execution_count": 20,
   "metadata": {},
   "outputs": [],
   "source": [
    "camas_grouped.to_csv( './data/camas_bogota.csv', index = False )"
   ]
  },
  {
   "cell_type": "code",
   "execution_count": null,
   "metadata": {},
   "outputs": [],
   "source": []
  },
  {
   "cell_type": "code",
   "execution_count": null,
   "metadata": {},
   "outputs": [],
   "source": []
  }
 ],
 "metadata": {
  "kernelspec": {
   "display_name": "Python 3",
   "language": "python",
   "name": "python3"
  },
  "language_info": {
   "codemirror_mode": {
    "name": "ipython",
    "version": 3
   },
   "file_extension": ".py",
   "mimetype": "text/x-python",
   "name": "python",
   "nbconvert_exporter": "python",
   "pygments_lexer": "ipython3",
   "version": "3.7.6"
  }
 },
 "nbformat": 4,
 "nbformat_minor": 4
}
