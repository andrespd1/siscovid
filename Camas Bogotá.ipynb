{
 "cells": [
  {
   "cell_type": "code",
   "execution_count": 1,
   "metadata": {},
   "outputs": [],
   "source": [
    "# Datos: https://datosabiertos.bogota.gov.co/dataset/8c2a07f9-5948-41ca-8f7a-447753426ab9/resource/4911565b-4518-4931-93de-d117c10dbdce/download/osb_ocupacion_hosp_ucis.csv"
   ]
  },
  {
   "cell_type": "code",
   "execution_count": 2,
   "metadata": {},
   "outputs": [],
   "source": [
    "import requests\n",
    "import pandas as pd"
   ]
  },
  {
   "cell_type": "code",
   "execution_count": 3,
   "metadata": {},
   "outputs": [],
   "source": [
    "URL = 'https://datosabiertos.bogota.gov.co/dataset/8c2a07f9-5948-41ca-8f7a-447753426ab9/resource/4911565b-4518-4931-93de-d117c10dbdce/download/osb_ocupacion_hosp_ucis.csv'\n",
    "FILEPATH = './data/camas_bogota_raw.csv'"
   ]
  },
  {
   "cell_type": "code",
   "execution_count": 4,
   "metadata": {},
   "outputs": [],
   "source": [
    "r = requests.get( URL, stream = True )\n",
    "\n",
    "with open( FILEPATH, 'wb' ) as f:\n",
    "    f.write( r.content )"
   ]
  },
  {
   "cell_type": "code",
   "execution_count": 5,
   "metadata": {},
   "outputs": [],
   "source": [
    "camas = pd.read_csv( './data/camas_bogota_raw.csv', encoding = 'ISO-8859-1', dtype = { 'Camas Ocupadas': str, 'Camas habilitadas': str, 'Camas disponibles': str } )"
   ]
  },
  {
   "cell_type": "code",
   "execution_count": 6,
   "metadata": {},
   "outputs": [],
   "source": [
    "camas[ 'Camas Ocupadas' ] = camas[ 'Camas Ocupadas' ].apply( lambda x: str( x ).replace( '.', '' ) ).astype( int )\n",
    "camas[ 'Camas habilitadas' ] = camas[ 'Camas habilitadas' ].apply( lambda x: str( x ).replace( '.', '' ) ).astype( int )\n",
    "camas[ 'Camas disponibles' ] = camas[ 'Camas disponibles' ].apply( lambda x: str( x ).replace( '.', '' ) ).astype( int )"
   ]
  },
  {
   "cell_type": "code",
   "execution_count": 7,
   "metadata": {},
   "outputs": [
    {
     "data": {
      "text/plain": [
       "IPS                        object\n",
       "Servicio                   object\n",
       "Grupo                      object\n",
       "Camas Ocupadas              int64\n",
       "Camas habilitadas           int64\n",
       "Camas disponibles           int64\n",
       "Porcentaje de Ocupación    object\n",
       "Fecha Actualización        object\n",
       "dtype: object"
      ]
     },
     "execution_count": 7,
     "metadata": {},
     "output_type": "execute_result"
    }
   ],
   "source": [
    "camas.dtypes"
   ]
  },
  {
   "cell_type": "code",
   "execution_count": 8,
   "metadata": {},
   "outputs": [
    {
     "data": {
      "text/html": [
       "<div>\n",
       "<style scoped>\n",
       "    .dataframe tbody tr th:only-of-type {\n",
       "        vertical-align: middle;\n",
       "    }\n",
       "\n",
       "    .dataframe tbody tr th {\n",
       "        vertical-align: top;\n",
       "    }\n",
       "\n",
       "    .dataframe thead th {\n",
       "        text-align: right;\n",
       "    }\n",
       "</style>\n",
       "<table border=\"1\" class=\"dataframe\">\n",
       "  <thead>\n",
       "    <tr style=\"text-align: right;\">\n",
       "      <th></th>\n",
       "      <th>IPS</th>\n",
       "      <th>Servicio</th>\n",
       "      <th>Grupo</th>\n",
       "      <th>Camas Ocupadas</th>\n",
       "      <th>Camas habilitadas</th>\n",
       "      <th>Camas disponibles</th>\n",
       "      <th>Porcentaje de Ocupación</th>\n",
       "      <th>Fecha Actualización</th>\n",
       "    </tr>\n",
       "  </thead>\n",
       "  <tbody>\n",
       "    <tr>\n",
       "      <th>0</th>\n",
       "      <td>Públicas</td>\n",
       "      <td>Hospitalización General</td>\n",
       "      <td>Neonatal</td>\n",
       "      <td>109</td>\n",
       "      <td>138</td>\n",
       "      <td>29</td>\n",
       "      <td>79%</td>\n",
       "      <td>15/07/2020</td>\n",
       "    </tr>\n",
       "    <tr>\n",
       "      <th>1</th>\n",
       "      <td>Públicas</td>\n",
       "      <td>Hospitalización General</td>\n",
       "      <td>Pediátrico</td>\n",
       "      <td>225</td>\n",
       "      <td>399</td>\n",
       "      <td>174</td>\n",
       "      <td>56%</td>\n",
       "      <td>15/07/2020</td>\n",
       "    </tr>\n",
       "    <tr>\n",
       "      <th>2</th>\n",
       "      <td>Públicas</td>\n",
       "      <td>Hospitalización General</td>\n",
       "      <td>Adulto</td>\n",
       "      <td>1049</td>\n",
       "      <td>1283</td>\n",
       "      <td>234</td>\n",
       "      <td>82%</td>\n",
       "      <td>15/07/2020</td>\n",
       "    </tr>\n",
       "    <tr>\n",
       "      <th>3</th>\n",
       "      <td>Públicas</td>\n",
       "      <td>Unidad de Cuidado Intermedio</td>\n",
       "      <td>Neonatal</td>\n",
       "      <td>88</td>\n",
       "      <td>126</td>\n",
       "      <td>38</td>\n",
       "      <td>70%</td>\n",
       "      <td>15/07/2020</td>\n",
       "    </tr>\n",
       "    <tr>\n",
       "      <th>4</th>\n",
       "      <td>Públicas</td>\n",
       "      <td>Unidad de Cuidado Intermedio</td>\n",
       "      <td>Pediátrico</td>\n",
       "      <td>7</td>\n",
       "      <td>12</td>\n",
       "      <td>5</td>\n",
       "      <td>58%</td>\n",
       "      <td>15/07/2020</td>\n",
       "    </tr>\n",
       "    <tr>\n",
       "      <th>5</th>\n",
       "      <td>Públicas</td>\n",
       "      <td>Unidad de Cuidado Intermedio</td>\n",
       "      <td>Adulto</td>\n",
       "      <td>42</td>\n",
       "      <td>46</td>\n",
       "      <td>4</td>\n",
       "      <td>91%</td>\n",
       "      <td>15/07/2020</td>\n",
       "    </tr>\n",
       "    <tr>\n",
       "      <th>6</th>\n",
       "      <td>Públicas</td>\n",
       "      <td>Unidad de cuidado intensivo</td>\n",
       "      <td>Neonatal</td>\n",
       "      <td>53</td>\n",
       "      <td>68</td>\n",
       "      <td>15</td>\n",
       "      <td>78%</td>\n",
       "      <td>15/07/2020</td>\n",
       "    </tr>\n",
       "    <tr>\n",
       "      <th>7</th>\n",
       "      <td>Públicas</td>\n",
       "      <td>Unidad de cuidado intensivo</td>\n",
       "      <td>Pediátrico</td>\n",
       "      <td>9</td>\n",
       "      <td>28</td>\n",
       "      <td>19</td>\n",
       "      <td>32%</td>\n",
       "      <td>15/07/2020</td>\n",
       "    </tr>\n",
       "    <tr>\n",
       "      <th>8</th>\n",
       "      <td>Públicas</td>\n",
       "      <td>Unidad de cuidado intensivo</td>\n",
       "      <td>Adulto</td>\n",
       "      <td>206</td>\n",
       "      <td>280</td>\n",
       "      <td>74</td>\n",
       "      <td>74%</td>\n",
       "      <td>15/07/2020</td>\n",
       "    </tr>\n",
       "    <tr>\n",
       "      <th>9</th>\n",
       "      <td>Privadas</td>\n",
       "      <td>Hospitalización General</td>\n",
       "      <td>Neonatal</td>\n",
       "      <td>97</td>\n",
       "      <td>162</td>\n",
       "      <td>65</td>\n",
       "      <td>60%</td>\n",
       "      <td>15/07/2020</td>\n",
       "    </tr>\n",
       "    <tr>\n",
       "      <th>10</th>\n",
       "      <td>Privadas</td>\n",
       "      <td>Hospitalización General</td>\n",
       "      <td>Pediátrico</td>\n",
       "      <td>744</td>\n",
       "      <td>1213</td>\n",
       "      <td>469</td>\n",
       "      <td>61%</td>\n",
       "      <td>15/07/2020</td>\n",
       "    </tr>\n",
       "    <tr>\n",
       "      <th>11</th>\n",
       "      <td>Privadas</td>\n",
       "      <td>Hospitalización General</td>\n",
       "      <td>Adulto</td>\n",
       "      <td>4452</td>\n",
       "      <td>5476</td>\n",
       "      <td>1024</td>\n",
       "      <td>81%</td>\n",
       "      <td>15/07/2020</td>\n",
       "    </tr>\n",
       "    <tr>\n",
       "      <th>12</th>\n",
       "      <td>Privadas</td>\n",
       "      <td>Unidad de Cuidado Intermedio</td>\n",
       "      <td>Neonatal</td>\n",
       "      <td>183</td>\n",
       "      <td>252</td>\n",
       "      <td>69</td>\n",
       "      <td>73%</td>\n",
       "      <td>15/07/2020</td>\n",
       "    </tr>\n",
       "    <tr>\n",
       "      <th>13</th>\n",
       "      <td>Privadas</td>\n",
       "      <td>Unidad de Cuidado Intermedio</td>\n",
       "      <td>Pediátrico</td>\n",
       "      <td>41</td>\n",
       "      <td>70</td>\n",
       "      <td>29</td>\n",
       "      <td>59%</td>\n",
       "      <td>15/07/2020</td>\n",
       "    </tr>\n",
       "    <tr>\n",
       "      <th>14</th>\n",
       "      <td>Privadas</td>\n",
       "      <td>Unidad de Cuidado Intermedio</td>\n",
       "      <td>Adulto</td>\n",
       "      <td>355</td>\n",
       "      <td>476</td>\n",
       "      <td>121</td>\n",
       "      <td>75%</td>\n",
       "      <td>15/07/2020</td>\n",
       "    </tr>\n",
       "    <tr>\n",
       "      <th>15</th>\n",
       "      <td>Privadas</td>\n",
       "      <td>Unidad de cuidado intensivo</td>\n",
       "      <td>Neonatal</td>\n",
       "      <td>125</td>\n",
       "      <td>202</td>\n",
       "      <td>77</td>\n",
       "      <td>62%</td>\n",
       "      <td>15/07/2020</td>\n",
       "    </tr>\n",
       "    <tr>\n",
       "      <th>16</th>\n",
       "      <td>Privadas</td>\n",
       "      <td>Unidad de cuidado intensivo</td>\n",
       "      <td>Pediátrico</td>\n",
       "      <td>64</td>\n",
       "      <td>142</td>\n",
       "      <td>78</td>\n",
       "      <td>45%</td>\n",
       "      <td>15/07/2020</td>\n",
       "    </tr>\n",
       "    <tr>\n",
       "      <th>17</th>\n",
       "      <td>Privadas</td>\n",
       "      <td>Unidad de cuidado intensivo</td>\n",
       "      <td>Adulto</td>\n",
       "      <td>1216</td>\n",
       "      <td>1376</td>\n",
       "      <td>160</td>\n",
       "      <td>88%</td>\n",
       "      <td>15/07/2020</td>\n",
       "    </tr>\n",
       "  </tbody>\n",
       "</table>\n",
       "</div>"
      ],
      "text/plain": [
       "         IPS                      Servicio       Grupo  Camas Ocupadas  \\\n",
       "0   Públicas       Hospitalización General    Neonatal             109   \n",
       "1   Públicas       Hospitalización General  Pediátrico             225   \n",
       "2   Públicas       Hospitalización General      Adulto            1049   \n",
       "3   Públicas  Unidad de Cuidado Intermedio    Neonatal              88   \n",
       "4   Públicas  Unidad de Cuidado Intermedio  Pediátrico               7   \n",
       "5   Públicas  Unidad de Cuidado Intermedio      Adulto              42   \n",
       "6   Públicas   Unidad de cuidado intensivo    Neonatal              53   \n",
       "7   Públicas   Unidad de cuidado intensivo  Pediátrico               9   \n",
       "8   Públicas   Unidad de cuidado intensivo      Adulto             206   \n",
       "9   Privadas       Hospitalización General    Neonatal              97   \n",
       "10  Privadas       Hospitalización General  Pediátrico             744   \n",
       "11  Privadas       Hospitalización General      Adulto            4452   \n",
       "12  Privadas  Unidad de Cuidado Intermedio    Neonatal             183   \n",
       "13  Privadas  Unidad de Cuidado Intermedio  Pediátrico              41   \n",
       "14  Privadas  Unidad de Cuidado Intermedio      Adulto             355   \n",
       "15  Privadas   Unidad de cuidado intensivo    Neonatal             125   \n",
       "16  Privadas   Unidad de cuidado intensivo  Pediátrico              64   \n",
       "17  Privadas   Unidad de cuidado intensivo      Adulto            1216   \n",
       "\n",
       "    Camas habilitadas  Camas disponibles Porcentaje de Ocupación  \\\n",
       "0                 138                 29                     79%   \n",
       "1                 399                174                     56%   \n",
       "2                1283                234                     82%   \n",
       "3                 126                 38                     70%   \n",
       "4                  12                  5                     58%   \n",
       "5                  46                  4                     91%   \n",
       "6                  68                 15                     78%   \n",
       "7                  28                 19                     32%   \n",
       "8                 280                 74                     74%   \n",
       "9                 162                 65                     60%   \n",
       "10               1213                469                     61%   \n",
       "11               5476               1024                     81%   \n",
       "12                252                 69                     73%   \n",
       "13                 70                 29                     59%   \n",
       "14                476                121                     75%   \n",
       "15                202                 77                     62%   \n",
       "16                142                 78                     45%   \n",
       "17               1376                160                     88%   \n",
       "\n",
       "   Fecha Actualización  \n",
       "0           15/07/2020  \n",
       "1           15/07/2020  \n",
       "2           15/07/2020  \n",
       "3           15/07/2020  \n",
       "4           15/07/2020  \n",
       "5           15/07/2020  \n",
       "6           15/07/2020  \n",
       "7           15/07/2020  \n",
       "8           15/07/2020  \n",
       "9           15/07/2020  \n",
       "10          15/07/2020  \n",
       "11          15/07/2020  \n",
       "12          15/07/2020  \n",
       "13          15/07/2020  \n",
       "14          15/07/2020  \n",
       "15          15/07/2020  \n",
       "16          15/07/2020  \n",
       "17          15/07/2020  "
      ]
     },
     "execution_count": 8,
     "metadata": {},
     "output_type": "execute_result"
    }
   ],
   "source": [
    "camas"
   ]
  },
  {
   "cell_type": "code",
   "execution_count": 9,
   "metadata": {},
   "outputs": [],
   "source": [
    "camas_grouped = camas.groupby( 'Servicio' ).agg( { 'Camas Ocupadas': 'sum', 'Camas habilitadas': 'sum', 'Camas disponibles': 'sum' } ).reset_index()"
   ]
  },
  {
   "cell_type": "code",
   "execution_count": 10,
   "metadata": {},
   "outputs": [],
   "source": [
    "camas_grouped[ '% Ocupación' ] = camas_grouped[ 'Camas Ocupadas' ] / camas_grouped[ 'Camas habilitadas' ]"
   ]
  },
  {
   "cell_type": "code",
   "execution_count": 11,
   "metadata": {},
   "outputs": [],
   "source": [
    "camas_grouped[ 'Servicio' ] = camas_grouped[ 'Servicio' ].replace( { 'Hospitalización General': 'General', 'Unidad de Cuidado Intermedio': 'Intermedio', 'Unidad de cuidado intensivo': 'UCI' } )"
   ]
  },
  {
   "cell_type": "code",
   "execution_count": 12,
   "metadata": {},
   "outputs": [],
   "source": [
    "camas_grouped.rename( columns = { '% Ocupación': 'Ocupacion' }, inplace = True )"
   ]
  },
  {
   "cell_type": "code",
   "execution_count": 13,
   "metadata": {},
   "outputs": [],
   "source": [
    "ucis = pd.read_csv( './data/uci_bogota.csv' )"
   ]
  },
  {
   "cell_type": "code",
   "execution_count": 14,
   "metadata": {},
   "outputs": [],
   "source": [
    "ucis_num = ucis[ 'Camas UCI ocupadas Covid-19' ].values[ -1 ]"
   ]
  },
  {
   "cell_type": "code",
   "execution_count": 15,
   "metadata": {},
   "outputs": [
    {
     "data": {
      "text/plain": [
       "1164"
      ]
     },
     "execution_count": 15,
     "metadata": {},
     "output_type": "execute_result"
    }
   ],
   "source": [
    "ucis_num"
   ]
  },
  {
   "cell_type": "code",
   "execution_count": 16,
   "metadata": {},
   "outputs": [
    {
     "data": {
      "text/plain": [
       "[0, 0, 1164]"
      ]
     },
     "execution_count": 16,
     "metadata": {},
     "output_type": "execute_result"
    }
   ],
   "source": [
    "listofzeros = [ 0 ] * 3\n",
    "listofzeros[ list( camas_grouped[ 'Servicio' ].values ).index( 'UCI' ) ] = ucis_num\n",
    "listofzeros"
   ]
  },
  {
   "cell_type": "code",
   "execution_count": 17,
   "metadata": {},
   "outputs": [],
   "source": [
    "camas_grouped[ 'Camas Ocupadas COVID' ] = pd.Series( listofzeros )"
   ]
  },
  {
   "cell_type": "code",
   "execution_count": 18,
   "metadata": {},
   "outputs": [],
   "source": [
    "camas_grouped[ 'Camas Ocupadas' ] = camas_grouped[ 'Camas Ocupadas' ] - camas_grouped[ 'Camas Ocupadas COVID' ]"
   ]
  },
  {
   "cell_type": "raw",
   "metadata": {},
   "source": [
    "camas_grouped.columns = [ 'Servicio', 'Camas Ocupadas', 'Camas Ocupadas COVID', 'Camas habilitadas', 'Camas disponibles', 'Ocupacion' ]"
   ]
  },
  {
   "cell_type": "code",
   "execution_count": 19,
   "metadata": {},
   "outputs": [
    {
     "data": {
      "text/html": [
       "<div>\n",
       "<style scoped>\n",
       "    .dataframe tbody tr th:only-of-type {\n",
       "        vertical-align: middle;\n",
       "    }\n",
       "\n",
       "    .dataframe tbody tr th {\n",
       "        vertical-align: top;\n",
       "    }\n",
       "\n",
       "    .dataframe thead th {\n",
       "        text-align: right;\n",
       "    }\n",
       "</style>\n",
       "<table border=\"1\" class=\"dataframe\">\n",
       "  <thead>\n",
       "    <tr style=\"text-align: right;\">\n",
       "      <th></th>\n",
       "      <th>Servicio</th>\n",
       "      <th>Camas Ocupadas</th>\n",
       "      <th>Camas habilitadas</th>\n",
       "      <th>Camas disponibles</th>\n",
       "      <th>Ocupacion</th>\n",
       "      <th>Camas Ocupadas COVID</th>\n",
       "    </tr>\n",
       "  </thead>\n",
       "  <tbody>\n",
       "    <tr>\n",
       "      <th>0</th>\n",
       "      <td>General</td>\n",
       "      <td>6676</td>\n",
       "      <td>8671</td>\n",
       "      <td>1995</td>\n",
       "      <td>0.769923</td>\n",
       "      <td>0</td>\n",
       "    </tr>\n",
       "    <tr>\n",
       "      <th>1</th>\n",
       "      <td>Intermedio</td>\n",
       "      <td>716</td>\n",
       "      <td>982</td>\n",
       "      <td>266</td>\n",
       "      <td>0.729124</td>\n",
       "      <td>0</td>\n",
       "    </tr>\n",
       "    <tr>\n",
       "      <th>2</th>\n",
       "      <td>UCI</td>\n",
       "      <td>509</td>\n",
       "      <td>2096</td>\n",
       "      <td>423</td>\n",
       "      <td>0.798187</td>\n",
       "      <td>1164</td>\n",
       "    </tr>\n",
       "  </tbody>\n",
       "</table>\n",
       "</div>"
      ],
      "text/plain": [
       "     Servicio  Camas Ocupadas  Camas habilitadas  Camas disponibles  \\\n",
       "0     General            6676               8671               1995   \n",
       "1  Intermedio             716                982                266   \n",
       "2         UCI             509               2096                423   \n",
       "\n",
       "   Ocupacion  Camas Ocupadas COVID  \n",
       "0   0.769923                     0  \n",
       "1   0.729124                     0  \n",
       "2   0.798187                  1164  "
      ]
     },
     "execution_count": 19,
     "metadata": {},
     "output_type": "execute_result"
    }
   ],
   "source": [
    "camas_grouped"
   ]
  },
  {
   "cell_type": "code",
   "execution_count": 20,
   "metadata": {},
   "outputs": [],
   "source": [
    "camas_grouped.to_csv( './data/camas_bogota.csv', index = False )"
   ]
  },
  {
   "cell_type": "code",
   "execution_count": null,
   "metadata": {},
   "outputs": [],
   "source": []
  },
  {
   "cell_type": "code",
   "execution_count": null,
   "metadata": {},
   "outputs": [],
   "source": []
  }
 ],
 "metadata": {
  "kernelspec": {
   "display_name": "Python 3",
   "language": "python",
   "name": "python3"
  },
  "language_info": {
   "codemirror_mode": {
    "name": "ipython",
    "version": 3
   },
   "file_extension": ".py",
   "mimetype": "text/x-python",
   "name": "python",
   "nbconvert_exporter": "python",
   "pygments_lexer": "ipython3",
   "version": "3.7.6"
  }
 },
 "nbformat": 4,
 "nbformat_minor": 4
}
