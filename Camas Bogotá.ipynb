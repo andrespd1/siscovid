{
 "cells": [
  {
   "cell_type": "code",
   "execution_count": null,
   "metadata": {},
   "outputs": [],
   "source": [
    "# Datos: https://datosabiertos.bogota.gov.co/dataset/8c2a07f9-5948-41ca-8f7a-447753426ab9/resource/4911565b-4518-4931-93de-d117c10dbdce/download/osb_ocupacion_hosp_ucis.csv"
   ]
  },
  {
   "cell_type": "code",
   "execution_count": 1,
   "metadata": {},
   "outputs": [],
   "source": [
    "import requests\n",
    "import pandas as pd\n",
    "from google.cloud import storage"
   ]
  },
  {
   "cell_type": "code",
   "execution_count": 2,
   "metadata": {},
   "outputs": [],
   "source": [
    "URL = 'https://datosabiertos.bogota.gov.co/dataset/8c2a07f9-5948-41ca-8f7a-447753426ab9/resource/4911565b-4518-4931-93de-d117c10dbdce/download/osb_ocupacion_hosp_ucis.csv'\n",
    "FILEPATH = './data/camas_bogota_raw.csv'"
   ]
  },
  {
   "cell_type": "code",
   "execution_count": 3,
   "metadata": {},
   "outputs": [],
   "source": [
    "r = requests.get( URL, stream = True )\n",
    "\n",
    "with open( FILEPATH, 'wb' ) as f:\n",
    "    f.write( r.content )"
   ]
  },
  {
   "cell_type": "code",
   "execution_count": 4,
   "metadata": {},
   "outputs": [],
   "source": [
    "camas = pd.read_csv( './data/camas_bogota_raw.csv', encoding = 'ISO-8859-1', dtype = { 'Camas Ocupadas': str, 'Camas habilitadas': str, 'Camas disponibles': str } )"
   ]
  },
  {
   "cell_type": "code",
   "execution_count": 5,
   "metadata": {},
   "outputs": [],
   "source": [
    "camas[ 'Camas Ocupadas' ] = camas[ 'Camas Ocupadas' ].apply( lambda x: str( x ).replace( '.', '' ) ).astype( int )\n",
    "camas[ 'Camas habilitadas' ] = camas[ 'Camas habilitadas' ].apply( lambda x: str( x ).replace( '.', '' ) ).astype( int )\n",
    "camas[ 'Camas disponibles' ] = camas[ 'Camas disponibles' ].apply( lambda x: str( x ).replace( '.', '' ) ).astype( int )"
   ]
  },
  {
   "cell_type": "code",
   "execution_count": 6,
   "metadata": {},
   "outputs": [
    {
     "data": {
      "text/plain": [
       "IPS                        object\n",
       "Servicio                   object\n",
       "Grupo                      object\n",
       "Camas Ocupadas              int32\n",
       "Camas habilitadas           int32\n",
       "Camas disponibles           int32\n",
       "Porcentaje de Ocupación    object\n",
       "Fecha Actualización        object\n",
       "dtype: object"
      ]
     },
     "execution_count": 6,
     "metadata": {},
     "output_type": "execute_result"
    }
   ],
   "source": [
    "camas.dtypes"
   ]
  },
  {
   "cell_type": "code",
   "execution_count": 7,
   "metadata": {},
   "outputs": [
    {
     "data": {
      "text/html": [
       "<div>\n",
       "<style scoped>\n",
       "    .dataframe tbody tr th:only-of-type {\n",
       "        vertical-align: middle;\n",
       "    }\n",
       "\n",
       "    .dataframe tbody tr th {\n",
       "        vertical-align: top;\n",
       "    }\n",
       "\n",
       "    .dataframe thead th {\n",
       "        text-align: right;\n",
       "    }\n",
       "</style>\n",
       "<table border=\"1\" class=\"dataframe\">\n",
       "  <thead>\n",
       "    <tr style=\"text-align: right;\">\n",
       "      <th></th>\n",
       "      <th>IPS</th>\n",
       "      <th>Servicio</th>\n",
       "      <th>Grupo</th>\n",
       "      <th>Camas Ocupadas</th>\n",
       "      <th>Camas habilitadas</th>\n",
       "      <th>Camas disponibles</th>\n",
       "      <th>Porcentaje de Ocupación</th>\n",
       "      <th>Fecha Actualización</th>\n",
       "    </tr>\n",
       "  </thead>\n",
       "  <tbody>\n",
       "    <tr>\n",
       "      <th>0</th>\n",
       "      <td>Públicas</td>\n",
       "      <td>Hospitalización General</td>\n",
       "      <td>Neonatal</td>\n",
       "      <td>110</td>\n",
       "      <td>138</td>\n",
       "      <td>28</td>\n",
       "      <td>80%</td>\n",
       "      <td>12/08/2020</td>\n",
       "    </tr>\n",
       "    <tr>\n",
       "      <th>1</th>\n",
       "      <td>Públicas</td>\n",
       "      <td>Hospitalización General</td>\n",
       "      <td>Pediátrico</td>\n",
       "      <td>108</td>\n",
       "      <td>319</td>\n",
       "      <td>211</td>\n",
       "      <td>34%</td>\n",
       "      <td>12/08/2020</td>\n",
       "    </tr>\n",
       "    <tr>\n",
       "      <th>2</th>\n",
       "      <td>Públicas</td>\n",
       "      <td>Hospitalización General</td>\n",
       "      <td>Adulto</td>\n",
       "      <td>1070</td>\n",
       "      <td>1552</td>\n",
       "      <td>482</td>\n",
       "      <td>69%</td>\n",
       "      <td>12/08/2020</td>\n",
       "    </tr>\n",
       "    <tr>\n",
       "      <th>3</th>\n",
       "      <td>Públicas</td>\n",
       "      <td>Unidad de Cuidado Intermedio</td>\n",
       "      <td>Neonatal</td>\n",
       "      <td>98</td>\n",
       "      <td>126</td>\n",
       "      <td>28</td>\n",
       "      <td>78%</td>\n",
       "      <td>12/08/2020</td>\n",
       "    </tr>\n",
       "    <tr>\n",
       "      <th>4</th>\n",
       "      <td>Públicas</td>\n",
       "      <td>Unidad de Cuidado Intermedio</td>\n",
       "      <td>Pediátrico</td>\n",
       "      <td>3</td>\n",
       "      <td>8</td>\n",
       "      <td>5</td>\n",
       "      <td>38%</td>\n",
       "      <td>12/08/2020</td>\n",
       "    </tr>\n",
       "    <tr>\n",
       "      <th>5</th>\n",
       "      <td>Públicas</td>\n",
       "      <td>Unidad de Cuidado Intermedio</td>\n",
       "      <td>Adulto</td>\n",
       "      <td>28</td>\n",
       "      <td>40</td>\n",
       "      <td>12</td>\n",
       "      <td>70%</td>\n",
       "      <td>12/08/2020</td>\n",
       "    </tr>\n",
       "    <tr>\n",
       "      <th>6</th>\n",
       "      <td>Públicas</td>\n",
       "      <td>Unidad de cuidado intensivo</td>\n",
       "      <td>Neonatal</td>\n",
       "      <td>54</td>\n",
       "      <td>68</td>\n",
       "      <td>14</td>\n",
       "      <td>79%</td>\n",
       "      <td>12/08/2020</td>\n",
       "    </tr>\n",
       "    <tr>\n",
       "      <th>7</th>\n",
       "      <td>Públicas</td>\n",
       "      <td>Unidad de cuidado intensivo</td>\n",
       "      <td>Pediátrico</td>\n",
       "      <td>14</td>\n",
       "      <td>24</td>\n",
       "      <td>10</td>\n",
       "      <td>58%</td>\n",
       "      <td>12/08/2020</td>\n",
       "    </tr>\n",
       "    <tr>\n",
       "      <th>8</th>\n",
       "      <td>Públicas</td>\n",
       "      <td>Unidad de cuidado intensivo</td>\n",
       "      <td>Adulto</td>\n",
       "      <td>375</td>\n",
       "      <td>410</td>\n",
       "      <td>35</td>\n",
       "      <td>91%</td>\n",
       "      <td>12/08/2020</td>\n",
       "    </tr>\n",
       "    <tr>\n",
       "      <th>9</th>\n",
       "      <td>Privadas</td>\n",
       "      <td>Hospitalización General</td>\n",
       "      <td>Neonatal</td>\n",
       "      <td>121</td>\n",
       "      <td>162</td>\n",
       "      <td>41</td>\n",
       "      <td>75%</td>\n",
       "      <td>12/08/2020</td>\n",
       "    </tr>\n",
       "    <tr>\n",
       "      <th>10</th>\n",
       "      <td>Privadas</td>\n",
       "      <td>Hospitalización General</td>\n",
       "      <td>Pediátrico</td>\n",
       "      <td>652</td>\n",
       "      <td>1184</td>\n",
       "      <td>532</td>\n",
       "      <td>55%</td>\n",
       "      <td>12/08/2020</td>\n",
       "    </tr>\n",
       "    <tr>\n",
       "      <th>11</th>\n",
       "      <td>Privadas</td>\n",
       "      <td>Hospitalización General</td>\n",
       "      <td>Adulto</td>\n",
       "      <td>4355</td>\n",
       "      <td>5425</td>\n",
       "      <td>1070</td>\n",
       "      <td>80%</td>\n",
       "      <td>12/08/2020</td>\n",
       "    </tr>\n",
       "    <tr>\n",
       "      <th>12</th>\n",
       "      <td>Privadas</td>\n",
       "      <td>Unidad de Cuidado Intermedio</td>\n",
       "      <td>Neonatal</td>\n",
       "      <td>160</td>\n",
       "      <td>255</td>\n",
       "      <td>95</td>\n",
       "      <td>63%</td>\n",
       "      <td>12/08/2020</td>\n",
       "    </tr>\n",
       "    <tr>\n",
       "      <th>13</th>\n",
       "      <td>Privadas</td>\n",
       "      <td>Unidad de Cuidado Intermedio</td>\n",
       "      <td>Pediátrico</td>\n",
       "      <td>39</td>\n",
       "      <td>69</td>\n",
       "      <td>30</td>\n",
       "      <td>57%</td>\n",
       "      <td>12/08/2020</td>\n",
       "    </tr>\n",
       "    <tr>\n",
       "      <th>14</th>\n",
       "      <td>Privadas</td>\n",
       "      <td>Unidad de Cuidado Intermedio</td>\n",
       "      <td>Adulto</td>\n",
       "      <td>221</td>\n",
       "      <td>379</td>\n",
       "      <td>158</td>\n",
       "      <td>58%</td>\n",
       "      <td>12/08/2020</td>\n",
       "    </tr>\n",
       "    <tr>\n",
       "      <th>15</th>\n",
       "      <td>Privadas</td>\n",
       "      <td>Unidad de cuidado intensivo</td>\n",
       "      <td>Neonatal</td>\n",
       "      <td>158</td>\n",
       "      <td>200</td>\n",
       "      <td>42</td>\n",
       "      <td>79%</td>\n",
       "      <td>12/08/2020</td>\n",
       "    </tr>\n",
       "    <tr>\n",
       "      <th>16</th>\n",
       "      <td>Privadas</td>\n",
       "      <td>Unidad de cuidado intensivo</td>\n",
       "      <td>Pediátrico</td>\n",
       "      <td>87</td>\n",
       "      <td>133</td>\n",
       "      <td>46</td>\n",
       "      <td>65%</td>\n",
       "      <td>12/08/2020</td>\n",
       "    </tr>\n",
       "    <tr>\n",
       "      <th>17</th>\n",
       "      <td>Privadas</td>\n",
       "      <td>Unidad de cuidado intensivo</td>\n",
       "      <td>Adulto</td>\n",
       "      <td>1466</td>\n",
       "      <td>1630</td>\n",
       "      <td>164</td>\n",
       "      <td>90%</td>\n",
       "      <td>12/08/2020</td>\n",
       "    </tr>\n",
       "  </tbody>\n",
       "</table>\n",
       "</div>"
      ],
      "text/plain": [
       "         IPS                      Servicio       Grupo  Camas Ocupadas  \\\n",
       "0   Públicas       Hospitalización General    Neonatal             110   \n",
       "1   Públicas       Hospitalización General  Pediátrico             108   \n",
       "2   Públicas       Hospitalización General      Adulto            1070   \n",
       "3   Públicas  Unidad de Cuidado Intermedio    Neonatal              98   \n",
       "4   Públicas  Unidad de Cuidado Intermedio  Pediátrico               3   \n",
       "5   Públicas  Unidad de Cuidado Intermedio      Adulto              28   \n",
       "6   Públicas   Unidad de cuidado intensivo    Neonatal              54   \n",
       "7   Públicas   Unidad de cuidado intensivo  Pediátrico              14   \n",
       "8   Públicas   Unidad de cuidado intensivo      Adulto             375   \n",
       "9   Privadas       Hospitalización General    Neonatal             121   \n",
       "10  Privadas       Hospitalización General  Pediátrico             652   \n",
       "11  Privadas       Hospitalización General      Adulto            4355   \n",
       "12  Privadas  Unidad de Cuidado Intermedio    Neonatal             160   \n",
       "13  Privadas  Unidad de Cuidado Intermedio  Pediátrico              39   \n",
       "14  Privadas  Unidad de Cuidado Intermedio      Adulto             221   \n",
       "15  Privadas   Unidad de cuidado intensivo    Neonatal             158   \n",
       "16  Privadas   Unidad de cuidado intensivo  Pediátrico              87   \n",
       "17  Privadas   Unidad de cuidado intensivo      Adulto            1466   \n",
       "\n",
       "    Camas habilitadas  Camas disponibles Porcentaje de Ocupación  \\\n",
       "0                 138                 28                     80%   \n",
       "1                 319                211                     34%   \n",
       "2                1552                482                     69%   \n",
       "3                 126                 28                     78%   \n",
       "4                   8                  5                     38%   \n",
       "5                  40                 12                     70%   \n",
       "6                  68                 14                     79%   \n",
       "7                  24                 10                     58%   \n",
       "8                 410                 35                     91%   \n",
       "9                 162                 41                     75%   \n",
       "10               1184                532                     55%   \n",
       "11               5425               1070                     80%   \n",
       "12                255                 95                     63%   \n",
       "13                 69                 30                     57%   \n",
       "14                379                158                     58%   \n",
       "15                200                 42                     79%   \n",
       "16                133                 46                     65%   \n",
       "17               1630                164                     90%   \n",
       "\n",
       "   Fecha Actualización  \n",
       "0           12/08/2020  \n",
       "1           12/08/2020  \n",
       "2           12/08/2020  \n",
       "3           12/08/2020  \n",
       "4           12/08/2020  \n",
       "5           12/08/2020  \n",
       "6           12/08/2020  \n",
       "7           12/08/2020  \n",
       "8           12/08/2020  \n",
       "9           12/08/2020  \n",
       "10          12/08/2020  \n",
       "11          12/08/2020  \n",
       "12          12/08/2020  \n",
       "13          12/08/2020  \n",
       "14          12/08/2020  \n",
       "15          12/08/2020  \n",
       "16          12/08/2020  \n",
       "17          12/08/2020  "
      ]
     },
     "execution_count": 7,
     "metadata": {},
     "output_type": "execute_result"
    }
   ],
   "source": [
    "camas"
   ]
  },
  {
   "cell_type": "code",
   "execution_count": 8,
   "metadata": {},
   "outputs": [],
   "source": [
    "camas_grouped = camas.groupby( 'Servicio' ).agg( { 'Camas Ocupadas': 'sum', 'Camas habilitadas': 'sum', 'Camas disponibles': 'sum' } ).reset_index()"
   ]
  },
  {
   "cell_type": "code",
   "execution_count": 9,
   "metadata": {},
   "outputs": [],
   "source": [
    "camas_grouped[ '% Ocupación' ] = camas_grouped[ 'Camas Ocupadas' ] / camas_grouped[ 'Camas habilitadas' ]"
   ]
  },
  {
   "cell_type": "code",
   "execution_count": 10,
   "metadata": {},
   "outputs": [],
   "source": [
    "camas_grouped[ 'Servicio' ] = camas_grouped[ 'Servicio' ].replace( { 'Hospitalización General': 'General', 'Unidad de Cuidado Intermedio': 'Intermedio', 'Unidad de cuidado intensivo': 'UCI' } )"
   ]
  },
  {
   "cell_type": "code",
   "execution_count": 11,
   "metadata": {},
   "outputs": [],
   "source": [
    "camas_grouped.rename( columns = { '% Ocupación': 'Ocupacion' }, inplace = True )"
   ]
  },
  {
   "cell_type": "code",
   "execution_count": 12,
   "metadata": {},
   "outputs": [],
   "source": [
    "ucis = pd.read_csv( 'https://storage.googleapis.com/siscovid/uci_bogota.csv' )"
   ]
  },
  {
   "cell_type": "code",
   "execution_count": 13,
   "metadata": {},
   "outputs": [],
   "source": [
    "ucis_num = ucis[ 'Camas UCI ocupadas Covid-19' ].values[ -1 ]"
   ]
  },
  {
   "cell_type": "code",
   "execution_count": 14,
   "metadata": {},
   "outputs": [
    {
     "data": {
      "text/plain": [
       "1517"
      ]
     },
     "execution_count": 14,
     "metadata": {},
     "output_type": "execute_result"
    }
   ],
   "source": [
    "ucis_num"
   ]
  },
  {
   "cell_type": "code",
   "execution_count": 15,
   "metadata": {},
   "outputs": [
    {
     "data": {
      "text/plain": [
       "[0, 0, 1517]"
      ]
     },
     "execution_count": 15,
     "metadata": {},
     "output_type": "execute_result"
    }
   ],
   "source": [
    "listofzeros = [ 0 ] * 3\n",
    "listofzeros[ list( camas_grouped[ 'Servicio' ].values ).index( 'UCI' ) ] = ucis_num\n",
    "listofzeros"
   ]
  },
  {
   "cell_type": "code",
   "execution_count": 16,
   "metadata": {},
   "outputs": [],
   "source": [
    "camas_grouped[ 'Camas Ocupadas COVID' ] = pd.Series( listofzeros )"
   ]
  },
  {
   "cell_type": "code",
   "execution_count": 17,
   "metadata": {},
   "outputs": [],
   "source": [
    "camas_grouped[ 'Camas Ocupadas' ] = camas_grouped[ 'Camas Ocupadas' ] - camas_grouped[ 'Camas Ocupadas COVID' ]"
   ]
  },
  {
   "cell_type": "raw",
   "metadata": {},
   "source": [
    "camas_grouped.columns = [ 'Servicio', 'Camas Ocupadas', 'Camas Ocupadas COVID', 'Camas habilitadas', 'Camas disponibles', 'Ocupacion' ]"
   ]
  },
  {
   "cell_type": "code",
   "execution_count": 18,
   "metadata": {},
   "outputs": [
    {
     "data": {
      "text/html": [
       "<div>\n",
       "<style scoped>\n",
       "    .dataframe tbody tr th:only-of-type {\n",
       "        vertical-align: middle;\n",
       "    }\n",
       "\n",
       "    .dataframe tbody tr th {\n",
       "        vertical-align: top;\n",
       "    }\n",
       "\n",
       "    .dataframe thead th {\n",
       "        text-align: right;\n",
       "    }\n",
       "</style>\n",
       "<table border=\"1\" class=\"dataframe\">\n",
       "  <thead>\n",
       "    <tr style=\"text-align: right;\">\n",
       "      <th></th>\n",
       "      <th>Servicio</th>\n",
       "      <th>Camas Ocupadas</th>\n",
       "      <th>Camas habilitadas</th>\n",
       "      <th>Camas disponibles</th>\n",
       "      <th>Ocupacion</th>\n",
       "      <th>Camas Ocupadas COVID</th>\n",
       "    </tr>\n",
       "  </thead>\n",
       "  <tbody>\n",
       "    <tr>\n",
       "      <th>0</th>\n",
       "      <td>General</td>\n",
       "      <td>6416</td>\n",
       "      <td>8780</td>\n",
       "      <td>2364</td>\n",
       "      <td>0.730752</td>\n",
       "      <td>0</td>\n",
       "    </tr>\n",
       "    <tr>\n",
       "      <th>1</th>\n",
       "      <td>Intermedio</td>\n",
       "      <td>549</td>\n",
       "      <td>877</td>\n",
       "      <td>328</td>\n",
       "      <td>0.625998</td>\n",
       "      <td>0</td>\n",
       "    </tr>\n",
       "    <tr>\n",
       "      <th>2</th>\n",
       "      <td>UCI</td>\n",
       "      <td>637</td>\n",
       "      <td>2465</td>\n",
       "      <td>311</td>\n",
       "      <td>0.873834</td>\n",
       "      <td>1517</td>\n",
       "    </tr>\n",
       "  </tbody>\n",
       "</table>\n",
       "</div>"
      ],
      "text/plain": [
       "     Servicio  Camas Ocupadas  Camas habilitadas  Camas disponibles  \\\n",
       "0     General            6416               8780               2364   \n",
       "1  Intermedio             549                877                328   \n",
       "2         UCI             637               2465                311   \n",
       "\n",
       "   Ocupacion  Camas Ocupadas COVID  \n",
       "0   0.730752                     0  \n",
       "1   0.625998                     0  \n",
       "2   0.873834                  1517  "
      ]
     },
     "execution_count": 18,
     "metadata": {},
     "output_type": "execute_result"
    }
   ],
   "source": [
    "camas_grouped"
   ]
  },
  {
   "cell_type": "code",
   "execution_count": 19,
   "metadata": {},
   "outputs": [],
   "source": [
    "#camas_grouped.to_csv( './data/camas_bogota.csv', index = False )"
   ]
  },
  {
   "cell_type": "code",
   "execution_count": 20,
   "metadata": {},
   "outputs": [],
   "source": [
    "#DataFrame to CSV\n",
    "csv_data=camas_grouped.to_csv(index=False)\n",
    "\n",
    "#Client, bucket and blob to acces gcloud\n",
    "client= storage.Client()\n",
    "bucket= client.get_bucket('siscovid')\n",
    "blob=bucket.blob('camas_bogota.csv')\n",
    "\n",
    "#Uploads the file to gcloud\n",
    "blob.upload_from_string(data=csv_data, content_type='text/csv')"
   ]
  },
  {
   "cell_type": "code",
   "execution_count": null,
   "metadata": {},
   "outputs": [],
   "source": []
  }
 ],
 "metadata": {
  "kernelspec": {
   "display_name": "Python 3",
   "language": "python",
   "name": "python3"
  },
  "language_info": {
   "codemirror_mode": {
    "name": "ipython",
    "version": 3
   },
   "file_extension": ".py",
   "mimetype": "text/x-python",
   "name": "python",
   "nbconvert_exporter": "python",
   "pygments_lexer": "ipython3",
   "version": "3.8.3"
  }
 },
 "nbformat": 4,
 "nbformat_minor": 4
}
