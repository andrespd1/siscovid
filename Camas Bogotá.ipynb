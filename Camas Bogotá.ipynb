{
 "cells": [
  {
   "cell_type": "code",
   "execution_count": 1,
   "metadata": {},
   "outputs": [],
   "source": [
    "# Datos: https://datosabiertos.bogota.gov.co/dataset/8c2a07f9-5948-41ca-8f7a-447753426ab9/resource/4911565b-4518-4931-93de-d117c10dbdce/download/osb_ocupacion_hosp_ucis.csv"
   ]
  },
  {
   "cell_type": "code",
   "execution_count": 2,
   "metadata": {},
   "outputs": [],
   "source": [
    "import requests\n",
    "import pandas as pd\n",
    "from google.cloud import storage"
   ]
  },
  {
   "cell_type": "code",
   "execution_count": 3,
   "metadata": {},
   "outputs": [],
   "source": [
    "URL = 'https://datosabiertos.bogota.gov.co/dataset/8c2a07f9-5948-41ca-8f7a-447753426ab9/resource/4911565b-4518-4931-93de-d117c10dbdce/download/osb_ocupacion_hosp_ucis.csv'\n",
    "FILEPATH = './data/camas_bogota_raw.csv'"
   ]
  },
  {
   "cell_type": "code",
   "execution_count": 4,
   "metadata": {},
   "outputs": [],
   "source": [
    "r = requests.get( URL, stream = True )\n",
    "\n",
    "with open( FILEPATH, 'wb' ) as f:\n",
    "    f.write( r.content )"
   ]
  },
  {
   "cell_type": "code",
   "execution_count": 8,
   "metadata": {},
   "outputs": [],
   "source": [
    "camas = pd.read_csv( './data/camas_bogota_raw.csv', sep = ';', encoding = 'ISO-8859-1', dtype = { 'Camas Ocupadas': str, 'Camas habilitadas': str, 'Camas disponibles': str } )"
   ]
  },
  {
   "cell_type": "code",
   "execution_count": 10,
   "metadata": {},
   "outputs": [],
   "source": [
    "camas[ 'Camas Ocupadas' ] = camas[ 'Camas Ocupadas' ].apply( lambda x: str( x ).replace( '.', '' ) ).astype( int )\n",
    "camas[ 'Camas habilitadas' ] = camas[ 'Camas habilitadas' ].apply( lambda x: str( x ).replace( '.', '' ) ).astype( int )\n",
    "camas[ 'Camas disponibles' ] = camas[ 'Camas disponibles' ].apply( lambda x: str( x ).replace( '.', '' ) ).astype( int )"
   ]
  },
  {
   "cell_type": "code",
   "execution_count": 11,
   "metadata": {},
   "outputs": [
    {
     "data": {
      "text/plain": [
       "IPS                        object\n",
       "Servicio                   object\n",
       "Grupo                      object\n",
       "Camas Ocupadas              int64\n",
       "Camas habilitadas           int64\n",
       "Camas disponibles           int64\n",
       "Porcentaje de Ocupación    object\n",
       "Fecha Actualización        object\n",
       "dtype: object"
      ]
     },
     "execution_count": 11,
     "metadata": {},
     "output_type": "execute_result"
    }
   ],
   "source": [
    "camas.dtypes"
   ]
  },
  {
   "cell_type": "code",
   "execution_count": 12,
   "metadata": {},
   "outputs": [
    {
     "data": {
      "text/html": [
       "<div>\n",
       "<style scoped>\n",
       "    .dataframe tbody tr th:only-of-type {\n",
       "        vertical-align: middle;\n",
       "    }\n",
       "\n",
       "    .dataframe tbody tr th {\n",
       "        vertical-align: top;\n",
       "    }\n",
       "\n",
       "    .dataframe thead th {\n",
       "        text-align: right;\n",
       "    }\n",
       "</style>\n",
       "<table border=\"1\" class=\"dataframe\">\n",
       "  <thead>\n",
       "    <tr style=\"text-align: right;\">\n",
       "      <th></th>\n",
       "      <th>IPS</th>\n",
       "      <th>Servicio</th>\n",
       "      <th>Grupo</th>\n",
       "      <th>Camas Ocupadas</th>\n",
       "      <th>Camas habilitadas</th>\n",
       "      <th>Camas disponibles</th>\n",
       "      <th>Porcentaje de Ocupación</th>\n",
       "      <th>Fecha Actualización</th>\n",
       "    </tr>\n",
       "  </thead>\n",
       "  <tbody>\n",
       "    <tr>\n",
       "      <th>0</th>\n",
       "      <td>Públicas</td>\n",
       "      <td>Hospitalización General</td>\n",
       "      <td>Neonatal</td>\n",
       "      <td>95</td>\n",
       "      <td>138</td>\n",
       "      <td>43</td>\n",
       "      <td>69%</td>\n",
       "      <td>17/10/2020</td>\n",
       "    </tr>\n",
       "    <tr>\n",
       "      <th>1</th>\n",
       "      <td>Públicas</td>\n",
       "      <td>Hospitalización General</td>\n",
       "      <td>Pediátrico</td>\n",
       "      <td>160</td>\n",
       "      <td>291</td>\n",
       "      <td>131</td>\n",
       "      <td>55%</td>\n",
       "      <td>17/10/2020</td>\n",
       "    </tr>\n",
       "    <tr>\n",
       "      <th>2</th>\n",
       "      <td>Públicas</td>\n",
       "      <td>Hospitalización General</td>\n",
       "      <td>Adulto</td>\n",
       "      <td>1007</td>\n",
       "      <td>1243</td>\n",
       "      <td>236</td>\n",
       "      <td>81%</td>\n",
       "      <td>17/10/2020</td>\n",
       "    </tr>\n",
       "    <tr>\n",
       "      <th>3</th>\n",
       "      <td>Públicas</td>\n",
       "      <td>Unidad de Cuidado Intermedio</td>\n",
       "      <td>Neonatal</td>\n",
       "      <td>79</td>\n",
       "      <td>126</td>\n",
       "      <td>47</td>\n",
       "      <td>63%</td>\n",
       "      <td>17/10/2020</td>\n",
       "    </tr>\n",
       "    <tr>\n",
       "      <th>4</th>\n",
       "      <td>Públicas</td>\n",
       "      <td>Unidad de Cuidado Intermedio</td>\n",
       "      <td>Pediátrico</td>\n",
       "      <td>4</td>\n",
       "      <td>8</td>\n",
       "      <td>4</td>\n",
       "      <td>50%</td>\n",
       "      <td>17/10/2020</td>\n",
       "    </tr>\n",
       "    <tr>\n",
       "      <th>5</th>\n",
       "      <td>Públicas</td>\n",
       "      <td>Unidad de Cuidado Intermedio</td>\n",
       "      <td>Adulto</td>\n",
       "      <td>22</td>\n",
       "      <td>41</td>\n",
       "      <td>19</td>\n",
       "      <td>54%</td>\n",
       "      <td>17/10/2020</td>\n",
       "    </tr>\n",
       "    <tr>\n",
       "      <th>6</th>\n",
       "      <td>Públicas</td>\n",
       "      <td>Unidad de cuidado intensivo</td>\n",
       "      <td>Neonatal</td>\n",
       "      <td>52</td>\n",
       "      <td>68</td>\n",
       "      <td>16</td>\n",
       "      <td>76%</td>\n",
       "      <td>17/10/2020</td>\n",
       "    </tr>\n",
       "    <tr>\n",
       "      <th>7</th>\n",
       "      <td>Públicas</td>\n",
       "      <td>Unidad de cuidado intensivo</td>\n",
       "      <td>Pediátrico</td>\n",
       "      <td>18</td>\n",
       "      <td>24</td>\n",
       "      <td>6</td>\n",
       "      <td>75%</td>\n",
       "      <td>17/10/2020</td>\n",
       "    </tr>\n",
       "    <tr>\n",
       "      <th>8</th>\n",
       "      <td>Públicas</td>\n",
       "      <td>Unidad de cuidado intensivo</td>\n",
       "      <td>Adulto</td>\n",
       "      <td>278</td>\n",
       "      <td>543</td>\n",
       "      <td>265</td>\n",
       "      <td>51%</td>\n",
       "      <td>17/10/2020</td>\n",
       "    </tr>\n",
       "    <tr>\n",
       "      <th>9</th>\n",
       "      <td>Privadas</td>\n",
       "      <td>Hospitalización General</td>\n",
       "      <td>Neonatal</td>\n",
       "      <td>121</td>\n",
       "      <td>149</td>\n",
       "      <td>28</td>\n",
       "      <td>81%</td>\n",
       "      <td>17/10/2020</td>\n",
       "    </tr>\n",
       "    <tr>\n",
       "      <th>10</th>\n",
       "      <td>Privadas</td>\n",
       "      <td>Hospitalización General</td>\n",
       "      <td>Pediátrico</td>\n",
       "      <td>788</td>\n",
       "      <td>1096</td>\n",
       "      <td>308</td>\n",
       "      <td>72%</td>\n",
       "      <td>17/10/2020</td>\n",
       "    </tr>\n",
       "    <tr>\n",
       "      <th>11</th>\n",
       "      <td>Privadas</td>\n",
       "      <td>Hospitalización General</td>\n",
       "      <td>Adulto</td>\n",
       "      <td>4499</td>\n",
       "      <td>5522</td>\n",
       "      <td>1023</td>\n",
       "      <td>81%</td>\n",
       "      <td>17/10/2020</td>\n",
       "    </tr>\n",
       "    <tr>\n",
       "      <th>12</th>\n",
       "      <td>Privadas</td>\n",
       "      <td>Unidad de Cuidado Intermedio</td>\n",
       "      <td>Neonatal</td>\n",
       "      <td>166</td>\n",
       "      <td>247</td>\n",
       "      <td>81</td>\n",
       "      <td>67%</td>\n",
       "      <td>17/10/2020</td>\n",
       "    </tr>\n",
       "    <tr>\n",
       "      <th>13</th>\n",
       "      <td>Privadas</td>\n",
       "      <td>Unidad de Cuidado Intermedio</td>\n",
       "      <td>Pediátrico</td>\n",
       "      <td>50</td>\n",
       "      <td>69</td>\n",
       "      <td>19</td>\n",
       "      <td>72%</td>\n",
       "      <td>17/10/2020</td>\n",
       "    </tr>\n",
       "    <tr>\n",
       "      <th>14</th>\n",
       "      <td>Privadas</td>\n",
       "      <td>Unidad de Cuidado Intermedio</td>\n",
       "      <td>Adulto</td>\n",
       "      <td>186</td>\n",
       "      <td>390</td>\n",
       "      <td>204</td>\n",
       "      <td>48%</td>\n",
       "      <td>17/10/2020</td>\n",
       "    </tr>\n",
       "    <tr>\n",
       "      <th>15</th>\n",
       "      <td>Privadas</td>\n",
       "      <td>Unidad de cuidado intensivo</td>\n",
       "      <td>Neonatal</td>\n",
       "      <td>161</td>\n",
       "      <td>191</td>\n",
       "      <td>30</td>\n",
       "      <td>84%</td>\n",
       "      <td>17/10/2020</td>\n",
       "    </tr>\n",
       "    <tr>\n",
       "      <th>16</th>\n",
       "      <td>Privadas</td>\n",
       "      <td>Unidad de cuidado intensivo</td>\n",
       "      <td>Pediátrico</td>\n",
       "      <td>109</td>\n",
       "      <td>143</td>\n",
       "      <td>34</td>\n",
       "      <td>76%</td>\n",
       "      <td>17/10/2020</td>\n",
       "    </tr>\n",
       "    <tr>\n",
       "      <th>17</th>\n",
       "      <td>Privadas</td>\n",
       "      <td>Unidad de cuidado intensivo</td>\n",
       "      <td>Adulto</td>\n",
       "      <td>1128</td>\n",
       "      <td>1636</td>\n",
       "      <td>508</td>\n",
       "      <td>69%</td>\n",
       "      <td>17/10/2020</td>\n",
       "    </tr>\n",
       "  </tbody>\n",
       "</table>\n",
       "</div>"
      ],
      "text/plain": [
       "         IPS                      Servicio       Grupo  Camas Ocupadas  \\\n",
       "0   Públicas       Hospitalización General    Neonatal              95   \n",
       "1   Públicas       Hospitalización General  Pediátrico             160   \n",
       "2   Públicas       Hospitalización General      Adulto            1007   \n",
       "3   Públicas  Unidad de Cuidado Intermedio    Neonatal              79   \n",
       "4   Públicas  Unidad de Cuidado Intermedio  Pediátrico               4   \n",
       "5   Públicas  Unidad de Cuidado Intermedio      Adulto              22   \n",
       "6   Públicas   Unidad de cuidado intensivo    Neonatal              52   \n",
       "7   Públicas   Unidad de cuidado intensivo  Pediátrico              18   \n",
       "8   Públicas   Unidad de cuidado intensivo      Adulto             278   \n",
       "9   Privadas       Hospitalización General    Neonatal             121   \n",
       "10  Privadas       Hospitalización General  Pediátrico             788   \n",
       "11  Privadas       Hospitalización General      Adulto            4499   \n",
       "12  Privadas  Unidad de Cuidado Intermedio    Neonatal             166   \n",
       "13  Privadas  Unidad de Cuidado Intermedio  Pediátrico              50   \n",
       "14  Privadas  Unidad de Cuidado Intermedio      Adulto             186   \n",
       "15  Privadas   Unidad de cuidado intensivo    Neonatal             161   \n",
       "16  Privadas   Unidad de cuidado intensivo  Pediátrico             109   \n",
       "17  Privadas   Unidad de cuidado intensivo      Adulto            1128   \n",
       "\n",
       "    Camas habilitadas  Camas disponibles Porcentaje de Ocupación  \\\n",
       "0                 138                 43                     69%   \n",
       "1                 291                131                     55%   \n",
       "2                1243                236                     81%   \n",
       "3                 126                 47                     63%   \n",
       "4                   8                  4                     50%   \n",
       "5                  41                 19                     54%   \n",
       "6                  68                 16                     76%   \n",
       "7                  24                  6                     75%   \n",
       "8                 543                265                     51%   \n",
       "9                 149                 28                     81%   \n",
       "10               1096                308                     72%   \n",
       "11               5522               1023                     81%   \n",
       "12                247                 81                     67%   \n",
       "13                 69                 19                     72%   \n",
       "14                390                204                     48%   \n",
       "15                191                 30                     84%   \n",
       "16                143                 34                     76%   \n",
       "17               1636                508                     69%   \n",
       "\n",
       "   Fecha Actualización  \n",
       "0           17/10/2020  \n",
       "1           17/10/2020  \n",
       "2           17/10/2020  \n",
       "3           17/10/2020  \n",
       "4           17/10/2020  \n",
       "5           17/10/2020  \n",
       "6           17/10/2020  \n",
       "7           17/10/2020  \n",
       "8           17/10/2020  \n",
       "9           17/10/2020  \n",
       "10          17/10/2020  \n",
       "11          17/10/2020  \n",
       "12          17/10/2020  \n",
       "13          17/10/2020  \n",
       "14          17/10/2020  \n",
       "15          17/10/2020  \n",
       "16          17/10/2020  \n",
       "17          17/10/2020  "
      ]
     },
     "execution_count": 12,
     "metadata": {},
     "output_type": "execute_result"
    }
   ],
   "source": [
    "camas"
   ]
  },
  {
   "cell_type": "code",
   "execution_count": 13,
   "metadata": {},
   "outputs": [],
   "source": [
    "camas_grouped = camas.groupby( 'Servicio' ).agg( { 'Camas Ocupadas': 'sum', 'Camas habilitadas': 'sum', 'Camas disponibles': 'sum' } ).reset_index()"
   ]
  },
  {
   "cell_type": "code",
   "execution_count": 14,
   "metadata": {},
   "outputs": [],
   "source": [
    "camas_grouped[ '% Ocupación' ] = camas_grouped[ 'Camas Ocupadas' ] / camas_grouped[ 'Camas habilitadas' ]"
   ]
  },
  {
   "cell_type": "code",
   "execution_count": 15,
   "metadata": {},
   "outputs": [],
   "source": [
    "camas_grouped[ 'Servicio' ] = camas_grouped[ 'Servicio' ].replace( { 'Hospitalización General': 'General', 'Unidad de Cuidado Intermedio': 'Intermedio', 'Unidad de cuidado intensivo': 'UCI' } )"
   ]
  },
  {
   "cell_type": "code",
   "execution_count": 16,
   "metadata": {},
   "outputs": [],
   "source": [
    "camas_grouped.rename( columns = { '% Ocupación': 'Ocupacion' }, inplace = True )"
   ]
  },
  {
   "cell_type": "code",
   "execution_count": 17,
   "metadata": {},
   "outputs": [],
   "source": [
    "ucis = pd.read_csv( 'https://storage.googleapis.com/siscovid/uci_bogota.csv' )"
   ]
  },
  {
   "cell_type": "code",
   "execution_count": 18,
   "metadata": {},
   "outputs": [],
   "source": [
    "ucis_num = ucis[ 'Camas UCI ocupadas Covid-19' ].values[ -1 ]"
   ]
  },
  {
   "cell_type": "code",
   "execution_count": 19,
   "metadata": {},
   "outputs": [
    {
     "data": {
      "text/plain": [
       "790"
      ]
     },
     "execution_count": 19,
     "metadata": {},
     "output_type": "execute_result"
    }
   ],
   "source": [
    "ucis_num"
   ]
  },
  {
   "cell_type": "code",
   "execution_count": 20,
   "metadata": {},
   "outputs": [
    {
     "data": {
      "text/plain": [
       "[0, 0, 790]"
      ]
     },
     "execution_count": 20,
     "metadata": {},
     "output_type": "execute_result"
    }
   ],
   "source": [
    "listofzeros = [ 0 ] * 3\n",
    "listofzeros[ list( camas_grouped[ 'Servicio' ].values ).index( 'UCI' ) ] = ucis_num\n",
    "listofzeros"
   ]
  },
  {
   "cell_type": "code",
   "execution_count": 21,
   "metadata": {},
   "outputs": [],
   "source": [
    "camas_grouped[ 'Camas Ocupadas COVID' ] = pd.Series( listofzeros )"
   ]
  },
  {
   "cell_type": "code",
   "execution_count": 22,
   "metadata": {},
   "outputs": [],
   "source": [
    "camas_grouped[ 'Camas Ocupadas' ] = camas_grouped[ 'Camas Ocupadas' ] - camas_grouped[ 'Camas Ocupadas COVID' ]"
   ]
  },
  {
   "cell_type": "raw",
   "metadata": {},
   "source": [
    "camas_grouped.columns = [ 'Servicio', 'Camas Ocupadas', 'Camas Ocupadas COVID', 'Camas habilitadas', 'Camas disponibles', 'Ocupacion' ]"
   ]
  },
  {
   "cell_type": "code",
   "execution_count": 23,
   "metadata": {},
   "outputs": [
    {
     "data": {
      "text/html": [
       "<div>\n",
       "<style scoped>\n",
       "    .dataframe tbody tr th:only-of-type {\n",
       "        vertical-align: middle;\n",
       "    }\n",
       "\n",
       "    .dataframe tbody tr th {\n",
       "        vertical-align: top;\n",
       "    }\n",
       "\n",
       "    .dataframe thead th {\n",
       "        text-align: right;\n",
       "    }\n",
       "</style>\n",
       "<table border=\"1\" class=\"dataframe\">\n",
       "  <thead>\n",
       "    <tr style=\"text-align: right;\">\n",
       "      <th></th>\n",
       "      <th>Servicio</th>\n",
       "      <th>Camas Ocupadas</th>\n",
       "      <th>Camas habilitadas</th>\n",
       "      <th>Camas disponibles</th>\n",
       "      <th>Ocupacion</th>\n",
       "      <th>Camas Ocupadas COVID</th>\n",
       "    </tr>\n",
       "  </thead>\n",
       "  <tbody>\n",
       "    <tr>\n",
       "      <th>0</th>\n",
       "      <td>General</td>\n",
       "      <td>6670</td>\n",
       "      <td>8439</td>\n",
       "      <td>1769</td>\n",
       "      <td>0.790378</td>\n",
       "      <td>0</td>\n",
       "    </tr>\n",
       "    <tr>\n",
       "      <th>1</th>\n",
       "      <td>Intermedio</td>\n",
       "      <td>507</td>\n",
       "      <td>881</td>\n",
       "      <td>374</td>\n",
       "      <td>0.575482</td>\n",
       "      <td>0</td>\n",
       "    </tr>\n",
       "    <tr>\n",
       "      <th>2</th>\n",
       "      <td>UCI</td>\n",
       "      <td>956</td>\n",
       "      <td>2605</td>\n",
       "      <td>859</td>\n",
       "      <td>0.670250</td>\n",
       "      <td>790</td>\n",
       "    </tr>\n",
       "  </tbody>\n",
       "</table>\n",
       "</div>"
      ],
      "text/plain": [
       "     Servicio  Camas Ocupadas  Camas habilitadas  Camas disponibles  \\\n",
       "0     General            6670               8439               1769   \n",
       "1  Intermedio             507                881                374   \n",
       "2         UCI             956               2605                859   \n",
       "\n",
       "   Ocupacion  Camas Ocupadas COVID  \n",
       "0   0.790378                     0  \n",
       "1   0.575482                     0  \n",
       "2   0.670250                   790  "
      ]
     },
     "execution_count": 23,
     "metadata": {},
     "output_type": "execute_result"
    }
   ],
   "source": [
    "camas_grouped"
   ]
  },
  {
   "cell_type": "code",
   "execution_count": 24,
   "metadata": {},
   "outputs": [],
   "source": [
    "camas_grouped.to_csv( './data/camas_bogota.csv', index = False )"
   ]
  },
  {
   "cell_type": "code",
   "execution_count": null,
   "metadata": {},
   "outputs": [],
   "source": [
    "#DataFrame to CSV\n",
    "csv_data=camas_grouped.to_csv(index=False)\n",
    "\n",
    "#Client, bucket and blob to acces gcloud\n",
    "client= storage.Client()\n",
    "bucket= client.get_bucket('siscovid')\n",
    "blob=bucket.blob('camas_bogota.csv')\n",
    "\n",
    "#Uploads the file to gcloud\n",
    "blob.upload_from_string(data=csv_data, content_type='text/csv')"
   ]
  },
  {
   "cell_type": "code",
   "execution_count": null,
   "metadata": {},
   "outputs": [],
   "source": []
  }
 ],
 "metadata": {
  "kernelspec": {
   "display_name": "Python 3",
   "language": "python",
   "name": "python3"
  },
  "language_info": {
   "codemirror_mode": {
    "name": "ipython",
    "version": 3
   },
   "file_extension": ".py",
   "mimetype": "text/x-python",
   "name": "python",
   "nbconvert_exporter": "python",
   "pygments_lexer": "ipython3",
   "version": "3.7.6"
  }
 },
 "nbformat": 4,
 "nbformat_minor": 4
}
