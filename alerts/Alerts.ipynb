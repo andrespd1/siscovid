{
 "cells": [
  {
   "cell_type": "code",
   "execution_count": 1,
   "metadata": {},
   "outputs": [],
   "source": [
    "import pandas as pd\n",
    "import matplotlib.pyplot as plt\n",
    "%matplotlib inline"
   ]
  },
  {
   "cell_type": "code",
   "execution_count": 2,
   "metadata": {},
   "outputs": [],
   "source": [
    "alerts_02nc_df = pd.read_excel( './data/Javier_DatosOrdenados.xlsx', sheet_name = '0.2 NC' )\n",
    "alerts_0225nc_df = pd.read_excel( './data/Javier_DatosOrdenados.xlsx', sheet_name = '0.225 NC' )\n",
    "alerts_025nc_df = pd.read_excel( './data/Javier_DatosOrdenados.xlsx', sheet_name = '0.25 NC' )\n",
    "\n",
    "alerts_02ld_df = pd.read_excel( './data/Javier_DatosOrdenados.xlsx', sheet_name = '0.2 LD' )\n",
    "alerts_0225ld_df = pd.read_excel( './data/Javier_DatosOrdenados.xlsx', sheet_name = '0.225 LD' )\n",
    "alerts_025ld_df = pd.read_excel( './data/Javier_DatosOrdenados.xlsx', sheet_name = '0.25 LD' )\n",
    "\n",
    "alerts_02la_df = pd.read_excel( './data/Javier_DatosOrdenados.xlsx', sheet_name = '0.2 LA' )\n",
    "alerts_0225la_df = pd.read_excel( './data/Javier_DatosOrdenados.xlsx', sheet_name = '0.225 LA' )\n",
    "alerts_025la_df = pd.read_excel( './data/Javier_DatosOrdenados.xlsx', sheet_name = '0.25 LA' )"
   ]
  },
  {
   "cell_type": "code",
   "execution_count": 3,
   "metadata": {},
   "outputs": [],
   "source": [
    "alerts_02nc_df = alerts_02nc_df[ [ 'date', 'ICU_occupancy' ] ]\n",
    "alerts_0225nc_df = alerts_0225nc_df[ [ 'date', 'ICU_occupancy' ] ]\n",
    "alerts_025nc_df = alerts_025nc_df[ [ 'date', 'ICU_occupancy' ] ]\n",
    "\n",
    "alerts_02ld_df = alerts_02ld_df[ [ 'date', 'ICU_occupancy' ] ]\n",
    "alerts_0225ld_df = alerts_0225ld_df[ [ 'date', 'ICU_occupancy' ] ]\n",
    "alerts_025ld_df = alerts_025ld_df[ [ 'date', 'ICU_occupancy' ] ]\n",
    "\n",
    "alerts_02la_df = alerts_02la_df[ [ 'date', 'ICU_occupancy' ] ]\n",
    "alerts_0225la_df = alerts_0225la_df[ [ 'date', 'ICU_occupancy' ] ]\n",
    "alerts_025la_df = alerts_025la_df[ [ 'date', 'ICU_occupancy' ] ]"
   ]
  },
  {
   "cell_type": "code",
   "execution_count": 4,
   "metadata": {},
   "outputs": [
    {
     "name": "stdout",
     "output_type": "stream",
     "text": [
      "(124, 2)\n",
      "(124, 2)\n",
      "(124, 2)\n",
      "(124, 2)\n",
      "(124, 2)\n",
      "(124, 2)\n",
      "(124, 2)\n",
      "(124, 2)\n",
      "(124, 2)\n"
     ]
    }
   ],
   "source": [
    "print( alerts_02nc_df.shape )\n",
    "print( alerts_0225nc_df.shape )\n",
    "print( alerts_025nc_df.shape )\n",
    "\n",
    "print( alerts_02ld_df.shape )\n",
    "print( alerts_0225ld_df.shape )\n",
    "print( alerts_025ld_df.shape )\n",
    "\n",
    "print( alerts_02la_df.shape )\n",
    "print( alerts_0225la_df.shape )\n",
    "print( alerts_025la_df.shape )"
   ]
  },
  {
   "cell_type": "code",
   "execution_count": 5,
   "metadata": {},
   "outputs": [],
   "source": [
    "alerts_02nc_df[ 'ICU_occupancy' ] = alerts_02nc_df[ 'ICU_occupancy' ].astype( int )\n",
    "alerts_0225nc_df[ 'ICU_occupancy' ] = alerts_0225nc_df[ 'ICU_occupancy' ].astype( int )\n",
    "alerts_025nc_df[ 'ICU_occupancy' ] = alerts_025nc_df[ 'ICU_occupancy' ].astype( int )\n",
    "\n",
    "alerts_02ld_df[ 'ICU_occupancy' ] = alerts_02ld_df[ 'ICU_occupancy' ].astype( int )\n",
    "alerts_0225ld_df[ 'ICU_occupancy' ] = alerts_0225ld_df[ 'ICU_occupancy' ].astype( int )\n",
    "alerts_025ld_df[ 'ICU_occupancy' ] = alerts_025ld_df[ 'ICU_occupancy' ].astype( int )\n",
    "\n",
    "alerts_02la_df[ 'ICU_occupancy' ] = alerts_02la_df[ 'ICU_occupancy' ].astype( int )\n",
    "alerts_0225la_df[ 'ICU_occupancy' ] = alerts_0225la_df[ 'ICU_occupancy' ].astype( int )\n",
    "alerts_025la_df[ 'ICU_occupancy' ] = alerts_025la_df[ 'ICU_occupancy' ].astype( int )"
   ]
  },
  {
   "cell_type": "code",
   "execution_count": 6,
   "metadata": {},
   "outputs": [
    {
     "name": "stdout",
     "output_type": "stream",
     "text": [
      "date             datetime64[ns]\n",
      "ICU_occupancy             int64\n",
      "dtype: object\n",
      "date             datetime64[ns]\n",
      "ICU_occupancy             int64\n",
      "dtype: object\n",
      "date             datetime64[ns]\n",
      "ICU_occupancy             int64\n",
      "dtype: object\n",
      "date             datetime64[ns]\n",
      "ICU_occupancy             int64\n",
      "dtype: object\n",
      "date             datetime64[ns]\n",
      "ICU_occupancy             int64\n",
      "dtype: object\n",
      "date             datetime64[ns]\n",
      "ICU_occupancy             int64\n",
      "dtype: object\n",
      "date             datetime64[ns]\n",
      "ICU_occupancy             int64\n",
      "dtype: object\n",
      "date             datetime64[ns]\n",
      "ICU_occupancy             int64\n",
      "dtype: object\n",
      "date             datetime64[ns]\n",
      "ICU_occupancy             int64\n",
      "dtype: object\n"
     ]
    }
   ],
   "source": [
    "print( alerts_02nc_df.dtypes )\n",
    "print( alerts_0225nc_df.dtypes )\n",
    "print( alerts_025nc_df.dtypes )\n",
    "\n",
    "print( alerts_02ld_df.dtypes )\n",
    "print( alerts_0225ld_df.dtypes )\n",
    "print( alerts_025ld_df.dtypes )\n",
    "\n",
    "print( alerts_02la_df.dtypes )\n",
    "print( alerts_0225la_df.dtypes )\n",
    "print( alerts_025la_df.dtypes )"
   ]
  },
  {
   "cell_type": "code",
   "execution_count": 7,
   "metadata": {},
   "outputs": [],
   "source": [
    "alerts_02nc_df.rename( columns = { 'ICU_occupancy': '02NC' }, inplace = True )\n",
    "alerts_0225nc_df.rename( columns = { 'ICU_occupancy': '0225NC' }, inplace = True )\n",
    "alerts_025nc_df.rename( columns = { 'ICU_occupancy': '025NC' }, inplace = True )\n",
    "\n",
    "alerts_02ld_df.rename( columns = { 'ICU_occupancy': '02LD' }, inplace = True )\n",
    "alerts_0225ld_df.rename( columns = { 'ICU_occupancy': '0225LD' }, inplace = True )\n",
    "alerts_025ld_df.rename( columns = { 'ICU_occupancy': '025LD' }, inplace = True )\n",
    "\n",
    "alerts_02la_df.rename( columns = { 'ICU_occupancy': '02LA' }, inplace = True )\n",
    "alerts_0225la_df.rename( columns = { 'ICU_occupancy': '0225LA' }, inplace = True )\n",
    "alerts_025la_df.rename( columns = { 'ICU_occupancy': '025LA' }, inplace = True )"
   ]
  },
  {
   "cell_type": "code",
   "execution_count": 8,
   "metadata": {},
   "outputs": [],
   "source": [
    "alerts_df = alerts_02nc_df.merge( alerts_0225nc_df, how = 'inner', on = 'date' ).merge( alerts_025nc_df, how = 'inner', on = 'date' ) \\\n",
    "    .merge( alerts_02ld_df, how = 'inner', on = 'date' ).merge( alerts_0225ld_df, how = 'inner', on = 'date' ).merge( alerts_025ld_df, how = 'inner', on = 'date' ) \\\n",
    "    .merge( alerts_02la_df, how = 'inner', on = 'date' ).merge( alerts_0225la_df, how = 'inner', on = 'date' ).merge( alerts_025la_df, how = 'inner', on = 'date' )"
   ]
  },
  {
   "cell_type": "code",
   "execution_count": 9,
   "metadata": {},
   "outputs": [
    {
     "data": {
      "text/html": [
       "<div>\n",
       "<style scoped>\n",
       "    .dataframe tbody tr th:only-of-type {\n",
       "        vertical-align: middle;\n",
       "    }\n",
       "\n",
       "    .dataframe tbody tr th {\n",
       "        vertical-align: top;\n",
       "    }\n",
       "\n",
       "    .dataframe thead th {\n",
       "        text-align: right;\n",
       "    }\n",
       "</style>\n",
       "<table border=\"1\" class=\"dataframe\">\n",
       "  <thead>\n",
       "    <tr style=\"text-align: right;\">\n",
       "      <th></th>\n",
       "      <th>date</th>\n",
       "      <th>02NC</th>\n",
       "      <th>0225NC</th>\n",
       "      <th>025NC</th>\n",
       "      <th>02LD</th>\n",
       "      <th>0225LD</th>\n",
       "      <th>025LD</th>\n",
       "      <th>02LA</th>\n",
       "      <th>0225LA</th>\n",
       "      <th>025LA</th>\n",
       "    </tr>\n",
       "  </thead>\n",
       "  <tbody>\n",
       "    <tr>\n",
       "      <th>0</th>\n",
       "      <td>2020-09-01</td>\n",
       "      <td>1383</td>\n",
       "      <td>1383</td>\n",
       "      <td>1383</td>\n",
       "      <td>1383</td>\n",
       "      <td>1383</td>\n",
       "      <td>1383</td>\n",
       "      <td>1383</td>\n",
       "      <td>1383</td>\n",
       "      <td>1383</td>\n",
       "    </tr>\n",
       "    <tr>\n",
       "      <th>1</th>\n",
       "      <td>2020-09-02</td>\n",
       "      <td>1339</td>\n",
       "      <td>1339</td>\n",
       "      <td>1339</td>\n",
       "      <td>1342</td>\n",
       "      <td>1340</td>\n",
       "      <td>1337</td>\n",
       "      <td>1337</td>\n",
       "      <td>1338</td>\n",
       "      <td>1340</td>\n",
       "    </tr>\n",
       "    <tr>\n",
       "      <th>2</th>\n",
       "      <td>2020-09-03</td>\n",
       "      <td>1301</td>\n",
       "      <td>1295</td>\n",
       "      <td>1300</td>\n",
       "      <td>1302</td>\n",
       "      <td>1301</td>\n",
       "      <td>1299</td>\n",
       "      <td>1299</td>\n",
       "      <td>1297</td>\n",
       "      <td>1298</td>\n",
       "    </tr>\n",
       "    <tr>\n",
       "      <th>3</th>\n",
       "      <td>2020-09-04</td>\n",
       "      <td>1266</td>\n",
       "      <td>1263</td>\n",
       "      <td>1261</td>\n",
       "      <td>1266</td>\n",
       "      <td>1262</td>\n",
       "      <td>1259</td>\n",
       "      <td>1266</td>\n",
       "      <td>1264</td>\n",
       "      <td>1263</td>\n",
       "    </tr>\n",
       "    <tr>\n",
       "      <th>4</th>\n",
       "      <td>2020-09-05</td>\n",
       "      <td>1238</td>\n",
       "      <td>1233</td>\n",
       "      <td>1234</td>\n",
       "      <td>1235</td>\n",
       "      <td>1231</td>\n",
       "      <td>1231</td>\n",
       "      <td>1236</td>\n",
       "      <td>1235</td>\n",
       "      <td>1238</td>\n",
       "    </tr>\n",
       "  </tbody>\n",
       "</table>\n",
       "</div>"
      ],
      "text/plain": [
       "        date  02NC  0225NC  025NC  02LD  0225LD  025LD  02LA  0225LA  025LA\n",
       "0 2020-09-01  1383    1383   1383  1383    1383   1383  1383    1383   1383\n",
       "1 2020-09-02  1339    1339   1339  1342    1340   1337  1337    1338   1340\n",
       "2 2020-09-03  1301    1295   1300  1302    1301   1299  1299    1297   1298\n",
       "3 2020-09-04  1266    1263   1261  1266    1262   1259  1266    1264   1263\n",
       "4 2020-09-05  1238    1233   1234  1235    1231   1231  1236    1235   1238"
      ]
     },
     "execution_count": 9,
     "metadata": {},
     "output_type": "execute_result"
    }
   ],
   "source": [
    "alerts_df.head()"
   ]
  },
  {
   "cell_type": "code",
   "execution_count": 10,
   "metadata": {},
   "outputs": [
    {
     "data": {
      "text/plain": [
       "[<matplotlib.lines.Line2D at 0x7f8c2a512cd0>]"
      ]
     },
     "execution_count": 10,
     "metadata": {},
     "output_type": "execute_result"
    },
    {
     "data": {
      "image/png": "[encoded data removed]",
      "text/plain": [
       "<Figure size 432x288 with 1 Axes>"
      ]
     },
     "metadata": {
      "needs_background": "light"
     },
     "output_type": "display_data"
    }
   ],
   "source": [
    "plt.plot( alerts_df[ 'date' ], alerts_df[ '02NC' ] )"
   ]
  },
  {
   "cell_type": "code",
   "execution_count": 11,
   "metadata": {},
   "outputs": [],
   "source": [
    "ucis_df = pd.read_csv( './data/uci_bogota.csv' ).rename( columns = { 'Fecha': 'date', 'Camas UCI ocupadas Covid-19': 'ucis' } )"
   ]
  },
  {
   "cell_type": "code",
   "execution_count": 12,
   "metadata": {},
   "outputs": [],
   "source": [
    "ucis_df[ 'date' ] = pd.to_datetime( ucis_df[ 'date' ] )\n",
    "ucis_df[ 'ucis' ] = ucis_df[ 'ucis' ].astype( int )"
   ]
  },
  {
   "cell_type": "code",
   "execution_count": 13,
   "metadata": {},
   "outputs": [
    {
     "data": {
      "text/plain": [
       "date    datetime64[ns]\n",
       "ucis             int64\n",
       "dtype: object"
      ]
     },
     "execution_count": 13,
     "metadata": {},
     "output_type": "execute_result"
    }
   ],
   "source": [
    "ucis_df.dtypes"
   ]
  },
  {
   "cell_type": "code",
   "execution_count": 14,
   "metadata": {},
   "outputs": [
    {
     "data": {
      "text/html": [
       "<div>\n",
       "<style scoped>\n",
       "    .dataframe tbody tr th:only-of-type {\n",
       "        vertical-align: middle;\n",
       "    }\n",
       "\n",
       "    .dataframe tbody tr th {\n",
       "        vertical-align: top;\n",
       "    }\n",
       "\n",
       "    .dataframe thead th {\n",
       "        text-align: right;\n",
       "    }\n",
       "</style>\n",
       "<table border=\"1\" class=\"dataframe\">\n",
       "  <thead>\n",
       "    <tr style=\"text-align: right;\">\n",
       "      <th></th>\n",
       "      <th>date</th>\n",
       "      <th>ucis</th>\n",
       "    </tr>\n",
       "  </thead>\n",
       "  <tbody>\n",
       "    <tr>\n",
       "      <th>0</th>\n",
       "      <td>2020-04-08</td>\n",
       "      <td>106</td>\n",
       "    </tr>\n",
       "    <tr>\n",
       "      <th>1</th>\n",
       "      <td>2020-04-09</td>\n",
       "      <td>136</td>\n",
       "    </tr>\n",
       "    <tr>\n",
       "      <th>2</th>\n",
       "      <td>2020-04-10</td>\n",
       "      <td>150</td>\n",
       "    </tr>\n",
       "    <tr>\n",
       "      <th>3</th>\n",
       "      <td>2020-04-11</td>\n",
       "      <td>148</td>\n",
       "    </tr>\n",
       "    <tr>\n",
       "      <th>4</th>\n",
       "      <td>2020-04-12</td>\n",
       "      <td>178</td>\n",
       "    </tr>\n",
       "  </tbody>\n",
       "</table>\n",
       "</div>"
      ],
      "text/plain": [
       "        date  ucis\n",
       "0 2020-04-08   106\n",
       "1 2020-04-09   136\n",
       "2 2020-04-10   150\n",
       "3 2020-04-11   148\n",
       "4 2020-04-12   178"
      ]
     },
     "execution_count": 14,
     "metadata": {},
     "output_type": "execute_result"
    }
   ],
   "source": [
    "ucis_df.head()"
   ]
  },
  {
   "cell_type": "code",
   "execution_count": 15,
   "metadata": {},
   "outputs": [
    {
     "data": {
      "text/html": [
       "<div>\n",
       "<style scoped>\n",
       "    .dataframe tbody tr th:only-of-type {\n",
       "        vertical-align: middle;\n",
       "    }\n",
       "\n",
       "    .dataframe tbody tr th {\n",
       "        vertical-align: top;\n",
       "    }\n",
       "\n",
       "    .dataframe thead th {\n",
       "        text-align: right;\n",
       "    }\n",
       "</style>\n",
       "<table border=\"1\" class=\"dataframe\">\n",
       "  <thead>\n",
       "    <tr style=\"text-align: right;\">\n",
       "      <th></th>\n",
       "      <th>date</th>\n",
       "      <th>ucis</th>\n",
       "    </tr>\n",
       "  </thead>\n",
       "  <tbody>\n",
       "    <tr>\n",
       "      <th>219</th>\n",
       "      <td>2020-11-14</td>\n",
       "      <td>772</td>\n",
       "    </tr>\n",
       "    <tr>\n",
       "      <th>220</th>\n",
       "      <td>2020-11-15</td>\n",
       "      <td>776</td>\n",
       "    </tr>\n",
       "    <tr>\n",
       "      <th>221</th>\n",
       "      <td>2020-11-16</td>\n",
       "      <td>762</td>\n",
       "    </tr>\n",
       "    <tr>\n",
       "      <th>222</th>\n",
       "      <td>2020-11-17</td>\n",
       "      <td>784</td>\n",
       "    </tr>\n",
       "    <tr>\n",
       "      <th>223</th>\n",
       "      <td>2020-11-18</td>\n",
       "      <td>790</td>\n",
       "    </tr>\n",
       "  </tbody>\n",
       "</table>\n",
       "</div>"
      ],
      "text/plain": [
       "          date  ucis\n",
       "219 2020-11-14   772\n",
       "220 2020-11-15   776\n",
       "221 2020-11-16   762\n",
       "222 2020-11-17   784\n",
       "223 2020-11-18   790"
      ]
     },
     "execution_count": 15,
     "metadata": {},
     "output_type": "execute_result"
    }
   ],
   "source": [
    "ucis_df.tail()"
   ]
  },
  {
   "cell_type": "code",
   "execution_count": 16,
   "metadata": {},
   "outputs": [],
   "source": [
    "alerts_df = alerts_df.merge( ucis_df, on = 'date', how = 'left' )"
   ]
  },
  {
   "cell_type": "code",
   "execution_count": 17,
   "metadata": {},
   "outputs": [
    {
     "data": {
      "text/html": [
       "<div>\n",
       "<style scoped>\n",
       "    .dataframe tbody tr th:only-of-type {\n",
       "        vertical-align: middle;\n",
       "    }\n",
       "\n",
       "    .dataframe tbody tr th {\n",
       "        vertical-align: top;\n",
       "    }\n",
       "\n",
       "    .dataframe thead th {\n",
       "        text-align: right;\n",
       "    }\n",
       "</style>\n",
       "<table border=\"1\" class=\"dataframe\">\n",
       "  <thead>\n",
       "    <tr style=\"text-align: right;\">\n",
       "      <th></th>\n",
       "      <th>date</th>\n",
       "      <th>02NC</th>\n",
       "      <th>0225NC</th>\n",
       "      <th>025NC</th>\n",
       "      <th>02LD</th>\n",
       "      <th>0225LD</th>\n",
       "      <th>025LD</th>\n",
       "      <th>02LA</th>\n",
       "      <th>0225LA</th>\n",
       "      <th>025LA</th>\n",
       "      <th>ucis</th>\n",
       "    </tr>\n",
       "  </thead>\n",
       "  <tbody>\n",
       "    <tr>\n",
       "      <th>0</th>\n",
       "      <td>2020-09-01</td>\n",
       "      <td>1383</td>\n",
       "      <td>1383</td>\n",
       "      <td>1383</td>\n",
       "      <td>1383</td>\n",
       "      <td>1383</td>\n",
       "      <td>1383</td>\n",
       "      <td>1383</td>\n",
       "      <td>1383</td>\n",
       "      <td>1383</td>\n",
       "      <td>1280.0</td>\n",
       "    </tr>\n",
       "    <tr>\n",
       "      <th>1</th>\n",
       "      <td>2020-09-02</td>\n",
       "      <td>1339</td>\n",
       "      <td>1339</td>\n",
       "      <td>1339</td>\n",
       "      <td>1342</td>\n",
       "      <td>1340</td>\n",
       "      <td>1337</td>\n",
       "      <td>1337</td>\n",
       "      <td>1338</td>\n",
       "      <td>1340</td>\n",
       "      <td>1259.0</td>\n",
       "    </tr>\n",
       "    <tr>\n",
       "      <th>2</th>\n",
       "      <td>2020-09-03</td>\n",
       "      <td>1301</td>\n",
       "      <td>1295</td>\n",
       "      <td>1300</td>\n",
       "      <td>1302</td>\n",
       "      <td>1301</td>\n",
       "      <td>1299</td>\n",
       "      <td>1299</td>\n",
       "      <td>1297</td>\n",
       "      <td>1298</td>\n",
       "      <td>1241.0</td>\n",
       "    </tr>\n",
       "    <tr>\n",
       "      <th>3</th>\n",
       "      <td>2020-09-04</td>\n",
       "      <td>1266</td>\n",
       "      <td>1263</td>\n",
       "      <td>1261</td>\n",
       "      <td>1266</td>\n",
       "      <td>1262</td>\n",
       "      <td>1259</td>\n",
       "      <td>1266</td>\n",
       "      <td>1264</td>\n",
       "      <td>1263</td>\n",
       "      <td>1189.0</td>\n",
       "    </tr>\n",
       "    <tr>\n",
       "      <th>4</th>\n",
       "      <td>2020-09-05</td>\n",
       "      <td>1238</td>\n",
       "      <td>1233</td>\n",
       "      <td>1234</td>\n",
       "      <td>1235</td>\n",
       "      <td>1231</td>\n",
       "      <td>1231</td>\n",
       "      <td>1236</td>\n",
       "      <td>1235</td>\n",
       "      <td>1238</td>\n",
       "      <td>1198.0</td>\n",
       "    </tr>\n",
       "  </tbody>\n",
       "</table>\n",
       "</div>"
      ],
      "text/plain": [
       "        date  02NC  0225NC  025NC  02LD  0225LD  025LD  02LA  0225LA  025LA  \\\n",
       "0 2020-09-01  1383    1383   1383  1383    1383   1383  1383    1383   1383   \n",
       "1 2020-09-02  1339    1339   1339  1342    1340   1337  1337    1338   1340   \n",
       "2 2020-09-03  1301    1295   1300  1302    1301   1299  1299    1297   1298   \n",
       "3 2020-09-04  1266    1263   1261  1266    1262   1259  1266    1264   1263   \n",
       "4 2020-09-05  1238    1233   1234  1235    1231   1231  1236    1235   1238   \n",
       "\n",
       "     ucis  \n",
       "0  1280.0  \n",
       "1  1259.0  \n",
       "2  1241.0  \n",
       "3  1189.0  \n",
       "4  1198.0  "
      ]
     },
     "execution_count": 17,
     "metadata": {},
     "output_type": "execute_result"
    }
   ],
   "source": [
    "alerts_df.head()"
   ]
  },
  {
   "cell_type": "code",
   "execution_count": 18,
   "metadata": {},
   "outputs": [],
   "source": [
    "alerts_df.to_csv( './data/alerts.csv', index = False )"
   ]
  },
  {
   "cell_type": "code",
   "execution_count": null,
   "metadata": {},
   "outputs": [],
   "source": []
  }
 ],
 "metadata": {
  "kernelspec": {
   "display_name": "Python 3",
   "language": "python",
   "name": "python3"
  },
  "language_info": {
   "codemirror_mode": {
    "name": "ipython",
    "version": 3
   },
   "file_extension": ".py",
   "mimetype": "text/x-python",
   "name": "python",
   "nbconvert_exporter": "python",
   "pygments_lexer": "ipython3",
   "version": "3.7.6"
  }
 },
 "nbformat": 4,
 "nbformat_minor": 4
}
