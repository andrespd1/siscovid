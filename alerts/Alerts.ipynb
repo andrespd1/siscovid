{
 "cells": [
  {
   "cell_type": "code",
   "execution_count": 1,
   "metadata": {},
   "outputs": [],
   "source": [
    "import pandas as pd\n",
    "import matplotlib.pyplot as plt\n",
    "%matplotlib inline"
   ]
  },
  {
   "cell_type": "code",
   "execution_count": 2,
   "metadata": {},
   "outputs": [],
   "source": [
    "alerts_02nc_df = pd.read_excel( './data/Javier_DatosOrdenados.xlsx', sheet_name = '0.2 NC' )\n",
    "alerts_0225nc_df = pd.read_excel( './data/Javier_DatosOrdenados.xlsx', sheet_name = '0.225 NC' )\n",
    "alerts_025nc_df = pd.read_excel( './data/Javier_DatosOrdenados.xlsx', sheet_name = '0.25 NC' )\n",
    "\n",
    "alerts_02ld_df = pd.read_excel( './data/Javier_DatosOrdenados.xlsx', sheet_name = '0.2 LD' )\n",
    "alerts_0225ld_df = pd.read_excel( './data/Javier_DatosOrdenados.xlsx', sheet_name = '0.225 LD' )\n",
    "alerts_025ld_df = pd.read_excel( './data/Javier_DatosOrdenados.xlsx', sheet_name = '0.25 LD' )\n",
    "\n",
    "alerts_02la_df = pd.read_excel( './data/Javier_DatosOrdenados.xlsx', sheet_name = '0.2 LA' )\n",
    "alerts_0225la_df = pd.read_excel( './data/Javier_DatosOrdenados.xlsx', sheet_name = '0.225 LA' )\n",
    "alerts_025la_df = pd.read_excel( './data/Javier_DatosOrdenados.xlsx', sheet_name = '0.25 LA' )"
   ]
  },
  {
   "cell_type": "code",
   "execution_count": 3,
   "metadata": {},
   "outputs": [],
   "source": [
    "alerts_02nc_df = alerts_02nc_df[ [ 'date', 'ICU_occupancy' ] ]\n",
    "alerts_0225nc_df = alerts_0225nc_df[ [ 'date', 'ICU_occupancy' ] ]\n",
    "alerts_025nc_df = alerts_025nc_df[ [ 'date', 'ICU_occupancy' ] ]\n",
    "\n",
    "alerts_02ld_df = alerts_02ld_df[ [ 'date', 'ICU_occupancy' ] ]\n",
    "alerts_0225ld_df = alerts_0225ld_df[ [ 'date', 'ICU_occupancy' ] ]\n",
    "alerts_025ld_df = alerts_025ld_df[ [ 'date', 'ICU_occupancy' ] ]\n",
    "\n",
    "alerts_02la_df = alerts_02la_df[ [ 'date', 'ICU_occupancy' ] ]\n",
    "alerts_0225la_df = alerts_0225la_df[ [ 'date', 'ICU_occupancy' ] ]\n",
    "alerts_025la_df = alerts_025la_df[ [ 'date', 'ICU_occupancy' ] ]"
   ]
  },
  {
   "cell_type": "code",
   "execution_count": 4,
   "metadata": {},
   "outputs": [
    {
     "name": "stdout",
     "output_type": "stream",
     "text": [
      "(124, 2)\n",
      "(124, 2)\n",
      "(124, 2)\n",
      "(124, 2)\n",
      "(124, 2)\n",
      "(124, 2)\n",
      "(124, 2)\n",
      "(124, 2)\n",
      "(124, 2)\n"
     ]
    }
   ],
   "source": [
    "print( alerts_02nc_df.shape )\n",
    "print( alerts_0225nc_df.shape )\n",
    "print( alerts_025nc_df.shape )\n",
    "\n",
    "print( alerts_02ld_df.shape )\n",
    "print( alerts_0225ld_df.shape )\n",
    "print( alerts_025ld_df.shape )\n",
    "\n",
    "print( alerts_02la_df.shape )\n",
    "print( alerts_0225la_df.shape )\n",
    "print( alerts_025la_df.shape )"
   ]
  },
  {
   "cell_type": "code",
   "execution_count": 9,
   "metadata": {},
   "outputs": [
    {
     "data": {
      "text/plain": [
       "0      1383\n",
       "1      1339\n",
       "2      1301\n",
       "3      1266\n",
       "4      1238\n",
       "       ... \n",
       "119     521\n",
       "120     501\n",
       "121     479\n",
       "122     461\n",
       "123     441\n",
       "Name: ICU_occupancy, Length: 124, dtype: int64"
      ]
     },
     "execution_count": 9,
     "metadata": {},
     "output_type": "execute_result"
    }
   ],
   "source": [
    "alerts_02nc_df[ 'ICU_occupancy' ] = alerts_02nc_df[ 'ICU_occupancy' ].astype( int )\n",
    "alerts_0225nc_df[ 'ICU_occupancy' ] = alerts_0225nc_df[ 'ICU_occupancy' ].astype( int )\n",
    "alerts_025nc_df[ 'ICU_occupancy' ] = alerts_02nc_df[ 'ICU_occupancy' ].astype( int )"
   ]
  },
  {
   "cell_type": "code",
   "execution_count": null,
   "metadata": {},
   "outputs": [],
   "source": [
    "print( alerts_02nc_df.dtypes )\n",
    "print( alerts_0225nc_df.dtypes )\n",
    "print( alerts_025nc_df.dtypes )\n",
    "\n",
    "print( alerts_02ld_df.dtypes )\n",
    "print( alerts_0225ld_df.dtypes )\n",
    "print( alerts_025ld_df.dtypes )\n",
    "\n",
    "print( alerts_02la_df.dtypes )\n",
    "print( alerts_0225la_df.dtypes )\n",
    "print( alerts_025la_df.dtypes )"
   ]
  },
  {
   "cell_type": "code",
   "execution_count": null,
   "metadata": {},
   "outputs": [],
   "source": [
    "alerts_02nc_df.rename( columns = { 'ICU_occupancy': '0.2 NC' }, inplace = True )\n",
    "alerts_0225nc_df.rename( columns = { 'ICU_occupancy': '0.225 NC' }, inplace = True )\n",
    "alerts_025nc_df.rename( columns = { 'ICU_occupancy': '0.25 NC' }, inplace = True )\n",
    "\n",
    "alerts_02ld_df.rename( columns = { 'ICU_occupancy': '0.2 LD' }, inplace = True )\n",
    "alerts_0225ld_df.rename( columns = { 'ICU_occupancy': '0.225 LD' }, inplace = True )\n",
    "alerts_025ld_df.rename( columns = { 'ICU_occupancy': '0.25 LD' }, inplace = True )\n",
    "\n",
    "alerts_02la_df.rename( columns = { 'ICU_occupancy': '0.2 LA' }, inplace = True )\n",
    "alerts_0225la_df.rename( columns = { 'ICU_occupancy': '0.225 LA' }, inplace = True )\n",
    "alerts_025la_df.rename( columns = { 'ICU_occupancy': '0.25 LA' }, inplace = True )"
   ]
  },
  {
   "cell_type": "code",
   "execution_count": null,
   "metadata": {},
   "outputs": [],
   "source": [
    "alerts_df = alerts_02nc_df.merge( alerts_0225nc_df, how = 'inner', on = 'date' ).merge( alerts_025nc_df, how = 'inner', on = 'date' ) \\\n",
    "    .merge( alerts_02ld_df, how = 'inner', on = 'date' ).merge( alerts_0225ld_df, how = 'inner', on = 'date' ).merge( alerts_025ld_df, how = 'inner', on = 'date' ) \\\n",
    "    .merge( alerts_02la_df, how = 'inner', on = 'date' ).merge( alerts_0225la_df, how = 'inner', on = 'date' ).merge( alerts_025la_df, how = 'inner', on = 'date' )"
   ]
  },
  {
   "cell_type": "code",
   "execution_count": null,
   "metadata": {},
   "outputs": [],
   "source": [
    "alerts_df.tail()"
   ]
  },
  {
   "cell_type": "code",
   "execution_count": null,
   "metadata": {},
   "outputs": [],
   "source": [
    "plt.plot( alerts_df[ 'date' ], alerts_df[ '0.2 NC' ] )"
   ]
  },
  {
   "cell_type": "code",
   "execution_count": null,
   "metadata": {},
   "outputs": [],
   "source": [
    "alerts_df.to_csv( './data/alerts.csv', index = False )"
   ]
  },
  {
   "cell_type": "code",
   "execution_count": null,
   "metadata": {},
   "outputs": [],
   "source": []
  }
 ],
 "metadata": {
  "kernelspec": {
   "display_name": "Python 3",
   "language": "python",
   "name": "python3"
  },
  "language_info": {
   "codemirror_mode": {
    "name": "ipython",
    "version": 3
   },
   "file_extension": ".py",
   "mimetype": "text/x-python",
   "name": "python",
   "nbconvert_exporter": "python",
   "pygments_lexer": "ipython3",
   "version": "3.7.6"
  }
 },
 "nbformat": 4,
 "nbformat_minor": 4
}
