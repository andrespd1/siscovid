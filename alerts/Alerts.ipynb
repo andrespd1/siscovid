{
 "cells": [
  {
   "cell_type": "code",
   "execution_count": 1,
   "metadata": {},
   "outputs": [],
   "source": [
    "import pandas as pd\n",
    "import matplotlib.pyplot as plt\n",
    "%matplotlib inline"
   ]
  },
  {
   "cell_type": "code",
   "execution_count": 2,
   "metadata": {},
   "outputs": [],
   "source": [
    "alerts_02nc_df = pd.read_excel( './data/Javier_DatosOrdenados.xlsx', sheet_name = '0.2 NC' )\n",
    "alerts_0225nc_df = pd.read_excel( './data/Javier_DatosOrdenados.xlsx', sheet_name = '0.225 NC' )\n",
    "alerts_025nc_df = pd.read_excel( './data/Javier_DatosOrdenados.xlsx', sheet_name = '0.25 NC' )\n",
    "\n",
    "alerts_02ld_df = pd.read_excel( './data/Javier_DatosOrdenados.xlsx', sheet_name = '0.2 LD' )\n",
    "alerts_0225ld_df = pd.read_excel( './data/Javier_DatosOrdenados.xlsx', sheet_name = '0.225 LD' )\n",
    "alerts_025ld_df = pd.read_excel( './data/Javier_DatosOrdenados.xlsx', sheet_name = '0.25 LD' )\n",
    "\n",
    "alerts_02la_df = pd.read_excel( './data/Javier_DatosOrdenados.xlsx', sheet_name = '0.2 LA' )\n",
    "alerts_0225la_df = pd.read_excel( './data/Javier_DatosOrdenados.xlsx', sheet_name = '0.225 LA' )\n",
    "alerts_025la_df = pd.read_excel( './data/Javier_DatosOrdenados.xlsx', sheet_name = '0.25 LA' )"
   ]
  },
  {
   "cell_type": "code",
   "execution_count": 3,
   "metadata": {},
   "outputs": [],
   "source": [
    "alerts_02nc_df = alerts_02nc_df[ [ 'date', 'ICU_occupancy' ] ]\n",
    "alerts_0225nc_df = alerts_0225nc_df[ [ 'date', 'ICU_occupancy' ] ]\n",
    "alerts_025nc_df = alerts_025nc_df[ [ 'date', 'ICU_occupancy' ] ]\n",
    "\n",
    "alerts_02ld_df = alerts_02ld_df[ [ 'date', 'ICU_occupancy' ] ]\n",
    "alerts_0225ld_df = alerts_0225ld_df[ [ 'date', 'ICU_occupancy' ] ]\n",
    "alerts_025ld_df = alerts_025ld_df[ [ 'date', 'ICU_occupancy' ] ]\n",
    "\n",
    "alerts_02la_df = alerts_02la_df[ [ 'date', 'ICU_occupancy' ] ]\n",
    "alerts_0225la_df = alerts_0225la_df[ [ 'date', 'ICU_occupancy' ] ]\n",
    "alerts_025la_df = alerts_025la_df[ [ 'date', 'ICU_occupancy' ] ]"
   ]
  },
  {
   "cell_type": "code",
   "execution_count": 4,
   "metadata": {},
   "outputs": [
    {
     "name": "stdout",
     "output_type": "stream",
     "text": [
      "(124, 2)\n",
      "(124, 2)\n",
      "(124, 2)\n",
      "(124, 2)\n",
      "(124, 2)\n",
      "(124, 2)\n",
      "(124, 2)\n",
      "(124, 2)\n",
      "(124, 2)\n"
     ]
    }
   ],
   "source": [
    "print( alerts_02nc_df.shape )\n",
    "print( alerts_0225nc_df.shape )\n",
    "print( alerts_025nc_df.shape )\n",
    "\n",
    "print( alerts_02ld_df.shape )\n",
    "print( alerts_0225ld_df.shape )\n",
    "print( alerts_025ld_df.shape )\n",
    "\n",
    "print( alerts_02la_df.shape )\n",
    "print( alerts_0225la_df.shape )\n",
    "print( alerts_025la_df.shape )"
   ]
  },
  {
   "cell_type": "code",
   "execution_count": 5,
   "metadata": {},
   "outputs": [
    {
     "name": "stdout",
     "output_type": "stream",
     "text": [
      "date             datetime64[ns]\n",
      "ICU_occupancy           float64\n",
      "dtype: object\n",
      "date             datetime64[ns]\n",
      "ICU_occupancy           float64\n",
      "dtype: object\n",
      "date             datetime64[ns]\n",
      "ICU_occupancy           float64\n",
      "dtype: object\n",
      "date             datetime64[ns]\n",
      "ICU_occupancy           float64\n",
      "dtype: object\n",
      "date             datetime64[ns]\n",
      "ICU_occupancy           float64\n",
      "dtype: object\n",
      "date             datetime64[ns]\n",
      "ICU_occupancy           float64\n",
      "dtype: object\n",
      "date             datetime64[ns]\n",
      "ICU_occupancy           float64\n",
      "dtype: object\n",
      "date             datetime64[ns]\n",
      "ICU_occupancy           float64\n",
      "dtype: object\n",
      "date             datetime64[ns]\n",
      "ICU_occupancy           float64\n",
      "dtype: object\n"
     ]
    }
   ],
   "source": [
    "print( alerts_02nc_df.dtypes )\n",
    "print( alerts_0225nc_df.dtypes )\n",
    "print( alerts_025nc_df.dtypes )\n",
    "\n",
    "print( alerts_02ld_df.dtypes )\n",
    "print( alerts_0225ld_df.dtypes )\n",
    "print( alerts_025ld_df.dtypes )\n",
    "\n",
    "print( alerts_02la_df.dtypes )\n",
    "print( alerts_0225la_df.dtypes )\n",
    "print( alerts_025la_df.dtypes )"
   ]
  },
  {
   "cell_type": "code",
   "execution_count": 8,
   "metadata": {},
   "outputs": [],
   "source": [
    "alerts_02nc_df.rename( columns = { 'ICU_occupancy': '0.2 NC' }, inplace = True )\n",
    "alerts_0225nc_df.rename( columns = { 'ICU_occupancy': '0.225 NC' }, inplace = True )\n",
    "alerts_025nc_df.rename( columns = { 'ICU_occupancy': '0.25 NC' }, inplace = True )\n",
    "\n",
    "alerts_02ld_df.rename( columns = { 'ICU_occupancy': '0.2 LD' }, inplace = True )\n",
    "alerts_0225ld_df.rename( columns = { 'ICU_occupancy': '0.225 LD' }, inplace = True )\n",
    "alerts_025ld_df.rename( columns = { 'ICU_occupancy': '0.25 LD' }, inplace = True )\n",
    "\n",
    "alerts_02la_df.rename( columns = { 'ICU_occupancy': '0.2 LA' }, inplace = True )\n",
    "alerts_0225la_df.rename( columns = { 'ICU_occupancy': '0.225 LA' }, inplace = True )\n",
    "alerts_025la_df.rename( columns = { 'ICU_occupancy': '0.25 LA' }, inplace = True )"
   ]
  },
  {
   "cell_type": "code",
   "execution_count": 12,
   "metadata": {},
   "outputs": [],
   "source": [
    "alerts_df = alerts_02nc_df.merge( alerts_0225nc_df, how = 'inner', on = 'date' ).merge( alerts_025nc_df, how = 'inner', on = 'date' ) \\\n",
    "    .merge( alerts_02ld_df, how = 'inner', on = 'date' ).merge( alerts_0225ld_df, how = 'inner', on = 'date' ).merge( alerts_025ld_df, how = 'inner', on = 'date' ) \\\n",
    "    .merge( alerts_02la_df, how = 'inner', on = 'date' ).merge( alerts_0225la_df, how = 'inner', on = 'date' ).merge( alerts_025la_df, how = 'inner', on = 'date' )"
   ]
  },
  {
   "cell_type": "code",
   "execution_count": 14,
   "metadata": {},
   "outputs": [
    {
     "data": {
      "text/html": [
       "<div>\n",
       "<style scoped>\n",
       "    .dataframe tbody tr th:only-of-type {\n",
       "        vertical-align: middle;\n",
       "    }\n",
       "\n",
       "    .dataframe tbody tr th {\n",
       "        vertical-align: top;\n",
       "    }\n",
       "\n",
       "    .dataframe thead th {\n",
       "        text-align: right;\n",
       "    }\n",
       "</style>\n",
       "<table border=\"1\" class=\"dataframe\">\n",
       "  <thead>\n",
       "    <tr style=\"text-align: right;\">\n",
       "      <th></th>\n",
       "      <th>date</th>\n",
       "      <th>0.2 NC</th>\n",
       "      <th>0.225 NC</th>\n",
       "      <th>0.25 NC</th>\n",
       "      <th>0.2 LD</th>\n",
       "      <th>0.225 LD</th>\n",
       "      <th>0.25 LD</th>\n",
       "      <th>0.2 LA</th>\n",
       "      <th>0.225 LA</th>\n",
       "      <th>0.25 LA</th>\n",
       "    </tr>\n",
       "  </thead>\n",
       "  <tbody>\n",
       "    <tr>\n",
       "      <th>119</th>\n",
       "      <td>2020-12-29</td>\n",
       "      <td>521.96</td>\n",
       "      <td>518.36</td>\n",
       "      <td>482.62</td>\n",
       "      <td>514.70</td>\n",
       "      <td>434.98</td>\n",
       "      <td>353.84</td>\n",
       "      <td>377.48</td>\n",
       "      <td>406.44</td>\n",
       "      <td>427.06</td>\n",
       "    </tr>\n",
       "    <tr>\n",
       "      <th>120</th>\n",
       "      <td>2020-12-30</td>\n",
       "      <td>501.40</td>\n",
       "      <td>498.42</td>\n",
       "      <td>464.20</td>\n",
       "      <td>499.56</td>\n",
       "      <td>424.68</td>\n",
       "      <td>345.94</td>\n",
       "      <td>355.80</td>\n",
       "      <td>386.24</td>\n",
       "      <td>406.90</td>\n",
       "    </tr>\n",
       "    <tr>\n",
       "      <th>121</th>\n",
       "      <td>2020-12-31</td>\n",
       "      <td>479.52</td>\n",
       "      <td>479.34</td>\n",
       "      <td>448.50</td>\n",
       "      <td>485.46</td>\n",
       "      <td>412.98</td>\n",
       "      <td>336.90</td>\n",
       "      <td>334.04</td>\n",
       "      <td>366.04</td>\n",
       "      <td>389.26</td>\n",
       "    </tr>\n",
       "    <tr>\n",
       "      <th>122</th>\n",
       "      <td>2021-01-01</td>\n",
       "      <td>461.72</td>\n",
       "      <td>460.94</td>\n",
       "      <td>433.26</td>\n",
       "      <td>470.20</td>\n",
       "      <td>402.14</td>\n",
       "      <td>329.28</td>\n",
       "      <td>314.98</td>\n",
       "      <td>347.12</td>\n",
       "      <td>372.38</td>\n",
       "    </tr>\n",
       "    <tr>\n",
       "      <th>123</th>\n",
       "      <td>2021-01-02</td>\n",
       "      <td>441.66</td>\n",
       "      <td>440.94</td>\n",
       "      <td>419.78</td>\n",
       "      <td>455.94</td>\n",
       "      <td>393.60</td>\n",
       "      <td>320.46</td>\n",
       "      <td>298.00</td>\n",
       "      <td>328.68</td>\n",
       "      <td>352.36</td>\n",
       "    </tr>\n",
       "  </tbody>\n",
       "</table>\n",
       "</div>"
      ],
      "text/plain": [
       "          date  0.2 NC  0.225 NC  0.25 NC  0.2 LD  0.225 LD  0.25 LD  0.2 LA  \\\n",
       "119 2020-12-29  521.96    518.36   482.62  514.70    434.98   353.84  377.48   \n",
       "120 2020-12-30  501.40    498.42   464.20  499.56    424.68   345.94  355.80   \n",
       "121 2020-12-31  479.52    479.34   448.50  485.46    412.98   336.90  334.04   \n",
       "122 2021-01-01  461.72    460.94   433.26  470.20    402.14   329.28  314.98   \n",
       "123 2021-01-02  441.66    440.94   419.78  455.94    393.60   320.46  298.00   \n",
       "\n",
       "     0.225 LA  0.25 LA  \n",
       "119    406.44   427.06  \n",
       "120    386.24   406.90  \n",
       "121    366.04   389.26  \n",
       "122    347.12   372.38  \n",
       "123    328.68   352.36  "
      ]
     },
     "execution_count": 14,
     "metadata": {},
     "output_type": "execute_result"
    }
   ],
   "source": [
    "alerts_df.tail()"
   ]
  },
  {
   "cell_type": "code",
   "execution_count": 7,
   "metadata": {},
   "outputs": [
    {
     "data": {
      "text/plain": [
       "[<matplotlib.lines.Line2D at 0x7fad3fc02050>]"
      ]
     },
     "execution_count": 7,
     "metadata": {},
     "output_type": "execute_result"
    },
    {
     "data": {
      "image/png": "[encoded data removed]",
      "text/plain": [
       "<Figure size 432x288 with 1 Axes>"
      ]
     },
     "metadata": {
      "needs_background": "light"
     },
     "output_type": "display_data"
    }
   ],
   "source": [
    "plt.plot( alerts_0225ld_df[ 'date' ], alerts_0225ld_df[ 'ICU_occupancy' ] )"
   ]
  },
  {
   "cell_type": "code",
   "execution_count": null,
   "metadata": {},
   "outputs": [],
   "source": [
    "alerts_df.to_csv(  )"
   ]
  }
 ],
 "metadata": {
  "kernelspec": {
   "display_name": "Python 3",
   "language": "python",
   "name": "python3"
  },
  "language_info": {
   "codemirror_mode": {
    "name": "ipython",
    "version": 3
   },
   "file_extension": ".py",
   "mimetype": "text/x-python",
   "name": "python",
   "nbconvert_exporter": "python",
   "pygments_lexer": "ipython3",
   "version": "3.7.6"
  }
 },
 "nbformat": 4,
 "nbformat_minor": 4
}
