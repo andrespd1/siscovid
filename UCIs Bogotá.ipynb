{
 "cells": [
  {
   "cell_type": "code",
   "execution_count": 1,
   "metadata": {},
   "outputs": [],
   "source": [
    "# Data: http://saludata.saludcapital.gov.co/osb/datos_abiertos_osb/enf-transmisibles/OSB_EnfTransm-Uso-UCIS-COVID.csv"
   ]
  },
  {
   "cell_type": "code",
   "execution_count": 2,
   "metadata": {},
   "outputs": [],
   "source": [
    "import requests\n",
    "import pandas as pd\n",
    "import re\n",
    "import numpy\n",
    "from google.cloud import storage"
   ]
  },
  {
   "cell_type": "code",
   "execution_count": 3,
   "metadata": {},
   "outputs": [],
   "source": [
    "URL = 'http://saludata.saludcapital.gov.co/osb/datos_abiertos_osb/enf-transmisibles/OSB_EnfTransm-Uso-UCIS-COVID.csv'\n",
    "FILEPATH = './data/uci_bogota_raw.csv'"
   ]
  },
  {
   "cell_type": "code",
   "execution_count": 4,
   "metadata": {},
   "outputs": [],
   "source": [
    "r = requests.get( URL, stream = True )\n",
    "\n",
    "with open( FILEPATH, 'wb' ) as f:\n",
    "    f.write( r.content )"
   ]
  },
  {
   "cell_type": "code",
   "execution_count": 5,
   "metadata": {},
   "outputs": [
    {
     "name": "stderr",
     "output_type": "stream",
     "text": [
      "/Users/fabian/anaconda3/lib/python3.7/site-packages/ipykernel_launcher.py:1: ParserWarning: Falling back to the 'python' engine because the 'c' engine does not support skipfooter; you can avoid this warning by specifying engine='python'.\n",
      "  \"\"\"Entry point for launching an IPython kernel.\n"
     ]
    }
   ],
   "source": [
    "ucis = pd.read_csv( './data/uci_bogota_raw.csv', encoding = 'ISO-8859-1', sep = ';', skiprows = 4, skipfooter = 3 )"
   ]
  },
  {
   "cell_type": "code",
   "execution_count": 6,
   "metadata": {},
   "outputs": [
    {
     "name": "stderr",
     "output_type": "stream",
     "text": [
      "/Users/fabian/anaconda3/lib/python3.7/site-packages/ipykernel_launcher.py:25: SettingWithCopyWarning: \n",
      "A value is trying to be set on a copy of a slice from a DataFrame\n",
      "\n",
      "See the caveats in the documentation: https://pandas.pydata.org/pandas-docs/stable/user_guide/indexing.html#returning-a-view-versus-a-copy\n",
      "/Users/fabian/anaconda3/lib/python3.7/site-packages/ipykernel_launcher.py:26: SettingWithCopyWarning: \n",
      "A value is trying to be set on a copy of a slice from a DataFrame\n",
      "\n",
      "See the caveats in the documentation: https://pandas.pydata.org/pandas-docs/stable/user_guide/indexing.html#returning-a-view-versus-a-copy\n",
      "/Users/fabian/anaconda3/lib/python3.7/site-packages/ipykernel_launcher.py:20: SettingWithCopyWarning: \n",
      "A value is trying to be set on a copy of a slice from a DataFrame\n",
      "\n",
      "See the caveats in the documentation: https://pandas.pydata.org/pandas-docs/stable/user_guide/indexing.html#returning-a-view-versus-a-copy\n",
      "/Users/fabian/anaconda3/lib/python3.7/site-packages/ipykernel_launcher.py:21: SettingWithCopyWarning: \n",
      "A value is trying to be set on a copy of a slice from a DataFrame\n",
      "\n",
      "See the caveats in the documentation: https://pandas.pydata.org/pandas-docs/stable/user_guide/indexing.html#returning-a-view-versus-a-copy\n"
     ]
    }
   ],
   "source": [
    "def convert_int64(column:str):\n",
    "    temp=ucis[column]\n",
    "    i=0\n",
    "    for row in temp:\n",
    "        data=str(row) \n",
    "        search=re.findall('^[1-9]\\.\\w*',data)\n",
    "        if(len(search)==1):\n",
    "            #Select first item in list of re\n",
    "            str1=search[0]\n",
    "            \n",
    "            #To float to aproximate 3 digits\n",
    "            str1=float(str1)\n",
    "            str1=round(str1,3)\n",
    "            #Cast as str and replace '.'\n",
    "            str1=str(str1).replace('.','')\n",
    "            if(len(str1)==3):\n",
    "                str1=str1+'0'\n",
    "                \n",
    "            #Replace in the column\n",
    "            temp[i]=str1\n",
    "            temp[i]=temp[i].astype(numpy.int64)\n",
    "            \n",
    "        else:\n",
    "            row=float(data)\n",
    "            temp[i]=int(row)\n",
    "            temp[i]=temp[i].astype(numpy.int64)\n",
    "        i+=1\n",
    "    \n",
    "    ucis[column]=temp.astype(numpy.int64)\n",
    "\n",
    "convert_int64('Camas UCI ocupadas Covid-19')\n",
    "convert_int64('Camas UCI Disponibles COVID 19')"
   ]
  },
  {
   "cell_type": "code",
   "execution_count": 7,
   "metadata": {},
   "outputs": [
    {
     "data": {
      "text/plain": [
       "(224, 4)"
      ]
     },
     "execution_count": 7,
     "metadata": {},
     "output_type": "execute_result"
    }
   ],
   "source": [
    "ucis.shape"
   ]
  },
  {
   "cell_type": "code",
   "execution_count": 8,
   "metadata": {},
   "outputs": [
    {
     "data": {
      "text/plain": [
       "Fecha                             object\n",
       "Camas UCI ocupadas Covid-19        int64\n",
       "Camas UCI Disponibles COVID 19     int64\n",
       "Ocupación UCI COVID 19            object\n",
       "dtype: object"
      ]
     },
     "execution_count": 8,
     "metadata": {},
     "output_type": "execute_result"
    }
   ],
   "source": [
    "ucis.dtypes"
   ]
  },
  {
   "cell_type": "code",
   "execution_count": 9,
   "metadata": {},
   "outputs": [],
   "source": [
    "ucis[ 'Fecha' ] = pd.to_datetime( ucis[ 'Fecha' ], format = '%d/%m/%Y' )"
   ]
  },
  {
   "cell_type": "code",
   "execution_count": 10,
   "metadata": {},
   "outputs": [],
   "source": [
    "ucis[ '% Ocupación' ] = ucis[ 'Camas UCI ocupadas Covid-19' ] / ucis[ 'Camas UCI Disponibles COVID 19' ]"
   ]
  },
  {
   "cell_type": "code",
   "execution_count": 11,
   "metadata": {},
   "outputs": [
    {
     "data": {
      "text/plain": [
       "Fecha                             datetime64[ns]\n",
       "Camas UCI ocupadas Covid-19                int64\n",
       "Camas UCI Disponibles COVID 19             int64\n",
       "Ocupación UCI COVID 19                    object\n",
       "% Ocupación                              float64\n",
       "dtype: object"
      ]
     },
     "execution_count": 11,
     "metadata": {},
     "output_type": "execute_result"
    }
   ],
   "source": [
    "ucis.dtypes"
   ]
  },
  {
   "cell_type": "code",
   "execution_count": 12,
   "metadata": {},
   "outputs": [],
   "source": [
    "del ucis[ 'Ocupación UCI COVID 19' ]"
   ]
  },
  {
   "cell_type": "code",
   "execution_count": 13,
   "metadata": {},
   "outputs": [],
   "source": [
    "ucis.rename( columns = { '% Ocupación': 'Ocupacion' }, inplace = True )"
   ]
  },
  {
   "cell_type": "code",
   "execution_count": 14,
   "metadata": {},
   "outputs": [
    {
     "data": {
      "text/html": [
       "<div>\n",
       "<style scoped>\n",
       "    .dataframe tbody tr th:only-of-type {\n",
       "        vertical-align: middle;\n",
       "    }\n",
       "\n",
       "    .dataframe tbody tr th {\n",
       "        vertical-align: top;\n",
       "    }\n",
       "\n",
       "    .dataframe thead th {\n",
       "        text-align: right;\n",
       "    }\n",
       "</style>\n",
       "<table border=\"1\" class=\"dataframe\">\n",
       "  <thead>\n",
       "    <tr style=\"text-align: right;\">\n",
       "      <th></th>\n",
       "      <th>Fecha</th>\n",
       "      <th>Camas UCI ocupadas Covid-19</th>\n",
       "      <th>Camas UCI Disponibles COVID 19</th>\n",
       "      <th>Ocupacion</th>\n",
       "    </tr>\n",
       "  </thead>\n",
       "  <tbody>\n",
       "    <tr>\n",
       "      <th>204</th>\n",
       "      <td>2020-10-30</td>\n",
       "      <td>842</td>\n",
       "      <td>1660</td>\n",
       "      <td>0.507229</td>\n",
       "    </tr>\n",
       "    <tr>\n",
       "      <th>205</th>\n",
       "      <td>2020-10-31</td>\n",
       "      <td>849</td>\n",
       "      <td>1663</td>\n",
       "      <td>0.510523</td>\n",
       "    </tr>\n",
       "    <tr>\n",
       "      <th>206</th>\n",
       "      <td>2020-11-01</td>\n",
       "      <td>831</td>\n",
       "      <td>1654</td>\n",
       "      <td>0.502418</td>\n",
       "    </tr>\n",
       "    <tr>\n",
       "      <th>207</th>\n",
       "      <td>2020-11-02</td>\n",
       "      <td>825</td>\n",
       "      <td>1657</td>\n",
       "      <td>0.497888</td>\n",
       "    </tr>\n",
       "    <tr>\n",
       "      <th>208</th>\n",
       "      <td>2020-11-03</td>\n",
       "      <td>844</td>\n",
       "      <td>1657</td>\n",
       "      <td>0.509354</td>\n",
       "    </tr>\n",
       "    <tr>\n",
       "      <th>209</th>\n",
       "      <td>2020-11-04</td>\n",
       "      <td>806</td>\n",
       "      <td>1656</td>\n",
       "      <td>0.486715</td>\n",
       "    </tr>\n",
       "    <tr>\n",
       "      <th>210</th>\n",
       "      <td>2020-11-05</td>\n",
       "      <td>801</td>\n",
       "      <td>1655</td>\n",
       "      <td>0.483988</td>\n",
       "    </tr>\n",
       "    <tr>\n",
       "      <th>211</th>\n",
       "      <td>2020-11-06</td>\n",
       "      <td>782</td>\n",
       "      <td>1656</td>\n",
       "      <td>0.472222</td>\n",
       "    </tr>\n",
       "    <tr>\n",
       "      <th>212</th>\n",
       "      <td>2020-11-07</td>\n",
       "      <td>801</td>\n",
       "      <td>1651</td>\n",
       "      <td>0.485161</td>\n",
       "    </tr>\n",
       "    <tr>\n",
       "      <th>213</th>\n",
       "      <td>2020-11-08</td>\n",
       "      <td>793</td>\n",
       "      <td>1651</td>\n",
       "      <td>0.480315</td>\n",
       "    </tr>\n",
       "    <tr>\n",
       "      <th>214</th>\n",
       "      <td>2020-11-09</td>\n",
       "      <td>792</td>\n",
       "      <td>1655</td>\n",
       "      <td>0.478550</td>\n",
       "    </tr>\n",
       "    <tr>\n",
       "      <th>215</th>\n",
       "      <td>2020-11-10</td>\n",
       "      <td>767</td>\n",
       "      <td>1666</td>\n",
       "      <td>0.460384</td>\n",
       "    </tr>\n",
       "    <tr>\n",
       "      <th>216</th>\n",
       "      <td>2020-11-11</td>\n",
       "      <td>784</td>\n",
       "      <td>1628</td>\n",
       "      <td>0.481572</td>\n",
       "    </tr>\n",
       "    <tr>\n",
       "      <th>217</th>\n",
       "      <td>2020-11-12</td>\n",
       "      <td>820</td>\n",
       "      <td>1628</td>\n",
       "      <td>0.503686</td>\n",
       "    </tr>\n",
       "    <tr>\n",
       "      <th>218</th>\n",
       "      <td>2020-11-13</td>\n",
       "      <td>757</td>\n",
       "      <td>1623</td>\n",
       "      <td>0.466420</td>\n",
       "    </tr>\n",
       "    <tr>\n",
       "      <th>219</th>\n",
       "      <td>2020-11-14</td>\n",
       "      <td>772</td>\n",
       "      <td>1646</td>\n",
       "      <td>0.469016</td>\n",
       "    </tr>\n",
       "    <tr>\n",
       "      <th>220</th>\n",
       "      <td>2020-11-15</td>\n",
       "      <td>776</td>\n",
       "      <td>1628</td>\n",
       "      <td>0.476658</td>\n",
       "    </tr>\n",
       "    <tr>\n",
       "      <th>221</th>\n",
       "      <td>2020-11-16</td>\n",
       "      <td>762</td>\n",
       "      <td>1621</td>\n",
       "      <td>0.470080</td>\n",
       "    </tr>\n",
       "    <tr>\n",
       "      <th>222</th>\n",
       "      <td>2020-11-17</td>\n",
       "      <td>784</td>\n",
       "      <td>1622</td>\n",
       "      <td>0.483354</td>\n",
       "    </tr>\n",
       "    <tr>\n",
       "      <th>223</th>\n",
       "      <td>2020-11-18</td>\n",
       "      <td>790</td>\n",
       "      <td>1634</td>\n",
       "      <td>0.483476</td>\n",
       "    </tr>\n",
       "  </tbody>\n",
       "</table>\n",
       "</div>"
      ],
      "text/plain": [
       "         Fecha  Camas UCI ocupadas Covid-19  Camas UCI Disponibles COVID 19  \\\n",
       "204 2020-10-30                          842                            1660   \n",
       "205 2020-10-31                          849                            1663   \n",
       "206 2020-11-01                          831                            1654   \n",
       "207 2020-11-02                          825                            1657   \n",
       "208 2020-11-03                          844                            1657   \n",
       "209 2020-11-04                          806                            1656   \n",
       "210 2020-11-05                          801                            1655   \n",
       "211 2020-11-06                          782                            1656   \n",
       "212 2020-11-07                          801                            1651   \n",
       "213 2020-11-08                          793                            1651   \n",
       "214 2020-11-09                          792                            1655   \n",
       "215 2020-11-10                          767                            1666   \n",
       "216 2020-11-11                          784                            1628   \n",
       "217 2020-11-12                          820                            1628   \n",
       "218 2020-11-13                          757                            1623   \n",
       "219 2020-11-14                          772                            1646   \n",
       "220 2020-11-15                          776                            1628   \n",
       "221 2020-11-16                          762                            1621   \n",
       "222 2020-11-17                          784                            1622   \n",
       "223 2020-11-18                          790                            1634   \n",
       "\n",
       "     Ocupacion  \n",
       "204   0.507229  \n",
       "205   0.510523  \n",
       "206   0.502418  \n",
       "207   0.497888  \n",
       "208   0.509354  \n",
       "209   0.486715  \n",
       "210   0.483988  \n",
       "211   0.472222  \n",
       "212   0.485161  \n",
       "213   0.480315  \n",
       "214   0.478550  \n",
       "215   0.460384  \n",
       "216   0.481572  \n",
       "217   0.503686  \n",
       "218   0.466420  \n",
       "219   0.469016  \n",
       "220   0.476658  \n",
       "221   0.470080  \n",
       "222   0.483354  \n",
       "223   0.483476  "
      ]
     },
     "execution_count": 14,
     "metadata": {},
     "output_type": "execute_result"
    }
   ],
   "source": [
    "ucis.tail( 20 )"
   ]
  },
  {
   "cell_type": "code",
   "execution_count": null,
   "metadata": {},
   "outputs": [],
   "source": [
    "#ucis.to_csv( './data/uci_bogota.csv', index = False )"
   ]
  },
  {
   "cell_type": "code",
   "execution_count": 15,
   "metadata": {},
   "outputs": [],
   "source": [
    "ucis[ [ 'Fecha', 'Camas UCI ocupadas Covid-19' ] ].to_csv( './alerts/data/uci_bogota.csv', index = False )"
   ]
  },
  {
   "cell_type": "code",
   "execution_count": null,
   "metadata": {},
   "outputs": [],
   "source": [
    "#DataFrame to CSV\n",
    "csv_data=ucis.to_csv(index=False)\n",
    "\n",
    "#Client, bucket and blob to acces gcloud\n",
    "client= storage.Client()\n",
    "bucket= client.get_bucket('siscovid')\n",
    "blob=bucket.blob('uci_bogota.csv')\n",
    "\n",
    "#Uploads the file to gcloud\n",
    "blob.upload_from_string(data=csv_data, content_type='text/csv')"
   ]
  },
  {
   "cell_type": "code",
   "execution_count": null,
   "metadata": {},
   "outputs": [],
   "source": []
  },
  {
   "cell_type": "code",
   "execution_count": null,
   "metadata": {},
   "outputs": [],
   "source": []
  }
 ],
 "metadata": {
  "kernelspec": {
   "display_name": "Python 3",
   "language": "python",
   "name": "python3"
  },
  "language_info": {
   "codemirror_mode": {
    "name": "ipython",
    "version": 3
   },
   "file_extension": ".py",
   "mimetype": "text/x-python",
   "name": "python",
   "nbconvert_exporter": "python",
   "pygments_lexer": "ipython3",
   "version": "3.7.6"
  }
 },
 "nbformat": 4,
 "nbformat_minor": 4
}
