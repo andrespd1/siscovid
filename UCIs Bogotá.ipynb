{
 "cells": [
  {
   "cell_type": "code",
   "execution_count": 1,
   "metadata": {},
   "outputs": [],
   "source": [
    "# Data: http://saludata.saludcapital.gov.co/osb/datos_abiertos_osb/enf-transmisibles/OSB_EnfTransm-Uso-UCIS-COVID.csv"
   ]
  },
  {
   "cell_type": "code",
   "execution_count": 2,
   "metadata": {},
   "outputs": [],
   "source": [
    "import pandas as pd"
   ]
  },
  {
   "cell_type": "code",
   "execution_count": 3,
   "metadata": {},
   "outputs": [],
   "source": [
    "ucis = pd.read_csv( './data/uci_bogota_raw.csv', encoding = 'ISO-8859-1', sep = ';' )"
   ]
  },
  {
   "cell_type": "code",
   "execution_count": 4,
   "metadata": {},
   "outputs": [
    {
     "data": {
      "text/plain": [
       "(80, 4)"
      ]
     },
     "execution_count": 4,
     "metadata": {},
     "output_type": "execute_result"
    }
   ],
   "source": [
    "ucis.shape"
   ]
  },
  {
   "cell_type": "code",
   "execution_count": 5,
   "metadata": {},
   "outputs": [],
   "source": [
    "ucis[ 'Fecha' ] = pd.to_datetime( ucis[ 'Fecha' ], format = '%d/%m/%y' )"
   ]
  },
  {
   "cell_type": "code",
   "execution_count": 6,
   "metadata": {},
   "outputs": [],
   "source": [
    "ucis[ '% Ocupación' ] = ucis[ 'Camas UCI ocupadas Covid-19' ] / ucis[ 'Camas UCI Disponibles COVID 19' ]"
   ]
  },
  {
   "cell_type": "code",
   "execution_count": 7,
   "metadata": {},
   "outputs": [
    {
     "data": {
      "text/plain": [
       "Fecha                             datetime64[ns]\n",
       "Camas UCI ocupadas Covid-19                int64\n",
       "Camas UCI Disponibles COVID 19             int64\n",
       "Ocupación UCI COVID 19                    object\n",
       "% Ocupación                              float64\n",
       "dtype: object"
      ]
     },
     "execution_count": 7,
     "metadata": {},
     "output_type": "execute_result"
    }
   ],
   "source": [
    "ucis.dtypes"
   ]
  },
  {
   "cell_type": "code",
   "execution_count": 8,
   "metadata": {},
   "outputs": [
    {
     "data": {
      "text/html": [
       "<div>\n",
       "<style scoped>\n",
       "    .dataframe tbody tr th:only-of-type {\n",
       "        vertical-align: middle;\n",
       "    }\n",
       "\n",
       "    .dataframe tbody tr th {\n",
       "        vertical-align: top;\n",
       "    }\n",
       "\n",
       "    .dataframe thead th {\n",
       "        text-align: right;\n",
       "    }\n",
       "</style>\n",
       "<table border=\"1\" class=\"dataframe\">\n",
       "  <thead>\n",
       "    <tr style=\"text-align: right;\">\n",
       "      <th></th>\n",
       "      <th>Fecha</th>\n",
       "      <th>Camas UCI ocupadas Covid-19</th>\n",
       "      <th>Camas UCI Disponibles COVID 19</th>\n",
       "      <th>Ocupación UCI COVID 19</th>\n",
       "      <th>% Ocupación</th>\n",
       "    </tr>\n",
       "  </thead>\n",
       "  <tbody>\n",
       "    <tr>\n",
       "      <th>60</th>\n",
       "      <td>2020-06-07</td>\n",
       "      <td>320</td>\n",
       "      <td>716</td>\n",
       "      <td>44,70%</td>\n",
       "      <td>0.446927</td>\n",
       "    </tr>\n",
       "    <tr>\n",
       "      <th>61</th>\n",
       "      <td>2020-06-09</td>\n",
       "      <td>338</td>\n",
       "      <td>722</td>\n",
       "      <td>46,80%</td>\n",
       "      <td>0.468144</td>\n",
       "    </tr>\n",
       "    <tr>\n",
       "      <th>62</th>\n",
       "      <td>2020-06-10</td>\n",
       "      <td>347</td>\n",
       "      <td>716</td>\n",
       "      <td>48,50%</td>\n",
       "      <td>0.484637</td>\n",
       "    </tr>\n",
       "    <tr>\n",
       "      <th>63</th>\n",
       "      <td>2020-06-11</td>\n",
       "      <td>386</td>\n",
       "      <td>722</td>\n",
       "      <td>53,50%</td>\n",
       "      <td>0.534626</td>\n",
       "    </tr>\n",
       "    <tr>\n",
       "      <th>64</th>\n",
       "      <td>2020-06-12</td>\n",
       "      <td>394</td>\n",
       "      <td>722</td>\n",
       "      <td>54,60%</td>\n",
       "      <td>0.545706</td>\n",
       "    </tr>\n",
       "    <tr>\n",
       "      <th>65</th>\n",
       "      <td>2020-06-13</td>\n",
       "      <td>388</td>\n",
       "      <td>724</td>\n",
       "      <td>53,60%</td>\n",
       "      <td>0.535912</td>\n",
       "    </tr>\n",
       "    <tr>\n",
       "      <th>66</th>\n",
       "      <td>2020-06-14</td>\n",
       "      <td>405</td>\n",
       "      <td>724</td>\n",
       "      <td>55,90%</td>\n",
       "      <td>0.559392</td>\n",
       "    </tr>\n",
       "    <tr>\n",
       "      <th>67</th>\n",
       "      <td>2020-06-15</td>\n",
       "      <td>433</td>\n",
       "      <td>727</td>\n",
       "      <td>59,60%</td>\n",
       "      <td>0.595598</td>\n",
       "    </tr>\n",
       "    <tr>\n",
       "      <th>68</th>\n",
       "      <td>2020-06-16</td>\n",
       "      <td>418</td>\n",
       "      <td>734</td>\n",
       "      <td>56,90%</td>\n",
       "      <td>0.569482</td>\n",
       "    </tr>\n",
       "    <tr>\n",
       "      <th>69</th>\n",
       "      <td>2020-06-17</td>\n",
       "      <td>439</td>\n",
       "      <td>749</td>\n",
       "      <td>58,60%</td>\n",
       "      <td>0.586115</td>\n",
       "    </tr>\n",
       "    <tr>\n",
       "      <th>70</th>\n",
       "      <td>2020-06-18</td>\n",
       "      <td>454</td>\n",
       "      <td>764</td>\n",
       "      <td>59,40%</td>\n",
       "      <td>0.594241</td>\n",
       "    </tr>\n",
       "    <tr>\n",
       "      <th>71</th>\n",
       "      <td>2020-06-19</td>\n",
       "      <td>445</td>\n",
       "      <td>774</td>\n",
       "      <td>57,50%</td>\n",
       "      <td>0.574935</td>\n",
       "    </tr>\n",
       "    <tr>\n",
       "      <th>72</th>\n",
       "      <td>2020-06-20</td>\n",
       "      <td>482</td>\n",
       "      <td>766</td>\n",
       "      <td>62,90%</td>\n",
       "      <td>0.629243</td>\n",
       "    </tr>\n",
       "    <tr>\n",
       "      <th>73</th>\n",
       "      <td>2020-06-21</td>\n",
       "      <td>501</td>\n",
       "      <td>771</td>\n",
       "      <td>65,00%</td>\n",
       "      <td>0.649805</td>\n",
       "    </tr>\n",
       "    <tr>\n",
       "      <th>74</th>\n",
       "      <td>2020-06-22</td>\n",
       "      <td>529</td>\n",
       "      <td>771</td>\n",
       "      <td>68,60%</td>\n",
       "      <td>0.686122</td>\n",
       "    </tr>\n",
       "    <tr>\n",
       "      <th>75</th>\n",
       "      <td>2020-06-23</td>\n",
       "      <td>526</td>\n",
       "      <td>771</td>\n",
       "      <td>68,20%</td>\n",
       "      <td>0.682231</td>\n",
       "    </tr>\n",
       "    <tr>\n",
       "      <th>76</th>\n",
       "      <td>2020-06-24</td>\n",
       "      <td>530</td>\n",
       "      <td>812</td>\n",
       "      <td>65,30%</td>\n",
       "      <td>0.652709</td>\n",
       "    </tr>\n",
       "    <tr>\n",
       "      <th>77</th>\n",
       "      <td>2020-06-25</td>\n",
       "      <td>575</td>\n",
       "      <td>826</td>\n",
       "      <td>69,60%</td>\n",
       "      <td>0.696126</td>\n",
       "    </tr>\n",
       "    <tr>\n",
       "      <th>78</th>\n",
       "      <td>2020-06-26</td>\n",
       "      <td>617</td>\n",
       "      <td>883</td>\n",
       "      <td>69,90%</td>\n",
       "      <td>0.698754</td>\n",
       "    </tr>\n",
       "    <tr>\n",
       "      <th>79</th>\n",
       "      <td>2020-06-27</td>\n",
       "      <td>637</td>\n",
       "      <td>911</td>\n",
       "      <td>69,90%</td>\n",
       "      <td>0.699232</td>\n",
       "    </tr>\n",
       "  </tbody>\n",
       "</table>\n",
       "</div>"
      ],
      "text/plain": [
       "        Fecha  Camas UCI ocupadas Covid-19  Camas UCI Disponibles COVID 19  \\\n",
       "60 2020-06-07                          320                             716   \n",
       "61 2020-06-09                          338                             722   \n",
       "62 2020-06-10                          347                             716   \n",
       "63 2020-06-11                          386                             722   \n",
       "64 2020-06-12                          394                             722   \n",
       "65 2020-06-13                          388                             724   \n",
       "66 2020-06-14                          405                             724   \n",
       "67 2020-06-15                          433                             727   \n",
       "68 2020-06-16                          418                             734   \n",
       "69 2020-06-17                          439                             749   \n",
       "70 2020-06-18                          454                             764   \n",
       "71 2020-06-19                          445                             774   \n",
       "72 2020-06-20                          482                             766   \n",
       "73 2020-06-21                          501                             771   \n",
       "74 2020-06-22                          529                             771   \n",
       "75 2020-06-23                          526                             771   \n",
       "76 2020-06-24                          530                             812   \n",
       "77 2020-06-25                          575                             826   \n",
       "78 2020-06-26                          617                             883   \n",
       "79 2020-06-27                          637                             911   \n",
       "\n",
       "   Ocupación UCI COVID 19  % Ocupación  \n",
       "60                 44,70%     0.446927  \n",
       "61                 46,80%     0.468144  \n",
       "62                 48,50%     0.484637  \n",
       "63                 53,50%     0.534626  \n",
       "64                 54,60%     0.545706  \n",
       "65                 53,60%     0.535912  \n",
       "66                 55,90%     0.559392  \n",
       "67                 59,60%     0.595598  \n",
       "68                 56,90%     0.569482  \n",
       "69                 58,60%     0.586115  \n",
       "70                 59,40%     0.594241  \n",
       "71                 57,50%     0.574935  \n",
       "72                 62,90%     0.629243  \n",
       "73                 65,00%     0.649805  \n",
       "74                 68,60%     0.686122  \n",
       "75                 68,20%     0.682231  \n",
       "76                 65,30%     0.652709  \n",
       "77                 69,60%     0.696126  \n",
       "78                 69,90%     0.698754  \n",
       "79                 69,90%     0.699232  "
      ]
     },
     "execution_count": 8,
     "metadata": {},
     "output_type": "execute_result"
    }
   ],
   "source": [
    "ucis.tail(20)"
   ]
  },
  {
   "cell_type": "code",
   "execution_count": 9,
   "metadata": {},
   "outputs": [],
   "source": [
    "ucis.to_csv( './data/uci_bogota.csv', index = False )"
   ]
  },
  {
   "cell_type": "code",
   "execution_count": null,
   "metadata": {},
   "outputs": [],
   "source": []
  }
 ],
 "metadata": {
  "kernelspec": {
   "display_name": "Python 3",
   "language": "python",
   "name": "python3"
  },
  "language_info": {
   "codemirror_mode": {
    "name": "ipython",
    "version": 3
   },
   "file_extension": ".py",
   "mimetype": "text/x-python",
   "name": "python",
   "nbconvert_exporter": "python",
   "pygments_lexer": "ipython3",
   "version": "3.7.6"
  }
 },
 "nbformat": 4,
 "nbformat_minor": 4
}
