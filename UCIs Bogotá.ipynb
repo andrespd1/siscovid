{
 "cells": [
  {
   "cell_type": "code",
   "execution_count": 1,
   "metadata": {},
   "outputs": [],
   "source": [
    "# Data: http://saludata.saludcapital.gov.co/osb/datos_abiertos_osb/enf-transmisibles/OSB_EnfTransm-Uso-UCIS-COVID.csv"
   ]
  },
  {
   "cell_type": "code",
   "execution_count": 2,
   "metadata": {},
   "outputs": [],
   "source": [
    "import requests\n",
    "import pandas as pd\n",
    "import re\n",
    "import numpy"
   ]
  },
  {
   "cell_type": "code",
   "execution_count": 3,
   "metadata": {},
   "outputs": [],
   "source": [
    "URL = 'http://saludata.saludcapital.gov.co/osb/datos_abiertos_osb/enf-transmisibles/OSB_EnfTransm-Uso-UCIS-COVID.csv'\n",
    "FILEPATH = './data/uci_bogota_raw.csv'"
   ]
  },
  {
   "cell_type": "code",
   "execution_count": 4,
   "metadata": {},
   "outputs": [],
   "source": [
    "r = requests.get( URL, stream = True )\n",
    "\n",
    "with open( FILEPATH, 'wb' ) as f:\n",
    "    f.write( r.content )"
   ]
  },
  {
   "cell_type": "code",
   "execution_count": 5,
   "metadata": {},
   "outputs": [
    {
     "name": "stderr",
     "output_type": "stream",
     "text": [
      "/Users/fabian/anaconda3/lib/python3.7/site-packages/ipykernel_launcher.py:1: ParserWarning: Falling back to the 'python' engine because the 'c' engine does not support skipfooter; you can avoid this warning by specifying engine='python'.\n",
      "  \"\"\"Entry point for launching an IPython kernel.\n"
     ]
    }
   ],
   "source": [
    "ucis = pd.read_csv( './data/uci_bogota_raw.csv', encoding = 'ISO-8859-1', sep = ';', skiprows = 4, skipfooter = 3 )"
   ]
  },
  {
   "cell_type": "code",
   "execution_count": null,
   "metadata": {},
   "outputs": [],
   "source": [
    "def convert_int64(column:str):\n",
    "    temp=ucis[column]\n",
    "    i=0\n",
    "    for row in temp:\n",
    "        data=str(row) \n",
    "        search=re.findall('^[1-9]\\.\\w*',data)\n",
    "        if(len(search)==1):\n",
    "            #Select first item in list of re\n",
    "            str1=search[0]\n",
    "            \n",
    "            #To float to aproximate 3 digits\n",
    "            str1=float(str1)\n",
    "            str1=round(str1,3)\n",
    "            #Cast as str and replace '.'\n",
    "            str1=str(str1).replace('.','')\n",
    "            if(len(str1)==3):\n",
    "                str1=str1+'0'\n",
    "                \n",
    "            #Replace in the column\n",
    "            temp[i]=str1\n",
    "            temp[i]=temp[i].astype(numpy.int64)\n",
    "            \n",
    "        else:\n",
    "            row=float(data)\n",
    "            temp[i]=int(row)\n",
    "            temp[i]=temp[i].astype(numpy.int64)\n",
    "        i+=1\n",
    "    \n",
    "    ucis[column]=temp.astype(numpy.int64)\n",
    "\n",
    "convert_int64('Camas UCI ocupadas Covid-19')\n",
    "convert_int64('Camas UCI Disponibles COVID 19')"
   ]
  },
  {
   "cell_type": "code",
   "execution_count": 6,
   "metadata": {},
   "outputs": [
    {
     "data": {
      "text/plain": [
       "(98, 4)"
      ]
     },
     "execution_count": 6,
     "metadata": {},
     "output_type": "execute_result"
    }
   ],
   "source": [
    "ucis.shape"
   ]
  },
  {
   "cell_type": "code",
   "execution_count": 7,
   "metadata": {},
   "outputs": [
    {
     "data": {
      "text/plain": [
       "Fecha                             object\n",
       "Camas UCI ocupadas Covid-19        int64\n",
       "Camas UCI Disponibles COVID 19     int64\n",
       "Ocupación UCI COVID 19            object\n",
       "dtype: object"
      ]
     },
     "execution_count": 7,
     "metadata": {},
     "output_type": "execute_result"
    }
   ],
   "source": [
    "ucis.dtypes"
   ]
  },
  {
   "cell_type": "code",
   "execution_count": 8,
   "metadata": {},
   "outputs": [],
   "source": [
    "ucis[ 'Fecha' ] = pd.to_datetime( ucis[ 'Fecha' ], format = '%d/%m/%Y' )"
   ]
  },
  {
   "cell_type": "code",
   "execution_count": 9,
   "metadata": {},
   "outputs": [],
   "source": [
    "ucis[ '% Ocupación' ] = ucis[ 'Camas UCI ocupadas Covid-19' ] / ucis[ 'Camas UCI Disponibles COVID 19' ]"
   ]
  },
  {
   "cell_type": "code",
   "execution_count": 10,
   "metadata": {},
   "outputs": [
    {
     "data": {
      "text/plain": [
       "Fecha                             datetime64[ns]\n",
       "Camas UCI ocupadas Covid-19                int64\n",
       "Camas UCI Disponibles COVID 19             int64\n",
       "Ocupación UCI COVID 19                    object\n",
       "% Ocupación                              float64\n",
       "dtype: object"
      ]
     },
     "execution_count": 10,
     "metadata": {},
     "output_type": "execute_result"
    }
   ],
   "source": [
    "ucis.dtypes"
   ]
  },
  {
   "cell_type": "code",
   "execution_count": 11,
   "metadata": {},
   "outputs": [],
   "source": [
    "del ucis[ 'Ocupación UCI COVID 19' ]"
   ]
  },
  {
   "cell_type": "code",
   "execution_count": 12,
   "metadata": {},
   "outputs": [],
   "source": [
    "ucis.rename( columns = { '% Ocupación': 'Ocupacion' }, inplace = True )"
   ]
  },
  {
   "cell_type": "code",
   "execution_count": 13,
   "metadata": {},
   "outputs": [
    {
     "data": {
      "text/html": [
       "<div>\n",
       "<style scoped>\n",
       "    .dataframe tbody tr th:only-of-type {\n",
       "        vertical-align: middle;\n",
       "    }\n",
       "\n",
       "    .dataframe tbody tr th {\n",
       "        vertical-align: top;\n",
       "    }\n",
       "\n",
       "    .dataframe thead th {\n",
       "        text-align: right;\n",
       "    }\n",
       "</style>\n",
       "<table border=\"1\" class=\"dataframe\">\n",
       "  <thead>\n",
       "    <tr style=\"text-align: right;\">\n",
       "      <th></th>\n",
       "      <th>Fecha</th>\n",
       "      <th>Camas UCI ocupadas Covid-19</th>\n",
       "      <th>Camas UCI Disponibles COVID 19</th>\n",
       "      <th>Ocupacion</th>\n",
       "    </tr>\n",
       "  </thead>\n",
       "  <tbody>\n",
       "    <tr>\n",
       "      <th>78</th>\n",
       "      <td>2020-06-26</td>\n",
       "      <td>617</td>\n",
       "      <td>883</td>\n",
       "      <td>0.698754</td>\n",
       "    </tr>\n",
       "    <tr>\n",
       "      <th>79</th>\n",
       "      <td>2020-06-27</td>\n",
       "      <td>637</td>\n",
       "      <td>911</td>\n",
       "      <td>0.699232</td>\n",
       "    </tr>\n",
       "    <tr>\n",
       "      <th>80</th>\n",
       "      <td>2020-06-28</td>\n",
       "      <td>670</td>\n",
       "      <td>939</td>\n",
       "      <td>0.713525</td>\n",
       "    </tr>\n",
       "    <tr>\n",
       "      <th>81</th>\n",
       "      <td>2020-06-29</td>\n",
       "      <td>691</td>\n",
       "      <td>942</td>\n",
       "      <td>0.733546</td>\n",
       "    </tr>\n",
       "    <tr>\n",
       "      <th>82</th>\n",
       "      <td>2020-06-30</td>\n",
       "      <td>694</td>\n",
       "      <td>957</td>\n",
       "      <td>0.725183</td>\n",
       "    </tr>\n",
       "    <tr>\n",
       "      <th>83</th>\n",
       "      <td>2020-07-01</td>\n",
       "      <td>729</td>\n",
       "      <td>988</td>\n",
       "      <td>0.737854</td>\n",
       "    </tr>\n",
       "    <tr>\n",
       "      <th>84</th>\n",
       "      <td>2020-07-02</td>\n",
       "      <td>748</td>\n",
       "      <td>966</td>\n",
       "      <td>0.774327</td>\n",
       "    </tr>\n",
       "    <tr>\n",
       "      <th>85</th>\n",
       "      <td>2020-07-03</td>\n",
       "      <td>792</td>\n",
       "      <td>993</td>\n",
       "      <td>0.797583</td>\n",
       "    </tr>\n",
       "    <tr>\n",
       "      <th>86</th>\n",
       "      <td>2020-07-04</td>\n",
       "      <td>811</td>\n",
       "      <td>998</td>\n",
       "      <td>0.812625</td>\n",
       "    </tr>\n",
       "    <tr>\n",
       "      <th>87</th>\n",
       "      <td>2020-07-05</td>\n",
       "      <td>849</td>\n",
       "      <td>1013</td>\n",
       "      <td>0.838105</td>\n",
       "    </tr>\n",
       "    <tr>\n",
       "      <th>88</th>\n",
       "      <td>2020-07-06</td>\n",
       "      <td>880</td>\n",
       "      <td>1039</td>\n",
       "      <td>0.846968</td>\n",
       "    </tr>\n",
       "    <tr>\n",
       "      <th>89</th>\n",
       "      <td>2020-07-07</td>\n",
       "      <td>879</td>\n",
       "      <td>1058</td>\n",
       "      <td>0.830813</td>\n",
       "    </tr>\n",
       "    <tr>\n",
       "      <th>90</th>\n",
       "      <td>2020-07-08</td>\n",
       "      <td>903</td>\n",
       "      <td>1112</td>\n",
       "      <td>0.812050</td>\n",
       "    </tr>\n",
       "    <tr>\n",
       "      <th>91</th>\n",
       "      <td>2020-07-09</td>\n",
       "      <td>942</td>\n",
       "      <td>1106</td>\n",
       "      <td>0.851718</td>\n",
       "    </tr>\n",
       "    <tr>\n",
       "      <th>92</th>\n",
       "      <td>2020-07-10</td>\n",
       "      <td>977</td>\n",
       "      <td>1144</td>\n",
       "      <td>0.854021</td>\n",
       "    </tr>\n",
       "    <tr>\n",
       "      <th>93</th>\n",
       "      <td>2020-07-11</td>\n",
       "      <td>987</td>\n",
       "      <td>1132</td>\n",
       "      <td>0.871908</td>\n",
       "    </tr>\n",
       "    <tr>\n",
       "      <th>94</th>\n",
       "      <td>2020-07-12</td>\n",
       "      <td>1044</td>\n",
       "      <td>1161</td>\n",
       "      <td>0.899225</td>\n",
       "    </tr>\n",
       "    <tr>\n",
       "      <th>95</th>\n",
       "      <td>2020-07-13</td>\n",
       "      <td>1083</td>\n",
       "      <td>1187</td>\n",
       "      <td>0.912384</td>\n",
       "    </tr>\n",
       "    <tr>\n",
       "      <th>96</th>\n",
       "      <td>2020-07-14</td>\n",
       "      <td>1106</td>\n",
       "      <td>1239</td>\n",
       "      <td>0.892655</td>\n",
       "    </tr>\n",
       "    <tr>\n",
       "      <th>97</th>\n",
       "      <td>2020-07-15</td>\n",
       "      <td>1164</td>\n",
       "      <td>1296</td>\n",
       "      <td>0.898148</td>\n",
       "    </tr>\n",
       "  </tbody>\n",
       "</table>\n",
       "</div>"
      ],
      "text/plain": [
       "        Fecha  Camas UCI ocupadas Covid-19  Camas UCI Disponibles COVID 19  \\\n",
       "78 2020-06-26                          617                             883   \n",
       "79 2020-06-27                          637                             911   \n",
       "80 2020-06-28                          670                             939   \n",
       "81 2020-06-29                          691                             942   \n",
       "82 2020-06-30                          694                             957   \n",
       "83 2020-07-01                          729                             988   \n",
       "84 2020-07-02                          748                             966   \n",
       "85 2020-07-03                          792                             993   \n",
       "86 2020-07-04                          811                             998   \n",
       "87 2020-07-05                          849                            1013   \n",
       "88 2020-07-06                          880                            1039   \n",
       "89 2020-07-07                          879                            1058   \n",
       "90 2020-07-08                          903                            1112   \n",
       "91 2020-07-09                          942                            1106   \n",
       "92 2020-07-10                          977                            1144   \n",
       "93 2020-07-11                          987                            1132   \n",
       "94 2020-07-12                         1044                            1161   \n",
       "95 2020-07-13                         1083                            1187   \n",
       "96 2020-07-14                         1106                            1239   \n",
       "97 2020-07-15                         1164                            1296   \n",
       "\n",
       "    Ocupacion  \n",
       "78   0.698754  \n",
       "79   0.699232  \n",
       "80   0.713525  \n",
       "81   0.733546  \n",
       "82   0.725183  \n",
       "83   0.737854  \n",
       "84   0.774327  \n",
       "85   0.797583  \n",
       "86   0.812625  \n",
       "87   0.838105  \n",
       "88   0.846968  \n",
       "89   0.830813  \n",
       "90   0.812050  \n",
       "91   0.851718  \n",
       "92   0.854021  \n",
       "93   0.871908  \n",
       "94   0.899225  \n",
       "95   0.912384  \n",
       "96   0.892655  \n",
       "97   0.898148  "
      ]
     },
     "execution_count": 13,
     "metadata": {},
     "output_type": "execute_result"
    }
   ],
   "source": [
    "ucis.tail( 20 )"
   ]
  },
  {
   "cell_type": "code",
   "execution_count": 14,
   "metadata": {},
   "outputs": [],
   "source": [
    "ucis.to_csv( './data/uci_bogota.csv', index = False )"
   ]
  },
  {
   "cell_type": "code",
   "execution_count": null,
   "metadata": {},
   "outputs": [],
   "source": []
  }
 ],
 "metadata": {
  "kernelspec": {
   "display_name": "Python 3",
   "language": "python",
   "name": "python3"
  },
  "language_info": {
   "codemirror_mode": {
    "name": "ipython",
    "version": 3
   },
   "file_extension": ".py",
   "mimetype": "text/x-python",
   "name": "python",
   "nbconvert_exporter": "python",
   "pygments_lexer": "ipython3",
   "version": "3.8.3"
  }
 },
 "nbformat": 4,
 "nbformat_minor": 4
}
