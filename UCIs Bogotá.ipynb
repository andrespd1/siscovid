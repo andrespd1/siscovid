{
 "cells": [
  {
   "cell_type": "code",
   "execution_count": null,
   "metadata": {},
   "outputs": [],
   "source": [
    "# Data: http://saludata.saludcapital.gov.co/osb/datos_abiertos_osb/enf-transmisibles/OSB_EnfTransm-Uso-UCIS-COVID.csv"
   ]
  },
  {
   "cell_type": "code",
   "execution_count": null,
   "metadata": {},
   "outputs": [],
   "source": [
    "import requests\n",
    "import pandas as pd\n",
    "import re\n",
    "import numpy\n",
    "from google.cloud import storage"
   ]
  },
  {
   "cell_type": "code",
   "execution_count": null,
   "metadata": {},
   "outputs": [],
   "source": [
    "URL = 'http://saludata.saludcapital.gov.co/osb/datos_abiertos_osb/enf-transmisibles/OSB_EnfTransm-Uso-UCIS-COVID.csv'\n",
    "FILEPATH = './data/uci_bogota_raw.csv'"
   ]
  },
  {
   "cell_type": "code",
   "execution_count": null,
   "metadata": {},
   "outputs": [],
   "source": [
    "r = requests.get( URL, stream = True )\n",
    "\n",
    "with open( FILEPATH, 'wb' ) as f:\n",
    "    f.write( r.content )"
   ]
  },
  {
   "cell_type": "code",
   "execution_count": null,
   "metadata": {},
   "outputs": [],
   "source": [
    "ucis = pd.read_csv( './data/uci_bogota_raw.csv', encoding = 'ISO-8859-1', sep = ';', skiprows = 4, skipfooter = 3 )"
   ]
  },
  {
   "cell_type": "code",
   "execution_count": null,
   "metadata": {},
   "outputs": [],
   "source": [
    "def convert_int64(column:str):\n",
    "    temp=ucis[column]\n",
    "    i=0\n",
    "    for row in temp:\n",
    "        data=str(row) \n",
    "        search=re.findall('^[1-9]\\.\\w*',data)\n",
    "        if(len(search)==1):\n",
    "            #Select first item in list of re\n",
    "            str1=search[0]\n",
    "            \n",
    "            #To float to aproximate 3 digits\n",
    "            str1=float(str1)\n",
    "            str1=round(str1,3)\n",
    "            #Cast as str and replace '.'\n",
    "            str1=str(str1).replace('.','')\n",
    "            if(len(str1)==3):\n",
    "                str1=str1+'0'\n",
    "                \n",
    "            #Replace in the column\n",
    "            temp[i]=str1\n",
    "            temp[i]=temp[i].astype(numpy.int64)\n",
    "            \n",
    "        else:\n",
    "            row=float(data)\n",
    "            temp[i]=int(row)\n",
    "            temp[i]=temp[i].astype(numpy.int64)\n",
    "        i+=1\n",
    "    \n",
    "    ucis[column]=temp.astype(numpy.int64)\n",
    "\n",
    "convert_int64('Camas UCI ocupadas Covid-19')\n",
    "convert_int64('Camas UCI Disponibles COVID 19')"
   ]
  },
  {
   "cell_type": "code",
   "execution_count": null,
   "metadata": {},
   "outputs": [],
   "source": [
    "ucis.shape"
   ]
  },
  {
   "cell_type": "code",
   "execution_count": null,
   "metadata": {},
   "outputs": [],
   "source": [
    "ucis.dtypes"
   ]
  },
  {
   "cell_type": "code",
   "execution_count": null,
   "metadata": {},
   "outputs": [],
   "source": [
    "ucis[ 'Fecha' ] = pd.to_datetime( ucis[ 'Fecha' ], format = '%d/%m/%Y' )"
   ]
  },
  {
   "cell_type": "code",
   "execution_count": null,
   "metadata": {},
   "outputs": [],
   "source": [
    "ucis[ '% Ocupación' ] = ucis[ 'Camas UCI ocupadas Covid-19' ] / ucis[ 'Camas UCI Disponibles COVID 19' ]"
   ]
  },
  {
   "cell_type": "code",
   "execution_count": null,
   "metadata": {},
   "outputs": [],
   "source": [
    "ucis.dtypes"
   ]
  },
  {
   "cell_type": "code",
   "execution_count": null,
   "metadata": {},
   "outputs": [],
   "source": [
    "del ucis[ 'Ocupación UCI COVID 19' ]"
   ]
  },
  {
   "cell_type": "code",
   "execution_count": null,
   "metadata": {},
   "outputs": [],
   "source": [
    "ucis.rename( columns = { '% Ocupación': 'Ocupacion' }, inplace = True )"
   ]
  },
  {
   "cell_type": "code",
   "execution_count": null,
   "metadata": {},
   "outputs": [],
   "source": [
    "ucis.tail( 20 )"
   ]
  },
  {
   "cell_type": "code",
   "execution_count": null,
   "metadata": {},
   "outputs": [],
   "source": [
    "#ucis.to_csv( './data/uci_bogota.csv', index = False )"
   ]
  },
  {
   "cell_type": "code",
   "execution_count": null,
   "metadata": {},
   "outputs": [],
   "source": [
    "#DataFrame to CSV\n",
    "csv_data=ucis.to_csv(index=False)\n",
    "\n",
    "#Client, bucket and blob to acces gcloud\n",
    "client= storage.Client()\n",
    "bucket= client.get_bucket('siscovid')\n",
    "blob=bucket.blob('uci_bogota.csv')\n",
    "\n",
    "#Uploads the file to gcloud\n",
    "blob.upload_from_string(data=csv_data, content_type='text/csv')"
   ]
  },
  {
   "cell_type": "code",
   "execution_count": null,
   "metadata": {},
   "outputs": [],
   "source": []
  },
  {
   "cell_type": "code",
   "execution_count": null,
   "metadata": {},
   "outputs": [],
   "source": []
  }
 ],
 "metadata": {
  "kernelspec": {
   "display_name": "Python 3",
   "language": "python",
   "name": "python3"
  },
  "language_info": {
   "codemirror_mode": {
    "name": "ipython",
    "version": 3
   },
   "file_extension": ".py",
   "mimetype": "text/x-python",
   "name": "python",
   "nbconvert_exporter": "python",
   "pygments_lexer": "ipython3",
   "version": "3.8.3"
  }
 },
 "nbformat": 4,
 "nbformat_minor": 4
}
