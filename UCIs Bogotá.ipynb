{
 "cells": [
  {
   "cell_type": "code",
   "execution_count": null,
   "metadata": {},
   "outputs": [],
   "source": [
    "# Data: http://saludata.saludcapital.gov.co/osb/datos_abiertos_osb/enf-transmisibles/OSB_EnfTransm-Uso-UCIS-COVID.csv"
   ]
  },
  {
   "cell_type": "code",
   "execution_count": 1,
   "metadata": {},
   "outputs": [],
   "source": [
    "import requests\n",
    "import pandas as pd\n",
    "import re\n",
    "import numpy\n",
    "from google.cloud import storage"
   ]
  },
  {
   "cell_type": "code",
   "execution_count": 2,
   "metadata": {},
   "outputs": [],
   "source": [
    "URL = 'http://saludata.saludcapital.gov.co/osb/datos_abiertos_osb/enf-transmisibles/OSB_EnfTransm-Uso-UCIS-COVID.csv'\n",
    "FILEPATH = './data/uci_bogota_raw.csv'"
   ]
  },
  {
   "cell_type": "code",
   "execution_count": 3,
   "metadata": {},
   "outputs": [],
   "source": [
    "r = requests.get( URL, stream = True )\n",
    "\n",
    "with open( FILEPATH, 'wb' ) as f:\n",
    "    f.write( r.content )"
   ]
  },
  {
   "cell_type": "code",
   "execution_count": 4,
   "metadata": {},
   "outputs": [
    {
     "name": "stderr",
     "output_type": "stream",
     "text": [
      "/Users/fabian/anaconda3/lib/python3.7/site-packages/ipykernel_launcher.py:1: ParserWarning: Falling back to the 'python' engine because the 'c' engine does not support skipfooter; you can avoid this warning by specifying engine='python'.\n",
      "  \"\"\"Entry point for launching an IPython kernel.\n"
     ]
    }
   ],
   "source": [
    "ucis = pd.read_csv( './data/uci_bogota_raw.csv', encoding = 'ISO-8859-1', sep = ';', skiprows = 4, skipfooter = 3 )"
   ]
  },
  {
   "cell_type": "code",
   "execution_count": 5,
   "metadata": {},
   "outputs": [
    {
     "name": "stderr",
     "output_type": "stream",
     "text": [
      "/Users/fabian/anaconda3/lib/python3.7/site-packages/ipykernel_launcher.py:25: SettingWithCopyWarning: \n",
      "A value is trying to be set on a copy of a slice from a DataFrame\n",
      "\n",
      "See the caveats in the documentation: https://pandas.pydata.org/pandas-docs/stable/user_guide/indexing.html#returning-a-view-versus-a-copy\n",
      "/Users/fabian/anaconda3/lib/python3.7/site-packages/ipykernel_launcher.py:26: SettingWithCopyWarning: \n",
      "A value is trying to be set on a copy of a slice from a DataFrame\n",
      "\n",
      "See the caveats in the documentation: https://pandas.pydata.org/pandas-docs/stable/user_guide/indexing.html#returning-a-view-versus-a-copy\n",
      "/Users/fabian/anaconda3/lib/python3.7/site-packages/ipykernel_launcher.py:20: SettingWithCopyWarning: \n",
      "A value is trying to be set on a copy of a slice from a DataFrame\n",
      "\n",
      "See the caveats in the documentation: https://pandas.pydata.org/pandas-docs/stable/user_guide/indexing.html#returning-a-view-versus-a-copy\n",
      "/Users/fabian/anaconda3/lib/python3.7/site-packages/ipykernel_launcher.py:21: SettingWithCopyWarning: \n",
      "A value is trying to be set on a copy of a slice from a DataFrame\n",
      "\n",
      "See the caveats in the documentation: https://pandas.pydata.org/pandas-docs/stable/user_guide/indexing.html#returning-a-view-versus-a-copy\n"
     ]
    }
   ],
   "source": [
    "def convert_int64(column:str):\n",
    "    temp=ucis[column]\n",
    "    i=0\n",
    "    for row in temp:\n",
    "        data=str(row) \n",
    "        search=re.findall('^[1-9]\\.\\w*',data)\n",
    "        if(len(search)==1):\n",
    "            #Select first item in list of re\n",
    "            str1=search[0]\n",
    "            \n",
    "            #To float to aproximate 3 digits\n",
    "            str1=float(str1)\n",
    "            str1=round(str1,3)\n",
    "            #Cast as str and replace '.'\n",
    "            str1=str(str1).replace('.','')\n",
    "            if(len(str1)==3):\n",
    "                str1=str1+'0'\n",
    "                \n",
    "            #Replace in the column\n",
    "            temp[i]=str1\n",
    "            temp[i]=temp[i].astype(numpy.int64)\n",
    "            \n",
    "        else:\n",
    "            row=float(data)\n",
    "            temp[i]=int(row)\n",
    "            temp[i]=temp[i].astype(numpy.int64)\n",
    "        i+=1\n",
    "    \n",
    "    ucis[column]=temp.astype(numpy.int64)\n",
    "\n",
    "convert_int64('Camas UCI ocupadas Covid-19')\n",
    "convert_int64('Camas UCI Disponibles COVID 19')"
   ]
  },
  {
   "cell_type": "code",
   "execution_count": 6,
   "metadata": {},
   "outputs": [
    {
     "data": {
      "text/plain": [
       "(244, 4)"
      ]
     },
     "execution_count": 6,
     "metadata": {},
     "output_type": "execute_result"
    }
   ],
   "source": [
    "ucis.shape"
   ]
  },
  {
   "cell_type": "code",
   "execution_count": 7,
   "metadata": {},
   "outputs": [
    {
     "data": {
      "text/plain": [
       "Fecha                             object\n",
       "Camas UCI ocupadas Covid-19        int64\n",
       "Camas UCI Disponibles COVID 19     int64\n",
       "Ocupación UCI COVID 19            object\n",
       "dtype: object"
      ]
     },
     "execution_count": 7,
     "metadata": {},
     "output_type": "execute_result"
    }
   ],
   "source": [
    "ucis.dtypes"
   ]
  },
  {
   "cell_type": "code",
   "execution_count": 8,
   "metadata": {},
   "outputs": [],
   "source": [
    "ucis[ 'Fecha' ] = pd.to_datetime( ucis[ 'Fecha' ], format = '%d/%m/%Y' )"
   ]
  },
  {
   "cell_type": "code",
   "execution_count": 9,
   "metadata": {},
   "outputs": [],
   "source": [
    "ucis[ '% Ocupación' ] = ucis[ 'Camas UCI ocupadas Covid-19' ] / ucis[ 'Camas UCI Disponibles COVID 19' ]"
   ]
  },
  {
   "cell_type": "code",
   "execution_count": 10,
   "metadata": {},
   "outputs": [
    {
     "data": {
      "text/plain": [
       "Fecha                             datetime64[ns]\n",
       "Camas UCI ocupadas Covid-19                int64\n",
       "Camas UCI Disponibles COVID 19             int64\n",
       "Ocupación UCI COVID 19                    object\n",
       "% Ocupación                              float64\n",
       "dtype: object"
      ]
     },
     "execution_count": 10,
     "metadata": {},
     "output_type": "execute_result"
    }
   ],
   "source": [
    "ucis.dtypes"
   ]
  },
  {
   "cell_type": "code",
   "execution_count": 11,
   "metadata": {},
   "outputs": [],
   "source": [
    "del ucis[ 'Ocupación UCI COVID 19' ]"
   ]
  },
  {
   "cell_type": "code",
   "execution_count": 12,
   "metadata": {},
   "outputs": [],
   "source": [
    "ucis.rename( columns = { '% Ocupación': 'Ocupacion' }, inplace = True )"
   ]
  },
  {
   "cell_type": "code",
   "execution_count": 13,
   "metadata": {},
   "outputs": [
    {
     "data": {
      "text/html": [
       "<div>\n",
       "<style scoped>\n",
       "    .dataframe tbody tr th:only-of-type {\n",
       "        vertical-align: middle;\n",
       "    }\n",
       "\n",
       "    .dataframe tbody tr th {\n",
       "        vertical-align: top;\n",
       "    }\n",
       "\n",
       "    .dataframe thead th {\n",
       "        text-align: right;\n",
       "    }\n",
       "</style>\n",
       "<table border=\"1\" class=\"dataframe\">\n",
       "  <thead>\n",
       "    <tr style=\"text-align: right;\">\n",
       "      <th></th>\n",
       "      <th>Fecha</th>\n",
       "      <th>Camas UCI ocupadas Covid-19</th>\n",
       "      <th>Camas UCI Disponibles COVID 19</th>\n",
       "      <th>Ocupacion</th>\n",
       "    </tr>\n",
       "  </thead>\n",
       "  <tbody>\n",
       "    <tr>\n",
       "      <th>224</th>\n",
       "      <td>2020-11-19</td>\n",
       "      <td>790</td>\n",
       "      <td>1628</td>\n",
       "      <td>0.485258</td>\n",
       "    </tr>\n",
       "    <tr>\n",
       "      <th>225</th>\n",
       "      <td>2020-11-20</td>\n",
       "      <td>779</td>\n",
       "      <td>1625</td>\n",
       "      <td>0.479385</td>\n",
       "    </tr>\n",
       "    <tr>\n",
       "      <th>226</th>\n",
       "      <td>2020-11-21</td>\n",
       "      <td>797</td>\n",
       "      <td>1620</td>\n",
       "      <td>0.491975</td>\n",
       "    </tr>\n",
       "    <tr>\n",
       "      <th>227</th>\n",
       "      <td>2020-11-22</td>\n",
       "      <td>822</td>\n",
       "      <td>1621</td>\n",
       "      <td>0.507094</td>\n",
       "    </tr>\n",
       "    <tr>\n",
       "      <th>228</th>\n",
       "      <td>2020-11-23</td>\n",
       "      <td>805</td>\n",
       "      <td>1618</td>\n",
       "      <td>0.497528</td>\n",
       "    </tr>\n",
       "    <tr>\n",
       "      <th>229</th>\n",
       "      <td>2020-11-24</td>\n",
       "      <td>834</td>\n",
       "      <td>1619</td>\n",
       "      <td>0.515133</td>\n",
       "    </tr>\n",
       "    <tr>\n",
       "      <th>230</th>\n",
       "      <td>2020-11-25</td>\n",
       "      <td>806</td>\n",
       "      <td>1621</td>\n",
       "      <td>0.497224</td>\n",
       "    </tr>\n",
       "    <tr>\n",
       "      <th>231</th>\n",
       "      <td>2020-11-26</td>\n",
       "      <td>795</td>\n",
       "      <td>1621</td>\n",
       "      <td>0.490438</td>\n",
       "    </tr>\n",
       "    <tr>\n",
       "      <th>232</th>\n",
       "      <td>2020-11-27</td>\n",
       "      <td>769</td>\n",
       "      <td>1599</td>\n",
       "      <td>0.480926</td>\n",
       "    </tr>\n",
       "    <tr>\n",
       "      <th>233</th>\n",
       "      <td>2020-11-28</td>\n",
       "      <td>812</td>\n",
       "      <td>1613</td>\n",
       "      <td>0.503410</td>\n",
       "    </tr>\n",
       "    <tr>\n",
       "      <th>234</th>\n",
       "      <td>2020-11-29</td>\n",
       "      <td>822</td>\n",
       "      <td>1613</td>\n",
       "      <td>0.509609</td>\n",
       "    </tr>\n",
       "    <tr>\n",
       "      <th>235</th>\n",
       "      <td>2020-11-30</td>\n",
       "      <td>826</td>\n",
       "      <td>1603</td>\n",
       "      <td>0.515284</td>\n",
       "    </tr>\n",
       "    <tr>\n",
       "      <th>236</th>\n",
       "      <td>2020-12-01</td>\n",
       "      <td>840</td>\n",
       "      <td>1611</td>\n",
       "      <td>0.521415</td>\n",
       "    </tr>\n",
       "    <tr>\n",
       "      <th>237</th>\n",
       "      <td>2020-12-02</td>\n",
       "      <td>834</td>\n",
       "      <td>16</td>\n",
       "      <td>52.125000</td>\n",
       "    </tr>\n",
       "    <tr>\n",
       "      <th>238</th>\n",
       "      <td>2020-12-03</td>\n",
       "      <td>826</td>\n",
       "      <td>16</td>\n",
       "      <td>51.625000</td>\n",
       "    </tr>\n",
       "    <tr>\n",
       "      <th>239</th>\n",
       "      <td>2020-12-04</td>\n",
       "      <td>831</td>\n",
       "      <td>1582</td>\n",
       "      <td>0.525284</td>\n",
       "    </tr>\n",
       "    <tr>\n",
       "      <th>240</th>\n",
       "      <td>2020-12-05</td>\n",
       "      <td>808</td>\n",
       "      <td>1582</td>\n",
       "      <td>0.510746</td>\n",
       "    </tr>\n",
       "    <tr>\n",
       "      <th>241</th>\n",
       "      <td>2020-12-06</td>\n",
       "      <td>823</td>\n",
       "      <td>1579</td>\n",
       "      <td>0.521216</td>\n",
       "    </tr>\n",
       "    <tr>\n",
       "      <th>242</th>\n",
       "      <td>2020-12-07</td>\n",
       "      <td>820</td>\n",
       "      <td>1579</td>\n",
       "      <td>0.519316</td>\n",
       "    </tr>\n",
       "    <tr>\n",
       "      <th>243</th>\n",
       "      <td>2020-12-08</td>\n",
       "      <td>826</td>\n",
       "      <td>1579</td>\n",
       "      <td>0.523116</td>\n",
       "    </tr>\n",
       "  </tbody>\n",
       "</table>\n",
       "</div>"
      ],
      "text/plain": [
       "         Fecha  Camas UCI ocupadas Covid-19  Camas UCI Disponibles COVID 19  \\\n",
       "224 2020-11-19                          790                            1628   \n",
       "225 2020-11-20                          779                            1625   \n",
       "226 2020-11-21                          797                            1620   \n",
       "227 2020-11-22                          822                            1621   \n",
       "228 2020-11-23                          805                            1618   \n",
       "229 2020-11-24                          834                            1619   \n",
       "230 2020-11-25                          806                            1621   \n",
       "231 2020-11-26                          795                            1621   \n",
       "232 2020-11-27                          769                            1599   \n",
       "233 2020-11-28                          812                            1613   \n",
       "234 2020-11-29                          822                            1613   \n",
       "235 2020-11-30                          826                            1603   \n",
       "236 2020-12-01                          840                            1611   \n",
       "237 2020-12-02                          834                              16   \n",
       "238 2020-12-03                          826                              16   \n",
       "239 2020-12-04                          831                            1582   \n",
       "240 2020-12-05                          808                            1582   \n",
       "241 2020-12-06                          823                            1579   \n",
       "242 2020-12-07                          820                            1579   \n",
       "243 2020-12-08                          826                            1579   \n",
       "\n",
       "     Ocupacion  \n",
       "224   0.485258  \n",
       "225   0.479385  \n",
       "226   0.491975  \n",
       "227   0.507094  \n",
       "228   0.497528  \n",
       "229   0.515133  \n",
       "230   0.497224  \n",
       "231   0.490438  \n",
       "232   0.480926  \n",
       "233   0.503410  \n",
       "234   0.509609  \n",
       "235   0.515284  \n",
       "236   0.521415  \n",
       "237  52.125000  \n",
       "238  51.625000  \n",
       "239   0.525284  \n",
       "240   0.510746  \n",
       "241   0.521216  \n",
       "242   0.519316  \n",
       "243   0.523116  "
      ]
     },
     "execution_count": 13,
     "metadata": {},
     "output_type": "execute_result"
    }
   ],
   "source": [
    "ucis.tail( 20 )"
   ]
  },
  {
   "cell_type": "code",
   "execution_count": 14,
   "metadata": {},
   "outputs": [],
   "source": [
    "#ucis.to_csv( './data/uci_bogota.csv', index = False )"
   ]
  },
  {
   "cell_type": "code",
   "execution_count": 15,
   "metadata": {},
   "outputs": [],
   "source": [
    "ucis[ [ 'Fecha', 'Camas UCI ocupadas Covid-19' ] ].to_csv( './alerts/data/uci_bogota.csv', index = False )"
   ]
  },
  {
   "cell_type": "code",
   "execution_count": null,
   "metadata": {},
   "outputs": [],
   "source": [
    "#DataFrame to CSV\n",
    "csv_data=ucis.to_csv(index=False)\n",
    "\n",
    "#Client, bucket and blob to acces gcloud\n",
    "client= storage.Client()\n",
    "bucket= client.get_bucket('siscovid')\n",
    "blob=bucket.blob('uci_bogota.csv')\n",
    "\n",
    "#Uploads the file to gcloud\n",
    "blob.upload_from_string(data=csv_data, content_type='text/csv')"
   ]
  },
  {
   "cell_type": "code",
   "execution_count": null,
   "metadata": {},
   "outputs": [],
   "source": []
  },
  {
   "cell_type": "code",
   "execution_count": null,
   "metadata": {},
   "outputs": [],
   "source": []
  }
 ],
 "metadata": {
  "kernelspec": {
   "display_name": "Python 3",
   "language": "python",
   "name": "python3"
  },
  "language_info": {
   "codemirror_mode": {
    "name": "ipython",
    "version": 3
   },
   "file_extension": ".py",
   "mimetype": "text/x-python",
   "name": "python",
   "nbconvert_exporter": "python",
   "pygments_lexer": "ipython3",
   "version": "3.7.6"
  }
 },
 "nbformat": 4,
 "nbformat_minor": 4
}
