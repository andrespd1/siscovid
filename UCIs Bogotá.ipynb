{
 "cells": [
  {
   "cell_type": "code",
   "execution_count": null,
   "metadata": {},
   "outputs": [],
   "source": [
    "# Data: http://saludata.saludcapital.gov.co/osb/datos_abiertos_osb/enf-transmisibles/OSB_EnfTransm-Uso-UCIS-COVID.csv"
   ]
  },
  {
   "cell_type": "code",
   "execution_count": 1,
   "metadata": {},
   "outputs": [],
   "source": [
    "import requests\n",
    "import pandas as pd\n",
    "import re\n",
    "import numpy\n",
    "from google.cloud import storage"
   ]
  },
  {
   "cell_type": "code",
   "execution_count": 2,
   "metadata": {},
   "outputs": [],
   "source": [
    "URL = 'http://saludata.saludcapital.gov.co/osb/datos_abiertos_osb/enf-transmisibles/OSB_EnfTransm-Uso-UCIS-COVID.csv'\n",
    "FILEPATH = './data/uci_bogota_raw.csv'"
   ]
  },
  {
   "cell_type": "code",
   "execution_count": 3,
   "metadata": {},
   "outputs": [],
   "source": [
    "r = requests.get( URL, stream = True )\n",
    "\n",
    "with open( FILEPATH, 'wb' ) as f:\n",
    "    f.write( r.content )"
   ]
  },
  {
   "cell_type": "code",
   "execution_count": 4,
   "metadata": {},
   "outputs": [
    {
     "name": "stderr",
     "output_type": "stream",
     "text": [
      "/Users/fabian/anaconda3/lib/python3.7/site-packages/ipykernel_launcher.py:1: ParserWarning: Falling back to the 'python' engine because the 'c' engine does not support skipfooter; you can avoid this warning by specifying engine='python'.\n",
      "  \"\"\"Entry point for launching an IPython kernel.\n"
     ]
    }
   ],
   "source": [
    "ucis = pd.read_csv( './data/uci_bogota_raw.csv', encoding = 'ISO-8859-1', sep = ';', skiprows = 4, skipfooter = 3 )"
   ]
  },
  {
   "cell_type": "code",
   "execution_count": 6,
   "metadata": {},
   "outputs": [
    {
     "name": "stderr",
     "output_type": "stream",
     "text": [
      "/Users/fabian/anaconda3/lib/python3.7/site-packages/ipykernel_launcher.py:25: SettingWithCopyWarning: \n",
      "A value is trying to be set on a copy of a slice from a DataFrame\n",
      "\n",
      "See the caveats in the documentation: https://pandas.pydata.org/pandas-docs/stable/user_guide/indexing.html#returning-a-view-versus-a-copy\n",
      "/Users/fabian/anaconda3/lib/python3.7/site-packages/ipykernel_launcher.py:26: SettingWithCopyWarning: \n",
      "A value is trying to be set on a copy of a slice from a DataFrame\n",
      "\n",
      "See the caveats in the documentation: https://pandas.pydata.org/pandas-docs/stable/user_guide/indexing.html#returning-a-view-versus-a-copy\n",
      "/Users/fabian/anaconda3/lib/python3.7/site-packages/ipykernel_launcher.py:20: SettingWithCopyWarning: \n",
      "A value is trying to be set on a copy of a slice from a DataFrame\n",
      "\n",
      "See the caveats in the documentation: https://pandas.pydata.org/pandas-docs/stable/user_guide/indexing.html#returning-a-view-versus-a-copy\n",
      "/Users/fabian/anaconda3/lib/python3.7/site-packages/ipykernel_launcher.py:21: SettingWithCopyWarning: \n",
      "A value is trying to be set on a copy of a slice from a DataFrame\n",
      "\n",
      "See the caveats in the documentation: https://pandas.pydata.org/pandas-docs/stable/user_guide/indexing.html#returning-a-view-versus-a-copy\n"
     ]
    }
   ],
   "source": [
    "def convert_int64(column:str):\n",
    "    temp=ucis[column]\n",
    "    i=0\n",
    "    for row in temp:\n",
    "        data=str(row) \n",
    "        search=re.findall('^[1-9]\\.\\w*',data)\n",
    "        if(len(search)==1):\n",
    "            #Select first item in list of re\n",
    "            str1=search[0]\n",
    "            \n",
    "            #To float to aproximate 3 digits\n",
    "            str1=float(str1)\n",
    "            str1=round(str1,3)\n",
    "            #Cast as str and replace '.'\n",
    "            str1=str(str1).replace('.','')\n",
    "            if(len(str1)==3):\n",
    "                str1=str1+'0'\n",
    "                \n",
    "            #Replace in the column\n",
    "            temp[i]=str1\n",
    "            temp[i]=temp[i].astype(numpy.int64)\n",
    "            \n",
    "        else:\n",
    "            row=float(data)\n",
    "            temp[i]=int(row)\n",
    "            temp[i]=temp[i].astype(numpy.int64)\n",
    "        i+=1\n",
    "    \n",
    "    ucis[column]=temp.astype(numpy.int64)\n",
    "\n",
    "convert_int64('Camas UCI ocupadas Covid-19')\n",
    "convert_int64('Camas UCI Asignadas COVID 19')"
   ]
  },
  {
   "cell_type": "code",
   "execution_count": 7,
   "metadata": {},
   "outputs": [
    {
     "data": {
      "text/plain": [
       "(283, 4)"
      ]
     },
     "execution_count": 7,
     "metadata": {},
     "output_type": "execute_result"
    }
   ],
   "source": [
    "ucis.shape"
   ]
  },
  {
   "cell_type": "code",
   "execution_count": 8,
   "metadata": {},
   "outputs": [
    {
     "data": {
      "text/plain": [
       "Fecha                           object\n",
       "Camas UCI ocupadas Covid-19      int64\n",
       "Camas UCI Asignadas COVID 19     int64\n",
       "Ocupación UCI COVID 19          object\n",
       "dtype: object"
      ]
     },
     "execution_count": 8,
     "metadata": {},
     "output_type": "execute_result"
    }
   ],
   "source": [
    "ucis.dtypes"
   ]
  },
  {
   "cell_type": "code",
   "execution_count": 9,
   "metadata": {},
   "outputs": [],
   "source": [
    "ucis[ 'Fecha' ] = pd.to_datetime( ucis[ 'Fecha' ], format = '%d/%m/%Y' )"
   ]
  },
  {
   "cell_type": "code",
   "execution_count": 10,
   "metadata": {},
   "outputs": [],
   "source": [
    "ucis[ '% Ocupación' ] = ucis[ 'Camas UCI ocupadas Covid-19' ] / ucis[ 'Camas UCI Asignadas COVID 19' ]"
   ]
  },
  {
   "cell_type": "code",
   "execution_count": 11,
   "metadata": {},
   "outputs": [
    {
     "data": {
      "text/plain": [
       "Fecha                           datetime64[ns]\n",
       "Camas UCI ocupadas Covid-19              int64\n",
       "Camas UCI Asignadas COVID 19             int64\n",
       "Ocupación UCI COVID 19                  object\n",
       "% Ocupación                            float64\n",
       "dtype: object"
      ]
     },
     "execution_count": 11,
     "metadata": {},
     "output_type": "execute_result"
    }
   ],
   "source": [
    "ucis.dtypes"
   ]
  },
  {
   "cell_type": "code",
   "execution_count": 12,
   "metadata": {},
   "outputs": [],
   "source": [
    "del ucis[ 'Ocupación UCI COVID 19' ]"
   ]
  },
  {
   "cell_type": "code",
   "execution_count": 13,
   "metadata": {},
   "outputs": [],
   "source": [
    "ucis.rename( columns = { '% Ocupación': 'Ocupacion' }, inplace = True )"
   ]
  },
  {
   "cell_type": "code",
   "execution_count": 14,
   "metadata": {},
   "outputs": [
    {
     "data": {
      "text/html": [
       "<div>\n",
       "<style scoped>\n",
       "    .dataframe tbody tr th:only-of-type {\n",
       "        vertical-align: middle;\n",
       "    }\n",
       "\n",
       "    .dataframe tbody tr th {\n",
       "        vertical-align: top;\n",
       "    }\n",
       "\n",
       "    .dataframe thead th {\n",
       "        text-align: right;\n",
       "    }\n",
       "</style>\n",
       "<table border=\"1\" class=\"dataframe\">\n",
       "  <thead>\n",
       "    <tr style=\"text-align: right;\">\n",
       "      <th></th>\n",
       "      <th>Fecha</th>\n",
       "      <th>Camas UCI ocupadas Covid-19</th>\n",
       "      <th>Camas UCI Asignadas COVID 19</th>\n",
       "      <th>Ocupacion</th>\n",
       "    </tr>\n",
       "  </thead>\n",
       "  <tbody>\n",
       "    <tr>\n",
       "      <th>263</th>\n",
       "      <td>2020-12-28</td>\n",
       "      <td>1220</td>\n",
       "      <td>1680</td>\n",
       "      <td>0.726190</td>\n",
       "    </tr>\n",
       "    <tr>\n",
       "      <th>264</th>\n",
       "      <td>2020-12-29</td>\n",
       "      <td>1235</td>\n",
       "      <td>1688</td>\n",
       "      <td>0.731635</td>\n",
       "    </tr>\n",
       "    <tr>\n",
       "      <th>265</th>\n",
       "      <td>2020-12-30</td>\n",
       "      <td>1286</td>\n",
       "      <td>1718</td>\n",
       "      <td>0.748545</td>\n",
       "    </tr>\n",
       "    <tr>\n",
       "      <th>266</th>\n",
       "      <td>2020-12-31</td>\n",
       "      <td>1288</td>\n",
       "      <td>1721</td>\n",
       "      <td>0.748402</td>\n",
       "    </tr>\n",
       "    <tr>\n",
       "      <th>267</th>\n",
       "      <td>2021-01-01</td>\n",
       "      <td>1303</td>\n",
       "      <td>1733</td>\n",
       "      <td>0.751875</td>\n",
       "    </tr>\n",
       "    <tr>\n",
       "      <th>268</th>\n",
       "      <td>2021-01-02</td>\n",
       "      <td>1340</td>\n",
       "      <td>1752</td>\n",
       "      <td>0.764840</td>\n",
       "    </tr>\n",
       "    <tr>\n",
       "      <th>269</th>\n",
       "      <td>2021-01-03</td>\n",
       "      <td>1362</td>\n",
       "      <td>1752</td>\n",
       "      <td>0.777397</td>\n",
       "    </tr>\n",
       "    <tr>\n",
       "      <th>270</th>\n",
       "      <td>2021-01-04</td>\n",
       "      <td>1395</td>\n",
       "      <td>1752</td>\n",
       "      <td>0.796233</td>\n",
       "    </tr>\n",
       "    <tr>\n",
       "      <th>271</th>\n",
       "      <td>2021-01-05</td>\n",
       "      <td>1435</td>\n",
       "      <td>1754</td>\n",
       "      <td>0.818130</td>\n",
       "    </tr>\n",
       "    <tr>\n",
       "      <th>272</th>\n",
       "      <td>2021-01-06</td>\n",
       "      <td>1481</td>\n",
       "      <td>1765</td>\n",
       "      <td>0.839093</td>\n",
       "    </tr>\n",
       "    <tr>\n",
       "      <th>273</th>\n",
       "      <td>2021-01-07</td>\n",
       "      <td>1539</td>\n",
       "      <td>1786</td>\n",
       "      <td>0.861702</td>\n",
       "    </tr>\n",
       "    <tr>\n",
       "      <th>274</th>\n",
       "      <td>2021-01-08</td>\n",
       "      <td>1624</td>\n",
       "      <td>1827</td>\n",
       "      <td>0.888889</td>\n",
       "    </tr>\n",
       "    <tr>\n",
       "      <th>275</th>\n",
       "      <td>2021-01-09</td>\n",
       "      <td>1688</td>\n",
       "      <td>1840</td>\n",
       "      <td>0.917391</td>\n",
       "    </tr>\n",
       "    <tr>\n",
       "      <th>276</th>\n",
       "      <td>2021-01-10</td>\n",
       "      <td>1719</td>\n",
       "      <td>1878</td>\n",
       "      <td>0.915335</td>\n",
       "    </tr>\n",
       "    <tr>\n",
       "      <th>277</th>\n",
       "      <td>2021-01-11</td>\n",
       "      <td>1749</td>\n",
       "      <td>1870</td>\n",
       "      <td>0.935294</td>\n",
       "    </tr>\n",
       "    <tr>\n",
       "      <th>278</th>\n",
       "      <td>2021-01-12</td>\n",
       "      <td>1743</td>\n",
       "      <td>1887</td>\n",
       "      <td>0.923688</td>\n",
       "    </tr>\n",
       "    <tr>\n",
       "      <th>279</th>\n",
       "      <td>2021-01-13</td>\n",
       "      <td>1776</td>\n",
       "      <td>1915</td>\n",
       "      <td>0.927415</td>\n",
       "    </tr>\n",
       "    <tr>\n",
       "      <th>280</th>\n",
       "      <td>2021-01-14</td>\n",
       "      <td>1809</td>\n",
       "      <td>1939</td>\n",
       "      <td>0.932955</td>\n",
       "    </tr>\n",
       "    <tr>\n",
       "      <th>281</th>\n",
       "      <td>2021-01-15</td>\n",
       "      <td>1818</td>\n",
       "      <td>1939</td>\n",
       "      <td>0.937597</td>\n",
       "    </tr>\n",
       "    <tr>\n",
       "      <th>282</th>\n",
       "      <td>2021-01-16</td>\n",
       "      <td>1812</td>\n",
       "      <td>1953</td>\n",
       "      <td>0.927803</td>\n",
       "    </tr>\n",
       "  </tbody>\n",
       "</table>\n",
       "</div>"
      ],
      "text/plain": [
       "         Fecha  Camas UCI ocupadas Covid-19  Camas UCI Asignadas COVID 19  \\\n",
       "263 2020-12-28                         1220                          1680   \n",
       "264 2020-12-29                         1235                          1688   \n",
       "265 2020-12-30                         1286                          1718   \n",
       "266 2020-12-31                         1288                          1721   \n",
       "267 2021-01-01                         1303                          1733   \n",
       "268 2021-01-02                         1340                          1752   \n",
       "269 2021-01-03                         1362                          1752   \n",
       "270 2021-01-04                         1395                          1752   \n",
       "271 2021-01-05                         1435                          1754   \n",
       "272 2021-01-06                         1481                          1765   \n",
       "273 2021-01-07                         1539                          1786   \n",
       "274 2021-01-08                         1624                          1827   \n",
       "275 2021-01-09                         1688                          1840   \n",
       "276 2021-01-10                         1719                          1878   \n",
       "277 2021-01-11                         1749                          1870   \n",
       "278 2021-01-12                         1743                          1887   \n",
       "279 2021-01-13                         1776                          1915   \n",
       "280 2021-01-14                         1809                          1939   \n",
       "281 2021-01-15                         1818                          1939   \n",
       "282 2021-01-16                         1812                          1953   \n",
       "\n",
       "     Ocupacion  \n",
       "263   0.726190  \n",
       "264   0.731635  \n",
       "265   0.748545  \n",
       "266   0.748402  \n",
       "267   0.751875  \n",
       "268   0.764840  \n",
       "269   0.777397  \n",
       "270   0.796233  \n",
       "271   0.818130  \n",
       "272   0.839093  \n",
       "273   0.861702  \n",
       "274   0.888889  \n",
       "275   0.917391  \n",
       "276   0.915335  \n",
       "277   0.935294  \n",
       "278   0.923688  \n",
       "279   0.927415  \n",
       "280   0.932955  \n",
       "281   0.937597  \n",
       "282   0.927803  "
      ]
     },
     "execution_count": 14,
     "metadata": {},
     "output_type": "execute_result"
    }
   ],
   "source": [
    "ucis.tail( 20 )"
   ]
  },
  {
   "cell_type": "code",
   "execution_count": 15,
   "metadata": {},
   "outputs": [],
   "source": [
    "#ucis.to_csv( './data/uci_bogota.csv', index = False )"
   ]
  },
  {
   "cell_type": "code",
   "execution_count": 16,
   "metadata": {},
   "outputs": [],
   "source": [
    "ucis[ [ 'Fecha', 'Camas UCI ocupadas Covid-19' ] ].to_csv( './alerts/data/uci_bogota.csv', index = False )"
   ]
  },
  {
   "cell_type": "code",
   "execution_count": null,
   "metadata": {},
   "outputs": [],
   "source": [
    "#DataFrame to CSV\n",
    "csv_data=ucis.to_csv(index=False)\n",
    "\n",
    "#Client, bucket and blob to acces gcloud\n",
    "client= storage.Client()\n",
    "bucket= client.get_bucket('siscovid')\n",
    "blob=bucket.blob('uci_bogota.csv')\n",
    "\n",
    "#Uploads the file to gcloud\n",
    "blob.upload_from_string(data=csv_data, content_type='text/csv')"
   ]
  },
  {
   "cell_type": "code",
   "execution_count": null,
   "metadata": {},
   "outputs": [],
   "source": []
  },
  {
   "cell_type": "code",
   "execution_count": null,
   "metadata": {},
   "outputs": [],
   "source": []
  }
 ],
 "metadata": {
  "kernelspec": {
   "display_name": "Python 3",
   "language": "python",
   "name": "python3"
  },
  "language_info": {
   "codemirror_mode": {
    "name": "ipython",
    "version": 3
   },
   "file_extension": ".py",
   "mimetype": "text/x-python",
   "name": "python",
   "nbconvert_exporter": "python",
   "pygments_lexer": "ipython3",
   "version": "3.7.6"
  }
 },
 "nbformat": 4,
 "nbformat_minor": 4
}
