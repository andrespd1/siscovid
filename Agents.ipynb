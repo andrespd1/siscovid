{
 "cells": [
  {
   "cell_type": "markdown",
   "metadata": {},
   "source": [
    "# This notebook explores the results for the agent based model"
   ]
  },
  {
   "cell_type": "code",
   "execution_count": 1,
   "metadata": {},
   "outputs": [],
   "source": [
    "import re\n",
    "import glob\n",
    "import json\n",
    "import numpy as np\n",
    "import pandas as pd\n",
    "import geopandas as gpd\n",
    "\n",
    "import matplotlib.pyplot as plt\n",
    "%matplotlib inline"
   ]
  },
  {
   "cell_type": "code",
   "execution_count": 2,
   "metadata": {},
   "outputs": [],
   "source": [
    "pd.set_option( 'display.max_columns', None )\n",
    "pd.set_option( 'display.max_rows', None )"
   ]
  },
  {
   "cell_type": "markdown",
   "metadata": {},
   "source": [
    "# Loading localidades GeoJSON for reference"
   ]
  },
  {
   "cell_type": "raw",
   "metadata": {},
   "source": [
    "localidades = gpd.read_file( './data/geo/bogotá/localidades_no_sumapaz.json' )"
   ]
  },
  {
   "cell_type": "raw",
   "metadata": {},
   "source": [
    "del localidades[ 'geometry' ]"
   ]
  },
  {
   "cell_type": "raw",
   "metadata": {},
   "source": [
    "localidades.head()"
   ]
  },
  {
   "cell_type": "raw",
   "metadata": {},
   "source": [
    "locs = {}\n",
    "for i, row in localidades.iterrows():\n",
    "    locs[ str( row[ 'codigo_localidad' ] ) ] = row[ 'localidad' ]\n",
    "locs"
   ]
  },
  {
   "cell_type": "markdown",
   "metadata": {},
   "source": [
    "# Loading ABM results"
   ]
  },
  {
   "cell_type": "code",
   "execution_count": 27,
   "metadata": {},
   "outputs": [],
   "source": [
    "city = 'medellin'\n",
    "scenario = 'no-cuarentena'\n",
    "scenario_name = 'Sin cuarentena'\n",
    "init_date = pd.to_datetime( '03/06/2020' )"
   ]
  },
  {
   "cell_type": "code",
   "execution_count": 28,
   "metadata": {},
   "outputs": [],
   "source": [
    "path = './data/agents/{}/{}/*.csv'.format( city, scenario )"
   ]
  },
  {
   "cell_type": "code",
   "execution_count": 29,
   "metadata": {},
   "outputs": [],
   "source": [
    "files = glob.glob( path )"
   ]
  },
  {
   "cell_type": "code",
   "execution_count": 30,
   "metadata": {},
   "outputs": [],
   "source": [
    "files.sort()"
   ]
  },
  {
   "cell_type": "raw",
   "metadata": {},
   "source": [
    "files = files[:32]"
   ]
  },
  {
   "cell_type": "code",
   "execution_count": 31,
   "metadata": {},
   "outputs": [],
   "source": [
    "agents = []\n",
    "exp = 0\n",
    "\n",
    "for file in files:\n",
    "    df = pd.read_csv( file )\n",
    "    df[ 'Fecha' ] = df[ 'Día' ].apply( lambda x: init_date + pd.DateOffset( days = x ) )\n",
    "    df[ 'exp' ] = exp\n",
    "    agents.append( df )\n",
    "    exp = exp + 1\n",
    "\n",
    "agents = pd.concat( agents )\n",
    "del agents[ 'Unnamed: 0' ]"
   ]
  },
  {
   "cell_type": "code",
   "execution_count": 32,
   "metadata": {},
   "outputs": [
    {
     "data": {
      "text/plain": [
       "(9000, 44)"
      ]
     },
     "execution_count": 32,
     "metadata": {},
     "output_type": "execute_result"
    }
   ],
   "source": [
    "agents.shape"
   ]
  },
  {
   "cell_type": "code",
   "execution_count": 33,
   "metadata": {},
   "outputs": [
    {
     "data": {
      "text/plain": [
       "Susceptibles                                   int64\n",
       "Total infectados                               int64\n",
       "Graves                                         int64\n",
       "Críticos                                       int64\n",
       "Leves                                          int64\n",
       "Recuperados                                    int64\n",
       "Rt                                           float64\n",
       "Recuento_zonas                                object\n",
       "0-9                                           object\n",
       "10-19                                         object\n",
       "20-39                                         object\n",
       "40-59                                         object\n",
       ">60                                           object\n",
       "En_cuarentena                                 object\n",
       "Restringido_movilidad                         object\n",
       "Cuarentena_permanente                         object\n",
       "Vivos                                          int64\n",
       "Día                                            int64\n",
       "Contactos_prom_trabajo                       float64\n",
       "Contactos_prom_transporte                    float64\n",
       "Contactos_prom_casa                          float64\n",
       "Contactos_prom_trabajo_conm                  float64\n",
       "Contactos_prom_transporte_conm               float64\n",
       "Contactos_prom_casa_conm                     float64\n",
       "Nuevos_infectados                              int64\n",
       "Detectados                                     int64\n",
       "En_testing                                     int64\n",
       "En_cama                                        int64\n",
       "En_UCI                                         int64\n",
       "Detectados_por_intervencion                    int64\n",
       "#Intervenidos                                  int64\n",
       "porcentaje_edad_activa_por_zona               object\n",
       "porcentaje_edad_activa                       float64\n",
       "tasa_letalidad_por_zona                       object\n",
       "tasa_letalidad                               float64\n",
       "total_muertos                                  int64\n",
       "total_muertos_por_zona                        object\n",
       "total_muertos_edad_activa                      int64\n",
       "total_muertos_edad_activa_por_zona            object\n",
       "zonas intervenidas                            object\n",
       "Graves_efectivos                               int64\n",
       "Criticos_efectivos                             int64\n",
       "Fecha                                 datetime64[ns]\n",
       "exp                                            int64\n",
       "dtype: object"
      ]
     },
     "execution_count": 33,
     "metadata": {},
     "output_type": "execute_result"
    }
   ],
   "source": [
    "agents.dtypes"
   ]
  },
  {
   "cell_type": "code",
   "execution_count": 34,
   "metadata": {},
   "outputs": [
    {
     "data": {
      "text/html": [
       "<div>\n",
       "<style scoped>\n",
       "    .dataframe tbody tr th:only-of-type {\n",
       "        vertical-align: middle;\n",
       "    }\n",
       "\n",
       "    .dataframe tbody tr th {\n",
       "        vertical-align: top;\n",
       "    }\n",
       "\n",
       "    .dataframe thead th {\n",
       "        text-align: right;\n",
       "    }\n",
       "</style>\n",
       "<table border=\"1\" class=\"dataframe\">\n",
       "  <thead>\n",
       "    <tr style=\"text-align: right;\">\n",
       "      <th></th>\n",
       "      <th>Susceptibles</th>\n",
       "      <th>Total infectados</th>\n",
       "      <th>Graves</th>\n",
       "      <th>Críticos</th>\n",
       "      <th>Leves</th>\n",
       "      <th>Recuperados</th>\n",
       "      <th>Rt</th>\n",
       "      <th>Recuento_zonas</th>\n",
       "      <th>0-9</th>\n",
       "      <th>10-19</th>\n",
       "      <th>20-39</th>\n",
       "      <th>40-59</th>\n",
       "      <th>&gt;60</th>\n",
       "      <th>En_cuarentena</th>\n",
       "      <th>Restringido_movilidad</th>\n",
       "      <th>Cuarentena_permanente</th>\n",
       "      <th>Vivos</th>\n",
       "      <th>Día</th>\n",
       "      <th>Contactos_prom_trabajo</th>\n",
       "      <th>Contactos_prom_transporte</th>\n",
       "      <th>Contactos_prom_casa</th>\n",
       "      <th>Contactos_prom_trabajo_conm</th>\n",
       "      <th>Contactos_prom_transporte_conm</th>\n",
       "      <th>Contactos_prom_casa_conm</th>\n",
       "      <th>Nuevos_infectados</th>\n",
       "      <th>Detectados</th>\n",
       "      <th>En_testing</th>\n",
       "      <th>En_cama</th>\n",
       "      <th>En_UCI</th>\n",
       "      <th>Detectados_por_intervencion</th>\n",
       "      <th>#Intervenidos</th>\n",
       "      <th>porcentaje_edad_activa_por_zona</th>\n",
       "      <th>porcentaje_edad_activa</th>\n",
       "      <th>tasa_letalidad_por_zona</th>\n",
       "      <th>tasa_letalidad</th>\n",
       "      <th>total_muertos</th>\n",
       "      <th>total_muertos_por_zona</th>\n",
       "      <th>total_muertos_edad_activa</th>\n",
       "      <th>total_muertos_edad_activa_por_zona</th>\n",
       "      <th>zonas intervenidas</th>\n",
       "      <th>Graves_efectivos</th>\n",
       "      <th>Criticos_efectivos</th>\n",
       "      <th>Fecha</th>\n",
       "      <th>exp</th>\n",
       "    </tr>\n",
       "  </thead>\n",
       "  <tbody>\n",
       "    <tr>\n",
       "      <th>295</th>\n",
       "      <td>26843</td>\n",
       "      <td>0</td>\n",
       "      <td>0</td>\n",
       "      <td>0</td>\n",
       "      <td>0</td>\n",
       "      <td>18255</td>\n",
       "      <td>0.0</td>\n",
       "      <td>{13: [3077, 0, 0, 0, 0, 0, 0, 0, 0, 0, 0, 0, 8...</td>\n",
       "      <td>[2299, 0, 0, 0, 0, 0, 0, 0, 0, 0, 0, 0, 2441, ...</td>\n",
       "      <td>[3183, 0, 0, 0, 0, 0, 0, 0, 0, 0, 0, 0, 3225, ...</td>\n",
       "      <td>[9549, 0, 0, 0, 0, 0, 0, 0, 0, 0, 0, 0, 6153, ...</td>\n",
       "      <td>[7201, 0, 0, 0, 0, 0, 0, 0, 0, 0, 0, 0, 4124, ...</td>\n",
       "      <td>[4611, 0, 0, 0, 0, 0, 0, 0, 0, 0, 0, 0, 2312, ...</td>\n",
       "      <td>[0, 0, 0, 0, 0]</td>\n",
       "      <td>[4568, 0, 0, 0, 3049]</td>\n",
       "      <td>[0, 0, 0, 0, 0]</td>\n",
       "      <td>45098</td>\n",
       "      <td>295</td>\n",
       "      <td>0.553018</td>\n",
       "      <td>1.787019</td>\n",
       "      <td>0.926804</td>\n",
       "      <td>0.665404</td>\n",
       "      <td>2.150183</td>\n",
       "      <td>0.929644</td>\n",
       "      <td>0</td>\n",
       "      <td>428</td>\n",
       "      <td>0</td>\n",
       "      <td>56</td>\n",
       "      <td>9</td>\n",
       "      <td>0</td>\n",
       "      <td>0</td>\n",
       "      <td>{1: 0.01272264631043257, 2: 0.0118289353958143...</td>\n",
       "      <td>0.005515</td>\n",
       "      <td>{1: 0.07142857142857142, 2: 0.0930232558139534...</td>\n",
       "      <td>0.10084</td>\n",
       "      <td>48</td>\n",
       "      <td>{1: 4, 2: 4, 3: 9, 4: 5, 5: 4, 6: 11, 7: 3, 8:...</td>\n",
       "      <td>6</td>\n",
       "      <td>{1: 0, 2: 1, 3: 1, 4: 1, 5: 0, 6: 2, 7: 1, 8: ...</td>\n",
       "      <td>{5: [[116, 15], [117, 15], [118, 15], [119, 15...</td>\n",
       "      <td>0</td>\n",
       "      <td>0</td>\n",
       "      <td>2020-12-26</td>\n",
       "      <td>29</td>\n",
       "    </tr>\n",
       "    <tr>\n",
       "      <th>296</th>\n",
       "      <td>26843</td>\n",
       "      <td>0</td>\n",
       "      <td>0</td>\n",
       "      <td>0</td>\n",
       "      <td>0</td>\n",
       "      <td>18255</td>\n",
       "      <td>0.0</td>\n",
       "      <td>{13: [3077, 0, 0, 0, 0, 0, 0, 0, 0, 0, 0, 0, 8...</td>\n",
       "      <td>[2299, 0, 0, 0, 0, 0, 0, 0, 0, 0, 0, 0, 2441, ...</td>\n",
       "      <td>[3183, 0, 0, 0, 0, 0, 0, 0, 0, 0, 0, 0, 3225, ...</td>\n",
       "      <td>[9549, 0, 0, 0, 0, 0, 0, 0, 0, 0, 0, 0, 6153, ...</td>\n",
       "      <td>[7201, 0, 0, 0, 0, 0, 0, 0, 0, 0, 0, 0, 4124, ...</td>\n",
       "      <td>[4611, 0, 0, 0, 0, 0, 0, 0, 0, 0, 0, 0, 2312, ...</td>\n",
       "      <td>[0, 0, 0, 0, 0]</td>\n",
       "      <td>[7142, 0, 0, 0, 4826]</td>\n",
       "      <td>[0, 0, 0, 0, 0]</td>\n",
       "      <td>45098</td>\n",
       "      <td>296</td>\n",
       "      <td>0.430396</td>\n",
       "      <td>1.417025</td>\n",
       "      <td>0.915406</td>\n",
       "      <td>0.585874</td>\n",
       "      <td>1.928916</td>\n",
       "      <td>0.915816</td>\n",
       "      <td>0</td>\n",
       "      <td>428</td>\n",
       "      <td>0</td>\n",
       "      <td>56</td>\n",
       "      <td>9</td>\n",
       "      <td>0</td>\n",
       "      <td>0</td>\n",
       "      <td>{1: 0.01272264631043257, 2: 0.0118289353958143...</td>\n",
       "      <td>0.005515</td>\n",
       "      <td>{1: 0.07142857142857142, 2: 0.0930232558139534...</td>\n",
       "      <td>0.10084</td>\n",
       "      <td>48</td>\n",
       "      <td>{1: 4, 2: 4, 3: 9, 4: 5, 5: 4, 6: 11, 7: 3, 8:...</td>\n",
       "      <td>6</td>\n",
       "      <td>{1: 0, 2: 1, 3: 1, 4: 1, 5: 0, 6: 2, 7: 1, 8: ...</td>\n",
       "      <td>{5: [[116, 15], [117, 15], [118, 15], [119, 15...</td>\n",
       "      <td>0</td>\n",
       "      <td>0</td>\n",
       "      <td>2020-12-27</td>\n",
       "      <td>29</td>\n",
       "    </tr>\n",
       "    <tr>\n",
       "      <th>297</th>\n",
       "      <td>26843</td>\n",
       "      <td>0</td>\n",
       "      <td>0</td>\n",
       "      <td>0</td>\n",
       "      <td>0</td>\n",
       "      <td>18255</td>\n",
       "      <td>0.0</td>\n",
       "      <td>{13: [3077, 0, 0, 0, 0, 0, 0, 0, 0, 0, 0, 0, 8...</td>\n",
       "      <td>[2299, 0, 0, 0, 0, 0, 0, 0, 0, 0, 0, 0, 2441, ...</td>\n",
       "      <td>[3183, 0, 0, 0, 0, 0, 0, 0, 0, 0, 0, 0, 3225, ...</td>\n",
       "      <td>[9549, 0, 0, 0, 0, 0, 0, 0, 0, 0, 0, 0, 6153, ...</td>\n",
       "      <td>[7201, 0, 0, 0, 0, 0, 0, 0, 0, 0, 0, 0, 4124, ...</td>\n",
       "      <td>[4611, 0, 0, 0, 0, 0, 0, 0, 0, 0, 0, 0, 2312, ...</td>\n",
       "      <td>[0, 0, 0, 0, 0]</td>\n",
       "      <td>[4704, 0, 0, 0, 3334]</td>\n",
       "      <td>[0, 0, 0, 0, 0]</td>\n",
       "      <td>45098</td>\n",
       "      <td>297</td>\n",
       "      <td>0.536720</td>\n",
       "      <td>1.760100</td>\n",
       "      <td>0.923123</td>\n",
       "      <td>0.653130</td>\n",
       "      <td>2.141851</td>\n",
       "      <td>0.925256</td>\n",
       "      <td>0</td>\n",
       "      <td>428</td>\n",
       "      <td>0</td>\n",
       "      <td>56</td>\n",
       "      <td>9</td>\n",
       "      <td>0</td>\n",
       "      <td>0</td>\n",
       "      <td>{1: 0.01272264631043257, 2: 0.0118289353958143...</td>\n",
       "      <td>0.005515</td>\n",
       "      <td>{1: 0.07142857142857142, 2: 0.0930232558139534...</td>\n",
       "      <td>0.10084</td>\n",
       "      <td>48</td>\n",
       "      <td>{1: 4, 2: 4, 3: 9, 4: 5, 5: 4, 6: 11, 7: 3, 8:...</td>\n",
       "      <td>6</td>\n",
       "      <td>{1: 0, 2: 1, 3: 1, 4: 1, 5: 0, 6: 2, 7: 1, 8: ...</td>\n",
       "      <td>{5: [[116, 15], [117, 15], [118, 15], [119, 15...</td>\n",
       "      <td>0</td>\n",
       "      <td>0</td>\n",
       "      <td>2020-12-28</td>\n",
       "      <td>29</td>\n",
       "    </tr>\n",
       "    <tr>\n",
       "      <th>298</th>\n",
       "      <td>26843</td>\n",
       "      <td>0</td>\n",
       "      <td>0</td>\n",
       "      <td>0</td>\n",
       "      <td>0</td>\n",
       "      <td>18255</td>\n",
       "      <td>0.0</td>\n",
       "      <td>{13: [3077, 0, 0, 0, 0, 0, 0, 0, 0, 0, 0, 0, 8...</td>\n",
       "      <td>[2299, 0, 0, 0, 0, 0, 0, 0, 0, 0, 0, 0, 2441, ...</td>\n",
       "      <td>[3183, 0, 0, 0, 0, 0, 0, 0, 0, 0, 0, 0, 3225, ...</td>\n",
       "      <td>[9549, 0, 0, 0, 0, 0, 0, 0, 0, 0, 0, 0, 6153, ...</td>\n",
       "      <td>[7201, 0, 0, 0, 0, 0, 0, 0, 0, 0, 0, 0, 4124, ...</td>\n",
       "      <td>[4611, 0, 0, 0, 0, 0, 0, 0, 0, 0, 0, 0, 2312, ...</td>\n",
       "      <td>[0, 0, 0, 0, 0]</td>\n",
       "      <td>[5067, 0, 0, 0, 3391]</td>\n",
       "      <td>[0, 0, 0, 0, 0]</td>\n",
       "      <td>45098</td>\n",
       "      <td>298</td>\n",
       "      <td>0.525234</td>\n",
       "      <td>1.711828</td>\n",
       "      <td>0.918400</td>\n",
       "      <td>0.646479</td>\n",
       "      <td>2.106987</td>\n",
       "      <td>0.919241</td>\n",
       "      <td>0</td>\n",
       "      <td>428</td>\n",
       "      <td>0</td>\n",
       "      <td>56</td>\n",
       "      <td>9</td>\n",
       "      <td>0</td>\n",
       "      <td>0</td>\n",
       "      <td>{1: 0.01272264631043257, 2: 0.0118289353958143...</td>\n",
       "      <td>0.005515</td>\n",
       "      <td>{1: 0.07142857142857142, 2: 0.0930232558139534...</td>\n",
       "      <td>0.10084</td>\n",
       "      <td>48</td>\n",
       "      <td>{1: 4, 2: 4, 3: 9, 4: 5, 5: 4, 6: 11, 7: 3, 8:...</td>\n",
       "      <td>6</td>\n",
       "      <td>{1: 0, 2: 1, 3: 1, 4: 1, 5: 0, 6: 2, 7: 1, 8: ...</td>\n",
       "      <td>{5: [[116, 15], [117, 15], [118, 15], [119, 15...</td>\n",
       "      <td>0</td>\n",
       "      <td>0</td>\n",
       "      <td>2020-12-29</td>\n",
       "      <td>29</td>\n",
       "    </tr>\n",
       "    <tr>\n",
       "      <th>299</th>\n",
       "      <td>26843</td>\n",
       "      <td>0</td>\n",
       "      <td>0</td>\n",
       "      <td>0</td>\n",
       "      <td>0</td>\n",
       "      <td>18255</td>\n",
       "      <td>0.0</td>\n",
       "      <td>{13: [3077, 0, 0, 0, 0, 0, 0, 0, 0, 0, 0, 0, 8...</td>\n",
       "      <td>[2299, 0, 0, 0, 0, 0, 0, 0, 0, 0, 0, 0, 2441, ...</td>\n",
       "      <td>[3183, 0, 0, 0, 0, 0, 0, 0, 0, 0, 0, 0, 3225, ...</td>\n",
       "      <td>[9549, 0, 0, 0, 0, 0, 0, 0, 0, 0, 0, 0, 6153, ...</td>\n",
       "      <td>[7201, 0, 0, 0, 0, 0, 0, 0, 0, 0, 0, 0, 4124, ...</td>\n",
       "      <td>[4611, 0, 0, 0, 0, 0, 0, 0, 0, 0, 0, 0, 2312, ...</td>\n",
       "      <td>[0, 0, 0, 0, 0]</td>\n",
       "      <td>[5177, 0, 0, 0, 3507]</td>\n",
       "      <td>[0, 0, 0, 0, 0]</td>\n",
       "      <td>45098</td>\n",
       "      <td>299</td>\n",
       "      <td>0.511708</td>\n",
       "      <td>1.660717</td>\n",
       "      <td>0.912191</td>\n",
       "      <td>0.633740</td>\n",
       "      <td>2.056764</td>\n",
       "      <td>0.911600</td>\n",
       "      <td>0</td>\n",
       "      <td>428</td>\n",
       "      <td>0</td>\n",
       "      <td>56</td>\n",
       "      <td>9</td>\n",
       "      <td>0</td>\n",
       "      <td>0</td>\n",
       "      <td>{1: 0.01272264631043257, 2: 0.0118289353958143...</td>\n",
       "      <td>0.005515</td>\n",
       "      <td>{1: 0.07142857142857142, 2: 0.0930232558139534...</td>\n",
       "      <td>0.10084</td>\n",
       "      <td>48</td>\n",
       "      <td>{1: 4, 2: 4, 3: 9, 4: 5, 5: 4, 6: 11, 7: 3, 8:...</td>\n",
       "      <td>6</td>\n",
       "      <td>{1: 0, 2: 1, 3: 1, 4: 1, 5: 0, 6: 2, 7: 1, 8: ...</td>\n",
       "      <td>{5: [[116, 15], [117, 15], [118, 15], [119, 15...</td>\n",
       "      <td>0</td>\n",
       "      <td>0</td>\n",
       "      <td>2020-12-30</td>\n",
       "      <td>29</td>\n",
       "    </tr>\n",
       "  </tbody>\n",
       "</table>\n",
       "</div>"
      ],
      "text/plain": [
       "     Susceptibles  Total infectados  Graves  Críticos  Leves  Recuperados  \\\n",
       "295         26843                 0       0         0      0        18255   \n",
       "296         26843                 0       0         0      0        18255   \n",
       "297         26843                 0       0         0      0        18255   \n",
       "298         26843                 0       0         0      0        18255   \n",
       "299         26843                 0       0         0      0        18255   \n",
       "\n",
       "      Rt                                     Recuento_zonas  \\\n",
       "295  0.0  {13: [3077, 0, 0, 0, 0, 0, 0, 0, 0, 0, 0, 0, 8...   \n",
       "296  0.0  {13: [3077, 0, 0, 0, 0, 0, 0, 0, 0, 0, 0, 0, 8...   \n",
       "297  0.0  {13: [3077, 0, 0, 0, 0, 0, 0, 0, 0, 0, 0, 0, 8...   \n",
       "298  0.0  {13: [3077, 0, 0, 0, 0, 0, 0, 0, 0, 0, 0, 0, 8...   \n",
       "299  0.0  {13: [3077, 0, 0, 0, 0, 0, 0, 0, 0, 0, 0, 0, 8...   \n",
       "\n",
       "                                                   0-9  \\\n",
       "295  [2299, 0, 0, 0, 0, 0, 0, 0, 0, 0, 0, 0, 2441, ...   \n",
       "296  [2299, 0, 0, 0, 0, 0, 0, 0, 0, 0, 0, 0, 2441, ...   \n",
       "297  [2299, 0, 0, 0, 0, 0, 0, 0, 0, 0, 0, 0, 2441, ...   \n",
       "298  [2299, 0, 0, 0, 0, 0, 0, 0, 0, 0, 0, 0, 2441, ...   \n",
       "299  [2299, 0, 0, 0, 0, 0, 0, 0, 0, 0, 0, 0, 2441, ...   \n",
       "\n",
       "                                                 10-19  \\\n",
       "295  [3183, 0, 0, 0, 0, 0, 0, 0, 0, 0, 0, 0, 3225, ...   \n",
       "296  [3183, 0, 0, 0, 0, 0, 0, 0, 0, 0, 0, 0, 3225, ...   \n",
       "297  [3183, 0, 0, 0, 0, 0, 0, 0, 0, 0, 0, 0, 3225, ...   \n",
       "298  [3183, 0, 0, 0, 0, 0, 0, 0, 0, 0, 0, 0, 3225, ...   \n",
       "299  [3183, 0, 0, 0, 0, 0, 0, 0, 0, 0, 0, 0, 3225, ...   \n",
       "\n",
       "                                                 20-39  \\\n",
       "295  [9549, 0, 0, 0, 0, 0, 0, 0, 0, 0, 0, 0, 6153, ...   \n",
       "296  [9549, 0, 0, 0, 0, 0, 0, 0, 0, 0, 0, 0, 6153, ...   \n",
       "297  [9549, 0, 0, 0, 0, 0, 0, 0, 0, 0, 0, 0, 6153, ...   \n",
       "298  [9549, 0, 0, 0, 0, 0, 0, 0, 0, 0, 0, 0, 6153, ...   \n",
       "299  [9549, 0, 0, 0, 0, 0, 0, 0, 0, 0, 0, 0, 6153, ...   \n",
       "\n",
       "                                                 40-59  \\\n",
       "295  [7201, 0, 0, 0, 0, 0, 0, 0, 0, 0, 0, 0, 4124, ...   \n",
       "296  [7201, 0, 0, 0, 0, 0, 0, 0, 0, 0, 0, 0, 4124, ...   \n",
       "297  [7201, 0, 0, 0, 0, 0, 0, 0, 0, 0, 0, 0, 4124, ...   \n",
       "298  [7201, 0, 0, 0, 0, 0, 0, 0, 0, 0, 0, 0, 4124, ...   \n",
       "299  [7201, 0, 0, 0, 0, 0, 0, 0, 0, 0, 0, 0, 4124, ...   \n",
       "\n",
       "                                                   >60    En_cuarentena  \\\n",
       "295  [4611, 0, 0, 0, 0, 0, 0, 0, 0, 0, 0, 0, 2312, ...  [0, 0, 0, 0, 0]   \n",
       "296  [4611, 0, 0, 0, 0, 0, 0, 0, 0, 0, 0, 0, 2312, ...  [0, 0, 0, 0, 0]   \n",
       "297  [4611, 0, 0, 0, 0, 0, 0, 0, 0, 0, 0, 0, 2312, ...  [0, 0, 0, 0, 0]   \n",
       "298  [4611, 0, 0, 0, 0, 0, 0, 0, 0, 0, 0, 0, 2312, ...  [0, 0, 0, 0, 0]   \n",
       "299  [4611, 0, 0, 0, 0, 0, 0, 0, 0, 0, 0, 0, 2312, ...  [0, 0, 0, 0, 0]   \n",
       "\n",
       "     Restringido_movilidad Cuarentena_permanente  Vivos  Día  \\\n",
       "295  [4568, 0, 0, 0, 3049]       [0, 0, 0, 0, 0]  45098  295   \n",
       "296  [7142, 0, 0, 0, 4826]       [0, 0, 0, 0, 0]  45098  296   \n",
       "297  [4704, 0, 0, 0, 3334]       [0, 0, 0, 0, 0]  45098  297   \n",
       "298  [5067, 0, 0, 0, 3391]       [0, 0, 0, 0, 0]  45098  298   \n",
       "299  [5177, 0, 0, 0, 3507]       [0, 0, 0, 0, 0]  45098  299   \n",
       "\n",
       "     Contactos_prom_trabajo  Contactos_prom_transporte  Contactos_prom_casa  \\\n",
       "295                0.553018                   1.787019             0.926804   \n",
       "296                0.430396                   1.417025             0.915406   \n",
       "297                0.536720                   1.760100             0.923123   \n",
       "298                0.525234                   1.711828             0.918400   \n",
       "299                0.511708                   1.660717             0.912191   \n",
       "\n",
       "     Contactos_prom_trabajo_conm  Contactos_prom_transporte_conm  \\\n",
       "295                     0.665404                        2.150183   \n",
       "296                     0.585874                        1.928916   \n",
       "297                     0.653130                        2.141851   \n",
       "298                     0.646479                        2.106987   \n",
       "299                     0.633740                        2.056764   \n",
       "\n",
       "     Contactos_prom_casa_conm  Nuevos_infectados  Detectados  En_testing  \\\n",
       "295                  0.929644                  0         428           0   \n",
       "296                  0.915816                  0         428           0   \n",
       "297                  0.925256                  0         428           0   \n",
       "298                  0.919241                  0         428           0   \n",
       "299                  0.911600                  0         428           0   \n",
       "\n",
       "     En_cama  En_UCI  Detectados_por_intervencion  #Intervenidos  \\\n",
       "295       56       9                            0              0   \n",
       "296       56       9                            0              0   \n",
       "297       56       9                            0              0   \n",
       "298       56       9                            0              0   \n",
       "299       56       9                            0              0   \n",
       "\n",
       "                       porcentaje_edad_activa_por_zona  \\\n",
       "295  {1: 0.01272264631043257, 2: 0.0118289353958143...   \n",
       "296  {1: 0.01272264631043257, 2: 0.0118289353958143...   \n",
       "297  {1: 0.01272264631043257, 2: 0.0118289353958143...   \n",
       "298  {1: 0.01272264631043257, 2: 0.0118289353958143...   \n",
       "299  {1: 0.01272264631043257, 2: 0.0118289353958143...   \n",
       "\n",
       "     porcentaje_edad_activa  \\\n",
       "295                0.005515   \n",
       "296                0.005515   \n",
       "297                0.005515   \n",
       "298                0.005515   \n",
       "299                0.005515   \n",
       "\n",
       "                               tasa_letalidad_por_zona  tasa_letalidad  \\\n",
       "295  {1: 0.07142857142857142, 2: 0.0930232558139534...         0.10084   \n",
       "296  {1: 0.07142857142857142, 2: 0.0930232558139534...         0.10084   \n",
       "297  {1: 0.07142857142857142, 2: 0.0930232558139534...         0.10084   \n",
       "298  {1: 0.07142857142857142, 2: 0.0930232558139534...         0.10084   \n",
       "299  {1: 0.07142857142857142, 2: 0.0930232558139534...         0.10084   \n",
       "\n",
       "     total_muertos                             total_muertos_por_zona  \\\n",
       "295             48  {1: 4, 2: 4, 3: 9, 4: 5, 5: 4, 6: 11, 7: 3, 8:...   \n",
       "296             48  {1: 4, 2: 4, 3: 9, 4: 5, 5: 4, 6: 11, 7: 3, 8:...   \n",
       "297             48  {1: 4, 2: 4, 3: 9, 4: 5, 5: 4, 6: 11, 7: 3, 8:...   \n",
       "298             48  {1: 4, 2: 4, 3: 9, 4: 5, 5: 4, 6: 11, 7: 3, 8:...   \n",
       "299             48  {1: 4, 2: 4, 3: 9, 4: 5, 5: 4, 6: 11, 7: 3, 8:...   \n",
       "\n",
       "     total_muertos_edad_activa  \\\n",
       "295                          6   \n",
       "296                          6   \n",
       "297                          6   \n",
       "298                          6   \n",
       "299                          6   \n",
       "\n",
       "                    total_muertos_edad_activa_por_zona  \\\n",
       "295  {1: 0, 2: 1, 3: 1, 4: 1, 5: 0, 6: 2, 7: 1, 8: ...   \n",
       "296  {1: 0, 2: 1, 3: 1, 4: 1, 5: 0, 6: 2, 7: 1, 8: ...   \n",
       "297  {1: 0, 2: 1, 3: 1, 4: 1, 5: 0, 6: 2, 7: 1, 8: ...   \n",
       "298  {1: 0, 2: 1, 3: 1, 4: 1, 5: 0, 6: 2, 7: 1, 8: ...   \n",
       "299  {1: 0, 2: 1, 3: 1, 4: 1, 5: 0, 6: 2, 7: 1, 8: ...   \n",
       "\n",
       "                                    zonas intervenidas  Graves_efectivos  \\\n",
       "295  {5: [[116, 15], [117, 15], [118, 15], [119, 15...                 0   \n",
       "296  {5: [[116, 15], [117, 15], [118, 15], [119, 15...                 0   \n",
       "297  {5: [[116, 15], [117, 15], [118, 15], [119, 15...                 0   \n",
       "298  {5: [[116, 15], [117, 15], [118, 15], [119, 15...                 0   \n",
       "299  {5: [[116, 15], [117, 15], [118, 15], [119, 15...                 0   \n",
       "\n",
       "     Criticos_efectivos      Fecha  exp  \n",
       "295                   0 2020-12-26   29  \n",
       "296                   0 2020-12-27   29  \n",
       "297                   0 2020-12-28   29  \n",
       "298                   0 2020-12-29   29  \n",
       "299                   0 2020-12-30   29  "
      ]
     },
     "execution_count": 34,
     "metadata": {},
     "output_type": "execute_result"
    }
   ],
   "source": [
    "agents.tail()"
   ]
  },
  {
   "cell_type": "code",
   "execution_count": 35,
   "metadata": {},
   "outputs": [],
   "source": [
    "def sum_quarantine( x ):\n",
    "    x = json.loads( x )\n",
    "    people_in_q = x[ 0 ] + x[ 1 ] + x[ 2 ] + x[ 3 ] + x[ 4 ]\n",
    "    return people_in_q"
   ]
  },
  {
   "cell_type": "code",
   "execution_count": 36,
   "metadata": {},
   "outputs": [
    {
     "name": "stderr",
     "output_type": "stream",
     "text": [
      "/Users/fabian/anaconda3/lib/python3.7/site-packages/ipykernel_launcher.py:6: SettingWithCopyWarning: \n",
      "A value is trying to be set on a copy of a slice from a DataFrame.\n",
      "Try using .loc[row_indexer,col_indexer] = value instead\n",
      "\n",
      "See the caveats in the documentation: https://pandas.pydata.org/pandas-docs/stable/user_guide/indexing.html#returning-a-view-versus-a-copy\n",
      "  \n",
      "/Users/fabian/anaconda3/lib/python3.7/site-packages/ipykernel_launcher.py:7: SettingWithCopyWarning: \n",
      "A value is trying to be set on a copy of a slice from a DataFrame.\n",
      "Try using .loc[row_indexer,col_indexer] = value instead\n",
      "\n",
      "See the caveats in the documentation: https://pandas.pydata.org/pandas-docs/stable/user_guide/indexing.html#returning-a-view-versus-a-copy\n",
      "  import sys\n",
      "/Users/fabian/anaconda3/lib/python3.7/site-packages/ipykernel_launcher.py:8: SettingWithCopyWarning: \n",
      "A value is trying to be set on a copy of a slice from a DataFrame.\n",
      "Try using .loc[row_indexer,col_indexer] = value instead\n",
      "\n",
      "See the caveats in the documentation: https://pandas.pydata.org/pandas-docs/stable/user_guide/indexing.html#returning-a-view-versus-a-copy\n",
      "  \n",
      "/Users/fabian/anaconda3/lib/python3.7/site-packages/ipykernel_launcher.py:9: SettingWithCopyWarning: \n",
      "A value is trying to be set on a copy of a slice from a DataFrame.\n",
      "Try using .loc[row_indexer,col_indexer] = value instead\n",
      "\n",
      "See the caveats in the documentation: https://pandas.pydata.org/pandas-docs/stable/user_guide/indexing.html#returning-a-view-versus-a-copy\n",
      "  if __name__ == '__main__':\n",
      "/Users/fabian/anaconda3/lib/python3.7/site-packages/ipykernel_launcher.py:10: SettingWithCopyWarning: \n",
      "A value is trying to be set on a copy of a slice from a DataFrame.\n",
      "Try using .loc[row_indexer,col_indexer] = value instead\n",
      "\n",
      "See the caveats in the documentation: https://pandas.pydata.org/pandas-docs/stable/user_guide/indexing.html#returning-a-view-versus-a-copy\n",
      "  # Remove the CWD from sys.path while we load stuff.\n"
     ]
    }
   ],
   "source": [
    "agents_norm = []\n",
    "\n",
    "for exp in agents[ 'exp' ].unique():\n",
    "    df = agents.loc[ agents[ 'exp' ] == exp ]\n",
    "    total_people = df[ 'Vivos' ].values[ 0 ]\n",
    "    df[ 'Graves' ] = df[ 'Graves' ] / total_people\n",
    "    df[ 'Críticos' ] = df[ 'Críticos' ] / total_people\n",
    "    df[ 'Fallecidos' ] = ( total_people - df[ 'Vivos' ] ) / total_people\n",
    "    df[ 'R0' ] = ( df[ 'Nuevos_infectados' ].cumsum() / total_people )\n",
    "    df[ 'Cuarentena' ] = df[ 'En_cuarentena' ].apply( lambda x: sum_quarantine( x ) ) / total_people\n",
    "    agents_norm.append( df[ [ 'exp', 'Fecha', 'Graves', 'Críticos', 'Fallecidos', 'R0', 'Rt', 'Cuarentena' ] ] )\n",
    "\n",
    "agents_norm = pd.concat( agents_norm )"
   ]
  },
  {
   "cell_type": "code",
   "execution_count": 37,
   "metadata": {},
   "outputs": [
    {
     "data": {
      "text/html": [
       "<div>\n",
       "<style scoped>\n",
       "    .dataframe tbody tr th:only-of-type {\n",
       "        vertical-align: middle;\n",
       "    }\n",
       "\n",
       "    .dataframe tbody tr th {\n",
       "        vertical-align: top;\n",
       "    }\n",
       "\n",
       "    .dataframe thead th {\n",
       "        text-align: right;\n",
       "    }\n",
       "</style>\n",
       "<table border=\"1\" class=\"dataframe\">\n",
       "  <thead>\n",
       "    <tr style=\"text-align: right;\">\n",
       "      <th></th>\n",
       "      <th>exp</th>\n",
       "      <th>Fecha</th>\n",
       "      <th>Graves</th>\n",
       "      <th>Críticos</th>\n",
       "      <th>Fallecidos</th>\n",
       "      <th>R0</th>\n",
       "      <th>Rt</th>\n",
       "      <th>Cuarentena</th>\n",
       "    </tr>\n",
       "  </thead>\n",
       "  <tbody>\n",
       "    <tr>\n",
       "      <th>295</th>\n",
       "      <td>29</td>\n",
       "      <td>2020-12-26</td>\n",
       "      <td>0.0</td>\n",
       "      <td>0.0</td>\n",
       "      <td>0.001063</td>\n",
       "      <td>0.405285</td>\n",
       "      <td>0.0</td>\n",
       "      <td>0.0</td>\n",
       "    </tr>\n",
       "    <tr>\n",
       "      <th>296</th>\n",
       "      <td>29</td>\n",
       "      <td>2020-12-27</td>\n",
       "      <td>0.0</td>\n",
       "      <td>0.0</td>\n",
       "      <td>0.001063</td>\n",
       "      <td>0.405285</td>\n",
       "      <td>0.0</td>\n",
       "      <td>0.0</td>\n",
       "    </tr>\n",
       "    <tr>\n",
       "      <th>297</th>\n",
       "      <td>29</td>\n",
       "      <td>2020-12-28</td>\n",
       "      <td>0.0</td>\n",
       "      <td>0.0</td>\n",
       "      <td>0.001063</td>\n",
       "      <td>0.405285</td>\n",
       "      <td>0.0</td>\n",
       "      <td>0.0</td>\n",
       "    </tr>\n",
       "    <tr>\n",
       "      <th>298</th>\n",
       "      <td>29</td>\n",
       "      <td>2020-12-29</td>\n",
       "      <td>0.0</td>\n",
       "      <td>0.0</td>\n",
       "      <td>0.001063</td>\n",
       "      <td>0.405285</td>\n",
       "      <td>0.0</td>\n",
       "      <td>0.0</td>\n",
       "    </tr>\n",
       "    <tr>\n",
       "      <th>299</th>\n",
       "      <td>29</td>\n",
       "      <td>2020-12-30</td>\n",
       "      <td>0.0</td>\n",
       "      <td>0.0</td>\n",
       "      <td>0.001063</td>\n",
       "      <td>0.405285</td>\n",
       "      <td>0.0</td>\n",
       "      <td>0.0</td>\n",
       "    </tr>\n",
       "  </tbody>\n",
       "</table>\n",
       "</div>"
      ],
      "text/plain": [
       "     exp      Fecha  Graves  Críticos  Fallecidos        R0   Rt  Cuarentena\n",
       "295   29 2020-12-26     0.0       0.0    0.001063  0.405285  0.0         0.0\n",
       "296   29 2020-12-27     0.0       0.0    0.001063  0.405285  0.0         0.0\n",
       "297   29 2020-12-28     0.0       0.0    0.001063  0.405285  0.0         0.0\n",
       "298   29 2020-12-29     0.0       0.0    0.001063  0.405285  0.0         0.0\n",
       "299   29 2020-12-30     0.0       0.0    0.001063  0.405285  0.0         0.0"
      ]
     },
     "execution_count": 37,
     "metadata": {},
     "output_type": "execute_result"
    }
   ],
   "source": [
    "agents_norm.tail()"
   ]
  },
  {
   "cell_type": "code",
   "execution_count": 38,
   "metadata": {},
   "outputs": [],
   "source": [
    "var = 'Críticos'\n",
    "agents_norm[ [ 'exp', 'Fecha', var ] ].rename( columns = { var: scenario_name } ) \\\n",
    "    .set_index( [ 'exp', 'Fecha' ] ).stack().reset_index().rename( columns = { 'level_2': 'variable', 0: 'value' } ) \\\n",
    "    .to_csv( './agents-viz-2/data/{}/{}-{}-{}.csv'.format( city, city, scenario, 'ucis' ), index = False )\n",
    "\n",
    "var = 'Fallecidos'\n",
    "agents_norm[ [ 'exp', 'Fecha', var ] ].rename( columns = { var: scenario_name } ) \\\n",
    "    .set_index( [ 'exp', 'Fecha' ] ).stack().reset_index().rename( columns = { 'level_2': 'variable', 0: 'value' } ) \\\n",
    "    .to_csv( './agents-viz-2/data/{}/{}-{}-{}.csv'.format( city, city, scenario, 'deaths' ), index = False )\n",
    "\n",
    "var = 'R0'\n",
    "agents_norm[ [ 'exp', 'Fecha', var ] ].rename( columns = { var: scenario_name } ) \\\n",
    "    .set_index( [ 'exp', 'Fecha' ] ).stack().reset_index().rename( columns = { 'level_2': 'variable', 0: 'value' } ) \\\n",
    "    .to_csv( './agents-viz-2/data/{}/{}-{}-{}.csv'.format( city, city, scenario, 'r0' ), index = False )\n",
    "\n",
    "var = 'Rt'\n",
    "agents_norm[ [ 'exp', 'Fecha', var ] ].rename( columns = { var: scenario_name } ) \\\n",
    "    .set_index( [ 'exp', 'Fecha' ] ).stack().reset_index().rename( columns = { 'level_2': 'variable', 0: 'value' } ) \\\n",
    "    .to_csv( './agents-viz-2/data/{}/{}-{}-{}.csv'.format( city, city, scenario, 'rt' ), index = False )\n",
    "\n",
    "var = 'Cuarentena'\n",
    "agents_norm[ [ 'exp', 'Fecha', var ] ].rename( columns = { var: scenario_name } ) \\\n",
    "    .set_index( [ 'exp', 'Fecha' ] ).stack().reset_index().rename( columns = { 'level_2': 'variable', 0: 'value' } ) \\\n",
    "    .to_csv( './agents-viz-2/data/{}/{}-{}-{}.csv'.format( city, city, scenario, 'quarantine' ), index = False )"
   ]
  },
  {
   "cell_type": "code",
   "execution_count": null,
   "metadata": {},
   "outputs": [],
   "source": []
  },
  {
   "cell_type": "code",
   "execution_count": null,
   "metadata": {},
   "outputs": [],
   "source": []
  },
  {
   "cell_type": "code",
   "execution_count": null,
   "metadata": {},
   "outputs": [],
   "source": []
  },
  {
   "cell_type": "code",
   "execution_count": null,
   "metadata": {},
   "outputs": [],
   "source": [
    "def ci( x ):\n",
    "    try:\n",
    "        return 1.96 * np.std( x ) / np.sqrt( len( x ) )\n",
    "    except ZeroDivisionError:\n",
    "        return 0\n",
    "\n",
    "agents_norm_grouped = agents_norm.groupby( 'Fecha' ).agg( { 'Graves': [ 'mean', ci ], 'Críticos': [ 'mean', ci ], 'Fallecidos': [ 'mean', ci ], 'R0': [ 'mean', ci ], 'Rt': [ 'mean', ci ], 'Cuarentena': [ 'mean' ] } )\n",
    "agents_norm_grouped.columns = [ '_'.join( col ).strip() for col in agents_norm_grouped.columns.values ]"
   ]
  },
  {
   "cell_type": "code",
   "execution_count": null,
   "metadata": {},
   "outputs": [],
   "source": [
    "agents_norm_grouped.tail()"
   ]
  },
  {
   "cell_type": "code",
   "execution_count": null,
   "metadata": {},
   "outputs": [],
   "source": [
    "fig, ax = plt.subplots( figsize = ( 20, 7 ) )\n",
    "\n",
    "ax.plot( agents_norm_grouped.index, agents_norm_grouped[ 'Graves_mean' ], label = 'Graves', color = '#317372' )\n",
    "ax.fill_between( agents_norm_grouped.index, ( agents_norm_grouped[ 'Graves_mean' ] - agents_norm_grouped[ 'Graves_ci' ] ), ( agents_norm_grouped[ 'Graves_mean' ] + agents_norm_grouped[ 'Graves_ci' ] ), color = '#317372', alpha = .1 )\n",
    "\n",
    "ax.plot( agents_norm_grouped.index, agents_norm_grouped[ 'Críticos_mean' ], label = 'Críticos', color = '#f98a4b' )\n",
    "ax.fill_between( agents_norm_grouped.index, ( agents_norm_grouped[ 'Críticos_mean' ] - agents_norm_grouped[ 'Críticos_ci' ] ), ( agents_norm_grouped[ 'Críticos_mean' ] + agents_norm_grouped[ 'Críticos_ci' ] ), color = '#f98a4b', alpha = .1 )\n",
    "\n",
    "ax.plot( agents_norm_grouped.index, agents_norm_grouped[ 'Fallecidos_mean' ], label = 'Fallecidos', color = '#f64438' )\n",
    "ax.fill_between( agents_norm_grouped.index, ( agents_norm_grouped[ 'Fallecidos_mean' ] - agents_norm_grouped[ 'Fallecidos_ci' ] ), ( agents_norm_grouped[ 'Fallecidos_mean' ] + agents_norm_grouped[ 'Fallecidos_ci' ] ), color = '#f64438', alpha = .1 )\n",
    "\n",
    "plt.title( 'Graves / Críticos / Fallecidos' )\n",
    "plt.xlabel( 'Fecha' )\n",
    "plt.ylabel( 'Casos' )\n",
    "plt.grid( True )\n",
    "plt.legend()"
   ]
  },
  {
   "cell_type": "code",
   "execution_count": null,
   "metadata": {},
   "outputs": [],
   "source": [
    "fig, ax = plt.subplots( figsize = ( 20, 7 ) )\n",
    "\n",
    "ax.plot( agents_norm_grouped.index, agents_norm_grouped[ 'R0_mean' ] )\n",
    "ax.fill_between( agents_norm_grouped.index, ( agents_norm_grouped[ 'R0_mean' ] - agents_norm_grouped[ 'R0_ci' ] ), ( agents_norm_grouped[ 'R0_mean' ] + agents_norm_grouped[ 'R0_ci' ] ), alpha = .1 )\n",
    "\n",
    "plt.title( 'Tasa de ataque' )\n",
    "plt.xlabel( 'Fecha' )\n",
    "plt.ylabel( 'R0' )\n",
    "plt.grid( True )"
   ]
  },
  {
   "cell_type": "code",
   "execution_count": null,
   "metadata": {},
   "outputs": [],
   "source": [
    "fig, ax = plt.subplots( figsize = ( 20, 7 ) )\n",
    "\n",
    "ax.plot( agents_norm_grouped.index, agents_norm_grouped[ 'Rt_mean' ] )\n",
    "ax.fill_between( agents_norm_grouped.index, ( agents_norm_grouped[ 'Rt_mean' ] - agents_norm_grouped[ 'Rt_ci' ] ), ( agents_norm_grouped[ 'Rt_mean' ] + agents_norm_grouped[ 'Rt_ci' ] ), alpha = .1 )\n",
    "\n",
    "plt.title( 'Tasa de reproducción afectiva' )\n",
    "plt.xlabel( 'Fecha' )\n",
    "plt.ylabel( 'Rt' )\n",
    "plt.grid( True )"
   ]
  },
  {
   "cell_type": "code",
   "execution_count": null,
   "metadata": {},
   "outputs": [],
   "source": [
    "fig, ax = plt.subplots( figsize = ( 20, 7 ) )\n",
    "\n",
    "ax.plot( agents_norm_grouped.index, agents_norm_grouped[ 'Cuarentena_mean' ] )\n",
    "\n",
    "plt.title( 'Cuarentena' )\n",
    "plt.xlabel( 'Fecha' )\n",
    "plt.ylabel( '% cuarentena' )\n",
    "plt.grid( True )"
   ]
  },
  {
   "cell_type": "code",
   "execution_count": null,
   "metadata": {},
   "outputs": [],
   "source": [
    "agents_norm.tail()"
   ]
  },
  {
   "cell_type": "raw",
   "metadata": {},
   "source": [
    "agents_norm[ [ 'exp', 'Fecha', 'R0', 'Rt', 'Cuarentena' ] ].to_csv( './agents-viz/data/{}-agents-multi.csv'.format( city ), index = False )"
   ]
  },
  {
   "cell_type": "raw",
   "metadata": {},
   "source": [
    "pd.melt( agents_norm[ [ 'exp', 'Fecha', 'Graves', 'Críticos', 'Fallecidos' ] ], id_vars = [ 'Fecha' ], value_vars =[ 'Graves', 'Críticos', 'Fallecidos' ] ).to_csv( './agents-viz/data/{}-agents2-multi.csv'.format( city ), index = False )"
   ]
  },
  {
   "cell_type": "code",
   "execution_count": null,
   "metadata": {},
   "outputs": [],
   "source": [
    "agents_norm[ [ 'exp', 'Fecha', 'Graves', 'Críticos', 'Fallecidos', 'R0', 'Rt', 'Cuarentena' ] ].to_csv( './data/agents/clean/{}-{}.csv'.format( city, scenario ), index = False )"
   ]
  },
  {
   "cell_type": "raw",
   "metadata": {},
   "source": [
    "# By localidades"
   ]
  },
  {
   "cell_type": "raw",
   "metadata": {},
   "source": [
    "recuento_zonas = { 0: 'Susceptibles', 1: '?_1', 2: '?_2', 3: 'Leves', 4: '?_4', 5: '?_5', 6: 'Graves', 7: '?_7', 8: '?_8', 9: 'Críticos', 10: '?_10', 11: '?_11', 12: 'Recuperados', 13: '?_13', 14: '?_14'  }"
   ]
  },
  {
   "cell_type": "raw",
   "metadata": {},
   "source": [
    "def expand_by_loc( x ):\n",
    "    \n",
    "    replacer = re.compile(\"(\\d+)\")\n",
    "    x[ 'Recuento_zonas' ] = replacer.sub( r'\"\\1\"', x[ 'Recuento_zonas' ] )\n",
    "    if city in [ 'cartagena', 'barranquilla' ]:\n",
    "        x[ 'Recuento_zonas' ] = x[ 'Recuento_zonas' ].replace( \"'\", '\"' )\n",
    "    #print( x[ 'Recuento_zonas' ] )\n",
    "    \n",
    "    x[ 'Recuento_zonas' ] = json.loads( x[ 'Recuento_zonas' ] )\n",
    "    ds = []\n",
    "    for z in x[ 'Recuento_zonas' ].keys():\n",
    "        d = dict()\n",
    "        d[ 'exp' ] = row[ 'exp' ]\n",
    "        if city == 'bogota':\n",
    "            d[ 'Localidad' ] = locs[ z ]\n",
    "        else:\n",
    "            d[ 'Localidad' ] = z\n",
    "        d[ 'Día' ] = row[ 'Día' ]\n",
    "        d[ 'Fecha' ] = init_date + pd.DateOffset( days = d[ 'Día' ] )\n",
    "        for i in recuento_zonas.keys():\n",
    "            d[ recuento_zonas[ i ] ] = int( x[ 'Recuento_zonas' ][ z ][ i ] )\n",
    "        ds.append( d )\n",
    "    \n",
    "    return ds\n",
    "\n",
    "agents_locs = []\n",
    "for i, row in agents.iterrows():\n",
    "    agents_locs = agents_locs + expand_by_loc( row )\n",
    "\n",
    "agents_locs = pd.DataFrame( agents_locs )"
   ]
  },
  {
   "cell_type": "raw",
   "metadata": {},
   "source": [
    "agents_locs_norm = []\n",
    "\n",
    "for exp in agents_locs[ 'exp' ].unique():\n",
    "    for loc in agents_locs[ 'Localidad' ].unique():\n",
    "        df = agents_locs.loc[ ( agents_locs[ 'exp' ] == exp ) & ( agents_locs[ 'Localidad' ] == loc ) ]\n",
    "        total_people = ( df[ 'Susceptibles' ] + df[ 'Leves' ] + df[ 'Graves' ] + df[ 'Críticos' ] + df[ 'Recuperados' ] ).values[ 0 ]\n",
    "\n",
    "        df[ 'Fallecidos' ] = ( total_people - ( df[ 'Susceptibles' ] + df[ 'Leves' ] + df[ 'Graves' ] + df[ 'Críticos' ] + df[ 'Recuperados' ] ) ) / total_people\n",
    "        df[ 'Graves' ] = df[ 'Graves' ] / total_people\n",
    "        df[ 'Críticos' ] = df[ 'Críticos' ] / total_people\n",
    "        df[ 'R0' ] = ( df[ '?_4' ].cumsum() / total_people )\n",
    "        agents_locs_norm.append( df[ [ 'exp', 'Fecha', 'Localidad', 'Graves', 'Críticos', 'Fallecidos', 'R0' ] ] )\n",
    "\n",
    "agents_locs_norm = pd.concat( agents_locs_norm )"
   ]
  },
  {
   "cell_type": "raw",
   "metadata": {},
   "source": [
    "agents_locs_norm[ 'Localidad' ] = agents_locs_norm[ 'Localidad' ].str.replace( '_', ' ' )"
   ]
  },
  {
   "cell_type": "raw",
   "metadata": {},
   "source": [
    "agents_locs_norm.tail()"
   ]
  },
  {
   "cell_type": "raw",
   "metadata": {},
   "source": [
    "agents_locs_norm[ [ 'exp', 'Fecha', 'Localidad', 'R0' ] ].to_csv( './agents-viz/data/{}-agents-locs-multi.csv'.format( city ), index = False )"
   ]
  },
  {
   "cell_type": "raw",
   "metadata": {},
   "source": [
    "pd.melt( agents_locs_norm[ [ 'exp', 'Fecha', 'Localidad', 'Graves', 'Críticos', 'Fallecidos' ] ], id_vars = [ 'Fecha', 'Localidad' ], value_vars =[ 'Graves', 'Críticos', 'Fallecidos' ] ).to_csv( './agents-viz/data/{}-agents2-locs-multi.csv'.format( city ), index = False )\n"
   ]
  },
  {
   "cell_type": "raw",
   "metadata": {},
   "source": [
    "all_locs.loc[ all_locs[ 'Localidad' ] == 'Kennedy' ].head()"
   ]
  },
  {
   "cell_type": "raw",
   "metadata": {},
   "source": [
    "locs = list( all_locs[ 'Localidad' ].unique() )\n",
    "\n",
    "fig = plt.figure( figsize = ( 20, 27 ) )\n",
    "\n",
    "for i in range( 1, len( locs ) + 1 ):\n",
    "    current_loc = all_locs[ all_locs[ 'Localidad' ] == locs[ i - 1 ] ]\n",
    "    pop = ( current_loc[ 'Susceptibles' ] + current_loc[ 'Leves' ] + current_loc[ 'Graves' ] + current_loc[ 'Críticos' ] + current_loc[ 'Recuperados' ] ).values[ 0 ]\n",
    "    plt.subplot( 7, 3, i )\n",
    "    plt.plot( current_loc[ 'Fecha' ], current_loc[ 'Graves' ], label = 'Graves', color = '#317372' )\n",
    "    plt.plot( current_loc[ 'Fecha' ], current_loc[ 'Críticos' ], label = 'Críticos', color = '#f98a4b' )\n",
    "    plt.plot( current_loc[ 'Fecha' ], ( pop - ( current_loc[ 'Susceptibles' ] + current_loc[ 'Leves' ] + current_loc[ 'Graves' ] + current_loc[ 'Críticos' ] + current_loc[ 'Recuperados' ] ) ), label = 'Fallecidos', color = '#f64438' )\n",
    "    plt.title( locs[ i - 1 ] )\n",
    "    plt.ylim( [ 0, 60 ] )\n",
    "    plt.grid( True )\n",
    "\n",
    "fig.legend( labels = [ 'Graves', 'Críticos', 'Fallecidos' ], loc = 'center right' )"
   ]
  },
  {
   "cell_type": "raw",
   "metadata": {},
   "source": [
    "locs = list( all_locs[ 'Localidad' ].unique() )\n",
    "\n",
    "fig = plt.figure( figsize = ( 20, 7 ) )\n",
    "for loc in locs:\n",
    "    current_loc = all_locs[ all_locs[ 'Localidad' ] == loc ]\n",
    "    plt.plot( current_loc[ 'Fecha' ], current_loc[ 'Graves' ], label = loc )\n",
    "plt.title( 'Graves' )\n",
    "plt.grid( True )\n",
    "plt.legend()"
   ]
  },
  {
   "cell_type": "raw",
   "metadata": {},
   "source": [
    "locs = list( all_locs[ 'Localidad' ].unique() )\n",
    "\n",
    "fig = plt.figure( figsize = ( 20, 7 ) )\n",
    "for loc in locs:\n",
    "    current_loc = all_locs[ all_locs[ 'Localidad' ] == loc ]\n",
    "    plt.plot( current_loc[ 'Fecha' ], current_loc[ 'Críticos' ], label = loc )\n",
    "plt.title( 'Críticos' )\n",
    "plt.grid( True )\n",
    "plt.legend()"
   ]
  },
  {
   "cell_type": "raw",
   "metadata": {},
   "source": [
    "locs = list( all_locs[ 'Localidad' ].unique() )\n",
    "\n",
    "fig = plt.figure( figsize = ( 20, 7 ) )\n",
    "for loc in locs:\n",
    "    current_loc = all_locs[ all_locs[ 'Localidad' ] == loc ]\n",
    "    pop = ( current_loc[ 'Susceptibles' ] + current_loc[ 'Leves' ] + current_loc[ 'Graves' ] + current_loc[ 'Críticos' ] + current_loc[ 'Recuperados' ] ).values[ 0 ]\n",
    "    plt.plot( current_loc[ 'Fecha' ], ( pop - ( current_loc[ 'Susceptibles' ] + current_loc[ 'Leves' ] + current_loc[ 'Graves' ] + current_loc[ 'Críticos' ] + current_loc[ 'Recuperados' ] ) ), label = loc )\n",
    "plt.title( 'Fallecidos' )\n",
    "plt.grid( True )\n",
    "plt.legend()"
   ]
  },
  {
   "cell_type": "raw",
   "metadata": {},
   "source": [
    "locs = list( all_locs[ 'Localidad' ].unique() )\n",
    "\n",
    "fig = plt.figure( figsize = ( 20, 27 ) )\n",
    "\n",
    "for i in range( 1, len( locs ) + 1 ):\n",
    "    current_loc = all_locs[ all_locs[ 'Localidad' ] == locs[ i - 1 ] ]\n",
    "    pop = ( current_loc[ 'Susceptibles' ] + current_loc[ 'Leves' ] + current_loc[ 'Graves' ] + current_loc[ 'Críticos' ] + current_loc[ 'Recuperados' ] ).values[ 0 ]\n",
    "    plt.subplot( 7, 3, i )\n",
    "    plt.plot( current_loc[ 'Fecha' ], current_loc[ '?_4' ].cumsum() / pop, label = 'Tasa de ataque' )\n",
    "    plt.title( locs[ i - 1 ] )\n",
    "    plt.ylim( [ 0, 1.0 ] )\n",
    "    plt.grid( True )\n",
    "\n",
    "fig.legend( labels = [ 'Tasa de ataque' ], loc = 'center right' )"
   ]
  },
  {
   "cell_type": "raw",
   "metadata": {},
   "source": [
    "locs = list( all_locs[ 'Localidad' ].unique() )\n",
    "\n",
    "agents_locs = []\n",
    "for loc in locs:\n",
    "    current_loc = all_locs[ all_locs[ 'Localidad' ] == loc ]\n",
    "    pop = ( current_loc[ 'Susceptibles' ] + current_loc[ 'Leves' ] + current_loc[ 'Graves' ] + current_loc[ 'Críticos' ] + current_loc[ 'Recuperados' ] ).values[ 0 ]\n",
    "    \n",
    "    current_loc[ 'Fallecidos' ] = ( pop - ( current_loc[ 'Susceptibles' ] + current_loc[ 'Leves' ] + current_loc[ 'Graves' ] + current_loc[ 'Críticos' ] + current_loc[ 'Recuperados' ] ) ) / pop\n",
    "    current_loc[ 'Graves' ] = current_loc[ 'Graves' ] / pop\n",
    "    current_loc[ 'Críticos' ] = current_loc[ 'Críticos' ] / pop\n",
    "    \n",
    "    \n",
    "    current_loc = pd.melt( current_loc[ [ 'Fecha', 'Graves', 'Críticos', 'Fallecidos' ] ], id_vars = [ 'Fecha' ], value_vars =[ 'Graves', 'Críticos', 'Fallecidos' ] )\n",
    "    current_loc[ 'Localidad' ] = loc\n",
    "    agents_locs.append( current_loc )\n",
    "    \n",
    "pd.concat( agents_locs ).to_csv( './agents-viz/data/{}-agents-locs2.csv'.format( city ), index = False )"
   ]
  },
  {
   "cell_type": "raw",
   "metadata": {},
   "source": [
    "locs = list( all_locs[ 'Localidad' ].unique() )\n",
    "\n",
    "agents_locs = []\n",
    "for loc in locs:\n",
    "    current_loc = all_locs[ all_locs[ 'Localidad' ] == loc ]\n",
    "    pop = ( current_loc[ 'Susceptibles' ] + current_loc[ 'Leves' ] + current_loc[ 'Graves' ] + current_loc[ 'Críticos' ] + current_loc[ 'Recuperados' ] ).values[ 0 ]\n",
    "    \n",
    "    current_loc[ 'R0' ] = current_loc[ '?_4' ].cumsum() / pop\n",
    "    current_loc[ 'Localidad' ] = loc\n",
    "    agents_locs.append( current_loc[ [ 'Fecha', 'Localidad', 'R0' ] ] )\n",
    "    \n",
    "pd.concat( agents_locs ).to_csv( './agents-viz/data/{}-agents-locs.csv'.format( city ), index = False )"
   ]
  },
  {
   "cell_type": "raw",
   "metadata": {},
   "source": [
    "# By age groups"
   ]
  },
  {
   "cell_type": "raw",
   "metadata": {},
   "source": [
    "grupo_edad = { 0: 'Susceptibles', 1: '?_1', 2: '?_2', 3: 'Leves', 4: '?_4', 5: '?_5', 6: 'Graves', 7: '?_7', 8: '?_8', 9: 'Críticos', 10: '?_10', 11: '?_11', 12: 'Recuperados', 13: '?_13', 14: '?_14'  }"
   ]
  },
  {
   "cell_type": "raw",
   "metadata": {},
   "source": [
    "age_ranges = {\n",
    "    'barranquilla': [ '0-9', '10-19', '20-39', '40-59', '>60' ],\n",
    "    'bogota': [ '0-9', '10-19', '20-39', '40-59', '>60' ],\n",
    "    'cartagena': [ '0-9', '10-19', '20-39', '40-59', '>60' ]\n",
    "}"
   ]
  },
  {
   "cell_type": "raw",
   "metadata": {},
   "source": [
    "def expand_by_age( x ):\n",
    "    ds = []\n",
    "    for a in age_ranges[ city ]:\n",
    "        x[ a ] = json.loads( x[ a ] )\n",
    "        d = dict()\n",
    "        d[ 'exp' ] = row[ 'exp' ]\n",
    "        d[ 'Grupo de edad' ] = a\n",
    "        d[ 'Día' ] = row[ 'Día' ]\n",
    "        d[ 'Fecha' ] = init_date + pd.DateOffset( days = d[ 'Día' ] )\n",
    "        for i in range( 15 ):\n",
    "            d[ grupo_edad[ i ] ] = x[ a ][ i ]\n",
    "        ds.append( d )\n",
    "    return ds\n",
    "\n",
    "agents_ages = []\n",
    "for i, row in agents.iterrows():\n",
    "    agents_ages = agents_ages + expand_by_age( row )\n",
    "\n",
    "agents_ages = pd.DataFrame( agents_ages )"
   ]
  },
  {
   "cell_type": "raw",
   "metadata": {},
   "source": [
    "agents_ages_norm = []\n",
    "\n",
    "for exp in agents_ages[ 'exp' ].unique():\n",
    "    for age in agents_ages[ 'Grupo de edad' ].unique():\n",
    "        df = agents_ages.loc[ ( agents_ages[ 'exp' ] == exp ) & ( agents_ages[ 'Grupo de edad' ] == age ) ]\n",
    "        total_people = ( df[ 'Susceptibles' ] + df[ 'Leves' ] + df[ 'Graves' ] + df[ 'Críticos' ] + df[ 'Recuperados' ] ).values[ 0 ]\n",
    "\n",
    "        df[ 'Fallecidos' ] = ( total_people - ( df[ 'Susceptibles' ] + df[ 'Leves' ] + df[ 'Graves' ] + df[ 'Críticos' ] + df[ 'Recuperados' ] ) ) / total_people\n",
    "        df[ 'Graves' ] = df[ 'Graves' ] / total_people\n",
    "        df[ 'Críticos' ] = df[ 'Críticos' ] / total_people\n",
    "        agents_ages_norm.append( df[ [ 'exp', 'Fecha', 'Grupo de edad', 'Graves', 'Críticos', 'Fallecidos' ] ] )\n",
    "\n",
    "agents_ages_norm = pd.concat( agents_ages_norm )"
   ]
  },
  {
   "cell_type": "raw",
   "metadata": {},
   "source": [
    "agents_ages_norm.tail()"
   ]
  },
  {
   "cell_type": "raw",
   "metadata": {},
   "source": [
    "pd.melt( agents_ages_norm[ [ 'exp', 'Fecha', 'Grupo de edad', 'Graves', 'Críticos', 'Fallecidos' ] ], id_vars = [ 'Fecha', 'Grupo de edad' ], value_vars =[ 'Graves', 'Críticos', 'Fallecidos' ] ).to_csv( './agents-viz/data/{}-agents2-ages-multi.csv'.format( city ), index = False )\n"
   ]
  },
  {
   "cell_type": "raw",
   "metadata": {},
   "source": [
    "ages = list( all_ages[ 'Grupo de edad' ].unique() )\n",
    "\n",
    "fig = plt.figure( figsize = ( 20, 8 ) )\n",
    "\n",
    "for i in range( 1, len( ages ) + 1 ):\n",
    "    current_age = all_ages[ all_ages[ 'Grupo de edad' ] == ages[ i - 1 ] ]\n",
    "    plt.subplot( 2, 3, i )\n",
    "    plt.plot( current_age[ 'Fecha' ], current_age[ 'Graves' ], label = 'Graves', color = '#317372' )\n",
    "    plt.plot( current_age[ 'Fecha' ], current_age[ 'Críticos' ], label = 'Críticos', color = '#f98a4b' )\n",
    "    plt.plot( current_age[ 'Fecha' ], ( pop - ( current_age[ 'Susceptibles' ] + current_age[ 'Leves' ] + current_age[ 'Graves' ] + current_age[ 'Críticos' ] + current_age[ 'Recuperados' ] ) ), label = 'Fallecidos', color = '#f64438' )\n",
    "    plt.title( ages[ i - 1 ] )\n",
    "    plt.ylim( [ 0, 90 ] )\n",
    "    plt.grid( True )\n",
    "\n",
    "fig.legend( labels = [ 'Graves', 'Críticos', 'Fallecidos' ], loc = 'center right' )"
   ]
  },
  {
   "cell_type": "raw",
   "metadata": {},
   "source": [
    "ages = list( all_ages[ 'Grupo de edad' ].unique() )\n",
    "\n",
    "fig = plt.figure( figsize = ( 20, 8 ) )\n",
    "\n",
    "for i in range( 1, len( ages ) + 1 ):\n",
    "    current_age = all_ages[ all_ages[ 'Grupo de edad' ] == ages[ i - 1 ] ]\n",
    "    pop = ( current_age[ 'Susceptibles' ] + current_age[ 'Leves' ] + current_age[ 'Graves' ] + current_age[ 'Críticos' ] + current_age[ 'Recuperados' ] ).values[ 0 ]\n",
    "    plt.subplot( 2, 3, i )\n",
    "    plt.plot( current_age[ 'Fecha' ], current_age[ '?_4' ].cumsum() / pop, label = 'Tasa de ataque' )\n",
    "    plt.title( ages[ i - 1 ] )\n",
    "    plt.ylim( [ 0, 1 ] )\n",
    "    plt.grid( True )\n",
    "\n",
    "fig.legend( labels = [ 'Tasa de ataque' ], loc = 'center right' )"
   ]
  },
  {
   "cell_type": "raw",
   "metadata": {},
   "source": [
    "age = list( all_ages[ 'Grupo de edad' ].unique() )\n",
    "\n",
    "agents_ages = []\n",
    "for age in ages:\n",
    "    current_age = all_ages[ all_ages[ 'Grupo de edad' ] == age]\n",
    "    pop = ( current_age[ 'Susceptibles' ] + current_age[ 'Leves' ] + current_age[ 'Graves' ] + current_age[ 'Críticos' ] + current_age[ 'Recuperados' ] ).values[ 0 ]\n",
    "    \n",
    "    current_age[ 'Fallecidos' ] = ( pop - ( current_age[ 'Susceptibles' ] + current_age[ 'Leves' ] + current_age[ 'Graves' ] + current_age[ 'Críticos' ] + current_age[ 'Recuperados' ] ) ) / pop\n",
    "    current_age[ 'Graves' ] = current_age[ 'Graves' ] / pop\n",
    "    current_age[ 'Críticos' ] = current_age[ 'Críticos' ] / pop\n",
    "    \n",
    "    \n",
    "    current_age = pd.melt( current_age[ [ 'Fecha', 'Graves', 'Críticos', 'Fallecidos' ] ], id_vars = [ 'Fecha' ], value_vars =[ 'Graves', 'Críticos', 'Fallecidos' ] )\n",
    "    current_age[ 'Grupo de edad' ] = age\n",
    "    agents_ages.append( current_age )\n",
    "    \n",
    "pd.concat( agents_ages ).to_csv( './agents-viz/data/{}-agents-ages2.csv'.format( city ), index = False )"
   ]
  },
  {
   "cell_type": "raw",
   "metadata": {},
   "source": []
  },
  {
   "cell_type": "raw",
   "metadata": {},
   "source": []
  },
  {
   "cell_type": "raw",
   "metadata": {},
   "source": []
  },
  {
   "cell_type": "raw",
   "metadata": {},
   "source": [
    "quarentenas = { 0: 'Susceptibles', 1: 'Leves', 2: 'Graves', 3: 'Críticos', 4: 'Recuperados'  }"
   ]
  },
  {
   "cell_type": "raw",
   "metadata": {},
   "source": [
    "def expand_by_quarintine( x ):\n",
    "    ds = []\n",
    "    x[ 'En_cuarentena' ] = json.loads( x[ 'En_cuarentena' ] )\n",
    "    d = dict()\n",
    "    d[ 'Día' ] = row[ 'Día' ]\n",
    "    for i in range( 5 ):\n",
    "        d[ quarentenas[ i ] ] = x[ 'En_cuarentena' ][ i ]\n",
    "    ds.append( d )\n",
    "    return ds\n",
    "\n",
    "all_quarintines = []\n",
    "for i, row in agents.iterrows():\n",
    "    all_quarintines = all_quarintines + expand_by_quarintine( row )\n",
    "\n",
    "all_quarintines = pd.DataFrame( all_quarintines )"
   ]
  },
  {
   "cell_type": "raw",
   "metadata": {},
   "source": [
    "all_quarintines.tail()"
   ]
  },
  {
   "cell_type": "raw",
   "metadata": {},
   "source": [
    "plt.plot( all_quarintines[ 'Día' ], ( all_quarintines[ 'Susceptibles' ] + all_quarintines[ 'Recuperados' ] + all_quarintines[ 'Leves' ] + all_quarintines[ 'Graves' ] + all_quarintines[ 'Críticos' ] ) )"
   ]
  },
  {
   "cell_type": "raw",
   "metadata": {},
   "source": []
  },
  {
   "cell_type": "raw",
   "metadata": {},
   "source": [
    "del agents[ 'Recuento_zonas' ]\n",
    "del agents[ '0-4' ]\n",
    "del agents[ '5-19' ]\n",
    "del agents[ '20-39' ]\n",
    "del agents[ '40-59' ]\n",
    "del agents[ '>60' ]\n",
    "del agents[ 'En_cuarentena' ]"
   ]
  },
  {
   "cell_type": "raw",
   "metadata": {},
   "source": [
    "agents.tail()"
   ]
  },
  {
   "cell_type": "raw",
   "metadata": {},
   "source": [
    "agents.dtypes"
   ]
  },
  {
   "cell_type": "raw",
   "metadata": {},
   "source": [
    "agents.to_csv( './data/agents/agents_bogota.csv', index = False )"
   ]
  },
  {
   "cell_type": "raw",
   "metadata": {},
   "source": []
  }
 ],
 "metadata": {
  "kernelspec": {
   "display_name": "Python 3",
   "language": "python",
   "name": "python3"
  },
  "language_info": {
   "codemirror_mode": {
    "name": "ipython",
    "version": 3
   },
   "file_extension": ".py",
   "mimetype": "text/x-python",
   "name": "python",
   "nbconvert_exporter": "python",
   "pygments_lexer": "ipython3",
   "version": "3.7.6"
  }
 },
 "nbformat": 4,
 "nbformat_minor": 4
}
