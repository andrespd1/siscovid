{
 "cells": [
  {
   "cell_type": "code",
   "execution_count": 1,
   "metadata": {},
   "outputs": [],
   "source": [
    "# This notebook explores the results for the agent based model"
   ]
  },
  {
   "cell_type": "code",
   "execution_count": 2,
   "metadata": {},
   "outputs": [],
   "source": [
    "import re\n",
    "import glob\n",
    "import json\n",
    "import numpy as np\n",
    "import pandas as pd\n",
    "import geopandas as gpd\n",
    "\n",
    "import matplotlib.pyplot as plt\n",
    "%matplotlib inline"
   ]
  },
  {
   "cell_type": "code",
   "execution_count": 3,
   "metadata": {},
   "outputs": [],
   "source": [
    "pd.set_option( 'display.max_columns', None )\n",
    "pd.set_option( 'display.max_rows', None )"
   ]
  },
  {
   "cell_type": "markdown",
   "metadata": {},
   "source": [
    "# Loading localidades GeoJSON for reference"
   ]
  },
  {
   "cell_type": "code",
   "execution_count": null,
   "metadata": {},
   "outputs": [],
   "source": [
    "localidades = gpd.read_file( './data/geo/bogotá/localidades_no_sumapaz.json' )"
   ]
  },
  {
   "cell_type": "code",
   "execution_count": null,
   "metadata": {},
   "outputs": [],
   "source": [
    "del localidades[ 'geometry' ]"
   ]
  },
  {
   "cell_type": "code",
   "execution_count": null,
   "metadata": {},
   "outputs": [],
   "source": [
    "localidades.head()"
   ]
  },
  {
   "cell_type": "code",
   "execution_count": null,
   "metadata": {},
   "outputs": [],
   "source": [
    "locs = {}\n",
    "for i, row in localidades.iterrows():\n",
    "    locs[ str( row[ 'codigo_localidad' ] ) ] = row[ 'localidad' ]\n",
    "locs"
   ]
  },
  {
   "cell_type": "markdown",
   "metadata": {},
   "source": [
    "# Loading ABM results"
   ]
  },
  {
   "cell_type": "code",
   "execution_count": 67,
   "metadata": {},
   "outputs": [],
   "source": [
    "city = 'cartagena'\n",
    "scenario = '4'\n",
    "init_date = pd.to_datetime( '03/06/2020' )"
   ]
  },
  {
   "cell_type": "code",
   "execution_count": 68,
   "metadata": {},
   "outputs": [],
   "source": [
    "path = './data/agents/{}/{}/*.csv'.format( city, scenario )"
   ]
  },
  {
   "cell_type": "code",
   "execution_count": 69,
   "metadata": {},
   "outputs": [],
   "source": [
    "files = glob.glob( path )"
   ]
  },
  {
   "cell_type": "code",
   "execution_count": 70,
   "metadata": {},
   "outputs": [],
   "source": [
    "files.sort()"
   ]
  },
  {
   "cell_type": "raw",
   "metadata": {},
   "source": [
    "files = files[:32]"
   ]
  },
  {
   "cell_type": "code",
   "execution_count": 71,
   "metadata": {},
   "outputs": [],
   "source": [
    "agents = []\n",
    "exp = 0\n",
    "\n",
    "for file in files:\n",
    "    df = pd.read_csv( file )\n",
    "    df[ 'Fecha' ] = df[ 'Día' ].apply( lambda x: init_date + pd.DateOffset( days = x ) )\n",
    "    df[ 'exp' ] = exp\n",
    "    agents.append( df )\n",
    "    exp = exp + 1\n",
    "\n",
    "agents = pd.concat( agents )\n",
    "del agents[ 'Unnamed: 0' ]"
   ]
  },
  {
   "cell_type": "code",
   "execution_count": 72,
   "metadata": {},
   "outputs": [
    {
     "data": {
      "text/plain": [
       "(6400, 41)"
      ]
     },
     "execution_count": 72,
     "metadata": {},
     "output_type": "execute_result"
    }
   ],
   "source": [
    "agents.shape"
   ]
  },
  {
   "cell_type": "code",
   "execution_count": 73,
   "metadata": {},
   "outputs": [
    {
     "data": {
      "text/plain": [
       "Susceptibles                                   int64\n",
       "Total infectados                               int64\n",
       "Graves                                         int64\n",
       "Críticos                                       int64\n",
       "Leves                                          int64\n",
       "Recuperados                                    int64\n",
       "Rt                                           float64\n",
       "Recuento_zonas                                object\n",
       "0-9                                           object\n",
       "10-19                                         object\n",
       "20-39                                         object\n",
       "40-59                                         object\n",
       ">60                                           object\n",
       "En_cuarentena                                 object\n",
       "Restringido_movilidad                         object\n",
       "Vivos                                          int64\n",
       "Día                                            int64\n",
       "Contactos_prom_trabajo                       float64\n",
       "Contactos_prom_transporte                    float64\n",
       "Contactos_prom_casa                          float64\n",
       "Contactos_prom_trabajo_conm                  float64\n",
       "Contactos_prom_transporte_conm               float64\n",
       "Contactos_prom_casa_conm                     float64\n",
       "Nuevos_infectados                              int64\n",
       "Detectados                                     int64\n",
       "En_testing                                     int64\n",
       "En_cama                                        int64\n",
       "En_UCI                                         int64\n",
       "Detectados_por_intervencion                    int64\n",
       "#Intervenidos                                  int64\n",
       "porcentaje_edad_activa_por_zona               object\n",
       "porcentaje_edad_activa                       float64\n",
       "tasa_letalidad_por_zona                       object\n",
       "tasa_letalidad                               float64\n",
       "total_muertos                                  int64\n",
       "total_muertos_por_zona                        object\n",
       "total_muertos_edad_activa                      int64\n",
       "total_muertos_edad_activa_por_zona            object\n",
       "zonas intervenidas                            object\n",
       "Fecha                                 datetime64[ns]\n",
       "exp                                            int64\n",
       "dtype: object"
      ]
     },
     "execution_count": 73,
     "metadata": {},
     "output_type": "execute_result"
    }
   ],
   "source": [
    "agents.dtypes"
   ]
  },
  {
   "cell_type": "code",
   "execution_count": 74,
   "metadata": {},
   "outputs": [
    {
     "data": {
      "text/html": [
       "<div>\n",
       "<style scoped>\n",
       "    .dataframe tbody tr th:only-of-type {\n",
       "        vertical-align: middle;\n",
       "    }\n",
       "\n",
       "    .dataframe tbody tr th {\n",
       "        vertical-align: top;\n",
       "    }\n",
       "\n",
       "    .dataframe thead th {\n",
       "        text-align: right;\n",
       "    }\n",
       "</style>\n",
       "<table border=\"1\" class=\"dataframe\">\n",
       "  <thead>\n",
       "    <tr style=\"text-align: right;\">\n",
       "      <th></th>\n",
       "      <th>Susceptibles</th>\n",
       "      <th>Total infectados</th>\n",
       "      <th>Graves</th>\n",
       "      <th>Críticos</th>\n",
       "      <th>Leves</th>\n",
       "      <th>Recuperados</th>\n",
       "      <th>Rt</th>\n",
       "      <th>Recuento_zonas</th>\n",
       "      <th>0-9</th>\n",
       "      <th>10-19</th>\n",
       "      <th>20-39</th>\n",
       "      <th>40-59</th>\n",
       "      <th>&gt;60</th>\n",
       "      <th>En_cuarentena</th>\n",
       "      <th>Restringido_movilidad</th>\n",
       "      <th>Vivos</th>\n",
       "      <th>Día</th>\n",
       "      <th>Contactos_prom_trabajo</th>\n",
       "      <th>Contactos_prom_transporte</th>\n",
       "      <th>Contactos_prom_casa</th>\n",
       "      <th>Contactos_prom_trabajo_conm</th>\n",
       "      <th>Contactos_prom_transporte_conm</th>\n",
       "      <th>Contactos_prom_casa_conm</th>\n",
       "      <th>Nuevos_infectados</th>\n",
       "      <th>Detectados</th>\n",
       "      <th>En_testing</th>\n",
       "      <th>En_cama</th>\n",
       "      <th>En_UCI</th>\n",
       "      <th>Detectados_por_intervencion</th>\n",
       "      <th>#Intervenidos</th>\n",
       "      <th>porcentaje_edad_activa_por_zona</th>\n",
       "      <th>porcentaje_edad_activa</th>\n",
       "      <th>tasa_letalidad_por_zona</th>\n",
       "      <th>tasa_letalidad</th>\n",
       "      <th>total_muertos</th>\n",
       "      <th>total_muertos_por_zona</th>\n",
       "      <th>total_muertos_edad_activa</th>\n",
       "      <th>total_muertos_edad_activa_por_zona</th>\n",
       "      <th>zonas intervenidas</th>\n",
       "      <th>Fecha</th>\n",
       "      <th>exp</th>\n",
       "    </tr>\n",
       "  </thead>\n",
       "  <tbody>\n",
       "    <tr>\n",
       "      <th>195</th>\n",
       "      <td>23671</td>\n",
       "      <td>413</td>\n",
       "      <td>8</td>\n",
       "      <td>1</td>\n",
       "      <td>404</td>\n",
       "      <td>20315</td>\n",
       "      <td>0.295400</td>\n",
       "      <td>{'Historica y del caribe norte': [7945, 0, 0, ...</td>\n",
       "      <td>[6919, 0, 0, 0, 0, 0, 0, 0, 0, 0, 0, 0, 183, 0...</td>\n",
       "      <td>[6604, 0, 0, 8, 0, 0, 0, 0, 0, 0, 0, 0, 684, 0...</td>\n",
       "      <td>[4105, 0, 0, 210, 15, 0, 2, 0, 2, 0, 0, 0, 102...</td>\n",
       "      <td>[2808, 0, 0, 156, 9, 0, 4, 0, 4, 0, 0, 0, 7099...</td>\n",
       "      <td>[3235, 0, 0, 30, 1, 0, 2, 0, 2, 1, 0, 1, 2121,...</td>\n",
       "      <td>[18197, 128, 3, 0, 6605]</td>\n",
       "      <td>[0, 0, 0, 0, 0]</td>\n",
       "      <td>44399</td>\n",
       "      <td>195</td>\n",
       "      <td>2.819027</td>\n",
       "      <td>1.887993</td>\n",
       "      <td>1.155184</td>\n",
       "      <td>6.429775</td>\n",
       "      <td>4.306226</td>\n",
       "      <td>2.634799</td>\n",
       "      <td>25</td>\n",
       "      <td>322</td>\n",
       "      <td>0</td>\n",
       "      <td>67</td>\n",
       "      <td>8</td>\n",
       "      <td>0</td>\n",
       "      <td>0</td>\n",
       "      <td>{'De la virgen y turistica': 0.005792008330079...</td>\n",
       "      <td>0.004797</td>\n",
       "      <td>{'De la virgen y turistica': 0.022058823529411...</td>\n",
       "      <td>0.021277</td>\n",
       "      <td>7</td>\n",
       "      <td>{'De la virgen y turistica': 3, 'Historica y d...</td>\n",
       "      <td>2</td>\n",
       "      <td>{'De la virgen y turistica': 1, 'Historica y d...</td>\n",
       "      <td>{}</td>\n",
       "      <td>2020-09-17</td>\n",
       "      <td>31</td>\n",
       "    </tr>\n",
       "    <tr>\n",
       "      <th>196</th>\n",
       "      <td>23655</td>\n",
       "      <td>400</td>\n",
       "      <td>8</td>\n",
       "      <td>1</td>\n",
       "      <td>391</td>\n",
       "      <td>20344</td>\n",
       "      <td>0.305000</td>\n",
       "      <td>{'Historica y del caribe norte': [7938, 0, 0, ...</td>\n",
       "      <td>[6919, 0, 0, 0, 0, 0, 0, 0, 0, 0, 0, 0, 183, 0...</td>\n",
       "      <td>[6604, 0, 0, 7, 0, 0, 0, 0, 0, 0, 0, 0, 685, 0...</td>\n",
       "      <td>[4096, 0, 0, 210, 12, 0, 2, 0, 2, 0, 0, 0, 102...</td>\n",
       "      <td>[2803, 0, 0, 146, 5, 0, 4, 0, 4, 0, 0, 0, 7114...</td>\n",
       "      <td>[3233, 0, 0, 28, 0, 0, 2, 0, 2, 1, 0, 1, 2125,...</td>\n",
       "      <td>[18602, 131, 3, 1, 8055]</td>\n",
       "      <td>[0, 0, 0, 0, 0]</td>\n",
       "      <td>44399</td>\n",
       "      <td>196</td>\n",
       "      <td>2.315435</td>\n",
       "      <td>1.546409</td>\n",
       "      <td>0.981036</td>\n",
       "      <td>5.838757</td>\n",
       "      <td>3.899529</td>\n",
       "      <td>2.473846</td>\n",
       "      <td>17</td>\n",
       "      <td>322</td>\n",
       "      <td>0</td>\n",
       "      <td>67</td>\n",
       "      <td>8</td>\n",
       "      <td>0</td>\n",
       "      <td>0</td>\n",
       "      <td>{'De la virgen y turistica': 0.005792008330079...</td>\n",
       "      <td>0.004797</td>\n",
       "      <td>{'De la virgen y turistica': 0.022058823529411...</td>\n",
       "      <td>0.021277</td>\n",
       "      <td>7</td>\n",
       "      <td>{'De la virgen y turistica': 3, 'Historica y d...</td>\n",
       "      <td>2</td>\n",
       "      <td>{'De la virgen y turistica': 1, 'Historica y d...</td>\n",
       "      <td>{}</td>\n",
       "      <td>2020-09-18</td>\n",
       "      <td>31</td>\n",
       "    </tr>\n",
       "    <tr>\n",
       "      <th>197</th>\n",
       "      <td>23635</td>\n",
       "      <td>396</td>\n",
       "      <td>8</td>\n",
       "      <td>1</td>\n",
       "      <td>387</td>\n",
       "      <td>20368</td>\n",
       "      <td>0.290404</td>\n",
       "      <td>{'Historica y del caribe norte': [7927, 0, 0, ...</td>\n",
       "      <td>[6919, 0, 0, 0, 0, 0, 0, 0, 0, 0, 0, 0, 183, 0...</td>\n",
       "      <td>[6603, 0, 0, 8, 0, 0, 0, 0, 0, 0, 0, 0, 685, 0...</td>\n",
       "      <td>[4084, 0, 0, 214, 11, 0, 2, 0, 2, 0, 0, 0, 102...</td>\n",
       "      <td>[2796, 0, 0, 141, 5, 0, 3, 0, 3, 0, 0, 0, 7127...</td>\n",
       "      <td>[3233, 0, 0, 24, 2, 0, 3, 0, 2, 1, 0, 1, 2128,...</td>\n",
       "      <td>[17988, 93, 1, 0, 6193]</td>\n",
       "      <td>[0, 0, 0, 0, 0]</td>\n",
       "      <td>44399</td>\n",
       "      <td>197</td>\n",
       "      <td>2.996802</td>\n",
       "      <td>2.030789</td>\n",
       "      <td>1.210725</td>\n",
       "      <td>6.611757</td>\n",
       "      <td>4.480471</td>\n",
       "      <td>2.671189</td>\n",
       "      <td>18</td>\n",
       "      <td>322</td>\n",
       "      <td>1</td>\n",
       "      <td>67</td>\n",
       "      <td>8</td>\n",
       "      <td>0</td>\n",
       "      <td>0</td>\n",
       "      <td>{'De la virgen y turistica': 0.005792008330079...</td>\n",
       "      <td>0.004797</td>\n",
       "      <td>{'De la virgen y turistica': 0.022058823529411...</td>\n",
       "      <td>0.021277</td>\n",
       "      <td>7</td>\n",
       "      <td>{'De la virgen y turistica': 3, 'Historica y d...</td>\n",
       "      <td>2</td>\n",
       "      <td>{'De la virgen y turistica': 1, 'Historica y d...</td>\n",
       "      <td>{}</td>\n",
       "      <td>2020-09-19</td>\n",
       "      <td>31</td>\n",
       "    </tr>\n",
       "    <tr>\n",
       "      <th>198</th>\n",
       "      <td>23605</td>\n",
       "      <td>397</td>\n",
       "      <td>7</td>\n",
       "      <td>1</td>\n",
       "      <td>389</td>\n",
       "      <td>20397</td>\n",
       "      <td>0.307305</td>\n",
       "      <td>{'Historica y del caribe norte': [7913, 0, 0, ...</td>\n",
       "      <td>[6919, 0, 0, 0, 0, 0, 0, 0, 0, 0, 0, 0, 183, 0...</td>\n",
       "      <td>[6603, 0, 0, 7, 1, 0, 0, 0, 0, 0, 0, 0, 686, 0...</td>\n",
       "      <td>[4067, 0, 0, 215, 14, 0, 2, 0, 2, 0, 0, 0, 102...</td>\n",
       "      <td>[2785, 0, 0, 141, 10, 0, 2, 0, 2, 0, 0, 0, 713...</td>\n",
       "      <td>[3231, 0, 0, 26, 1, 0, 3, 0, 2, 1, 0, 1, 2128,...</td>\n",
       "      <td>[17979, 97, 0, 1, 6435]</td>\n",
       "      <td>[0, 0, 0, 0, 0]</td>\n",
       "      <td>44399</td>\n",
       "      <td>198</td>\n",
       "      <td>2.913647</td>\n",
       "      <td>1.982747</td>\n",
       "      <td>1.179036</td>\n",
       "      <td>6.504903</td>\n",
       "      <td>4.426610</td>\n",
       "      <td>2.632272</td>\n",
       "      <td>26</td>\n",
       "      <td>322</td>\n",
       "      <td>1</td>\n",
       "      <td>67</td>\n",
       "      <td>8</td>\n",
       "      <td>0</td>\n",
       "      <td>0</td>\n",
       "      <td>{'De la virgen y turistica': 0.005792008330079...</td>\n",
       "      <td>0.004797</td>\n",
       "      <td>{'De la virgen y turistica': 0.022058823529411...</td>\n",
       "      <td>0.021277</td>\n",
       "      <td>7</td>\n",
       "      <td>{'De la virgen y turistica': 3, 'Historica y d...</td>\n",
       "      <td>2</td>\n",
       "      <td>{'De la virgen y turistica': 1, 'Historica y d...</td>\n",
       "      <td>{}</td>\n",
       "      <td>2020-09-20</td>\n",
       "      <td>31</td>\n",
       "    </tr>\n",
       "    <tr>\n",
       "      <th>199</th>\n",
       "      <td>23585</td>\n",
       "      <td>378</td>\n",
       "      <td>7</td>\n",
       "      <td>1</td>\n",
       "      <td>370</td>\n",
       "      <td>20436</td>\n",
       "      <td>0.264550</td>\n",
       "      <td>{'Historica y del caribe norte': [7900, 0, 0, ...</td>\n",
       "      <td>[6919, 0, 0, 0, 0, 0, 0, 0, 0, 0, 0, 0, 183, 0...</td>\n",
       "      <td>[6603, 0, 0, 6, 0, 0, 0, 0, 0, 0, 0, 0, 687, 0...</td>\n",
       "      <td>[4055, 0, 0, 207, 16, 0, 3, 0, 2, 0, 0, 0, 102...</td>\n",
       "      <td>[2781, 0, 0, 131, 10, 0, 2, 0, 2, 0, 0, 0, 715...</td>\n",
       "      <td>[3227, 0, 0, 26, 2, 0, 2, 0, 1, 1, 0, 1, 2133,...</td>\n",
       "      <td>[17897, 105, 1, 0, 6446]</td>\n",
       "      <td>[0, 0, 0, 0, 0]</td>\n",
       "      <td>44399</td>\n",
       "      <td>199</td>\n",
       "      <td>2.940494</td>\n",
       "      <td>1.989414</td>\n",
       "      <td>1.197932</td>\n",
       "      <td>6.544110</td>\n",
       "      <td>4.427469</td>\n",
       "      <td>2.666015</td>\n",
       "      <td>28</td>\n",
       "      <td>322</td>\n",
       "      <td>2</td>\n",
       "      <td>67</td>\n",
       "      <td>8</td>\n",
       "      <td>0</td>\n",
       "      <td>0</td>\n",
       "      <td>{'De la virgen y turistica': 0.005792008330079...</td>\n",
       "      <td>0.004797</td>\n",
       "      <td>{'De la virgen y turistica': 0.022058823529411...</td>\n",
       "      <td>0.021277</td>\n",
       "      <td>7</td>\n",
       "      <td>{'De la virgen y turistica': 3, 'Historica y d...</td>\n",
       "      <td>2</td>\n",
       "      <td>{'De la virgen y turistica': 1, 'Historica y d...</td>\n",
       "      <td>{}</td>\n",
       "      <td>2020-09-21</td>\n",
       "      <td>31</td>\n",
       "    </tr>\n",
       "  </tbody>\n",
       "</table>\n",
       "</div>"
      ],
      "text/plain": [
       "     Susceptibles  Total infectados  Graves  Críticos  Leves  Recuperados  \\\n",
       "195         23671               413       8         1    404        20315   \n",
       "196         23655               400       8         1    391        20344   \n",
       "197         23635               396       8         1    387        20368   \n",
       "198         23605               397       7         1    389        20397   \n",
       "199         23585               378       7         1    370        20436   \n",
       "\n",
       "           Rt                                     Recuento_zonas  \\\n",
       "195  0.295400  {'Historica y del caribe norte': [7945, 0, 0, ...   \n",
       "196  0.305000  {'Historica y del caribe norte': [7938, 0, 0, ...   \n",
       "197  0.290404  {'Historica y del caribe norte': [7927, 0, 0, ...   \n",
       "198  0.307305  {'Historica y del caribe norte': [7913, 0, 0, ...   \n",
       "199  0.264550  {'Historica y del caribe norte': [7900, 0, 0, ...   \n",
       "\n",
       "                                                   0-9  \\\n",
       "195  [6919, 0, 0, 0, 0, 0, 0, 0, 0, 0, 0, 0, 183, 0...   \n",
       "196  [6919, 0, 0, 0, 0, 0, 0, 0, 0, 0, 0, 0, 183, 0...   \n",
       "197  [6919, 0, 0, 0, 0, 0, 0, 0, 0, 0, 0, 0, 183, 0...   \n",
       "198  [6919, 0, 0, 0, 0, 0, 0, 0, 0, 0, 0, 0, 183, 0...   \n",
       "199  [6919, 0, 0, 0, 0, 0, 0, 0, 0, 0, 0, 0, 183, 0...   \n",
       "\n",
       "                                                 10-19  \\\n",
       "195  [6604, 0, 0, 8, 0, 0, 0, 0, 0, 0, 0, 0, 684, 0...   \n",
       "196  [6604, 0, 0, 7, 0, 0, 0, 0, 0, 0, 0, 0, 685, 0...   \n",
       "197  [6603, 0, 0, 8, 0, 0, 0, 0, 0, 0, 0, 0, 685, 0...   \n",
       "198  [6603, 0, 0, 7, 1, 0, 0, 0, 0, 0, 0, 0, 686, 0...   \n",
       "199  [6603, 0, 0, 6, 0, 0, 0, 0, 0, 0, 0, 0, 687, 0...   \n",
       "\n",
       "                                                 20-39  \\\n",
       "195  [4105, 0, 0, 210, 15, 0, 2, 0, 2, 0, 0, 0, 102...   \n",
       "196  [4096, 0, 0, 210, 12, 0, 2, 0, 2, 0, 0, 0, 102...   \n",
       "197  [4084, 0, 0, 214, 11, 0, 2, 0, 2, 0, 0, 0, 102...   \n",
       "198  [4067, 0, 0, 215, 14, 0, 2, 0, 2, 0, 0, 0, 102...   \n",
       "199  [4055, 0, 0, 207, 16, 0, 3, 0, 2, 0, 0, 0, 102...   \n",
       "\n",
       "                                                 40-59  \\\n",
       "195  [2808, 0, 0, 156, 9, 0, 4, 0, 4, 0, 0, 0, 7099...   \n",
       "196  [2803, 0, 0, 146, 5, 0, 4, 0, 4, 0, 0, 0, 7114...   \n",
       "197  [2796, 0, 0, 141, 5, 0, 3, 0, 3, 0, 0, 0, 7127...   \n",
       "198  [2785, 0, 0, 141, 10, 0, 2, 0, 2, 0, 0, 0, 713...   \n",
       "199  [2781, 0, 0, 131, 10, 0, 2, 0, 2, 0, 0, 0, 715...   \n",
       "\n",
       "                                                   >60  \\\n",
       "195  [3235, 0, 0, 30, 1, 0, 2, 0, 2, 1, 0, 1, 2121,...   \n",
       "196  [3233, 0, 0, 28, 0, 0, 2, 0, 2, 1, 0, 1, 2125,...   \n",
       "197  [3233, 0, 0, 24, 2, 0, 3, 0, 2, 1, 0, 1, 2128,...   \n",
       "198  [3231, 0, 0, 26, 1, 0, 3, 0, 2, 1, 0, 1, 2128,...   \n",
       "199  [3227, 0, 0, 26, 2, 0, 2, 0, 1, 1, 0, 1, 2133,...   \n",
       "\n",
       "                En_cuarentena Restringido_movilidad  Vivos  Día  \\\n",
       "195  [18197, 128, 3, 0, 6605]       [0, 0, 0, 0, 0]  44399  195   \n",
       "196  [18602, 131, 3, 1, 8055]       [0, 0, 0, 0, 0]  44399  196   \n",
       "197   [17988, 93, 1, 0, 6193]       [0, 0, 0, 0, 0]  44399  197   \n",
       "198   [17979, 97, 0, 1, 6435]       [0, 0, 0, 0, 0]  44399  198   \n",
       "199  [17897, 105, 1, 0, 6446]       [0, 0, 0, 0, 0]  44399  199   \n",
       "\n",
       "     Contactos_prom_trabajo  Contactos_prom_transporte  Contactos_prom_casa  \\\n",
       "195                2.819027                   1.887993             1.155184   \n",
       "196                2.315435                   1.546409             0.981036   \n",
       "197                2.996802                   2.030789             1.210725   \n",
       "198                2.913647                   1.982747             1.179036   \n",
       "199                2.940494                   1.989414             1.197932   \n",
       "\n",
       "     Contactos_prom_trabajo_conm  Contactos_prom_transporte_conm  \\\n",
       "195                     6.429775                        4.306226   \n",
       "196                     5.838757                        3.899529   \n",
       "197                     6.611757                        4.480471   \n",
       "198                     6.504903                        4.426610   \n",
       "199                     6.544110                        4.427469   \n",
       "\n",
       "     Contactos_prom_casa_conm  Nuevos_infectados  Detectados  En_testing  \\\n",
       "195                  2.634799                 25         322           0   \n",
       "196                  2.473846                 17         322           0   \n",
       "197                  2.671189                 18         322           1   \n",
       "198                  2.632272                 26         322           1   \n",
       "199                  2.666015                 28         322           2   \n",
       "\n",
       "     En_cama  En_UCI  Detectados_por_intervencion  #Intervenidos  \\\n",
       "195       67       8                            0              0   \n",
       "196       67       8                            0              0   \n",
       "197       67       8                            0              0   \n",
       "198       67       8                            0              0   \n",
       "199       67       8                            0              0   \n",
       "\n",
       "                       porcentaje_edad_activa_por_zona  \\\n",
       "195  {'De la virgen y turistica': 0.005792008330079...   \n",
       "196  {'De la virgen y turistica': 0.005792008330079...   \n",
       "197  {'De la virgen y turistica': 0.005792008330079...   \n",
       "198  {'De la virgen y turistica': 0.005792008330079...   \n",
       "199  {'De la virgen y turistica': 0.005792008330079...   \n",
       "\n",
       "     porcentaje_edad_activa  \\\n",
       "195                0.004797   \n",
       "196                0.004797   \n",
       "197                0.004797   \n",
       "198                0.004797   \n",
       "199                0.004797   \n",
       "\n",
       "                               tasa_letalidad_por_zona  tasa_letalidad  \\\n",
       "195  {'De la virgen y turistica': 0.022058823529411...        0.021277   \n",
       "196  {'De la virgen y turistica': 0.022058823529411...        0.021277   \n",
       "197  {'De la virgen y turistica': 0.022058823529411...        0.021277   \n",
       "198  {'De la virgen y turistica': 0.022058823529411...        0.021277   \n",
       "199  {'De la virgen y turistica': 0.022058823529411...        0.021277   \n",
       "\n",
       "     total_muertos                             total_muertos_por_zona  \\\n",
       "195              7  {'De la virgen y turistica': 3, 'Historica y d...   \n",
       "196              7  {'De la virgen y turistica': 3, 'Historica y d...   \n",
       "197              7  {'De la virgen y turistica': 3, 'Historica y d...   \n",
       "198              7  {'De la virgen y turistica': 3, 'Historica y d...   \n",
       "199              7  {'De la virgen y turistica': 3, 'Historica y d...   \n",
       "\n",
       "     total_muertos_edad_activa  \\\n",
       "195                          2   \n",
       "196                          2   \n",
       "197                          2   \n",
       "198                          2   \n",
       "199                          2   \n",
       "\n",
       "                    total_muertos_edad_activa_por_zona zonas intervenidas  \\\n",
       "195  {'De la virgen y turistica': 1, 'Historica y d...                 {}   \n",
       "196  {'De la virgen y turistica': 1, 'Historica y d...                 {}   \n",
       "197  {'De la virgen y turistica': 1, 'Historica y d...                 {}   \n",
       "198  {'De la virgen y turistica': 1, 'Historica y d...                 {}   \n",
       "199  {'De la virgen y turistica': 1, 'Historica y d...                 {}   \n",
       "\n",
       "         Fecha  exp  \n",
       "195 2020-09-17   31  \n",
       "196 2020-09-18   31  \n",
       "197 2020-09-19   31  \n",
       "198 2020-09-20   31  \n",
       "199 2020-09-21   31  "
      ]
     },
     "execution_count": 74,
     "metadata": {},
     "output_type": "execute_result"
    }
   ],
   "source": [
    "agents.tail()"
   ]
  },
  {
   "cell_type": "code",
   "execution_count": 75,
   "metadata": {},
   "outputs": [],
   "source": [
    "def sum_quarantine( x ):\n",
    "    x = json.loads( x )\n",
    "    people_in_q = x[ 0 ] + x[ 1 ] + x[ 2 ] + x[ 3 ] + x[ 4 ]\n",
    "    return people_in_q"
   ]
  },
  {
   "cell_type": "code",
   "execution_count": 76,
   "metadata": {},
   "outputs": [
    {
     "name": "stderr",
     "output_type": "stream",
     "text": [
      "/Users/fabian/anaconda3/lib/python3.7/site-packages/ipykernel_launcher.py:6: SettingWithCopyWarning: \n",
      "A value is trying to be set on a copy of a slice from a DataFrame.\n",
      "Try using .loc[row_indexer,col_indexer] = value instead\n",
      "\n",
      "See the caveats in the documentation: https://pandas.pydata.org/pandas-docs/stable/user_guide/indexing.html#returning-a-view-versus-a-copy\n",
      "  \n",
      "/Users/fabian/anaconda3/lib/python3.7/site-packages/ipykernel_launcher.py:7: SettingWithCopyWarning: \n",
      "A value is trying to be set on a copy of a slice from a DataFrame.\n",
      "Try using .loc[row_indexer,col_indexer] = value instead\n",
      "\n",
      "See the caveats in the documentation: https://pandas.pydata.org/pandas-docs/stable/user_guide/indexing.html#returning-a-view-versus-a-copy\n",
      "  import sys\n",
      "/Users/fabian/anaconda3/lib/python3.7/site-packages/ipykernel_launcher.py:8: SettingWithCopyWarning: \n",
      "A value is trying to be set on a copy of a slice from a DataFrame.\n",
      "Try using .loc[row_indexer,col_indexer] = value instead\n",
      "\n",
      "See the caveats in the documentation: https://pandas.pydata.org/pandas-docs/stable/user_guide/indexing.html#returning-a-view-versus-a-copy\n",
      "  \n",
      "/Users/fabian/anaconda3/lib/python3.7/site-packages/ipykernel_launcher.py:9: SettingWithCopyWarning: \n",
      "A value is trying to be set on a copy of a slice from a DataFrame.\n",
      "Try using .loc[row_indexer,col_indexer] = value instead\n",
      "\n",
      "See the caveats in the documentation: https://pandas.pydata.org/pandas-docs/stable/user_guide/indexing.html#returning-a-view-versus-a-copy\n",
      "  if __name__ == '__main__':\n",
      "/Users/fabian/anaconda3/lib/python3.7/site-packages/ipykernel_launcher.py:10: SettingWithCopyWarning: \n",
      "A value is trying to be set on a copy of a slice from a DataFrame.\n",
      "Try using .loc[row_indexer,col_indexer] = value instead\n",
      "\n",
      "See the caveats in the documentation: https://pandas.pydata.org/pandas-docs/stable/user_guide/indexing.html#returning-a-view-versus-a-copy\n",
      "  # Remove the CWD from sys.path while we load stuff.\n"
     ]
    }
   ],
   "source": [
    "agents_norm = []\n",
    "\n",
    "for exp in agents[ 'exp' ].unique():\n",
    "    df = agents.loc[ agents[ 'exp' ] == exp ]\n",
    "    total_people = df[ 'Vivos' ].values[ 0 ]\n",
    "    df[ 'Graves' ] = df[ 'Graves' ] / total_people\n",
    "    df[ 'Críticos' ] = df[ 'Críticos' ] / total_people\n",
    "    df[ 'Fallecidos' ] = ( total_people - df[ 'Vivos' ] ) / total_people\n",
    "    df[ 'R0' ] = ( df[ 'Nuevos_infectados' ].cumsum() / total_people )\n",
    "    df[ 'Cuarentena' ] = df[ 'En_cuarentena' ].apply( lambda x: sum_quarantine( x ) ) / total_people\n",
    "    agents_norm.append( df[ [ 'exp', 'Fecha', 'Graves', 'Críticos', 'Fallecidos', 'R0', 'Rt', 'Cuarentena' ] ] )\n",
    "\n",
    "agents_norm = pd.concat( agents_norm )"
   ]
  },
  {
   "cell_type": "code",
   "execution_count": 77,
   "metadata": {},
   "outputs": [
    {
     "data": {
      "text/html": [
       "<div>\n",
       "<style scoped>\n",
       "    .dataframe tbody tr th:only-of-type {\n",
       "        vertical-align: middle;\n",
       "    }\n",
       "\n",
       "    .dataframe tbody tr th {\n",
       "        vertical-align: top;\n",
       "    }\n",
       "\n",
       "    .dataframe thead th {\n",
       "        text-align: right;\n",
       "    }\n",
       "</style>\n",
       "<table border=\"1\" class=\"dataframe\">\n",
       "  <thead>\n",
       "    <tr style=\"text-align: right;\">\n",
       "      <th></th>\n",
       "      <th>exp</th>\n",
       "      <th>Fecha</th>\n",
       "      <th>Graves</th>\n",
       "      <th>Críticos</th>\n",
       "      <th>Fallecidos</th>\n",
       "      <th>R0</th>\n",
       "      <th>Rt</th>\n",
       "      <th>Cuarentena</th>\n",
       "    </tr>\n",
       "  </thead>\n",
       "  <tbody>\n",
       "    <tr>\n",
       "      <th>195</th>\n",
       "      <td>31</td>\n",
       "      <td>2020-09-17</td>\n",
       "      <td>0.000180</td>\n",
       "      <td>0.000023</td>\n",
       "      <td>0.000158</td>\n",
       "      <td>0.465635</td>\n",
       "      <td>0.295400</td>\n",
       "      <td>0.561478</td>\n",
       "    </tr>\n",
       "    <tr>\n",
       "      <th>196</th>\n",
       "      <td>31</td>\n",
       "      <td>2020-09-18</td>\n",
       "      <td>0.000180</td>\n",
       "      <td>0.000023</td>\n",
       "      <td>0.000158</td>\n",
       "      <td>0.466018</td>\n",
       "      <td>0.305000</td>\n",
       "      <td>0.603342</td>\n",
       "    </tr>\n",
       "    <tr>\n",
       "      <th>197</th>\n",
       "      <td>31</td>\n",
       "      <td>2020-09-19</td>\n",
       "      <td>0.000180</td>\n",
       "      <td>0.000023</td>\n",
       "      <td>0.000158</td>\n",
       "      <td>0.466423</td>\n",
       "      <td>0.290404</td>\n",
       "      <td>0.546660</td>\n",
       "    </tr>\n",
       "    <tr>\n",
       "      <th>198</th>\n",
       "      <td>31</td>\n",
       "      <td>2020-09-20</td>\n",
       "      <td>0.000158</td>\n",
       "      <td>0.000023</td>\n",
       "      <td>0.000158</td>\n",
       "      <td>0.467009</td>\n",
       "      <td>0.307305</td>\n",
       "      <td>0.551997</td>\n",
       "    </tr>\n",
       "    <tr>\n",
       "      <th>199</th>\n",
       "      <td>31</td>\n",
       "      <td>2020-09-21</td>\n",
       "      <td>0.000158</td>\n",
       "      <td>0.000023</td>\n",
       "      <td>0.000158</td>\n",
       "      <td>0.467640</td>\n",
       "      <td>0.264550</td>\n",
       "      <td>0.550579</td>\n",
       "    </tr>\n",
       "  </tbody>\n",
       "</table>\n",
       "</div>"
      ],
      "text/plain": [
       "     exp      Fecha    Graves  Críticos  Fallecidos        R0        Rt  \\\n",
       "195   31 2020-09-17  0.000180  0.000023    0.000158  0.465635  0.295400   \n",
       "196   31 2020-09-18  0.000180  0.000023    0.000158  0.466018  0.305000   \n",
       "197   31 2020-09-19  0.000180  0.000023    0.000158  0.466423  0.290404   \n",
       "198   31 2020-09-20  0.000158  0.000023    0.000158  0.467009  0.307305   \n",
       "199   31 2020-09-21  0.000158  0.000023    0.000158  0.467640  0.264550   \n",
       "\n",
       "     Cuarentena  \n",
       "195    0.561478  \n",
       "196    0.603342  \n",
       "197    0.546660  \n",
       "198    0.551997  \n",
       "199    0.550579  "
      ]
     },
     "execution_count": 77,
     "metadata": {},
     "output_type": "execute_result"
    }
   ],
   "source": [
    "agents_norm.tail()"
   ]
  },
  {
   "cell_type": "code",
   "execution_count": 78,
   "metadata": {},
   "outputs": [],
   "source": [
    "def ci( x ):\n",
    "    try:\n",
    "        return 1.96 * np.std( x ) / np.sqrt( len( x ) )\n",
    "    except ZeroDivisionError:\n",
    "        return 0\n",
    "\n",
    "agents_norm_grouped = agents_norm.groupby( 'Fecha' ).agg( { 'Graves': [ 'mean', ci ], 'Críticos': [ 'mean', ci ], 'Fallecidos': [ 'mean', ci ], 'R0': [ 'mean', ci ], 'Rt': [ 'mean', ci ], 'Cuarentena': [ 'mean' ] } )\n",
    "agents_norm_grouped.columns = [ '_'.join( col ).strip() for col in agents_norm_grouped.columns.values ]"
   ]
  },
  {
   "cell_type": "code",
   "execution_count": 79,
   "metadata": {},
   "outputs": [
    {
     "data": {
      "text/html": [
       "<div>\n",
       "<style scoped>\n",
       "    .dataframe tbody tr th:only-of-type {\n",
       "        vertical-align: middle;\n",
       "    }\n",
       "\n",
       "    .dataframe tbody tr th {\n",
       "        vertical-align: top;\n",
       "    }\n",
       "\n",
       "    .dataframe thead th {\n",
       "        text-align: right;\n",
       "    }\n",
       "</style>\n",
       "<table border=\"1\" class=\"dataframe\">\n",
       "  <thead>\n",
       "    <tr style=\"text-align: right;\">\n",
       "      <th></th>\n",
       "      <th>Graves_mean</th>\n",
       "      <th>Graves_ci</th>\n",
       "      <th>Críticos_mean</th>\n",
       "      <th>Críticos_ci</th>\n",
       "      <th>Fallecidos_mean</th>\n",
       "      <th>Fallecidos_ci</th>\n",
       "      <th>R0_mean</th>\n",
       "      <th>R0_ci</th>\n",
       "      <th>Rt_mean</th>\n",
       "      <th>Rt_ci</th>\n",
       "      <th>Cuarentena_mean</th>\n",
       "    </tr>\n",
       "    <tr>\n",
       "      <th>Fecha</th>\n",
       "      <th></th>\n",
       "      <th></th>\n",
       "      <th></th>\n",
       "      <th></th>\n",
       "      <th></th>\n",
       "      <th></th>\n",
       "      <th></th>\n",
       "      <th></th>\n",
       "      <th></th>\n",
       "      <th></th>\n",
       "      <th></th>\n",
       "    </tr>\n",
       "  </thead>\n",
       "  <tbody>\n",
       "    <tr>\n",
       "      <th>2020-09-17</th>\n",
       "      <td>0.000308</td>\n",
       "      <td>0.000029</td>\n",
       "      <td>0.000044</td>\n",
       "      <td>0.000010</td>\n",
       "      <td>0.000127</td>\n",
       "      <td>0.000018</td>\n",
       "      <td>0.464091</td>\n",
       "      <td>0.002255</td>\n",
       "      <td>0.300472</td>\n",
       "      <td>0.007294</td>\n",
       "      <td>0.560081</td>\n",
       "    </tr>\n",
       "    <tr>\n",
       "      <th>2020-09-18</th>\n",
       "      <td>0.000303</td>\n",
       "      <td>0.000028</td>\n",
       "      <td>0.000038</td>\n",
       "      <td>0.000009</td>\n",
       "      <td>0.000127</td>\n",
       "      <td>0.000018</td>\n",
       "      <td>0.464678</td>\n",
       "      <td>0.002244</td>\n",
       "      <td>0.305188</td>\n",
       "      <td>0.008465</td>\n",
       "      <td>0.606683</td>\n",
       "    </tr>\n",
       "    <tr>\n",
       "      <th>2020-09-19</th>\n",
       "      <td>0.000296</td>\n",
       "      <td>0.000027</td>\n",
       "      <td>0.000039</td>\n",
       "      <td>0.000008</td>\n",
       "      <td>0.000128</td>\n",
       "      <td>0.000018</td>\n",
       "      <td>0.465236</td>\n",
       "      <td>0.002229</td>\n",
       "      <td>0.325311</td>\n",
       "      <td>0.009788</td>\n",
       "      <td>0.544222</td>\n",
       "    </tr>\n",
       "    <tr>\n",
       "      <th>2020-09-20</th>\n",
       "      <td>0.000284</td>\n",
       "      <td>0.000024</td>\n",
       "      <td>0.000037</td>\n",
       "      <td>0.000008</td>\n",
       "      <td>0.000128</td>\n",
       "      <td>0.000018</td>\n",
       "      <td>0.466005</td>\n",
       "      <td>0.002212</td>\n",
       "      <td>0.336299</td>\n",
       "      <td>0.009024</td>\n",
       "      <td>0.549254</td>\n",
       "    </tr>\n",
       "    <tr>\n",
       "      <th>2020-09-21</th>\n",
       "      <td>0.000282</td>\n",
       "      <td>0.000023</td>\n",
       "      <td>0.000035</td>\n",
       "      <td>0.000008</td>\n",
       "      <td>0.000128</td>\n",
       "      <td>0.000018</td>\n",
       "      <td>0.466729</td>\n",
       "      <td>0.002196</td>\n",
       "      <td>0.323806</td>\n",
       "      <td>0.008683</td>\n",
       "      <td>0.550368</td>\n",
       "    </tr>\n",
       "  </tbody>\n",
       "</table>\n",
       "</div>"
      ],
      "text/plain": [
       "            Graves_mean  Graves_ci  Críticos_mean  Críticos_ci  \\\n",
       "Fecha                                                            \n",
       "2020-09-17     0.000308   0.000029       0.000044     0.000010   \n",
       "2020-09-18     0.000303   0.000028       0.000038     0.000009   \n",
       "2020-09-19     0.000296   0.000027       0.000039     0.000008   \n",
       "2020-09-20     0.000284   0.000024       0.000037     0.000008   \n",
       "2020-09-21     0.000282   0.000023       0.000035     0.000008   \n",
       "\n",
       "            Fallecidos_mean  Fallecidos_ci   R0_mean     R0_ci   Rt_mean  \\\n",
       "Fecha                                                                      \n",
       "2020-09-17         0.000127       0.000018  0.464091  0.002255  0.300472   \n",
       "2020-09-18         0.000127       0.000018  0.464678  0.002244  0.305188   \n",
       "2020-09-19         0.000128       0.000018  0.465236  0.002229  0.325311   \n",
       "2020-09-20         0.000128       0.000018  0.466005  0.002212  0.336299   \n",
       "2020-09-21         0.000128       0.000018  0.466729  0.002196  0.323806   \n",
       "\n",
       "               Rt_ci  Cuarentena_mean  \n",
       "Fecha                                  \n",
       "2020-09-17  0.007294         0.560081  \n",
       "2020-09-18  0.008465         0.606683  \n",
       "2020-09-19  0.009788         0.544222  \n",
       "2020-09-20  0.009024         0.549254  \n",
       "2020-09-21  0.008683         0.550368  "
      ]
     },
     "execution_count": 79,
     "metadata": {},
     "output_type": "execute_result"
    }
   ],
   "source": [
    "agents_norm_grouped.tail()"
   ]
  },
  {
   "cell_type": "code",
   "execution_count": 80,
   "metadata": {},
   "outputs": [
    {
     "data": {
      "text/plain": [
       "<matplotlib.legend.Legend at 0x7f8d8c0ba210>"
      ]
     },
     "execution_count": 80,
     "metadata": {},
     "output_type": "execute_result"
    },
    {
     "data": {
      "image/png": "[encoded data removed]",
      "text/plain": [
       "<Figure size 1440x504 with 1 Axes>"
      ]
     },
     "metadata": {
      "needs_background": "light"
     },
     "output_type": "display_data"
    }
   ],
   "source": [
    "fig, ax = plt.subplots( figsize = ( 20, 7 ) )\n",
    "\n",
    "ax.plot( agents_norm_grouped.index, agents_norm_grouped[ 'Graves_mean' ], label = 'Graves', color = '#317372' )\n",
    "ax.fill_between( agents_norm_grouped.index, ( agents_norm_grouped[ 'Graves_mean' ] - agents_norm_grouped[ 'Graves_ci' ] ), ( agents_norm_grouped[ 'Graves_mean' ] + agents_norm_grouped[ 'Graves_ci' ] ), color = '#317372', alpha = .1 )\n",
    "\n",
    "ax.plot( agents_norm_grouped.index, agents_norm_grouped[ 'Críticos_mean' ], label = 'Críticos', color = '#f98a4b' )\n",
    "ax.fill_between( agents_norm_grouped.index, ( agents_norm_grouped[ 'Críticos_mean' ] - agents_norm_grouped[ 'Críticos_ci' ] ), ( agents_norm_grouped[ 'Críticos_mean' ] + agents_norm_grouped[ 'Críticos_ci' ] ), color = '#f98a4b', alpha = .1 )\n",
    "\n",
    "ax.plot( agents_norm_grouped.index, agents_norm_grouped[ 'Fallecidos_mean' ], label = 'Fallecidos', color = '#f64438' )\n",
    "ax.fill_between( agents_norm_grouped.index, ( agents_norm_grouped[ 'Fallecidos_mean' ] - agents_norm_grouped[ 'Fallecidos_ci' ] ), ( agents_norm_grouped[ 'Fallecidos_mean' ] + agents_norm_grouped[ 'Fallecidos_ci' ] ), color = '#f64438', alpha = .1 )\n",
    "\n",
    "plt.title( 'Graves / Críticos / Fallecidos' )\n",
    "plt.xlabel( 'Fecha' )\n",
    "plt.ylabel( 'Casos' )\n",
    "plt.grid( True )\n",
    "plt.legend()"
   ]
  },
  {
   "cell_type": "code",
   "execution_count": 81,
   "metadata": {},
   "outputs": [
    {
     "data": {
      "image/png": "[encoded data removed]",
      "text/plain": [
       "<Figure size 1440x504 with 1 Axes>"
      ]
     },
     "metadata": {
      "needs_background": "light"
     },
     "output_type": "display_data"
    }
   ],
   "source": [
    "fig, ax = plt.subplots( figsize = ( 20, 7 ) )\n",
    "\n",
    "ax.plot( agents_norm_grouped.index, agents_norm_grouped[ 'R0_mean' ] )\n",
    "ax.fill_between( agents_norm_grouped.index, ( agents_norm_grouped[ 'R0_mean' ] - agents_norm_grouped[ 'R0_ci' ] ), ( agents_norm_grouped[ 'R0_mean' ] + agents_norm_grouped[ 'R0_ci' ] ), alpha = .1 )\n",
    "\n",
    "plt.title( 'Tasa de ataque' )\n",
    "plt.xlabel( 'Fecha' )\n",
    "plt.ylabel( 'R0' )\n",
    "plt.grid( True )"
   ]
  },
  {
   "cell_type": "code",
   "execution_count": 82,
   "metadata": {},
   "outputs": [
    {
     "data": {
      "image/png": "[encoded data removed]",
      "text/plain": [
       "<Figure size 1440x504 with 1 Axes>"
      ]
     },
     "metadata": {
      "needs_background": "light"
     },
     "output_type": "display_data"
    }
   ],
   "source": [
    "fig, ax = plt.subplots( figsize = ( 20, 7 ) )\n",
    "\n",
    "ax.plot( agents_norm_grouped.index, agents_norm_grouped[ 'Rt_mean' ] )\n",
    "ax.fill_between( agents_norm_grouped.index, ( agents_norm_grouped[ 'Rt_mean' ] - agents_norm_grouped[ 'Rt_ci' ] ), ( agents_norm_grouped[ 'Rt_mean' ] + agents_norm_grouped[ 'Rt_ci' ] ), alpha = .1 )\n",
    "\n",
    "plt.title( 'Tasa de reproducción afectiva' )\n",
    "plt.xlabel( 'Fecha' )\n",
    "plt.ylabel( 'Rt' )\n",
    "plt.grid( True )"
   ]
  },
  {
   "cell_type": "code",
   "execution_count": 83,
   "metadata": {},
   "outputs": [
    {
     "data": {
      "image/png": "[encoded data removed]",
      "text/plain": [
       "<Figure size 1440x504 with 1 Axes>"
      ]
     },
     "metadata": {
      "needs_background": "light"
     },
     "output_type": "display_data"
    }
   ],
   "source": [
    "fig, ax = plt.subplots( figsize = ( 20, 7 ) )\n",
    "\n",
    "ax.plot( agents_norm_grouped.index, agents_norm_grouped[ 'Cuarentena_mean' ] )\n",
    "\n",
    "plt.title( 'Cuarentena' )\n",
    "plt.xlabel( 'Fecha' )\n",
    "plt.ylabel( '% cuarentena' )\n",
    "plt.grid( True )"
   ]
  },
  {
   "cell_type": "code",
   "execution_count": 84,
   "metadata": {},
   "outputs": [
    {
     "data": {
      "text/html": [
       "<div>\n",
       "<style scoped>\n",
       "    .dataframe tbody tr th:only-of-type {\n",
       "        vertical-align: middle;\n",
       "    }\n",
       "\n",
       "    .dataframe tbody tr th {\n",
       "        vertical-align: top;\n",
       "    }\n",
       "\n",
       "    .dataframe thead th {\n",
       "        text-align: right;\n",
       "    }\n",
       "</style>\n",
       "<table border=\"1\" class=\"dataframe\">\n",
       "  <thead>\n",
       "    <tr style=\"text-align: right;\">\n",
       "      <th></th>\n",
       "      <th>exp</th>\n",
       "      <th>Fecha</th>\n",
       "      <th>Graves</th>\n",
       "      <th>Críticos</th>\n",
       "      <th>Fallecidos</th>\n",
       "      <th>R0</th>\n",
       "      <th>Rt</th>\n",
       "      <th>Cuarentena</th>\n",
       "    </tr>\n",
       "  </thead>\n",
       "  <tbody>\n",
       "    <tr>\n",
       "      <th>195</th>\n",
       "      <td>31</td>\n",
       "      <td>2020-09-17</td>\n",
       "      <td>0.000180</td>\n",
       "      <td>0.000023</td>\n",
       "      <td>0.000158</td>\n",
       "      <td>0.465635</td>\n",
       "      <td>0.295400</td>\n",
       "      <td>0.561478</td>\n",
       "    </tr>\n",
       "    <tr>\n",
       "      <th>196</th>\n",
       "      <td>31</td>\n",
       "      <td>2020-09-18</td>\n",
       "      <td>0.000180</td>\n",
       "      <td>0.000023</td>\n",
       "      <td>0.000158</td>\n",
       "      <td>0.466018</td>\n",
       "      <td>0.305000</td>\n",
       "      <td>0.603342</td>\n",
       "    </tr>\n",
       "    <tr>\n",
       "      <th>197</th>\n",
       "      <td>31</td>\n",
       "      <td>2020-09-19</td>\n",
       "      <td>0.000180</td>\n",
       "      <td>0.000023</td>\n",
       "      <td>0.000158</td>\n",
       "      <td>0.466423</td>\n",
       "      <td>0.290404</td>\n",
       "      <td>0.546660</td>\n",
       "    </tr>\n",
       "    <tr>\n",
       "      <th>198</th>\n",
       "      <td>31</td>\n",
       "      <td>2020-09-20</td>\n",
       "      <td>0.000158</td>\n",
       "      <td>0.000023</td>\n",
       "      <td>0.000158</td>\n",
       "      <td>0.467009</td>\n",
       "      <td>0.307305</td>\n",
       "      <td>0.551997</td>\n",
       "    </tr>\n",
       "    <tr>\n",
       "      <th>199</th>\n",
       "      <td>31</td>\n",
       "      <td>2020-09-21</td>\n",
       "      <td>0.000158</td>\n",
       "      <td>0.000023</td>\n",
       "      <td>0.000158</td>\n",
       "      <td>0.467640</td>\n",
       "      <td>0.264550</td>\n",
       "      <td>0.550579</td>\n",
       "    </tr>\n",
       "  </tbody>\n",
       "</table>\n",
       "</div>"
      ],
      "text/plain": [
       "     exp      Fecha    Graves  Críticos  Fallecidos        R0        Rt  \\\n",
       "195   31 2020-09-17  0.000180  0.000023    0.000158  0.465635  0.295400   \n",
       "196   31 2020-09-18  0.000180  0.000023    0.000158  0.466018  0.305000   \n",
       "197   31 2020-09-19  0.000180  0.000023    0.000158  0.466423  0.290404   \n",
       "198   31 2020-09-20  0.000158  0.000023    0.000158  0.467009  0.307305   \n",
       "199   31 2020-09-21  0.000158  0.000023    0.000158  0.467640  0.264550   \n",
       "\n",
       "     Cuarentena  \n",
       "195    0.561478  \n",
       "196    0.603342  \n",
       "197    0.546660  \n",
       "198    0.551997  \n",
       "199    0.550579  "
      ]
     },
     "execution_count": 84,
     "metadata": {},
     "output_type": "execute_result"
    }
   ],
   "source": [
    "agents_norm.tail()"
   ]
  },
  {
   "cell_type": "code",
   "execution_count": 85,
   "metadata": {},
   "outputs": [],
   "source": [
    "agents_norm[ [ 'exp', 'Fecha', 'R0', 'Rt', 'Cuarentena' ] ].to_csv( './agents-viz/data/{}-agents-multi.csv'.format( city ), index = False )"
   ]
  },
  {
   "cell_type": "code",
   "execution_count": 86,
   "metadata": {},
   "outputs": [],
   "source": [
    "pd.melt( agents_norm[ [ 'exp', 'Fecha', 'Graves', 'Críticos', 'Fallecidos' ] ], id_vars = [ 'Fecha' ], value_vars =[ 'Graves', 'Críticos', 'Fallecidos' ] ).to_csv( './agents-viz/data/{}-agents2-multi.csv'.format( city ), index = False )"
   ]
  },
  {
   "cell_type": "code",
   "execution_count": 87,
   "metadata": {},
   "outputs": [],
   "source": [
    "agents_norm[ [ 'exp', 'Fecha', 'Graves', 'Críticos', 'Fallecidos', 'R0', 'Rt', 'Cuarentena' ] ].to_csv( './data/agents/clean/{}-{}.csv'.format( city, scenario ), index = False )"
   ]
  },
  {
   "cell_type": "markdown",
   "metadata": {},
   "source": [
    "# By localidades"
   ]
  },
  {
   "cell_type": "code",
   "execution_count": null,
   "metadata": {},
   "outputs": [],
   "source": [
    "recuento_zonas = { 0: 'Susceptibles', 1: '?_1', 2: '?_2', 3: 'Leves', 4: '?_4', 5: '?_5', 6: 'Graves', 7: '?_7', 8: '?_8', 9: 'Críticos', 10: '?_10', 11: '?_11', 12: 'Recuperados', 13: '?_13', 14: '?_14'  }"
   ]
  },
  {
   "cell_type": "code",
   "execution_count": null,
   "metadata": {},
   "outputs": [],
   "source": [
    "def expand_by_loc( x ):\n",
    "    \n",
    "    replacer = re.compile(\"(\\d+)\")\n",
    "    x[ 'Recuento_zonas' ] = replacer.sub( r'\"\\1\"', x[ 'Recuento_zonas' ] )\n",
    "    if city in [ 'cartagena', 'barranquilla' ]:\n",
    "        x[ 'Recuento_zonas' ] = x[ 'Recuento_zonas' ].replace( \"'\", '\"' )\n",
    "    #print( x[ 'Recuento_zonas' ] )\n",
    "    \n",
    "    x[ 'Recuento_zonas' ] = json.loads( x[ 'Recuento_zonas' ] )\n",
    "    ds = []\n",
    "    for z in x[ 'Recuento_zonas' ].keys():\n",
    "        d = dict()\n",
    "        d[ 'exp' ] = row[ 'exp' ]\n",
    "        if city == 'bogota':\n",
    "            d[ 'Localidad' ] = locs[ z ]\n",
    "        else:\n",
    "            d[ 'Localidad' ] = z\n",
    "        d[ 'Día' ] = row[ 'Día' ]\n",
    "        d[ 'Fecha' ] = init_date + pd.DateOffset( days = d[ 'Día' ] )\n",
    "        for i in recuento_zonas.keys():\n",
    "            d[ recuento_zonas[ i ] ] = int( x[ 'Recuento_zonas' ][ z ][ i ] )\n",
    "        ds.append( d )\n",
    "    \n",
    "    return ds\n",
    "\n",
    "agents_locs = []\n",
    "for i, row in agents.iterrows():\n",
    "    agents_locs = agents_locs + expand_by_loc( row )\n",
    "\n",
    "agents_locs = pd.DataFrame( agents_locs )"
   ]
  },
  {
   "cell_type": "code",
   "execution_count": null,
   "metadata": {},
   "outputs": [],
   "source": [
    "agents_locs_norm = []\n",
    "\n",
    "for exp in agents_locs[ 'exp' ].unique():\n",
    "    for loc in agents_locs[ 'Localidad' ].unique():\n",
    "        df = agents_locs.loc[ ( agents_locs[ 'exp' ] == exp ) & ( agents_locs[ 'Localidad' ] == loc ) ]\n",
    "        total_people = ( df[ 'Susceptibles' ] + df[ 'Leves' ] + df[ 'Graves' ] + df[ 'Críticos' ] + df[ 'Recuperados' ] ).values[ 0 ]\n",
    "\n",
    "        df[ 'Fallecidos' ] = ( total_people - ( df[ 'Susceptibles' ] + df[ 'Leves' ] + df[ 'Graves' ] + df[ 'Críticos' ] + df[ 'Recuperados' ] ) ) / total_people\n",
    "        df[ 'Graves' ] = df[ 'Graves' ] / total_people\n",
    "        df[ 'Críticos' ] = df[ 'Críticos' ] / total_people\n",
    "        df[ 'R0' ] = ( df[ '?_4' ].cumsum() / total_people )\n",
    "        agents_locs_norm.append( df[ [ 'exp', 'Fecha', 'Localidad', 'Graves', 'Críticos', 'Fallecidos', 'R0' ] ] )\n",
    "\n",
    "agents_locs_norm = pd.concat( agents_locs_norm )"
   ]
  },
  {
   "cell_type": "code",
   "execution_count": null,
   "metadata": {},
   "outputs": [],
   "source": [
    "agents_locs_norm[ 'Localidad' ] = agents_locs_norm[ 'Localidad' ].str.replace( '_', ' ' )"
   ]
  },
  {
   "cell_type": "code",
   "execution_count": null,
   "metadata": {},
   "outputs": [],
   "source": [
    "agents_locs_norm.tail()"
   ]
  },
  {
   "cell_type": "code",
   "execution_count": null,
   "metadata": {},
   "outputs": [],
   "source": [
    "agents_locs_norm[ [ 'exp', 'Fecha', 'Localidad', 'R0' ] ].to_csv( './agents-viz/data/{}-agents-locs-multi.csv'.format( city ), index = False )"
   ]
  },
  {
   "cell_type": "code",
   "execution_count": null,
   "metadata": {},
   "outputs": [],
   "source": [
    "pd.melt( agents_locs_norm[ [ 'exp', 'Fecha', 'Localidad', 'Graves', 'Críticos', 'Fallecidos' ] ], id_vars = [ 'Fecha', 'Localidad' ], value_vars =[ 'Graves', 'Críticos', 'Fallecidos' ] ).to_csv( './agents-viz/data/{}-agents2-locs-multi.csv'.format( city ), index = False )\n"
   ]
  },
  {
   "cell_type": "raw",
   "metadata": {},
   "source": [
    "all_locs.loc[ all_locs[ 'Localidad' ] == 'Kennedy' ].head()"
   ]
  },
  {
   "cell_type": "raw",
   "metadata": {},
   "source": [
    "locs = list( all_locs[ 'Localidad' ].unique() )\n",
    "\n",
    "fig = plt.figure( figsize = ( 20, 27 ) )\n",
    "\n",
    "for i in range( 1, len( locs ) + 1 ):\n",
    "    current_loc = all_locs[ all_locs[ 'Localidad' ] == locs[ i - 1 ] ]\n",
    "    pop = ( current_loc[ 'Susceptibles' ] + current_loc[ 'Leves' ] + current_loc[ 'Graves' ] + current_loc[ 'Críticos' ] + current_loc[ 'Recuperados' ] ).values[ 0 ]\n",
    "    plt.subplot( 7, 3, i )\n",
    "    plt.plot( current_loc[ 'Fecha' ], current_loc[ 'Graves' ], label = 'Graves', color = '#317372' )\n",
    "    plt.plot( current_loc[ 'Fecha' ], current_loc[ 'Críticos' ], label = 'Críticos', color = '#f98a4b' )\n",
    "    plt.plot( current_loc[ 'Fecha' ], ( pop - ( current_loc[ 'Susceptibles' ] + current_loc[ 'Leves' ] + current_loc[ 'Graves' ] + current_loc[ 'Críticos' ] + current_loc[ 'Recuperados' ] ) ), label = 'Fallecidos', color = '#f64438' )\n",
    "    plt.title( locs[ i - 1 ] )\n",
    "    plt.ylim( [ 0, 60 ] )\n",
    "    plt.grid( True )\n",
    "\n",
    "fig.legend( labels = [ 'Graves', 'Críticos', 'Fallecidos' ], loc = 'center right' )"
   ]
  },
  {
   "cell_type": "raw",
   "metadata": {},
   "source": [
    "locs = list( all_locs[ 'Localidad' ].unique() )\n",
    "\n",
    "fig = plt.figure( figsize = ( 20, 7 ) )\n",
    "for loc in locs:\n",
    "    current_loc = all_locs[ all_locs[ 'Localidad' ] == loc ]\n",
    "    plt.plot( current_loc[ 'Fecha' ], current_loc[ 'Graves' ], label = loc )\n",
    "plt.title( 'Graves' )\n",
    "plt.grid( True )\n",
    "plt.legend()"
   ]
  },
  {
   "cell_type": "raw",
   "metadata": {},
   "source": [
    "locs = list( all_locs[ 'Localidad' ].unique() )\n",
    "\n",
    "fig = plt.figure( figsize = ( 20, 7 ) )\n",
    "for loc in locs:\n",
    "    current_loc = all_locs[ all_locs[ 'Localidad' ] == loc ]\n",
    "    plt.plot( current_loc[ 'Fecha' ], current_loc[ 'Críticos' ], label = loc )\n",
    "plt.title( 'Críticos' )\n",
    "plt.grid( True )\n",
    "plt.legend()"
   ]
  },
  {
   "cell_type": "raw",
   "metadata": {},
   "source": [
    "locs = list( all_locs[ 'Localidad' ].unique() )\n",
    "\n",
    "fig = plt.figure( figsize = ( 20, 7 ) )\n",
    "for loc in locs:\n",
    "    current_loc = all_locs[ all_locs[ 'Localidad' ] == loc ]\n",
    "    pop = ( current_loc[ 'Susceptibles' ] + current_loc[ 'Leves' ] + current_loc[ 'Graves' ] + current_loc[ 'Críticos' ] + current_loc[ 'Recuperados' ] ).values[ 0 ]\n",
    "    plt.plot( current_loc[ 'Fecha' ], ( pop - ( current_loc[ 'Susceptibles' ] + current_loc[ 'Leves' ] + current_loc[ 'Graves' ] + current_loc[ 'Críticos' ] + current_loc[ 'Recuperados' ] ) ), label = loc )\n",
    "plt.title( 'Fallecidos' )\n",
    "plt.grid( True )\n",
    "plt.legend()"
   ]
  },
  {
   "cell_type": "raw",
   "metadata": {},
   "source": [
    "locs = list( all_locs[ 'Localidad' ].unique() )\n",
    "\n",
    "fig = plt.figure( figsize = ( 20, 27 ) )\n",
    "\n",
    "for i in range( 1, len( locs ) + 1 ):\n",
    "    current_loc = all_locs[ all_locs[ 'Localidad' ] == locs[ i - 1 ] ]\n",
    "    pop = ( current_loc[ 'Susceptibles' ] + current_loc[ 'Leves' ] + current_loc[ 'Graves' ] + current_loc[ 'Críticos' ] + current_loc[ 'Recuperados' ] ).values[ 0 ]\n",
    "    plt.subplot( 7, 3, i )\n",
    "    plt.plot( current_loc[ 'Fecha' ], current_loc[ '?_4' ].cumsum() / pop, label = 'Tasa de ataque' )\n",
    "    plt.title( locs[ i - 1 ] )\n",
    "    plt.ylim( [ 0, 1.0 ] )\n",
    "    plt.grid( True )\n",
    "\n",
    "fig.legend( labels = [ 'Tasa de ataque' ], loc = 'center right' )"
   ]
  },
  {
   "cell_type": "raw",
   "metadata": {},
   "source": [
    "locs = list( all_locs[ 'Localidad' ].unique() )\n",
    "\n",
    "agents_locs = []\n",
    "for loc in locs:\n",
    "    current_loc = all_locs[ all_locs[ 'Localidad' ] == loc ]\n",
    "    pop = ( current_loc[ 'Susceptibles' ] + current_loc[ 'Leves' ] + current_loc[ 'Graves' ] + current_loc[ 'Críticos' ] + current_loc[ 'Recuperados' ] ).values[ 0 ]\n",
    "    \n",
    "    current_loc[ 'Fallecidos' ] = ( pop - ( current_loc[ 'Susceptibles' ] + current_loc[ 'Leves' ] + current_loc[ 'Graves' ] + current_loc[ 'Críticos' ] + current_loc[ 'Recuperados' ] ) ) / pop\n",
    "    current_loc[ 'Graves' ] = current_loc[ 'Graves' ] / pop\n",
    "    current_loc[ 'Críticos' ] = current_loc[ 'Críticos' ] / pop\n",
    "    \n",
    "    \n",
    "    current_loc = pd.melt( current_loc[ [ 'Fecha', 'Graves', 'Críticos', 'Fallecidos' ] ], id_vars = [ 'Fecha' ], value_vars =[ 'Graves', 'Críticos', 'Fallecidos' ] )\n",
    "    current_loc[ 'Localidad' ] = loc\n",
    "    agents_locs.append( current_loc )\n",
    "    \n",
    "pd.concat( agents_locs ).to_csv( './agents-viz/data/{}-agents-locs2.csv'.format( city ), index = False )"
   ]
  },
  {
   "cell_type": "raw",
   "metadata": {},
   "source": [
    "locs = list( all_locs[ 'Localidad' ].unique() )\n",
    "\n",
    "agents_locs = []\n",
    "for loc in locs:\n",
    "    current_loc = all_locs[ all_locs[ 'Localidad' ] == loc ]\n",
    "    pop = ( current_loc[ 'Susceptibles' ] + current_loc[ 'Leves' ] + current_loc[ 'Graves' ] + current_loc[ 'Críticos' ] + current_loc[ 'Recuperados' ] ).values[ 0 ]\n",
    "    \n",
    "    current_loc[ 'R0' ] = current_loc[ '?_4' ].cumsum() / pop\n",
    "    current_loc[ 'Localidad' ] = loc\n",
    "    agents_locs.append( current_loc[ [ 'Fecha', 'Localidad', 'R0' ] ] )\n",
    "    \n",
    "pd.concat( agents_locs ).to_csv( './agents-viz/data/{}-agents-locs.csv'.format( city ), index = False )"
   ]
  },
  {
   "cell_type": "markdown",
   "metadata": {},
   "source": [
    "# By age groups"
   ]
  },
  {
   "cell_type": "code",
   "execution_count": null,
   "metadata": {},
   "outputs": [],
   "source": [
    "grupo_edad = { 0: 'Susceptibles', 1: '?_1', 2: '?_2', 3: 'Leves', 4: '?_4', 5: '?_5', 6: 'Graves', 7: '?_7', 8: '?_8', 9: 'Críticos', 10: '?_10', 11: '?_11', 12: 'Recuperados', 13: '?_13', 14: '?_14'  }"
   ]
  },
  {
   "cell_type": "code",
   "execution_count": null,
   "metadata": {},
   "outputs": [],
   "source": [
    "age_ranges = {\n",
    "    'barranquilla': [ '0-9', '10-19', '20-39', '40-59', '>60' ],\n",
    "    'bogota': [ '0-9', '10-19', '20-39', '40-59', '>60' ],\n",
    "    'cartagena': [ '0-9', '10-19', '20-39', '40-59', '>60' ]\n",
    "}"
   ]
  },
  {
   "cell_type": "code",
   "execution_count": null,
   "metadata": {},
   "outputs": [],
   "source": [
    "def expand_by_age( x ):\n",
    "    ds = []\n",
    "    for a in age_ranges[ city ]:\n",
    "        x[ a ] = json.loads( x[ a ] )\n",
    "        d = dict()\n",
    "        d[ 'exp' ] = row[ 'exp' ]\n",
    "        d[ 'Grupo de edad' ] = a\n",
    "        d[ 'Día' ] = row[ 'Día' ]\n",
    "        d[ 'Fecha' ] = init_date + pd.DateOffset( days = d[ 'Día' ] )\n",
    "        for i in range( 15 ):\n",
    "            d[ grupo_edad[ i ] ] = x[ a ][ i ]\n",
    "        ds.append( d )\n",
    "    return ds\n",
    "\n",
    "agents_ages = []\n",
    "for i, row in agents.iterrows():\n",
    "    agents_ages = agents_ages + expand_by_age( row )\n",
    "\n",
    "agents_ages = pd.DataFrame( agents_ages )"
   ]
  },
  {
   "cell_type": "code",
   "execution_count": null,
   "metadata": {},
   "outputs": [],
   "source": [
    "agents_ages_norm = []\n",
    "\n",
    "for exp in agents_ages[ 'exp' ].unique():\n",
    "    for age in agents_ages[ 'Grupo de edad' ].unique():\n",
    "        df = agents_ages.loc[ ( agents_ages[ 'exp' ] == exp ) & ( agents_ages[ 'Grupo de edad' ] == age ) ]\n",
    "        total_people = ( df[ 'Susceptibles' ] + df[ 'Leves' ] + df[ 'Graves' ] + df[ 'Críticos' ] + df[ 'Recuperados' ] ).values[ 0 ]\n",
    "\n",
    "        df[ 'Fallecidos' ] = ( total_people - ( df[ 'Susceptibles' ] + df[ 'Leves' ] + df[ 'Graves' ] + df[ 'Críticos' ] + df[ 'Recuperados' ] ) ) / total_people\n",
    "        df[ 'Graves' ] = df[ 'Graves' ] / total_people\n",
    "        df[ 'Críticos' ] = df[ 'Críticos' ] / total_people\n",
    "        agents_ages_norm.append( df[ [ 'exp', 'Fecha', 'Grupo de edad', 'Graves', 'Críticos', 'Fallecidos' ] ] )\n",
    "\n",
    "agents_ages_norm = pd.concat( agents_ages_norm )"
   ]
  },
  {
   "cell_type": "code",
   "execution_count": null,
   "metadata": {},
   "outputs": [],
   "source": [
    "agents_ages_norm.tail()"
   ]
  },
  {
   "cell_type": "code",
   "execution_count": null,
   "metadata": {},
   "outputs": [],
   "source": [
    "pd.melt( agents_ages_norm[ [ 'exp', 'Fecha', 'Grupo de edad', 'Graves', 'Críticos', 'Fallecidos' ] ], id_vars = [ 'Fecha', 'Grupo de edad' ], value_vars =[ 'Graves', 'Críticos', 'Fallecidos' ] ).to_csv( './agents-viz/data/{}-agents2-ages-multi.csv'.format( city ), index = False )\n"
   ]
  },
  {
   "cell_type": "raw",
   "metadata": {},
   "source": [
    "ages = list( all_ages[ 'Grupo de edad' ].unique() )\n",
    "\n",
    "fig = plt.figure( figsize = ( 20, 8 ) )\n",
    "\n",
    "for i in range( 1, len( ages ) + 1 ):\n",
    "    current_age = all_ages[ all_ages[ 'Grupo de edad' ] == ages[ i - 1 ] ]\n",
    "    plt.subplot( 2, 3, i )\n",
    "    plt.plot( current_age[ 'Fecha' ], current_age[ 'Graves' ], label = 'Graves', color = '#317372' )\n",
    "    plt.plot( current_age[ 'Fecha' ], current_age[ 'Críticos' ], label = 'Críticos', color = '#f98a4b' )\n",
    "    plt.plot( current_age[ 'Fecha' ], ( pop - ( current_age[ 'Susceptibles' ] + current_age[ 'Leves' ] + current_age[ 'Graves' ] + current_age[ 'Críticos' ] + current_age[ 'Recuperados' ] ) ), label = 'Fallecidos', color = '#f64438' )\n",
    "    plt.title( ages[ i - 1 ] )\n",
    "    plt.ylim( [ 0, 90 ] )\n",
    "    plt.grid( True )\n",
    "\n",
    "fig.legend( labels = [ 'Graves', 'Críticos', 'Fallecidos' ], loc = 'center right' )"
   ]
  },
  {
   "cell_type": "raw",
   "metadata": {},
   "source": [
    "ages = list( all_ages[ 'Grupo de edad' ].unique() )\n",
    "\n",
    "fig = plt.figure( figsize = ( 20, 8 ) )\n",
    "\n",
    "for i in range( 1, len( ages ) + 1 ):\n",
    "    current_age = all_ages[ all_ages[ 'Grupo de edad' ] == ages[ i - 1 ] ]\n",
    "    pop = ( current_age[ 'Susceptibles' ] + current_age[ 'Leves' ] + current_age[ 'Graves' ] + current_age[ 'Críticos' ] + current_age[ 'Recuperados' ] ).values[ 0 ]\n",
    "    plt.subplot( 2, 3, i )\n",
    "    plt.plot( current_age[ 'Fecha' ], current_age[ '?_4' ].cumsum() / pop, label = 'Tasa de ataque' )\n",
    "    plt.title( ages[ i - 1 ] )\n",
    "    plt.ylim( [ 0, 1 ] )\n",
    "    plt.grid( True )\n",
    "\n",
    "fig.legend( labels = [ 'Tasa de ataque' ], loc = 'center right' )"
   ]
  },
  {
   "cell_type": "raw",
   "metadata": {},
   "source": [
    "age = list( all_ages[ 'Grupo de edad' ].unique() )\n",
    "\n",
    "agents_ages = []\n",
    "for age in ages:\n",
    "    current_age = all_ages[ all_ages[ 'Grupo de edad' ] == age]\n",
    "    pop = ( current_age[ 'Susceptibles' ] + current_age[ 'Leves' ] + current_age[ 'Graves' ] + current_age[ 'Críticos' ] + current_age[ 'Recuperados' ] ).values[ 0 ]\n",
    "    \n",
    "    current_age[ 'Fallecidos' ] = ( pop - ( current_age[ 'Susceptibles' ] + current_age[ 'Leves' ] + current_age[ 'Graves' ] + current_age[ 'Críticos' ] + current_age[ 'Recuperados' ] ) ) / pop\n",
    "    current_age[ 'Graves' ] = current_age[ 'Graves' ] / pop\n",
    "    current_age[ 'Críticos' ] = current_age[ 'Críticos' ] / pop\n",
    "    \n",
    "    \n",
    "    current_age = pd.melt( current_age[ [ 'Fecha', 'Graves', 'Críticos', 'Fallecidos' ] ], id_vars = [ 'Fecha' ], value_vars =[ 'Graves', 'Críticos', 'Fallecidos' ] )\n",
    "    current_age[ 'Grupo de edad' ] = age\n",
    "    agents_ages.append( current_age )\n",
    "    \n",
    "pd.concat( agents_ages ).to_csv( './agents-viz/data/{}-agents-ages2.csv'.format( city ), index = False )"
   ]
  },
  {
   "cell_type": "raw",
   "metadata": {},
   "source": []
  },
  {
   "cell_type": "raw",
   "metadata": {},
   "source": []
  },
  {
   "cell_type": "raw",
   "metadata": {},
   "source": []
  },
  {
   "cell_type": "raw",
   "metadata": {},
   "source": [
    "quarentenas = { 0: 'Susceptibles', 1: 'Leves', 2: 'Graves', 3: 'Críticos', 4: 'Recuperados'  }"
   ]
  },
  {
   "cell_type": "raw",
   "metadata": {},
   "source": [
    "def expand_by_quarintine( x ):\n",
    "    ds = []\n",
    "    x[ 'En_cuarentena' ] = json.loads( x[ 'En_cuarentena' ] )\n",
    "    d = dict()\n",
    "    d[ 'Día' ] = row[ 'Día' ]\n",
    "    for i in range( 5 ):\n",
    "        d[ quarentenas[ i ] ] = x[ 'En_cuarentena' ][ i ]\n",
    "    ds.append( d )\n",
    "    return ds\n",
    "\n",
    "all_quarintines = []\n",
    "for i, row in agents.iterrows():\n",
    "    all_quarintines = all_quarintines + expand_by_quarintine( row )\n",
    "\n",
    "all_quarintines = pd.DataFrame( all_quarintines )"
   ]
  },
  {
   "cell_type": "raw",
   "metadata": {},
   "source": [
    "all_quarintines.tail()"
   ]
  },
  {
   "cell_type": "raw",
   "metadata": {},
   "source": [
    "plt.plot( all_quarintines[ 'Día' ], ( all_quarintines[ 'Susceptibles' ] + all_quarintines[ 'Recuperados' ] + all_quarintines[ 'Leves' ] + all_quarintines[ 'Graves' ] + all_quarintines[ 'Críticos' ] ) )"
   ]
  },
  {
   "cell_type": "raw",
   "metadata": {},
   "source": []
  },
  {
   "cell_type": "raw",
   "metadata": {},
   "source": [
    "del agents[ 'Recuento_zonas' ]\n",
    "del agents[ '0-4' ]\n",
    "del agents[ '5-19' ]\n",
    "del agents[ '20-39' ]\n",
    "del agents[ '40-59' ]\n",
    "del agents[ '>60' ]\n",
    "del agents[ 'En_cuarentena' ]"
   ]
  },
  {
   "cell_type": "raw",
   "metadata": {},
   "source": [
    "agents.tail()"
   ]
  },
  {
   "cell_type": "raw",
   "metadata": {},
   "source": [
    "agents.dtypes"
   ]
  },
  {
   "cell_type": "raw",
   "metadata": {},
   "source": [
    "agents.to_csv( './data/agents/agents_bogota.csv', index = False )"
   ]
  },
  {
   "cell_type": "raw",
   "metadata": {},
   "source": []
  }
 ],
 "metadata": {
  "kernelspec": {
   "display_name": "Python 3",
   "language": "python",
   "name": "python3"
  },
  "language_info": {
   "codemirror_mode": {
    "name": "ipython",
    "version": 3
   },
   "file_extension": ".py",
   "mimetype": "text/x-python",
   "name": "python",
   "nbconvert_exporter": "python",
   "pygments_lexer": "ipython3",
   "version": "3.7.6"
  }
 },
 "nbformat": 4,
 "nbformat_minor": 4
}
