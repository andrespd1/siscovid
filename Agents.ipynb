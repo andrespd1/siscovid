{
 "cells": [
  {
   "cell_type": "code",
   "execution_count": 1,
   "metadata": {},
   "outputs": [],
   "source": [
    "# This notebook explores the results for the agent based model"
   ]
  },
  {
   "cell_type": "code",
   "execution_count": 2,
   "metadata": {},
   "outputs": [],
   "source": [
    "import re\n",
    "import glob\n",
    "import json\n",
    "import numpy as np\n",
    "import pandas as pd\n",
    "import geopandas as gpd\n",
    "\n",
    "import matplotlib.pyplot as plt\n",
    "%matplotlib inline"
   ]
  },
  {
   "cell_type": "code",
   "execution_count": 3,
   "metadata": {},
   "outputs": [],
   "source": [
    "pd.set_option( 'display.max_columns', None )\n",
    "pd.set_option( 'display.max_rows', None )"
   ]
  },
  {
   "cell_type": "markdown",
   "metadata": {},
   "source": [
    "# Loading localidades GeoJSON for reference"
   ]
  },
  {
   "cell_type": "code",
   "execution_count": null,
   "metadata": {},
   "outputs": [],
   "source": [
    "localidades = gpd.read_file( './data/geo/bogotá/localidades_no_sumapaz.json' )"
   ]
  },
  {
   "cell_type": "code",
   "execution_count": null,
   "metadata": {},
   "outputs": [],
   "source": [
    "del localidades[ 'geometry' ]"
   ]
  },
  {
   "cell_type": "code",
   "execution_count": null,
   "metadata": {},
   "outputs": [],
   "source": [
    "localidades.head()"
   ]
  },
  {
   "cell_type": "code",
   "execution_count": null,
   "metadata": {},
   "outputs": [],
   "source": [
    "locs = {}\n",
    "for i, row in localidades.iterrows():\n",
    "    locs[ str( row[ 'codigo_localidad' ] ) ] = row[ 'localidad' ]\n",
    "locs"
   ]
  },
  {
   "cell_type": "markdown",
   "metadata": {},
   "source": [
    "# Loading ABM results"
   ]
  },
  {
   "cell_type": "code",
   "execution_count": 4,
   "metadata": {},
   "outputs": [],
   "source": [
    "city = 'barranquilla'\n",
    "init_date = pd.to_datetime( '03/06/2020' )"
   ]
  },
  {
   "cell_type": "code",
   "execution_count": 5,
   "metadata": {},
   "outputs": [],
   "source": [
    "path = './data/agents/{}/*.csv'.format( city )"
   ]
  },
  {
   "cell_type": "code",
   "execution_count": 6,
   "metadata": {},
   "outputs": [],
   "source": [
    "files = glob.glob( path )"
   ]
  },
  {
   "cell_type": "code",
   "execution_count": 7,
   "metadata": {},
   "outputs": [],
   "source": [
    "agents = []\n",
    "exp = 0\n",
    "\n",
    "for file in files:\n",
    "    df = pd.read_csv( file )\n",
    "    df[ 'Fecha' ] = df[ 'Día' ].apply( lambda x: init_date + pd.DateOffset( days = x ) )\n",
    "    df[ 'exp' ] = exp\n",
    "    agents.append( df )\n",
    "    exp = exp + 1\n",
    "\n",
    "agents = pd.concat( agents )\n",
    "del agents[ 'Unnamed: 0' ]"
   ]
  },
  {
   "cell_type": "code",
   "execution_count": 8,
   "metadata": {},
   "outputs": [
    {
     "data": {
      "text/plain": [
       "(6400, 41)"
      ]
     },
     "execution_count": 8,
     "metadata": {},
     "output_type": "execute_result"
    }
   ],
   "source": [
    "agents.shape"
   ]
  },
  {
   "cell_type": "code",
   "execution_count": 9,
   "metadata": {},
   "outputs": [
    {
     "data": {
      "text/plain": [
       "Susceptibles                                   int64\n",
       "Total infectados                               int64\n",
       "Graves                                         int64\n",
       "Críticos                                       int64\n",
       "Leves                                          int64\n",
       "Recuperados                                    int64\n",
       "Rt                                           float64\n",
       "Recuento_zonas                                object\n",
       "0-9                                           object\n",
       "10-19                                         object\n",
       "20-39                                         object\n",
       "40-59                                         object\n",
       ">60                                           object\n",
       "En_cuarentena                                 object\n",
       "Restringido_movilidad                         object\n",
       "Vivos                                          int64\n",
       "Día                                            int64\n",
       "Contactos_prom_trabajo                       float64\n",
       "Contactos_prom_transporte                    float64\n",
       "Contactos_prom_casa                          float64\n",
       "Contactos_prom_trabajo_conm                  float64\n",
       "Contactos_prom_transporte_conm               float64\n",
       "Contactos_prom_casa_conm                     float64\n",
       "Nuevos_infectados                              int64\n",
       "Detectados                                     int64\n",
       "En_testing                                     int64\n",
       "En_cama                                        int64\n",
       "En_UCI                                         int64\n",
       "Detectados_por_intervencion                    int64\n",
       "#Intervenidos                                  int64\n",
       "porcentaje_edad_activa_por_zona               object\n",
       "porcentaje_edad_activa                       float64\n",
       "tasa_letalidad_por_zona                       object\n",
       "tasa_letalidad                               float64\n",
       "total_muertos                                  int64\n",
       "total_muertos_por_zona                        object\n",
       "total_muertos_edad_activa                      int64\n",
       "total_muertos_edad_activa_por_zona            object\n",
       "zonas intervenidas                            object\n",
       "Fecha                                 datetime64[ns]\n",
       "exp                                            int64\n",
       "dtype: object"
      ]
     },
     "execution_count": 9,
     "metadata": {},
     "output_type": "execute_result"
    }
   ],
   "source": [
    "agents.dtypes"
   ]
  },
  {
   "cell_type": "code",
   "execution_count": 10,
   "metadata": {},
   "outputs": [
    {
     "data": {
      "text/html": [
       "<div>\n",
       "<style scoped>\n",
       "    .dataframe tbody tr th:only-of-type {\n",
       "        vertical-align: middle;\n",
       "    }\n",
       "\n",
       "    .dataframe tbody tr th {\n",
       "        vertical-align: top;\n",
       "    }\n",
       "\n",
       "    .dataframe thead th {\n",
       "        text-align: right;\n",
       "    }\n",
       "</style>\n",
       "<table border=\"1\" class=\"dataframe\">\n",
       "  <thead>\n",
       "    <tr style=\"text-align: right;\">\n",
       "      <th></th>\n",
       "      <th>Susceptibles</th>\n",
       "      <th>Total infectados</th>\n",
       "      <th>Graves</th>\n",
       "      <th>Críticos</th>\n",
       "      <th>Leves</th>\n",
       "      <th>Recuperados</th>\n",
       "      <th>Rt</th>\n",
       "      <th>Recuento_zonas</th>\n",
       "      <th>0-9</th>\n",
       "      <th>10-19</th>\n",
       "      <th>20-39</th>\n",
       "      <th>40-59</th>\n",
       "      <th>&gt;60</th>\n",
       "      <th>En_cuarentena</th>\n",
       "      <th>Restringido_movilidad</th>\n",
       "      <th>Vivos</th>\n",
       "      <th>Día</th>\n",
       "      <th>Contactos_prom_trabajo</th>\n",
       "      <th>Contactos_prom_transporte</th>\n",
       "      <th>Contactos_prom_casa</th>\n",
       "      <th>Contactos_prom_trabajo_conm</th>\n",
       "      <th>Contactos_prom_transporte_conm</th>\n",
       "      <th>Contactos_prom_casa_conm</th>\n",
       "      <th>Nuevos_infectados</th>\n",
       "      <th>Detectados</th>\n",
       "      <th>En_testing</th>\n",
       "      <th>En_cama</th>\n",
       "      <th>En_UCI</th>\n",
       "      <th>Detectados_por_intervencion</th>\n",
       "      <th>#Intervenidos</th>\n",
       "      <th>porcentaje_edad_activa_por_zona</th>\n",
       "      <th>porcentaje_edad_activa</th>\n",
       "      <th>tasa_letalidad_por_zona</th>\n",
       "      <th>tasa_letalidad</th>\n",
       "      <th>total_muertos</th>\n",
       "      <th>total_muertos_por_zona</th>\n",
       "      <th>total_muertos_edad_activa</th>\n",
       "      <th>total_muertos_edad_activa_por_zona</th>\n",
       "      <th>zonas intervenidas</th>\n",
       "      <th>Fecha</th>\n",
       "      <th>exp</th>\n",
       "    </tr>\n",
       "  </thead>\n",
       "  <tbody>\n",
       "    <tr>\n",
       "      <th>195</th>\n",
       "      <td>31767</td>\n",
       "      <td>85</td>\n",
       "      <td>7</td>\n",
       "      <td>1</td>\n",
       "      <td>77</td>\n",
       "      <td>42388</td>\n",
       "      <td>0.282353</td>\n",
       "      <td>{'CENTRO_HISTORICO': [3670, 0, 0, 31, 2, 0, 3,...</td>\n",
       "      <td>[10458, 0, 0, 0, 0, 0, 0, 0, 0, 0, 0, 0, 174, ...</td>\n",
       "      <td>[10647, 0, 0, 1, 0, 0, 0, 0, 0, 0, 0, 0, 1321,...</td>\n",
       "      <td>[2824, 0, 0, 31, 2, 0, 3, 0, 3, 0, 0, 0, 20899...</td>\n",
       "      <td>[2260, 0, 0, 36, 3, 0, 2, 0, 2, 1, 0, 1, 14937...</td>\n",
       "      <td>[5578, 0, 0, 9, 0, 0, 2, 0, 2, 0, 0, 0, 5057, ...</td>\n",
       "      <td>[27205, 20, 1, 0, 10164]</td>\n",
       "      <td>[0, 0, 0, 0, 0]</td>\n",
       "      <td>74240</td>\n",
       "      <td>195</td>\n",
       "      <td>4.396323</td>\n",
       "      <td>2.625929</td>\n",
       "      <td>1.457260</td>\n",
       "      <td>8.857069</td>\n",
       "      <td>5.290339</td>\n",
       "      <td>2.935875</td>\n",
       "      <td>5</td>\n",
       "      <td>765</td>\n",
       "      <td>0</td>\n",
       "      <td>152</td>\n",
       "      <td>20</td>\n",
       "      <td>0</td>\n",
       "      <td>0</td>\n",
       "      <td>{'CENTRO_HISTORICO': 0.006241418050181001, 'SU...</td>\n",
       "      <td>0.006882</td>\n",
       "      <td>{'CENTRO_HISTORICO': 0.0, 'SUR_ORIENTE': 0.032...</td>\n",
       "      <td>0.014175</td>\n",
       "      <td>11</td>\n",
       "      <td>{'CENTRO_HISTORICO': 0, 'SUR_ORIENTE': 6, 'MET...</td>\n",
       "      <td>1</td>\n",
       "      <td>{'CENTRO_HISTORICO': 0, 'SUR_ORIENTE': 1, 'MET...</td>\n",
       "      <td>{}</td>\n",
       "      <td>2020-09-17</td>\n",
       "      <td>31</td>\n",
       "    </tr>\n",
       "    <tr>\n",
       "      <th>196</th>\n",
       "      <td>31765</td>\n",
       "      <td>78</td>\n",
       "      <td>7</td>\n",
       "      <td>1</td>\n",
       "      <td>70</td>\n",
       "      <td>42397</td>\n",
       "      <td>0.294872</td>\n",
       "      <td>{'CENTRO_HISTORICO': [3669, 0, 0, 28, 2, 0, 3,...</td>\n",
       "      <td>[10458, 0, 0, 0, 0, 0, 0, 0, 0, 0, 0, 0, 174, ...</td>\n",
       "      <td>[10647, 0, 0, 0, 0, 0, 0, 0, 0, 0, 0, 0, 1322,...</td>\n",
       "      <td>[2823, 0, 0, 27, 2, 0, 3, 0, 3, 0, 0, 0, 20904...</td>\n",
       "      <td>[2260, 0, 0, 34, 1, 0, 2, 0, 2, 1, 0, 1, 14939...</td>\n",
       "      <td>[5577, 0, 0, 9, 0, 0, 2, 0, 2, 0, 0, 0, 5058, ...</td>\n",
       "      <td>[27180, 11, 1, 0, 9986]</td>\n",
       "      <td>[0, 0, 0, 0, 0]</td>\n",
       "      <td>74240</td>\n",
       "      <td>196</td>\n",
       "      <td>4.434186</td>\n",
       "      <td>2.660089</td>\n",
       "      <td>1.467497</td>\n",
       "      <td>8.882251</td>\n",
       "      <td>5.328504</td>\n",
       "      <td>2.939588</td>\n",
       "      <td>3</td>\n",
       "      <td>765</td>\n",
       "      <td>0</td>\n",
       "      <td>152</td>\n",
       "      <td>20</td>\n",
       "      <td>0</td>\n",
       "      <td>0</td>\n",
       "      <td>{'CENTRO_HISTORICO': 0.006241418050181001, 'SU...</td>\n",
       "      <td>0.006882</td>\n",
       "      <td>{'CENTRO_HISTORICO': 0.0, 'SUR_ORIENTE': 0.032...</td>\n",
       "      <td>0.014175</td>\n",
       "      <td>11</td>\n",
       "      <td>{'CENTRO_HISTORICO': 0, 'SUR_ORIENTE': 6, 'MET...</td>\n",
       "      <td>1</td>\n",
       "      <td>{'CENTRO_HISTORICO': 0, 'SUR_ORIENTE': 1, 'MET...</td>\n",
       "      <td>{}</td>\n",
       "      <td>2020-09-18</td>\n",
       "      <td>31</td>\n",
       "    </tr>\n",
       "    <tr>\n",
       "      <th>197</th>\n",
       "      <td>31762</td>\n",
       "      <td>72</td>\n",
       "      <td>7</td>\n",
       "      <td>1</td>\n",
       "      <td>64</td>\n",
       "      <td>42406</td>\n",
       "      <td>0.277778</td>\n",
       "      <td>{'CENTRO_HISTORICO': [3668, 0, 0, 25, 1, 0, 3,...</td>\n",
       "      <td>[10458, 0, 0, 0, 0, 0, 0, 0, 0, 0, 0, 0, 174, ...</td>\n",
       "      <td>[10646, 0, 0, 1, 1, 0, 0, 0, 0, 0, 0, 0, 1322,...</td>\n",
       "      <td>[2821, 0, 0, 24, 2, 0, 3, 0, 3, 0, 0, 0, 20909...</td>\n",
       "      <td>[2260, 0, 0, 33, 0, 0, 2, 0, 2, 1, 0, 1, 14940...</td>\n",
       "      <td>[5577, 0, 0, 6, 1, 0, 2, 0, 2, 0, 0, 0, 5061, ...</td>\n",
       "      <td>[27300, 14, 2, 0, 10919]</td>\n",
       "      <td>[0, 0, 0, 0, 0]</td>\n",
       "      <td>74240</td>\n",
       "      <td>197</td>\n",
       "      <td>4.199003</td>\n",
       "      <td>2.532112</td>\n",
       "      <td>1.408028</td>\n",
       "      <td>8.658075</td>\n",
       "      <td>5.221053</td>\n",
       "      <td>2.903263</td>\n",
       "      <td>4</td>\n",
       "      <td>765</td>\n",
       "      <td>0</td>\n",
       "      <td>152</td>\n",
       "      <td>20</td>\n",
       "      <td>0</td>\n",
       "      <td>0</td>\n",
       "      <td>{'CENTRO_HISTORICO': 0.006241418050181001, 'SU...</td>\n",
       "      <td>0.006882</td>\n",
       "      <td>{'CENTRO_HISTORICO': 0.0, 'SUR_ORIENTE': 0.032...</td>\n",
       "      <td>0.014175</td>\n",
       "      <td>11</td>\n",
       "      <td>{'CENTRO_HISTORICO': 0, 'SUR_ORIENTE': 6, 'MET...</td>\n",
       "      <td>1</td>\n",
       "      <td>{'CENTRO_HISTORICO': 0, 'SUR_ORIENTE': 1, 'MET...</td>\n",
       "      <td>{}</td>\n",
       "      <td>2020-09-19</td>\n",
       "      <td>31</td>\n",
       "    </tr>\n",
       "    <tr>\n",
       "      <th>198</th>\n",
       "      <td>31760</td>\n",
       "      <td>66</td>\n",
       "      <td>7</td>\n",
       "      <td>1</td>\n",
       "      <td>58</td>\n",
       "      <td>42414</td>\n",
       "      <td>0.242424</td>\n",
       "      <td>{'CENTRO_HISTORICO': [3668, 0, 0, 22, 0, 0, 3,...</td>\n",
       "      <td>[10458, 0, 0, 0, 0, 0, 0, 0, 0, 0, 0, 0, 174, ...</td>\n",
       "      <td>[10646, 0, 0, 1, 0, 0, 0, 0, 0, 0, 0, 0, 1322,...</td>\n",
       "      <td>[2821, 0, 0, 19, 0, 0, 3, 0, 3, 0, 0, 0, 20914...</td>\n",
       "      <td>[2258, 0, 0, 32, 0, 0, 2, 0, 2, 1, 0, 1, 14943...</td>\n",
       "      <td>[5577, 0, 0, 6, 0, 0, 2, 0, 2, 0, 0, 0, 5061, ...</td>\n",
       "      <td>[27635, 19, 1, 0, 13548]</td>\n",
       "      <td>[0, 0, 0, 0, 0]</td>\n",
       "      <td>74240</td>\n",
       "      <td>198</td>\n",
       "      <td>3.549582</td>\n",
       "      <td>2.126738</td>\n",
       "      <td>1.217147</td>\n",
       "      <td>7.976541</td>\n",
       "      <td>4.779157</td>\n",
       "      <td>2.735145</td>\n",
       "      <td>0</td>\n",
       "      <td>765</td>\n",
       "      <td>0</td>\n",
       "      <td>152</td>\n",
       "      <td>20</td>\n",
       "      <td>0</td>\n",
       "      <td>0</td>\n",
       "      <td>{'CENTRO_HISTORICO': 0.006241418050181001, 'SU...</td>\n",
       "      <td>0.006882</td>\n",
       "      <td>{'CENTRO_HISTORICO': 0.0, 'SUR_ORIENTE': 0.032...</td>\n",
       "      <td>0.014175</td>\n",
       "      <td>11</td>\n",
       "      <td>{'CENTRO_HISTORICO': 0, 'SUR_ORIENTE': 6, 'MET...</td>\n",
       "      <td>1</td>\n",
       "      <td>{'CENTRO_HISTORICO': 0, 'SUR_ORIENTE': 1, 'MET...</td>\n",
       "      <td>{}</td>\n",
       "      <td>2020-09-20</td>\n",
       "      <td>31</td>\n",
       "    </tr>\n",
       "    <tr>\n",
       "      <th>199</th>\n",
       "      <td>31759</td>\n",
       "      <td>60</td>\n",
       "      <td>6</td>\n",
       "      <td>1</td>\n",
       "      <td>53</td>\n",
       "      <td>42421</td>\n",
       "      <td>0.266667</td>\n",
       "      <td>{'CENTRO_HISTORICO': [3668, 0, 0, 19, 0, 0, 2,...</td>\n",
       "      <td>[10458, 0, 0, 0, 0, 0, 0, 0, 0, 0, 0, 0, 174, ...</td>\n",
       "      <td>[10646, 0, 0, 1, 0, 0, 0, 0, 0, 0, 0, 0, 1322,...</td>\n",
       "      <td>[2820, 0, 0, 16, 1, 0, 1, 0, 1, 0, 0, 0, 20920...</td>\n",
       "      <td>[2258, 0, 0, 31, 2, 0, 2, 0, 2, 1, 0, 1, 14944...</td>\n",
       "      <td>[5577, 0, 0, 5, 0, 0, 3, 0, 2, 0, 0, 0, 5061, ...</td>\n",
       "      <td>[27084, 13, 2, 0, 9728]</td>\n",
       "      <td>[0, 0, 0, 0, 0]</td>\n",
       "      <td>74240</td>\n",
       "      <td>199</td>\n",
       "      <td>4.538901</td>\n",
       "      <td>2.702478</td>\n",
       "      <td>1.490383</td>\n",
       "      <td>9.006709</td>\n",
       "      <td>5.362628</td>\n",
       "      <td>2.957421</td>\n",
       "      <td>3</td>\n",
       "      <td>765</td>\n",
       "      <td>1</td>\n",
       "      <td>152</td>\n",
       "      <td>20</td>\n",
       "      <td>0</td>\n",
       "      <td>0</td>\n",
       "      <td>{'CENTRO_HISTORICO': 0.006241418050181001, 'SU...</td>\n",
       "      <td>0.006882</td>\n",
       "      <td>{'CENTRO_HISTORICO': 0.0, 'SUR_ORIENTE': 0.032...</td>\n",
       "      <td>0.014175</td>\n",
       "      <td>11</td>\n",
       "      <td>{'CENTRO_HISTORICO': 0, 'SUR_ORIENTE': 6, 'MET...</td>\n",
       "      <td>1</td>\n",
       "      <td>{'CENTRO_HISTORICO': 0, 'SUR_ORIENTE': 1, 'MET...</td>\n",
       "      <td>{}</td>\n",
       "      <td>2020-09-21</td>\n",
       "      <td>31</td>\n",
       "    </tr>\n",
       "  </tbody>\n",
       "</table>\n",
       "</div>"
      ],
      "text/plain": [
       "     Susceptibles  Total infectados  Graves  Críticos  Leves  Recuperados  \\\n",
       "195         31767                85       7         1     77        42388   \n",
       "196         31765                78       7         1     70        42397   \n",
       "197         31762                72       7         1     64        42406   \n",
       "198         31760                66       7         1     58        42414   \n",
       "199         31759                60       6         1     53        42421   \n",
       "\n",
       "           Rt                                     Recuento_zonas  \\\n",
       "195  0.282353  {'CENTRO_HISTORICO': [3670, 0, 0, 31, 2, 0, 3,...   \n",
       "196  0.294872  {'CENTRO_HISTORICO': [3669, 0, 0, 28, 2, 0, 3,...   \n",
       "197  0.277778  {'CENTRO_HISTORICO': [3668, 0, 0, 25, 1, 0, 3,...   \n",
       "198  0.242424  {'CENTRO_HISTORICO': [3668, 0, 0, 22, 0, 0, 3,...   \n",
       "199  0.266667  {'CENTRO_HISTORICO': [3668, 0, 0, 19, 0, 0, 2,...   \n",
       "\n",
       "                                                   0-9  \\\n",
       "195  [10458, 0, 0, 0, 0, 0, 0, 0, 0, 0, 0, 0, 174, ...   \n",
       "196  [10458, 0, 0, 0, 0, 0, 0, 0, 0, 0, 0, 0, 174, ...   \n",
       "197  [10458, 0, 0, 0, 0, 0, 0, 0, 0, 0, 0, 0, 174, ...   \n",
       "198  [10458, 0, 0, 0, 0, 0, 0, 0, 0, 0, 0, 0, 174, ...   \n",
       "199  [10458, 0, 0, 0, 0, 0, 0, 0, 0, 0, 0, 0, 174, ...   \n",
       "\n",
       "                                                 10-19  \\\n",
       "195  [10647, 0, 0, 1, 0, 0, 0, 0, 0, 0, 0, 0, 1321,...   \n",
       "196  [10647, 0, 0, 0, 0, 0, 0, 0, 0, 0, 0, 0, 1322,...   \n",
       "197  [10646, 0, 0, 1, 1, 0, 0, 0, 0, 0, 0, 0, 1322,...   \n",
       "198  [10646, 0, 0, 1, 0, 0, 0, 0, 0, 0, 0, 0, 1322,...   \n",
       "199  [10646, 0, 0, 1, 0, 0, 0, 0, 0, 0, 0, 0, 1322,...   \n",
       "\n",
       "                                                 20-39  \\\n",
       "195  [2824, 0, 0, 31, 2, 0, 3, 0, 3, 0, 0, 0, 20899...   \n",
       "196  [2823, 0, 0, 27, 2, 0, 3, 0, 3, 0, 0, 0, 20904...   \n",
       "197  [2821, 0, 0, 24, 2, 0, 3, 0, 3, 0, 0, 0, 20909...   \n",
       "198  [2821, 0, 0, 19, 0, 0, 3, 0, 3, 0, 0, 0, 20914...   \n",
       "199  [2820, 0, 0, 16, 1, 0, 1, 0, 1, 0, 0, 0, 20920...   \n",
       "\n",
       "                                                 40-59  \\\n",
       "195  [2260, 0, 0, 36, 3, 0, 2, 0, 2, 1, 0, 1, 14937...   \n",
       "196  [2260, 0, 0, 34, 1, 0, 2, 0, 2, 1, 0, 1, 14939...   \n",
       "197  [2260, 0, 0, 33, 0, 0, 2, 0, 2, 1, 0, 1, 14940...   \n",
       "198  [2258, 0, 0, 32, 0, 0, 2, 0, 2, 1, 0, 1, 14943...   \n",
       "199  [2258, 0, 0, 31, 2, 0, 2, 0, 2, 1, 0, 1, 14944...   \n",
       "\n",
       "                                                   >60  \\\n",
       "195  [5578, 0, 0, 9, 0, 0, 2, 0, 2, 0, 0, 0, 5057, ...   \n",
       "196  [5577, 0, 0, 9, 0, 0, 2, 0, 2, 0, 0, 0, 5058, ...   \n",
       "197  [5577, 0, 0, 6, 1, 0, 2, 0, 2, 0, 0, 0, 5061, ...   \n",
       "198  [5577, 0, 0, 6, 0, 0, 2, 0, 2, 0, 0, 0, 5061, ...   \n",
       "199  [5577, 0, 0, 5, 0, 0, 3, 0, 2, 0, 0, 0, 5061, ...   \n",
       "\n",
       "                En_cuarentena Restringido_movilidad  Vivos  Día  \\\n",
       "195  [27205, 20, 1, 0, 10164]       [0, 0, 0, 0, 0]  74240  195   \n",
       "196   [27180, 11, 1, 0, 9986]       [0, 0, 0, 0, 0]  74240  196   \n",
       "197  [27300, 14, 2, 0, 10919]       [0, 0, 0, 0, 0]  74240  197   \n",
       "198  [27635, 19, 1, 0, 13548]       [0, 0, 0, 0, 0]  74240  198   \n",
       "199   [27084, 13, 2, 0, 9728]       [0, 0, 0, 0, 0]  74240  199   \n",
       "\n",
       "     Contactos_prom_trabajo  Contactos_prom_transporte  Contactos_prom_casa  \\\n",
       "195                4.396323                   2.625929             1.457260   \n",
       "196                4.434186                   2.660089             1.467497   \n",
       "197                4.199003                   2.532112             1.408028   \n",
       "198                3.549582                   2.126738             1.217147   \n",
       "199                4.538901                   2.702478             1.490383   \n",
       "\n",
       "     Contactos_prom_trabajo_conm  Contactos_prom_transporte_conm  \\\n",
       "195                     8.857069                        5.290339   \n",
       "196                     8.882251                        5.328504   \n",
       "197                     8.658075                        5.221053   \n",
       "198                     7.976541                        4.779157   \n",
       "199                     9.006709                        5.362628   \n",
       "\n",
       "     Contactos_prom_casa_conm  Nuevos_infectados  Detectados  En_testing  \\\n",
       "195                  2.935875                  5         765           0   \n",
       "196                  2.939588                  3         765           0   \n",
       "197                  2.903263                  4         765           0   \n",
       "198                  2.735145                  0         765           0   \n",
       "199                  2.957421                  3         765           1   \n",
       "\n",
       "     En_cama  En_UCI  Detectados_por_intervencion  #Intervenidos  \\\n",
       "195      152      20                            0              0   \n",
       "196      152      20                            0              0   \n",
       "197      152      20                            0              0   \n",
       "198      152      20                            0              0   \n",
       "199      152      20                            0              0   \n",
       "\n",
       "                       porcentaje_edad_activa_por_zona  \\\n",
       "195  {'CENTRO_HISTORICO': 0.006241418050181001, 'SU...   \n",
       "196  {'CENTRO_HISTORICO': 0.006241418050181001, 'SU...   \n",
       "197  {'CENTRO_HISTORICO': 0.006241418050181001, 'SU...   \n",
       "198  {'CENTRO_HISTORICO': 0.006241418050181001, 'SU...   \n",
       "199  {'CENTRO_HISTORICO': 0.006241418050181001, 'SU...   \n",
       "\n",
       "     porcentaje_edad_activa  \\\n",
       "195                0.006882   \n",
       "196                0.006882   \n",
       "197                0.006882   \n",
       "198                0.006882   \n",
       "199                0.006882   \n",
       "\n",
       "                               tasa_letalidad_por_zona  tasa_letalidad  \\\n",
       "195  {'CENTRO_HISTORICO': 0.0, 'SUR_ORIENTE': 0.032...        0.014175   \n",
       "196  {'CENTRO_HISTORICO': 0.0, 'SUR_ORIENTE': 0.032...        0.014175   \n",
       "197  {'CENTRO_HISTORICO': 0.0, 'SUR_ORIENTE': 0.032...        0.014175   \n",
       "198  {'CENTRO_HISTORICO': 0.0, 'SUR_ORIENTE': 0.032...        0.014175   \n",
       "199  {'CENTRO_HISTORICO': 0.0, 'SUR_ORIENTE': 0.032...        0.014175   \n",
       "\n",
       "     total_muertos                             total_muertos_por_zona  \\\n",
       "195             11  {'CENTRO_HISTORICO': 0, 'SUR_ORIENTE': 6, 'MET...   \n",
       "196             11  {'CENTRO_HISTORICO': 0, 'SUR_ORIENTE': 6, 'MET...   \n",
       "197             11  {'CENTRO_HISTORICO': 0, 'SUR_ORIENTE': 6, 'MET...   \n",
       "198             11  {'CENTRO_HISTORICO': 0, 'SUR_ORIENTE': 6, 'MET...   \n",
       "199             11  {'CENTRO_HISTORICO': 0, 'SUR_ORIENTE': 6, 'MET...   \n",
       "\n",
       "     total_muertos_edad_activa  \\\n",
       "195                          1   \n",
       "196                          1   \n",
       "197                          1   \n",
       "198                          1   \n",
       "199                          1   \n",
       "\n",
       "                    total_muertos_edad_activa_por_zona zonas intervenidas  \\\n",
       "195  {'CENTRO_HISTORICO': 0, 'SUR_ORIENTE': 1, 'MET...                 {}   \n",
       "196  {'CENTRO_HISTORICO': 0, 'SUR_ORIENTE': 1, 'MET...                 {}   \n",
       "197  {'CENTRO_HISTORICO': 0, 'SUR_ORIENTE': 1, 'MET...                 {}   \n",
       "198  {'CENTRO_HISTORICO': 0, 'SUR_ORIENTE': 1, 'MET...                 {}   \n",
       "199  {'CENTRO_HISTORICO': 0, 'SUR_ORIENTE': 1, 'MET...                 {}   \n",
       "\n",
       "         Fecha  exp  \n",
       "195 2020-09-17   31  \n",
       "196 2020-09-18   31  \n",
       "197 2020-09-19   31  \n",
       "198 2020-09-20   31  \n",
       "199 2020-09-21   31  "
      ]
     },
     "execution_count": 10,
     "metadata": {},
     "output_type": "execute_result"
    }
   ],
   "source": [
    "agents.tail()"
   ]
  },
  {
   "cell_type": "code",
   "execution_count": 11,
   "metadata": {},
   "outputs": [],
   "source": [
    "def sum_quarantine( x ):\n",
    "    x = json.loads( x )\n",
    "    people_in_q = x[ 0 ] + x[ 1 ] + x[ 2 ] + x[ 3 ] + x[ 4 ]\n",
    "    return people_in_q"
   ]
  },
  {
   "cell_type": "code",
   "execution_count": 12,
   "metadata": {
    "collapsed": true,
    "jupyter": {
     "outputs_hidden": true
    }
   },
   "outputs": [
    {
     "name": "stderr",
     "output_type": "stream",
     "text": [
      "/Users/fabian/anaconda3/lib/python3.7/site-packages/ipykernel_launcher.py:6: SettingWithCopyWarning: \n",
      "A value is trying to be set on a copy of a slice from a DataFrame.\n",
      "Try using .loc[row_indexer,col_indexer] = value instead\n",
      "\n",
      "See the caveats in the documentation: https://pandas.pydata.org/pandas-docs/stable/user_guide/indexing.html#returning-a-view-versus-a-copy\n",
      "  \n",
      "/Users/fabian/anaconda3/lib/python3.7/site-packages/ipykernel_launcher.py:7: SettingWithCopyWarning: \n",
      "A value is trying to be set on a copy of a slice from a DataFrame.\n",
      "Try using .loc[row_indexer,col_indexer] = value instead\n",
      "\n",
      "See the caveats in the documentation: https://pandas.pydata.org/pandas-docs/stable/user_guide/indexing.html#returning-a-view-versus-a-copy\n",
      "  import sys\n",
      "/Users/fabian/anaconda3/lib/python3.7/site-packages/ipykernel_launcher.py:8: SettingWithCopyWarning: \n",
      "A value is trying to be set on a copy of a slice from a DataFrame.\n",
      "Try using .loc[row_indexer,col_indexer] = value instead\n",
      "\n",
      "See the caveats in the documentation: https://pandas.pydata.org/pandas-docs/stable/user_guide/indexing.html#returning-a-view-versus-a-copy\n",
      "  \n",
      "/Users/fabian/anaconda3/lib/python3.7/site-packages/ipykernel_launcher.py:9: SettingWithCopyWarning: \n",
      "A value is trying to be set on a copy of a slice from a DataFrame.\n",
      "Try using .loc[row_indexer,col_indexer] = value instead\n",
      "\n",
      "See the caveats in the documentation: https://pandas.pydata.org/pandas-docs/stable/user_guide/indexing.html#returning-a-view-versus-a-copy\n",
      "  if __name__ == '__main__':\n",
      "/Users/fabian/anaconda3/lib/python3.7/site-packages/ipykernel_launcher.py:10: SettingWithCopyWarning: \n",
      "A value is trying to be set on a copy of a slice from a DataFrame.\n",
      "Try using .loc[row_indexer,col_indexer] = value instead\n",
      "\n",
      "See the caveats in the documentation: https://pandas.pydata.org/pandas-docs/stable/user_guide/indexing.html#returning-a-view-versus-a-copy\n",
      "  # Remove the CWD from sys.path while we load stuff.\n"
     ]
    }
   ],
   "source": [
    "agents_norm = []\n",
    "\n",
    "for exp in agents[ 'exp' ].unique():\n",
    "    df = agents.loc[ agents[ 'exp' ] == exp ]\n",
    "    total_people = df[ 'Vivos' ].values[ 0 ]\n",
    "    df[ 'Graves' ] = df[ 'Graves' ] / total_people\n",
    "    df[ 'Críticos' ] = df[ 'Críticos' ] / total_people\n",
    "    df[ 'Fallecidos' ] = ( total_people - df[ 'Vivos' ] ) / total_people\n",
    "    df[ 'R0' ] = ( df[ 'Nuevos_infectados' ].cumsum() / total_people )\n",
    "    df[ 'Cuarentena' ] = df[ 'En_cuarentena' ].apply( lambda x: sum_quarantine( x ) ) / total_people\n",
    "    agents_norm.append( df[ [ 'exp', 'Fecha', 'Graves', 'Críticos', 'Fallecidos', 'R0', 'Rt', 'Cuarentena' ] ] )\n",
    "\n",
    "agents_norm = pd.concat( agents_norm )"
   ]
  },
  {
   "cell_type": "code",
   "execution_count": 13,
   "metadata": {},
   "outputs": [
    {
     "data": {
      "text/html": [
       "<div>\n",
       "<style scoped>\n",
       "    .dataframe tbody tr th:only-of-type {\n",
       "        vertical-align: middle;\n",
       "    }\n",
       "\n",
       "    .dataframe tbody tr th {\n",
       "        vertical-align: top;\n",
       "    }\n",
       "\n",
       "    .dataframe thead th {\n",
       "        text-align: right;\n",
       "    }\n",
       "</style>\n",
       "<table border=\"1\" class=\"dataframe\">\n",
       "  <thead>\n",
       "    <tr style=\"text-align: right;\">\n",
       "      <th></th>\n",
       "      <th>exp</th>\n",
       "      <th>Fecha</th>\n",
       "      <th>Graves</th>\n",
       "      <th>Críticos</th>\n",
       "      <th>Fallecidos</th>\n",
       "      <th>R0</th>\n",
       "      <th>Rt</th>\n",
       "      <th>Cuarentena</th>\n",
       "    </tr>\n",
       "  </thead>\n",
       "  <tbody>\n",
       "    <tr>\n",
       "      <th>195</th>\n",
       "      <td>31</td>\n",
       "      <td>2020-09-17</td>\n",
       "      <td>0.000094</td>\n",
       "      <td>0.000013</td>\n",
       "      <td>0.000148</td>\n",
       "      <td>0.571076</td>\n",
       "      <td>0.282353</td>\n",
       "      <td>0.503562</td>\n",
       "    </tr>\n",
       "    <tr>\n",
       "      <th>196</th>\n",
       "      <td>31</td>\n",
       "      <td>2020-09-18</td>\n",
       "      <td>0.000094</td>\n",
       "      <td>0.000013</td>\n",
       "      <td>0.000148</td>\n",
       "      <td>0.571117</td>\n",
       "      <td>0.294872</td>\n",
       "      <td>0.500707</td>\n",
       "    </tr>\n",
       "    <tr>\n",
       "      <th>197</th>\n",
       "      <td>31</td>\n",
       "      <td>2020-09-19</td>\n",
       "      <td>0.000094</td>\n",
       "      <td>0.000013</td>\n",
       "      <td>0.000148</td>\n",
       "      <td>0.571171</td>\n",
       "      <td>0.277778</td>\n",
       "      <td>0.514943</td>\n",
       "    </tr>\n",
       "    <tr>\n",
       "      <th>198</th>\n",
       "      <td>31</td>\n",
       "      <td>2020-09-20</td>\n",
       "      <td>0.000094</td>\n",
       "      <td>0.000013</td>\n",
       "      <td>0.000148</td>\n",
       "      <td>0.571171</td>\n",
       "      <td>0.242424</td>\n",
       "      <td>0.554915</td>\n",
       "    </tr>\n",
       "    <tr>\n",
       "      <th>199</th>\n",
       "      <td>31</td>\n",
       "      <td>2020-09-21</td>\n",
       "      <td>0.000081</td>\n",
       "      <td>0.000013</td>\n",
       "      <td>0.000148</td>\n",
       "      <td>0.571211</td>\n",
       "      <td>0.266667</td>\n",
       "      <td>0.495980</td>\n",
       "    </tr>\n",
       "  </tbody>\n",
       "</table>\n",
       "</div>"
      ],
      "text/plain": [
       "     exp      Fecha    Graves  Críticos  Fallecidos        R0        Rt  \\\n",
       "195   31 2020-09-17  0.000094  0.000013    0.000148  0.571076  0.282353   \n",
       "196   31 2020-09-18  0.000094  0.000013    0.000148  0.571117  0.294872   \n",
       "197   31 2020-09-19  0.000094  0.000013    0.000148  0.571171  0.277778   \n",
       "198   31 2020-09-20  0.000094  0.000013    0.000148  0.571171  0.242424   \n",
       "199   31 2020-09-21  0.000081  0.000013    0.000148  0.571211  0.266667   \n",
       "\n",
       "     Cuarentena  \n",
       "195    0.503562  \n",
       "196    0.500707  \n",
       "197    0.514943  \n",
       "198    0.554915  \n",
       "199    0.495980  "
      ]
     },
     "execution_count": 13,
     "metadata": {},
     "output_type": "execute_result"
    }
   ],
   "source": [
    "agents_norm.tail()"
   ]
  },
  {
   "cell_type": "code",
   "execution_count": 14,
   "metadata": {},
   "outputs": [],
   "source": [
    "def ci( x ):\n",
    "    try:\n",
    "        return 1.96 * np.std( x ) / np.sqrt( len( x ) )\n",
    "    except ZeroDivisionError:\n",
    "        return 0\n",
    "\n",
    "agents_norm_grouped = agents_norm.groupby( 'Fecha' ).agg( { 'Graves': [ 'mean', ci ], 'Críticos': [ 'mean', ci ], 'Fallecidos': [ 'mean', ci ], 'R0': [ 'mean', ci ], 'Rt': [ 'mean', ci ], 'Cuarentena': [ 'mean' ] } )\n",
    "agents_norm_grouped.columns = [ '_'.join( col ).strip() for col in agents_norm_grouped.columns.values ]"
   ]
  },
  {
   "cell_type": "code",
   "execution_count": 15,
   "metadata": {},
   "outputs": [
    {
     "data": {
      "text/html": [
       "<div>\n",
       "<style scoped>\n",
       "    .dataframe tbody tr th:only-of-type {\n",
       "        vertical-align: middle;\n",
       "    }\n",
       "\n",
       "    .dataframe tbody tr th {\n",
       "        vertical-align: top;\n",
       "    }\n",
       "\n",
       "    .dataframe thead th {\n",
       "        text-align: right;\n",
       "    }\n",
       "</style>\n",
       "<table border=\"1\" class=\"dataframe\">\n",
       "  <thead>\n",
       "    <tr style=\"text-align: right;\">\n",
       "      <th></th>\n",
       "      <th>Graves_mean</th>\n",
       "      <th>Graves_ci</th>\n",
       "      <th>Críticos_mean</th>\n",
       "      <th>Críticos_ci</th>\n",
       "      <th>Fallecidos_mean</th>\n",
       "      <th>Fallecidos_ci</th>\n",
       "      <th>R0_mean</th>\n",
       "      <th>R0_ci</th>\n",
       "      <th>Rt_mean</th>\n",
       "      <th>Rt_ci</th>\n",
       "      <th>Cuarentena_mean</th>\n",
       "    </tr>\n",
       "    <tr>\n",
       "      <th>Fecha</th>\n",
       "      <th></th>\n",
       "      <th></th>\n",
       "      <th></th>\n",
       "      <th></th>\n",
       "      <th></th>\n",
       "      <th></th>\n",
       "      <th></th>\n",
       "      <th></th>\n",
       "      <th></th>\n",
       "      <th></th>\n",
       "      <th></th>\n",
       "    </tr>\n",
       "  </thead>\n",
       "  <tbody>\n",
       "    <tr>\n",
       "      <th>2020-09-17</th>\n",
       "      <td>0.000075</td>\n",
       "      <td>0.000011</td>\n",
       "      <td>0.000011</td>\n",
       "      <td>0.000004</td>\n",
       "      <td>0.000199</td>\n",
       "      <td>0.000019</td>\n",
       "      <td>0.570704</td>\n",
       "      <td>0.000855</td>\n",
       "      <td>0.244926</td>\n",
       "      <td>0.016530</td>\n",
       "      <td>0.501795</td>\n",
       "    </tr>\n",
       "    <tr>\n",
       "      <th>2020-09-18</th>\n",
       "      <td>0.000075</td>\n",
       "      <td>0.000011</td>\n",
       "      <td>0.000011</td>\n",
       "      <td>0.000004</td>\n",
       "      <td>0.000199</td>\n",
       "      <td>0.000019</td>\n",
       "      <td>0.570759</td>\n",
       "      <td>0.000852</td>\n",
       "      <td>0.241239</td>\n",
       "      <td>0.015521</td>\n",
       "      <td>0.499453</td>\n",
       "    </tr>\n",
       "    <tr>\n",
       "      <th>2020-09-19</th>\n",
       "      <td>0.000069</td>\n",
       "      <td>0.000010</td>\n",
       "      <td>0.000011</td>\n",
       "      <td>0.000004</td>\n",
       "      <td>0.000199</td>\n",
       "      <td>0.000019</td>\n",
       "      <td>0.570822</td>\n",
       "      <td>0.000848</td>\n",
       "      <td>0.227336</td>\n",
       "      <td>0.018822</td>\n",
       "      <td>0.515568</td>\n",
       "    </tr>\n",
       "    <tr>\n",
       "      <th>2020-09-20</th>\n",
       "      <td>0.000064</td>\n",
       "      <td>0.000010</td>\n",
       "      <td>0.000010</td>\n",
       "      <td>0.000004</td>\n",
       "      <td>0.000199</td>\n",
       "      <td>0.000019</td>\n",
       "      <td>0.570867</td>\n",
       "      <td>0.000847</td>\n",
       "      <td>0.227849</td>\n",
       "      <td>0.018266</td>\n",
       "      <td>0.554695</td>\n",
       "    </tr>\n",
       "    <tr>\n",
       "      <th>2020-09-21</th>\n",
       "      <td>0.000059</td>\n",
       "      <td>0.000011</td>\n",
       "      <td>0.000009</td>\n",
       "      <td>0.000004</td>\n",
       "      <td>0.000199</td>\n",
       "      <td>0.000019</td>\n",
       "      <td>0.570914</td>\n",
       "      <td>0.000847</td>\n",
       "      <td>0.232080</td>\n",
       "      <td>0.018316</td>\n",
       "      <td>0.494777</td>\n",
       "    </tr>\n",
       "  </tbody>\n",
       "</table>\n",
       "</div>"
      ],
      "text/plain": [
       "            Graves_mean  Graves_ci  Críticos_mean  Críticos_ci  \\\n",
       "Fecha                                                            \n",
       "2020-09-17     0.000075   0.000011       0.000011     0.000004   \n",
       "2020-09-18     0.000075   0.000011       0.000011     0.000004   \n",
       "2020-09-19     0.000069   0.000010       0.000011     0.000004   \n",
       "2020-09-20     0.000064   0.000010       0.000010     0.000004   \n",
       "2020-09-21     0.000059   0.000011       0.000009     0.000004   \n",
       "\n",
       "            Fallecidos_mean  Fallecidos_ci   R0_mean     R0_ci   Rt_mean  \\\n",
       "Fecha                                                                      \n",
       "2020-09-17         0.000199       0.000019  0.570704  0.000855  0.244926   \n",
       "2020-09-18         0.000199       0.000019  0.570759  0.000852  0.241239   \n",
       "2020-09-19         0.000199       0.000019  0.570822  0.000848  0.227336   \n",
       "2020-09-20         0.000199       0.000019  0.570867  0.000847  0.227849   \n",
       "2020-09-21         0.000199       0.000019  0.570914  0.000847  0.232080   \n",
       "\n",
       "               Rt_ci  Cuarentena_mean  \n",
       "Fecha                                  \n",
       "2020-09-17  0.016530         0.501795  \n",
       "2020-09-18  0.015521         0.499453  \n",
       "2020-09-19  0.018822         0.515568  \n",
       "2020-09-20  0.018266         0.554695  \n",
       "2020-09-21  0.018316         0.494777  "
      ]
     },
     "execution_count": 15,
     "metadata": {},
     "output_type": "execute_result"
    }
   ],
   "source": [
    "agents_norm_grouped.tail()"
   ]
  },
  {
   "cell_type": "code",
   "execution_count": 16,
   "metadata": {},
   "outputs": [
    {
     "data": {
      "text/plain": [
       "<matplotlib.legend.Legend at 0x7fdc8d4e87d0>"
      ]
     },
     "execution_count": 16,
     "metadata": {},
     "output_type": "execute_result"
    },
    {
     "data": {
      "image/png": "[encoded data removed]",
      "text/plain": [
       "<Figure size 1440x504 with 1 Axes>"
      ]
     },
     "metadata": {
      "needs_background": "light"
     },
     "output_type": "display_data"
    }
   ],
   "source": [
    "fig, ax = plt.subplots( figsize = ( 20, 7 ) )\n",
    "\n",
    "ax.plot( agents_norm_grouped.index, agents_norm_grouped[ 'Graves_mean' ], label = 'Graves', color = '#317372' )\n",
    "ax.fill_between( agents_norm_grouped.index, ( agents_norm_grouped[ 'Graves_mean' ] - agents_norm_grouped[ 'Graves_ci' ] ), ( agents_norm_grouped[ 'Graves_mean' ] + agents_norm_grouped[ 'Graves_ci' ] ), color = '#317372', alpha = .1 )\n",
    "\n",
    "ax.plot( agents_norm_grouped.index, agents_norm_grouped[ 'Críticos_mean' ], label = 'Críticos', color = '#f98a4b' )\n",
    "ax.fill_between( agents_norm_grouped.index, ( agents_norm_grouped[ 'Críticos_mean' ] - agents_norm_grouped[ 'Críticos_ci' ] ), ( agents_norm_grouped[ 'Críticos_mean' ] + agents_norm_grouped[ 'Críticos_ci' ] ), color = '#f98a4b', alpha = .1 )\n",
    "\n",
    "ax.plot( agents_norm_grouped.index, agents_norm_grouped[ 'Fallecidos_mean' ], label = 'Fallecidos', color = '#f64438' )\n",
    "ax.fill_between( agents_norm_grouped.index, ( agents_norm_grouped[ 'Fallecidos_mean' ] - agents_norm_grouped[ 'Fallecidos_ci' ] ), ( agents_norm_grouped[ 'Fallecidos_mean' ] + agents_norm_grouped[ 'Fallecidos_ci' ] ), color = '#f64438', alpha = .1 )\n",
    "\n",
    "plt.title( 'Graves / Críticos / Fallecidos' )\n",
    "plt.xlabel( 'Fecha' )\n",
    "plt.ylabel( 'Casos' )\n",
    "plt.grid( True )\n",
    "plt.legend()"
   ]
  },
  {
   "cell_type": "code",
   "execution_count": 17,
   "metadata": {},
   "outputs": [
    {
     "data": {
      "image/png": "[encoded data removed]",
      "text/plain": [
       "<Figure size 1440x504 with 1 Axes>"
      ]
     },
     "metadata": {
      "needs_background": "light"
     },
     "output_type": "display_data"
    }
   ],
   "source": [
    "fig, ax = plt.subplots( figsize = ( 20, 7 ) )\n",
    "\n",
    "ax.plot( agents_norm_grouped.index, agents_norm_grouped[ 'R0_mean' ] )\n",
    "ax.fill_between( agents_norm_grouped.index, ( agents_norm_grouped[ 'R0_mean' ] - agents_norm_grouped[ 'R0_ci' ] ), ( agents_norm_grouped[ 'R0_mean' ] + agents_norm_grouped[ 'R0_ci' ] ), alpha = .1 )\n",
    "\n",
    "plt.title( 'Tasa de ataque' )\n",
    "plt.xlabel( 'Fecha' )\n",
    "plt.ylabel( 'R0' )\n",
    "plt.grid( True )"
   ]
  },
  {
   "cell_type": "code",
   "execution_count": 18,
   "metadata": {},
   "outputs": [
    {
     "data": {
      "image/png": "[encoded data removed]",
      "text/plain": [
       "<Figure size 1440x504 with 1 Axes>"
      ]
     },
     "metadata": {
      "needs_background": "light"
     },
     "output_type": "display_data"
    }
   ],
   "source": [
    "fig, ax = plt.subplots( figsize = ( 20, 7 ) )\n",
    "\n",
    "ax.plot( agents_norm_grouped.index, agents_norm_grouped[ 'Rt_mean' ] )\n",
    "ax.fill_between( agents_norm_grouped.index, ( agents_norm_grouped[ 'Rt_mean' ] - agents_norm_grouped[ 'Rt_ci' ] ), ( agents_norm_grouped[ 'Rt_mean' ] + agents_norm_grouped[ 'Rt_ci' ] ), alpha = .1 )\n",
    "\n",
    "plt.title( 'Tasa de reproducción afectiva' )\n",
    "plt.xlabel( 'Fecha' )\n",
    "plt.ylabel( 'Rt' )\n",
    "plt.grid( True )"
   ]
  },
  {
   "cell_type": "code",
   "execution_count": 19,
   "metadata": {},
   "outputs": [
    {
     "data": {
      "image/png": "[encoded data removed]",
      "text/plain": [
       "<Figure size 1440x504 with 1 Axes>"
      ]
     },
     "metadata": {
      "needs_background": "light"
     },
     "output_type": "display_data"
    }
   ],
   "source": [
    "fig, ax = plt.subplots( figsize = ( 20, 7 ) )\n",
    "\n",
    "ax.plot( agents_norm_grouped.index, agents_norm_grouped[ 'Cuarentena_mean' ] )\n",
    "\n",
    "plt.title( 'Cuarentena' )\n",
    "plt.xlabel( 'Fecha' )\n",
    "plt.ylabel( '% cuarentena' )\n",
    "plt.grid( True )"
   ]
  },
  {
   "cell_type": "code",
   "execution_count": 20,
   "metadata": {},
   "outputs": [
    {
     "data": {
      "text/html": [
       "<div>\n",
       "<style scoped>\n",
       "    .dataframe tbody tr th:only-of-type {\n",
       "        vertical-align: middle;\n",
       "    }\n",
       "\n",
       "    .dataframe tbody tr th {\n",
       "        vertical-align: top;\n",
       "    }\n",
       "\n",
       "    .dataframe thead th {\n",
       "        text-align: right;\n",
       "    }\n",
       "</style>\n",
       "<table border=\"1\" class=\"dataframe\">\n",
       "  <thead>\n",
       "    <tr style=\"text-align: right;\">\n",
       "      <th></th>\n",
       "      <th>exp</th>\n",
       "      <th>Fecha</th>\n",
       "      <th>Graves</th>\n",
       "      <th>Críticos</th>\n",
       "      <th>Fallecidos</th>\n",
       "      <th>R0</th>\n",
       "      <th>Rt</th>\n",
       "      <th>Cuarentena</th>\n",
       "    </tr>\n",
       "  </thead>\n",
       "  <tbody>\n",
       "    <tr>\n",
       "      <th>195</th>\n",
       "      <td>31</td>\n",
       "      <td>2020-09-17</td>\n",
       "      <td>0.000094</td>\n",
       "      <td>0.000013</td>\n",
       "      <td>0.000148</td>\n",
       "      <td>0.571076</td>\n",
       "      <td>0.282353</td>\n",
       "      <td>0.503562</td>\n",
       "    </tr>\n",
       "    <tr>\n",
       "      <th>196</th>\n",
       "      <td>31</td>\n",
       "      <td>2020-09-18</td>\n",
       "      <td>0.000094</td>\n",
       "      <td>0.000013</td>\n",
       "      <td>0.000148</td>\n",
       "      <td>0.571117</td>\n",
       "      <td>0.294872</td>\n",
       "      <td>0.500707</td>\n",
       "    </tr>\n",
       "    <tr>\n",
       "      <th>197</th>\n",
       "      <td>31</td>\n",
       "      <td>2020-09-19</td>\n",
       "      <td>0.000094</td>\n",
       "      <td>0.000013</td>\n",
       "      <td>0.000148</td>\n",
       "      <td>0.571171</td>\n",
       "      <td>0.277778</td>\n",
       "      <td>0.514943</td>\n",
       "    </tr>\n",
       "    <tr>\n",
       "      <th>198</th>\n",
       "      <td>31</td>\n",
       "      <td>2020-09-20</td>\n",
       "      <td>0.000094</td>\n",
       "      <td>0.000013</td>\n",
       "      <td>0.000148</td>\n",
       "      <td>0.571171</td>\n",
       "      <td>0.242424</td>\n",
       "      <td>0.554915</td>\n",
       "    </tr>\n",
       "    <tr>\n",
       "      <th>199</th>\n",
       "      <td>31</td>\n",
       "      <td>2020-09-21</td>\n",
       "      <td>0.000081</td>\n",
       "      <td>0.000013</td>\n",
       "      <td>0.000148</td>\n",
       "      <td>0.571211</td>\n",
       "      <td>0.266667</td>\n",
       "      <td>0.495980</td>\n",
       "    </tr>\n",
       "  </tbody>\n",
       "</table>\n",
       "</div>"
      ],
      "text/plain": [
       "     exp      Fecha    Graves  Críticos  Fallecidos        R0        Rt  \\\n",
       "195   31 2020-09-17  0.000094  0.000013    0.000148  0.571076  0.282353   \n",
       "196   31 2020-09-18  0.000094  0.000013    0.000148  0.571117  0.294872   \n",
       "197   31 2020-09-19  0.000094  0.000013    0.000148  0.571171  0.277778   \n",
       "198   31 2020-09-20  0.000094  0.000013    0.000148  0.571171  0.242424   \n",
       "199   31 2020-09-21  0.000081  0.000013    0.000148  0.571211  0.266667   \n",
       "\n",
       "     Cuarentena  \n",
       "195    0.503562  \n",
       "196    0.500707  \n",
       "197    0.514943  \n",
       "198    0.554915  \n",
       "199    0.495980  "
      ]
     },
     "execution_count": 20,
     "metadata": {},
     "output_type": "execute_result"
    }
   ],
   "source": [
    "agents_norm.tail()"
   ]
  },
  {
   "cell_type": "code",
   "execution_count": 21,
   "metadata": {},
   "outputs": [],
   "source": [
    "agents_norm[ [ 'exp', 'Fecha', 'R0', 'Rt', 'Cuarentena' ] ].to_csv( './agents-viz/data/{}-agents-multi.csv'.format( city ), index = False )"
   ]
  },
  {
   "cell_type": "code",
   "execution_count": 22,
   "metadata": {},
   "outputs": [],
   "source": [
    "pd.melt( agents_norm[ [ 'exp', 'Fecha', 'Graves', 'Críticos', 'Fallecidos' ] ], id_vars = [ 'Fecha' ], value_vars =[ 'Graves', 'Críticos', 'Fallecidos' ] ).to_csv( './agents-viz/data/{}-agents2-multi.csv'.format( city ), index = False )"
   ]
  },
  {
   "cell_type": "markdown",
   "metadata": {},
   "source": [
    "# By localidades"
   ]
  },
  {
   "cell_type": "code",
   "execution_count": 23,
   "metadata": {},
   "outputs": [],
   "source": [
    "recuento_zonas = { 0: 'Susceptibles', 1: '?_1', 2: '?_2', 3: 'Leves', 4: '?_4', 5: '?_5', 6: 'Graves', 7: '?_7', 8: '?_8', 9: 'Críticos', 10: '?_10', 11: '?_11', 12: 'Recuperados', 13: '?_13', 14: '?_14'  }"
   ]
  },
  {
   "cell_type": "code",
   "execution_count": 24,
   "metadata": {},
   "outputs": [],
   "source": [
    "def expand_by_loc( x ):\n",
    "    \n",
    "    replacer = re.compile(\"(\\d+)\")\n",
    "    x[ 'Recuento_zonas' ] = replacer.sub( r'\"\\1\"', x[ 'Recuento_zonas' ] )\n",
    "    if city in [ 'cartagena', 'barranquilla' ]:\n",
    "        x[ 'Recuento_zonas' ] = x[ 'Recuento_zonas' ].replace( \"'\", '\"' )\n",
    "    #print( x[ 'Recuento_zonas' ] )\n",
    "    \n",
    "    x[ 'Recuento_zonas' ] = json.loads( x[ 'Recuento_zonas' ] )\n",
    "    ds = []\n",
    "    for z in x[ 'Recuento_zonas' ].keys():\n",
    "        d = dict()\n",
    "        d[ 'exp' ] = row[ 'exp' ]\n",
    "        if city == 'bogota':\n",
    "            d[ 'Localidad' ] = locs[ z ]\n",
    "        else:\n",
    "            d[ 'Localidad' ] = z\n",
    "        d[ 'Día' ] = row[ 'Día' ]\n",
    "        d[ 'Fecha' ] = init_date + pd.DateOffset( days = d[ 'Día' ] )\n",
    "        for i in recuento_zonas.keys():\n",
    "            d[ recuento_zonas[ i ] ] = int( x[ 'Recuento_zonas' ][ z ][ i ] )\n",
    "        ds.append( d )\n",
    "    \n",
    "    return ds\n",
    "\n",
    "agents_locs = []\n",
    "for i, row in agents.iterrows():\n",
    "    agents_locs = agents_locs + expand_by_loc( row )\n",
    "\n",
    "agents_locs = pd.DataFrame( agents_locs )"
   ]
  },
  {
   "cell_type": "code",
   "execution_count": 25,
   "metadata": {
    "collapsed": true,
    "jupyter": {
     "outputs_hidden": true
    }
   },
   "outputs": [
    {
     "name": "stderr",
     "output_type": "stream",
     "text": [
      "/Users/fabian/anaconda3/lib/python3.7/site-packages/ipykernel_launcher.py:8: SettingWithCopyWarning: \n",
      "A value is trying to be set on a copy of a slice from a DataFrame.\n",
      "Try using .loc[row_indexer,col_indexer] = value instead\n",
      "\n",
      "See the caveats in the documentation: https://pandas.pydata.org/pandas-docs/stable/user_guide/indexing.html#returning-a-view-versus-a-copy\n",
      "  \n",
      "/Users/fabian/anaconda3/lib/python3.7/site-packages/ipykernel_launcher.py:9: SettingWithCopyWarning: \n",
      "A value is trying to be set on a copy of a slice from a DataFrame.\n",
      "Try using .loc[row_indexer,col_indexer] = value instead\n",
      "\n",
      "See the caveats in the documentation: https://pandas.pydata.org/pandas-docs/stable/user_guide/indexing.html#returning-a-view-versus-a-copy\n",
      "  if __name__ == '__main__':\n",
      "/Users/fabian/anaconda3/lib/python3.7/site-packages/ipykernel_launcher.py:10: SettingWithCopyWarning: \n",
      "A value is trying to be set on a copy of a slice from a DataFrame.\n",
      "Try using .loc[row_indexer,col_indexer] = value instead\n",
      "\n",
      "See the caveats in the documentation: https://pandas.pydata.org/pandas-docs/stable/user_guide/indexing.html#returning-a-view-versus-a-copy\n",
      "  # Remove the CWD from sys.path while we load stuff.\n",
      "/Users/fabian/anaconda3/lib/python3.7/site-packages/ipykernel_launcher.py:11: SettingWithCopyWarning: \n",
      "A value is trying to be set on a copy of a slice from a DataFrame.\n",
      "Try using .loc[row_indexer,col_indexer] = value instead\n",
      "\n",
      "See the caveats in the documentation: https://pandas.pydata.org/pandas-docs/stable/user_guide/indexing.html#returning-a-view-versus-a-copy\n",
      "  # This is added back by InteractiveShellApp.init_path()\n"
     ]
    }
   ],
   "source": [
    "agents_locs_norm = []\n",
    "\n",
    "for exp in agents_locs[ 'exp' ].unique():\n",
    "    for loc in agents_locs[ 'Localidad' ].unique():\n",
    "        df = agents_locs.loc[ ( agents_locs[ 'exp' ] == exp ) & ( agents_locs[ 'Localidad' ] == loc ) ]\n",
    "        total_people = ( df[ 'Susceptibles' ] + df[ 'Leves' ] + df[ 'Graves' ] + df[ 'Críticos' ] + df[ 'Recuperados' ] ).values[ 0 ]\n",
    "\n",
    "        df[ 'Fallecidos' ] = ( total_people - ( df[ 'Susceptibles' ] + df[ 'Leves' ] + df[ 'Graves' ] + df[ 'Críticos' ] + df[ 'Recuperados' ] ) ) / total_people\n",
    "        df[ 'Graves' ] = df[ 'Graves' ] / total_people\n",
    "        df[ 'Críticos' ] = df[ 'Críticos' ] / total_people\n",
    "        df[ 'R0' ] = ( df[ '?_4' ].cumsum() / total_people )\n",
    "        agents_locs_norm.append( df[ [ 'exp', 'Fecha', 'Localidad', 'Graves', 'Críticos', 'Fallecidos', 'R0' ] ] )\n",
    "\n",
    "agents_locs_norm = pd.concat( agents_locs_norm )"
   ]
  },
  {
   "cell_type": "code",
   "execution_count": 38,
   "metadata": {},
   "outputs": [],
   "source": [
    "agents_locs_norm[ 'Localidad' ] = agents_locs_norm[ 'Localidad' ].str.replace( '_', ' ' )"
   ]
  },
  {
   "cell_type": "code",
   "execution_count": 39,
   "metadata": {},
   "outputs": [
    {
     "data": {
      "text/html": [
       "<div>\n",
       "<style scoped>\n",
       "    .dataframe tbody tr th:only-of-type {\n",
       "        vertical-align: middle;\n",
       "    }\n",
       "\n",
       "    .dataframe tbody tr th {\n",
       "        vertical-align: top;\n",
       "    }\n",
       "\n",
       "    .dataframe thead th {\n",
       "        text-align: right;\n",
       "    }\n",
       "</style>\n",
       "<table border=\"1\" class=\"dataframe\">\n",
       "  <thead>\n",
       "    <tr style=\"text-align: right;\">\n",
       "      <th></th>\n",
       "      <th>exp</th>\n",
       "      <th>Fecha</th>\n",
       "      <th>Localidad</th>\n",
       "      <th>Graves</th>\n",
       "      <th>Críticos</th>\n",
       "      <th>Fallecidos</th>\n",
       "      <th>R0</th>\n",
       "    </tr>\n",
       "  </thead>\n",
       "  <tbody>\n",
       "    <tr>\n",
       "      <th>31977</th>\n",
       "      <td>31</td>\n",
       "      <td>2020-09-17</td>\n",
       "      <td>SUR ORIENTE</td>\n",
       "      <td>0.00006</td>\n",
       "      <td>0.0</td>\n",
       "      <td>0.000361</td>\n",
       "      <td>0.599337</td>\n",
       "    </tr>\n",
       "    <tr>\n",
       "      <th>31982</th>\n",
       "      <td>31</td>\n",
       "      <td>2020-09-18</td>\n",
       "      <td>SUR ORIENTE</td>\n",
       "      <td>0.00006</td>\n",
       "      <td>0.0</td>\n",
       "      <td>0.000361</td>\n",
       "      <td>0.599337</td>\n",
       "    </tr>\n",
       "    <tr>\n",
       "      <th>31987</th>\n",
       "      <td>31</td>\n",
       "      <td>2020-09-19</td>\n",
       "      <td>SUR ORIENTE</td>\n",
       "      <td>0.00006</td>\n",
       "      <td>0.0</td>\n",
       "      <td>0.000361</td>\n",
       "      <td>0.599458</td>\n",
       "    </tr>\n",
       "    <tr>\n",
       "      <th>31992</th>\n",
       "      <td>31</td>\n",
       "      <td>2020-09-20</td>\n",
       "      <td>SUR ORIENTE</td>\n",
       "      <td>0.00006</td>\n",
       "      <td>0.0</td>\n",
       "      <td>0.000361</td>\n",
       "      <td>0.599458</td>\n",
       "    </tr>\n",
       "    <tr>\n",
       "      <th>31997</th>\n",
       "      <td>31</td>\n",
       "      <td>2020-09-21</td>\n",
       "      <td>SUR ORIENTE</td>\n",
       "      <td>0.00006</td>\n",
       "      <td>0.0</td>\n",
       "      <td>0.000361</td>\n",
       "      <td>0.599458</td>\n",
       "    </tr>\n",
       "  </tbody>\n",
       "</table>\n",
       "</div>"
      ],
      "text/plain": [
       "       exp      Fecha    Localidad   Graves  Críticos  Fallecidos        R0\n",
       "31977   31 2020-09-17  SUR ORIENTE  0.00006       0.0    0.000361  0.599337\n",
       "31982   31 2020-09-18  SUR ORIENTE  0.00006       0.0    0.000361  0.599337\n",
       "31987   31 2020-09-19  SUR ORIENTE  0.00006       0.0    0.000361  0.599458\n",
       "31992   31 2020-09-20  SUR ORIENTE  0.00006       0.0    0.000361  0.599458\n",
       "31997   31 2020-09-21  SUR ORIENTE  0.00006       0.0    0.000361  0.599458"
      ]
     },
     "execution_count": 39,
     "metadata": {},
     "output_type": "execute_result"
    }
   ],
   "source": [
    "agents_locs_norm.tail()"
   ]
  },
  {
   "cell_type": "code",
   "execution_count": 40,
   "metadata": {},
   "outputs": [],
   "source": [
    "agents_locs_norm[ [ 'exp', 'Fecha', 'Localidad', 'R0' ] ].to_csv( './agents-viz/data/{}-agents-locs-multi.csv'.format( city ), index = False )"
   ]
  },
  {
   "cell_type": "code",
   "execution_count": 41,
   "metadata": {},
   "outputs": [],
   "source": [
    "pd.melt( agents_locs_norm[ [ 'exp', 'Fecha', 'Localidad', 'Graves', 'Críticos', 'Fallecidos' ] ], id_vars = [ 'Fecha', 'Localidad' ], value_vars =[ 'Graves', 'Críticos', 'Fallecidos' ] ).to_csv( './agents-viz/data/{}-agents2-locs-multi.csv'.format( city ), index = False )\n"
   ]
  },
  {
   "cell_type": "raw",
   "metadata": {},
   "source": [
    "all_locs.loc[ all_locs[ 'Localidad' ] == 'Kennedy' ].head()"
   ]
  },
  {
   "cell_type": "raw",
   "metadata": {},
   "source": [
    "locs = list( all_locs[ 'Localidad' ].unique() )\n",
    "\n",
    "fig = plt.figure( figsize = ( 20, 27 ) )\n",
    "\n",
    "for i in range( 1, len( locs ) + 1 ):\n",
    "    current_loc = all_locs[ all_locs[ 'Localidad' ] == locs[ i - 1 ] ]\n",
    "    pop = ( current_loc[ 'Susceptibles' ] + current_loc[ 'Leves' ] + current_loc[ 'Graves' ] + current_loc[ 'Críticos' ] + current_loc[ 'Recuperados' ] ).values[ 0 ]\n",
    "    plt.subplot( 7, 3, i )\n",
    "    plt.plot( current_loc[ 'Fecha' ], current_loc[ 'Graves' ], label = 'Graves', color = '#317372' )\n",
    "    plt.plot( current_loc[ 'Fecha' ], current_loc[ 'Críticos' ], label = 'Críticos', color = '#f98a4b' )\n",
    "    plt.plot( current_loc[ 'Fecha' ], ( pop - ( current_loc[ 'Susceptibles' ] + current_loc[ 'Leves' ] + current_loc[ 'Graves' ] + current_loc[ 'Críticos' ] + current_loc[ 'Recuperados' ] ) ), label = 'Fallecidos', color = '#f64438' )\n",
    "    plt.title( locs[ i - 1 ] )\n",
    "    plt.ylim( [ 0, 60 ] )\n",
    "    plt.grid( True )\n",
    "\n",
    "fig.legend( labels = [ 'Graves', 'Críticos', 'Fallecidos' ], loc = 'center right' )"
   ]
  },
  {
   "cell_type": "raw",
   "metadata": {},
   "source": [
    "locs = list( all_locs[ 'Localidad' ].unique() )\n",
    "\n",
    "fig = plt.figure( figsize = ( 20, 7 ) )\n",
    "for loc in locs:\n",
    "    current_loc = all_locs[ all_locs[ 'Localidad' ] == loc ]\n",
    "    plt.plot( current_loc[ 'Fecha' ], current_loc[ 'Graves' ], label = loc )\n",
    "plt.title( 'Graves' )\n",
    "plt.grid( True )\n",
    "plt.legend()"
   ]
  },
  {
   "cell_type": "raw",
   "metadata": {},
   "source": [
    "locs = list( all_locs[ 'Localidad' ].unique() )\n",
    "\n",
    "fig = plt.figure( figsize = ( 20, 7 ) )\n",
    "for loc in locs:\n",
    "    current_loc = all_locs[ all_locs[ 'Localidad' ] == loc ]\n",
    "    plt.plot( current_loc[ 'Fecha' ], current_loc[ 'Críticos' ], label = loc )\n",
    "plt.title( 'Críticos' )\n",
    "plt.grid( True )\n",
    "plt.legend()"
   ]
  },
  {
   "cell_type": "raw",
   "metadata": {},
   "source": [
    "locs = list( all_locs[ 'Localidad' ].unique() )\n",
    "\n",
    "fig = plt.figure( figsize = ( 20, 7 ) )\n",
    "for loc in locs:\n",
    "    current_loc = all_locs[ all_locs[ 'Localidad' ] == loc ]\n",
    "    pop = ( current_loc[ 'Susceptibles' ] + current_loc[ 'Leves' ] + current_loc[ 'Graves' ] + current_loc[ 'Críticos' ] + current_loc[ 'Recuperados' ] ).values[ 0 ]\n",
    "    plt.plot( current_loc[ 'Fecha' ], ( pop - ( current_loc[ 'Susceptibles' ] + current_loc[ 'Leves' ] + current_loc[ 'Graves' ] + current_loc[ 'Críticos' ] + current_loc[ 'Recuperados' ] ) ), label = loc )\n",
    "plt.title( 'Fallecidos' )\n",
    "plt.grid( True )\n",
    "plt.legend()"
   ]
  },
  {
   "cell_type": "raw",
   "metadata": {},
   "source": [
    "locs = list( all_locs[ 'Localidad' ].unique() )\n",
    "\n",
    "fig = plt.figure( figsize = ( 20, 27 ) )\n",
    "\n",
    "for i in range( 1, len( locs ) + 1 ):\n",
    "    current_loc = all_locs[ all_locs[ 'Localidad' ] == locs[ i - 1 ] ]\n",
    "    pop = ( current_loc[ 'Susceptibles' ] + current_loc[ 'Leves' ] + current_loc[ 'Graves' ] + current_loc[ 'Críticos' ] + current_loc[ 'Recuperados' ] ).values[ 0 ]\n",
    "    plt.subplot( 7, 3, i )\n",
    "    plt.plot( current_loc[ 'Fecha' ], current_loc[ '?_4' ].cumsum() / pop, label = 'Tasa de ataque' )\n",
    "    plt.title( locs[ i - 1 ] )\n",
    "    plt.ylim( [ 0, 1.0 ] )\n",
    "    plt.grid( True )\n",
    "\n",
    "fig.legend( labels = [ 'Tasa de ataque' ], loc = 'center right' )"
   ]
  },
  {
   "cell_type": "raw",
   "metadata": {},
   "source": [
    "locs = list( all_locs[ 'Localidad' ].unique() )\n",
    "\n",
    "agents_locs = []\n",
    "for loc in locs:\n",
    "    current_loc = all_locs[ all_locs[ 'Localidad' ] == loc ]\n",
    "    pop = ( current_loc[ 'Susceptibles' ] + current_loc[ 'Leves' ] + current_loc[ 'Graves' ] + current_loc[ 'Críticos' ] + current_loc[ 'Recuperados' ] ).values[ 0 ]\n",
    "    \n",
    "    current_loc[ 'Fallecidos' ] = ( pop - ( current_loc[ 'Susceptibles' ] + current_loc[ 'Leves' ] + current_loc[ 'Graves' ] + current_loc[ 'Críticos' ] + current_loc[ 'Recuperados' ] ) ) / pop\n",
    "    current_loc[ 'Graves' ] = current_loc[ 'Graves' ] / pop\n",
    "    current_loc[ 'Críticos' ] = current_loc[ 'Críticos' ] / pop\n",
    "    \n",
    "    \n",
    "    current_loc = pd.melt( current_loc[ [ 'Fecha', 'Graves', 'Críticos', 'Fallecidos' ] ], id_vars = [ 'Fecha' ], value_vars =[ 'Graves', 'Críticos', 'Fallecidos' ] )\n",
    "    current_loc[ 'Localidad' ] = loc\n",
    "    agents_locs.append( current_loc )\n",
    "    \n",
    "pd.concat( agents_locs ).to_csv( './agents-viz/data/{}-agents-locs2.csv'.format( city ), index = False )"
   ]
  },
  {
   "cell_type": "raw",
   "metadata": {},
   "source": [
    "locs = list( all_locs[ 'Localidad' ].unique() )\n",
    "\n",
    "agents_locs = []\n",
    "for loc in locs:\n",
    "    current_loc = all_locs[ all_locs[ 'Localidad' ] == loc ]\n",
    "    pop = ( current_loc[ 'Susceptibles' ] + current_loc[ 'Leves' ] + current_loc[ 'Graves' ] + current_loc[ 'Críticos' ] + current_loc[ 'Recuperados' ] ).values[ 0 ]\n",
    "    \n",
    "    current_loc[ 'R0' ] = current_loc[ '?_4' ].cumsum() / pop\n",
    "    current_loc[ 'Localidad' ] = loc\n",
    "    agents_locs.append( current_loc[ [ 'Fecha', 'Localidad', 'R0' ] ] )\n",
    "    \n",
    "pd.concat( agents_locs ).to_csv( './agents-viz/data/{}-agents-locs.csv'.format( city ), index = False )"
   ]
  },
  {
   "cell_type": "markdown",
   "metadata": {},
   "source": [
    "# By age groups"
   ]
  },
  {
   "cell_type": "code",
   "execution_count": 31,
   "metadata": {},
   "outputs": [],
   "source": [
    "grupo_edad = { 0: 'Susceptibles', 1: '?_1', 2: '?_2', 3: 'Leves', 4: '?_4', 5: '?_5', 6: 'Graves', 7: '?_7', 8: '?_8', 9: 'Críticos', 10: '?_10', 11: '?_11', 12: 'Recuperados', 13: '?_13', 14: '?_14'  }"
   ]
  },
  {
   "cell_type": "code",
   "execution_count": 32,
   "metadata": {},
   "outputs": [],
   "source": [
    "age_ranges = {\n",
    "    'barranquilla': [ '0-9', '10-19', '20-39', '40-59', '>60' ],\n",
    "    'bogota': [ '0-9', '10-19', '20-39', '40-59', '>60' ],\n",
    "    'cartagena': [ '0-9', '10-19', '20-39', '40-59', '>60' ]\n",
    "}"
   ]
  },
  {
   "cell_type": "code",
   "execution_count": 33,
   "metadata": {},
   "outputs": [],
   "source": [
    "def expand_by_age( x ):\n",
    "    ds = []\n",
    "    for a in age_ranges[ city ]:\n",
    "        x[ a ] = json.loads( x[ a ] )\n",
    "        d = dict()\n",
    "        d[ 'exp' ] = row[ 'exp' ]\n",
    "        d[ 'Grupo de edad' ] = a\n",
    "        d[ 'Día' ] = row[ 'Día' ]\n",
    "        d[ 'Fecha' ] = init_date + pd.DateOffset( days = d[ 'Día' ] )\n",
    "        for i in range( 15 ):\n",
    "            d[ grupo_edad[ i ] ] = x[ a ][ i ]\n",
    "        ds.append( d )\n",
    "    return ds\n",
    "\n",
    "agents_ages = []\n",
    "for i, row in agents.iterrows():\n",
    "    agents_ages = agents_ages + expand_by_age( row )\n",
    "\n",
    "agents_ages = pd.DataFrame( agents_ages )"
   ]
  },
  {
   "cell_type": "code",
   "execution_count": 34,
   "metadata": {
    "collapsed": true,
    "jupyter": {
     "outputs_hidden": true
    }
   },
   "outputs": [
    {
     "name": "stderr",
     "output_type": "stream",
     "text": [
      "/Users/fabian/anaconda3/lib/python3.7/site-packages/ipykernel_launcher.py:8: SettingWithCopyWarning: \n",
      "A value is trying to be set on a copy of a slice from a DataFrame.\n",
      "Try using .loc[row_indexer,col_indexer] = value instead\n",
      "\n",
      "See the caveats in the documentation: https://pandas.pydata.org/pandas-docs/stable/user_guide/indexing.html#returning-a-view-versus-a-copy\n",
      "  \n",
      "/Users/fabian/anaconda3/lib/python3.7/site-packages/ipykernel_launcher.py:9: SettingWithCopyWarning: \n",
      "A value is trying to be set on a copy of a slice from a DataFrame.\n",
      "Try using .loc[row_indexer,col_indexer] = value instead\n",
      "\n",
      "See the caveats in the documentation: https://pandas.pydata.org/pandas-docs/stable/user_guide/indexing.html#returning-a-view-versus-a-copy\n",
      "  if __name__ == '__main__':\n",
      "/Users/fabian/anaconda3/lib/python3.7/site-packages/ipykernel_launcher.py:10: SettingWithCopyWarning: \n",
      "A value is trying to be set on a copy of a slice from a DataFrame.\n",
      "Try using .loc[row_indexer,col_indexer] = value instead\n",
      "\n",
      "See the caveats in the documentation: https://pandas.pydata.org/pandas-docs/stable/user_guide/indexing.html#returning-a-view-versus-a-copy\n",
      "  # Remove the CWD from sys.path while we load stuff.\n"
     ]
    }
   ],
   "source": [
    "agents_ages_norm = []\n",
    "\n",
    "for exp in agents_ages[ 'exp' ].unique():\n",
    "    for age in agents_ages[ 'Grupo de edad' ].unique():\n",
    "        df = agents_ages.loc[ ( agents_ages[ 'exp' ] == exp ) & ( agents_ages[ 'Grupo de edad' ] == age ) ]\n",
    "        total_people = ( df[ 'Susceptibles' ] + df[ 'Leves' ] + df[ 'Graves' ] + df[ 'Críticos' ] + df[ 'Recuperados' ] ).values[ 0 ]\n",
    "\n",
    "        df[ 'Fallecidos' ] = ( total_people - ( df[ 'Susceptibles' ] + df[ 'Leves' ] + df[ 'Graves' ] + df[ 'Críticos' ] + df[ 'Recuperados' ] ) ) / total_people\n",
    "        df[ 'Graves' ] = df[ 'Graves' ] / total_people\n",
    "        df[ 'Críticos' ] = df[ 'Críticos' ] / total_people\n",
    "        agents_ages_norm.append( df[ [ 'exp', 'Fecha', 'Grupo de edad', 'Graves', 'Críticos', 'Fallecidos' ] ] )\n",
    "\n",
    "agents_ages_norm = pd.concat( agents_ages_norm )"
   ]
  },
  {
   "cell_type": "code",
   "execution_count": 35,
   "metadata": {},
   "outputs": [
    {
     "data": {
      "text/html": [
       "<div>\n",
       "<style scoped>\n",
       "    .dataframe tbody tr th:only-of-type {\n",
       "        vertical-align: middle;\n",
       "    }\n",
       "\n",
       "    .dataframe tbody tr th {\n",
       "        vertical-align: top;\n",
       "    }\n",
       "\n",
       "    .dataframe thead th {\n",
       "        text-align: right;\n",
       "    }\n",
       "</style>\n",
       "<table border=\"1\" class=\"dataframe\">\n",
       "  <thead>\n",
       "    <tr style=\"text-align: right;\">\n",
       "      <th></th>\n",
       "      <th>exp</th>\n",
       "      <th>Fecha</th>\n",
       "      <th>Grupo de edad</th>\n",
       "      <th>Graves</th>\n",
       "      <th>Críticos</th>\n",
       "      <th>Fallecidos</th>\n",
       "    </tr>\n",
       "  </thead>\n",
       "  <tbody>\n",
       "    <tr>\n",
       "      <th>31979</th>\n",
       "      <td>31</td>\n",
       "      <td>2020-09-17</td>\n",
       "      <td>&gt;60</td>\n",
       "      <td>0.000188</td>\n",
       "      <td>0.0</td>\n",
       "      <td>0.000938</td>\n",
       "    </tr>\n",
       "    <tr>\n",
       "      <th>31984</th>\n",
       "      <td>31</td>\n",
       "      <td>2020-09-18</td>\n",
       "      <td>&gt;60</td>\n",
       "      <td>0.000188</td>\n",
       "      <td>0.0</td>\n",
       "      <td>0.000938</td>\n",
       "    </tr>\n",
       "    <tr>\n",
       "      <th>31989</th>\n",
       "      <td>31</td>\n",
       "      <td>2020-09-19</td>\n",
       "      <td>&gt;60</td>\n",
       "      <td>0.000188</td>\n",
       "      <td>0.0</td>\n",
       "      <td>0.000938</td>\n",
       "    </tr>\n",
       "    <tr>\n",
       "      <th>31994</th>\n",
       "      <td>31</td>\n",
       "      <td>2020-09-20</td>\n",
       "      <td>&gt;60</td>\n",
       "      <td>0.000188</td>\n",
       "      <td>0.0</td>\n",
       "      <td>0.000938</td>\n",
       "    </tr>\n",
       "    <tr>\n",
       "      <th>31999</th>\n",
       "      <td>31</td>\n",
       "      <td>2020-09-21</td>\n",
       "      <td>&gt;60</td>\n",
       "      <td>0.000282</td>\n",
       "      <td>0.0</td>\n",
       "      <td>0.000938</td>\n",
       "    </tr>\n",
       "  </tbody>\n",
       "</table>\n",
       "</div>"
      ],
      "text/plain": [
       "       exp      Fecha Grupo de edad    Graves  Críticos  Fallecidos\n",
       "31979   31 2020-09-17           >60  0.000188       0.0    0.000938\n",
       "31984   31 2020-09-18           >60  0.000188       0.0    0.000938\n",
       "31989   31 2020-09-19           >60  0.000188       0.0    0.000938\n",
       "31994   31 2020-09-20           >60  0.000188       0.0    0.000938\n",
       "31999   31 2020-09-21           >60  0.000282       0.0    0.000938"
      ]
     },
     "execution_count": 35,
     "metadata": {},
     "output_type": "execute_result"
    }
   ],
   "source": [
    "agents_ages_norm.tail()"
   ]
  },
  {
   "cell_type": "code",
   "execution_count": 36,
   "metadata": {},
   "outputs": [],
   "source": [
    "pd.melt( agents_ages_norm[ [ 'exp', 'Fecha', 'Grupo de edad', 'Graves', 'Críticos', 'Fallecidos' ] ], id_vars = [ 'Fecha', 'Grupo de edad' ], value_vars =[ 'Graves', 'Críticos', 'Fallecidos' ] ).to_csv( './agents-viz/data/{}-agents2-ages-multi.csv'.format( city ), index = False )\n"
   ]
  },
  {
   "cell_type": "raw",
   "metadata": {},
   "source": [
    "ages = list( all_ages[ 'Grupo de edad' ].unique() )\n",
    "\n",
    "fig = plt.figure( figsize = ( 20, 8 ) )\n",
    "\n",
    "for i in range( 1, len( ages ) + 1 ):\n",
    "    current_age = all_ages[ all_ages[ 'Grupo de edad' ] == ages[ i - 1 ] ]\n",
    "    plt.subplot( 2, 3, i )\n",
    "    plt.plot( current_age[ 'Fecha' ], current_age[ 'Graves' ], label = 'Graves', color = '#317372' )\n",
    "    plt.plot( current_age[ 'Fecha' ], current_age[ 'Críticos' ], label = 'Críticos', color = '#f98a4b' )\n",
    "    plt.plot( current_age[ 'Fecha' ], ( pop - ( current_age[ 'Susceptibles' ] + current_age[ 'Leves' ] + current_age[ 'Graves' ] + current_age[ 'Críticos' ] + current_age[ 'Recuperados' ] ) ), label = 'Fallecidos', color = '#f64438' )\n",
    "    plt.title( ages[ i - 1 ] )\n",
    "    plt.ylim( [ 0, 90 ] )\n",
    "    plt.grid( True )\n",
    "\n",
    "fig.legend( labels = [ 'Graves', 'Críticos', 'Fallecidos' ], loc = 'center right' )"
   ]
  },
  {
   "cell_type": "raw",
   "metadata": {},
   "source": [
    "ages = list( all_ages[ 'Grupo de edad' ].unique() )\n",
    "\n",
    "fig = plt.figure( figsize = ( 20, 8 ) )\n",
    "\n",
    "for i in range( 1, len( ages ) + 1 ):\n",
    "    current_age = all_ages[ all_ages[ 'Grupo de edad' ] == ages[ i - 1 ] ]\n",
    "    pop = ( current_age[ 'Susceptibles' ] + current_age[ 'Leves' ] + current_age[ 'Graves' ] + current_age[ 'Críticos' ] + current_age[ 'Recuperados' ] ).values[ 0 ]\n",
    "    plt.subplot( 2, 3, i )\n",
    "    plt.plot( current_age[ 'Fecha' ], current_age[ '?_4' ].cumsum() / pop, label = 'Tasa de ataque' )\n",
    "    plt.title( ages[ i - 1 ] )\n",
    "    plt.ylim( [ 0, 1 ] )\n",
    "    plt.grid( True )\n",
    "\n",
    "fig.legend( labels = [ 'Tasa de ataque' ], loc = 'center right' )"
   ]
  },
  {
   "cell_type": "raw",
   "metadata": {},
   "source": [
    "age = list( all_ages[ 'Grupo de edad' ].unique() )\n",
    "\n",
    "agents_ages = []\n",
    "for age in ages:\n",
    "    current_age = all_ages[ all_ages[ 'Grupo de edad' ] == age]\n",
    "    pop = ( current_age[ 'Susceptibles' ] + current_age[ 'Leves' ] + current_age[ 'Graves' ] + current_age[ 'Críticos' ] + current_age[ 'Recuperados' ] ).values[ 0 ]\n",
    "    \n",
    "    current_age[ 'Fallecidos' ] = ( pop - ( current_age[ 'Susceptibles' ] + current_age[ 'Leves' ] + current_age[ 'Graves' ] + current_age[ 'Críticos' ] + current_age[ 'Recuperados' ] ) ) / pop\n",
    "    current_age[ 'Graves' ] = current_age[ 'Graves' ] / pop\n",
    "    current_age[ 'Críticos' ] = current_age[ 'Críticos' ] / pop\n",
    "    \n",
    "    \n",
    "    current_age = pd.melt( current_age[ [ 'Fecha', 'Graves', 'Críticos', 'Fallecidos' ] ], id_vars = [ 'Fecha' ], value_vars =[ 'Graves', 'Críticos', 'Fallecidos' ] )\n",
    "    current_age[ 'Grupo de edad' ] = age\n",
    "    agents_ages.append( current_age )\n",
    "    \n",
    "pd.concat( agents_ages ).to_csv( './agents-viz/data/{}-agents-ages2.csv'.format( city ), index = False )"
   ]
  },
  {
   "cell_type": "raw",
   "metadata": {},
   "source": []
  },
  {
   "cell_type": "raw",
   "metadata": {},
   "source": []
  },
  {
   "cell_type": "raw",
   "metadata": {},
   "source": []
  },
  {
   "cell_type": "raw",
   "metadata": {},
   "source": [
    "quarentenas = { 0: 'Susceptibles', 1: 'Leves', 2: 'Graves', 3: 'Críticos', 4: 'Recuperados'  }"
   ]
  },
  {
   "cell_type": "raw",
   "metadata": {},
   "source": [
    "def expand_by_quarintine( x ):\n",
    "    ds = []\n",
    "    x[ 'En_cuarentena' ] = json.loads( x[ 'En_cuarentena' ] )\n",
    "    d = dict()\n",
    "    d[ 'Día' ] = row[ 'Día' ]\n",
    "    for i in range( 5 ):\n",
    "        d[ quarentenas[ i ] ] = x[ 'En_cuarentena' ][ i ]\n",
    "    ds.append( d )\n",
    "    return ds\n",
    "\n",
    "all_quarintines = []\n",
    "for i, row in agents.iterrows():\n",
    "    all_quarintines = all_quarintines + expand_by_quarintine( row )\n",
    "\n",
    "all_quarintines = pd.DataFrame( all_quarintines )"
   ]
  },
  {
   "cell_type": "raw",
   "metadata": {},
   "source": [
    "all_quarintines.tail()"
   ]
  },
  {
   "cell_type": "raw",
   "metadata": {},
   "source": [
    "plt.plot( all_quarintines[ 'Día' ], ( all_quarintines[ 'Susceptibles' ] + all_quarintines[ 'Recuperados' ] + all_quarintines[ 'Leves' ] + all_quarintines[ 'Graves' ] + all_quarintines[ 'Críticos' ] ) )"
   ]
  },
  {
   "cell_type": "raw",
   "metadata": {},
   "source": []
  },
  {
   "cell_type": "raw",
   "metadata": {},
   "source": [
    "del agents[ 'Recuento_zonas' ]\n",
    "del agents[ '0-4' ]\n",
    "del agents[ '5-19' ]\n",
    "del agents[ '20-39' ]\n",
    "del agents[ '40-59' ]\n",
    "del agents[ '>60' ]\n",
    "del agents[ 'En_cuarentena' ]"
   ]
  },
  {
   "cell_type": "raw",
   "metadata": {},
   "source": [
    "agents.tail()"
   ]
  },
  {
   "cell_type": "raw",
   "metadata": {},
   "source": [
    "agents.dtypes"
   ]
  },
  {
   "cell_type": "raw",
   "metadata": {},
   "source": [
    "agents.to_csv( './data/agents/agents_bogota.csv', index = False )"
   ]
  },
  {
   "cell_type": "raw",
   "metadata": {},
   "source": []
  }
 ],
 "metadata": {
  "kernelspec": {
   "display_name": "Python 3",
   "language": "python",
   "name": "python3"
  },
  "language_info": {
   "codemirror_mode": {
    "name": "ipython",
    "version": 3
   },
   "file_extension": ".py",
   "mimetype": "text/x-python",
   "name": "python",
   "nbconvert_exporter": "python",
   "pygments_lexer": "ipython3",
   "version": "3.7.6"
  }
 },
 "nbformat": 4,
 "nbformat_minor": 4
}
