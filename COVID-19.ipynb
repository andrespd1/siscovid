{
 "cells": [
  {
   "cell_type": "code",
   "execution_count": 1,
   "metadata": {},
   "outputs": [],
   "source": [
    "# This dataset analyzes the COVID-19 data for Colombia and builds the GeoJSON map counting active cases by department\n",
    "# Author: Fabian Peña\n",
    "# Creation date:\n",
    "# Last modification date: 19/07/2020"
   ]
  },
  {
   "cell_type": "code",
   "execution_count": 5,
   "metadata": {},
   "outputs": [],
   "source": [
    "import datetime\n",
    "\n",
    "import pandas as pd\n",
    "#import geopandas as gpd\n",
    "from google.cloud import storage\n",
    "\n",
    "\n",
    "from sodapy import Socrata\n",
    "\n",
    "import seaborn as sns\n",
    "import matplotlib.pyplot as plt\n",
    "%matplotlib inline\n",
    "\n",
    "from pandas_profiling import ProfileReport"
   ]
  },
  {
   "cell_type": "markdown",
   "metadata": {},
   "source": [
    "# INS data"
   ]
  },
  {
   "cell_type": "code",
   "execution_count": 6,
   "metadata": {},
   "outputs": [
    {
     "name": "stderr",
     "output_type": "stream",
     "text": [
      "WARNING:root:Requests made without an app_token will be subject to strict throttling limits.\n"
     ]
    }
   ],
   "source": [
    "# Creating the Socrata client\n",
    "client = Socrata( 'www.datos.gov.co', None )"
   ]
  },
  {
   "cell_type": "code",
   "execution_count": 58,
   "metadata": {},
   "outputs": [],
   "source": [
    "# Loading the COVID-19 data for Colombia\n",
    "results = client.get( 'gt2j-8ykr', limit = 1000000 )\n",
    "covid = pd.DataFrame.from_records(results)\n",
    "covid.rename( columns = { 'id_de_caso': 'ID caso',\n",
    "                         'fecha_de_notificaci_n': 'Fecha notificacion',\n",
    "                         'c_digo_divipola': 'Codigo ciudad',\n",
    "                         'ciudad_de_ubicaci_n': 'Ciudad',\n",
    "                         'departamento': 'Departamento',\n",
    "                         'atenci_n': 'Atencion',\n",
    "                         'edad': 'Edad',\n",
    "                         'sexo': 'Sexo',\n",
    "                         'tipo': 'Tipo',\n",
    "                         'estado': 'Estado',\n",
    "                         'pa_s_de_procedencia': 'Pais procedencia',\n",
    "                         'fis': 'Fecha inicio sintomas',\n",
    "                         'fecha_de_muerte': 'Fecha muerte',\n",
    "                         'fecha_diagnostico': 'Fecha diagnostico',\n",
    "                         'fecha_recuperado': 'Fecha recuperacion',\n",
    "                         'fecha_reporte_web': 'Fecha reporte web',\n",
    "                         'tipo_recuperaci_n': 'Tipo recuperacion' }, inplace = True )"
   ]
  },
  {
   "cell_type": "code",
   "execution_count": 59,
   "metadata": {},
   "outputs": [
    {
     "data": {
      "text/plain": [
       "(476660, 21)"
      ]
     },
     "execution_count": 59,
     "metadata": {},
     "output_type": "execute_result"
    }
   ],
   "source": [
    "# Getting the size of the df\n",
    "covid.shape"
   ]
  },
  {
   "cell_type": "code",
   "execution_count": 61,
   "metadata": {},
   "outputs": [],
   "source": [
    "# Add a new column for asimptomatic observations\n",
    "covid.loc[ covid[ 'Fecha inicio sintomas' ] == 'Asintomático', 'Asintomatico' ] = True\n",
    "covid.loc[ covid[ 'Fecha inicio sintomas' ] != 'Asintomático', 'Asintomatico' ] = False\n",
    "covid[ 'Asintomatico' ] = covid[ 'Asintomatico' ].astype( bool )"
   ]
  },
  {
   "cell_type": "code",
   "execution_count": 63,
   "metadata": {},
   "outputs": [],
   "source": [
    "# Casting date columns\n",
    "covid[ 'Fecha notificacion' ] = pd.to_datetime( pd.to_datetime( covid[ 'Fecha notificacion' ] ).dt.date )\n",
    "covid[ 'Fecha inicio sintomas' ] = pd.to_datetime( pd.to_datetime( covid[ 'Fecha inicio sintomas' ], errors = 'coerce' ).dt.date )\n",
    "covid[ 'Fecha muerte' ] = pd.to_datetime( pd.to_datetime( covid[ 'Fecha muerte' ], errors = 'coerce' ).dt.date )\n",
    "covid[ 'Fecha diagnostico' ] = pd.to_datetime( pd.to_datetime( covid[ 'Fecha diagnostico' ], errors = 'coerce' ).dt.date )\n",
    "covid[ 'Fecha recuperacion' ] = pd.to_datetime( pd.to_datetime( covid[ 'Fecha recuperacion' ], errors = 'coerce' ).dt.date )\n",
    "covid[ 'Fecha reporte web' ] = pd.to_datetime( pd.to_datetime( covid[ 'Fecha reporte web' ] ).dt.date )"
   ]
  },
  {
   "cell_type": "code",
   "execution_count": 65,
   "metadata": {},
   "outputs": [],
   "source": [
    "# Unifying values for sex\n",
    "covid[ 'Sexo' ].replace( { 'm': 'M', 'f': 'F' }, inplace = True )"
   ]
  },
  {
   "cell_type": "code",
   "execution_count": 66,
   "metadata": {},
   "outputs": [],
   "source": [
    "# Unifying values for status\n",
    "covid[ 'Estado' ].replace( { 'leve': 'Leve', 'LEVE': 'Leve' }, inplace = True )"
   ]
  },
  {
   "cell_type": "code",
   "execution_count": 67,
   "metadata": {},
   "outputs": [],
   "source": [
    "# Unifying values for atention\n",
    "covid[ 'Atencion' ].replace( { 'casa': 'Casa', 'N/A': None }, inplace = True )"
   ]
  },
  {
   "cell_type": "code",
   "execution_count": 69,
   "metadata": {},
   "outputs": [],
   "source": [
    "# Unifying values for procedence\n",
    "covid[ 'Pais procedencia' ].replace( { '-   -': None }, inplace = True )"
   ]
  },
  {
   "cell_type": "code",
   "execution_count": 70,
   "metadata": {},
   "outputs": [],
   "source": [
    "covid.loc[ covid[ 'Fecha recuperacion' ].notnull(), 'Recuperado' ] = True\n",
    "covid.loc[ covid[ 'Fecha recuperacion' ].isnull(), 'Recuperado' ] = False"
   ]
  },
  {
   "cell_type": "code",
   "execution_count": 71,
   "metadata": {},
   "outputs": [],
   "source": [
    "covid.loc[ covid[ 'Fecha muerte' ].notnull(), 'Fallecido' ] = True\n",
    "covid.loc[ covid[ 'Fecha muerte' ].isnull(), 'Fallecido' ] = False"
   ]
  },
  {
   "cell_type": "code",
   "execution_count": 72,
   "metadata": {},
   "outputs": [],
   "source": [
    "covid[ 'Edad' ] = covid[ 'Edad' ].astype( int )"
   ]
  },
  {
   "cell_type": "code",
   "execution_count": 73,
   "metadata": {},
   "outputs": [],
   "source": [
    "def get_age_group( x ):\n",
    "    if x <= 19:\n",
    "        return '0 - 19'\n",
    "    elif x > 19 and x <= 39:\n",
    "        return '20 - 39'\n",
    "    elif x > 39 and x <= 59:\n",
    "        return '40 - 59'\n",
    "    elif x > 59 and x <= 79:\n",
    "        return '60 - 79'\n",
    "    elif x > 79:\n",
    "          return '80+'\n",
    "    else:\n",
    "        return None\n",
    "\n",
    "covid[ 'Grupo edad' ] = covid[ 'Edad' ].apply( get_age_group )"
   ]
  },
  {
   "cell_type": "code",
   "execution_count": 74,
   "metadata": {},
   "outputs": [
    {
     "data": {
      "text/plain": [
       "ID caso                          object\n",
       "Fecha notificacion       datetime64[ns]\n",
       "Codigo ciudad                    object\n",
       "Ciudad                           object\n",
       "Departamento                     object\n",
       "Atencion                         object\n",
       "Edad                              int64\n",
       "Sexo                             object\n",
       "Tipo                             object\n",
       "Estado                           object\n",
       "Pais procedencia                 object\n",
       "Fecha inicio sintomas    datetime64[ns]\n",
       "Fecha diagnostico        datetime64[ns]\n",
       "Fecha recuperacion       datetime64[ns]\n",
       "Fecha reporte web        datetime64[ns]\n",
       "Tipo recuperacion                object\n",
       "codigo_departamento              object\n",
       "codigo_pais                      object\n",
       "pertenencia_etnica               object\n",
       "nombre_grupo_etnico              object\n",
       "Fecha muerte             datetime64[ns]\n",
       "Asintomatico                       bool\n",
       "Recuperado                       object\n",
       "Fallecido                        object\n",
       "Grupo edad                       object\n",
       "dtype: object"
      ]
     },
     "execution_count": 74,
     "metadata": {},
     "output_type": "execute_result"
    }
   ],
   "source": [
    "# Getting the column types\n",
    "covid.dtypes"
   ]
  },
  {
   "cell_type": "code",
   "execution_count": 75,
   "metadata": {},
   "outputs": [
    {
     "data": {
      "text/html": [
       "<div>\n",
       "<style scoped>\n",
       "    .dataframe tbody tr th:only-of-type {\n",
       "        vertical-align: middle;\n",
       "    }\n",
       "\n",
       "    .dataframe tbody tr th {\n",
       "        vertical-align: top;\n",
       "    }\n",
       "\n",
       "    .dataframe thead th {\n",
       "        text-align: right;\n",
       "    }\n",
       "</style>\n",
       "<table border=\"1\" class=\"dataframe\">\n",
       "  <thead>\n",
       "    <tr style=\"text-align: right;\">\n",
       "      <th></th>\n",
       "      <th>ID caso</th>\n",
       "      <th>Fecha notificacion</th>\n",
       "      <th>Codigo ciudad</th>\n",
       "      <th>Ciudad</th>\n",
       "      <th>Departamento</th>\n",
       "      <th>Atencion</th>\n",
       "      <th>Edad</th>\n",
       "      <th>Sexo</th>\n",
       "      <th>Tipo</th>\n",
       "      <th>Estado</th>\n",
       "      <th>...</th>\n",
       "      <th>Tipo recuperacion</th>\n",
       "      <th>codigo_departamento</th>\n",
       "      <th>codigo_pais</th>\n",
       "      <th>pertenencia_etnica</th>\n",
       "      <th>nombre_grupo_etnico</th>\n",
       "      <th>Fecha muerte</th>\n",
       "      <th>Asintomatico</th>\n",
       "      <th>Recuperado</th>\n",
       "      <th>Fallecido</th>\n",
       "      <th>Grupo edad</th>\n",
       "    </tr>\n",
       "  </thead>\n",
       "  <tbody>\n",
       "    <tr>\n",
       "      <th>476655</th>\n",
       "      <td>476696</td>\n",
       "      <td>2020-08-05</td>\n",
       "      <td>23001</td>\n",
       "      <td>Montería</td>\n",
       "      <td>Córdoba</td>\n",
       "      <td>Casa</td>\n",
       "      <td>29</td>\n",
       "      <td>F</td>\n",
       "      <td>En estudio</td>\n",
       "      <td>Leve</td>\n",
       "      <td>...</td>\n",
       "      <td>NaN</td>\n",
       "      <td>23</td>\n",
       "      <td>NaN</td>\n",
       "      <td>NaN</td>\n",
       "      <td>NaN</td>\n",
       "      <td>NaT</td>\n",
       "      <td>False</td>\n",
       "      <td>False</td>\n",
       "      <td>False</td>\n",
       "      <td>20 - 39</td>\n",
       "    </tr>\n",
       "    <tr>\n",
       "      <th>476656</th>\n",
       "      <td>476697</td>\n",
       "      <td>2020-08-05</td>\n",
       "      <td>23001</td>\n",
       "      <td>Montería</td>\n",
       "      <td>Córdoba</td>\n",
       "      <td>Casa</td>\n",
       "      <td>40</td>\n",
       "      <td>M</td>\n",
       "      <td>En estudio</td>\n",
       "      <td>Leve</td>\n",
       "      <td>...</td>\n",
       "      <td>NaN</td>\n",
       "      <td>23</td>\n",
       "      <td>NaN</td>\n",
       "      <td>NaN</td>\n",
       "      <td>NaN</td>\n",
       "      <td>NaT</td>\n",
       "      <td>False</td>\n",
       "      <td>False</td>\n",
       "      <td>False</td>\n",
       "      <td>40 - 59</td>\n",
       "    </tr>\n",
       "    <tr>\n",
       "      <th>476657</th>\n",
       "      <td>476698</td>\n",
       "      <td>2020-08-05</td>\n",
       "      <td>23001</td>\n",
       "      <td>Montería</td>\n",
       "      <td>Córdoba</td>\n",
       "      <td>Casa</td>\n",
       "      <td>44</td>\n",
       "      <td>M</td>\n",
       "      <td>En estudio</td>\n",
       "      <td>Leve</td>\n",
       "      <td>...</td>\n",
       "      <td>NaN</td>\n",
       "      <td>23</td>\n",
       "      <td>NaN</td>\n",
       "      <td>NaN</td>\n",
       "      <td>NaN</td>\n",
       "      <td>NaT</td>\n",
       "      <td>False</td>\n",
       "      <td>False</td>\n",
       "      <td>False</td>\n",
       "      <td>40 - 59</td>\n",
       "    </tr>\n",
       "    <tr>\n",
       "      <th>476658</th>\n",
       "      <td>476699</td>\n",
       "      <td>2020-08-05</td>\n",
       "      <td>23001</td>\n",
       "      <td>Montería</td>\n",
       "      <td>Córdoba</td>\n",
       "      <td>Casa</td>\n",
       "      <td>41</td>\n",
       "      <td>F</td>\n",
       "      <td>En estudio</td>\n",
       "      <td>Leve</td>\n",
       "      <td>...</td>\n",
       "      <td>NaN</td>\n",
       "      <td>23</td>\n",
       "      <td>NaN</td>\n",
       "      <td>NaN</td>\n",
       "      <td>NaN</td>\n",
       "      <td>NaT</td>\n",
       "      <td>False</td>\n",
       "      <td>False</td>\n",
       "      <td>False</td>\n",
       "      <td>40 - 59</td>\n",
       "    </tr>\n",
       "    <tr>\n",
       "      <th>476659</th>\n",
       "      <td>476700</td>\n",
       "      <td>2020-08-05</td>\n",
       "      <td>23001</td>\n",
       "      <td>Montería</td>\n",
       "      <td>Córdoba</td>\n",
       "      <td>Casa</td>\n",
       "      <td>50</td>\n",
       "      <td>F</td>\n",
       "      <td>En estudio</td>\n",
       "      <td>Leve</td>\n",
       "      <td>...</td>\n",
       "      <td>NaN</td>\n",
       "      <td>23</td>\n",
       "      <td>NaN</td>\n",
       "      <td>NaN</td>\n",
       "      <td>NaN</td>\n",
       "      <td>NaT</td>\n",
       "      <td>False</td>\n",
       "      <td>False</td>\n",
       "      <td>False</td>\n",
       "      <td>40 - 59</td>\n",
       "    </tr>\n",
       "  </tbody>\n",
       "</table>\n",
       "<p>5 rows × 25 columns</p>\n",
       "</div>"
      ],
      "text/plain": [
       "       ID caso Fecha notificacion Codigo ciudad    Ciudad Departamento  \\\n",
       "476655  476696         2020-08-05         23001  Montería      Córdoba   \n",
       "476656  476697         2020-08-05         23001  Montería      Córdoba   \n",
       "476657  476698         2020-08-05         23001  Montería      Córdoba   \n",
       "476658  476699         2020-08-05         23001  Montería      Córdoba   \n",
       "476659  476700         2020-08-05         23001  Montería      Córdoba   \n",
       "\n",
       "       Atencion  Edad Sexo        Tipo Estado  ... Tipo recuperacion  \\\n",
       "476655     Casa    29    F  En estudio   Leve  ...               NaN   \n",
       "476656     Casa    40    M  En estudio   Leve  ...               NaN   \n",
       "476657     Casa    44    M  En estudio   Leve  ...               NaN   \n",
       "476658     Casa    41    F  En estudio   Leve  ...               NaN   \n",
       "476659     Casa    50    F  En estudio   Leve  ...               NaN   \n",
       "\n",
       "       codigo_departamento codigo_pais pertenencia_etnica nombre_grupo_etnico  \\\n",
       "476655                  23         NaN                NaN                 NaN   \n",
       "476656                  23         NaN                NaN                 NaN   \n",
       "476657                  23         NaN                NaN                 NaN   \n",
       "476658                  23         NaN                NaN                 NaN   \n",
       "476659                  23         NaN                NaN                 NaN   \n",
       "\n",
       "       Fecha muerte Asintomatico Recuperado Fallecido Grupo edad  \n",
       "476655          NaT        False      False     False    20 - 39  \n",
       "476656          NaT        False      False     False    40 - 59  \n",
       "476657          NaT        False      False     False    40 - 59  \n",
       "476658          NaT        False      False     False    40 - 59  \n",
       "476659          NaT        False      False     False    40 - 59  \n",
       "\n",
       "[5 rows x 25 columns]"
      ]
     },
     "execution_count": 75,
     "metadata": {},
     "output_type": "execute_result"
    }
   ],
   "source": [
    "# Showing the firts rows\n",
    "covid.tail()"
   ]
  },
  {
   "cell_type": "code",
   "execution_count": 21,
   "metadata": {},
   "outputs": [
    {
     "data": {
      "text/plain": [
       "<matplotlib.axes._subplots.AxesSubplot at 0x7ff892305fd0>"
      ]
     },
     "execution_count": 21,
     "metadata": {},
     "output_type": "execute_result"
    },
    {
     "data": {
      "image/png": "[encoded data removed]",
      "text/plain": [
       "<Figure size 576x396 with 1 Axes>"
      ]
     },
     "metadata": {},
     "output_type": "display_data"
    }
   ],
   "source": [
    "covid[ 'Fecha diagnostico' ].hist()"
   ]
  },
  {
   "cell_type": "code",
   "execution_count": 22,
   "metadata": {},
   "outputs": [
    {
     "data": {
      "text/plain": [
       "(985, 25)"
      ]
     },
     "execution_count": 22,
     "metadata": {},
     "output_type": "execute_result"
    }
   ],
   "source": [
    "# How many observations have null atention\n",
    "covid.loc[ covid[ 'Atencion' ].isnull() ].shape"
   ]
  },
  {
   "cell_type": "code",
   "execution_count": 23,
   "metadata": {},
   "outputs": [
    {
     "data": {
      "text/plain": [
       "(0, 25)"
      ]
     },
     "execution_count": 23,
     "metadata": {},
     "output_type": "execute_result"
    }
   ],
   "source": [
    "# How many observations have null status\n",
    "covid.loc[ covid[ 'Estado' ].isnull() ].shape"
   ]
  },
  {
   "cell_type": "code",
   "execution_count": 24,
   "metadata": {},
   "outputs": [],
   "source": [
    "del covid[ 'nombre_grupo_etnico' ]\n",
    "del covid[ 'pertenencia_etnica' ]\n",
    "del covid[ 'codigo_pais' ]"
   ]
  },
  {
   "cell_type": "code",
   "execution_count": 25,
   "metadata": {},
   "outputs": [],
   "source": [
    "covid_copy = covid.copy()"
   ]
  },
  {
   "cell_type": "code",
   "execution_count": 26,
   "metadata": {},
   "outputs": [],
   "source": [
    "del covid_copy[ 'codigo_departamento' ]"
   ]
  },
  {
   "cell_type": "code",
   "execution_count": 27,
   "metadata": {},
   "outputs": [],
   "source": [
    "#covid_copy.to_csv( './data/covid19.csv', index = False )"
   ]
  },
  {
   "cell_type": "raw",
   "metadata": {},
   "source": [
    "#DataFrame to CSV\n",
    "csv_data=covid_copy.to_csv(index=False)\n",
    "\n",
    "#Client, bucket and blob to acces gcloud\n",
    "client= storage.Client()\n",
    "bucket= client.get_bucket('siscovid')\n",
    "blob=bucket.blob('covid19.csv')\n",
    "\n",
    "#Uploads the file to gcloud\n",
    "blob.upload_from_string(data=csv_data, content_type='text/csv')\n"
   ]
  },
  {
   "cell_type": "markdown",
   "metadata": {},
   "source": [
    "# Indicators"
   ]
  },
  {
   "cell_type": "code",
   "execution_count": 28,
   "metadata": {},
   "outputs": [
    {
     "data": {
      "text/plain": [
       "476660"
      ]
     },
     "execution_count": 28,
     "metadata": {},
     "output_type": "execute_result"
    }
   ],
   "source": [
    "covid[ 'ID caso' ].nunique()"
   ]
  },
  {
   "cell_type": "code",
   "execution_count": 29,
   "metadata": {},
   "outputs": [
    {
     "data": {
      "text/plain": [
       "301530"
      ]
     },
     "execution_count": 29,
     "metadata": {},
     "output_type": "execute_result"
    }
   ],
   "source": [
    "covid.loc[ covid[ 'Recuperado' ] == True ].shape[ 0 ]"
   ]
  },
  {
   "cell_type": "code",
   "execution_count": 30,
   "metadata": {},
   "outputs": [
    {
     "data": {
      "text/plain": [
       "16222"
      ]
     },
     "execution_count": 30,
     "metadata": {},
     "output_type": "execute_result"
    }
   ],
   "source": [
    "covid.loc[ covid[ 'Fallecido' ] == True ].shape[ 0 ]"
   ]
  },
  {
   "cell_type": "code",
   "execution_count": 31,
   "metadata": {},
   "outputs": [
    {
     "data": {
      "text/plain": [
       "17514"
      ]
     },
     "execution_count": 31,
     "metadata": {},
     "output_type": "execute_result"
    }
   ],
   "source": [
    "covid.loc[ ( covid[ 'Atencion' ] == 'Hospital' ) ].shape[ 0 ]"
   ]
  },
  {
   "cell_type": "code",
   "execution_count": 32,
   "metadata": {},
   "outputs": [
    {
     "data": {
      "text/plain": [
       "1639"
      ]
     },
     "execution_count": 32,
     "metadata": {},
     "output_type": "execute_result"
    }
   ],
   "source": [
    "covid.loc[ ( covid[ 'Atencion' ] == 'Hospital UCI' ) ].shape[ 0 ]"
   ]
  },
  {
   "cell_type": "markdown",
   "metadata": {},
   "source": [
    "# Time series"
   ]
  },
  {
   "cell_type": "code",
   "execution_count": 33,
   "metadata": {},
   "outputs": [
    {
     "data": {
      "text/plain": [
       "<matplotlib.axes._subplots.AxesSubplot at 0x7ff845ab9510>"
      ]
     },
     "execution_count": 33,
     "metadata": {},
     "output_type": "execute_result"
    },
    {
     "data": {
      "image/png": "[encoded data removed]",
      "text/plain": [
       "<Figure size 1440x576 with 1 Axes>"
      ]
     },
     "metadata": {},
     "output_type": "display_data"
    }
   ],
   "source": [
    "# Plotting diagnosed cases by day\n",
    "covid.groupby( [ covid[ 'Fecha inicio sintomas' ].dt.date ] ).agg( { 'ID caso': 'count' } ).plot( figsize = ( 20, 8 ) )"
   ]
  },
  {
   "cell_type": "code",
   "execution_count": 34,
   "metadata": {},
   "outputs": [],
   "source": [
    "CITIES = [ 'Bogotá D.C.', 'Barranquilla', 'Cali', 'Cartagena de Indias', 'Medellín' ]"
   ]
  },
  {
   "cell_type": "code",
   "execution_count": 35,
   "metadata": {},
   "outputs": [],
   "source": [
    "daily_cases_by_city = covid.loc[ covid[ 'Ciudad' ].isin( CITIES ) ].groupby( [ 'Ciudad', covid[ 'Fecha inicio sintomas' ].dt.date ] ).agg( { 'ID caso': 'count' } ).unstack( level = 0 ).fillna( 0 )\n",
    "daily_cases_by_city.columns = daily_cases_by_city.columns.droplevel()\n",
    "daily_cases_by_city.reset_index( inplace = True )"
   ]
  },
  {
   "cell_type": "code",
   "execution_count": 36,
   "metadata": {},
   "outputs": [
    {
     "data": {
      "text/plain": [
       "Ciudad\n",
       "Fecha inicio sintomas     object\n",
       "Barranquilla             float64\n",
       "Bogotá D.C.              float64\n",
       "Cali                     float64\n",
       "Cartagena de Indias      float64\n",
       "Medellín                 float64\n",
       "dtype: object"
      ]
     },
     "execution_count": 36,
     "metadata": {},
     "output_type": "execute_result"
    }
   ],
   "source": [
    "daily_cases_by_city.dtypes"
   ]
  },
  {
   "cell_type": "code",
   "execution_count": 38,
   "metadata": {},
   "outputs": [
    {
     "data": {
      "text/plain": [
       "<matplotlib.axes._subplots.AxesSubplot at 0x7ff85078d650>"
      ]
     },
     "execution_count": 38,
     "metadata": {},
     "output_type": "execute_result"
    },
    {
     "data": {
      "image/png": "[encoded data removed]",
      "text/plain": [
       "<Figure size 1440x576 with 1 Axes>"
      ]
     },
     "metadata": {},
     "output_type": "display_data"
    }
   ],
   "source": [
    "plt.figure( figsize = ( 20, 8 ) )\n",
    "sns.lineplot( x = 'Fecha inicio sintomas', y = 'ID caso', hue = 'Ciudad', data = covid.loc[ covid[ 'Ciudad' ].isin( CITIES ) ].groupby( [ 'Ciudad', covid[ 'Fecha inicio sintomas' ].dt.date ] ).agg( { 'ID caso': 'count' } ).reset_index() )"
   ]
  },
  {
   "cell_type": "code",
   "execution_count": 37,
   "metadata": {},
   "outputs": [],
   "source": [
    "daily_cases_by_city.rename( columns = { 'Fecha inicio sintomas': 'date', 'Cartagena de Indias': 'Cartagena' } ).to_csv( './daily-cases-viz/data/daily-cases-by-city.csv', index = False )"
   ]
  },
  {
   "cell_type": "code",
   "execution_count": null,
   "metadata": {},
   "outputs": [],
   "source": []
  },
  {
   "cell_type": "code",
   "execution_count": null,
   "metadata": {},
   "outputs": [],
   "source": []
  },
  {
   "cell_type": "code",
   "execution_count": 57,
   "metadata": {},
   "outputs": [
    {
     "data": {
      "text/html": [
       "<div>\n",
       "<style scoped>\n",
       "    .dataframe tbody tr th:only-of-type {\n",
       "        vertical-align: middle;\n",
       "    }\n",
       "\n",
       "    .dataframe tbody tr th {\n",
       "        vertical-align: top;\n",
       "    }\n",
       "\n",
       "    .dataframe thead tr th {\n",
       "        text-align: left;\n",
       "    }\n",
       "\n",
       "    .dataframe thead tr:last-of-type th {\n",
       "        text-align: right;\n",
       "    }\n",
       "</style>\n",
       "<table border=\"1\" class=\"dataframe\">\n",
       "  <thead>\n",
       "    <tr>\n",
       "      <th></th>\n",
       "      <th colspan=\"5\" halign=\"left\">ID caso</th>\n",
       "    </tr>\n",
       "    <tr>\n",
       "      <th>Ciudad</th>\n",
       "      <th>Barranquilla</th>\n",
       "      <th>Bogotá D.C.</th>\n",
       "      <th>Cali</th>\n",
       "      <th>Cartagena de Indias</th>\n",
       "      <th>Medellín</th>\n",
       "    </tr>\n",
       "    <tr>\n",
       "      <th>Fecha muerte</th>\n",
       "      <th></th>\n",
       "      <th></th>\n",
       "      <th></th>\n",
       "      <th></th>\n",
       "      <th></th>\n",
       "    </tr>\n",
       "  </thead>\n",
       "  <tbody>\n",
       "    <tr>\n",
       "      <th>2020-03-16</th>\n",
       "      <td>0.0</td>\n",
       "      <td>0.0</td>\n",
       "      <td>0.0</td>\n",
       "      <td>1.0</td>\n",
       "      <td>0.0</td>\n",
       "    </tr>\n",
       "    <tr>\n",
       "      <th>2020-03-25</th>\n",
       "      <td>0.0</td>\n",
       "      <td>1.0</td>\n",
       "      <td>2.0</td>\n",
       "      <td>0.0</td>\n",
       "      <td>0.0</td>\n",
       "    </tr>\n",
       "    <tr>\n",
       "      <th>2020-03-26</th>\n",
       "      <td>0.0</td>\n",
       "      <td>2.0</td>\n",
       "      <td>0.0</td>\n",
       "      <td>0.0</td>\n",
       "      <td>0.0</td>\n",
       "    </tr>\n",
       "    <tr>\n",
       "      <th>2020-03-27</th>\n",
       "      <td>0.0</td>\n",
       "      <td>0.0</td>\n",
       "      <td>0.0</td>\n",
       "      <td>1.0</td>\n",
       "      <td>0.0</td>\n",
       "    </tr>\n",
       "    <tr>\n",
       "      <th>2020-03-28</th>\n",
       "      <td>0.0</td>\n",
       "      <td>3.0</td>\n",
       "      <td>0.0</td>\n",
       "      <td>0.0</td>\n",
       "      <td>0.0</td>\n",
       "    </tr>\n",
       "    <tr>\n",
       "      <th>...</th>\n",
       "      <td>...</td>\n",
       "      <td>...</td>\n",
       "      <td>...</td>\n",
       "      <td>...</td>\n",
       "      <td>...</td>\n",
       "    </tr>\n",
       "    <tr>\n",
       "      <th>2020-08-13</th>\n",
       "      <td>4.0</td>\n",
       "      <td>72.0</td>\n",
       "      <td>17.0</td>\n",
       "      <td>1.0</td>\n",
       "      <td>14.0</td>\n",
       "    </tr>\n",
       "    <tr>\n",
       "      <th>2020-08-14</th>\n",
       "      <td>4.0</td>\n",
       "      <td>65.0</td>\n",
       "      <td>8.0</td>\n",
       "      <td>0.0</td>\n",
       "      <td>18.0</td>\n",
       "    </tr>\n",
       "    <tr>\n",
       "      <th>2020-08-15</th>\n",
       "      <td>1.0</td>\n",
       "      <td>57.0</td>\n",
       "      <td>14.0</td>\n",
       "      <td>0.0</td>\n",
       "      <td>21.0</td>\n",
       "    </tr>\n",
       "    <tr>\n",
       "      <th>2020-08-16</th>\n",
       "      <td>2.0</td>\n",
       "      <td>45.0</td>\n",
       "      <td>11.0</td>\n",
       "      <td>0.0</td>\n",
       "      <td>12.0</td>\n",
       "    </tr>\n",
       "    <tr>\n",
       "      <th>2020-08-17</th>\n",
       "      <td>1.0</td>\n",
       "      <td>6.0</td>\n",
       "      <td>2.0</td>\n",
       "      <td>0.0</td>\n",
       "      <td>3.0</td>\n",
       "    </tr>\n",
       "  </tbody>\n",
       "</table>\n",
       "<p>147 rows × 5 columns</p>\n",
       "</div>"
      ],
      "text/plain": [
       "                  ID caso                                               \n",
       "Ciudad       Barranquilla Bogotá D.C.  Cali Cartagena de Indias Medellín\n",
       "Fecha muerte                                                            \n",
       "2020-03-16            0.0         0.0   0.0                 1.0      0.0\n",
       "2020-03-25            0.0         1.0   2.0                 0.0      0.0\n",
       "2020-03-26            0.0         2.0   0.0                 0.0      0.0\n",
       "2020-03-27            0.0         0.0   0.0                 1.0      0.0\n",
       "2020-03-28            0.0         3.0   0.0                 0.0      0.0\n",
       "...                   ...         ...   ...                 ...      ...\n",
       "2020-08-13            4.0        72.0  17.0                 1.0     14.0\n",
       "2020-08-14            4.0        65.0   8.0                 0.0     18.0\n",
       "2020-08-15            1.0        57.0  14.0                 0.0     21.0\n",
       "2020-08-16            2.0        45.0  11.0                 0.0     12.0\n",
       "2020-08-17            1.0         6.0   2.0                 0.0      3.0\n",
       "\n",
       "[147 rows x 5 columns]"
      ]
     },
     "execution_count": 57,
     "metadata": {},
     "output_type": "execute_result"
    }
   ],
   "source": [
    "deaths_by_city = covid.loc[ covid[ 'Ciudad' ].isin( CITIES ) ].groupby( [ 'Ciudad', covid[ 'Fecha muerte' ].dt.date ] ).agg( { 'ID caso': 'count' } ).unstack( level = 0 ).fillna( 0 )\n",
    "deaths_by_city.columns = deaths_by_city.columns.droplevel()\n",
    "deaths_by_city.reset_index( inplace = True )"
   ]
  },
  {
   "cell_type": "code",
   "execution_count": 51,
   "metadata": {},
   "outputs": [
    {
     "data": {
      "text/html": [
       "<div>\n",
       "<style scoped>\n",
       "    .dataframe tbody tr th:only-of-type {\n",
       "        vertical-align: middle;\n",
       "    }\n",
       "\n",
       "    .dataframe tbody tr th {\n",
       "        vertical-align: top;\n",
       "    }\n",
       "\n",
       "    .dataframe thead th {\n",
       "        text-align: right;\n",
       "    }\n",
       "</style>\n",
       "<table border=\"1\" class=\"dataframe\">\n",
       "  <thead>\n",
       "    <tr style=\"text-align: right;\">\n",
       "      <th>Ciudad</th>\n",
       "      <th>Fecha muerte</th>\n",
       "      <th>Barranquilla</th>\n",
       "      <th>Bogotá D.C.</th>\n",
       "      <th>Cali</th>\n",
       "      <th>Cartagena de Indias</th>\n",
       "      <th>Medellín</th>\n",
       "    </tr>\n",
       "  </thead>\n",
       "  <tbody>\n",
       "    <tr>\n",
       "      <th>142</th>\n",
       "      <td>2020-08-13</td>\n",
       "      <td>4.0</td>\n",
       "      <td>72.0</td>\n",
       "      <td>17.0</td>\n",
       "      <td>1.0</td>\n",
       "      <td>14.0</td>\n",
       "    </tr>\n",
       "    <tr>\n",
       "      <th>143</th>\n",
       "      <td>2020-08-14</td>\n",
       "      <td>4.0</td>\n",
       "      <td>65.0</td>\n",
       "      <td>8.0</td>\n",
       "      <td>0.0</td>\n",
       "      <td>18.0</td>\n",
       "    </tr>\n",
       "    <tr>\n",
       "      <th>144</th>\n",
       "      <td>2020-08-15</td>\n",
       "      <td>1.0</td>\n",
       "      <td>57.0</td>\n",
       "      <td>14.0</td>\n",
       "      <td>0.0</td>\n",
       "      <td>21.0</td>\n",
       "    </tr>\n",
       "    <tr>\n",
       "      <th>145</th>\n",
       "      <td>2020-08-16</td>\n",
       "      <td>2.0</td>\n",
       "      <td>45.0</td>\n",
       "      <td>11.0</td>\n",
       "      <td>0.0</td>\n",
       "      <td>12.0</td>\n",
       "    </tr>\n",
       "    <tr>\n",
       "      <th>146</th>\n",
       "      <td>2020-08-17</td>\n",
       "      <td>1.0</td>\n",
       "      <td>6.0</td>\n",
       "      <td>2.0</td>\n",
       "      <td>0.0</td>\n",
       "      <td>3.0</td>\n",
       "    </tr>\n",
       "  </tbody>\n",
       "</table>\n",
       "</div>"
      ],
      "text/plain": [
       "Ciudad Fecha muerte  Barranquilla  Bogotá D.C.  Cali  Cartagena de Indias  \\\n",
       "142      2020-08-13           4.0         72.0  17.0                  1.0   \n",
       "143      2020-08-14           4.0         65.0   8.0                  0.0   \n",
       "144      2020-08-15           1.0         57.0  14.0                  0.0   \n",
       "145      2020-08-16           2.0         45.0  11.0                  0.0   \n",
       "146      2020-08-17           1.0          6.0   2.0                  0.0   \n",
       "\n",
       "Ciudad  Medellín  \n",
       "142         14.0  \n",
       "143         18.0  \n",
       "144         21.0  \n",
       "145         12.0  \n",
       "146          3.0  "
      ]
     },
     "execution_count": 51,
     "metadata": {},
     "output_type": "execute_result"
    }
   ],
   "source": [
    "deaths_by_city.tail()"
   ]
  },
  {
   "cell_type": "code",
   "execution_count": 47,
   "metadata": {},
   "outputs": [
    {
     "data": {
      "text/plain": [
       "Ciudad\n",
       "Fecha muerte            object\n",
       "Barranquilla           float64\n",
       "Bogotá D.C.            float64\n",
       "Cali                   float64\n",
       "Cartagena de Indias    float64\n",
       "Medellín               float64\n",
       "dtype: object"
      ]
     },
     "execution_count": 47,
     "metadata": {},
     "output_type": "execute_result"
    }
   ],
   "source": [
    "deaths_by_city.dtypes"
   ]
  },
  {
   "cell_type": "code",
   "execution_count": 49,
   "metadata": {},
   "outputs": [
    {
     "data": {
      "text/plain": [
       "<matplotlib.axes._subplots.AxesSubplot at 0x7ff84753f750>"
      ]
     },
     "execution_count": 49,
     "metadata": {},
     "output_type": "execute_result"
    },
    {
     "data": {
      "image/png": "[encoded data removed]",
      "text/plain": [
       "<Figure size 1440x576 with 1 Axes>"
      ]
     },
     "metadata": {},
     "output_type": "display_data"
    }
   ],
   "source": [
    "plt.figure( figsize = ( 20, 8 ) )\n",
    "sns.lineplot( x = 'Fecha muerte', y = 'ID caso', hue = 'Ciudad', data = covid.loc[ covid[ 'Ciudad' ].isin( CITIES ) ].groupby( [ 'Ciudad', covid[ 'Fecha muerte' ].dt.date ] ).agg( { 'ID caso': 'count' } ).reset_index() )"
   ]
  },
  {
   "cell_type": "code",
   "execution_count": 54,
   "metadata": {},
   "outputs": [],
   "source": [
    "deaths_by_city.rename( columns = { 'Fecha muerte': 'date', 'Cartagena de Indias': 'cartagena', 'Barranquilla': 'barranquilla', 'Bogotá D.C.': 'bogota', 'Cali': 'cali', 'Medellín': 'medellin' } ).to_csv( './data/meta/deaths-by-city.csv', index = False )"
   ]
  },
  {
   "cell_type": "code",
   "execution_count": null,
   "metadata": {},
   "outputs": [],
   "source": []
  },
  {
   "cell_type": "code",
   "execution_count": null,
   "metadata": {},
   "outputs": [],
   "source": []
  },
  {
   "cell_type": "code",
   "execution_count": null,
   "metadata": {},
   "outputs": [],
   "source": []
  },
  {
   "cell_type": "code",
   "execution_count": 39,
   "metadata": {},
   "outputs": [
    {
     "data": {
      "text/plain": [
       "<matplotlib.axes._subplots.AxesSubplot at 0x7ff845bc2b10>"
      ]
     },
     "execution_count": 39,
     "metadata": {},
     "output_type": "execute_result"
    },
    {
     "data": {
      "image/png": "[encoded data removed]",
      "text/plain": [
       "<Figure size 1440x576 with 1 Axes>"
      ]
     },
     "metadata": {},
     "output_type": "display_data"
    }
   ],
   "source": [
    "# Plotting diagnosed cases by day (cumulative sum)\n",
    "covid.groupby( [ covid[ 'Fecha diagnostico' ].dt.date ] ).agg( { 'ID caso': 'count' } ).cumsum().plot( figsize = ( 20, 8 ) )"
   ]
  },
  {
   "cell_type": "code",
   "execution_count": 40,
   "metadata": {},
   "outputs": [],
   "source": [
    "# Preparing and merging the groupings in one dataframe\n",
    "\n",
    "diagnosed = covid.groupby( [ covid[ 'Fecha diagnostico' ].dt.date ] ) \\\n",
    "    .agg( { 'ID caso': 'count' } ) \\\n",
    "    .cumsum() \\\n",
    "    .rename( columns = { 'Fecha diagnostico': 'Fecha', 'ID caso': 'Diagnosticados' } )\n",
    "\n",
    "recovered = covid.groupby( [ covid[ 'Fecha recuperacion' ].dt.date ] )  \\\n",
    "    .agg( { 'ID caso': 'count' } ) \\\n",
    "    .cumsum() \\\n",
    "    .rename( columns = { 'Fecha recuperacion': 'Fecha', 'ID caso': 'Recuperados' } )\n",
    "\n",
    "deaths = covid.groupby( [ covid[ 'Fecha muerte' ].dt.date ] )  \\\n",
    "    .agg( { 'ID caso': 'count' } ) \\\n",
    "    .cumsum() \\\n",
    "    .rename( columns = { 'Fecha muerte': 'Fecha', 'ID caso': 'Fallecidos' } )\n",
    "\n",
    "infections = diagnosed.merge( recovered, how = 'outer', left_index = True, right_index = True )\n",
    "infections = infections.merge( deaths, how = 'outer', left_index = True, right_index = True )\n",
    "infections.fillna( 0, inplace = True )"
   ]
  },
  {
   "cell_type": "raw",
   "metadata": {},
   "source": [
    "infections.drop( infections.tail( 1 ).index, inplace = True )"
   ]
  },
  {
   "cell_type": "code",
   "execution_count": 41,
   "metadata": {},
   "outputs": [
    {
     "data": {
      "text/html": [
       "<div>\n",
       "<style scoped>\n",
       "    .dataframe tbody tr th:only-of-type {\n",
       "        vertical-align: middle;\n",
       "    }\n",
       "\n",
       "    .dataframe tbody tr th {\n",
       "        vertical-align: top;\n",
       "    }\n",
       "\n",
       "    .dataframe thead th {\n",
       "        text-align: right;\n",
       "    }\n",
       "</style>\n",
       "<table border=\"1\" class=\"dataframe\">\n",
       "  <thead>\n",
       "    <tr style=\"text-align: right;\">\n",
       "      <th></th>\n",
       "      <th>Diagnosticados</th>\n",
       "      <th>Recuperados</th>\n",
       "      <th>Fallecidos</th>\n",
       "    </tr>\n",
       "  </thead>\n",
       "  <tbody>\n",
       "    <tr>\n",
       "      <th>2020-08-13</th>\n",
       "      <td>446809</td>\n",
       "      <td>251041.0</td>\n",
       "      <td>15659.0</td>\n",
       "    </tr>\n",
       "    <tr>\n",
       "      <th>2020-08-14</th>\n",
       "      <td>452356</td>\n",
       "      <td>261563.0</td>\n",
       "      <td>15857.0</td>\n",
       "    </tr>\n",
       "    <tr>\n",
       "      <th>2020-08-15</th>\n",
       "      <td>462788</td>\n",
       "      <td>274838.0</td>\n",
       "      <td>16038.0</td>\n",
       "    </tr>\n",
       "    <tr>\n",
       "      <th>2020-08-16</th>\n",
       "      <td>472790</td>\n",
       "      <td>287554.0</td>\n",
       "      <td>16192.0</td>\n",
       "    </tr>\n",
       "    <tr>\n",
       "      <th>2020-08-17</th>\n",
       "      <td>472816</td>\n",
       "      <td>301530.0</td>\n",
       "      <td>16222.0</td>\n",
       "    </tr>\n",
       "  </tbody>\n",
       "</table>\n",
       "</div>"
      ],
      "text/plain": [
       "            Diagnosticados  Recuperados  Fallecidos\n",
       "2020-08-13          446809     251041.0     15659.0\n",
       "2020-08-14          452356     261563.0     15857.0\n",
       "2020-08-15          462788     274838.0     16038.0\n",
       "2020-08-16          472790     287554.0     16192.0\n",
       "2020-08-17          472816     301530.0     16222.0"
      ]
     },
     "execution_count": 41,
     "metadata": {},
     "output_type": "execute_result"
    }
   ],
   "source": [
    "infections.tail()"
   ]
  },
  {
   "cell_type": "code",
   "execution_count": 42,
   "metadata": {},
   "outputs": [
    {
     "data": {
      "text/plain": [
       "<matplotlib.axes._subplots.AxesSubplot at 0x7ff845b57750>"
      ]
     },
     "execution_count": 42,
     "metadata": {},
     "output_type": "execute_result"
    },
    {
     "data": {
      "image/png": "[encoded data removed]",
      "text/plain": [
       "<Figure size 1440x576 with 1 Axes>"
      ]
     },
     "metadata": {},
     "output_type": "display_data"
    }
   ],
   "source": [
    "# Plotting diagnosed and recovered cases by day\n",
    "infections.plot( figsize = ( 20, 8 ) )"
   ]
  },
  {
   "cell_type": "code",
   "execution_count": 43,
   "metadata": {},
   "outputs": [],
   "source": [
    "# Calculating the difference between diagnosed and recovered cases\n",
    "infections[ 'Casos activos' ] = infections[ 'Diagnosticados' ] - infections[ 'Recuperados' ]"
   ]
  },
  {
   "cell_type": "code",
   "execution_count": 44,
   "metadata": {},
   "outputs": [
    {
     "data": {
      "text/html": [
       "<div>\n",
       "<style scoped>\n",
       "    .dataframe tbody tr th:only-of-type {\n",
       "        vertical-align: middle;\n",
       "    }\n",
       "\n",
       "    .dataframe tbody tr th {\n",
       "        vertical-align: top;\n",
       "    }\n",
       "\n",
       "    .dataframe thead th {\n",
       "        text-align: right;\n",
       "    }\n",
       "</style>\n",
       "<table border=\"1\" class=\"dataframe\">\n",
       "  <thead>\n",
       "    <tr style=\"text-align: right;\">\n",
       "      <th></th>\n",
       "      <th>Diagnosticados</th>\n",
       "      <th>Recuperados</th>\n",
       "      <th>Fallecidos</th>\n",
       "      <th>Casos activos</th>\n",
       "    </tr>\n",
       "  </thead>\n",
       "  <tbody>\n",
       "    <tr>\n",
       "      <th>2020-08-13</th>\n",
       "      <td>446809</td>\n",
       "      <td>251041.0</td>\n",
       "      <td>15659.0</td>\n",
       "      <td>195768.0</td>\n",
       "    </tr>\n",
       "    <tr>\n",
       "      <th>2020-08-14</th>\n",
       "      <td>452356</td>\n",
       "      <td>261563.0</td>\n",
       "      <td>15857.0</td>\n",
       "      <td>190793.0</td>\n",
       "    </tr>\n",
       "    <tr>\n",
       "      <th>2020-08-15</th>\n",
       "      <td>462788</td>\n",
       "      <td>274838.0</td>\n",
       "      <td>16038.0</td>\n",
       "      <td>187950.0</td>\n",
       "    </tr>\n",
       "    <tr>\n",
       "      <th>2020-08-16</th>\n",
       "      <td>472790</td>\n",
       "      <td>287554.0</td>\n",
       "      <td>16192.0</td>\n",
       "      <td>185236.0</td>\n",
       "    </tr>\n",
       "    <tr>\n",
       "      <th>2020-08-17</th>\n",
       "      <td>472816</td>\n",
       "      <td>301530.0</td>\n",
       "      <td>16222.0</td>\n",
       "      <td>171286.0</td>\n",
       "    </tr>\n",
       "  </tbody>\n",
       "</table>\n",
       "</div>"
      ],
      "text/plain": [
       "            Diagnosticados  Recuperados  Fallecidos  Casos activos\n",
       "2020-08-13          446809     251041.0     15659.0       195768.0\n",
       "2020-08-14          452356     261563.0     15857.0       190793.0\n",
       "2020-08-15          462788     274838.0     16038.0       187950.0\n",
       "2020-08-16          472790     287554.0     16192.0       185236.0\n",
       "2020-08-17          472816     301530.0     16222.0       171286.0"
      ]
     },
     "execution_count": 44,
     "metadata": {},
     "output_type": "execute_result"
    }
   ],
   "source": [
    "infections.tail()"
   ]
  },
  {
   "cell_type": "code",
   "execution_count": 45,
   "metadata": {},
   "outputs": [
    {
     "data": {
      "text/plain": [
       "<matplotlib.axes._subplots.AxesSubplot at 0x7ff846d5fb90>"
      ]
     },
     "execution_count": 45,
     "metadata": {},
     "output_type": "execute_result"
    },
    {
     "data": {
      "image/png": "[encoded data removed]",
      "text/plain": [
       "<Figure size 1440x576 with 1 Axes>"
      ]
     },
     "metadata": {},
     "output_type": "display_data"
    }
   ],
   "source": [
    "# Plotting difference cases by day\n",
    "infections[ 'Casos activos' ].plot( figsize = ( 20, 8 ) )"
   ]
  },
  {
   "cell_type": "markdown",
   "metadata": {},
   "source": [
    "# Geo"
   ]
  },
  {
   "cell_type": "code",
   "execution_count": null,
   "metadata": {},
   "outputs": [],
   "source": [
    "covid.head()"
   ]
  },
  {
   "cell_type": "code",
   "execution_count": null,
   "metadata": {},
   "outputs": [],
   "source": [
    "covid[ 'Atencion' ].value_counts( dropna = False )"
   ]
  },
  {
   "cell_type": "raw",
   "metadata": {},
   "source": [
    "def extract_depto( x ):\n",
    "    x = str( x )[ :-3 ]\n",
    "    try:\n",
    "        return int( x )\n",
    "    except:\n",
    "        return 0\n",
    "    \n",
    "covid[ 'codigo_departamento' ] = covid[ 'Codigo DIVIPOLA' ].apply( lambda x: extract_depto( x ) )"
   ]
  },
  {
   "cell_type": "code",
   "execution_count": null,
   "metadata": {},
   "outputs": [],
   "source": [
    "covid[ 'codigo_departamento' ] = covid[ 'codigo_departamento' ].astype( int )"
   ]
  },
  {
   "cell_type": "code",
   "execution_count": null,
   "metadata": {},
   "outputs": [],
   "source": [
    "cases_by_depto = covid.loc[ ~covid[ 'Atencion' ].isin( [ 'Recuperado', 'Fallecido' ] ) ].groupby( 'codigo_departamento' ).agg( { 'ID caso': 'count' } ).reset_index().rename( columns = { 'ID caso': 'Casos' } )"
   ]
  },
  {
   "cell_type": "raw",
   "metadata": {},
   "source": [
    "cases_by_depto[ 'codigo_departamento' ] = cases_by_depto[ 'codigo_departamento' ].astype( int )"
   ]
  },
  {
   "cell_type": "code",
   "execution_count": null,
   "metadata": {},
   "outputs": [],
   "source": [
    "cases_by_depto.dtypes"
   ]
  },
  {
   "cell_type": "code",
   "execution_count": null,
   "metadata": {},
   "outputs": [],
   "source": [
    "cases_by_depto.head()"
   ]
  },
  {
   "cell_type": "code",
   "execution_count": null,
   "metadata": {},
   "outputs": [],
   "source": [
    "departamentos = gpd.read_file( './data/geo/colombia/departamentos.json' )"
   ]
  },
  {
   "cell_type": "code",
   "execution_count": null,
   "metadata": {},
   "outputs": [],
   "source": [
    "departamentos.head()"
   ]
  },
  {
   "cell_type": "code",
   "execution_count": null,
   "metadata": {},
   "outputs": [],
   "source": [
    "cases_by_depto = departamentos.merge( cases_by_depto, how = 'left', on = 'codigo_departamento' )\n",
    "cases_by_depto[ 'Casos' ] = cases_by_depto[ 'Casos' ].fillna( 0 )"
   ]
  },
  {
   "cell_type": "code",
   "execution_count": null,
   "metadata": {},
   "outputs": [],
   "source": [
    "cases_by_depto"
   ]
  },
  {
   "cell_type": "code",
   "execution_count": null,
   "metadata": {},
   "outputs": [],
   "source": [
    "# Removing San Andrés\n",
    "cases_by_depto = cases_by_depto.drop( [ 0 ] )"
   ]
  },
  {
   "cell_type": "code",
   "execution_count": null,
   "metadata": {},
   "outputs": [],
   "source": [
    "cases_by_depto.to_file( './colombia-map/data/departamentos.json', driver ='GeoJSON' )"
   ]
  },
  {
   "cell_type": "code",
   "execution_count": null,
   "metadata": {},
   "outputs": [],
   "source": []
  },
  {
   "cell_type": "code",
   "execution_count": null,
   "metadata": {},
   "outputs": [],
   "source": []
  },
  {
   "cell_type": "code",
   "execution_count": null,
   "metadata": {},
   "outputs": [],
   "source": []
  },
  {
   "cell_type": "code",
   "execution_count": null,
   "metadata": {},
   "outputs": [],
   "source": []
  },
  {
   "cell_type": "code",
   "execution_count": null,
   "metadata": {},
   "outputs": [],
   "source": [
    "covid.head()"
   ]
  },
  {
   "cell_type": "code",
   "execution_count": null,
   "metadata": {},
   "outputs": [],
   "source": [
    "deaths_bogota = covid.loc[ covid[ 'Ciudad' ] == 'Bogotá D.C.' ].groupby( [ covid[ 'Fecha muerte' ].dt.date ] )  \\\n",
    "    .agg( { 'ID caso': 'count' } ) \\\n",
    "    .cumsum().reset_index() \\\n",
    "    .rename( columns = { 'Fecha muerte': 'date', 'ID caso': 'Fallecidos_reales' } )"
   ]
  },
  {
   "cell_type": "code",
   "execution_count": null,
   "metadata": {},
   "outputs": [],
   "source": [
    "deaths_bogota.to_csv( './meta-viz/data/bogota-deaths.csv', index = False )"
   ]
  },
  {
   "cell_type": "code",
   "execution_count": null,
   "metadata": {},
   "outputs": [],
   "source": [
    "deaths_cali = covid.loc[ covid[ 'Ciudad' ] == 'Cali' ].groupby( [ covid[ 'Fecha muerte' ].dt.date ] )  \\\n",
    "    .agg( { 'ID caso': 'count' } ) \\\n",
    "    .cumsum().reset_index() \\\n",
    "    .rename( columns = { 'Fecha muerte': 'date', 'ID caso': 'Fallecidos_reales' } )"
   ]
  },
  {
   "cell_type": "code",
   "execution_count": null,
   "metadata": {},
   "outputs": [],
   "source": [
    "deaths_cali.to_csv( './meta-viz/data/cali-deaths.csv', index = False )"
   ]
  },
  {
   "cell_type": "code",
   "execution_count": null,
   "metadata": {},
   "outputs": [],
   "source": [
    "deaths_barranquilla = covid.loc[ covid[ 'Ciudad' ] == 'Barranquilla' ].groupby( [ covid[ 'Fecha muerte' ].dt.date ] )  \\\n",
    "    .agg( { 'ID caso': 'count' } ) \\\n",
    "    .cumsum().reset_index() \\\n",
    "    .rename( columns = { 'Fecha muerte': 'date', 'ID caso': 'Fallecidos_reales' } )"
   ]
  },
  {
   "cell_type": "code",
   "execution_count": null,
   "metadata": {},
   "outputs": [],
   "source": [
    "deaths_barranquilla.to_csv( './meta-viz/data/barranquilla-deaths.csv', index = False )"
   ]
  },
  {
   "cell_type": "code",
   "execution_count": null,
   "metadata": {},
   "outputs": [],
   "source": []
  },
  {
   "cell_type": "code",
   "execution_count": null,
   "metadata": {},
   "outputs": [],
   "source": []
  },
  {
   "cell_type": "code",
   "execution_count": null,
   "metadata": {},
   "outputs": [],
   "source": []
  },
  {
   "cell_type": "code",
   "execution_count": null,
   "metadata": {},
   "outputs": [],
   "source": [
    "covid.rename( columns = { 'Fecha diagnostico': 'Fecha de diagnóstico', 'Ciudad de ubicación': 'Ciudad de residencia', 'Tipo': 'Tipo de caso', 'atención': 'Ubicación' }, inplace = True )"
   ]
  },
  {
   "cell_type": "code",
   "execution_count": null,
   "metadata": {},
   "outputs": [],
   "source": [
    "def get_age_group( x ):\n",
    "    if x <= 19:\n",
    "        return '0 - 19'\n",
    "    elif x > 19 and x <= 39:\n",
    "        return '20 - 39'\n",
    "    elif x > 39 and x <= 59:\n",
    "        return '40 - 59'\n",
    "    elif x > 59 and x <= 79:\n",
    "        return '60 - 79'\n",
    "    elif x > 79:\n",
    "          return '80+'\n",
    "    else:\n",
    "        return None\n",
    "\n",
    "covid[ 'Grupo de edad' ] = covid[ 'Edad' ].apply( get_age_group )"
   ]
  },
  {
   "cell_type": "code",
   "execution_count": null,
   "metadata": {},
   "outputs": [],
   "source": [
    "covid[ 'Localidad de residencia' ] = None"
   ]
  },
  {
   "cell_type": "code",
   "execution_count": null,
   "metadata": {},
   "outputs": [],
   "source": [
    "columns = [ 'ID de caso', 'Fecha de diagnóstico', 'Ciudad de residencia', 'Localidad de residencia', 'Edad', 'Sexo', 'Tipo de caso', 'Ubicación', 'Estado', 'Grupo de edad' ]"
   ]
  },
  {
   "cell_type": "code",
   "execution_count": null,
   "metadata": {},
   "outputs": [],
   "source": [
    "covid = covid[ columns ]"
   ]
  },
  {
   "cell_type": "markdown",
   "metadata": {},
   "source": [
    "# Barranquilla"
   ]
  },
  {
   "cell_type": "code",
   "execution_count": null,
   "metadata": {},
   "outputs": [],
   "source": [
    "barranquilla = covid.loc[ covid[ 'Ciudad de residencia' ] == 'Barranquilla' ]"
   ]
  },
  {
   "cell_type": "code",
   "execution_count": null,
   "metadata": {},
   "outputs": [],
   "source": [
    "barranquilla.shape"
   ]
  },
  {
   "cell_type": "code",
   "execution_count": null,
   "metadata": {},
   "outputs": [],
   "source": [
    "barranquilla.dtypes"
   ]
  },
  {
   "cell_type": "code",
   "execution_count": null,
   "metadata": {},
   "outputs": [],
   "source": [
    "barranquilla.tail()"
   ]
  },
  {
   "cell_type": "code",
   "execution_count": null,
   "metadata": {},
   "outputs": [],
   "source": [
    "barranquilla[ 'Ubicación' ].value_counts( dropna = False )"
   ]
  },
  {
   "cell_type": "code",
   "execution_count": null,
   "metadata": {},
   "outputs": [],
   "source": [
    "barranquilla.loc[ ~barranquilla[ 'Ubicación' ].isin( [ 'Recuperado', 'Fallecido' ] ) ].shape"
   ]
  },
  {
   "cell_type": "code",
   "execution_count": null,
   "metadata": {},
   "outputs": [],
   "source": [
    "barranquilla.loc[ barranquilla[ 'Ubicación' ] == 'Hospital UCI' ]"
   ]
  },
  {
   "cell_type": "code",
   "execution_count": null,
   "metadata": {},
   "outputs": [],
   "source": [
    "barranquilla.to_csv( './data/covid19_barranquilla.csv', index = False )"
   ]
  },
  {
   "cell_type": "markdown",
   "metadata": {},
   "source": [
    "# Medellín"
   ]
  },
  {
   "cell_type": "code",
   "execution_count": null,
   "metadata": {},
   "outputs": [],
   "source": [
    "medellin = covid.loc[ covid[ 'Ciudad de residencia' ] == 'Medellín' ]"
   ]
  },
  {
   "cell_type": "code",
   "execution_count": null,
   "metadata": {},
   "outputs": [],
   "source": [
    "medellin.shape"
   ]
  },
  {
   "cell_type": "code",
   "execution_count": null,
   "metadata": {},
   "outputs": [],
   "source": [
    "medellin.dtypes"
   ]
  },
  {
   "cell_type": "code",
   "execution_count": null,
   "metadata": {},
   "outputs": [],
   "source": [
    "medellin.tail()"
   ]
  },
  {
   "cell_type": "code",
   "execution_count": null,
   "metadata": {},
   "outputs": [],
   "source": [
    "medellin[ 'Ubicación' ].value_counts( dropna = False )"
   ]
  },
  {
   "cell_type": "code",
   "execution_count": null,
   "metadata": {},
   "outputs": [],
   "source": [
    "medellin.to_csv( './data/covid19_medellin.csv', index = False )"
   ]
  },
  {
   "cell_type": "markdown",
   "metadata": {},
   "source": [
    "# Cali"
   ]
  },
  {
   "cell_type": "code",
   "execution_count": null,
   "metadata": {},
   "outputs": [],
   "source": [
    "cali = covid.loc[ covid[ 'Ciudad de residencia' ] == 'Cali' ]"
   ]
  },
  {
   "cell_type": "code",
   "execution_count": null,
   "metadata": {},
   "outputs": [],
   "source": [
    "cali.shape"
   ]
  },
  {
   "cell_type": "code",
   "execution_count": null,
   "metadata": {},
   "outputs": [],
   "source": [
    "cali.dtypes"
   ]
  },
  {
   "cell_type": "code",
   "execution_count": null,
   "metadata": {},
   "outputs": [],
   "source": [
    "cali.tail()"
   ]
  },
  {
   "cell_type": "code",
   "execution_count": null,
   "metadata": {},
   "outputs": [],
   "source": [
    "cali[ 'Ubicación' ].value_counts( dropna = False )"
   ]
  },
  {
   "cell_type": "code",
   "execution_count": null,
   "metadata": {},
   "outputs": [],
   "source": [
    "cali.to_csv( './data/covid19_cali.csv', index = False )"
   ]
  },
  {
   "cell_type": "markdown",
   "metadata": {},
   "source": [
    "# Cartagena"
   ]
  },
  {
   "cell_type": "code",
   "execution_count": null,
   "metadata": {},
   "outputs": [],
   "source": [
    "cartagena = covid.loc[ covid[ 'Ciudad de residencia' ] == 'Cartagena de Indias' ]"
   ]
  },
  {
   "cell_type": "code",
   "execution_count": null,
   "metadata": {},
   "outputs": [],
   "source": [
    "cartagena.shape"
   ]
  },
  {
   "cell_type": "code",
   "execution_count": null,
   "metadata": {},
   "outputs": [],
   "source": [
    "cartagena.dtypes"
   ]
  },
  {
   "cell_type": "code",
   "execution_count": null,
   "metadata": {},
   "outputs": [],
   "source": [
    "cartagena.tail()"
   ]
  },
  {
   "cell_type": "code",
   "execution_count": null,
   "metadata": {},
   "outputs": [],
   "source": [
    "cartagena[ 'Ubicación' ].value_counts( dropna = False )"
   ]
  },
  {
   "cell_type": "code",
   "execution_count": null,
   "metadata": {},
   "outputs": [],
   "source": [
    "cartagena.to_csv( './data/covid19_cartagena.csv', index = False )"
   ]
  },
  {
   "cell_type": "code",
   "execution_count": null,
   "metadata": {},
   "outputs": [],
   "source": []
  },
  {
   "cell_type": "code",
   "execution_count": null,
   "metadata": {},
   "outputs": [],
   "source": []
  },
  {
   "cell_type": "code",
   "execution_count": null,
   "metadata": {},
   "outputs": [],
   "source": []
  },
  {
   "cell_type": "code",
   "execution_count": null,
   "metadata": {},
   "outputs": [],
   "source": []
  },
  {
   "cell_type": "code",
   "execution_count": null,
   "metadata": {},
   "outputs": [],
   "source": []
  },
  {
   "cell_type": "code",
   "execution_count": null,
   "metadata": {},
   "outputs": [],
   "source": [
    "covid[ 'dias_para_diagnostico' ] = ( covid[ 'Fecha_diagnostico' ] - covid[ 'FIS' ] ).dt.days"
   ]
  },
  {
   "cell_type": "code",
   "execution_count": null,
   "metadata": {},
   "outputs": [],
   "source": [
    "covid[ 'Estado' ].value_counts( dropna = False )"
   ]
  },
  {
   "cell_type": "code",
   "execution_count": null,
   "metadata": {},
   "outputs": [],
   "source": [
    "plt.figure( figsize = ( 20, 8 ) )\n",
    "ax = sns.boxplot( data = covid, x = 'dias_para_diagnostico', y = 'Estado' )"
   ]
  },
  {
   "cell_type": "code",
   "execution_count": null,
   "metadata": {},
   "outputs": [],
   "source": [
    "covid[ 'atención' ].value_counts( dropna = False )"
   ]
  },
  {
   "cell_type": "code",
   "execution_count": null,
   "metadata": {},
   "outputs": [],
   "source": [
    "covid.loc[ covid[ 'atención' ] == 'Casa' ][ 'Edad' ].quantile( [ 0.25, 0.5, 0.75 ] )"
   ]
  },
  {
   "cell_type": "code",
   "execution_count": null,
   "metadata": {},
   "outputs": [],
   "source": [
    "plt.figure( figsize = ( 20, 8 ) )\n",
    "ax = sns.boxplot( data = covid, x = 'Edad', y = 'atención' )"
   ]
  },
  {
   "cell_type": "code",
   "execution_count": null,
   "metadata": {},
   "outputs": [],
   "source": [
    "covid.loc[ covid[ 'Tipo' ] == 'Importado' ].groupby( 'Fecha_diagnostico' ).agg( { 'ID_de_caso': 'count' } ).plot( kind = 'bar', figsize = ( 20, 8 ) )"
   ]
  },
  {
   "cell_type": "code",
   "execution_count": null,
   "metadata": {},
   "outputs": [],
   "source": [
    "# Preparing and merging the groupings in one dataframe\n",
    "\n",
    "diagnosed = covid.loc[ covid[ 'Tipo' ] == 'Importado' ] \\\n",
    "    .groupby( 'Fecha_diagnostico' ) \\\n",
    "    .agg( { 'ID_de_caso': 'count' } ) \\\n",
    "    .rename( columns = { 'Fecha_diagnostico': 'Fecha', 'ID_de_caso': 'Diagnosticados' } )\n",
    "\n",
    "recovered = covid.loc[ covid[ 'Tipo' ] == 'Importado' ] \\\n",
    "    .groupby( 'FIS' ) \\\n",
    "    .agg( { 'ID_de_caso': 'count' } ) \\\n",
    "    .rename( columns = { 'Fecha_diagnostico': 'Fecha', 'ID_de_caso': 'Inicio de sintomas' } )\n",
    "\n",
    "infections = diagnosed.merge( recovered, how = 'outer', left_index = True, right_index = True )\n",
    "infections.fillna( 0, inplace = True )"
   ]
  },
  {
   "cell_type": "code",
   "execution_count": null,
   "metadata": {},
   "outputs": [],
   "source": [
    "infections.tail()"
   ]
  },
  {
   "cell_type": "code",
   "execution_count": null,
   "metadata": {},
   "outputs": [],
   "source": [
    "f, axarr = plt.subplots( 2, sharex = True, figsize = ( 20, 10 ) )\n",
    "axarr[ 0 ].set_title( 'Fecha de diagnostico de casos importados' )\n",
    "infections[ 'Diagnosticados' ].plot( kind = 'bar', ax = axarr[ 0 ] )\n",
    "axarr[ 1 ].set_title( 'Fecha de inicio de sintomas de casos importados' )\n",
    "infections[ 'Inicio de sintomas' ].plot( kind = 'bar', ax = axarr[ 1 ] )\n",
    "axarr[ 0 ].axvline( x = 23.5, color = 'r', linestyle = '--' )\n",
    "axarr[ 1 ].axvline( x = 23.5, color = 'r', linestyle = '--' )"
   ]
  },
  {
   "cell_type": "code",
   "execution_count": null,
   "metadata": {},
   "outputs": [],
   "source": []
  },
  {
   "cell_type": "code",
   "execution_count": null,
   "metadata": {},
   "outputs": [],
   "source": [
    "covid[ 'Estado' ].value_counts( dropna = False )"
   ]
  },
  {
   "cell_type": "code",
   "execution_count": null,
   "metadata": {},
   "outputs": [],
   "source": [
    "covid[ 'dias_para_recuperarse' ] = ( covid[ 'Fecha_recuperado' ] - covid[ 'Fecha_diagnostico' ] ).dt.days"
   ]
  },
  {
   "cell_type": "code",
   "execution_count": null,
   "metadata": {},
   "outputs": [],
   "source": [
    "plt.figure( figsize = ( 20, 8 ) )\n",
    "ax = sns.boxplot( data = covid, x = 'dias_para_recuperarse', y = 'Estado' )"
   ]
  },
  {
   "cell_type": "code",
   "execution_count": null,
   "metadata": {},
   "outputs": [],
   "source": [
    "covid.loc[ covid[ 'dias_para_recuperarse' ] < 0 ]"
   ]
  },
  {
   "cell_type": "code",
   "execution_count": null,
   "metadata": {},
   "outputs": [],
   "source": []
  },
  {
   "cell_type": "code",
   "execution_count": null,
   "metadata": {},
   "outputs": [],
   "source": []
  },
  {
   "cell_type": "code",
   "execution_count": null,
   "metadata": {},
   "outputs": [],
   "source": []
  },
  {
   "cell_type": "code",
   "execution_count": null,
   "metadata": {},
   "outputs": [],
   "source": []
  },
  {
   "cell_type": "code",
   "execution_count": null,
   "metadata": {},
   "outputs": [],
   "source": [
    "covid.head()"
   ]
  },
  {
   "cell_type": "code",
   "execution_count": null,
   "metadata": {},
   "outputs": [],
   "source": [
    "covid.to_csv( './data/covid_clean.csv', index = False, sep = ',' )"
   ]
  },
  {
   "cell_type": "code",
   "execution_count": null,
   "metadata": {},
   "outputs": [],
   "source": [
    "infections.reset_index().to_csv( './data/covid_groups.csv', index = False, sep = ',' )"
   ]
  },
  {
   "cell_type": "code",
   "execution_count": null,
   "metadata": {},
   "outputs": [],
   "source": [
    "departamentos.to_file( './data/departamentos_groups.json', driver = 'GeoJSON' )"
   ]
  },
  {
   "cell_type": "code",
   "execution_count": null,
   "metadata": {},
   "outputs": [],
   "source": []
  }
 ],
 "metadata": {
  "kernelspec": {
   "display_name": "Python 3",
   "language": "python",
   "name": "python3"
  },
  "language_info": {
   "codemirror_mode": {
    "name": "ipython",
    "version": 3
   },
   "file_extension": ".py",
   "mimetype": "text/x-python",
   "name": "python",
   "nbconvert_exporter": "python",
   "pygments_lexer": "ipython3",
   "version": "3.7.6"
  }
 },
 "nbformat": 4,
 "nbformat_minor": 4
}
