{
 "cells": [
  {
   "cell_type": "code",
   "execution_count": null,
   "metadata": {},
   "outputs": [],
   "source": [
    "# This dataset analyzes the COVID-19 data for Colombia and builds the GeoJSON map counting active cases by department\n",
    "# Author: Fabian Peña\n",
    "# Creation date:\n",
    "# Last modification date: 19/07/2020"
   ]
  },
  {
   "cell_type": "code",
   "execution_count": null,
   "metadata": {},
   "outputs": [],
   "source": [
    "import datetime\n",
    "\n",
    "import pandas as pd\n",
    "#import geopandas as gpd\n",
    "from google.cloud import storage\n",
    "\n",
    "\n",
    "from sodapy import Socrata\n",
    "\n",
    "import seaborn as sns\n",
    "import matplotlib.pyplot as plt\n",
    "%matplotlib inline\n",
    "\n",
    "from pandas_profiling import ProfileReport"
   ]
  },
  {
   "cell_type": "markdown",
   "metadata": {},
   "source": [
    "# INS data"
   ]
  },
  {
   "cell_type": "code",
   "execution_count": null,
   "metadata": {},
   "outputs": [],
   "source": [
    "# Creating the Socrata client\n",
    "client = Socrata( 'www.datos.gov.co', None )"
   ]
  },
  {
   "cell_type": "code",
   "execution_count": null,
   "metadata": {},
   "outputs": [],
   "source": [
    "# Loading the COVID-19 data for Colombia\n",
    "results = client.get( 'gt2j-8ykr', limit = 1000000 )\n",
    "covid = pd.DataFrame.from_records(results)\n",
    "covid.rename( columns = { 'id_de_caso': 'ID caso',\n",
    "                         'fecha_de_notificaci_n': 'Fecha notificacion',\n",
    "                         'c_digo_divipola': 'Codigo ciudad',\n",
    "                         'ciudad_de_ubicaci_n': 'Ciudad',\n",
    "                         'departamento': 'Departamento',\n",
    "                         'atenci_n': 'Atencion',\n",
    "                         'edad': 'Edad',\n",
    "                         'sexo': 'Sexo',\n",
    "                         'tipo': 'Tipo',\n",
    "                         'estado': 'Estado',\n",
    "                         'pa_s_de_procedencia': 'Pais procedencia',\n",
    "                         'fis': 'Fecha inicio sintomas',\n",
    "                         'fecha_de_muerte': 'Fecha muerte',\n",
    "                         'fecha_diagnostico': 'Fecha diagnostico',\n",
    "                         'fecha_recuperado': 'Fecha recuperacion',\n",
    "                         'fecha_reporte_web': 'Fecha reporte web',\n",
    "                         'tipo_recuperaci_n': 'Tipo recuperacion' }, inplace = True )"
   ]
  },
  {
   "cell_type": "code",
   "execution_count": null,
   "metadata": {},
   "outputs": [],
   "source": [
    "# Getting the size of the df\n",
    "covid.shape"
   ]
  },
  {
   "cell_type": "code",
   "execution_count": null,
   "metadata": {},
   "outputs": [],
   "source": [
    "# Add a new column for asimptomatic observations\n",
    "covid.loc[ covid[ 'Fecha inicio sintomas' ] == 'Asintomático', 'Asintomatico' ] = True\n",
    "covid.loc[ covid[ 'Fecha inicio sintomas' ] != 'Asintomático', 'Asintomatico' ] = False\n",
    "covid[ 'Asintomatico' ] = covid[ 'Asintomatico' ].astype( bool )"
   ]
  },
  {
   "cell_type": "code",
   "execution_count": null,
   "metadata": {},
   "outputs": [],
   "source": [
    "# Casting date columns\n",
    "covid[ 'Fecha notificacion' ] = pd.to_datetime( pd.to_datetime( covid[ 'Fecha notificacion' ] ).dt.date )\n",
    "covid[ 'Fecha inicio sintomas' ] = pd.to_datetime( pd.to_datetime( covid[ 'Fecha inicio sintomas' ], errors = 'coerce' ).dt.date )\n",
    "covid[ 'Fecha muerte' ] = pd.to_datetime( pd.to_datetime( covid[ 'Fecha muerte' ], errors = 'coerce' ).dt.date )\n",
    "covid[ 'Fecha diagnostico' ] = pd.to_datetime( pd.to_datetime( covid[ 'Fecha diagnostico' ], errors = 'coerce' ).dt.date )\n",
    "covid[ 'Fecha recuperacion' ] = pd.to_datetime( pd.to_datetime( covid[ 'Fecha recuperacion' ], errors = 'coerce' ).dt.date )\n",
    "covid[ 'Fecha reporte web' ] = pd.to_datetime( pd.to_datetime( covid[ 'Fecha reporte web' ] ).dt.date )"
   ]
  },
  {
   "cell_type": "code",
   "execution_count": null,
   "metadata": {},
   "outputs": [],
   "source": [
    "# Unifying values for sex\n",
    "covid[ 'Sexo' ].replace( { 'm': 'M', 'f': 'F' }, inplace = True )"
   ]
  },
  {
   "cell_type": "code",
   "execution_count": null,
   "metadata": {},
   "outputs": [],
   "source": [
    "# Unifying values for status\n",
    "covid[ 'Estado' ].replace( { 'leve': 'Leve', 'LEVE': 'Leve' }, inplace = True )"
   ]
  },
  {
   "cell_type": "code",
   "execution_count": null,
   "metadata": {},
   "outputs": [],
   "source": [
    "# Unifying values for atention\n",
    "covid[ 'Atencion' ].replace( { 'casa': 'Casa', 'N/A': None }, inplace = True )"
   ]
  },
  {
   "cell_type": "code",
   "execution_count": null,
   "metadata": {},
   "outputs": [],
   "source": [
    "# Unifying values for procedence\n",
    "covid[ 'Pais procedencia' ].replace( { '-   -': None }, inplace = True )"
   ]
  },
  {
   "cell_type": "code",
   "execution_count": null,
   "metadata": {},
   "outputs": [],
   "source": [
    "covid.loc[ covid[ 'Fecha recuperacion' ].notnull(), 'Recuperado' ] = True\n",
    "covid.loc[ covid[ 'Fecha recuperacion' ].isnull(), 'Recuperado' ] = False"
   ]
  },
  {
   "cell_type": "code",
   "execution_count": null,
   "metadata": {},
   "outputs": [],
   "source": [
    "covid.loc[ covid[ 'Fecha muerte' ].notnull(), 'Fallecido' ] = True\n",
    "covid.loc[ covid[ 'Fecha muerte' ].isnull(), 'Fallecido' ] = False"
   ]
  },
  {
   "cell_type": "code",
   "execution_count": null,
   "metadata": {},
   "outputs": [],
   "source": [
    "covid[ 'Edad' ] = covid[ 'Edad' ].astype( int )"
   ]
  },
  {
   "cell_type": "code",
   "execution_count": null,
   "metadata": {},
   "outputs": [],
   "source": [
    "def get_age_group( x ):\n",
    "    if x <= 19:\n",
    "        return '0 - 19'\n",
    "    elif x > 19 and x <= 39:\n",
    "        return '20 - 39'\n",
    "    elif x > 39 and x <= 59:\n",
    "        return '40 - 59'\n",
    "    elif x > 59 and x <= 79:\n",
    "        return '60 - 79'\n",
    "    elif x > 79:\n",
    "          return '80+'\n",
    "    else:\n",
    "        return None\n",
    "\n",
    "covid[ 'Grupo edad' ] = covid[ 'Edad' ].apply( get_age_group )"
   ]
  },
  {
   "cell_type": "code",
   "execution_count": null,
   "metadata": {},
   "outputs": [],
   "source": [
    "# Getting the column types\n",
    "covid.dtypes"
   ]
  },
  {
   "cell_type": "code",
   "execution_count": null,
   "metadata": {},
   "outputs": [],
   "source": [
    "# Showing the firts rows\n",
    "covid.tail()"
   ]
  },
  {
   "cell_type": "code",
   "execution_count": null,
   "metadata": {},
   "outputs": [],
   "source": [
    "covid[ 'Fecha diagnostico' ].hist()"
   ]
  },
  {
   "cell_type": "code",
   "execution_count": null,
   "metadata": {},
   "outputs": [],
   "source": [
    "# How many observations have null atention\n",
    "covid.loc[ covid[ 'Atencion' ].isnull() ].shape"
   ]
  },
  {
   "cell_type": "code",
   "execution_count": null,
   "metadata": {},
   "outputs": [],
   "source": [
    "# How many observations have null status\n",
    "covid.loc[ covid[ 'Estado' ].isnull() ].shape"
   ]
  },
  {
   "cell_type": "code",
   "execution_count": null,
   "metadata": {},
   "outputs": [],
   "source": [
    "del covid[ 'nombre_grupo_etnico' ]\n",
    "del covid[ 'pertenencia_etnica' ]\n",
    "del covid[ 'codigo_pais' ]"
   ]
  },
  {
   "cell_type": "code",
   "execution_count": null,
   "metadata": {},
   "outputs": [],
   "source": [
    "covid_copy = covid.copy()"
   ]
  },
  {
   "cell_type": "code",
   "execution_count": null,
   "metadata": {},
   "outputs": [],
   "source": [
    "del covid_copy[ 'codigo_departamento' ]"
   ]
  },
  {
   "cell_type": "code",
   "execution_count": null,
   "metadata": {},
   "outputs": [],
   "source": [
    "#covid_copy.to_csv( './data/covid19.csv', index = False )"
   ]
  },
  {
   "cell_type": "code",
   "execution_count": null,
   "metadata": {},
   "outputs": [],
   "source": [
    "#DataFrame to CSV\n",
    "csv_data=covid_copy.to_csv(index=False)\n",
    "\n",
    "#Client, bucket and blob to acces gcloud\n",
    "client= storage.Client()\n",
    "bucket= client.get_bucket('siscovid')\n",
    "blob=bucket.blob('covid19.csv')\n",
    "\n",
    "#Uploads the file to gcloud\n",
    "blob.upload_from_string(data=csv_data, content_type='text/csv')\n"
   ]
  },
  {
   "cell_type": "markdown",
   "metadata": {},
   "source": [
    "# Indicators"
   ]
  },
  {
   "cell_type": "code",
   "execution_count": null,
   "metadata": {},
   "outputs": [],
   "source": [
    "covid[ 'ID caso' ].nunique()"
   ]
  },
  {
   "cell_type": "code",
   "execution_count": null,
   "metadata": {},
   "outputs": [],
   "source": [
    "covid.loc[ covid[ 'Recuperado' ] == True ].shape[ 0 ]"
   ]
  },
  {
   "cell_type": "code",
   "execution_count": null,
   "metadata": {},
   "outputs": [],
   "source": [
    "covid.loc[ covid[ 'Fallecido' ] == True ].shape[ 0 ]"
   ]
  },
  {
   "cell_type": "code",
   "execution_count": null,
   "metadata": {},
   "outputs": [],
   "source": [
    "covid.loc[ ( covid[ 'Atencion' ] == 'Hospital' ) ].shape[ 0 ]"
   ]
  },
  {
   "cell_type": "code",
   "execution_count": null,
   "metadata": {},
   "outputs": [],
   "source": [
    "covid.loc[ ( covid[ 'Atencion' ] == 'Hospital UCI' ) ].shape[ 0 ]"
   ]
  },
  {
   "cell_type": "markdown",
   "metadata": {},
   "source": [
    "# Time series"
   ]
  },
  {
   "cell_type": "code",
   "execution_count": null,
   "metadata": {},
   "outputs": [],
   "source": [
    "# Plotting diagnosed cases by day\n",
    "covid.groupby( [ covid[ 'Fecha inicio sintomas' ].dt.date ] ).agg( { 'ID caso': 'count' } ).plot( figsize = ( 20, 8 ) )"
   ]
  },
  {
   "cell_type": "code",
   "execution_count": null,
   "metadata": {},
   "outputs": [],
   "source": [
    "CITIES = [ 'Bogotá D.C.', 'Barranquilla', 'Cali', 'Cartagena de Indias', 'Medellín' ]"
   ]
  },
  {
   "cell_type": "code",
   "execution_count": null,
   "metadata": {},
   "outputs": [],
   "source": [
    "daily_cases_by_city = covid.loc[ covid[ 'Ciudad' ].isin( CITIES ) ].groupby( [ 'Ciudad', covid[ 'Fecha inicio sintomas' ].dt.date ] ).agg( { 'ID caso': 'count' } ).unstack( level = 0 ).fillna( 0 )\n",
    "daily_cases_by_city.columns = daily_cases_by_city.columns.droplevel()\n",
    "daily_cases_by_city.reset_index( inplace = True )"
   ]
  },
  {
   "cell_type": "code",
   "execution_count": null,
   "metadata": {},
   "outputs": [],
   "source": [
    "daily_cases_by_city.dtypes"
   ]
  },
  {
   "cell_type": "code",
   "execution_count": null,
   "metadata": {},
   "outputs": [],
   "source": [
    "plt.figure( figsize = ( 20, 8 ) )\n",
    "sns.lineplot( x = 'Fecha inicio sintomas', y = 'ID caso', hue = 'Ciudad', data = covid.loc[ covid[ 'Ciudad' ].isin( CITIES ) ].groupby( [ 'Ciudad', covid[ 'Fecha inicio sintomas' ].dt.date ] ).agg( { 'ID caso': 'count' } ).reset_index() )"
   ]
  },
  {
   "cell_type": "code",
   "execution_count": null,
   "metadata": {},
   "outputs": [],
   "source": [
    "daily_cases_by_city.rename( columns = { 'Fecha inicio sintomas': 'date', 'Cartagena de Indias': 'Cartagena' } ).to_csv( './daily-cases-viz/data/daily-cases-by-city.csv', index = False )"
   ]
  },
  {
   "cell_type": "code",
   "execution_count": null,
   "metadata": {},
   "outputs": [],
   "source": []
  },
  {
   "cell_type": "code",
   "execution_count": null,
   "metadata": {},
   "outputs": [],
   "source": []
  },
  {
   "cell_type": "code",
   "execution_count": null,
   "metadata": {},
   "outputs": [],
   "source": [
    "deaths_by_city = covid.loc[ covid[ 'Ciudad' ].isin( CITIES ) ].groupby( [ 'Ciudad', covid[ 'Fecha muerte' ].dt.date ] ).agg( { 'ID caso': 'count' } ).unstack( level = 0 ).fillna( 0 )\n",
    "deaths_by_city.columns = deaths_by_city.columns.droplevel()\n",
    "deaths_by_city.reset_index( inplace = True )"
   ]
  },
  {
   "cell_type": "code",
   "execution_count": null,
   "metadata": {},
   "outputs": [],
   "source": [
    "deaths_by_city.tail()"
   ]
  },
  {
   "cell_type": "code",
   "execution_count": null,
   "metadata": {},
   "outputs": [],
   "source": [
    "deaths_by_city.dtypes"
   ]
  },
  {
   "cell_type": "code",
   "execution_count": null,
   "metadata": {},
   "outputs": [],
   "source": [
    "plt.figure( figsize = ( 20, 8 ) )\n",
    "sns.lineplot( x = 'Fecha muerte', y = 'ID caso', hue = 'Ciudad', data = covid.loc[ covid[ 'Ciudad' ].isin( CITIES ) ].groupby( [ 'Ciudad', covid[ 'Fecha muerte' ].dt.date ] ).agg( { 'ID caso': 'count' } ).reset_index() )"
   ]
  },
  {
   "cell_type": "code",
   "execution_count": null,
   "metadata": {},
   "outputs": [],
   "source": [
    "deaths_by_city.rename( columns = { 'Fecha muerte': 'date', 'Cartagena de Indias': 'cartagena', 'Barranquilla': 'barranquilla', 'Bogotá D.C.': 'bogota', 'Cali': 'cali', 'Medellín': 'medellin' } ).to_csv( './data/meta/deaths-by-city.csv', index = False )"
   ]
  },
  {
   "cell_type": "code",
   "execution_count": null,
   "metadata": {},
   "outputs": [],
   "source": []
  },
  {
   "cell_type": "code",
   "execution_count": null,
   "metadata": {},
   "outputs": [],
   "source": []
  },
  {
   "cell_type": "code",
   "execution_count": null,
   "metadata": {},
   "outputs": [],
   "source": []
  },
  {
   "cell_type": "code",
   "execution_count": null,
   "metadata": {},
   "outputs": [],
   "source": [
    "# Plotting diagnosed cases by day (cumulative sum)\n",
    "covid.groupby( [ covid[ 'Fecha diagnostico' ].dt.date ] ).agg( { 'ID caso': 'count' } ).cumsum().plot( figsize = ( 20, 8 ) )"
   ]
  },
  {
   "cell_type": "code",
   "execution_count": null,
   "metadata": {},
   "outputs": [],
   "source": [
    "# Preparing and merging the groupings in one dataframe\n",
    "\n",
    "diagnosed = covid.groupby( [ covid[ 'Fecha diagnostico' ].dt.date ] ) \\\n",
    "    .agg( { 'ID caso': 'count' } ) \\\n",
    "    .cumsum() \\\n",
    "    .rename( columns = { 'Fecha diagnostico': 'Fecha', 'ID caso': 'Diagnosticados' } )\n",
    "\n",
    "recovered = covid.groupby( [ covid[ 'Fecha recuperacion' ].dt.date ] )  \\\n",
    "    .agg( { 'ID caso': 'count' } ) \\\n",
    "    .cumsum() \\\n",
    "    .rename( columns = { 'Fecha recuperacion': 'Fecha', 'ID caso': 'Recuperados' } )\n",
    "\n",
    "deaths = covid.groupby( [ covid[ 'Fecha muerte' ].dt.date ] )  \\\n",
    "    .agg( { 'ID caso': 'count' } ) \\\n",
    "    .cumsum() \\\n",
    "    .rename( columns = { 'Fecha muerte': 'Fecha', 'ID caso': 'Fallecidos' } )\n",
    "\n",
    "infections = diagnosed.merge( recovered, how = 'outer', left_index = True, right_index = True )\n",
    "infections = infections.merge( deaths, how = 'outer', left_index = True, right_index = True )\n",
    "infections.fillna( 0, inplace = True )"
   ]
  },
  {
   "cell_type": "raw",
   "metadata": {},
   "source": [
    "infections.drop( infections.tail( 1 ).index, inplace = True )"
   ]
  },
  {
   "cell_type": "code",
   "execution_count": null,
   "metadata": {},
   "outputs": [],
   "source": [
    "infections.tail()"
   ]
  },
  {
   "cell_type": "code",
   "execution_count": null,
   "metadata": {},
   "outputs": [],
   "source": [
    "# Plotting diagnosed and recovered cases by day\n",
    "infections.plot( figsize = ( 20, 8 ) )"
   ]
  },
  {
   "cell_type": "code",
   "execution_count": null,
   "metadata": {},
   "outputs": [],
   "source": [
    "# Calculating the difference between diagnosed and recovered cases\n",
    "infections[ 'Casos activos' ] = infections[ 'Diagnosticados' ] - infections[ 'Recuperados' ]"
   ]
  },
  {
   "cell_type": "code",
   "execution_count": null,
   "metadata": {},
   "outputs": [],
   "source": [
    "infections.tail()"
   ]
  },
  {
   "cell_type": "code",
   "execution_count": null,
   "metadata": {},
   "outputs": [],
   "source": [
    "# Plotting difference cases by day\n",
    "infections[ 'Casos activos' ].plot( figsize = ( 20, 8 ) )"
   ]
  },
  {
   "cell_type": "markdown",
   "metadata": {},
   "source": [
    "# Geo"
   ]
  },
  {
   "cell_type": "code",
   "execution_count": null,
   "metadata": {},
   "outputs": [],
   "source": [
    "covid.head()"
   ]
  },
  {
   "cell_type": "code",
   "execution_count": null,
   "metadata": {},
   "outputs": [],
   "source": [
    "covid[ 'Atencion' ].value_counts( dropna = False )"
   ]
  },
  {
   "cell_type": "raw",
   "metadata": {},
   "source": [
    "def extract_depto( x ):\n",
    "    x = str( x )[ :-3 ]\n",
    "    try:\n",
    "        return int( x )\n",
    "    except:\n",
    "        return 0\n",
    "    \n",
    "covid[ 'codigo_departamento' ] = covid[ 'Codigo DIVIPOLA' ].apply( lambda x: extract_depto( x ) )"
   ]
  },
  {
   "cell_type": "code",
   "execution_count": null,
   "metadata": {},
   "outputs": [],
   "source": [
    "covid[ 'codigo_departamento' ] = covid[ 'codigo_departamento' ].astype( int )"
   ]
  },
  {
   "cell_type": "code",
   "execution_count": null,
   "metadata": {},
   "outputs": [],
   "source": [
    "cases_by_depto = covid.loc[ ~covid[ 'Atencion' ].isin( [ 'Recuperado', 'Fallecido' ] ) ].groupby( 'codigo_departamento' ).agg( { 'ID caso': 'count' } ).reset_index().rename( columns = { 'ID caso': 'Casos' } )"
   ]
  },
  {
   "cell_type": "raw",
   "metadata": {},
   "source": [
    "cases_by_depto[ 'codigo_departamento' ] = cases_by_depto[ 'codigo_departamento' ].astype( int )"
   ]
  },
  {
   "cell_type": "code",
   "execution_count": null,
   "metadata": {},
   "outputs": [],
   "source": [
    "cases_by_depto.dtypes"
   ]
  },
  {
   "cell_type": "code",
   "execution_count": null,
   "metadata": {},
   "outputs": [],
   "source": [
    "cases_by_depto.head()"
   ]
  },
  {
   "cell_type": "code",
   "execution_count": null,
   "metadata": {},
   "outputs": [],
   "source": [
    "departamentos = gpd.read_file( './data/geo/colombia/departamentos.json' )"
   ]
  },
  {
   "cell_type": "code",
   "execution_count": null,
   "metadata": {},
   "outputs": [],
   "source": [
    "departamentos.head()"
   ]
  },
  {
   "cell_type": "code",
   "execution_count": null,
   "metadata": {},
   "outputs": [],
   "source": [
    "cases_by_depto = departamentos.merge( cases_by_depto, how = 'left', on = 'codigo_departamento' )\n",
    "cases_by_depto[ 'Casos' ] = cases_by_depto[ 'Casos' ].fillna( 0 )"
   ]
  },
  {
   "cell_type": "code",
   "execution_count": null,
   "metadata": {},
   "outputs": [],
   "source": [
    "cases_by_depto"
   ]
  },
  {
   "cell_type": "code",
   "execution_count": null,
   "metadata": {},
   "outputs": [],
   "source": [
    "# Removing San Andrés\n",
    "cases_by_depto = cases_by_depto.drop( [ 0 ] )"
   ]
  },
  {
   "cell_type": "code",
   "execution_count": null,
   "metadata": {},
   "outputs": [],
   "source": [
    "cases_by_depto.to_file( './colombia-map/data/departamentos.json', driver ='GeoJSON' )"
   ]
  },
  {
   "cell_type": "code",
   "execution_count": null,
   "metadata": {},
   "outputs": [],
   "source": []
  },
  {
   "cell_type": "code",
   "execution_count": null,
   "metadata": {},
   "outputs": [],
   "source": []
  },
  {
   "cell_type": "code",
   "execution_count": null,
   "metadata": {},
   "outputs": [],
   "source": []
  },
  {
   "cell_type": "code",
   "execution_count": null,
   "metadata": {},
   "outputs": [],
   "source": []
  },
  {
   "cell_type": "code",
   "execution_count": null,
   "metadata": {},
   "outputs": [],
   "source": [
    "covid.head()"
   ]
  },
  {
   "cell_type": "code",
   "execution_count": null,
   "metadata": {},
   "outputs": [],
   "source": [
    "deaths_bogota = covid.loc[ covid[ 'Ciudad' ] == 'Bogotá D.C.' ].groupby( [ covid[ 'Fecha muerte' ].dt.date ] )  \\\n",
    "    .agg( { 'ID caso': 'count' } ) \\\n",
    "    .cumsum().reset_index() \\\n",
    "    .rename( columns = { 'Fecha muerte': 'date', 'ID caso': 'Fallecidos_reales' } )"
   ]
  },
  {
   "cell_type": "code",
   "execution_count": null,
   "metadata": {},
   "outputs": [],
   "source": [
    "deaths_bogota.to_csv( './meta-viz/data/bogota-deaths.csv', index = False )"
   ]
  },
  {
   "cell_type": "code",
   "execution_count": null,
   "metadata": {},
   "outputs": [],
   "source": [
    "deaths_cali = covid.loc[ covid[ 'Ciudad' ] == 'Cali' ].groupby( [ covid[ 'Fecha muerte' ].dt.date ] )  \\\n",
    "    .agg( { 'ID caso': 'count' } ) \\\n",
    "    .cumsum().reset_index() \\\n",
    "    .rename( columns = { 'Fecha muerte': 'date', 'ID caso': 'Fallecidos_reales' } )"
   ]
  },
  {
   "cell_type": "code",
   "execution_count": null,
   "metadata": {},
   "outputs": [],
   "source": [
    "deaths_cali.to_csv( './meta-viz/data/cali-deaths.csv', index = False )"
   ]
  },
  {
   "cell_type": "code",
   "execution_count": null,
   "metadata": {},
   "outputs": [],
   "source": [
    "deaths_barranquilla = covid.loc[ covid[ 'Ciudad' ] == 'Barranquilla' ].groupby( [ covid[ 'Fecha muerte' ].dt.date ] )  \\\n",
    "    .agg( { 'ID caso': 'count' } ) \\\n",
    "    .cumsum().reset_index() \\\n",
    "    .rename( columns = { 'Fecha muerte': 'date', 'ID caso': 'Fallecidos_reales' } )"
   ]
  },
  {
   "cell_type": "code",
   "execution_count": null,
   "metadata": {},
   "outputs": [],
   "source": [
    "deaths_barranquilla.to_csv( './meta-viz/data/barranquilla-deaths.csv', index = False )"
   ]
  },
  {
   "cell_type": "code",
   "execution_count": null,
   "metadata": {},
   "outputs": [],
   "source": []
  },
  {
   "cell_type": "code",
   "execution_count": null,
   "metadata": {},
   "outputs": [],
   "source": []
  },
  {
   "cell_type": "code",
   "execution_count": null,
   "metadata": {},
   "outputs": [],
   "source": []
  },
  {
   "cell_type": "code",
   "execution_count": null,
   "metadata": {},
   "outputs": [],
   "source": [
    "covid.rename( columns = { 'Fecha diagnostico': 'Fecha de diagnóstico', 'Ciudad de ubicación': 'Ciudad de residencia', 'Tipo': 'Tipo de caso', 'atención': 'Ubicación' }, inplace = True )"
   ]
  },
  {
   "cell_type": "code",
   "execution_count": null,
   "metadata": {},
   "outputs": [],
   "source": [
    "def get_age_group( x ):\n",
    "    if x <= 19:\n",
    "        return '0 - 19'\n",
    "    elif x > 19 and x <= 39:\n",
    "        return '20 - 39'\n",
    "    elif x > 39 and x <= 59:\n",
    "        return '40 - 59'\n",
    "    elif x > 59 and x <= 79:\n",
    "        return '60 - 79'\n",
    "    elif x > 79:\n",
    "          return '80+'\n",
    "    else:\n",
    "        return None\n",
    "\n",
    "covid[ 'Grupo de edad' ] = covid[ 'Edad' ].apply( get_age_group )"
   ]
  },
  {
   "cell_type": "code",
   "execution_count": null,
   "metadata": {},
   "outputs": [],
   "source": [
    "covid[ 'Localidad de residencia' ] = None"
   ]
  },
  {
   "cell_type": "code",
   "execution_count": null,
   "metadata": {},
   "outputs": [],
   "source": [
    "columns = [ 'ID de caso', 'Fecha de diagnóstico', 'Ciudad de residencia', 'Localidad de residencia', 'Edad', 'Sexo', 'Tipo de caso', 'Ubicación', 'Estado', 'Grupo de edad' ]"
   ]
  },
  {
   "cell_type": "code",
   "execution_count": null,
   "metadata": {},
   "outputs": [],
   "source": [
    "covid = covid[ columns ]"
   ]
  },
  {
   "cell_type": "markdown",
   "metadata": {},
   "source": [
    "# Barranquilla"
   ]
  },
  {
   "cell_type": "code",
   "execution_count": null,
   "metadata": {},
   "outputs": [],
   "source": [
    "barranquilla = covid.loc[ covid[ 'Ciudad de residencia' ] == 'Barranquilla' ]"
   ]
  },
  {
   "cell_type": "code",
   "execution_count": null,
   "metadata": {},
   "outputs": [],
   "source": [
    "barranquilla.shape"
   ]
  },
  {
   "cell_type": "code",
   "execution_count": null,
   "metadata": {},
   "outputs": [],
   "source": [
    "barranquilla.dtypes"
   ]
  },
  {
   "cell_type": "code",
   "execution_count": null,
   "metadata": {},
   "outputs": [],
   "source": [
    "barranquilla.tail()"
   ]
  },
  {
   "cell_type": "code",
   "execution_count": null,
   "metadata": {},
   "outputs": [],
   "source": [
    "barranquilla[ 'Ubicación' ].value_counts( dropna = False )"
   ]
  },
  {
   "cell_type": "code",
   "execution_count": null,
   "metadata": {},
   "outputs": [],
   "source": [
    "barranquilla.loc[ ~barranquilla[ 'Ubicación' ].isin( [ 'Recuperado', 'Fallecido' ] ) ].shape"
   ]
  },
  {
   "cell_type": "code",
   "execution_count": null,
   "metadata": {},
   "outputs": [],
   "source": [
    "barranquilla.loc[ barranquilla[ 'Ubicación' ] == 'Hospital UCI' ]"
   ]
  },
  {
   "cell_type": "code",
   "execution_count": null,
   "metadata": {},
   "outputs": [],
   "source": [
    "barranquilla.to_csv( './data/covid19_barranquilla.csv', index = False )"
   ]
  },
  {
   "cell_type": "markdown",
   "metadata": {},
   "source": [
    "# Medellín"
   ]
  },
  {
   "cell_type": "code",
   "execution_count": null,
   "metadata": {},
   "outputs": [],
   "source": [
    "medellin = covid.loc[ covid[ 'Ciudad de residencia' ] == 'Medellín' ]"
   ]
  },
  {
   "cell_type": "code",
   "execution_count": null,
   "metadata": {},
   "outputs": [],
   "source": [
    "medellin.shape"
   ]
  },
  {
   "cell_type": "code",
   "execution_count": null,
   "metadata": {},
   "outputs": [],
   "source": [
    "medellin.dtypes"
   ]
  },
  {
   "cell_type": "code",
   "execution_count": null,
   "metadata": {},
   "outputs": [],
   "source": [
    "medellin.tail()"
   ]
  },
  {
   "cell_type": "code",
   "execution_count": null,
   "metadata": {},
   "outputs": [],
   "source": [
    "medellin[ 'Ubicación' ].value_counts( dropna = False )"
   ]
  },
  {
   "cell_type": "code",
   "execution_count": null,
   "metadata": {},
   "outputs": [],
   "source": [
    "medellin.to_csv( './data/covid19_medellin.csv', index = False )"
   ]
  },
  {
   "cell_type": "markdown",
   "metadata": {},
   "source": [
    "# Cali"
   ]
  },
  {
   "cell_type": "code",
   "execution_count": null,
   "metadata": {},
   "outputs": [],
   "source": [
    "cali = covid.loc[ covid[ 'Ciudad de residencia' ] == 'Cali' ]"
   ]
  },
  {
   "cell_type": "code",
   "execution_count": null,
   "metadata": {},
   "outputs": [],
   "source": [
    "cali.shape"
   ]
  },
  {
   "cell_type": "code",
   "execution_count": null,
   "metadata": {},
   "outputs": [],
   "source": [
    "cali.dtypes"
   ]
  },
  {
   "cell_type": "code",
   "execution_count": null,
   "metadata": {},
   "outputs": [],
   "source": [
    "cali.tail()"
   ]
  },
  {
   "cell_type": "code",
   "execution_count": null,
   "metadata": {},
   "outputs": [],
   "source": [
    "cali[ 'Ubicación' ].value_counts( dropna = False )"
   ]
  },
  {
   "cell_type": "code",
   "execution_count": null,
   "metadata": {},
   "outputs": [],
   "source": [
    "cali.to_csv( './data/covid19_cali.csv', index = False )"
   ]
  },
  {
   "cell_type": "markdown",
   "metadata": {},
   "source": [
    "# Cartagena"
   ]
  },
  {
   "cell_type": "code",
   "execution_count": null,
   "metadata": {},
   "outputs": [],
   "source": [
    "cartagena = covid.loc[ covid[ 'Ciudad de residencia' ] == 'Cartagena de Indias' ]"
   ]
  },
  {
   "cell_type": "code",
   "execution_count": null,
   "metadata": {},
   "outputs": [],
   "source": [
    "cartagena.shape"
   ]
  },
  {
   "cell_type": "code",
   "execution_count": null,
   "metadata": {},
   "outputs": [],
   "source": [
    "cartagena.dtypes"
   ]
  },
  {
   "cell_type": "code",
   "execution_count": null,
   "metadata": {},
   "outputs": [],
   "source": [
    "cartagena.tail()"
   ]
  },
  {
   "cell_type": "code",
   "execution_count": null,
   "metadata": {},
   "outputs": [],
   "source": [
    "cartagena[ 'Ubicación' ].value_counts( dropna = False )"
   ]
  },
  {
   "cell_type": "code",
   "execution_count": null,
   "metadata": {},
   "outputs": [],
   "source": [
    "cartagena.to_csv( './data/covid19_cartagena.csv', index = False )"
   ]
  },
  {
   "cell_type": "code",
   "execution_count": null,
   "metadata": {},
   "outputs": [],
   "source": []
  },
  {
   "cell_type": "code",
   "execution_count": null,
   "metadata": {},
   "outputs": [],
   "source": []
  },
  {
   "cell_type": "code",
   "execution_count": null,
   "metadata": {},
   "outputs": [],
   "source": []
  },
  {
   "cell_type": "code",
   "execution_count": null,
   "metadata": {},
   "outputs": [],
   "source": []
  },
  {
   "cell_type": "code",
   "execution_count": null,
   "metadata": {},
   "outputs": [],
   "source": []
  },
  {
   "cell_type": "code",
   "execution_count": null,
   "metadata": {},
   "outputs": [],
   "source": [
    "covid[ 'dias_para_diagnostico' ] = ( covid[ 'Fecha_diagnostico' ] - covid[ 'FIS' ] ).dt.days"
   ]
  },
  {
   "cell_type": "code",
   "execution_count": null,
   "metadata": {},
   "outputs": [],
   "source": [
    "covid[ 'Estado' ].value_counts( dropna = False )"
   ]
  },
  {
   "cell_type": "code",
   "execution_count": null,
   "metadata": {},
   "outputs": [],
   "source": [
    "plt.figure( figsize = ( 20, 8 ) )\n",
    "ax = sns.boxplot( data = covid, x = 'dias_para_diagnostico', y = 'Estado' )"
   ]
  },
  {
   "cell_type": "code",
   "execution_count": null,
   "metadata": {},
   "outputs": [],
   "source": [
    "covid[ 'atención' ].value_counts( dropna = False )"
   ]
  },
  {
   "cell_type": "code",
   "execution_count": null,
   "metadata": {},
   "outputs": [],
   "source": [
    "covid.loc[ covid[ 'atención' ] == 'Casa' ][ 'Edad' ].quantile( [ 0.25, 0.5, 0.75 ] )"
   ]
  },
  {
   "cell_type": "code",
   "execution_count": null,
   "metadata": {},
   "outputs": [],
   "source": [
    "plt.figure( figsize = ( 20, 8 ) )\n",
    "ax = sns.boxplot( data = covid, x = 'Edad', y = 'atención' )"
   ]
  },
  {
   "cell_type": "code",
   "execution_count": null,
   "metadata": {},
   "outputs": [],
   "source": [
    "covid.loc[ covid[ 'Tipo' ] == 'Importado' ].groupby( 'Fecha_diagnostico' ).agg( { 'ID_de_caso': 'count' } ).plot( kind = 'bar', figsize = ( 20, 8 ) )"
   ]
  },
  {
   "cell_type": "code",
   "execution_count": null,
   "metadata": {},
   "outputs": [],
   "source": [
    "# Preparing and merging the groupings in one dataframe\n",
    "\n",
    "diagnosed = covid.loc[ covid[ 'Tipo' ] == 'Importado' ] \\\n",
    "    .groupby( 'Fecha_diagnostico' ) \\\n",
    "    .agg( { 'ID_de_caso': 'count' } ) \\\n",
    "    .rename( columns = { 'Fecha_diagnostico': 'Fecha', 'ID_de_caso': 'Diagnosticados' } )\n",
    "\n",
    "recovered = covid.loc[ covid[ 'Tipo' ] == 'Importado' ] \\\n",
    "    .groupby( 'FIS' ) \\\n",
    "    .agg( { 'ID_de_caso': 'count' } ) \\\n",
    "    .rename( columns = { 'Fecha_diagnostico': 'Fecha', 'ID_de_caso': 'Inicio de sintomas' } )\n",
    "\n",
    "infections = diagnosed.merge( recovered, how = 'outer', left_index = True, right_index = True )\n",
    "infections.fillna( 0, inplace = True )"
   ]
  },
  {
   "cell_type": "code",
   "execution_count": null,
   "metadata": {},
   "outputs": [],
   "source": [
    "infections.tail()"
   ]
  },
  {
   "cell_type": "code",
   "execution_count": null,
   "metadata": {},
   "outputs": [],
   "source": [
    "f, axarr = plt.subplots( 2, sharex = True, figsize = ( 20, 10 ) )\n",
    "axarr[ 0 ].set_title( 'Fecha de diagnostico de casos importados' )\n",
    "infections[ 'Diagnosticados' ].plot( kind = 'bar', ax = axarr[ 0 ] )\n",
    "axarr[ 1 ].set_title( 'Fecha de inicio de sintomas de casos importados' )\n",
    "infections[ 'Inicio de sintomas' ].plot( kind = 'bar', ax = axarr[ 1 ] )\n",
    "axarr[ 0 ].axvline( x = 23.5, color = 'r', linestyle = '--' )\n",
    "axarr[ 1 ].axvline( x = 23.5, color = 'r', linestyle = '--' )"
   ]
  },
  {
   "cell_type": "code",
   "execution_count": null,
   "metadata": {},
   "outputs": [],
   "source": []
  },
  {
   "cell_type": "code",
   "execution_count": null,
   "metadata": {},
   "outputs": [],
   "source": [
    "covid[ 'Estado' ].value_counts( dropna = False )"
   ]
  },
  {
   "cell_type": "code",
   "execution_count": null,
   "metadata": {},
   "outputs": [],
   "source": [
    "covid[ 'dias_para_recuperarse' ] = ( covid[ 'Fecha_recuperado' ] - covid[ 'Fecha_diagnostico' ] ).dt.days"
   ]
  },
  {
   "cell_type": "code",
   "execution_count": null,
   "metadata": {},
   "outputs": [],
   "source": [
    "plt.figure( figsize = ( 20, 8 ) )\n",
    "ax = sns.boxplot( data = covid, x = 'dias_para_recuperarse', y = 'Estado' )"
   ]
  },
  {
   "cell_type": "code",
   "execution_count": null,
   "metadata": {},
   "outputs": [],
   "source": [
    "covid.loc[ covid[ 'dias_para_recuperarse' ] < 0 ]"
   ]
  },
  {
   "cell_type": "code",
   "execution_count": null,
   "metadata": {},
   "outputs": [],
   "source": []
  },
  {
   "cell_type": "code",
   "execution_count": null,
   "metadata": {},
   "outputs": [],
   "source": []
  },
  {
   "cell_type": "code",
   "execution_count": null,
   "metadata": {},
   "outputs": [],
   "source": []
  },
  {
   "cell_type": "code",
   "execution_count": null,
   "metadata": {},
   "outputs": [],
   "source": []
  },
  {
   "cell_type": "code",
   "execution_count": null,
   "metadata": {},
   "outputs": [],
   "source": [
    "covid.head()"
   ]
  },
  {
   "cell_type": "code",
   "execution_count": null,
   "metadata": {},
   "outputs": [],
   "source": [
    "covid.to_csv( './data/covid_clean.csv', index = False, sep = ',' )"
   ]
  },
  {
   "cell_type": "code",
   "execution_count": null,
   "metadata": {},
   "outputs": [],
   "source": [
    "infections.reset_index().to_csv( './data/covid_groups.csv', index = False, sep = ',' )"
   ]
  },
  {
   "cell_type": "code",
   "execution_count": null,
   "metadata": {},
   "outputs": [],
   "source": [
    "departamentos.to_file( './data/departamentos_groups.json', driver = 'GeoJSON' )"
   ]
  },
  {
   "cell_type": "code",
   "execution_count": null,
   "metadata": {},
   "outputs": [],
   "source": []
  }
 ],
 "metadata": {
  "kernelspec": {
   "display_name": "Python 3",
   "language": "python",
   "name": "python3"
  },
  "language_info": {
   "codemirror_mode": {
    "name": "ipython",
    "version": 3
   },
   "file_extension": ".py",
   "mimetype": "text/x-python",
   "name": "python",
   "nbconvert_exporter": "python",
   "pygments_lexer": "ipython3",
   "version": "3.7.6"
  }
 },
 "nbformat": 4,
 "nbformat_minor": 4
}
