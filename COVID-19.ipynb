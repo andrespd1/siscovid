{
 "cells": [
  {
   "cell_type": "code",
   "execution_count": 1,
   "metadata": {},
   "outputs": [],
   "source": [
    "# This dataset analyzes the COVID-19 data for Colombia and builds the GeoJSON map counting active cases by department\n",
    "# Author: Fabian Peña\n",
    "# Creation date:\n",
    "# Last modification date: 25/05/2020"
   ]
  },
  {
   "cell_type": "code",
   "execution_count": 2,
   "metadata": {},
   "outputs": [],
   "source": [
    "import pandas as pd\n",
    "import geopandas as gpd\n",
    "\n",
    "from sodapy import Socrata\n",
    "\n",
    "import seaborn as sns\n",
    "import matplotlib.pyplot as plt\n",
    "\n",
    "from pandas_profiling import ProfileReport\n",
    "\n",
    "%matplotlib inline"
   ]
  },
  {
   "cell_type": "code",
   "execution_count": 3,
   "metadata": {},
   "outputs": [
    {
     "name": "stderr",
     "output_type": "stream",
     "text": [
      "WARNING:root:Requests made without an app_token will be subject to strict throttling limits.\n"
     ]
    }
   ],
   "source": [
    "# Creating the Socrata client\n",
    "client = Socrata( 'www.datos.gov.co', None )"
   ]
  },
  {
   "cell_type": "code",
   "execution_count": 4,
   "metadata": {},
   "outputs": [],
   "source": [
    "# Loading the COVID-19 data for Colombia\n",
    "results = client.get( 'gt2j-8ykr', limit = 100000 )\n",
    "covid = pd.DataFrame.from_records(results)\n",
    "covid.rename( columns = { 'id_de_caso': 'ID de caso',\n",
    "                         'fecha_de_notificaci_n': 'Fecha de notificación',\n",
    "                         'codigo_divipola': 'Codigo DIVIPOLA',\n",
    "                         'ciudad_de_ubicaci_n': 'Ciudad de ubicación',\n",
    "                         'departamento': 'Departamento o Distrito ',\n",
    "                         'atenci_n': 'atención',\n",
    "                         'edad': 'Edad',\n",
    "                         'sexo': 'Sexo',\n",
    "                         'tipo': 'Tipo',\n",
    "                         'estado': 'Estado',\n",
    "                         'pa_s_de_procedencia': 'País de procedencia',\n",
    "                         'fis': 'FIS',\n",
    "                         'fecha_de_muerte': 'Fecha de muerte',\n",
    "                         'fecha_diagnostico': 'Fecha diagnostico',\n",
    "                         'fecha_recuperado': 'Fecha recuperado',\n",
    "                         'fecha_reporte_web': 'fecha reporte web' }, inplace = True )"
   ]
  },
  {
   "cell_type": "raw",
   "metadata": {},
   "source": [
    "renames = {}\n",
    "i = 0\n",
    "for c in covid.columns.tolist():\n",
    "    renames[ c ] = new_cols[ i ]\n",
    "    i = i + 1\n",
    "renames"
   ]
  },
  {
   "cell_type": "raw",
   "metadata": {},
   "source": [
    "new_cols = covid2.columns.tolist()"
   ]
  },
  {
   "cell_type": "raw",
   "metadata": {},
   "source": [
    "covid.dtypes"
   ]
  },
  {
   "cell_type": "raw",
   "metadata": {},
   "source": [
    "# Loading the COVID-19 data for Colombia\n",
    "covid2 = pd.read_csv( './data/covid19_colombia.csv' )"
   ]
  },
  {
   "cell_type": "raw",
   "metadata": {},
   "source": [
    "covid2.dtypes"
   ]
  },
  {
   "cell_type": "code",
   "execution_count": 5,
   "metadata": {},
   "outputs": [
    {
     "data": {
      "text/plain": [
       "(30493, 17)"
      ]
     },
     "execution_count": 5,
     "metadata": {},
     "output_type": "execute_result"
    }
   ],
   "source": [
    "# Getting the size of the df\n",
    "covid.shape"
   ]
  },
  {
   "cell_type": "code",
   "execution_count": 6,
   "metadata": {},
   "outputs": [],
   "source": [
    "# Add a new column for asimptomatic observations\n",
    "covid.loc[ covid[ 'FIS' ] == 'Asintomático', 'Asintomático' ] = True\n",
    "covid.loc[ covid[ 'FIS' ] != 'Asintomático', 'Asintomático' ] = False\n",
    "covid[ 'Asintomático' ] = covid[ 'Asintomático' ].astype( bool )"
   ]
  },
  {
   "cell_type": "code",
   "execution_count": 7,
   "metadata": {},
   "outputs": [],
   "source": [
    "# Casting date columns\n",
    "covid[ 'Fecha de notificación' ] = pd.to_datetime( covid[ 'Fecha de notificación' ] )\n",
    "covid[ 'FIS' ] = pd.to_datetime( covid[ 'FIS' ], errors = 'coerce' )\n",
    "covid[ 'Fecha de muerte' ] = pd.to_datetime( covid[ 'Fecha de muerte' ], errors = 'coerce' )\n",
    "covid[ 'Fecha diagnostico' ] = pd.to_datetime( covid[ 'Fecha diagnostico' ], errors = 'coerce' )\n",
    "covid[ 'Fecha recuperado' ] = pd.to_datetime( covid[ 'Fecha recuperado' ], errors = 'coerce' )\n",
    "covid[ 'fecha reporte web' ] = pd.to_datetime( covid[ 'fecha reporte web' ] )"
   ]
  },
  {
   "cell_type": "code",
   "execution_count": 8,
   "metadata": {},
   "outputs": [],
   "source": [
    "# Unifying values for sex\n",
    "covid[ 'Sexo' ].replace( { 'm': 'M', 'f': 'F' }, inplace = True )"
   ]
  },
  {
   "cell_type": "code",
   "execution_count": 9,
   "metadata": {},
   "outputs": [],
   "source": [
    "# Unifying values for status\n",
    "covid[ 'Estado' ].replace( { 'leve': 'Leve', 'LEVE': 'Leve' }, inplace = True )"
   ]
  },
  {
   "cell_type": "code",
   "execution_count": 10,
   "metadata": {},
   "outputs": [],
   "source": [
    "# Unifying values for atention\n",
    "covid[ 'atención' ].replace( { 'casa': 'Casa', 'N/A': None }, inplace = True )"
   ]
  },
  {
   "cell_type": "code",
   "execution_count": 11,
   "metadata": {},
   "outputs": [],
   "source": [
    "# Unifying values for procedence\n",
    "covid[ 'País de procedencia' ].replace( { '-   -': None }, inplace = True )"
   ]
  },
  {
   "cell_type": "code",
   "execution_count": 12,
   "metadata": {},
   "outputs": [],
   "source": [
    "covid.loc[ covid[ 'Fecha recuperado' ].notnull(), 'Recuperado' ] = True\n",
    "covid.loc[ covid[ 'Fecha recuperado' ].isnull(), 'Recuperado' ] = False"
   ]
  },
  {
   "cell_type": "code",
   "execution_count": 13,
   "metadata": {},
   "outputs": [],
   "source": [
    "covid.loc[ covid[ 'Fecha de muerte' ].notnull(), 'Fallecido' ] = True\n",
    "covid.loc[ covid[ 'Fecha de muerte' ].isnull(), 'Fallecido' ] = False"
   ]
  },
  {
   "cell_type": "code",
   "execution_count": 14,
   "metadata": {},
   "outputs": [],
   "source": [
    "covid[ 'Edad' ] = covid[ 'Edad' ].astype( int )"
   ]
  },
  {
   "cell_type": "code",
   "execution_count": 15,
   "metadata": {},
   "outputs": [
    {
     "data": {
      "text/plain": [
       "ID de caso                          object\n",
       "Fecha de notificación       datetime64[ns]\n",
       "Codigo DIVIPOLA                     object\n",
       "Ciudad de ubicación                 object\n",
       "Departamento o Distrito             object\n",
       "atención                            object\n",
       "Edad                                 int64\n",
       "Sexo                                object\n",
       "Tipo                                object\n",
       "Estado                              object\n",
       "País de procedencia                 object\n",
       "FIS                         datetime64[ns]\n",
       "Fecha diagnostico           datetime64[ns]\n",
       "Fecha recuperado            datetime64[ns]\n",
       "fecha reporte web           datetime64[ns]\n",
       "tipo_recuperaci_n                   object\n",
       "Fecha de muerte             datetime64[ns]\n",
       "Asintomático                          bool\n",
       "Recuperado                            bool\n",
       "Fallecido                             bool\n",
       "dtype: object"
      ]
     },
     "execution_count": 15,
     "metadata": {},
     "output_type": "execute_result"
    }
   ],
   "source": [
    "# Getting the column types\n",
    "covid.dtypes"
   ]
  },
  {
   "cell_type": "code",
   "execution_count": 16,
   "metadata": {},
   "outputs": [
    {
     "data": {
      "text/html": [
       "<div>\n",
       "<style scoped>\n",
       "    .dataframe tbody tr th:only-of-type {\n",
       "        vertical-align: middle;\n",
       "    }\n",
       "\n",
       "    .dataframe tbody tr th {\n",
       "        vertical-align: top;\n",
       "    }\n",
       "\n",
       "    .dataframe thead th {\n",
       "        text-align: right;\n",
       "    }\n",
       "</style>\n",
       "<table border=\"1\" class=\"dataframe\">\n",
       "  <thead>\n",
       "    <tr style=\"text-align: right;\">\n",
       "      <th></th>\n",
       "      <th>ID de caso</th>\n",
       "      <th>Fecha de notificación</th>\n",
       "      <th>Codigo DIVIPOLA</th>\n",
       "      <th>Ciudad de ubicación</th>\n",
       "      <th>Departamento o Distrito</th>\n",
       "      <th>atención</th>\n",
       "      <th>Edad</th>\n",
       "      <th>Sexo</th>\n",
       "      <th>Tipo</th>\n",
       "      <th>Estado</th>\n",
       "      <th>País de procedencia</th>\n",
       "      <th>FIS</th>\n",
       "      <th>Fecha diagnostico</th>\n",
       "      <th>Fecha recuperado</th>\n",
       "      <th>fecha reporte web</th>\n",
       "      <th>tipo_recuperaci_n</th>\n",
       "      <th>Fecha de muerte</th>\n",
       "      <th>Asintomático</th>\n",
       "      <th>Recuperado</th>\n",
       "      <th>Fallecido</th>\n",
       "    </tr>\n",
       "  </thead>\n",
       "  <tbody>\n",
       "    <tr>\n",
       "      <td>0</td>\n",
       "      <td>1</td>\n",
       "      <td>2020-03-02</td>\n",
       "      <td>11001</td>\n",
       "      <td>Bogotá D.C.</td>\n",
       "      <td>Bogotá D.C.</td>\n",
       "      <td>Recuperado</td>\n",
       "      <td>19</td>\n",
       "      <td>F</td>\n",
       "      <td>Importado</td>\n",
       "      <td>Leve</td>\n",
       "      <td>Italia</td>\n",
       "      <td>2020-02-27</td>\n",
       "      <td>2020-03-06</td>\n",
       "      <td>2020-03-13</td>\n",
       "      <td>2020-03-06</td>\n",
       "      <td>PCR</td>\n",
       "      <td>NaT</td>\n",
       "      <td>False</td>\n",
       "      <td>True</td>\n",
       "      <td>False</td>\n",
       "    </tr>\n",
       "    <tr>\n",
       "      <td>1</td>\n",
       "      <td>2</td>\n",
       "      <td>2020-03-06</td>\n",
       "      <td>76111</td>\n",
       "      <td>Guadalajara de Buga</td>\n",
       "      <td>Valle del Cauca</td>\n",
       "      <td>Recuperado</td>\n",
       "      <td>34</td>\n",
       "      <td>M</td>\n",
       "      <td>Importado</td>\n",
       "      <td>Leve</td>\n",
       "      <td>España</td>\n",
       "      <td>2020-03-04</td>\n",
       "      <td>2020-03-09</td>\n",
       "      <td>2020-03-19</td>\n",
       "      <td>2020-03-09</td>\n",
       "      <td>PCR</td>\n",
       "      <td>NaT</td>\n",
       "      <td>False</td>\n",
       "      <td>True</td>\n",
       "      <td>False</td>\n",
       "    </tr>\n",
       "    <tr>\n",
       "      <td>2</td>\n",
       "      <td>3</td>\n",
       "      <td>2020-03-07</td>\n",
       "      <td>5001</td>\n",
       "      <td>Medellín</td>\n",
       "      <td>Antioquia</td>\n",
       "      <td>Recuperado</td>\n",
       "      <td>50</td>\n",
       "      <td>F</td>\n",
       "      <td>Importado</td>\n",
       "      <td>Leve</td>\n",
       "      <td>España</td>\n",
       "      <td>2020-02-29</td>\n",
       "      <td>2020-03-09</td>\n",
       "      <td>2020-03-15</td>\n",
       "      <td>2020-03-09</td>\n",
       "      <td>PCR</td>\n",
       "      <td>NaT</td>\n",
       "      <td>False</td>\n",
       "      <td>True</td>\n",
       "      <td>False</td>\n",
       "    </tr>\n",
       "    <tr>\n",
       "      <td>3</td>\n",
       "      <td>4</td>\n",
       "      <td>2020-03-09</td>\n",
       "      <td>5001</td>\n",
       "      <td>Medellín</td>\n",
       "      <td>Antioquia</td>\n",
       "      <td>Recuperado</td>\n",
       "      <td>55</td>\n",
       "      <td>M</td>\n",
       "      <td>Relacionado</td>\n",
       "      <td>Leve</td>\n",
       "      <td>Colombia</td>\n",
       "      <td>2020-03-06</td>\n",
       "      <td>2020-03-11</td>\n",
       "      <td>2020-03-26</td>\n",
       "      <td>2020-03-11</td>\n",
       "      <td>PCR</td>\n",
       "      <td>NaT</td>\n",
       "      <td>False</td>\n",
       "      <td>True</td>\n",
       "      <td>False</td>\n",
       "    </tr>\n",
       "    <tr>\n",
       "      <td>4</td>\n",
       "      <td>5</td>\n",
       "      <td>2020-03-09</td>\n",
       "      <td>5001</td>\n",
       "      <td>Medellín</td>\n",
       "      <td>Antioquia</td>\n",
       "      <td>Recuperado</td>\n",
       "      <td>25</td>\n",
       "      <td>M</td>\n",
       "      <td>Relacionado</td>\n",
       "      <td>Leve</td>\n",
       "      <td>Colombia</td>\n",
       "      <td>2020-03-08</td>\n",
       "      <td>2020-03-11</td>\n",
       "      <td>2020-03-23</td>\n",
       "      <td>2020-03-11</td>\n",
       "      <td>PCR</td>\n",
       "      <td>NaT</td>\n",
       "      <td>False</td>\n",
       "      <td>True</td>\n",
       "      <td>False</td>\n",
       "    </tr>\n",
       "  </tbody>\n",
       "</table>\n",
       "</div>"
      ],
      "text/plain": [
       "  ID de caso Fecha de notificación Codigo DIVIPOLA  Ciudad de ubicación  \\\n",
       "0          1            2020-03-02           11001          Bogotá D.C.   \n",
       "1          2            2020-03-06           76111  Guadalajara de Buga   \n",
       "2          3            2020-03-07            5001             Medellín   \n",
       "3          4            2020-03-09            5001             Medellín   \n",
       "4          5            2020-03-09            5001             Medellín   \n",
       "\n",
       "  Departamento o Distrito     atención  Edad Sexo         Tipo Estado  \\\n",
       "0              Bogotá D.C.  Recuperado    19    F    Importado   Leve   \n",
       "1          Valle del Cauca  Recuperado    34    M    Importado   Leve   \n",
       "2                Antioquia  Recuperado    50    F    Importado   Leve   \n",
       "3                Antioquia  Recuperado    55    M  Relacionado   Leve   \n",
       "4                Antioquia  Recuperado    25    M  Relacionado   Leve   \n",
       "\n",
       "  País de procedencia        FIS Fecha diagnostico Fecha recuperado  \\\n",
       "0              Italia 2020-02-27        2020-03-06       2020-03-13   \n",
       "1              España 2020-03-04        2020-03-09       2020-03-19   \n",
       "2              España 2020-02-29        2020-03-09       2020-03-15   \n",
       "3            Colombia 2020-03-06        2020-03-11       2020-03-26   \n",
       "4            Colombia 2020-03-08        2020-03-11       2020-03-23   \n",
       "\n",
       "  fecha reporte web tipo_recuperaci_n Fecha de muerte  Asintomático  \\\n",
       "0        2020-03-06               PCR             NaT         False   \n",
       "1        2020-03-09               PCR             NaT         False   \n",
       "2        2020-03-09               PCR             NaT         False   \n",
       "3        2020-03-11               PCR             NaT         False   \n",
       "4        2020-03-11               PCR             NaT         False   \n",
       "\n",
       "   Recuperado  Fallecido  \n",
       "0        True      False  \n",
       "1        True      False  \n",
       "2        True      False  \n",
       "3        True      False  \n",
       "4        True      False  "
      ]
     },
     "execution_count": 16,
     "metadata": {},
     "output_type": "execute_result"
    }
   ],
   "source": [
    "# Showing the firts rows\n",
    "covid.head()"
   ]
  },
  {
   "cell_type": "code",
   "execution_count": 17,
   "metadata": {},
   "outputs": [
    {
     "data": {
      "text/plain": [
       "(45, 20)"
      ]
     },
     "execution_count": 17,
     "metadata": {},
     "output_type": "execute_result"
    }
   ],
   "source": [
    "# How many observations have null atention\n",
    "covid.loc[ covid[ 'atención' ].isnull() ].shape"
   ]
  },
  {
   "cell_type": "code",
   "execution_count": 18,
   "metadata": {},
   "outputs": [
    {
     "data": {
      "text/plain": [
       "(51, 20)"
      ]
     },
     "execution_count": 18,
     "metadata": {},
     "output_type": "execute_result"
    }
   ],
   "source": [
    "# How many observations have null status\n",
    "covid.loc[ covid[ 'Estado' ].isnull() ].shape"
   ]
  },
  {
   "cell_type": "raw",
   "metadata": {},
   "source": [
    "# Generate a report for a first exploratory analysis\n",
    "profile = ProfileReport( covid, title = 'Pandas Profiling Report', html = { 'style':{'full_width':True}} )"
   ]
  },
  {
   "cell_type": "raw",
   "metadata": {},
   "source": [
    "profile.to_notebook_iframe()"
   ]
  },
  {
   "cell_type": "markdown",
   "metadata": {},
   "source": [
    "# Indicators"
   ]
  },
  {
   "cell_type": "code",
   "execution_count": 19,
   "metadata": {},
   "outputs": [
    {
     "data": {
      "text/plain": [
       "30493"
      ]
     },
     "execution_count": 19,
     "metadata": {},
     "output_type": "execute_result"
    }
   ],
   "source": [
    "covid[ 'ID de caso' ].nunique()"
   ]
  },
  {
   "cell_type": "code",
   "execution_count": 20,
   "metadata": {},
   "outputs": [
    {
     "data": {
      "text/plain": [
       "9645"
      ]
     },
     "execution_count": 20,
     "metadata": {},
     "output_type": "execute_result"
    }
   ],
   "source": [
    "covid.loc[ covid[ 'Recuperado' ] == True ].shape[ 0 ]"
   ]
  },
  {
   "cell_type": "code",
   "execution_count": 21,
   "metadata": {},
   "outputs": [
    {
     "data": {
      "text/plain": [
       "1005"
      ]
     },
     "execution_count": 21,
     "metadata": {},
     "output_type": "execute_result"
    }
   ],
   "source": [
    "covid.loc[ covid[ 'Fallecido' ] == True ].shape[ 0 ]"
   ]
  },
  {
   "cell_type": "code",
   "execution_count": 22,
   "metadata": {},
   "outputs": [
    {
     "data": {
      "text/plain": [
       "1443"
      ]
     },
     "execution_count": 22,
     "metadata": {},
     "output_type": "execute_result"
    }
   ],
   "source": [
    "covid.loc[ ( covid[ 'atención' ] == 'Hospital' ) ].shape[ 0 ]"
   ]
  },
  {
   "cell_type": "code",
   "execution_count": 23,
   "metadata": {},
   "outputs": [
    {
     "data": {
      "text/plain": [
       "289"
      ]
     },
     "execution_count": 23,
     "metadata": {},
     "output_type": "execute_result"
    }
   ],
   "source": [
    "covid.loc[ ( covid[ 'atención' ] == 'Hospital UCI' ) ].shape[ 0 ]"
   ]
  },
  {
   "cell_type": "markdown",
   "metadata": {},
   "source": [
    "# Time series"
   ]
  },
  {
   "cell_type": "code",
   "execution_count": 24,
   "metadata": {},
   "outputs": [
    {
     "data": {
      "text/plain": [
       "<matplotlib.axes._subplots.AxesSubplot at 0x7f62d294a990>"
      ]
     },
     "execution_count": 24,
     "metadata": {},
     "output_type": "execute_result"
    },
    {
     "data": {
      "image/png": "[encoded data removed]",
      "text/plain": [
       "<Figure size 1440x576 with 1 Axes>"
      ]
     },
     "metadata": {
      "needs_background": "light"
     },
     "output_type": "display_data"
    }
   ],
   "source": [
    "# Plotting diagnosed cases by day\n",
    "covid.groupby( [ covid[ 'Fecha diagnostico' ].dt.date ] ).agg( { 'ID de caso': 'count' } ).plot( figsize = ( 20, 8 ) )"
   ]
  },
  {
   "cell_type": "code",
   "execution_count": 25,
   "metadata": {},
   "outputs": [
    {
     "data": {
      "text/plain": [
       "<matplotlib.axes._subplots.AxesSubplot at 0x7f62d29f5b90>"
      ]
     },
     "execution_count": 25,
     "metadata": {},
     "output_type": "execute_result"
    },
    {
     "data": {
      "image/png": "[encoded data removed]",
      "text/plain": [
       "<Figure size 1440x576 with 1 Axes>"
      ]
     },
     "metadata": {
      "needs_background": "light"
     },
     "output_type": "display_data"
    }
   ],
   "source": [
    "# Plotting diagnosed cases by day (cumulative sum)\n",
    "covid.groupby( [ covid[ 'Fecha diagnostico' ].dt.date ] ).agg( { 'ID de caso': 'count' } ).cumsum().plot( figsize = ( 20, 8 ) )"
   ]
  },
  {
   "cell_type": "code",
   "execution_count": 26,
   "metadata": {},
   "outputs": [],
   "source": [
    "# Preparing and merging the groupings in one dataframe\n",
    "\n",
    "diagnosed = covid.groupby( [ covid[ 'Fecha diagnostico' ].dt.date ] ) \\\n",
    "    .agg( { 'ID de caso': 'count' } ) \\\n",
    "    .cumsum() \\\n",
    "    .rename( columns = { 'Fecha diagnostico': 'Fecha', 'ID de caso': 'Diagnosticados' } )\n",
    "\n",
    "recovered = covid.groupby( [ covid[ 'Fecha recuperado' ].dt.date ] )  \\\n",
    "    .agg( { 'ID de caso': 'count' } ) \\\n",
    "    .cumsum() \\\n",
    "    .rename( columns = { 'Fecha recuperado': 'Fecha', 'ID de caso': 'Recuperados' } )\n",
    "\n",
    "deaths = covid.groupby( [ covid[ 'Fecha de muerte' ].dt.date ] )  \\\n",
    "    .agg( { 'ID de caso': 'count' } ) \\\n",
    "    .cumsum() \\\n",
    "    .rename( columns = { 'Fecha de muerte': 'Fecha', 'ID de caso': 'Fallecidos' } )\n",
    "\n",
    "infections = diagnosed.merge( recovered, how = 'outer', left_index = True, right_index = True )\n",
    "infections = infections.merge( deaths, how = 'outer', left_index = True, right_index = True )\n",
    "infections.fillna( 0, inplace = True )"
   ]
  },
  {
   "cell_type": "raw",
   "metadata": {},
   "source": [
    "infections.drop( infections.tail( 1 ).index, inplace = True )"
   ]
  },
  {
   "cell_type": "code",
   "execution_count": 27,
   "metadata": {},
   "outputs": [
    {
     "data": {
      "text/html": [
       "<div>\n",
       "<style scoped>\n",
       "    .dataframe tbody tr th:only-of-type {\n",
       "        vertical-align: middle;\n",
       "    }\n",
       "\n",
       "    .dataframe tbody tr th {\n",
       "        vertical-align: top;\n",
       "    }\n",
       "\n",
       "    .dataframe thead th {\n",
       "        text-align: right;\n",
       "    }\n",
       "</style>\n",
       "<table border=\"1\" class=\"dataframe\">\n",
       "  <thead>\n",
       "    <tr style=\"text-align: right;\">\n",
       "      <th></th>\n",
       "      <th>Diagnosticados</th>\n",
       "      <th>Recuperados</th>\n",
       "      <th>Fallecidos</th>\n",
       "    </tr>\n",
       "  </thead>\n",
       "  <tbody>\n",
       "    <tr>\n",
       "      <td>2020-05-28</td>\n",
       "      <td>25353</td>\n",
       "      <td>7614.0</td>\n",
       "      <td>949.0</td>\n",
       "    </tr>\n",
       "    <tr>\n",
       "      <td>2020-05-29</td>\n",
       "      <td>26676</td>\n",
       "      <td>7700.0</td>\n",
       "      <td>972.0</td>\n",
       "    </tr>\n",
       "    <tr>\n",
       "      <td>2020-05-30</td>\n",
       "      <td>28224</td>\n",
       "      <td>7718.0</td>\n",
       "      <td>994.0</td>\n",
       "    </tr>\n",
       "    <tr>\n",
       "      <td>2020-05-31</td>\n",
       "      <td>29356</td>\n",
       "      <td>9645.0</td>\n",
       "      <td>1005.0</td>\n",
       "    </tr>\n",
       "    <tr>\n",
       "      <td>2020-06-01</td>\n",
       "      <td>30463</td>\n",
       "      <td>0.0</td>\n",
       "      <td>0.0</td>\n",
       "    </tr>\n",
       "  </tbody>\n",
       "</table>\n",
       "</div>"
      ],
      "text/plain": [
       "            Diagnosticados  Recuperados  Fallecidos\n",
       "2020-05-28           25353       7614.0       949.0\n",
       "2020-05-29           26676       7700.0       972.0\n",
       "2020-05-30           28224       7718.0       994.0\n",
       "2020-05-31           29356       9645.0      1005.0\n",
       "2020-06-01           30463          0.0         0.0"
      ]
     },
     "execution_count": 27,
     "metadata": {},
     "output_type": "execute_result"
    }
   ],
   "source": [
    "infections.tail()"
   ]
  },
  {
   "cell_type": "code",
   "execution_count": 28,
   "metadata": {},
   "outputs": [
    {
     "data": {
      "text/plain": [
       "<matplotlib.axes._subplots.AxesSubplot at 0x7f62d25b4f50>"
      ]
     },
     "execution_count": 28,
     "metadata": {},
     "output_type": "execute_result"
    },
    {
     "data": {
      "image/png": "[encoded data removed]",
      "text/plain": [
       "<Figure size 1440x576 with 1 Axes>"
      ]
     },
     "metadata": {
      "needs_background": "light"
     },
     "output_type": "display_data"
    }
   ],
   "source": [
    "# Plotting diagnosed and recovered cases by day\n",
    "infections.plot( figsize = ( 20, 8 ) )"
   ]
  },
  {
   "cell_type": "code",
   "execution_count": 29,
   "metadata": {},
   "outputs": [],
   "source": [
    "# Calculating the difference between diagnosed and recovered cases\n",
    "infections[ 'Casos activos' ] = infections[ 'Diagnosticados' ] - infections[ 'Recuperados' ]"
   ]
  },
  {
   "cell_type": "code",
   "execution_count": 30,
   "metadata": {},
   "outputs": [
    {
     "data": {
      "text/html": [
       "<div>\n",
       "<style scoped>\n",
       "    .dataframe tbody tr th:only-of-type {\n",
       "        vertical-align: middle;\n",
       "    }\n",
       "\n",
       "    .dataframe tbody tr th {\n",
       "        vertical-align: top;\n",
       "    }\n",
       "\n",
       "    .dataframe thead th {\n",
       "        text-align: right;\n",
       "    }\n",
       "</style>\n",
       "<table border=\"1\" class=\"dataframe\">\n",
       "  <thead>\n",
       "    <tr style=\"text-align: right;\">\n",
       "      <th></th>\n",
       "      <th>Diagnosticados</th>\n",
       "      <th>Recuperados</th>\n",
       "      <th>Fallecidos</th>\n",
       "      <th>Casos activos</th>\n",
       "    </tr>\n",
       "  </thead>\n",
       "  <tbody>\n",
       "    <tr>\n",
       "      <td>2020-05-28</td>\n",
       "      <td>25353</td>\n",
       "      <td>7614.0</td>\n",
       "      <td>949.0</td>\n",
       "      <td>17739.0</td>\n",
       "    </tr>\n",
       "    <tr>\n",
       "      <td>2020-05-29</td>\n",
       "      <td>26676</td>\n",
       "      <td>7700.0</td>\n",
       "      <td>972.0</td>\n",
       "      <td>18976.0</td>\n",
       "    </tr>\n",
       "    <tr>\n",
       "      <td>2020-05-30</td>\n",
       "      <td>28224</td>\n",
       "      <td>7718.0</td>\n",
       "      <td>994.0</td>\n",
       "      <td>20506.0</td>\n",
       "    </tr>\n",
       "    <tr>\n",
       "      <td>2020-05-31</td>\n",
       "      <td>29356</td>\n",
       "      <td>9645.0</td>\n",
       "      <td>1005.0</td>\n",
       "      <td>19711.0</td>\n",
       "    </tr>\n",
       "    <tr>\n",
       "      <td>2020-06-01</td>\n",
       "      <td>30463</td>\n",
       "      <td>0.0</td>\n",
       "      <td>0.0</td>\n",
       "      <td>30463.0</td>\n",
       "    </tr>\n",
       "  </tbody>\n",
       "</table>\n",
       "</div>"
      ],
      "text/plain": [
       "            Diagnosticados  Recuperados  Fallecidos  Casos activos\n",
       "2020-05-28           25353       7614.0       949.0        17739.0\n",
       "2020-05-29           26676       7700.0       972.0        18976.0\n",
       "2020-05-30           28224       7718.0       994.0        20506.0\n",
       "2020-05-31           29356       9645.0      1005.0        19711.0\n",
       "2020-06-01           30463          0.0         0.0        30463.0"
      ]
     },
     "execution_count": 30,
     "metadata": {},
     "output_type": "execute_result"
    }
   ],
   "source": [
    "infections.tail()"
   ]
  },
  {
   "cell_type": "code",
   "execution_count": 31,
   "metadata": {},
   "outputs": [
    {
     "data": {
      "text/plain": [
       "<matplotlib.axes._subplots.AxesSubplot at 0x7f62d4003fd0>"
      ]
     },
     "execution_count": 31,
     "metadata": {},
     "output_type": "execute_result"
    },
    {
     "data": {
      "image/png": "[encoded data removed]",
      "text/plain": [
       "<Figure size 1440x576 with 1 Axes>"
      ]
     },
     "metadata": {
      "needs_background": "light"
     },
     "output_type": "display_data"
    }
   ],
   "source": [
    "# Plotting difference cases by day\n",
    "infections[ 'Casos activos' ].plot( figsize = ( 20, 8 ) )"
   ]
  },
  {
   "cell_type": "markdown",
   "metadata": {},
   "source": [
    "# Geo"
   ]
  },
  {
   "cell_type": "code",
   "execution_count": 32,
   "metadata": {},
   "outputs": [
    {
     "data": {
      "text/html": [
       "<div>\n",
       "<style scoped>\n",
       "    .dataframe tbody tr th:only-of-type {\n",
       "        vertical-align: middle;\n",
       "    }\n",
       "\n",
       "    .dataframe tbody tr th {\n",
       "        vertical-align: top;\n",
       "    }\n",
       "\n",
       "    .dataframe thead th {\n",
       "        text-align: right;\n",
       "    }\n",
       "</style>\n",
       "<table border=\"1\" class=\"dataframe\">\n",
       "  <thead>\n",
       "    <tr style=\"text-align: right;\">\n",
       "      <th></th>\n",
       "      <th>ID de caso</th>\n",
       "      <th>Fecha de notificación</th>\n",
       "      <th>Codigo DIVIPOLA</th>\n",
       "      <th>Ciudad de ubicación</th>\n",
       "      <th>Departamento o Distrito</th>\n",
       "      <th>atención</th>\n",
       "      <th>Edad</th>\n",
       "      <th>Sexo</th>\n",
       "      <th>Tipo</th>\n",
       "      <th>Estado</th>\n",
       "      <th>País de procedencia</th>\n",
       "      <th>FIS</th>\n",
       "      <th>Fecha diagnostico</th>\n",
       "      <th>Fecha recuperado</th>\n",
       "      <th>fecha reporte web</th>\n",
       "      <th>tipo_recuperaci_n</th>\n",
       "      <th>Fecha de muerte</th>\n",
       "      <th>Asintomático</th>\n",
       "      <th>Recuperado</th>\n",
       "      <th>Fallecido</th>\n",
       "    </tr>\n",
       "  </thead>\n",
       "  <tbody>\n",
       "    <tr>\n",
       "      <td>0</td>\n",
       "      <td>1</td>\n",
       "      <td>2020-03-02</td>\n",
       "      <td>11001</td>\n",
       "      <td>Bogotá D.C.</td>\n",
       "      <td>Bogotá D.C.</td>\n",
       "      <td>Recuperado</td>\n",
       "      <td>19</td>\n",
       "      <td>F</td>\n",
       "      <td>Importado</td>\n",
       "      <td>Leve</td>\n",
       "      <td>Italia</td>\n",
       "      <td>2020-02-27</td>\n",
       "      <td>2020-03-06</td>\n",
       "      <td>2020-03-13</td>\n",
       "      <td>2020-03-06</td>\n",
       "      <td>PCR</td>\n",
       "      <td>NaT</td>\n",
       "      <td>False</td>\n",
       "      <td>True</td>\n",
       "      <td>False</td>\n",
       "    </tr>\n",
       "    <tr>\n",
       "      <td>1</td>\n",
       "      <td>2</td>\n",
       "      <td>2020-03-06</td>\n",
       "      <td>76111</td>\n",
       "      <td>Guadalajara de Buga</td>\n",
       "      <td>Valle del Cauca</td>\n",
       "      <td>Recuperado</td>\n",
       "      <td>34</td>\n",
       "      <td>M</td>\n",
       "      <td>Importado</td>\n",
       "      <td>Leve</td>\n",
       "      <td>España</td>\n",
       "      <td>2020-03-04</td>\n",
       "      <td>2020-03-09</td>\n",
       "      <td>2020-03-19</td>\n",
       "      <td>2020-03-09</td>\n",
       "      <td>PCR</td>\n",
       "      <td>NaT</td>\n",
       "      <td>False</td>\n",
       "      <td>True</td>\n",
       "      <td>False</td>\n",
       "    </tr>\n",
       "    <tr>\n",
       "      <td>2</td>\n",
       "      <td>3</td>\n",
       "      <td>2020-03-07</td>\n",
       "      <td>5001</td>\n",
       "      <td>Medellín</td>\n",
       "      <td>Antioquia</td>\n",
       "      <td>Recuperado</td>\n",
       "      <td>50</td>\n",
       "      <td>F</td>\n",
       "      <td>Importado</td>\n",
       "      <td>Leve</td>\n",
       "      <td>España</td>\n",
       "      <td>2020-02-29</td>\n",
       "      <td>2020-03-09</td>\n",
       "      <td>2020-03-15</td>\n",
       "      <td>2020-03-09</td>\n",
       "      <td>PCR</td>\n",
       "      <td>NaT</td>\n",
       "      <td>False</td>\n",
       "      <td>True</td>\n",
       "      <td>False</td>\n",
       "    </tr>\n",
       "    <tr>\n",
       "      <td>3</td>\n",
       "      <td>4</td>\n",
       "      <td>2020-03-09</td>\n",
       "      <td>5001</td>\n",
       "      <td>Medellín</td>\n",
       "      <td>Antioquia</td>\n",
       "      <td>Recuperado</td>\n",
       "      <td>55</td>\n",
       "      <td>M</td>\n",
       "      <td>Relacionado</td>\n",
       "      <td>Leve</td>\n",
       "      <td>Colombia</td>\n",
       "      <td>2020-03-06</td>\n",
       "      <td>2020-03-11</td>\n",
       "      <td>2020-03-26</td>\n",
       "      <td>2020-03-11</td>\n",
       "      <td>PCR</td>\n",
       "      <td>NaT</td>\n",
       "      <td>False</td>\n",
       "      <td>True</td>\n",
       "      <td>False</td>\n",
       "    </tr>\n",
       "    <tr>\n",
       "      <td>4</td>\n",
       "      <td>5</td>\n",
       "      <td>2020-03-09</td>\n",
       "      <td>5001</td>\n",
       "      <td>Medellín</td>\n",
       "      <td>Antioquia</td>\n",
       "      <td>Recuperado</td>\n",
       "      <td>25</td>\n",
       "      <td>M</td>\n",
       "      <td>Relacionado</td>\n",
       "      <td>Leve</td>\n",
       "      <td>Colombia</td>\n",
       "      <td>2020-03-08</td>\n",
       "      <td>2020-03-11</td>\n",
       "      <td>2020-03-23</td>\n",
       "      <td>2020-03-11</td>\n",
       "      <td>PCR</td>\n",
       "      <td>NaT</td>\n",
       "      <td>False</td>\n",
       "      <td>True</td>\n",
       "      <td>False</td>\n",
       "    </tr>\n",
       "  </tbody>\n",
       "</table>\n",
       "</div>"
      ],
      "text/plain": [
       "  ID de caso Fecha de notificación Codigo DIVIPOLA  Ciudad de ubicación  \\\n",
       "0          1            2020-03-02           11001          Bogotá D.C.   \n",
       "1          2            2020-03-06           76111  Guadalajara de Buga   \n",
       "2          3            2020-03-07            5001             Medellín   \n",
       "3          4            2020-03-09            5001             Medellín   \n",
       "4          5            2020-03-09            5001             Medellín   \n",
       "\n",
       "  Departamento o Distrito     atención  Edad Sexo         Tipo Estado  \\\n",
       "0              Bogotá D.C.  Recuperado    19    F    Importado   Leve   \n",
       "1          Valle del Cauca  Recuperado    34    M    Importado   Leve   \n",
       "2                Antioquia  Recuperado    50    F    Importado   Leve   \n",
       "3                Antioquia  Recuperado    55    M  Relacionado   Leve   \n",
       "4                Antioquia  Recuperado    25    M  Relacionado   Leve   \n",
       "\n",
       "  País de procedencia        FIS Fecha diagnostico Fecha recuperado  \\\n",
       "0              Italia 2020-02-27        2020-03-06       2020-03-13   \n",
       "1              España 2020-03-04        2020-03-09       2020-03-19   \n",
       "2              España 2020-02-29        2020-03-09       2020-03-15   \n",
       "3            Colombia 2020-03-06        2020-03-11       2020-03-26   \n",
       "4            Colombia 2020-03-08        2020-03-11       2020-03-23   \n",
       "\n",
       "  fecha reporte web tipo_recuperaci_n Fecha de muerte  Asintomático  \\\n",
       "0        2020-03-06               PCR             NaT         False   \n",
       "1        2020-03-09               PCR             NaT         False   \n",
       "2        2020-03-09               PCR             NaT         False   \n",
       "3        2020-03-11               PCR             NaT         False   \n",
       "4        2020-03-11               PCR             NaT         False   \n",
       "\n",
       "   Recuperado  Fallecido  \n",
       "0        True      False  \n",
       "1        True      False  \n",
       "2        True      False  \n",
       "3        True      False  \n",
       "4        True      False  "
      ]
     },
     "execution_count": 32,
     "metadata": {},
     "output_type": "execute_result"
    }
   ],
   "source": [
    "covid.head()"
   ]
  },
  {
   "cell_type": "code",
   "execution_count": 33,
   "metadata": {},
   "outputs": [
    {
     "data": {
      "text/plain": [
       "Casa            18086\n",
       "Recuperado       9661\n",
       "Hospital         1443\n",
       "Fallecido         969\n",
       "Hospital UCI      289\n",
       "NaN                45\n",
       "Name: atención, dtype: int64"
      ]
     },
     "execution_count": 33,
     "metadata": {},
     "output_type": "execute_result"
    }
   ],
   "source": [
    "covid[ 'atención' ].value_counts( dropna = False )"
   ]
  },
  {
   "cell_type": "code",
   "execution_count": 34,
   "metadata": {},
   "outputs": [],
   "source": [
    "def extract_depto( x ):\n",
    "    x = str( x )[ :-3 ]\n",
    "    try:\n",
    "        return int( x )\n",
    "    except:\n",
    "        return 0\n",
    "    \n",
    "covid[ 'codigo_departamento' ] = covid[ 'Codigo DIVIPOLA' ].apply( lambda x: extract_depto( x ) )"
   ]
  },
  {
   "cell_type": "code",
   "execution_count": 35,
   "metadata": {},
   "outputs": [],
   "source": [
    "cases_by_depto = covid.loc[ ~covid[ 'atención' ].isin( [ 'Recuperado', 'Fallecido' ] ) ].groupby( 'codigo_departamento' ).agg( { 'ID de caso': 'count' } ).reset_index().rename( columns = { 'ID de caso': 'Casos' } )"
   ]
  },
  {
   "cell_type": "code",
   "execution_count": 36,
   "metadata": {},
   "outputs": [
    {
     "data": {
      "text/html": [
       "<div>\n",
       "<style scoped>\n",
       "    .dataframe tbody tr th:only-of-type {\n",
       "        vertical-align: middle;\n",
       "    }\n",
       "\n",
       "    .dataframe tbody tr th {\n",
       "        vertical-align: top;\n",
       "    }\n",
       "\n",
       "    .dataframe thead th {\n",
       "        text-align: right;\n",
       "    }\n",
       "</style>\n",
       "<table border=\"1\" class=\"dataframe\">\n",
       "  <thead>\n",
       "    <tr style=\"text-align: right;\">\n",
       "      <th></th>\n",
       "      <th>codigo_departamento</th>\n",
       "      <th>Casos</th>\n",
       "    </tr>\n",
       "  </thead>\n",
       "  <tbody>\n",
       "    <tr>\n",
       "      <td>0</td>\n",
       "      <td>5</td>\n",
       "      <td>674</td>\n",
       "    </tr>\n",
       "    <tr>\n",
       "      <td>1</td>\n",
       "      <td>8</td>\n",
       "      <td>3176</td>\n",
       "    </tr>\n",
       "    <tr>\n",
       "      <td>2</td>\n",
       "      <td>11</td>\n",
       "      <td>6397</td>\n",
       "    </tr>\n",
       "    <tr>\n",
       "      <td>3</td>\n",
       "      <td>13</td>\n",
       "      <td>2507</td>\n",
       "    </tr>\n",
       "    <tr>\n",
       "      <td>4</td>\n",
       "      <td>15</td>\n",
       "      <td>113</td>\n",
       "    </tr>\n",
       "  </tbody>\n",
       "</table>\n",
       "</div>"
      ],
      "text/plain": [
       "   codigo_departamento  Casos\n",
       "0                    5    674\n",
       "1                    8   3176\n",
       "2                   11   6397\n",
       "3                   13   2507\n",
       "4                   15    113"
      ]
     },
     "execution_count": 36,
     "metadata": {},
     "output_type": "execute_result"
    }
   ],
   "source": [
    "cases_by_depto.head()"
   ]
  },
  {
   "cell_type": "code",
   "execution_count": 37,
   "metadata": {},
   "outputs": [],
   "source": [
    "departamentos = gpd.read_file( './data/geo/colombia/departamentos.json' )"
   ]
  },
  {
   "cell_type": "code",
   "execution_count": 38,
   "metadata": {},
   "outputs": [
    {
     "data": {
      "text/html": [
       "<div>\n",
       "<style scoped>\n",
       "    .dataframe tbody tr th:only-of-type {\n",
       "        vertical-align: middle;\n",
       "    }\n",
       "\n",
       "    .dataframe tbody tr th {\n",
       "        vertical-align: top;\n",
       "    }\n",
       "\n",
       "    .dataframe thead th {\n",
       "        text-align: right;\n",
       "    }\n",
       "</style>\n",
       "<table border=\"1\" class=\"dataframe\">\n",
       "  <thead>\n",
       "    <tr style=\"text-align: right;\">\n",
       "      <th></th>\n",
       "      <th>departamento</th>\n",
       "      <th>codigo_departamento</th>\n",
       "      <th>geometry</th>\n",
       "    </tr>\n",
       "  </thead>\n",
       "  <tbody>\n",
       "    <tr>\n",
       "      <td>0</td>\n",
       "      <td>SAN ANDRÉS PROVIDENCIA Y SANTA CATALINA</td>\n",
       "      <td>88</td>\n",
       "      <td>MULTIPOLYGON (((-81.70399 12.59487, -81.70394 ...</td>\n",
       "    </tr>\n",
       "    <tr>\n",
       "      <td>1</td>\n",
       "      <td>CAUCA</td>\n",
       "      <td>19</td>\n",
       "      <td>MULTIPOLYGON (((-76.44619 3.31639, -76.44597 3...</td>\n",
       "    </tr>\n",
       "    <tr>\n",
       "      <td>2</td>\n",
       "      <td>VALLE DEL CAUCA</td>\n",
       "      <td>76</td>\n",
       "      <td>MULTIPOLYGON (((-76.08076 5.04322, -76.08033 5...</td>\n",
       "    </tr>\n",
       "    <tr>\n",
       "      <td>3</td>\n",
       "      <td>ATLÁNTICO</td>\n",
       "      <td>8</td>\n",
       "      <td>MULTIPOLYGON (((-74.83855 11.06027, -74.83297 ...</td>\n",
       "    </tr>\n",
       "    <tr>\n",
       "      <td>4</td>\n",
       "      <td>RISARALDA</td>\n",
       "      <td>66</td>\n",
       "      <td>MULTIPOLYGON (((-76.00825 5.56368, -76.00765 5...</td>\n",
       "    </tr>\n",
       "  </tbody>\n",
       "</table>\n",
       "</div>"
      ],
      "text/plain": [
       "                              departamento  codigo_departamento  \\\n",
       "0  SAN ANDRÉS PROVIDENCIA Y SANTA CATALINA                   88   \n",
       "1                                    CAUCA                   19   \n",
       "2                          VALLE DEL CAUCA                   76   \n",
       "3                                ATLÁNTICO                    8   \n",
       "4                                RISARALDA                   66   \n",
       "\n",
       "                                            geometry  \n",
       "0  MULTIPOLYGON (((-81.70399 12.59487, -81.70394 ...  \n",
       "1  MULTIPOLYGON (((-76.44619 3.31639, -76.44597 3...  \n",
       "2  MULTIPOLYGON (((-76.08076 5.04322, -76.08033 5...  \n",
       "3  MULTIPOLYGON (((-74.83855 11.06027, -74.83297 ...  \n",
       "4  MULTIPOLYGON (((-76.00825 5.56368, -76.00765 5...  "
      ]
     },
     "execution_count": 38,
     "metadata": {},
     "output_type": "execute_result"
    }
   ],
   "source": [
    "departamentos.head()"
   ]
  },
  {
   "cell_type": "code",
   "execution_count": 39,
   "metadata": {},
   "outputs": [],
   "source": [
    "cases_by_depto = departamentos.merge( cases_by_depto, how = 'left', on = 'codigo_departamento' )\n",
    "cases_by_depto[ 'Casos' ] = cases_by_depto[ 'Casos' ].fillna( 0 )"
   ]
  },
  {
   "cell_type": "code",
   "execution_count": 40,
   "metadata": {},
   "outputs": [
    {
     "data": {
      "text/html": [
       "<div>\n",
       "<style scoped>\n",
       "    .dataframe tbody tr th:only-of-type {\n",
       "        vertical-align: middle;\n",
       "    }\n",
       "\n",
       "    .dataframe tbody tr th {\n",
       "        vertical-align: top;\n",
       "    }\n",
       "\n",
       "    .dataframe thead th {\n",
       "        text-align: right;\n",
       "    }\n",
       "</style>\n",
       "<table border=\"1\" class=\"dataframe\">\n",
       "  <thead>\n",
       "    <tr style=\"text-align: right;\">\n",
       "      <th></th>\n",
       "      <th>departamento</th>\n",
       "      <th>codigo_departamento</th>\n",
       "      <th>geometry</th>\n",
       "      <th>Casos</th>\n",
       "    </tr>\n",
       "  </thead>\n",
       "  <tbody>\n",
       "    <tr>\n",
       "      <td>0</td>\n",
       "      <td>SAN ANDRÉS PROVIDENCIA Y SANTA CATALINA</td>\n",
       "      <td>88</td>\n",
       "      <td>MULTIPOLYGON (((-81.70399 12.59487, -81.70394 ...</td>\n",
       "      <td>2.0</td>\n",
       "    </tr>\n",
       "    <tr>\n",
       "      <td>1</td>\n",
       "      <td>CAUCA</td>\n",
       "      <td>19</td>\n",
       "      <td>MULTIPOLYGON (((-76.44619 3.31639, -76.44597 3...</td>\n",
       "      <td>52.0</td>\n",
       "    </tr>\n",
       "    <tr>\n",
       "      <td>2</td>\n",
       "      <td>VALLE DEL CAUCA</td>\n",
       "      <td>76</td>\n",
       "      <td>MULTIPOLYGON (((-76.08076 5.04322, -76.08033 5...</td>\n",
       "      <td>2270.0</td>\n",
       "    </tr>\n",
       "    <tr>\n",
       "      <td>3</td>\n",
       "      <td>ATLÁNTICO</td>\n",
       "      <td>8</td>\n",
       "      <td>MULTIPOLYGON (((-74.83855 11.06027, -74.83297 ...</td>\n",
       "      <td>3176.0</td>\n",
       "    </tr>\n",
       "    <tr>\n",
       "      <td>4</td>\n",
       "      <td>RISARALDA</td>\n",
       "      <td>66</td>\n",
       "      <td>MULTIPOLYGON (((-76.00825 5.56368, -76.00765 5...</td>\n",
       "      <td>22.0</td>\n",
       "    </tr>\n",
       "  </tbody>\n",
       "</table>\n",
       "</div>"
      ],
      "text/plain": [
       "                              departamento  codigo_departamento  \\\n",
       "0  SAN ANDRÉS PROVIDENCIA Y SANTA CATALINA                   88   \n",
       "1                                    CAUCA                   19   \n",
       "2                          VALLE DEL CAUCA                   76   \n",
       "3                                ATLÁNTICO                    8   \n",
       "4                                RISARALDA                   66   \n",
       "\n",
       "                                            geometry   Casos  \n",
       "0  MULTIPOLYGON (((-81.70399 12.59487, -81.70394 ...     2.0  \n",
       "1  MULTIPOLYGON (((-76.44619 3.31639, -76.44597 3...    52.0  \n",
       "2  MULTIPOLYGON (((-76.08076 5.04322, -76.08033 5...  2270.0  \n",
       "3  MULTIPOLYGON (((-74.83855 11.06027, -74.83297 ...  3176.0  \n",
       "4  MULTIPOLYGON (((-76.00825 5.56368, -76.00765 5...    22.0  "
      ]
     },
     "execution_count": 40,
     "metadata": {},
     "output_type": "execute_result"
    }
   ],
   "source": [
    "cases_by_depto.head()"
   ]
  },
  {
   "cell_type": "code",
   "execution_count": 41,
   "metadata": {},
   "outputs": [],
   "source": [
    "# Removing San Andrés\n",
    "cases_by_depto = cases_by_depto.drop( [ 0 ] )"
   ]
  },
  {
   "cell_type": "code",
   "execution_count": 42,
   "metadata": {},
   "outputs": [
    {
     "name": "stderr",
     "output_type": "stream",
     "text": [
      "ERROR:fiona._env:./colombia-map/departamentos.json: No such file or directory\n",
      "WARNING:fiona._env:driver GeoJSON does not support creation option ENCODING\n"
     ]
    }
   ],
   "source": [
    "cases_by_depto.to_file( './colombia-map/departamentos.json', driver ='GeoJSON' )"
   ]
  },
  {
   "cell_type": "code",
   "execution_count": null,
   "metadata": {},
   "outputs": [],
   "source": []
  },
  {
   "cell_type": "code",
   "execution_count": null,
   "metadata": {},
   "outputs": [],
   "source": []
  },
  {
   "cell_type": "code",
   "execution_count": null,
   "metadata": {},
   "outputs": [],
   "source": []
  },
  {
   "cell_type": "code",
   "execution_count": 43,
   "metadata": {},
   "outputs": [],
   "source": [
    "covid.rename( columns = { 'Fecha diagnostico': 'Fecha de diagnóstico', 'Ciudad de ubicación': 'Ciudad de residencia', 'Tipo': 'Tipo de caso', 'atención': 'Ubicación' }, inplace = True )"
   ]
  },
  {
   "cell_type": "code",
   "execution_count": 44,
   "metadata": {},
   "outputs": [],
   "source": [
    "def get_age_group( x ):\n",
    "    if x <= 19:\n",
    "        return '0 - 19'\n",
    "    elif x > 19 and x <= 39:\n",
    "        return '20 - 39'\n",
    "    elif x > 39 and x <= 59:\n",
    "        return '40 - 59'\n",
    "    elif x > 59 and x <= 79:\n",
    "        return '60 - 79'\n",
    "    elif x > 79:\n",
    "          return '80+'\n",
    "    else:\n",
    "        return None\n",
    "\n",
    "covid[ 'Grupo de edad' ] = covid[ 'Edad' ].apply( get_age_group )"
   ]
  },
  {
   "cell_type": "code",
   "execution_count": 45,
   "metadata": {},
   "outputs": [],
   "source": [
    "covid[ 'Localidad de residencia' ] = None"
   ]
  },
  {
   "cell_type": "code",
   "execution_count": 46,
   "metadata": {},
   "outputs": [],
   "source": [
    "columns = [ 'ID de caso', 'Fecha de diagnóstico', 'Ciudad de residencia', 'Localidad de residencia', 'Edad', 'Sexo', 'Tipo de caso', 'Ubicación', 'Estado', 'Grupo de edad' ]"
   ]
  },
  {
   "cell_type": "code",
   "execution_count": 47,
   "metadata": {},
   "outputs": [],
   "source": [
    "covid = covid[ columns ]"
   ]
  },
  {
   "cell_type": "markdown",
   "metadata": {},
   "source": [
    "# Barranquilla"
   ]
  },
  {
   "cell_type": "code",
   "execution_count": 49,
   "metadata": {},
   "outputs": [],
   "source": [
    "barranquilla = covid.loc[ covid[ 'Ciudad de residencia' ] == 'Barranquilla' ]"
   ]
  },
  {
   "cell_type": "code",
   "execution_count": 50,
   "metadata": {},
   "outputs": [
    {
     "data": {
      "text/plain": [
       "(2121, 10)"
      ]
     },
     "execution_count": 50,
     "metadata": {},
     "output_type": "execute_result"
    }
   ],
   "source": [
    "barranquilla.shape"
   ]
  },
  {
   "cell_type": "code",
   "execution_count": 51,
   "metadata": {},
   "outputs": [
    {
     "data": {
      "text/plain": [
       "ID de caso                         object\n",
       "Fecha de diagnóstico       datetime64[ns]\n",
       "Ciudad de residencia               object\n",
       "Localidad de residencia            object\n",
       "Edad                                int64\n",
       "Sexo                               object\n",
       "Tipo de caso                       object\n",
       "Ubicación                          object\n",
       "Estado                             object\n",
       "Grupo de edad                      object\n",
       "dtype: object"
      ]
     },
     "execution_count": 51,
     "metadata": {},
     "output_type": "execute_result"
    }
   ],
   "source": [
    "barranquilla.dtypes"
   ]
  },
  {
   "cell_type": "code",
   "execution_count": 52,
   "metadata": {},
   "outputs": [
    {
     "data": {
      "text/html": [
       "<div>\n",
       "<style scoped>\n",
       "    .dataframe tbody tr th:only-of-type {\n",
       "        vertical-align: middle;\n",
       "    }\n",
       "\n",
       "    .dataframe tbody tr th {\n",
       "        vertical-align: top;\n",
       "    }\n",
       "\n",
       "    .dataframe thead th {\n",
       "        text-align: right;\n",
       "    }\n",
       "</style>\n",
       "<table border=\"1\" class=\"dataframe\">\n",
       "  <thead>\n",
       "    <tr style=\"text-align: right;\">\n",
       "      <th></th>\n",
       "      <th>ID de caso</th>\n",
       "      <th>Fecha de diagnóstico</th>\n",
       "      <th>Ciudad de residencia</th>\n",
       "      <th>Localidad de residencia</th>\n",
       "      <th>Edad</th>\n",
       "      <th>Sexo</th>\n",
       "      <th>Tipo de caso</th>\n",
       "      <th>Ubicación</th>\n",
       "      <th>Estado</th>\n",
       "      <th>Grupo de edad</th>\n",
       "    </tr>\n",
       "  </thead>\n",
       "  <tbody>\n",
       "    <tr>\n",
       "      <td>29938</td>\n",
       "      <td>29979</td>\n",
       "      <td>2020-06-01</td>\n",
       "      <td>Barranquilla</td>\n",
       "      <td>None</td>\n",
       "      <td>36</td>\n",
       "      <td>F</td>\n",
       "      <td>En estudio</td>\n",
       "      <td>Casa</td>\n",
       "      <td>Leve</td>\n",
       "      <td>20 - 39</td>\n",
       "    </tr>\n",
       "    <tr>\n",
       "      <td>29939</td>\n",
       "      <td>29980</td>\n",
       "      <td>2020-06-01</td>\n",
       "      <td>Barranquilla</td>\n",
       "      <td>None</td>\n",
       "      <td>65</td>\n",
       "      <td>F</td>\n",
       "      <td>En estudio</td>\n",
       "      <td>Casa</td>\n",
       "      <td>Leve</td>\n",
       "      <td>60 - 79</td>\n",
       "    </tr>\n",
       "    <tr>\n",
       "      <td>29940</td>\n",
       "      <td>29981</td>\n",
       "      <td>2020-06-01</td>\n",
       "      <td>Barranquilla</td>\n",
       "      <td>None</td>\n",
       "      <td>38</td>\n",
       "      <td>F</td>\n",
       "      <td>En estudio</td>\n",
       "      <td>Casa</td>\n",
       "      <td>Leve</td>\n",
       "      <td>20 - 39</td>\n",
       "    </tr>\n",
       "    <tr>\n",
       "      <td>29941</td>\n",
       "      <td>29982</td>\n",
       "      <td>2020-06-01</td>\n",
       "      <td>Barranquilla</td>\n",
       "      <td>None</td>\n",
       "      <td>49</td>\n",
       "      <td>M</td>\n",
       "      <td>En estudio</td>\n",
       "      <td>Casa</td>\n",
       "      <td>Leve</td>\n",
       "      <td>40 - 59</td>\n",
       "    </tr>\n",
       "    <tr>\n",
       "      <td>29942</td>\n",
       "      <td>29983</td>\n",
       "      <td>2020-06-01</td>\n",
       "      <td>Barranquilla</td>\n",
       "      <td>None</td>\n",
       "      <td>49</td>\n",
       "      <td>M</td>\n",
       "      <td>En estudio</td>\n",
       "      <td>Casa</td>\n",
       "      <td>Leve</td>\n",
       "      <td>40 - 59</td>\n",
       "    </tr>\n",
       "  </tbody>\n",
       "</table>\n",
       "</div>"
      ],
      "text/plain": [
       "      ID de caso Fecha de diagnóstico Ciudad de residencia  \\\n",
       "29938      29979           2020-06-01         Barranquilla   \n",
       "29939      29980           2020-06-01         Barranquilla   \n",
       "29940      29981           2020-06-01         Barranquilla   \n",
       "29941      29982           2020-06-01         Barranquilla   \n",
       "29942      29983           2020-06-01         Barranquilla   \n",
       "\n",
       "      Localidad de residencia  Edad Sexo Tipo de caso Ubicación Estado  \\\n",
       "29938                    None    36    F   En estudio      Casa   Leve   \n",
       "29939                    None    65    F   En estudio      Casa   Leve   \n",
       "29940                    None    38    F   En estudio      Casa   Leve   \n",
       "29941                    None    49    M   En estudio      Casa   Leve   \n",
       "29942                    None    49    M   En estudio      Casa   Leve   \n",
       "\n",
       "      Grupo de edad  \n",
       "29938       20 - 39  \n",
       "29939       60 - 79  \n",
       "29940       20 - 39  \n",
       "29941       40 - 59  \n",
       "29942       40 - 59  "
      ]
     },
     "execution_count": 52,
     "metadata": {},
     "output_type": "execute_result"
    }
   ],
   "source": [
    "barranquilla.tail()"
   ]
  },
  {
   "cell_type": "code",
   "execution_count": 89,
   "metadata": {},
   "outputs": [
    {
     "data": {
      "text/plain": [
       "Casa            1550\n",
       "Recuperado       400\n",
       "Hospital          79\n",
       "Fallecido         68\n",
       "Hospital UCI      21\n",
       "NaN                3\n",
       "Name: Ubicación, dtype: int64"
      ]
     },
     "execution_count": 89,
     "metadata": {},
     "output_type": "execute_result"
    }
   ],
   "source": [
    "barranquilla[ 'Ubicación' ].value_counts( dropna = False )"
   ]
  },
  {
   "cell_type": "code",
   "execution_count": 93,
   "metadata": {},
   "outputs": [
    {
     "data": {
      "text/plain": [
       "(1653, 10)"
      ]
     },
     "execution_count": 93,
     "metadata": {},
     "output_type": "execute_result"
    }
   ],
   "source": [
    "barranquilla.loc[ ~barranquilla[ 'Ubicación' ].isin( [ 'Recuperado', 'Fallecido' ] ) ].shape"
   ]
  },
  {
   "cell_type": "code",
   "execution_count": 85,
   "metadata": {},
   "outputs": [
    {
     "data": {
      "text/html": [
       "<div>\n",
       "<style scoped>\n",
       "    .dataframe tbody tr th:only-of-type {\n",
       "        vertical-align: middle;\n",
       "    }\n",
       "\n",
       "    .dataframe tbody tr th {\n",
       "        vertical-align: top;\n",
       "    }\n",
       "\n",
       "    .dataframe thead th {\n",
       "        text-align: right;\n",
       "    }\n",
       "</style>\n",
       "<table border=\"1\" class=\"dataframe\">\n",
       "  <thead>\n",
       "    <tr style=\"text-align: right;\">\n",
       "      <th></th>\n",
       "      <th>ID de caso</th>\n",
       "      <th>Fecha de diagnóstico</th>\n",
       "      <th>Ciudad de residencia</th>\n",
       "      <th>Localidad de residencia</th>\n",
       "      <th>Edad</th>\n",
       "      <th>Sexo</th>\n",
       "      <th>Tipo de caso</th>\n",
       "      <th>Ubicación</th>\n",
       "      <th>Estado</th>\n",
       "      <th>Grupo de edad</th>\n",
       "    </tr>\n",
       "  </thead>\n",
       "  <tbody>\n",
       "    <tr>\n",
       "      <td>8235</td>\n",
       "      <td>8276</td>\n",
       "      <td>2020-05-05</td>\n",
       "      <td>Barranquilla</td>\n",
       "      <td>None</td>\n",
       "      <td>57</td>\n",
       "      <td>M</td>\n",
       "      <td>En estudio</td>\n",
       "      <td>Hospital UCI</td>\n",
       "      <td>Grave</td>\n",
       "      <td>40 - 59</td>\n",
       "    </tr>\n",
       "    <tr>\n",
       "      <td>10261</td>\n",
       "      <td>10302</td>\n",
       "      <td>2020-05-09</td>\n",
       "      <td>Barranquilla</td>\n",
       "      <td>None</td>\n",
       "      <td>32</td>\n",
       "      <td>M</td>\n",
       "      <td>En estudio</td>\n",
       "      <td>Hospital UCI</td>\n",
       "      <td>Grave</td>\n",
       "      <td>20 - 39</td>\n",
       "    </tr>\n",
       "    <tr>\n",
       "      <td>12387</td>\n",
       "      <td>12428</td>\n",
       "      <td>2020-05-13</td>\n",
       "      <td>Barranquilla</td>\n",
       "      <td>None</td>\n",
       "      <td>65</td>\n",
       "      <td>F</td>\n",
       "      <td>En estudio</td>\n",
       "      <td>Hospital UCI</td>\n",
       "      <td>Grave</td>\n",
       "      <td>60 - 79</td>\n",
       "    </tr>\n",
       "    <tr>\n",
       "      <td>13046</td>\n",
       "      <td>13087</td>\n",
       "      <td>2020-05-14</td>\n",
       "      <td>Barranquilla</td>\n",
       "      <td>None</td>\n",
       "      <td>54</td>\n",
       "      <td>M</td>\n",
       "      <td>En estudio</td>\n",
       "      <td>Hospital UCI</td>\n",
       "      <td>Grave</td>\n",
       "      <td>40 - 59</td>\n",
       "    </tr>\n",
       "    <tr>\n",
       "      <td>15249</td>\n",
       "      <td>15290</td>\n",
       "      <td>2020-05-17</td>\n",
       "      <td>Barranquilla</td>\n",
       "      <td>None</td>\n",
       "      <td>82</td>\n",
       "      <td>M</td>\n",
       "      <td>En estudio</td>\n",
       "      <td>Hospital UCI</td>\n",
       "      <td>Grave</td>\n",
       "      <td>80+</td>\n",
       "    </tr>\n",
       "    <tr>\n",
       "      <td>18144</td>\n",
       "      <td>18185</td>\n",
       "      <td>2020-05-21</td>\n",
       "      <td>Barranquilla</td>\n",
       "      <td>None</td>\n",
       "      <td>73</td>\n",
       "      <td>M</td>\n",
       "      <td>En estudio</td>\n",
       "      <td>Hospital UCI</td>\n",
       "      <td>Grave</td>\n",
       "      <td>60 - 79</td>\n",
       "    </tr>\n",
       "    <tr>\n",
       "      <td>19241</td>\n",
       "      <td>19282</td>\n",
       "      <td>2020-05-23</td>\n",
       "      <td>Barranquilla</td>\n",
       "      <td>None</td>\n",
       "      <td>36</td>\n",
       "      <td>F</td>\n",
       "      <td>En estudio</td>\n",
       "      <td>Hospital UCI</td>\n",
       "      <td>Grave</td>\n",
       "      <td>20 - 39</td>\n",
       "    </tr>\n",
       "    <tr>\n",
       "      <td>19376</td>\n",
       "      <td>19417</td>\n",
       "      <td>2020-05-23</td>\n",
       "      <td>Barranquilla</td>\n",
       "      <td>None</td>\n",
       "      <td>71</td>\n",
       "      <td>M</td>\n",
       "      <td>En estudio</td>\n",
       "      <td>Hospital UCI</td>\n",
       "      <td>Grave</td>\n",
       "      <td>60 - 79</td>\n",
       "    </tr>\n",
       "    <tr>\n",
       "      <td>19379</td>\n",
       "      <td>19420</td>\n",
       "      <td>2020-05-23</td>\n",
       "      <td>Barranquilla</td>\n",
       "      <td>None</td>\n",
       "      <td>24</td>\n",
       "      <td>F</td>\n",
       "      <td>En estudio</td>\n",
       "      <td>Hospital UCI</td>\n",
       "      <td>Grave</td>\n",
       "      <td>20 - 39</td>\n",
       "    </tr>\n",
       "    <tr>\n",
       "      <td>19380</td>\n",
       "      <td>19421</td>\n",
       "      <td>2020-05-23</td>\n",
       "      <td>Barranquilla</td>\n",
       "      <td>None</td>\n",
       "      <td>69</td>\n",
       "      <td>F</td>\n",
       "      <td>En estudio</td>\n",
       "      <td>Hospital UCI</td>\n",
       "      <td>Grave</td>\n",
       "      <td>60 - 79</td>\n",
       "    </tr>\n",
       "    <tr>\n",
       "      <td>20182</td>\n",
       "      <td>20223</td>\n",
       "      <td>2020-05-24</td>\n",
       "      <td>Barranquilla</td>\n",
       "      <td>None</td>\n",
       "      <td>66</td>\n",
       "      <td>F</td>\n",
       "      <td>En estudio</td>\n",
       "      <td>Hospital UCI</td>\n",
       "      <td>Grave</td>\n",
       "      <td>60 - 79</td>\n",
       "    </tr>\n",
       "    <tr>\n",
       "      <td>21556</td>\n",
       "      <td>21597</td>\n",
       "      <td>2020-05-25</td>\n",
       "      <td>Barranquilla</td>\n",
       "      <td>None</td>\n",
       "      <td>8</td>\n",
       "      <td>F</td>\n",
       "      <td>En estudio</td>\n",
       "      <td>Hospital UCI</td>\n",
       "      <td>Grave</td>\n",
       "      <td>0 - 19</td>\n",
       "    </tr>\n",
       "    <tr>\n",
       "      <td>22304</td>\n",
       "      <td>22345</td>\n",
       "      <td>2020-05-26</td>\n",
       "      <td>Barranquilla</td>\n",
       "      <td>None</td>\n",
       "      <td>59</td>\n",
       "      <td>F</td>\n",
       "      <td>En estudio</td>\n",
       "      <td>Hospital UCI</td>\n",
       "      <td>Grave</td>\n",
       "      <td>40 - 59</td>\n",
       "    </tr>\n",
       "    <tr>\n",
       "      <td>24306</td>\n",
       "      <td>24347</td>\n",
       "      <td>2020-05-28</td>\n",
       "      <td>Barranquilla</td>\n",
       "      <td>None</td>\n",
       "      <td>81</td>\n",
       "      <td>F</td>\n",
       "      <td>En estudio</td>\n",
       "      <td>Hospital UCI</td>\n",
       "      <td>Grave</td>\n",
       "      <td>80+</td>\n",
       "    </tr>\n",
       "    <tr>\n",
       "      <td>25735</td>\n",
       "      <td>25776</td>\n",
       "      <td>2020-05-29</td>\n",
       "      <td>Barranquilla</td>\n",
       "      <td>None</td>\n",
       "      <td>56</td>\n",
       "      <td>M</td>\n",
       "      <td>En estudio</td>\n",
       "      <td>Hospital UCI</td>\n",
       "      <td>Grave</td>\n",
       "      <td>40 - 59</td>\n",
       "    </tr>\n",
       "    <tr>\n",
       "      <td>25972</td>\n",
       "      <td>26013</td>\n",
       "      <td>2020-05-29</td>\n",
       "      <td>Barranquilla</td>\n",
       "      <td>None</td>\n",
       "      <td>34</td>\n",
       "      <td>M</td>\n",
       "      <td>En estudio</td>\n",
       "      <td>Hospital UCI</td>\n",
       "      <td>Grave</td>\n",
       "      <td>20 - 39</td>\n",
       "    </tr>\n",
       "    <tr>\n",
       "      <td>27444</td>\n",
       "      <td>27485</td>\n",
       "      <td>2020-05-30</td>\n",
       "      <td>Barranquilla</td>\n",
       "      <td>None</td>\n",
       "      <td>48</td>\n",
       "      <td>F</td>\n",
       "      <td>En estudio</td>\n",
       "      <td>Hospital UCI</td>\n",
       "      <td>Grave</td>\n",
       "      <td>40 - 59</td>\n",
       "    </tr>\n",
       "    <tr>\n",
       "      <td>27874</td>\n",
       "      <td>27915</td>\n",
       "      <td>2020-05-30</td>\n",
       "      <td>Barranquilla</td>\n",
       "      <td>None</td>\n",
       "      <td>32</td>\n",
       "      <td>M</td>\n",
       "      <td>En estudio</td>\n",
       "      <td>Hospital UCI</td>\n",
       "      <td>Grave</td>\n",
       "      <td>20 - 39</td>\n",
       "    </tr>\n",
       "    <tr>\n",
       "      <td>29149</td>\n",
       "      <td>29190</td>\n",
       "      <td>2020-05-31</td>\n",
       "      <td>Barranquilla</td>\n",
       "      <td>None</td>\n",
       "      <td>50</td>\n",
       "      <td>M</td>\n",
       "      <td>En estudio</td>\n",
       "      <td>Hospital UCI</td>\n",
       "      <td>Grave</td>\n",
       "      <td>40 - 59</td>\n",
       "    </tr>\n",
       "    <tr>\n",
       "      <td>29153</td>\n",
       "      <td>29194</td>\n",
       "      <td>2020-05-31</td>\n",
       "      <td>Barranquilla</td>\n",
       "      <td>None</td>\n",
       "      <td>45</td>\n",
       "      <td>M</td>\n",
       "      <td>En estudio</td>\n",
       "      <td>Hospital UCI</td>\n",
       "      <td>Grave</td>\n",
       "      <td>40 - 59</td>\n",
       "    </tr>\n",
       "    <tr>\n",
       "      <td>29835</td>\n",
       "      <td>29876</td>\n",
       "      <td>2020-06-01</td>\n",
       "      <td>Barranquilla</td>\n",
       "      <td>None</td>\n",
       "      <td>26</td>\n",
       "      <td>F</td>\n",
       "      <td>En estudio</td>\n",
       "      <td>Hospital UCI</td>\n",
       "      <td>Grave</td>\n",
       "      <td>20 - 39</td>\n",
       "    </tr>\n",
       "  </tbody>\n",
       "</table>\n",
       "</div>"
      ],
      "text/plain": [
       "      ID de caso Fecha de diagnóstico Ciudad de residencia  \\\n",
       "8235        8276           2020-05-05         Barranquilla   \n",
       "10261      10302           2020-05-09         Barranquilla   \n",
       "12387      12428           2020-05-13         Barranquilla   \n",
       "13046      13087           2020-05-14         Barranquilla   \n",
       "15249      15290           2020-05-17         Barranquilla   \n",
       "18144      18185           2020-05-21         Barranquilla   \n",
       "19241      19282           2020-05-23         Barranquilla   \n",
       "19376      19417           2020-05-23         Barranquilla   \n",
       "19379      19420           2020-05-23         Barranquilla   \n",
       "19380      19421           2020-05-23         Barranquilla   \n",
       "20182      20223           2020-05-24         Barranquilla   \n",
       "21556      21597           2020-05-25         Barranquilla   \n",
       "22304      22345           2020-05-26         Barranquilla   \n",
       "24306      24347           2020-05-28         Barranquilla   \n",
       "25735      25776           2020-05-29         Barranquilla   \n",
       "25972      26013           2020-05-29         Barranquilla   \n",
       "27444      27485           2020-05-30         Barranquilla   \n",
       "27874      27915           2020-05-30         Barranquilla   \n",
       "29149      29190           2020-05-31         Barranquilla   \n",
       "29153      29194           2020-05-31         Barranquilla   \n",
       "29835      29876           2020-06-01         Barranquilla   \n",
       "\n",
       "      Localidad de residencia  Edad Sexo Tipo de caso     Ubicación Estado  \\\n",
       "8235                     None    57    M   En estudio  Hospital UCI  Grave   \n",
       "10261                    None    32    M   En estudio  Hospital UCI  Grave   \n",
       "12387                    None    65    F   En estudio  Hospital UCI  Grave   \n",
       "13046                    None    54    M   En estudio  Hospital UCI  Grave   \n",
       "15249                    None    82    M   En estudio  Hospital UCI  Grave   \n",
       "18144                    None    73    M   En estudio  Hospital UCI  Grave   \n",
       "19241                    None    36    F   En estudio  Hospital UCI  Grave   \n",
       "19376                    None    71    M   En estudio  Hospital UCI  Grave   \n",
       "19379                    None    24    F   En estudio  Hospital UCI  Grave   \n",
       "19380                    None    69    F   En estudio  Hospital UCI  Grave   \n",
       "20182                    None    66    F   En estudio  Hospital UCI  Grave   \n",
       "21556                    None     8    F   En estudio  Hospital UCI  Grave   \n",
       "22304                    None    59    F   En estudio  Hospital UCI  Grave   \n",
       "24306                    None    81    F   En estudio  Hospital UCI  Grave   \n",
       "25735                    None    56    M   En estudio  Hospital UCI  Grave   \n",
       "25972                    None    34    M   En estudio  Hospital UCI  Grave   \n",
       "27444                    None    48    F   En estudio  Hospital UCI  Grave   \n",
       "27874                    None    32    M   En estudio  Hospital UCI  Grave   \n",
       "29149                    None    50    M   En estudio  Hospital UCI  Grave   \n",
       "29153                    None    45    M   En estudio  Hospital UCI  Grave   \n",
       "29835                    None    26    F   En estudio  Hospital UCI  Grave   \n",
       "\n",
       "      Grupo de edad  \n",
       "8235        40 - 59  \n",
       "10261       20 - 39  \n",
       "12387       60 - 79  \n",
       "13046       40 - 59  \n",
       "15249           80+  \n",
       "18144       60 - 79  \n",
       "19241       20 - 39  \n",
       "19376       60 - 79  \n",
       "19379       20 - 39  \n",
       "19380       60 - 79  \n",
       "20182       60 - 79  \n",
       "21556        0 - 19  \n",
       "22304       40 - 59  \n",
       "24306           80+  \n",
       "25735       40 - 59  \n",
       "25972       20 - 39  \n",
       "27444       40 - 59  \n",
       "27874       20 - 39  \n",
       "29149       40 - 59  \n",
       "29153       40 - 59  \n",
       "29835       20 - 39  "
      ]
     },
     "execution_count": 85,
     "metadata": {},
     "output_type": "execute_result"
    }
   ],
   "source": [
    "barranquilla.loc[ barranquilla[ 'Ubicación' ] == 'Hospital UCI' ]"
   ]
  },
  {
   "cell_type": "code",
   "execution_count": 54,
   "metadata": {},
   "outputs": [],
   "source": [
    "barranquilla.to_csv( './data/covid19_barranquilla.csv', index = False )"
   ]
  },
  {
   "cell_type": "markdown",
   "metadata": {},
   "source": [
    "# Medellín"
   ]
  },
  {
   "cell_type": "code",
   "execution_count": 55,
   "metadata": {},
   "outputs": [],
   "source": [
    "medellin = covid.loc[ covid[ 'Ciudad de residencia' ] == 'Medellín' ]"
   ]
  },
  {
   "cell_type": "code",
   "execution_count": 56,
   "metadata": {},
   "outputs": [
    {
     "data": {
      "text/plain": [
       "(554, 10)"
      ]
     },
     "execution_count": 56,
     "metadata": {},
     "output_type": "execute_result"
    }
   ],
   "source": [
    "medellin.shape"
   ]
  },
  {
   "cell_type": "code",
   "execution_count": 57,
   "metadata": {},
   "outputs": [
    {
     "data": {
      "text/plain": [
       "ID de caso                         object\n",
       "Fecha de diagnóstico       datetime64[ns]\n",
       "Ciudad de residencia               object\n",
       "Localidad de residencia            object\n",
       "Edad                                int64\n",
       "Sexo                               object\n",
       "Tipo de caso                       object\n",
       "Ubicación                          object\n",
       "Estado                             object\n",
       "Grupo de edad                      object\n",
       "dtype: object"
      ]
     },
     "execution_count": 57,
     "metadata": {},
     "output_type": "execute_result"
    }
   ],
   "source": [
    "medellin.dtypes"
   ]
  },
  {
   "cell_type": "code",
   "execution_count": 58,
   "metadata": {},
   "outputs": [
    {
     "data": {
      "text/html": [
       "<div>\n",
       "<style scoped>\n",
       "    .dataframe tbody tr th:only-of-type {\n",
       "        vertical-align: middle;\n",
       "    }\n",
       "\n",
       "    .dataframe tbody tr th {\n",
       "        vertical-align: top;\n",
       "    }\n",
       "\n",
       "    .dataframe thead th {\n",
       "        text-align: right;\n",
       "    }\n",
       "</style>\n",
       "<table border=\"1\" class=\"dataframe\">\n",
       "  <thead>\n",
       "    <tr style=\"text-align: right;\">\n",
       "      <th></th>\n",
       "      <th>ID de caso</th>\n",
       "      <th>Fecha de diagnóstico</th>\n",
       "      <th>Ciudad de residencia</th>\n",
       "      <th>Localidad de residencia</th>\n",
       "      <th>Edad</th>\n",
       "      <th>Sexo</th>\n",
       "      <th>Tipo de caso</th>\n",
       "      <th>Ubicación</th>\n",
       "      <th>Estado</th>\n",
       "      <th>Grupo de edad</th>\n",
       "    </tr>\n",
       "  </thead>\n",
       "  <tbody>\n",
       "    <tr>\n",
       "      <td>29447</td>\n",
       "      <td>29488</td>\n",
       "      <td>2020-06-01</td>\n",
       "      <td>Medellín</td>\n",
       "      <td>None</td>\n",
       "      <td>5</td>\n",
       "      <td>M</td>\n",
       "      <td>En estudio</td>\n",
       "      <td>Casa</td>\n",
       "      <td>Leve</td>\n",
       "      <td>0 - 19</td>\n",
       "    </tr>\n",
       "    <tr>\n",
       "      <td>30005</td>\n",
       "      <td>30046</td>\n",
       "      <td>2020-06-01</td>\n",
       "      <td>Medellín</td>\n",
       "      <td>None</td>\n",
       "      <td>19</td>\n",
       "      <td>M</td>\n",
       "      <td>En estudio</td>\n",
       "      <td>Casa</td>\n",
       "      <td>Leve</td>\n",
       "      <td>0 - 19</td>\n",
       "    </tr>\n",
       "    <tr>\n",
       "      <td>30008</td>\n",
       "      <td>30049</td>\n",
       "      <td>2020-06-01</td>\n",
       "      <td>Medellín</td>\n",
       "      <td>None</td>\n",
       "      <td>49</td>\n",
       "      <td>F</td>\n",
       "      <td>Relacionado</td>\n",
       "      <td>Casa</td>\n",
       "      <td>Leve</td>\n",
       "      <td>40 - 59</td>\n",
       "    </tr>\n",
       "    <tr>\n",
       "      <td>30009</td>\n",
       "      <td>30050</td>\n",
       "      <td>2020-06-01</td>\n",
       "      <td>Medellín</td>\n",
       "      <td>None</td>\n",
       "      <td>3</td>\n",
       "      <td>M</td>\n",
       "      <td>Relacionado</td>\n",
       "      <td>Casa</td>\n",
       "      <td>Asintomático</td>\n",
       "      <td>0 - 19</td>\n",
       "    </tr>\n",
       "    <tr>\n",
       "      <td>30011</td>\n",
       "      <td>30052</td>\n",
       "      <td>2020-06-01</td>\n",
       "      <td>Medellín</td>\n",
       "      <td>None</td>\n",
       "      <td>34</td>\n",
       "      <td>F</td>\n",
       "      <td>Relacionado</td>\n",
       "      <td>Casa</td>\n",
       "      <td>Asintomático</td>\n",
       "      <td>20 - 39</td>\n",
       "    </tr>\n",
       "  </tbody>\n",
       "</table>\n",
       "</div>"
      ],
      "text/plain": [
       "      ID de caso Fecha de diagnóstico Ciudad de residencia  \\\n",
       "29447      29488           2020-06-01             Medellín   \n",
       "30005      30046           2020-06-01             Medellín   \n",
       "30008      30049           2020-06-01             Medellín   \n",
       "30009      30050           2020-06-01             Medellín   \n",
       "30011      30052           2020-06-01             Medellín   \n",
       "\n",
       "      Localidad de residencia  Edad Sexo Tipo de caso Ubicación        Estado  \\\n",
       "29447                    None     5    M   En estudio      Casa          Leve   \n",
       "30005                    None    19    M   En estudio      Casa          Leve   \n",
       "30008                    None    49    F  Relacionado      Casa          Leve   \n",
       "30009                    None     3    M  Relacionado      Casa  Asintomático   \n",
       "30011                    None    34    F  Relacionado      Casa  Asintomático   \n",
       "\n",
       "      Grupo de edad  \n",
       "29447        0 - 19  \n",
       "30005        0 - 19  \n",
       "30008       40 - 59  \n",
       "30009        0 - 19  \n",
       "30011       20 - 39  "
      ]
     },
     "execution_count": 58,
     "metadata": {},
     "output_type": "execute_result"
    }
   ],
   "source": [
    "medellin.tail()"
   ]
  },
  {
   "cell_type": "code",
   "execution_count": 59,
   "metadata": {},
   "outputs": [
    {
     "data": {
      "text/plain": [
       "Recuperado      319\n",
       "Casa            221\n",
       "Hospital          6\n",
       "Hospital UCI      5\n",
       "Fallecido         3\n",
       "Name: Ubicación, dtype: int64"
      ]
     },
     "execution_count": 59,
     "metadata": {},
     "output_type": "execute_result"
    }
   ],
   "source": [
    "medellin[ 'Ubicación' ].value_counts( dropna = False )"
   ]
  },
  {
   "cell_type": "code",
   "execution_count": 60,
   "metadata": {},
   "outputs": [],
   "source": [
    "medellin.to_csv( './data/covid19_medellin.csv', index = False )"
   ]
  },
  {
   "cell_type": "markdown",
   "metadata": {},
   "source": [
    "# Cali"
   ]
  },
  {
   "cell_type": "code",
   "execution_count": 61,
   "metadata": {},
   "outputs": [],
   "source": [
    "cali = covid.loc[ covid[ 'Ciudad de residencia' ] == 'Cali' ]"
   ]
  },
  {
   "cell_type": "code",
   "execution_count": 62,
   "metadata": {},
   "outputs": [
    {
     "data": {
      "text/plain": [
       "(2695, 10)"
      ]
     },
     "execution_count": 62,
     "metadata": {},
     "output_type": "execute_result"
    }
   ],
   "source": [
    "cali.shape"
   ]
  },
  {
   "cell_type": "code",
   "execution_count": 63,
   "metadata": {},
   "outputs": [
    {
     "data": {
      "text/plain": [
       "ID de caso                         object\n",
       "Fecha de diagnóstico       datetime64[ns]\n",
       "Ciudad de residencia               object\n",
       "Localidad de residencia            object\n",
       "Edad                                int64\n",
       "Sexo                               object\n",
       "Tipo de caso                       object\n",
       "Ubicación                          object\n",
       "Estado                             object\n",
       "Grupo de edad                      object\n",
       "dtype: object"
      ]
     },
     "execution_count": 63,
     "metadata": {},
     "output_type": "execute_result"
    }
   ],
   "source": [
    "cali.dtypes"
   ]
  },
  {
   "cell_type": "code",
   "execution_count": 64,
   "metadata": {},
   "outputs": [
    {
     "data": {
      "text/html": [
       "<div>\n",
       "<style scoped>\n",
       "    .dataframe tbody tr th:only-of-type {\n",
       "        vertical-align: middle;\n",
       "    }\n",
       "\n",
       "    .dataframe tbody tr th {\n",
       "        vertical-align: top;\n",
       "    }\n",
       "\n",
       "    .dataframe thead th {\n",
       "        text-align: right;\n",
       "    }\n",
       "</style>\n",
       "<table border=\"1\" class=\"dataframe\">\n",
       "  <thead>\n",
       "    <tr style=\"text-align: right;\">\n",
       "      <th></th>\n",
       "      <th>ID de caso</th>\n",
       "      <th>Fecha de diagnóstico</th>\n",
       "      <th>Ciudad de residencia</th>\n",
       "      <th>Localidad de residencia</th>\n",
       "      <th>Edad</th>\n",
       "      <th>Sexo</th>\n",
       "      <th>Tipo de caso</th>\n",
       "      <th>Ubicación</th>\n",
       "      <th>Estado</th>\n",
       "      <th>Grupo de edad</th>\n",
       "    </tr>\n",
       "  </thead>\n",
       "  <tbody>\n",
       "    <tr>\n",
       "      <td>29888</td>\n",
       "      <td>29929</td>\n",
       "      <td>2020-06-01</td>\n",
       "      <td>Cali</td>\n",
       "      <td>None</td>\n",
       "      <td>26</td>\n",
       "      <td>M</td>\n",
       "      <td>En estudio</td>\n",
       "      <td>Casa</td>\n",
       "      <td>Leve</td>\n",
       "      <td>20 - 39</td>\n",
       "    </tr>\n",
       "    <tr>\n",
       "      <td>29889</td>\n",
       "      <td>29930</td>\n",
       "      <td>2020-06-01</td>\n",
       "      <td>Cali</td>\n",
       "      <td>None</td>\n",
       "      <td>32</td>\n",
       "      <td>F</td>\n",
       "      <td>En estudio</td>\n",
       "      <td>Casa</td>\n",
       "      <td>Leve</td>\n",
       "      <td>20 - 39</td>\n",
       "    </tr>\n",
       "    <tr>\n",
       "      <td>29890</td>\n",
       "      <td>29931</td>\n",
       "      <td>2020-06-01</td>\n",
       "      <td>Cali</td>\n",
       "      <td>None</td>\n",
       "      <td>51</td>\n",
       "      <td>F</td>\n",
       "      <td>En estudio</td>\n",
       "      <td>Casa</td>\n",
       "      <td>Leve</td>\n",
       "      <td>40 - 59</td>\n",
       "    </tr>\n",
       "    <tr>\n",
       "      <td>29893</td>\n",
       "      <td>29934</td>\n",
       "      <td>2020-06-01</td>\n",
       "      <td>Cali</td>\n",
       "      <td>None</td>\n",
       "      <td>61</td>\n",
       "      <td>F</td>\n",
       "      <td>En estudio</td>\n",
       "      <td>Casa</td>\n",
       "      <td>Leve</td>\n",
       "      <td>60 - 79</td>\n",
       "    </tr>\n",
       "    <tr>\n",
       "      <td>29894</td>\n",
       "      <td>29935</td>\n",
       "      <td>2020-06-01</td>\n",
       "      <td>Cali</td>\n",
       "      <td>None</td>\n",
       "      <td>37</td>\n",
       "      <td>M</td>\n",
       "      <td>En estudio</td>\n",
       "      <td>Casa</td>\n",
       "      <td>Leve</td>\n",
       "      <td>20 - 39</td>\n",
       "    </tr>\n",
       "  </tbody>\n",
       "</table>\n",
       "</div>"
      ],
      "text/plain": [
       "      ID de caso Fecha de diagnóstico Ciudad de residencia  \\\n",
       "29888      29929           2020-06-01                 Cali   \n",
       "29889      29930           2020-06-01                 Cali   \n",
       "29890      29931           2020-06-01                 Cali   \n",
       "29893      29934           2020-06-01                 Cali   \n",
       "29894      29935           2020-06-01                 Cali   \n",
       "\n",
       "      Localidad de residencia  Edad Sexo Tipo de caso Ubicación Estado  \\\n",
       "29888                    None    26    M   En estudio      Casa   Leve   \n",
       "29889                    None    32    F   En estudio      Casa   Leve   \n",
       "29890                    None    51    F   En estudio      Casa   Leve   \n",
       "29893                    None    61    F   En estudio      Casa   Leve   \n",
       "29894                    None    37    M   En estudio      Casa   Leve   \n",
       "\n",
       "      Grupo de edad  \n",
       "29888       20 - 39  \n",
       "29889       20 - 39  \n",
       "29890       40 - 59  \n",
       "29893       60 - 79  \n",
       "29894       20 - 39  "
      ]
     },
     "execution_count": 64,
     "metadata": {},
     "output_type": "execute_result"
    }
   ],
   "source": [
    "cali.tail()"
   ]
  },
  {
   "cell_type": "code",
   "execution_count": 65,
   "metadata": {},
   "outputs": [
    {
     "data": {
      "text/plain": [
       "Casa            1350\n",
       "Recuperado       918\n",
       "Hospital         252\n",
       "Fallecido        118\n",
       "Hospital UCI      57\n",
       "Name: Ubicación, dtype: int64"
      ]
     },
     "execution_count": 65,
     "metadata": {},
     "output_type": "execute_result"
    }
   ],
   "source": [
    "cali[ 'Ubicación' ].value_counts( dropna = False )"
   ]
  },
  {
   "cell_type": "code",
   "execution_count": 66,
   "metadata": {},
   "outputs": [],
   "source": [
    "cali.to_csv( './data/covid19_cali.csv', index = False )"
   ]
  },
  {
   "cell_type": "markdown",
   "metadata": {},
   "source": [
    "# Cartagena"
   ]
  },
  {
   "cell_type": "code",
   "execution_count": 79,
   "metadata": {},
   "outputs": [],
   "source": [
    "cartagena = covid.loc[ covid[ 'Ciudad de residencia' ] == 'Cartagena de Indias' ]"
   ]
  },
  {
   "cell_type": "code",
   "execution_count": 80,
   "metadata": {},
   "outputs": [
    {
     "data": {
      "text/plain": [
       "(3050, 10)"
      ]
     },
     "execution_count": 80,
     "metadata": {},
     "output_type": "execute_result"
    }
   ],
   "source": [
    "cartagena.shape"
   ]
  },
  {
   "cell_type": "code",
   "execution_count": 81,
   "metadata": {},
   "outputs": [
    {
     "data": {
      "text/plain": [
       "ID de caso                         object\n",
       "Fecha de diagnóstico       datetime64[ns]\n",
       "Ciudad de residencia               object\n",
       "Localidad de residencia            object\n",
       "Edad                                int64\n",
       "Sexo                               object\n",
       "Tipo de caso                       object\n",
       "Ubicación                          object\n",
       "Estado                             object\n",
       "Grupo de edad                      object\n",
       "dtype: object"
      ]
     },
     "execution_count": 81,
     "metadata": {},
     "output_type": "execute_result"
    }
   ],
   "source": [
    "cartagena.dtypes"
   ]
  },
  {
   "cell_type": "code",
   "execution_count": 82,
   "metadata": {},
   "outputs": [
    {
     "data": {
      "text/html": [
       "<div>\n",
       "<style scoped>\n",
       "    .dataframe tbody tr th:only-of-type {\n",
       "        vertical-align: middle;\n",
       "    }\n",
       "\n",
       "    .dataframe tbody tr th {\n",
       "        vertical-align: top;\n",
       "    }\n",
       "\n",
       "    .dataframe thead th {\n",
       "        text-align: right;\n",
       "    }\n",
       "</style>\n",
       "<table border=\"1\" class=\"dataframe\">\n",
       "  <thead>\n",
       "    <tr style=\"text-align: right;\">\n",
       "      <th></th>\n",
       "      <th>ID de caso</th>\n",
       "      <th>Fecha de diagnóstico</th>\n",
       "      <th>Ciudad de residencia</th>\n",
       "      <th>Localidad de residencia</th>\n",
       "      <th>Edad</th>\n",
       "      <th>Sexo</th>\n",
       "      <th>Tipo de caso</th>\n",
       "      <th>Ubicación</th>\n",
       "      <th>Estado</th>\n",
       "      <th>Grupo de edad</th>\n",
       "    </tr>\n",
       "  </thead>\n",
       "  <tbody>\n",
       "    <tr>\n",
       "      <td>29920</td>\n",
       "      <td>29961</td>\n",
       "      <td>2020-06-01</td>\n",
       "      <td>Cartagena de Indias</td>\n",
       "      <td>None</td>\n",
       "      <td>28</td>\n",
       "      <td>M</td>\n",
       "      <td>En estudio</td>\n",
       "      <td>Casa</td>\n",
       "      <td>Leve</td>\n",
       "      <td>20 - 39</td>\n",
       "    </tr>\n",
       "    <tr>\n",
       "      <td>29921</td>\n",
       "      <td>29962</td>\n",
       "      <td>2020-06-01</td>\n",
       "      <td>Cartagena de Indias</td>\n",
       "      <td>None</td>\n",
       "      <td>38</td>\n",
       "      <td>F</td>\n",
       "      <td>En estudio</td>\n",
       "      <td>Casa</td>\n",
       "      <td>Leve</td>\n",
       "      <td>20 - 39</td>\n",
       "    </tr>\n",
       "    <tr>\n",
       "      <td>29922</td>\n",
       "      <td>29963</td>\n",
       "      <td>2020-06-01</td>\n",
       "      <td>Cartagena de Indias</td>\n",
       "      <td>None</td>\n",
       "      <td>46</td>\n",
       "      <td>F</td>\n",
       "      <td>En estudio</td>\n",
       "      <td>Casa</td>\n",
       "      <td>Asintomático</td>\n",
       "      <td>40 - 59</td>\n",
       "    </tr>\n",
       "    <tr>\n",
       "      <td>29923</td>\n",
       "      <td>29964</td>\n",
       "      <td>2020-06-01</td>\n",
       "      <td>Cartagena de Indias</td>\n",
       "      <td>None</td>\n",
       "      <td>22</td>\n",
       "      <td>M</td>\n",
       "      <td>En estudio</td>\n",
       "      <td>Casa</td>\n",
       "      <td>Asintomático</td>\n",
       "      <td>20 - 39</td>\n",
       "    </tr>\n",
       "    <tr>\n",
       "      <td>29924</td>\n",
       "      <td>29965</td>\n",
       "      <td>2020-06-01</td>\n",
       "      <td>Cartagena de Indias</td>\n",
       "      <td>None</td>\n",
       "      <td>21</td>\n",
       "      <td>F</td>\n",
       "      <td>En estudio</td>\n",
       "      <td>Casa</td>\n",
       "      <td>Asintomático</td>\n",
       "      <td>20 - 39</td>\n",
       "    </tr>\n",
       "  </tbody>\n",
       "</table>\n",
       "</div>"
      ],
      "text/plain": [
       "      ID de caso Fecha de diagnóstico Ciudad de residencia  \\\n",
       "29920      29961           2020-06-01  Cartagena de Indias   \n",
       "29921      29962           2020-06-01  Cartagena de Indias   \n",
       "29922      29963           2020-06-01  Cartagena de Indias   \n",
       "29923      29964           2020-06-01  Cartagena de Indias   \n",
       "29924      29965           2020-06-01  Cartagena de Indias   \n",
       "\n",
       "      Localidad de residencia  Edad Sexo Tipo de caso Ubicación        Estado  \\\n",
       "29920                    None    28    M   En estudio      Casa          Leve   \n",
       "29921                    None    38    F   En estudio      Casa          Leve   \n",
       "29922                    None    46    F   En estudio      Casa  Asintomático   \n",
       "29923                    None    22    M   En estudio      Casa  Asintomático   \n",
       "29924                    None    21    F   En estudio      Casa  Asintomático   \n",
       "\n",
       "      Grupo de edad  \n",
       "29920       20 - 39  \n",
       "29921       20 - 39  \n",
       "29922       40 - 59  \n",
       "29923       20 - 39  \n",
       "29924       20 - 39  "
      ]
     },
     "execution_count": 82,
     "metadata": {},
     "output_type": "execute_result"
    }
   ],
   "source": [
    "cartagena.tail()"
   ]
  },
  {
   "cell_type": "code",
   "execution_count": 83,
   "metadata": {},
   "outputs": [
    {
     "data": {
      "text/plain": [
       "Casa            2118\n",
       "Recuperado       560\n",
       "Hospital         199\n",
       "Fallecido        140\n",
       "Hospital UCI      30\n",
       "NaN                3\n",
       "Name: Ubicación, dtype: int64"
      ]
     },
     "execution_count": 83,
     "metadata": {},
     "output_type": "execute_result"
    }
   ],
   "source": [
    "cartagena[ 'Ubicación' ].value_counts( dropna = False )"
   ]
  },
  {
   "cell_type": "code",
   "execution_count": 84,
   "metadata": {},
   "outputs": [],
   "source": [
    "cartagena.to_csv( './data/covid19_cartagena.csv', index = False )"
   ]
  },
  {
   "cell_type": "code",
   "execution_count": null,
   "metadata": {},
   "outputs": [],
   "source": []
  },
  {
   "cell_type": "code",
   "execution_count": null,
   "metadata": {},
   "outputs": [],
   "source": []
  },
  {
   "cell_type": "code",
   "execution_count": null,
   "metadata": {},
   "outputs": [],
   "source": []
  },
  {
   "cell_type": "code",
   "execution_count": null,
   "metadata": {},
   "outputs": [],
   "source": []
  },
  {
   "cell_type": "code",
   "execution_count": null,
   "metadata": {},
   "outputs": [],
   "source": []
  },
  {
   "cell_type": "code",
   "execution_count": null,
   "metadata": {},
   "outputs": [],
   "source": [
    "covid[ 'dias_para_diagnostico' ] = ( covid[ 'Fecha_diagnostico' ] - covid[ 'FIS' ] ).dt.days"
   ]
  },
  {
   "cell_type": "code",
   "execution_count": null,
   "metadata": {},
   "outputs": [],
   "source": [
    "covid[ 'Estado' ].value_counts( dropna = False )"
   ]
  },
  {
   "cell_type": "code",
   "execution_count": null,
   "metadata": {},
   "outputs": [],
   "source": [
    "plt.figure( figsize = ( 20, 8 ) )\n",
    "ax = sns.boxplot( data = covid, x = 'dias_para_diagnostico', y = 'Estado' )"
   ]
  },
  {
   "cell_type": "code",
   "execution_count": null,
   "metadata": {},
   "outputs": [],
   "source": [
    "covid[ 'atención' ].value_counts( dropna = False )"
   ]
  },
  {
   "cell_type": "code",
   "execution_count": null,
   "metadata": {},
   "outputs": [],
   "source": [
    "covid.loc[ covid[ 'atención' ] == 'Casa' ][ 'Edad' ].quantile( [ 0.25, 0.5, 0.75 ] )"
   ]
  },
  {
   "cell_type": "code",
   "execution_count": null,
   "metadata": {},
   "outputs": [],
   "source": [
    "plt.figure( figsize = ( 20, 8 ) )\n",
    "ax = sns.boxplot( data = covid, x = 'Edad', y = 'atención' )"
   ]
  },
  {
   "cell_type": "code",
   "execution_count": null,
   "metadata": {},
   "outputs": [],
   "source": [
    "covid.loc[ covid[ 'Tipo' ] == 'Importado' ].groupby( 'Fecha_diagnostico' ).agg( { 'ID_de_caso': 'count' } ).plot( kind = 'bar', figsize = ( 20, 8 ) )"
   ]
  },
  {
   "cell_type": "code",
   "execution_count": null,
   "metadata": {},
   "outputs": [],
   "source": [
    "# Preparing and merging the groupings in one dataframe\n",
    "\n",
    "diagnosed = covid.loc[ covid[ 'Tipo' ] == 'Importado' ] \\\n",
    "    .groupby( 'Fecha_diagnostico' ) \\\n",
    "    .agg( { 'ID_de_caso': 'count' } ) \\\n",
    "    .rename( columns = { 'Fecha_diagnostico': 'Fecha', 'ID_de_caso': 'Diagnosticados' } )\n",
    "\n",
    "recovered = covid.loc[ covid[ 'Tipo' ] == 'Importado' ] \\\n",
    "    .groupby( 'FIS' ) \\\n",
    "    .agg( { 'ID_de_caso': 'count' } ) \\\n",
    "    .rename( columns = { 'Fecha_diagnostico': 'Fecha', 'ID_de_caso': 'Inicio de sintomas' } )\n",
    "\n",
    "infections = diagnosed.merge( recovered, how = 'outer', left_index = True, right_index = True )\n",
    "infections.fillna( 0, inplace = True )"
   ]
  },
  {
   "cell_type": "code",
   "execution_count": null,
   "metadata": {},
   "outputs": [],
   "source": [
    "infections.tail()"
   ]
  },
  {
   "cell_type": "code",
   "execution_count": null,
   "metadata": {},
   "outputs": [],
   "source": [
    "f, axarr = plt.subplots( 2, sharex = True, figsize = ( 20, 10 ) )\n",
    "axarr[ 0 ].set_title( 'Fecha de diagnostico de casos importados' )\n",
    "infections[ 'Diagnosticados' ].plot( kind = 'bar', ax = axarr[ 0 ] )\n",
    "axarr[ 1 ].set_title( 'Fecha de inicio de sintomas de casos importados' )\n",
    "infections[ 'Inicio de sintomas' ].plot( kind = 'bar', ax = axarr[ 1 ] )\n",
    "axarr[ 0 ].axvline( x = 23.5, color = 'r', linestyle = '--' )\n",
    "axarr[ 1 ].axvline( x = 23.5, color = 'r', linestyle = '--' )"
   ]
  },
  {
   "cell_type": "code",
   "execution_count": null,
   "metadata": {},
   "outputs": [],
   "source": []
  },
  {
   "cell_type": "code",
   "execution_count": null,
   "metadata": {},
   "outputs": [],
   "source": [
    "covid[ 'Estado' ].value_counts( dropna = False )"
   ]
  },
  {
   "cell_type": "code",
   "execution_count": null,
   "metadata": {},
   "outputs": [],
   "source": [
    "covid[ 'dias_para_recuperarse' ] = ( covid[ 'Fecha_recuperado' ] - covid[ 'Fecha_diagnostico' ] ).dt.days"
   ]
  },
  {
   "cell_type": "code",
   "execution_count": null,
   "metadata": {},
   "outputs": [],
   "source": [
    "plt.figure( figsize = ( 20, 8 ) )\n",
    "ax = sns.boxplot( data = covid, x = 'dias_para_recuperarse', y = 'Estado' )"
   ]
  },
  {
   "cell_type": "code",
   "execution_count": null,
   "metadata": {},
   "outputs": [],
   "source": [
    "covid.loc[ covid[ 'dias_para_recuperarse' ] < 0 ]"
   ]
  },
  {
   "cell_type": "code",
   "execution_count": null,
   "metadata": {},
   "outputs": [],
   "source": []
  },
  {
   "cell_type": "code",
   "execution_count": null,
   "metadata": {},
   "outputs": [],
   "source": []
  },
  {
   "cell_type": "code",
   "execution_count": null,
   "metadata": {},
   "outputs": [],
   "source": []
  },
  {
   "cell_type": "code",
   "execution_count": null,
   "metadata": {},
   "outputs": [],
   "source": []
  },
  {
   "cell_type": "code",
   "execution_count": null,
   "metadata": {},
   "outputs": [],
   "source": [
    "covid.head()"
   ]
  },
  {
   "cell_type": "code",
   "execution_count": null,
   "metadata": {},
   "outputs": [],
   "source": [
    "covid.to_csv( './data/covid_clean.csv', index = False, sep = ',' )"
   ]
  },
  {
   "cell_type": "code",
   "execution_count": null,
   "metadata": {},
   "outputs": [],
   "source": [
    "infections.reset_index().to_csv( './data/covid_groups.csv', index = False, sep = ',' )"
   ]
  },
  {
   "cell_type": "code",
   "execution_count": null,
   "metadata": {},
   "outputs": [],
   "source": [
    "departamentos.to_file( './data/departamentos_groups.json', driver = 'GeoJSON' )"
   ]
  },
  {
   "cell_type": "code",
   "execution_count": null,
   "metadata": {},
   "outputs": [],
   "source": []
  }
 ],
 "metadata": {
  "kernelspec": {
   "display_name": "Python 3",
   "language": "python",
   "name": "python3"
  },
  "language_info": {
   "codemirror_mode": {
    "name": "ipython",
    "version": 3
   },
   "file_extension": ".py",
   "mimetype": "text/x-python",
   "name": "python",
   "nbconvert_exporter": "python",
   "pygments_lexer": "ipython3",
   "version": "3.7.4"
  }
 },
 "nbformat": 4,
 "nbformat_minor": 4
}
