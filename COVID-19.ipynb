{
 "cells": [
  {
   "cell_type": "code",
   "execution_count": 1,
   "metadata": {},
   "outputs": [],
   "source": [
    "# This dataset analyzes the COVID-19 data for Colombia and builds the GeoJSON map counting active cases by department\n",
    "# Author: Fabian Peña\n",
    "# Creation date:\n",
    "# Last modification date: 08/06/2020"
   ]
  },
  {
   "cell_type": "code",
   "execution_count": 48,
   "metadata": {},
   "outputs": [],
   "source": [
    "import pandas as pd\n",
    "import geopandas as gpd\n",
    "\n",
    "from sodapy import Socrata\n",
    "\n",
    "import seaborn as sns\n",
    "import matplotlib.pyplot as plt\n",
    "%matplotlib inline\n",
    "\n",
    "from pandas_profiling import ProfileReport"
   ]
  },
  {
   "cell_type": "markdown",
   "metadata": {},
   "source": [
    "# INS data"
   ]
  },
  {
   "cell_type": "code",
   "execution_count": 49,
   "metadata": {},
   "outputs": [
    {
     "name": "stderr",
     "output_type": "stream",
     "text": [
      "WARNING:root:Requests made without an app_token will be subject to strict throttling limits.\n"
     ]
    }
   ],
   "source": [
    "# Creating the Socrata client\n",
    "client = Socrata( 'www.datos.gov.co', None )"
   ]
  },
  {
   "cell_type": "code",
   "execution_count": 50,
   "metadata": {},
   "outputs": [],
   "source": [
    "# Loading the COVID-19 data for Colombia\n",
    "results = client.get( 'gt2j-8ykr', limit = 100000 )\n",
    "covid = pd.DataFrame.from_records(results)\n",
    "covid.rename( columns = { 'id_de_caso': 'ID caso',\n",
    "                         'fecha_de_notificaci_n': 'Fecha notificacion',\n",
    "                         'c_digo_divipola': 'Codigo ciudad',\n",
    "                         'ciudad_de_ubicaci_n': 'Ciudad',\n",
    "                         'departamento': 'Departamento',\n",
    "                         'atenci_n': 'Atencion',\n",
    "                         'edad': 'Edad',\n",
    "                         'sexo': 'Sexo',\n",
    "                         'tipo': 'Tipo',\n",
    "                         'estado': 'Estado',\n",
    "                         'pa_s_de_procedencia': 'Pais procedencia',\n",
    "                         'fis': 'Fecha inicio sintomas',\n",
    "                         'fecha_de_muerte': 'Fecha muerte',\n",
    "                         'fecha_diagnostico': 'Fecha diagnostico',\n",
    "                         'fecha_recuperado': 'Fecha recuperacion',\n",
    "                         'fecha_reporte_web': 'Fecha reporte web',\n",
    "                         'tipo_recuperaci_n': 'Tipo recuperacion' }, inplace = True )"
   ]
  },
  {
   "cell_type": "code",
   "execution_count": 51,
   "metadata": {},
   "outputs": [
    {
     "data": {
      "text/plain": [
       "(88591, 21)"
      ]
     },
     "execution_count": 51,
     "metadata": {},
     "output_type": "execute_result"
    }
   ],
   "source": [
    "# Getting the size of the df\n",
    "covid.shape"
   ]
  },
  {
   "cell_type": "code",
   "execution_count": 52,
   "metadata": {},
   "outputs": [],
   "source": [
    "# Add a new column for asimptomatic observations\n",
    "covid.loc[ covid[ 'Fecha inicio sintomas' ] == 'Asintomático', 'Asintomatico' ] = True\n",
    "covid.loc[ covid[ 'Fecha inicio sintomas' ] != 'Asintomático', 'Asintomatico' ] = False\n",
    "covid[ 'Asintomatico' ] = covid[ 'Asintomatico' ].astype( bool )"
   ]
  },
  {
   "cell_type": "code",
   "execution_count": 53,
   "metadata": {},
   "outputs": [],
   "source": [
    "# Casting date columns\n",
    "covid[ 'Fecha notificacion' ] = pd.to_datetime( covid[ 'Fecha notificacion' ] )\n",
    "covid[ 'Fecha inicio sintomas' ] = pd.to_datetime( covid[ 'Fecha inicio sintomas' ], errors = 'coerce' )\n",
    "covid[ 'Fecha muerte' ] = pd.to_datetime( covid[ 'Fecha muerte' ], errors = 'coerce' )\n",
    "covid[ 'Fecha diagnostico' ] = pd.to_datetime( covid[ 'Fecha diagnostico' ], errors = 'coerce' )\n",
    "covid[ 'Fecha recuperacion' ] = pd.to_datetime( covid[ 'Fecha recuperacion' ], errors = 'coerce' )\n",
    "covid[ 'Fecha reporte web' ] = pd.to_datetime( covid[ 'Fecha reporte web' ] )"
   ]
  },
  {
   "cell_type": "code",
   "execution_count": 54,
   "metadata": {},
   "outputs": [],
   "source": [
    "# Unifying values for sex\n",
    "covid[ 'Sexo' ].replace( { 'm': 'M', 'f': 'F' }, inplace = True )"
   ]
  },
  {
   "cell_type": "code",
   "execution_count": 55,
   "metadata": {},
   "outputs": [],
   "source": [
    "# Unifying values for status\n",
    "covid[ 'Estado' ].replace( { 'leve': 'Leve', 'LEVE': 'Leve' }, inplace = True )"
   ]
  },
  {
   "cell_type": "code",
   "execution_count": 56,
   "metadata": {},
   "outputs": [],
   "source": [
    "# Unifying values for atention\n",
    "covid[ 'Atencion' ].replace( { 'casa': 'Casa', 'N/A': None }, inplace = True )"
   ]
  },
  {
   "cell_type": "code",
   "execution_count": 57,
   "metadata": {},
   "outputs": [],
   "source": [
    "# Unifying values for procedence\n",
    "covid[ 'Pais procedencia' ].replace( { '-   -': None }, inplace = True )"
   ]
  },
  {
   "cell_type": "code",
   "execution_count": 58,
   "metadata": {},
   "outputs": [],
   "source": [
    "covid.loc[ covid[ 'Fecha recuperacion' ].notnull(), 'Recuperado' ] = True\n",
    "covid.loc[ covid[ 'Fecha recuperacion' ].isnull(), 'Recuperado' ] = False"
   ]
  },
  {
   "cell_type": "code",
   "execution_count": 59,
   "metadata": {},
   "outputs": [],
   "source": [
    "covid.loc[ covid[ 'Fecha muerte' ].notnull(), 'Fallecido' ] = True\n",
    "covid.loc[ covid[ 'Fecha muerte' ].isnull(), 'Fallecido' ] = False"
   ]
  },
  {
   "cell_type": "code",
   "execution_count": 60,
   "metadata": {},
   "outputs": [],
   "source": [
    "covid[ 'Edad' ] = covid[ 'Edad' ].astype( int )"
   ]
  },
  {
   "cell_type": "code",
   "execution_count": 61,
   "metadata": {},
   "outputs": [],
   "source": [
    "def get_age_group( x ):\n",
    "    if x <= 19:\n",
    "        return '0 - 19'\n",
    "    elif x > 19 and x <= 39:\n",
    "        return '20 - 39'\n",
    "    elif x > 39 and x <= 59:\n",
    "        return '40 - 59'\n",
    "    elif x > 59 and x <= 79:\n",
    "        return '60 - 79'\n",
    "    elif x > 79:\n",
    "          return '80+'\n",
    "    else:\n",
    "        return None\n",
    "\n",
    "covid[ 'Grupo edad' ] = covid[ 'Edad' ].apply( get_age_group )"
   ]
  },
  {
   "cell_type": "code",
   "execution_count": 62,
   "metadata": {},
   "outputs": [
    {
     "data": {
      "text/plain": [
       "ID caso                          object\n",
       "Fecha notificacion       datetime64[ns]\n",
       "Codigo ciudad                    object\n",
       "Ciudad                           object\n",
       "Departamento                     object\n",
       "Atencion                         object\n",
       "Edad                              int64\n",
       "Sexo                             object\n",
       "Tipo                             object\n",
       "Estado                           object\n",
       "Pais procedencia                 object\n",
       "Fecha inicio sintomas    datetime64[ns]\n",
       "Fecha diagnostico        datetime64[ns]\n",
       "Fecha recuperacion       datetime64[ns]\n",
       "Fecha reporte web        datetime64[ns]\n",
       "Tipo recuperacion                object\n",
       "codigo_departamento              object\n",
       "codigo_pais                      object\n",
       "pertenencia_etnica               object\n",
       "Fecha muerte             datetime64[ns]\n",
       "nombre_grupo_etnico              object\n",
       "Asintomatico                       bool\n",
       "Recuperado                       object\n",
       "Fallecido                        object\n",
       "Grupo edad                       object\n",
       "dtype: object"
      ]
     },
     "execution_count": 62,
     "metadata": {},
     "output_type": "execute_result"
    }
   ],
   "source": [
    "# Getting the column types\n",
    "covid.dtypes"
   ]
  },
  {
   "cell_type": "code",
   "execution_count": 63,
   "metadata": {},
   "outputs": [
    {
     "data": {
      "text/html": [
       "<div>\n",
       "<style scoped>\n",
       "    .dataframe tbody tr th:only-of-type {\n",
       "        vertical-align: middle;\n",
       "    }\n",
       "\n",
       "    .dataframe tbody tr th {\n",
       "        vertical-align: top;\n",
       "    }\n",
       "\n",
       "    .dataframe thead th {\n",
       "        text-align: right;\n",
       "    }\n",
       "</style>\n",
       "<table border=\"1\" class=\"dataframe\">\n",
       "  <thead>\n",
       "    <tr style=\"text-align: right;\">\n",
       "      <th></th>\n",
       "      <th>ID caso</th>\n",
       "      <th>Fecha notificacion</th>\n",
       "      <th>Codigo ciudad</th>\n",
       "      <th>Ciudad</th>\n",
       "      <th>Departamento</th>\n",
       "      <th>Atencion</th>\n",
       "      <th>Edad</th>\n",
       "      <th>Sexo</th>\n",
       "      <th>Tipo</th>\n",
       "      <th>Estado</th>\n",
       "      <th>...</th>\n",
       "      <th>Tipo recuperacion</th>\n",
       "      <th>codigo_departamento</th>\n",
       "      <th>codigo_pais</th>\n",
       "      <th>pertenencia_etnica</th>\n",
       "      <th>Fecha muerte</th>\n",
       "      <th>nombre_grupo_etnico</th>\n",
       "      <th>Asintomatico</th>\n",
       "      <th>Recuperado</th>\n",
       "      <th>Fallecido</th>\n",
       "      <th>Grupo edad</th>\n",
       "    </tr>\n",
       "  </thead>\n",
       "  <tbody>\n",
       "    <tr>\n",
       "      <th>0</th>\n",
       "      <td>1</td>\n",
       "      <td>2020-03-02</td>\n",
       "      <td>11001</td>\n",
       "      <td>Bogotá D.C.</td>\n",
       "      <td>Bogotá D.C.</td>\n",
       "      <td>Recuperado</td>\n",
       "      <td>19</td>\n",
       "      <td>F</td>\n",
       "      <td>Importado</td>\n",
       "      <td>Leve</td>\n",
       "      <td>...</td>\n",
       "      <td>PCR</td>\n",
       "      <td>11</td>\n",
       "      <td>380</td>\n",
       "      <td>Otro</td>\n",
       "      <td>NaT</td>\n",
       "      <td>NaN</td>\n",
       "      <td>False</td>\n",
       "      <td>True</td>\n",
       "      <td>False</td>\n",
       "      <td>0 - 19</td>\n",
       "    </tr>\n",
       "    <tr>\n",
       "      <th>1</th>\n",
       "      <td>2</td>\n",
       "      <td>2020-03-06</td>\n",
       "      <td>76111</td>\n",
       "      <td>Guadalajara de Buga</td>\n",
       "      <td>Valle del Cauca</td>\n",
       "      <td>Recuperado</td>\n",
       "      <td>34</td>\n",
       "      <td>M</td>\n",
       "      <td>Importado</td>\n",
       "      <td>Leve</td>\n",
       "      <td>...</td>\n",
       "      <td>PCR</td>\n",
       "      <td>76</td>\n",
       "      <td>724</td>\n",
       "      <td>Otro</td>\n",
       "      <td>NaT</td>\n",
       "      <td>NaN</td>\n",
       "      <td>False</td>\n",
       "      <td>True</td>\n",
       "      <td>False</td>\n",
       "      <td>20 - 39</td>\n",
       "    </tr>\n",
       "    <tr>\n",
       "      <th>2</th>\n",
       "      <td>3</td>\n",
       "      <td>2020-03-07</td>\n",
       "      <td>05001</td>\n",
       "      <td>Medellín</td>\n",
       "      <td>Antioquia</td>\n",
       "      <td>Recuperado</td>\n",
       "      <td>50</td>\n",
       "      <td>F</td>\n",
       "      <td>Importado</td>\n",
       "      <td>Leve</td>\n",
       "      <td>...</td>\n",
       "      <td>PCR</td>\n",
       "      <td>5</td>\n",
       "      <td>724</td>\n",
       "      <td>Otro</td>\n",
       "      <td>NaT</td>\n",
       "      <td>NaN</td>\n",
       "      <td>False</td>\n",
       "      <td>True</td>\n",
       "      <td>False</td>\n",
       "      <td>40 - 59</td>\n",
       "    </tr>\n",
       "    <tr>\n",
       "      <th>3</th>\n",
       "      <td>4</td>\n",
       "      <td>2020-03-09</td>\n",
       "      <td>05001</td>\n",
       "      <td>Medellín</td>\n",
       "      <td>Antioquia</td>\n",
       "      <td>Recuperado</td>\n",
       "      <td>55</td>\n",
       "      <td>M</td>\n",
       "      <td>Relacionado</td>\n",
       "      <td>Leve</td>\n",
       "      <td>...</td>\n",
       "      <td>PCR</td>\n",
       "      <td>5</td>\n",
       "      <td>NaN</td>\n",
       "      <td>Otro</td>\n",
       "      <td>NaT</td>\n",
       "      <td>NaN</td>\n",
       "      <td>False</td>\n",
       "      <td>True</td>\n",
       "      <td>False</td>\n",
       "      <td>40 - 59</td>\n",
       "    </tr>\n",
       "    <tr>\n",
       "      <th>4</th>\n",
       "      <td>5</td>\n",
       "      <td>2020-03-09</td>\n",
       "      <td>05001</td>\n",
       "      <td>Medellín</td>\n",
       "      <td>Antioquia</td>\n",
       "      <td>Recuperado</td>\n",
       "      <td>25</td>\n",
       "      <td>M</td>\n",
       "      <td>Relacionado</td>\n",
       "      <td>Leve</td>\n",
       "      <td>...</td>\n",
       "      <td>PCR</td>\n",
       "      <td>5</td>\n",
       "      <td>NaN</td>\n",
       "      <td>Otro</td>\n",
       "      <td>NaT</td>\n",
       "      <td>NaN</td>\n",
       "      <td>False</td>\n",
       "      <td>True</td>\n",
       "      <td>False</td>\n",
       "      <td>20 - 39</td>\n",
       "    </tr>\n",
       "  </tbody>\n",
       "</table>\n",
       "<p>5 rows × 25 columns</p>\n",
       "</div>"
      ],
      "text/plain": [
       "  ID caso Fecha notificacion Codigo ciudad               Ciudad  \\\n",
       "0       1         2020-03-02         11001          Bogotá D.C.   \n",
       "1       2         2020-03-06         76111  Guadalajara de Buga   \n",
       "2       3         2020-03-07         05001             Medellín   \n",
       "3       4         2020-03-09         05001             Medellín   \n",
       "4       5         2020-03-09         05001             Medellín   \n",
       "\n",
       "      Departamento    Atencion  Edad Sexo         Tipo Estado  ...  \\\n",
       "0      Bogotá D.C.  Recuperado    19    F    Importado   Leve  ...   \n",
       "1  Valle del Cauca  Recuperado    34    M    Importado   Leve  ...   \n",
       "2        Antioquia  Recuperado    50    F    Importado   Leve  ...   \n",
       "3        Antioquia  Recuperado    55    M  Relacionado   Leve  ...   \n",
       "4        Antioquia  Recuperado    25    M  Relacionado   Leve  ...   \n",
       "\n",
       "  Tipo recuperacion codigo_departamento codigo_pais pertenencia_etnica  \\\n",
       "0               PCR                  11         380               Otro   \n",
       "1               PCR                  76         724               Otro   \n",
       "2               PCR                   5         724               Otro   \n",
       "3               PCR                   5         NaN               Otro   \n",
       "4               PCR                   5         NaN               Otro   \n",
       "\n",
       "  Fecha muerte nombre_grupo_etnico Asintomatico Recuperado Fallecido  \\\n",
       "0          NaT                 NaN        False       True     False   \n",
       "1          NaT                 NaN        False       True     False   \n",
       "2          NaT                 NaN        False       True     False   \n",
       "3          NaT                 NaN        False       True     False   \n",
       "4          NaT                 NaN        False       True     False   \n",
       "\n",
       "  Grupo edad  \n",
       "0     0 - 19  \n",
       "1    20 - 39  \n",
       "2    40 - 59  \n",
       "3    40 - 59  \n",
       "4    20 - 39  \n",
       "\n",
       "[5 rows x 25 columns]"
      ]
     },
     "execution_count": 63,
     "metadata": {},
     "output_type": "execute_result"
    }
   ],
   "source": [
    "# Showing the firts rows\n",
    "covid.head()"
   ]
  },
  {
   "cell_type": "code",
   "execution_count": 64,
   "metadata": {},
   "outputs": [
    {
     "data": {
      "text/plain": [
       "(136, 25)"
      ]
     },
     "execution_count": 64,
     "metadata": {},
     "output_type": "execute_result"
    }
   ],
   "source": [
    "# How many observations have null atention\n",
    "covid.loc[ covid[ 'Atencion' ].isnull() ].shape"
   ]
  },
  {
   "cell_type": "code",
   "execution_count": 65,
   "metadata": {},
   "outputs": [
    {
     "data": {
      "text/plain": [
       "(0, 25)"
      ]
     },
     "execution_count": 65,
     "metadata": {},
     "output_type": "execute_result"
    }
   ],
   "source": [
    "# How many observations have null status\n",
    "covid.loc[ covid[ 'Estado' ].isnull() ].shape"
   ]
  },
  {
   "cell_type": "code",
   "execution_count": 66,
   "metadata": {},
   "outputs": [],
   "source": [
    "del covid[ 'nombre_grupo_etnico' ]\n",
    "del covid[ 'pertenencia_etnica' ]\n",
    "del covid[ 'codigo_pais' ]"
   ]
  },
  {
   "cell_type": "code",
   "execution_count": 21,
   "metadata": {},
   "outputs": [],
   "source": [
    "del covid[ 'codigo_departamento' ]"
   ]
  },
  {
   "cell_type": "code",
   "execution_count": 67,
   "metadata": {},
   "outputs": [],
   "source": [
    "covid.to_csv( './data/covid19.csv', index = False )"
   ]
  },
  {
   "cell_type": "markdown",
   "metadata": {},
   "source": [
    "# Indicators"
   ]
  },
  {
   "cell_type": "code",
   "execution_count": 68,
   "metadata": {},
   "outputs": [
    {
     "data": {
      "text/plain": [
       "88591"
      ]
     },
     "execution_count": 68,
     "metadata": {},
     "output_type": "execute_result"
    }
   ],
   "source": [
    "covid[ 'ID caso' ].nunique()"
   ]
  },
  {
   "cell_type": "code",
   "execution_count": 69,
   "metadata": {},
   "outputs": [
    {
     "data": {
      "text/plain": [
       "36273"
      ]
     },
     "execution_count": 69,
     "metadata": {},
     "output_type": "execute_result"
    }
   ],
   "source": [
    "covid.loc[ covid[ 'Recuperado' ] == True ].shape[ 0 ]"
   ]
  },
  {
   "cell_type": "code",
   "execution_count": 70,
   "metadata": {},
   "outputs": [
    {
     "data": {
      "text/plain": [
       "3024"
      ]
     },
     "execution_count": 70,
     "metadata": {},
     "output_type": "execute_result"
    }
   ],
   "source": [
    "covid.loc[ covid[ 'Fallecido' ] == True ].shape[ 0 ]"
   ]
  },
  {
   "cell_type": "code",
   "execution_count": 71,
   "metadata": {},
   "outputs": [
    {
     "data": {
      "text/plain": [
       "5347"
      ]
     },
     "execution_count": 71,
     "metadata": {},
     "output_type": "execute_result"
    }
   ],
   "source": [
    "covid.loc[ ( covid[ 'Atencion' ] == 'Hospital' ) ].shape[ 0 ]"
   ]
  },
  {
   "cell_type": "code",
   "execution_count": 72,
   "metadata": {},
   "outputs": [
    {
     "data": {
      "text/plain": [
       "739"
      ]
     },
     "execution_count": 72,
     "metadata": {},
     "output_type": "execute_result"
    }
   ],
   "source": [
    "covid.loc[ ( covid[ 'Atencion' ] == 'Hospital UCI' ) ].shape[ 0 ]"
   ]
  },
  {
   "cell_type": "markdown",
   "metadata": {},
   "source": [
    "# Time series"
   ]
  },
  {
   "cell_type": "code",
   "execution_count": 73,
   "metadata": {},
   "outputs": [
    {
     "data": {
      "text/plain": [
       "<matplotlib.axes._subplots.AxesSubplot at 0x7f86f8447bd0>"
      ]
     },
     "execution_count": 73,
     "metadata": {},
     "output_type": "execute_result"
    },
    {
     "data": {
      "image/png": "[encoded data removed]",
      "text/plain": [
       "<Figure size 1440x576 with 1 Axes>"
      ]
     },
     "metadata": {
      "needs_background": "light"
     },
     "output_type": "display_data"
    }
   ],
   "source": [
    "# Plotting diagnosed cases by day\n",
    "covid.groupby( [ covid[ 'Fecha diagnostico' ].dt.date ] ).agg( { 'ID caso': 'count' } ).plot( figsize = ( 20, 8 ) )"
   ]
  },
  {
   "cell_type": "code",
   "execution_count": 74,
   "metadata": {},
   "outputs": [
    {
     "data": {
      "text/plain": [
       "<matplotlib.axes._subplots.AxesSubplot at 0x7f86ffdede10>"
      ]
     },
     "execution_count": 74,
     "metadata": {},
     "output_type": "execute_result"
    },
    {
     "data": {
      "image/png": "[encoded data removed]",
      "text/plain": [
       "<Figure size 1440x576 with 1 Axes>"
      ]
     },
     "metadata": {
      "needs_background": "light"
     },
     "output_type": "display_data"
    }
   ],
   "source": [
    "# Plotting diagnosed cases by day (cumulative sum)\n",
    "covid.groupby( [ covid[ 'Fecha diagnostico' ].dt.date ] ).agg( { 'ID caso': 'count' } ).cumsum().plot( figsize = ( 20, 8 ) )"
   ]
  },
  {
   "cell_type": "code",
   "execution_count": 75,
   "metadata": {},
   "outputs": [],
   "source": [
    "# Preparing and merging the groupings in one dataframe\n",
    "\n",
    "diagnosed = covid.groupby( [ covid[ 'Fecha diagnostico' ].dt.date ] ) \\\n",
    "    .agg( { 'ID caso': 'count' } ) \\\n",
    "    .cumsum() \\\n",
    "    .rename( columns = { 'Fecha diagnostico': 'Fecha', 'ID caso': 'Diagnosticados' } )\n",
    "\n",
    "recovered = covid.groupby( [ covid[ 'Fecha recuperacion' ].dt.date ] )  \\\n",
    "    .agg( { 'ID caso': 'count' } ) \\\n",
    "    .cumsum() \\\n",
    "    .rename( columns = { 'Fecha recuperacion': 'Fecha', 'ID caso': 'Recuperados' } )\n",
    "\n",
    "deaths = covid.groupby( [ covid[ 'Fecha muerte' ].dt.date ] )  \\\n",
    "    .agg( { 'ID caso': 'count' } ) \\\n",
    "    .cumsum() \\\n",
    "    .rename( columns = { 'Fecha muerte': 'Fecha', 'ID caso': 'Fallecidos' } )\n",
    "\n",
    "infections = diagnosed.merge( recovered, how = 'outer', left_index = True, right_index = True )\n",
    "infections = infections.merge( deaths, how = 'outer', left_index = True, right_index = True )\n",
    "infections.fillna( 0, inplace = True )"
   ]
  },
  {
   "cell_type": "raw",
   "metadata": {},
   "source": [
    "infections.drop( infections.tail( 1 ).index, inplace = True )"
   ]
  },
  {
   "cell_type": "code",
   "execution_count": 76,
   "metadata": {},
   "outputs": [
    {
     "data": {
      "text/html": [
       "<div>\n",
       "<style scoped>\n",
       "    .dataframe tbody tr th:only-of-type {\n",
       "        vertical-align: middle;\n",
       "    }\n",
       "\n",
       "    .dataframe tbody tr th {\n",
       "        vertical-align: top;\n",
       "    }\n",
       "\n",
       "    .dataframe thead th {\n",
       "        text-align: right;\n",
       "    }\n",
       "</style>\n",
       "<table border=\"1\" class=\"dataframe\">\n",
       "  <thead>\n",
       "    <tr style=\"text-align: right;\">\n",
       "      <th></th>\n",
       "      <th>Diagnosticados</th>\n",
       "      <th>Recuperados</th>\n",
       "      <th>Fallecidos</th>\n",
       "    </tr>\n",
       "  </thead>\n",
       "  <tbody>\n",
       "    <tr>\n",
       "      <th>2020-06-23</th>\n",
       "      <td>73850</td>\n",
       "      <td>31622.0</td>\n",
       "      <td>2867.0</td>\n",
       "    </tr>\n",
       "    <tr>\n",
       "      <th>2020-06-24</th>\n",
       "      <td>76297</td>\n",
       "      <td>32694.0</td>\n",
       "      <td>2935.0</td>\n",
       "    </tr>\n",
       "    <tr>\n",
       "      <th>2020-06-25</th>\n",
       "      <td>79564</td>\n",
       "      <td>34183.0</td>\n",
       "      <td>2986.0</td>\n",
       "    </tr>\n",
       "    <tr>\n",
       "      <th>2020-06-26</th>\n",
       "      <td>83829</td>\n",
       "      <td>35353.0</td>\n",
       "      <td>3017.0</td>\n",
       "    </tr>\n",
       "    <tr>\n",
       "      <th>2020-06-27</th>\n",
       "      <td>86587</td>\n",
       "      <td>36273.0</td>\n",
       "      <td>3024.0</td>\n",
       "    </tr>\n",
       "  </tbody>\n",
       "</table>\n",
       "</div>"
      ],
      "text/plain": [
       "            Diagnosticados  Recuperados  Fallecidos\n",
       "2020-06-23           73850      31622.0      2867.0\n",
       "2020-06-24           76297      32694.0      2935.0\n",
       "2020-06-25           79564      34183.0      2986.0\n",
       "2020-06-26           83829      35353.0      3017.0\n",
       "2020-06-27           86587      36273.0      3024.0"
      ]
     },
     "execution_count": 76,
     "metadata": {},
     "output_type": "execute_result"
    }
   ],
   "source": [
    "infections.tail()"
   ]
  },
  {
   "cell_type": "code",
   "execution_count": 77,
   "metadata": {},
   "outputs": [
    {
     "data": {
      "text/plain": [
       "<matplotlib.axes._subplots.AxesSubplot at 0x7f8700018d10>"
      ]
     },
     "execution_count": 77,
     "metadata": {},
     "output_type": "execute_result"
    },
    {
     "data": {
      "image/png": "[encoded data removed]",
      "text/plain": [
       "<Figure size 1440x576 with 1 Axes>"
      ]
     },
     "metadata": {
      "needs_background": "light"
     },
     "output_type": "display_data"
    }
   ],
   "source": [
    "# Plotting diagnosed and recovered cases by day\n",
    "infections.plot( figsize = ( 20, 8 ) )"
   ]
  },
  {
   "cell_type": "code",
   "execution_count": 78,
   "metadata": {},
   "outputs": [],
   "source": [
    "# Calculating the difference between diagnosed and recovered cases\n",
    "infections[ 'Casos activos' ] = infections[ 'Diagnosticados' ] - infections[ 'Recuperados' ]"
   ]
  },
  {
   "cell_type": "code",
   "execution_count": 79,
   "metadata": {},
   "outputs": [
    {
     "data": {
      "text/html": [
       "<div>\n",
       "<style scoped>\n",
       "    .dataframe tbody tr th:only-of-type {\n",
       "        vertical-align: middle;\n",
       "    }\n",
       "\n",
       "    .dataframe tbody tr th {\n",
       "        vertical-align: top;\n",
       "    }\n",
       "\n",
       "    .dataframe thead th {\n",
       "        text-align: right;\n",
       "    }\n",
       "</style>\n",
       "<table border=\"1\" class=\"dataframe\">\n",
       "  <thead>\n",
       "    <tr style=\"text-align: right;\">\n",
       "      <th></th>\n",
       "      <th>Diagnosticados</th>\n",
       "      <th>Recuperados</th>\n",
       "      <th>Fallecidos</th>\n",
       "      <th>Casos activos</th>\n",
       "    </tr>\n",
       "  </thead>\n",
       "  <tbody>\n",
       "    <tr>\n",
       "      <th>2020-06-23</th>\n",
       "      <td>73850</td>\n",
       "      <td>31622.0</td>\n",
       "      <td>2867.0</td>\n",
       "      <td>42228.0</td>\n",
       "    </tr>\n",
       "    <tr>\n",
       "      <th>2020-06-24</th>\n",
       "      <td>76297</td>\n",
       "      <td>32694.0</td>\n",
       "      <td>2935.0</td>\n",
       "      <td>43603.0</td>\n",
       "    </tr>\n",
       "    <tr>\n",
       "      <th>2020-06-25</th>\n",
       "      <td>79564</td>\n",
       "      <td>34183.0</td>\n",
       "      <td>2986.0</td>\n",
       "      <td>45381.0</td>\n",
       "    </tr>\n",
       "    <tr>\n",
       "      <th>2020-06-26</th>\n",
       "      <td>83829</td>\n",
       "      <td>35353.0</td>\n",
       "      <td>3017.0</td>\n",
       "      <td>48476.0</td>\n",
       "    </tr>\n",
       "    <tr>\n",
       "      <th>2020-06-27</th>\n",
       "      <td>86587</td>\n",
       "      <td>36273.0</td>\n",
       "      <td>3024.0</td>\n",
       "      <td>50314.0</td>\n",
       "    </tr>\n",
       "  </tbody>\n",
       "</table>\n",
       "</div>"
      ],
      "text/plain": [
       "            Diagnosticados  Recuperados  Fallecidos  Casos activos\n",
       "2020-06-23           73850      31622.0      2867.0        42228.0\n",
       "2020-06-24           76297      32694.0      2935.0        43603.0\n",
       "2020-06-25           79564      34183.0      2986.0        45381.0\n",
       "2020-06-26           83829      35353.0      3017.0        48476.0\n",
       "2020-06-27           86587      36273.0      3024.0        50314.0"
      ]
     },
     "execution_count": 79,
     "metadata": {},
     "output_type": "execute_result"
    }
   ],
   "source": [
    "infections.tail()"
   ]
  },
  {
   "cell_type": "code",
   "execution_count": 80,
   "metadata": {},
   "outputs": [
    {
     "data": {
      "text/plain": [
       "<matplotlib.axes._subplots.AxesSubplot at 0x7f870012a290>"
      ]
     },
     "execution_count": 80,
     "metadata": {},
     "output_type": "execute_result"
    },
    {
     "data": {
      "image/png": "[encoded data removed]",
      "text/plain": [
       "<Figure size 1440x576 with 1 Axes>"
      ]
     },
     "metadata": {
      "needs_background": "light"
     },
     "output_type": "display_data"
    }
   ],
   "source": [
    "# Plotting difference cases by day\n",
    "infections[ 'Casos activos' ].plot( figsize = ( 20, 8 ) )"
   ]
  },
  {
   "cell_type": "markdown",
   "metadata": {},
   "source": [
    "# Geo"
   ]
  },
  {
   "cell_type": "code",
   "execution_count": 81,
   "metadata": {},
   "outputs": [
    {
     "data": {
      "text/html": [
       "<div>\n",
       "<style scoped>\n",
       "    .dataframe tbody tr th:only-of-type {\n",
       "        vertical-align: middle;\n",
       "    }\n",
       "\n",
       "    .dataframe tbody tr th {\n",
       "        vertical-align: top;\n",
       "    }\n",
       "\n",
       "    .dataframe thead th {\n",
       "        text-align: right;\n",
       "    }\n",
       "</style>\n",
       "<table border=\"1\" class=\"dataframe\">\n",
       "  <thead>\n",
       "    <tr style=\"text-align: right;\">\n",
       "      <th></th>\n",
       "      <th>ID caso</th>\n",
       "      <th>Fecha notificacion</th>\n",
       "      <th>Codigo ciudad</th>\n",
       "      <th>Ciudad</th>\n",
       "      <th>Departamento</th>\n",
       "      <th>Atencion</th>\n",
       "      <th>Edad</th>\n",
       "      <th>Sexo</th>\n",
       "      <th>Tipo</th>\n",
       "      <th>Estado</th>\n",
       "      <th>...</th>\n",
       "      <th>Fecha diagnostico</th>\n",
       "      <th>Fecha recuperacion</th>\n",
       "      <th>Fecha reporte web</th>\n",
       "      <th>Tipo recuperacion</th>\n",
       "      <th>codigo_departamento</th>\n",
       "      <th>Fecha muerte</th>\n",
       "      <th>Asintomatico</th>\n",
       "      <th>Recuperado</th>\n",
       "      <th>Fallecido</th>\n",
       "      <th>Grupo edad</th>\n",
       "    </tr>\n",
       "  </thead>\n",
       "  <tbody>\n",
       "    <tr>\n",
       "      <th>0</th>\n",
       "      <td>1</td>\n",
       "      <td>2020-03-02</td>\n",
       "      <td>11001</td>\n",
       "      <td>Bogotá D.C.</td>\n",
       "      <td>Bogotá D.C.</td>\n",
       "      <td>Recuperado</td>\n",
       "      <td>19</td>\n",
       "      <td>F</td>\n",
       "      <td>Importado</td>\n",
       "      <td>Leve</td>\n",
       "      <td>...</td>\n",
       "      <td>2020-03-06</td>\n",
       "      <td>2020-03-13</td>\n",
       "      <td>2020-03-06</td>\n",
       "      <td>PCR</td>\n",
       "      <td>11</td>\n",
       "      <td>NaT</td>\n",
       "      <td>False</td>\n",
       "      <td>True</td>\n",
       "      <td>False</td>\n",
       "      <td>0 - 19</td>\n",
       "    </tr>\n",
       "    <tr>\n",
       "      <th>1</th>\n",
       "      <td>2</td>\n",
       "      <td>2020-03-06</td>\n",
       "      <td>76111</td>\n",
       "      <td>Guadalajara de Buga</td>\n",
       "      <td>Valle del Cauca</td>\n",
       "      <td>Recuperado</td>\n",
       "      <td>34</td>\n",
       "      <td>M</td>\n",
       "      <td>Importado</td>\n",
       "      <td>Leve</td>\n",
       "      <td>...</td>\n",
       "      <td>2020-03-09</td>\n",
       "      <td>2020-03-19</td>\n",
       "      <td>2020-03-09</td>\n",
       "      <td>PCR</td>\n",
       "      <td>76</td>\n",
       "      <td>NaT</td>\n",
       "      <td>False</td>\n",
       "      <td>True</td>\n",
       "      <td>False</td>\n",
       "      <td>20 - 39</td>\n",
       "    </tr>\n",
       "    <tr>\n",
       "      <th>2</th>\n",
       "      <td>3</td>\n",
       "      <td>2020-03-07</td>\n",
       "      <td>05001</td>\n",
       "      <td>Medellín</td>\n",
       "      <td>Antioquia</td>\n",
       "      <td>Recuperado</td>\n",
       "      <td>50</td>\n",
       "      <td>F</td>\n",
       "      <td>Importado</td>\n",
       "      <td>Leve</td>\n",
       "      <td>...</td>\n",
       "      <td>2020-03-09</td>\n",
       "      <td>2020-03-15</td>\n",
       "      <td>2020-03-09</td>\n",
       "      <td>PCR</td>\n",
       "      <td>5</td>\n",
       "      <td>NaT</td>\n",
       "      <td>False</td>\n",
       "      <td>True</td>\n",
       "      <td>False</td>\n",
       "      <td>40 - 59</td>\n",
       "    </tr>\n",
       "    <tr>\n",
       "      <th>3</th>\n",
       "      <td>4</td>\n",
       "      <td>2020-03-09</td>\n",
       "      <td>05001</td>\n",
       "      <td>Medellín</td>\n",
       "      <td>Antioquia</td>\n",
       "      <td>Recuperado</td>\n",
       "      <td>55</td>\n",
       "      <td>M</td>\n",
       "      <td>Relacionado</td>\n",
       "      <td>Leve</td>\n",
       "      <td>...</td>\n",
       "      <td>2020-03-11</td>\n",
       "      <td>2020-03-26</td>\n",
       "      <td>2020-03-11</td>\n",
       "      <td>PCR</td>\n",
       "      <td>5</td>\n",
       "      <td>NaT</td>\n",
       "      <td>False</td>\n",
       "      <td>True</td>\n",
       "      <td>False</td>\n",
       "      <td>40 - 59</td>\n",
       "    </tr>\n",
       "    <tr>\n",
       "      <th>4</th>\n",
       "      <td>5</td>\n",
       "      <td>2020-03-09</td>\n",
       "      <td>05001</td>\n",
       "      <td>Medellín</td>\n",
       "      <td>Antioquia</td>\n",
       "      <td>Recuperado</td>\n",
       "      <td>25</td>\n",
       "      <td>M</td>\n",
       "      <td>Relacionado</td>\n",
       "      <td>Leve</td>\n",
       "      <td>...</td>\n",
       "      <td>2020-03-11</td>\n",
       "      <td>2020-03-23</td>\n",
       "      <td>2020-03-11</td>\n",
       "      <td>PCR</td>\n",
       "      <td>5</td>\n",
       "      <td>NaT</td>\n",
       "      <td>False</td>\n",
       "      <td>True</td>\n",
       "      <td>False</td>\n",
       "      <td>20 - 39</td>\n",
       "    </tr>\n",
       "  </tbody>\n",
       "</table>\n",
       "<p>5 rows × 22 columns</p>\n",
       "</div>"
      ],
      "text/plain": [
       "  ID caso Fecha notificacion Codigo ciudad               Ciudad  \\\n",
       "0       1         2020-03-02         11001          Bogotá D.C.   \n",
       "1       2         2020-03-06         76111  Guadalajara de Buga   \n",
       "2       3         2020-03-07         05001             Medellín   \n",
       "3       4         2020-03-09         05001             Medellín   \n",
       "4       5         2020-03-09         05001             Medellín   \n",
       "\n",
       "      Departamento    Atencion  Edad Sexo         Tipo Estado  ...  \\\n",
       "0      Bogotá D.C.  Recuperado    19    F    Importado   Leve  ...   \n",
       "1  Valle del Cauca  Recuperado    34    M    Importado   Leve  ...   \n",
       "2        Antioquia  Recuperado    50    F    Importado   Leve  ...   \n",
       "3        Antioquia  Recuperado    55    M  Relacionado   Leve  ...   \n",
       "4        Antioquia  Recuperado    25    M  Relacionado   Leve  ...   \n",
       "\n",
       "  Fecha diagnostico Fecha recuperacion Fecha reporte web Tipo recuperacion  \\\n",
       "0        2020-03-06         2020-03-13        2020-03-06               PCR   \n",
       "1        2020-03-09         2020-03-19        2020-03-09               PCR   \n",
       "2        2020-03-09         2020-03-15        2020-03-09               PCR   \n",
       "3        2020-03-11         2020-03-26        2020-03-11               PCR   \n",
       "4        2020-03-11         2020-03-23        2020-03-11               PCR   \n",
       "\n",
       "  codigo_departamento Fecha muerte Asintomatico Recuperado  Fallecido  \\\n",
       "0                  11          NaT        False       True      False   \n",
       "1                  76          NaT        False       True      False   \n",
       "2                   5          NaT        False       True      False   \n",
       "3                   5          NaT        False       True      False   \n",
       "4                   5          NaT        False       True      False   \n",
       "\n",
       "  Grupo edad  \n",
       "0     0 - 19  \n",
       "1    20 - 39  \n",
       "2    40 - 59  \n",
       "3    40 - 59  \n",
       "4    20 - 39  \n",
       "\n",
       "[5 rows x 22 columns]"
      ]
     },
     "execution_count": 81,
     "metadata": {},
     "output_type": "execute_result"
    }
   ],
   "source": [
    "covid.head()"
   ]
  },
  {
   "cell_type": "code",
   "execution_count": 82,
   "metadata": {},
   "outputs": [
    {
     "data": {
      "text/plain": [
       "Casa            43157\n",
       "Recuperado      36273\n",
       "Hospital         5347\n",
       "Fallecido        2939\n",
       "Hospital UCI      739\n",
       "NaN               136\n",
       "Name: Atencion, dtype: int64"
      ]
     },
     "execution_count": 82,
     "metadata": {},
     "output_type": "execute_result"
    }
   ],
   "source": [
    "covid[ 'Atencion' ].value_counts( dropna = False )"
   ]
  },
  {
   "cell_type": "code",
   "execution_count": 40,
   "metadata": {
    "collapsed": true,
    "jupyter": {
     "outputs_hidden": true,
     "source_hidden": true
    }
   },
   "outputs": [
    {
     "ename": "KeyError",
     "evalue": "'Codigo DIVIPOLA'",
     "output_type": "error",
     "traceback": [
      "\u001b[0;31m---------------------------------------------------------------------------\u001b[0m",
      "\u001b[0;31mKeyError\u001b[0m                                  Traceback (most recent call last)",
      "\u001b[0;32m~/anaconda3/lib/python3.7/site-packages/pandas/core/indexes/base.py\u001b[0m in \u001b[0;36mget_loc\u001b[0;34m(self, key, method, tolerance)\u001b[0m\n\u001b[1;32m   2645\u001b[0m             \u001b[0;32mtry\u001b[0m\u001b[0;34m:\u001b[0m\u001b[0;34m\u001b[0m\u001b[0;34m\u001b[0m\u001b[0m\n\u001b[0;32m-> 2646\u001b[0;31m                 \u001b[0;32mreturn\u001b[0m \u001b[0mself\u001b[0m\u001b[0;34m.\u001b[0m\u001b[0m_engine\u001b[0m\u001b[0;34m.\u001b[0m\u001b[0mget_loc\u001b[0m\u001b[0;34m(\u001b[0m\u001b[0mkey\u001b[0m\u001b[0;34m)\u001b[0m\u001b[0;34m\u001b[0m\u001b[0;34m\u001b[0m\u001b[0m\n\u001b[0m\u001b[1;32m   2647\u001b[0m             \u001b[0;32mexcept\u001b[0m \u001b[0mKeyError\u001b[0m\u001b[0;34m:\u001b[0m\u001b[0;34m\u001b[0m\u001b[0;34m\u001b[0m\u001b[0m\n",
      "\u001b[0;32mpandas/_libs/index.pyx\u001b[0m in \u001b[0;36mpandas._libs.index.IndexEngine.get_loc\u001b[0;34m()\u001b[0m\n",
      "\u001b[0;32mpandas/_libs/index.pyx\u001b[0m in \u001b[0;36mpandas._libs.index.IndexEngine.get_loc\u001b[0;34m()\u001b[0m\n",
      "\u001b[0;32mpandas/_libs/hashtable_class_helper.pxi\u001b[0m in \u001b[0;36mpandas._libs.hashtable.PyObjectHashTable.get_item\u001b[0;34m()\u001b[0m\n",
      "\u001b[0;32mpandas/_libs/hashtable_class_helper.pxi\u001b[0m in \u001b[0;36mpandas._libs.hashtable.PyObjectHashTable.get_item\u001b[0;34m()\u001b[0m\n",
      "\u001b[0;31mKeyError\u001b[0m: 'Codigo DIVIPOLA'",
      "\nDuring handling of the above exception, another exception occurred:\n",
      "\u001b[0;31mKeyError\u001b[0m                                  Traceback (most recent call last)",
      "\u001b[0;32m<ipython-input-40-753f49e09d6a>\u001b[0m in \u001b[0;36m<module>\u001b[0;34m\u001b[0m\n\u001b[1;32m      6\u001b[0m         \u001b[0;32mreturn\u001b[0m \u001b[0;36m0\u001b[0m\u001b[0;34m\u001b[0m\u001b[0;34m\u001b[0m\u001b[0m\n\u001b[1;32m      7\u001b[0m \u001b[0;34m\u001b[0m\u001b[0m\n\u001b[0;32m----> 8\u001b[0;31m \u001b[0mcovid\u001b[0m\u001b[0;34m[\u001b[0m \u001b[0;34m'codigo_departamento'\u001b[0m \u001b[0;34m]\u001b[0m \u001b[0;34m=\u001b[0m \u001b[0mcovid\u001b[0m\u001b[0;34m[\u001b[0m \u001b[0;34m'Codigo DIVIPOLA'\u001b[0m \u001b[0;34m]\u001b[0m\u001b[0;34m.\u001b[0m\u001b[0mapply\u001b[0m\u001b[0;34m(\u001b[0m \u001b[0;32mlambda\u001b[0m \u001b[0mx\u001b[0m\u001b[0;34m:\u001b[0m \u001b[0mextract_depto\u001b[0m\u001b[0;34m(\u001b[0m \u001b[0mx\u001b[0m \u001b[0;34m)\u001b[0m \u001b[0;34m)\u001b[0m\u001b[0;34m\u001b[0m\u001b[0;34m\u001b[0m\u001b[0m\n\u001b[0m",
      "\u001b[0;32m~/anaconda3/lib/python3.7/site-packages/pandas/core/frame.py\u001b[0m in \u001b[0;36m__getitem__\u001b[0;34m(self, key)\u001b[0m\n\u001b[1;32m   2798\u001b[0m             \u001b[0;32mif\u001b[0m \u001b[0mself\u001b[0m\u001b[0;34m.\u001b[0m\u001b[0mcolumns\u001b[0m\u001b[0;34m.\u001b[0m\u001b[0mnlevels\u001b[0m \u001b[0;34m>\u001b[0m \u001b[0;36m1\u001b[0m\u001b[0;34m:\u001b[0m\u001b[0;34m\u001b[0m\u001b[0;34m\u001b[0m\u001b[0m\n\u001b[1;32m   2799\u001b[0m                 \u001b[0;32mreturn\u001b[0m \u001b[0mself\u001b[0m\u001b[0;34m.\u001b[0m\u001b[0m_getitem_multilevel\u001b[0m\u001b[0;34m(\u001b[0m\u001b[0mkey\u001b[0m\u001b[0;34m)\u001b[0m\u001b[0;34m\u001b[0m\u001b[0;34m\u001b[0m\u001b[0m\n\u001b[0;32m-> 2800\u001b[0;31m             \u001b[0mindexer\u001b[0m \u001b[0;34m=\u001b[0m \u001b[0mself\u001b[0m\u001b[0;34m.\u001b[0m\u001b[0mcolumns\u001b[0m\u001b[0;34m.\u001b[0m\u001b[0mget_loc\u001b[0m\u001b[0;34m(\u001b[0m\u001b[0mkey\u001b[0m\u001b[0;34m)\u001b[0m\u001b[0;34m\u001b[0m\u001b[0;34m\u001b[0m\u001b[0m\n\u001b[0m\u001b[1;32m   2801\u001b[0m             \u001b[0;32mif\u001b[0m \u001b[0mis_integer\u001b[0m\u001b[0;34m(\u001b[0m\u001b[0mindexer\u001b[0m\u001b[0;34m)\u001b[0m\u001b[0;34m:\u001b[0m\u001b[0;34m\u001b[0m\u001b[0;34m\u001b[0m\u001b[0m\n\u001b[1;32m   2802\u001b[0m                 \u001b[0mindexer\u001b[0m \u001b[0;34m=\u001b[0m \u001b[0;34m[\u001b[0m\u001b[0mindexer\u001b[0m\u001b[0;34m]\u001b[0m\u001b[0;34m\u001b[0m\u001b[0;34m\u001b[0m\u001b[0m\n",
      "\u001b[0;32m~/anaconda3/lib/python3.7/site-packages/pandas/core/indexes/base.py\u001b[0m in \u001b[0;36mget_loc\u001b[0;34m(self, key, method, tolerance)\u001b[0m\n\u001b[1;32m   2646\u001b[0m                 \u001b[0;32mreturn\u001b[0m \u001b[0mself\u001b[0m\u001b[0;34m.\u001b[0m\u001b[0m_engine\u001b[0m\u001b[0;34m.\u001b[0m\u001b[0mget_loc\u001b[0m\u001b[0;34m(\u001b[0m\u001b[0mkey\u001b[0m\u001b[0;34m)\u001b[0m\u001b[0;34m\u001b[0m\u001b[0;34m\u001b[0m\u001b[0m\n\u001b[1;32m   2647\u001b[0m             \u001b[0;32mexcept\u001b[0m \u001b[0mKeyError\u001b[0m\u001b[0;34m:\u001b[0m\u001b[0;34m\u001b[0m\u001b[0;34m\u001b[0m\u001b[0m\n\u001b[0;32m-> 2648\u001b[0;31m                 \u001b[0;32mreturn\u001b[0m \u001b[0mself\u001b[0m\u001b[0;34m.\u001b[0m\u001b[0m_engine\u001b[0m\u001b[0;34m.\u001b[0m\u001b[0mget_loc\u001b[0m\u001b[0;34m(\u001b[0m\u001b[0mself\u001b[0m\u001b[0;34m.\u001b[0m\u001b[0m_maybe_cast_indexer\u001b[0m\u001b[0;34m(\u001b[0m\u001b[0mkey\u001b[0m\u001b[0;34m)\u001b[0m\u001b[0;34m)\u001b[0m\u001b[0;34m\u001b[0m\u001b[0;34m\u001b[0m\u001b[0m\n\u001b[0m\u001b[1;32m   2649\u001b[0m         \u001b[0mindexer\u001b[0m \u001b[0;34m=\u001b[0m \u001b[0mself\u001b[0m\u001b[0;34m.\u001b[0m\u001b[0mget_indexer\u001b[0m\u001b[0;34m(\u001b[0m\u001b[0;34m[\u001b[0m\u001b[0mkey\u001b[0m\u001b[0;34m]\u001b[0m\u001b[0;34m,\u001b[0m \u001b[0mmethod\u001b[0m\u001b[0;34m=\u001b[0m\u001b[0mmethod\u001b[0m\u001b[0;34m,\u001b[0m \u001b[0mtolerance\u001b[0m\u001b[0;34m=\u001b[0m\u001b[0mtolerance\u001b[0m\u001b[0;34m)\u001b[0m\u001b[0;34m\u001b[0m\u001b[0;34m\u001b[0m\u001b[0m\n\u001b[1;32m   2650\u001b[0m         \u001b[0;32mif\u001b[0m \u001b[0mindexer\u001b[0m\u001b[0;34m.\u001b[0m\u001b[0mndim\u001b[0m \u001b[0;34m>\u001b[0m \u001b[0;36m1\u001b[0m \u001b[0;32mor\u001b[0m \u001b[0mindexer\u001b[0m\u001b[0;34m.\u001b[0m\u001b[0msize\u001b[0m \u001b[0;34m>\u001b[0m \u001b[0;36m1\u001b[0m\u001b[0;34m:\u001b[0m\u001b[0;34m\u001b[0m\u001b[0;34m\u001b[0m\u001b[0m\n",
      "\u001b[0;32mpandas/_libs/index.pyx\u001b[0m in \u001b[0;36mpandas._libs.index.IndexEngine.get_loc\u001b[0;34m()\u001b[0m\n",
      "\u001b[0;32mpandas/_libs/index.pyx\u001b[0m in \u001b[0;36mpandas._libs.index.IndexEngine.get_loc\u001b[0;34m()\u001b[0m\n",
      "\u001b[0;32mpandas/_libs/hashtable_class_helper.pxi\u001b[0m in \u001b[0;36mpandas._libs.hashtable.PyObjectHashTable.get_item\u001b[0;34m()\u001b[0m\n",
      "\u001b[0;32mpandas/_libs/hashtable_class_helper.pxi\u001b[0m in \u001b[0;36mpandas._libs.hashtable.PyObjectHashTable.get_item\u001b[0;34m()\u001b[0m\n",
      "\u001b[0;31mKeyError\u001b[0m: 'Codigo DIVIPOLA'"
     ]
    }
   ],
   "source": [
    "def extract_depto( x ):\n",
    "    x = str( x )[ :-3 ]\n",
    "    try:\n",
    "        return int( x )\n",
    "    except:\n",
    "        return 0\n",
    "    \n",
    "covid[ 'codigo_departamento' ] = covid[ 'Codigo DIVIPOLA' ].apply( lambda x: extract_depto( x ) )"
   ]
  },
  {
   "cell_type": "code",
   "execution_count": 92,
   "metadata": {},
   "outputs": [],
   "source": [
    "cases_by_depto = covid.loc[ ~covid[ 'Atencion' ].isin( [ 'Recuperado', 'Fallecido' ] ) ].groupby( 'codigo_departamento' ).agg( { 'ID caso': 'count' } ).reset_index().rename( columns = { 'ID caso': 'Casos' } )"
   ]
  },
  {
   "cell_type": "code",
   "execution_count": 94,
   "metadata": {},
   "outputs": [],
   "source": [
    "cases_by_depto[ 'codigo_departamento' ] = cases_by_depto[ 'codigo_departamento' ].astype( int )"
   ]
  },
  {
   "cell_type": "code",
   "execution_count": 95,
   "metadata": {},
   "outputs": [
    {
     "data": {
      "text/plain": [
       "codigo_departamento    int64\n",
       "Casos                  int64\n",
       "dtype: object"
      ]
     },
     "execution_count": 95,
     "metadata": {},
     "output_type": "execute_result"
    }
   ],
   "source": [
    "cases_by_depto.dtypes"
   ]
  },
  {
   "cell_type": "code",
   "execution_count": 96,
   "metadata": {},
   "outputs": [
    {
     "data": {
      "text/html": [
       "<div>\n",
       "<style scoped>\n",
       "    .dataframe tbody tr th:only-of-type {\n",
       "        vertical-align: middle;\n",
       "    }\n",
       "\n",
       "    .dataframe tbody tr th {\n",
       "        vertical-align: top;\n",
       "    }\n",
       "\n",
       "    .dataframe thead th {\n",
       "        text-align: right;\n",
       "    }\n",
       "</style>\n",
       "<table border=\"1\" class=\"dataframe\">\n",
       "  <thead>\n",
       "    <tr style=\"text-align: right;\">\n",
       "      <th></th>\n",
       "      <th>codigo_departamento</th>\n",
       "      <th>Casos</th>\n",
       "    </tr>\n",
       "  </thead>\n",
       "  <tbody>\n",
       "    <tr>\n",
       "      <th>0</th>\n",
       "      <td>11</td>\n",
       "      <td>15136</td>\n",
       "    </tr>\n",
       "    <tr>\n",
       "      <th>1</th>\n",
       "      <td>13</td>\n",
       "      <td>4331</td>\n",
       "    </tr>\n",
       "    <tr>\n",
       "      <th>2</th>\n",
       "      <td>15</td>\n",
       "      <td>134</td>\n",
       "    </tr>\n",
       "    <tr>\n",
       "      <th>3</th>\n",
       "      <td>17</td>\n",
       "      <td>75</td>\n",
       "    </tr>\n",
       "    <tr>\n",
       "      <th>4</th>\n",
       "      <td>18</td>\n",
       "      <td>8</td>\n",
       "    </tr>\n",
       "  </tbody>\n",
       "</table>\n",
       "</div>"
      ],
      "text/plain": [
       "   codigo_departamento  Casos\n",
       "0                   11  15136\n",
       "1                   13   4331\n",
       "2                   15    134\n",
       "3                   17     75\n",
       "4                   18      8"
      ]
     },
     "execution_count": 96,
     "metadata": {},
     "output_type": "execute_result"
    }
   ],
   "source": [
    "cases_by_depto.head()"
   ]
  },
  {
   "cell_type": "code",
   "execution_count": 97,
   "metadata": {},
   "outputs": [],
   "source": [
    "departamentos = gpd.read_file( './data/geo/colombia/departamentos.json' )"
   ]
  },
  {
   "cell_type": "code",
   "execution_count": 98,
   "metadata": {},
   "outputs": [
    {
     "data": {
      "text/html": [
       "<div>\n",
       "<style scoped>\n",
       "    .dataframe tbody tr th:only-of-type {\n",
       "        vertical-align: middle;\n",
       "    }\n",
       "\n",
       "    .dataframe tbody tr th {\n",
       "        vertical-align: top;\n",
       "    }\n",
       "\n",
       "    .dataframe thead th {\n",
       "        text-align: right;\n",
       "    }\n",
       "</style>\n",
       "<table border=\"1\" class=\"dataframe\">\n",
       "  <thead>\n",
       "    <tr style=\"text-align: right;\">\n",
       "      <th></th>\n",
       "      <th>departamento</th>\n",
       "      <th>codigo_departamento</th>\n",
       "      <th>geometry</th>\n",
       "    </tr>\n",
       "  </thead>\n",
       "  <tbody>\n",
       "    <tr>\n",
       "      <th>0</th>\n",
       "      <td>SAN ANDRÉS PROVIDENCIA Y SANTA CATALINA</td>\n",
       "      <td>88</td>\n",
       "      <td>MULTIPOLYGON (((-81.70399 12.59487, -81.70394 ...</td>\n",
       "    </tr>\n",
       "    <tr>\n",
       "      <th>1</th>\n",
       "      <td>CAUCA</td>\n",
       "      <td>19</td>\n",
       "      <td>MULTIPOLYGON (((-76.44619 3.31639, -76.44597 3...</td>\n",
       "    </tr>\n",
       "    <tr>\n",
       "      <th>2</th>\n",
       "      <td>VALLE DEL CAUCA</td>\n",
       "      <td>76</td>\n",
       "      <td>MULTIPOLYGON (((-76.08076 5.04322, -76.08033 5...</td>\n",
       "    </tr>\n",
       "    <tr>\n",
       "      <th>3</th>\n",
       "      <td>ATLÁNTICO</td>\n",
       "      <td>8</td>\n",
       "      <td>MULTIPOLYGON (((-74.83855 11.06027, -74.83297 ...</td>\n",
       "    </tr>\n",
       "    <tr>\n",
       "      <th>4</th>\n",
       "      <td>RISARALDA</td>\n",
       "      <td>66</td>\n",
       "      <td>MULTIPOLYGON (((-76.00825 5.56368, -76.00765 5...</td>\n",
       "    </tr>\n",
       "  </tbody>\n",
       "</table>\n",
       "</div>"
      ],
      "text/plain": [
       "                              departamento  codigo_departamento  \\\n",
       "0  SAN ANDRÉS PROVIDENCIA Y SANTA CATALINA                   88   \n",
       "1                                    CAUCA                   19   \n",
       "2                          VALLE DEL CAUCA                   76   \n",
       "3                                ATLÁNTICO                    8   \n",
       "4                                RISARALDA                   66   \n",
       "\n",
       "                                            geometry  \n",
       "0  MULTIPOLYGON (((-81.70399 12.59487, -81.70394 ...  \n",
       "1  MULTIPOLYGON (((-76.44619 3.31639, -76.44597 3...  \n",
       "2  MULTIPOLYGON (((-76.08076 5.04322, -76.08033 5...  \n",
       "3  MULTIPOLYGON (((-74.83855 11.06027, -74.83297 ...  \n",
       "4  MULTIPOLYGON (((-76.00825 5.56368, -76.00765 5...  "
      ]
     },
     "execution_count": 98,
     "metadata": {},
     "output_type": "execute_result"
    }
   ],
   "source": [
    "departamentos.head()"
   ]
  },
  {
   "cell_type": "code",
   "execution_count": 99,
   "metadata": {},
   "outputs": [],
   "source": [
    "cases_by_depto = departamentos.merge( cases_by_depto, how = 'left', on = 'codigo_departamento' )\n",
    "cases_by_depto[ 'Casos' ] = cases_by_depto[ 'Casos' ].fillna( 0 )"
   ]
  },
  {
   "cell_type": "code",
   "execution_count": 101,
   "metadata": {},
   "outputs": [
    {
     "data": {
      "text/html": [
       "<div>\n",
       "<style scoped>\n",
       "    .dataframe tbody tr th:only-of-type {\n",
       "        vertical-align: middle;\n",
       "    }\n",
       "\n",
       "    .dataframe tbody tr th {\n",
       "        vertical-align: top;\n",
       "    }\n",
       "\n",
       "    .dataframe thead th {\n",
       "        text-align: right;\n",
       "    }\n",
       "</style>\n",
       "<table border=\"1\" class=\"dataframe\">\n",
       "  <thead>\n",
       "    <tr style=\"text-align: right;\">\n",
       "      <th></th>\n",
       "      <th>departamento</th>\n",
       "      <th>codigo_departamento</th>\n",
       "      <th>geometry</th>\n",
       "      <th>Casos</th>\n",
       "    </tr>\n",
       "  </thead>\n",
       "  <tbody>\n",
       "    <tr>\n",
       "      <th>0</th>\n",
       "      <td>SAN ANDRÉS PROVIDENCIA Y SANTA CATALINA</td>\n",
       "      <td>88</td>\n",
       "      <td>MULTIPOLYGON (((-81.70399 12.59487, -81.70394 ...</td>\n",
       "      <td>7.0</td>\n",
       "    </tr>\n",
       "    <tr>\n",
       "      <th>1</th>\n",
       "      <td>CAUCA</td>\n",
       "      <td>19</td>\n",
       "      <td>MULTIPOLYGON (((-76.44619 3.31639, -76.44597 3...</td>\n",
       "      <td>178.0</td>\n",
       "    </tr>\n",
       "    <tr>\n",
       "      <th>2</th>\n",
       "      <td>VALLE DEL CAUCA</td>\n",
       "      <td>76</td>\n",
       "      <td>MULTIPOLYGON (((-76.08076 5.04322, -76.08033 5...</td>\n",
       "      <td>4970.0</td>\n",
       "    </tr>\n",
       "    <tr>\n",
       "      <th>3</th>\n",
       "      <td>ATLÁNTICO</td>\n",
       "      <td>8</td>\n",
       "      <td>MULTIPOLYGON (((-74.83855 11.06027, -74.83297 ...</td>\n",
       "      <td>13954.0</td>\n",
       "    </tr>\n",
       "    <tr>\n",
       "      <th>4</th>\n",
       "      <td>RISARALDA</td>\n",
       "      <td>66</td>\n",
       "      <td>MULTIPOLYGON (((-76.00825 5.56368, -76.00765 5...</td>\n",
       "      <td>215.0</td>\n",
       "    </tr>\n",
       "    <tr>\n",
       "      <th>5</th>\n",
       "      <td>ANTIOQUIA</td>\n",
       "      <td>5</td>\n",
       "      <td>MULTIPOLYGON (((-76.41356 8.74766, -76.41269 8...</td>\n",
       "      <td>2371.0</td>\n",
       "    </tr>\n",
       "    <tr>\n",
       "      <th>6</th>\n",
       "      <td>QUINDÍO</td>\n",
       "      <td>63</td>\n",
       "      <td>MULTIPOLYGON (((-75.70002 4.72006, -75.69970 4...</td>\n",
       "      <td>43.0</td>\n",
       "    </tr>\n",
       "    <tr>\n",
       "      <th>7</th>\n",
       "      <td>BOLÍVAR</td>\n",
       "      <td>13</td>\n",
       "      <td>MULTIPOLYGON (((-75.25555 10.79960, -75.25546 ...</td>\n",
       "      <td>4331.0</td>\n",
       "    </tr>\n",
       "    <tr>\n",
       "      <th>8</th>\n",
       "      <td>CAQUETÁ</td>\n",
       "      <td>18</td>\n",
       "      <td>MULTIPOLYGON (((-74.89423 2.95852, -74.89410 2...</td>\n",
       "      <td>8.0</td>\n",
       "    </tr>\n",
       "    <tr>\n",
       "      <th>9</th>\n",
       "      <td>MAGDALENA</td>\n",
       "      <td>47</td>\n",
       "      <td>MULTIPOLYGON (((-74.04046 11.34612, -74.04084 ...</td>\n",
       "      <td>841.0</td>\n",
       "    </tr>\n",
       "    <tr>\n",
       "      <th>10</th>\n",
       "      <td>VICHADA</td>\n",
       "      <td>99</td>\n",
       "      <td>MULTIPOLYGON (((-67.80972 6.32432, -67.80946 6...</td>\n",
       "      <td>0.0</td>\n",
       "    </tr>\n",
       "    <tr>\n",
       "      <th>11</th>\n",
       "      <td>HUILA</td>\n",
       "      <td>41</td>\n",
       "      <td>MULTIPOLYGON (((-74.51853 3.83600, -74.51750 3...</td>\n",
       "      <td>69.0</td>\n",
       "    </tr>\n",
       "    <tr>\n",
       "      <th>12</th>\n",
       "      <td>CALDAS</td>\n",
       "      <td>17</td>\n",
       "      <td>MULTIPOLYGON (((-74.67036 5.77004, -74.66925 5...</td>\n",
       "      <td>75.0</td>\n",
       "    </tr>\n",
       "    <tr>\n",
       "      <th>13</th>\n",
       "      <td>CUNDINAMARCA</td>\n",
       "      <td>25</td>\n",
       "      <td>MULTIPOLYGON (((-74.14955 4.00475, -74.14966 4...</td>\n",
       "      <td>1157.0</td>\n",
       "    </tr>\n",
       "    <tr>\n",
       "      <th>14</th>\n",
       "      <td>GUAVIARE</td>\n",
       "      <td>95</td>\n",
       "      <td>MULTIPOLYGON (((-71.31266 2.92463, -71.31215 2...</td>\n",
       "      <td>34.0</td>\n",
       "    </tr>\n",
       "    <tr>\n",
       "      <th>15</th>\n",
       "      <td>CASANARE</td>\n",
       "      <td>85</td>\n",
       "      <td>MULTIPOLYGON (((-72.34771 6.34705, -72.34507 6...</td>\n",
       "      <td>29.0</td>\n",
       "    </tr>\n",
       "    <tr>\n",
       "      <th>16</th>\n",
       "      <td>CÓRDOBA</td>\n",
       "      <td>23</td>\n",
       "      <td>MULTIPOLYGON (((-75.91797 9.44406, -75.91791 9...</td>\n",
       "      <td>369.0</td>\n",
       "    </tr>\n",
       "    <tr>\n",
       "      <th>17</th>\n",
       "      <td>META</td>\n",
       "      <td>50</td>\n",
       "      <td>MULTIPOLYGON (((-71.07793 4.89910, -71.07767 4...</td>\n",
       "      <td>229.0</td>\n",
       "    </tr>\n",
       "    <tr>\n",
       "      <th>18</th>\n",
       "      <td>BOYACÁ</td>\n",
       "      <td>15</td>\n",
       "      <td>MULTIPOLYGON (((-72.15935 7.04166, -72.15870 7...</td>\n",
       "      <td>134.0</td>\n",
       "    </tr>\n",
       "    <tr>\n",
       "      <th>19</th>\n",
       "      <td>TOLIMA</td>\n",
       "      <td>73</td>\n",
       "      <td>MULTIPOLYGON (((-74.82540 5.31909, -74.82502 5...</td>\n",
       "      <td>447.0</td>\n",
       "    </tr>\n",
       "    <tr>\n",
       "      <th>20</th>\n",
       "      <td>SANTANDER</td>\n",
       "      <td>68</td>\n",
       "      <td>MULTIPOLYGON (((-73.77384 8.10709, -73.77382 8...</td>\n",
       "      <td>454.0</td>\n",
       "    </tr>\n",
       "    <tr>\n",
       "      <th>21</th>\n",
       "      <td>PUTUMAYO</td>\n",
       "      <td>86</td>\n",
       "      <td>MULTIPOLYGON (((-76.67050 1.46732, -76.67000 1...</td>\n",
       "      <td>5.0</td>\n",
       "    </tr>\n",
       "    <tr>\n",
       "      <th>22</th>\n",
       "      <td>ARAUCA</td>\n",
       "      <td>81</td>\n",
       "      <td>MULTIPOLYGON (((-70.68038 7.09393, -70.67987 7...</td>\n",
       "      <td>73.0</td>\n",
       "    </tr>\n",
       "    <tr>\n",
       "      <th>23</th>\n",
       "      <td>LA GUAJIRA</td>\n",
       "      <td>44</td>\n",
       "      <td>MULTIPOLYGON (((-71.65195 12.45582, -71.65154 ...</td>\n",
       "      <td>202.0</td>\n",
       "    </tr>\n",
       "    <tr>\n",
       "      <th>24</th>\n",
       "      <td>NORTE DE SANTANDER</td>\n",
       "      <td>54</td>\n",
       "      <td>MULTIPOLYGON (((-73.00391 9.28020, -73.00496 9...</td>\n",
       "      <td>135.0</td>\n",
       "    </tr>\n",
       "    <tr>\n",
       "      <th>25</th>\n",
       "      <td>CESAR</td>\n",
       "      <td>20</td>\n",
       "      <td>MULTIPOLYGON (((-73.46407 10.86365, -73.46250 ...</td>\n",
       "      <td>497.0</td>\n",
       "    </tr>\n",
       "    <tr>\n",
       "      <th>26</th>\n",
       "      <td>CHOCÓ</td>\n",
       "      <td>27</td>\n",
       "      <td>MULTIPOLYGON (((-77.36821 8.67737, -77.36771 8...</td>\n",
       "      <td>954.0</td>\n",
       "    </tr>\n",
       "    <tr>\n",
       "      <th>27</th>\n",
       "      <td>VAUPÉS</td>\n",
       "      <td>97</td>\n",
       "      <td>MULTIPOLYGON (((-70.11163 2.08031, -70.10981 2...</td>\n",
       "      <td>16.0</td>\n",
       "    </tr>\n",
       "    <tr>\n",
       "      <th>28</th>\n",
       "      <td>NARIÑO</td>\n",
       "      <td>52</td>\n",
       "      <td>MULTIPOLYGON (((-78.14213 2.67519, -78.14247 2...</td>\n",
       "      <td>1306.0</td>\n",
       "    </tr>\n",
       "    <tr>\n",
       "      <th>29</th>\n",
       "      <td>AMAZONAS</td>\n",
       "      <td>91</td>\n",
       "      <td>MULTIPOLYGON (((-71.14469 0.05572, -71.14508 0...</td>\n",
       "      <td>283.0</td>\n",
       "    </tr>\n",
       "    <tr>\n",
       "      <th>30</th>\n",
       "      <td>GUAINÍA</td>\n",
       "      <td>94</td>\n",
       "      <td>MULTIPOLYGON (((-67.67305 3.90931, -67.67008 3...</td>\n",
       "      <td>11.0</td>\n",
       "    </tr>\n",
       "    <tr>\n",
       "      <th>31</th>\n",
       "      <td>SUCRE</td>\n",
       "      <td>70</td>\n",
       "      <td>MULTIPOLYGON (((-75.49748 10.14548, -75.54482 ...</td>\n",
       "      <td>846.0</td>\n",
       "    </tr>\n",
       "    <tr>\n",
       "      <th>32</th>\n",
       "      <td>BOGOTÁ D.C.</td>\n",
       "      <td>11</td>\n",
       "      <td>MULTIPOLYGON (((-74.14955 4.00475, -74.15023 4...</td>\n",
       "      <td>15136.0</td>\n",
       "    </tr>\n",
       "  </tbody>\n",
       "</table>\n",
       "</div>"
      ],
      "text/plain": [
       "                               departamento  codigo_departamento  \\\n",
       "0   SAN ANDRÉS PROVIDENCIA Y SANTA CATALINA                   88   \n",
       "1                                     CAUCA                   19   \n",
       "2                           VALLE DEL CAUCA                   76   \n",
       "3                                 ATLÁNTICO                    8   \n",
       "4                                 RISARALDA                   66   \n",
       "5                                 ANTIOQUIA                    5   \n",
       "6                                   QUINDÍO                   63   \n",
       "7                                   BOLÍVAR                   13   \n",
       "8                                   CAQUETÁ                   18   \n",
       "9                                 MAGDALENA                   47   \n",
       "10                                  VICHADA                   99   \n",
       "11                                    HUILA                   41   \n",
       "12                                   CALDAS                   17   \n",
       "13                             CUNDINAMARCA                   25   \n",
       "14                                 GUAVIARE                   95   \n",
       "15                                 CASANARE                   85   \n",
       "16                                  CÓRDOBA                   23   \n",
       "17                                     META                   50   \n",
       "18                                   BOYACÁ                   15   \n",
       "19                                   TOLIMA                   73   \n",
       "20                                SANTANDER                   68   \n",
       "21                                 PUTUMAYO                   86   \n",
       "22                                   ARAUCA                   81   \n",
       "23                               LA GUAJIRA                   44   \n",
       "24                       NORTE DE SANTANDER                   54   \n",
       "25                                    CESAR                   20   \n",
       "26                                    CHOCÓ                   27   \n",
       "27                                   VAUPÉS                   97   \n",
       "28                                   NARIÑO                   52   \n",
       "29                                 AMAZONAS                   91   \n",
       "30                                  GUAINÍA                   94   \n",
       "31                                    SUCRE                   70   \n",
       "32                              BOGOTÁ D.C.                   11   \n",
       "\n",
       "                                             geometry    Casos  \n",
       "0   MULTIPOLYGON (((-81.70399 12.59487, -81.70394 ...      7.0  \n",
       "1   MULTIPOLYGON (((-76.44619 3.31639, -76.44597 3...    178.0  \n",
       "2   MULTIPOLYGON (((-76.08076 5.04322, -76.08033 5...   4970.0  \n",
       "3   MULTIPOLYGON (((-74.83855 11.06027, -74.83297 ...  13954.0  \n",
       "4   MULTIPOLYGON (((-76.00825 5.56368, -76.00765 5...    215.0  \n",
       "5   MULTIPOLYGON (((-76.41356 8.74766, -76.41269 8...   2371.0  \n",
       "6   MULTIPOLYGON (((-75.70002 4.72006, -75.69970 4...     43.0  \n",
       "7   MULTIPOLYGON (((-75.25555 10.79960, -75.25546 ...   4331.0  \n",
       "8   MULTIPOLYGON (((-74.89423 2.95852, -74.89410 2...      8.0  \n",
       "9   MULTIPOLYGON (((-74.04046 11.34612, -74.04084 ...    841.0  \n",
       "10  MULTIPOLYGON (((-67.80972 6.32432, -67.80946 6...      0.0  \n",
       "11  MULTIPOLYGON (((-74.51853 3.83600, -74.51750 3...     69.0  \n",
       "12  MULTIPOLYGON (((-74.67036 5.77004, -74.66925 5...     75.0  \n",
       "13  MULTIPOLYGON (((-74.14955 4.00475, -74.14966 4...   1157.0  \n",
       "14  MULTIPOLYGON (((-71.31266 2.92463, -71.31215 2...     34.0  \n",
       "15  MULTIPOLYGON (((-72.34771 6.34705, -72.34507 6...     29.0  \n",
       "16  MULTIPOLYGON (((-75.91797 9.44406, -75.91791 9...    369.0  \n",
       "17  MULTIPOLYGON (((-71.07793 4.89910, -71.07767 4...    229.0  \n",
       "18  MULTIPOLYGON (((-72.15935 7.04166, -72.15870 7...    134.0  \n",
       "19  MULTIPOLYGON (((-74.82540 5.31909, -74.82502 5...    447.0  \n",
       "20  MULTIPOLYGON (((-73.77384 8.10709, -73.77382 8...    454.0  \n",
       "21  MULTIPOLYGON (((-76.67050 1.46732, -76.67000 1...      5.0  \n",
       "22  MULTIPOLYGON (((-70.68038 7.09393, -70.67987 7...     73.0  \n",
       "23  MULTIPOLYGON (((-71.65195 12.45582, -71.65154 ...    202.0  \n",
       "24  MULTIPOLYGON (((-73.00391 9.28020, -73.00496 9...    135.0  \n",
       "25  MULTIPOLYGON (((-73.46407 10.86365, -73.46250 ...    497.0  \n",
       "26  MULTIPOLYGON (((-77.36821 8.67737, -77.36771 8...    954.0  \n",
       "27  MULTIPOLYGON (((-70.11163 2.08031, -70.10981 2...     16.0  \n",
       "28  MULTIPOLYGON (((-78.14213 2.67519, -78.14247 2...   1306.0  \n",
       "29  MULTIPOLYGON (((-71.14469 0.05572, -71.14508 0...    283.0  \n",
       "30  MULTIPOLYGON (((-67.67305 3.90931, -67.67008 3...     11.0  \n",
       "31  MULTIPOLYGON (((-75.49748 10.14548, -75.54482 ...    846.0  \n",
       "32  MULTIPOLYGON (((-74.14955 4.00475, -74.15023 4...  15136.0  "
      ]
     },
     "execution_count": 101,
     "metadata": {},
     "output_type": "execute_result"
    }
   ],
   "source": [
    "cases_by_depto"
   ]
  },
  {
   "cell_type": "code",
   "execution_count": 102,
   "metadata": {},
   "outputs": [],
   "source": [
    "# Removing San Andrés\n",
    "cases_by_depto = cases_by_depto.drop( [ 0 ] )"
   ]
  },
  {
   "cell_type": "code",
   "execution_count": 103,
   "metadata": {},
   "outputs": [
    {
     "name": "stderr",
     "output_type": "stream",
     "text": [
      "ERROR:fiona._env:./colombia-map/departamentos.json: No such file or directory\n",
      "WARNING:fiona._env:driver GeoJSON does not support creation option ENCODING\n"
     ]
    }
   ],
   "source": [
    "cases_by_depto.to_file( './colombia-map/departamentos.json', driver ='GeoJSON' )"
   ]
  },
  {
   "cell_type": "code",
   "execution_count": null,
   "metadata": {},
   "outputs": [],
   "source": []
  },
  {
   "cell_type": "code",
   "execution_count": null,
   "metadata": {},
   "outputs": [],
   "source": []
  },
  {
   "cell_type": "code",
   "execution_count": null,
   "metadata": {},
   "outputs": [],
   "source": []
  },
  {
   "cell_type": "code",
   "execution_count": null,
   "metadata": {},
   "outputs": [],
   "source": [
    "covid.rename( columns = { 'Fecha diagnostico': 'Fecha de diagnóstico', 'Ciudad de ubicación': 'Ciudad de residencia', 'Tipo': 'Tipo de caso', 'atención': 'Ubicación' }, inplace = True )"
   ]
  },
  {
   "cell_type": "code",
   "execution_count": null,
   "metadata": {},
   "outputs": [],
   "source": [
    "def get_age_group( x ):\n",
    "    if x <= 19:\n",
    "        return '0 - 19'\n",
    "    elif x > 19 and x <= 39:\n",
    "        return '20 - 39'\n",
    "    elif x > 39 and x <= 59:\n",
    "        return '40 - 59'\n",
    "    elif x > 59 and x <= 79:\n",
    "        return '60 - 79'\n",
    "    elif x > 79:\n",
    "          return '80+'\n",
    "    else:\n",
    "        return None\n",
    "\n",
    "covid[ 'Grupo de edad' ] = covid[ 'Edad' ].apply( get_age_group )"
   ]
  },
  {
   "cell_type": "code",
   "execution_count": null,
   "metadata": {},
   "outputs": [],
   "source": [
    "covid[ 'Localidad de residencia' ] = None"
   ]
  },
  {
   "cell_type": "code",
   "execution_count": null,
   "metadata": {},
   "outputs": [],
   "source": [
    "columns = [ 'ID de caso', 'Fecha de diagnóstico', 'Ciudad de residencia', 'Localidad de residencia', 'Edad', 'Sexo', 'Tipo de caso', 'Ubicación', 'Estado', 'Grupo de edad' ]"
   ]
  },
  {
   "cell_type": "code",
   "execution_count": null,
   "metadata": {},
   "outputs": [],
   "source": [
    "covid = covid[ columns ]"
   ]
  },
  {
   "cell_type": "markdown",
   "metadata": {},
   "source": [
    "# Barranquilla"
   ]
  },
  {
   "cell_type": "code",
   "execution_count": null,
   "metadata": {},
   "outputs": [],
   "source": [
    "barranquilla = covid.loc[ covid[ 'Ciudad de residencia' ] == 'Barranquilla' ]"
   ]
  },
  {
   "cell_type": "code",
   "execution_count": null,
   "metadata": {},
   "outputs": [],
   "source": [
    "barranquilla.shape"
   ]
  },
  {
   "cell_type": "code",
   "execution_count": null,
   "metadata": {},
   "outputs": [],
   "source": [
    "barranquilla.dtypes"
   ]
  },
  {
   "cell_type": "code",
   "execution_count": null,
   "metadata": {},
   "outputs": [],
   "source": [
    "barranquilla.tail()"
   ]
  },
  {
   "cell_type": "code",
   "execution_count": null,
   "metadata": {},
   "outputs": [],
   "source": [
    "barranquilla[ 'Ubicación' ].value_counts( dropna = False )"
   ]
  },
  {
   "cell_type": "code",
   "execution_count": null,
   "metadata": {},
   "outputs": [],
   "source": [
    "barranquilla.loc[ ~barranquilla[ 'Ubicación' ].isin( [ 'Recuperado', 'Fallecido' ] ) ].shape"
   ]
  },
  {
   "cell_type": "code",
   "execution_count": null,
   "metadata": {},
   "outputs": [],
   "source": [
    "barranquilla.loc[ barranquilla[ 'Ubicación' ] == 'Hospital UCI' ]"
   ]
  },
  {
   "cell_type": "code",
   "execution_count": null,
   "metadata": {},
   "outputs": [],
   "source": [
    "barranquilla.to_csv( './data/covid19_barranquilla.csv', index = False )"
   ]
  },
  {
   "cell_type": "markdown",
   "metadata": {},
   "source": [
    "# Medellín"
   ]
  },
  {
   "cell_type": "code",
   "execution_count": null,
   "metadata": {},
   "outputs": [],
   "source": [
    "medellin = covid.loc[ covid[ 'Ciudad de residencia' ] == 'Medellín' ]"
   ]
  },
  {
   "cell_type": "code",
   "execution_count": null,
   "metadata": {},
   "outputs": [],
   "source": [
    "medellin.shape"
   ]
  },
  {
   "cell_type": "code",
   "execution_count": null,
   "metadata": {},
   "outputs": [],
   "source": [
    "medellin.dtypes"
   ]
  },
  {
   "cell_type": "code",
   "execution_count": null,
   "metadata": {},
   "outputs": [],
   "source": [
    "medellin.tail()"
   ]
  },
  {
   "cell_type": "code",
   "execution_count": null,
   "metadata": {},
   "outputs": [],
   "source": [
    "medellin[ 'Ubicación' ].value_counts( dropna = False )"
   ]
  },
  {
   "cell_type": "code",
   "execution_count": null,
   "metadata": {},
   "outputs": [],
   "source": [
    "medellin.to_csv( './data/covid19_medellin.csv', index = False )"
   ]
  },
  {
   "cell_type": "markdown",
   "metadata": {},
   "source": [
    "# Cali"
   ]
  },
  {
   "cell_type": "code",
   "execution_count": null,
   "metadata": {},
   "outputs": [],
   "source": [
    "cali = covid.loc[ covid[ 'Ciudad de residencia' ] == 'Cali' ]"
   ]
  },
  {
   "cell_type": "code",
   "execution_count": null,
   "metadata": {},
   "outputs": [],
   "source": [
    "cali.shape"
   ]
  },
  {
   "cell_type": "code",
   "execution_count": null,
   "metadata": {},
   "outputs": [],
   "source": [
    "cali.dtypes"
   ]
  },
  {
   "cell_type": "code",
   "execution_count": null,
   "metadata": {},
   "outputs": [],
   "source": [
    "cali.tail()"
   ]
  },
  {
   "cell_type": "code",
   "execution_count": null,
   "metadata": {},
   "outputs": [],
   "source": [
    "cali[ 'Ubicación' ].value_counts( dropna = False )"
   ]
  },
  {
   "cell_type": "code",
   "execution_count": null,
   "metadata": {},
   "outputs": [],
   "source": [
    "cali.to_csv( './data/covid19_cali.csv', index = False )"
   ]
  },
  {
   "cell_type": "markdown",
   "metadata": {},
   "source": [
    "# Cartagena"
   ]
  },
  {
   "cell_type": "code",
   "execution_count": null,
   "metadata": {},
   "outputs": [],
   "source": [
    "cartagena = covid.loc[ covid[ 'Ciudad de residencia' ] == 'Cartagena de Indias' ]"
   ]
  },
  {
   "cell_type": "code",
   "execution_count": null,
   "metadata": {},
   "outputs": [],
   "source": [
    "cartagena.shape"
   ]
  },
  {
   "cell_type": "code",
   "execution_count": null,
   "metadata": {},
   "outputs": [],
   "source": [
    "cartagena.dtypes"
   ]
  },
  {
   "cell_type": "code",
   "execution_count": null,
   "metadata": {},
   "outputs": [],
   "source": [
    "cartagena.tail()"
   ]
  },
  {
   "cell_type": "code",
   "execution_count": null,
   "metadata": {},
   "outputs": [],
   "source": [
    "cartagena[ 'Ubicación' ].value_counts( dropna = False )"
   ]
  },
  {
   "cell_type": "code",
   "execution_count": null,
   "metadata": {},
   "outputs": [],
   "source": [
    "cartagena.to_csv( './data/covid19_cartagena.csv', index = False )"
   ]
  },
  {
   "cell_type": "code",
   "execution_count": null,
   "metadata": {},
   "outputs": [],
   "source": []
  },
  {
   "cell_type": "code",
   "execution_count": null,
   "metadata": {},
   "outputs": [],
   "source": []
  },
  {
   "cell_type": "code",
   "execution_count": null,
   "metadata": {},
   "outputs": [],
   "source": []
  },
  {
   "cell_type": "code",
   "execution_count": null,
   "metadata": {},
   "outputs": [],
   "source": []
  },
  {
   "cell_type": "code",
   "execution_count": null,
   "metadata": {},
   "outputs": [],
   "source": []
  },
  {
   "cell_type": "code",
   "execution_count": null,
   "metadata": {},
   "outputs": [],
   "source": [
    "covid[ 'dias_para_diagnostico' ] = ( covid[ 'Fecha_diagnostico' ] - covid[ 'FIS' ] ).dt.days"
   ]
  },
  {
   "cell_type": "code",
   "execution_count": null,
   "metadata": {},
   "outputs": [],
   "source": [
    "covid[ 'Estado' ].value_counts( dropna = False )"
   ]
  },
  {
   "cell_type": "code",
   "execution_count": null,
   "metadata": {},
   "outputs": [],
   "source": [
    "plt.figure( figsize = ( 20, 8 ) )\n",
    "ax = sns.boxplot( data = covid, x = 'dias_para_diagnostico', y = 'Estado' )"
   ]
  },
  {
   "cell_type": "code",
   "execution_count": null,
   "metadata": {},
   "outputs": [],
   "source": [
    "covid[ 'atención' ].value_counts( dropna = False )"
   ]
  },
  {
   "cell_type": "code",
   "execution_count": null,
   "metadata": {},
   "outputs": [],
   "source": [
    "covid.loc[ covid[ 'atención' ] == 'Casa' ][ 'Edad' ].quantile( [ 0.25, 0.5, 0.75 ] )"
   ]
  },
  {
   "cell_type": "code",
   "execution_count": null,
   "metadata": {},
   "outputs": [],
   "source": [
    "plt.figure( figsize = ( 20, 8 ) )\n",
    "ax = sns.boxplot( data = covid, x = 'Edad', y = 'atención' )"
   ]
  },
  {
   "cell_type": "code",
   "execution_count": null,
   "metadata": {},
   "outputs": [],
   "source": [
    "covid.loc[ covid[ 'Tipo' ] == 'Importado' ].groupby( 'Fecha_diagnostico' ).agg( { 'ID_de_caso': 'count' } ).plot( kind = 'bar', figsize = ( 20, 8 ) )"
   ]
  },
  {
   "cell_type": "code",
   "execution_count": null,
   "metadata": {},
   "outputs": [],
   "source": [
    "# Preparing and merging the groupings in one dataframe\n",
    "\n",
    "diagnosed = covid.loc[ covid[ 'Tipo' ] == 'Importado' ] \\\n",
    "    .groupby( 'Fecha_diagnostico' ) \\\n",
    "    .agg( { 'ID_de_caso': 'count' } ) \\\n",
    "    .rename( columns = { 'Fecha_diagnostico': 'Fecha', 'ID_de_caso': 'Diagnosticados' } )\n",
    "\n",
    "recovered = covid.loc[ covid[ 'Tipo' ] == 'Importado' ] \\\n",
    "    .groupby( 'FIS' ) \\\n",
    "    .agg( { 'ID_de_caso': 'count' } ) \\\n",
    "    .rename( columns = { 'Fecha_diagnostico': 'Fecha', 'ID_de_caso': 'Inicio de sintomas' } )\n",
    "\n",
    "infections = diagnosed.merge( recovered, how = 'outer', left_index = True, right_index = True )\n",
    "infections.fillna( 0, inplace = True )"
   ]
  },
  {
   "cell_type": "code",
   "execution_count": null,
   "metadata": {},
   "outputs": [],
   "source": [
    "infections.tail()"
   ]
  },
  {
   "cell_type": "code",
   "execution_count": null,
   "metadata": {},
   "outputs": [],
   "source": [
    "f, axarr = plt.subplots( 2, sharex = True, figsize = ( 20, 10 ) )\n",
    "axarr[ 0 ].set_title( 'Fecha de diagnostico de casos importados' )\n",
    "infections[ 'Diagnosticados' ].plot( kind = 'bar', ax = axarr[ 0 ] )\n",
    "axarr[ 1 ].set_title( 'Fecha de inicio de sintomas de casos importados' )\n",
    "infections[ 'Inicio de sintomas' ].plot( kind = 'bar', ax = axarr[ 1 ] )\n",
    "axarr[ 0 ].axvline( x = 23.5, color = 'r', linestyle = '--' )\n",
    "axarr[ 1 ].axvline( x = 23.5, color = 'r', linestyle = '--' )"
   ]
  },
  {
   "cell_type": "code",
   "execution_count": null,
   "metadata": {},
   "outputs": [],
   "source": []
  },
  {
   "cell_type": "code",
   "execution_count": null,
   "metadata": {},
   "outputs": [],
   "source": [
    "covid[ 'Estado' ].value_counts( dropna = False )"
   ]
  },
  {
   "cell_type": "code",
   "execution_count": null,
   "metadata": {},
   "outputs": [],
   "source": [
    "covid[ 'dias_para_recuperarse' ] = ( covid[ 'Fecha_recuperado' ] - covid[ 'Fecha_diagnostico' ] ).dt.days"
   ]
  },
  {
   "cell_type": "code",
   "execution_count": null,
   "metadata": {},
   "outputs": [],
   "source": [
    "plt.figure( figsize = ( 20, 8 ) )\n",
    "ax = sns.boxplot( data = covid, x = 'dias_para_recuperarse', y = 'Estado' )"
   ]
  },
  {
   "cell_type": "code",
   "execution_count": null,
   "metadata": {},
   "outputs": [],
   "source": [
    "covid.loc[ covid[ 'dias_para_recuperarse' ] < 0 ]"
   ]
  },
  {
   "cell_type": "code",
   "execution_count": null,
   "metadata": {},
   "outputs": [],
   "source": []
  },
  {
   "cell_type": "code",
   "execution_count": null,
   "metadata": {},
   "outputs": [],
   "source": []
  },
  {
   "cell_type": "code",
   "execution_count": null,
   "metadata": {},
   "outputs": [],
   "source": []
  },
  {
   "cell_type": "code",
   "execution_count": null,
   "metadata": {},
   "outputs": [],
   "source": []
  },
  {
   "cell_type": "code",
   "execution_count": null,
   "metadata": {},
   "outputs": [],
   "source": [
    "covid.head()"
   ]
  },
  {
   "cell_type": "code",
   "execution_count": null,
   "metadata": {},
   "outputs": [],
   "source": [
    "covid.to_csv( './data/covid_clean.csv', index = False, sep = ',' )"
   ]
  },
  {
   "cell_type": "code",
   "execution_count": null,
   "metadata": {},
   "outputs": [],
   "source": [
    "infections.reset_index().to_csv( './data/covid_groups.csv', index = False, sep = ',' )"
   ]
  },
  {
   "cell_type": "code",
   "execution_count": null,
   "metadata": {},
   "outputs": [],
   "source": [
    "departamentos.to_file( './data/departamentos_groups.json', driver = 'GeoJSON' )"
   ]
  },
  {
   "cell_type": "code",
   "execution_count": null,
   "metadata": {},
   "outputs": [],
   "source": []
  }
 ],
 "metadata": {
  "kernelspec": {
   "display_name": "Python 3",
   "language": "python",
   "name": "python3"
  },
  "language_info": {
   "codemirror_mode": {
    "name": "ipython",
    "version": 3
   },
   "file_extension": ".py",
   "mimetype": "text/x-python",
   "name": "python",
   "nbconvert_exporter": "python",
   "pygments_lexer": "ipython3",
   "version": "3.7.6"
  }
 },
 "nbformat": 4,
 "nbformat_minor": 4
}
