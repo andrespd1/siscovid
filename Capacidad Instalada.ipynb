{
 "cells": [
  {
   "cell_type": "code",
   "execution_count": 1,
   "metadata": {},
   "outputs": [],
   "source": [
    "import pandas as pd"
   ]
  },
  {
   "cell_type": "code",
   "execution_count": 2,
   "metadata": {},
   "outputs": [],
   "source": [
    "capacidad = pd.read_excel( './data/Capacidad instalada. Camas. Colombia REPS.xlsx' )"
   ]
  },
  {
   "cell_type": "code",
   "execution_count": 3,
   "metadata": {},
   "outputs": [
    {
     "data": {
      "text/plain": [
       "(79108, 8)"
      ]
     },
     "execution_count": 3,
     "metadata": {},
     "output_type": "execute_result"
    }
   ],
   "source": [
    "capacidad.shape"
   ]
  },
  {
   "cell_type": "code",
   "execution_count": 4,
   "metadata": {},
   "outputs": [
    {
     "data": {
      "text/plain": [
       "depa_nombre     object\n",
       "muni_nombre     object\n",
       "naju_nombre     object\n",
       "clpr_nombre     object\n",
       "nivel          float64\n",
       "habilitado      object\n",
       "coca_nombre     object\n",
       "cantidad         int64\n",
       "dtype: object"
      ]
     },
     "execution_count": 4,
     "metadata": {},
     "output_type": "execute_result"
    }
   ],
   "source": [
    "capacidad.dtypes"
   ]
  },
  {
   "cell_type": "code",
   "execution_count": 5,
   "metadata": {},
   "outputs": [
    {
     "data": {
      "text/html": [
       "<div>\n",
       "<style scoped>\n",
       "    .dataframe tbody tr th:only-of-type {\n",
       "        vertical-align: middle;\n",
       "    }\n",
       "\n",
       "    .dataframe tbody tr th {\n",
       "        vertical-align: top;\n",
       "    }\n",
       "\n",
       "    .dataframe thead th {\n",
       "        text-align: right;\n",
       "    }\n",
       "</style>\n",
       "<table border=\"1\" class=\"dataframe\">\n",
       "  <thead>\n",
       "    <tr style=\"text-align: right;\">\n",
       "      <th></th>\n",
       "      <th>depa_nombre</th>\n",
       "      <th>muni_nombre</th>\n",
       "      <th>naju_nombre</th>\n",
       "      <th>clpr_nombre</th>\n",
       "      <th>nivel</th>\n",
       "      <th>habilitado</th>\n",
       "      <th>coca_nombre</th>\n",
       "      <th>cantidad</th>\n",
       "    </tr>\n",
       "  </thead>\n",
       "  <tbody>\n",
       "    <tr>\n",
       "      <th>0</th>\n",
       "      <td>Amazonas</td>\n",
       "      <td>EL ENCANTO</td>\n",
       "      <td>Pública</td>\n",
       "      <td>Instituciones - IPS</td>\n",
       "      <td>2.0</td>\n",
       "      <td>SI</td>\n",
       "      <td>Pediátrica</td>\n",
       "      <td>1</td>\n",
       "    </tr>\n",
       "    <tr>\n",
       "      <th>1</th>\n",
       "      <td>Amazonas</td>\n",
       "      <td>EL ENCANTO</td>\n",
       "      <td>Pública</td>\n",
       "      <td>Instituciones - IPS</td>\n",
       "      <td>2.0</td>\n",
       "      <td>SI</td>\n",
       "      <td>Adultos</td>\n",
       "      <td>1</td>\n",
       "    </tr>\n",
       "    <tr>\n",
       "      <th>2</th>\n",
       "      <td>Amazonas</td>\n",
       "      <td>EL ENCANTO</td>\n",
       "      <td>Pública</td>\n",
       "      <td>Instituciones - IPS</td>\n",
       "      <td>2.0</td>\n",
       "      <td>SI</td>\n",
       "      <td>Obstetricia</td>\n",
       "      <td>1</td>\n",
       "    </tr>\n",
       "    <tr>\n",
       "      <th>3</th>\n",
       "      <td>Amazonas</td>\n",
       "      <td>EL ENCANTO</td>\n",
       "      <td>Pública</td>\n",
       "      <td>Instituciones - IPS</td>\n",
       "      <td>2.0</td>\n",
       "      <td>SI</td>\n",
       "      <td>Partos</td>\n",
       "      <td>1</td>\n",
       "    </tr>\n",
       "    <tr>\n",
       "      <th>4</th>\n",
       "      <td>Amazonas</td>\n",
       "      <td>EL ENCANTO</td>\n",
       "      <td>Pública</td>\n",
       "      <td>Instituciones - IPS</td>\n",
       "      <td>2.0</td>\n",
       "      <td>SI</td>\n",
       "      <td>Procedimientos</td>\n",
       "      <td>1</td>\n",
       "    </tr>\n",
       "  </tbody>\n",
       "</table>\n",
       "</div>"
      ],
      "text/plain": [
       "  depa_nombre muni_nombre naju_nombre          clpr_nombre  nivel habilitado  \\\n",
       "0    Amazonas  EL ENCANTO     Pública  Instituciones - IPS    2.0         SI   \n",
       "1    Amazonas  EL ENCANTO     Pública  Instituciones - IPS    2.0         SI   \n",
       "2    Amazonas  EL ENCANTO     Pública  Instituciones - IPS    2.0         SI   \n",
       "3    Amazonas  EL ENCANTO     Pública  Instituciones - IPS    2.0         SI   \n",
       "4    Amazonas  EL ENCANTO     Pública  Instituciones - IPS    2.0         SI   \n",
       "\n",
       "      coca_nombre  cantidad  \n",
       "0      Pediátrica         1  \n",
       "1         Adultos         1  \n",
       "2     Obstetricia         1  \n",
       "3          Partos         1  \n",
       "4  Procedimientos         1  "
      ]
     },
     "execution_count": 5,
     "metadata": {},
     "output_type": "execute_result"
    }
   ],
   "source": [
    "capacidad.head()"
   ]
  },
  {
   "cell_type": "code",
   "execution_count": 6,
   "metadata": {},
   "outputs": [],
   "source": [
    "capacidad_grouped = capacidad.groupby( [ 'depa_nombre', 'muni_nombre', 'coca_nombre' ] ).agg( { 'cantidad': 'sum' } ).reset_index()"
   ]
  },
  {
   "cell_type": "code",
   "execution_count": 7,
   "metadata": {},
   "outputs": [],
   "source": [
    "capacidad_grouped_uci = capacidad_grouped.loc[ capacidad_grouped[ 'coca_nombre' ].str.lower().str.contains( 'intensivo' ) ].groupby( [ 'depa_nombre', 'muni_nombre' ] ).agg( { 'cantidad': 'sum' } ).reset_index()\n",
    "capacidad_grouped_uci[ 'Tipo' ] = 'UCI'"
   ]
  },
  {
   "cell_type": "code",
   "execution_count": 8,
   "metadata": {},
   "outputs": [],
   "source": [
    "capacidad_grouped_general = capacidad_grouped.loc[ ~capacidad_grouped[ 'coca_nombre' ].str.lower().str.contains( 'intensivo' ) ].groupby( [ 'depa_nombre', 'muni_nombre' ] ).agg( { 'cantidad': 'sum' } ).reset_index()\n",
    "capacidad_grouped_general[ 'Tipo' ] = 'General'"
   ]
  },
  {
   "cell_type": "code",
   "execution_count": 9,
   "metadata": {},
   "outputs": [],
   "source": [
    "capacidad_grouped_2 = pd.concat( [ capacidad_grouped_uci, capacidad_grouped_general ] ).sort_values( by = [ 'depa_nombre', 'muni_nombre' ] )"
   ]
  },
  {
   "cell_type": "code",
   "execution_count": 10,
   "metadata": {},
   "outputs": [],
   "source": [
    "capacidad_grouped_2.rename( columns = { 'depa_nombre': 'Departamento', 'muni_nombre': 'Municipio', 'cantidad': 'Cantidad' }, inplace = True )"
   ]
  },
  {
   "cell_type": "code",
   "execution_count": 11,
   "metadata": {},
   "outputs": [
    {
     "data": {
      "text/html": [
       "<div>\n",
       "<style scoped>\n",
       "    .dataframe tbody tr th:only-of-type {\n",
       "        vertical-align: middle;\n",
       "    }\n",
       "\n",
       "    .dataframe tbody tr th {\n",
       "        vertical-align: top;\n",
       "    }\n",
       "\n",
       "    .dataframe thead th {\n",
       "        text-align: right;\n",
       "    }\n",
       "</style>\n",
       "<table border=\"1\" class=\"dataframe\">\n",
       "  <thead>\n",
       "    <tr style=\"text-align: right;\">\n",
       "      <th></th>\n",
       "      <th>Departamento</th>\n",
       "      <th>Municipio</th>\n",
       "      <th>Cantidad</th>\n",
       "      <th>Tipo</th>\n",
       "    </tr>\n",
       "  </thead>\n",
       "  <tbody>\n",
       "    <tr>\n",
       "      <th>0</th>\n",
       "      <td>Amazonas</td>\n",
       "      <td>EL ENCANTO</td>\n",
       "      <td>5</td>\n",
       "      <td>General</td>\n",
       "    </tr>\n",
       "    <tr>\n",
       "      <th>1</th>\n",
       "      <td>Amazonas</td>\n",
       "      <td>LA CHORRERA</td>\n",
       "      <td>5</td>\n",
       "      <td>General</td>\n",
       "    </tr>\n",
       "    <tr>\n",
       "      <th>2</th>\n",
       "      <td>Amazonas</td>\n",
       "      <td>LA PEDRERA</td>\n",
       "      <td>5</td>\n",
       "      <td>General</td>\n",
       "    </tr>\n",
       "    <tr>\n",
       "      <th>3</th>\n",
       "      <td>Amazonas</td>\n",
       "      <td>LA VICTORIA</td>\n",
       "      <td>0</td>\n",
       "      <td>General</td>\n",
       "    </tr>\n",
       "    <tr>\n",
       "      <th>4</th>\n",
       "      <td>Amazonas</td>\n",
       "      <td>LETICIA</td>\n",
       "      <td>156</td>\n",
       "      <td>General</td>\n",
       "    </tr>\n",
       "  </tbody>\n",
       "</table>\n",
       "</div>"
      ],
      "text/plain": [
       "  Departamento    Municipio  Cantidad     Tipo\n",
       "0     Amazonas   EL ENCANTO         5  General\n",
       "1     Amazonas  LA CHORRERA         5  General\n",
       "2     Amazonas   LA PEDRERA         5  General\n",
       "3     Amazonas  LA VICTORIA         0  General\n",
       "4     Amazonas      LETICIA       156  General"
      ]
     },
     "execution_count": 11,
     "metadata": {},
     "output_type": "execute_result"
    }
   ],
   "source": [
    "capacidad_grouped_2.head()"
   ]
  },
  {
   "cell_type": "code",
   "execution_count": 12,
   "metadata": {},
   "outputs": [],
   "source": [
    "capacidad_grouped_2.to_csv( './data/capacidad_instalada.csv', index = False )"
   ]
  },
  {
   "cell_type": "code",
   "execution_count": null,
   "metadata": {},
   "outputs": [],
   "source": []
  }
 ],
 "metadata": {
  "kernelspec": {
   "display_name": "Python 3",
   "language": "python",
   "name": "python3"
  },
  "language_info": {
   "codemirror_mode": {
    "name": "ipython",
    "version": 3
   },
   "file_extension": ".py",
   "mimetype": "text/x-python",
   "name": "python",
   "nbconvert_exporter": "python",
   "pygments_lexer": "ipython3",
   "version": "3.7.6"
  }
 },
 "nbformat": 4,
 "nbformat_minor": 4
}
