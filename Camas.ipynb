{
 "cells": [
  {
   "cell_type": "code",
   "execution_count": 7,
   "metadata": {},
   "outputs": [],
   "source": [
    "import pandas as pd"
   ]
  },
  {
   "cell_type": "code",
   "execution_count": 8,
   "metadata": {},
   "outputs": [],
   "source": [
    "barranquilla = pd.read_csv( './data/camas_barranquilla_raw.csv', sep = ';' )"
   ]
  },
  {
   "cell_type": "code",
   "execution_count": 9,
   "metadata": {},
   "outputs": [],
   "source": [
    "columns = [ c for c in barranquilla.columns.tolist() if c.startswith( 'camas_' ) ]"
   ]
  },
  {
   "cell_type": "code",
   "execution_count": 10,
   "metadata": {},
   "outputs": [],
   "source": [
    "barranquilla = barranquilla[ columns ]"
   ]
  },
  {
   "cell_type": "code",
   "execution_count": 11,
   "metadata": {},
   "outputs": [],
   "source": [
    "def sum_ucis( x ):\n",
    "    acum = 0\n",
    "    for c in x.keys():\n",
    "        if 'intensivo' in c:\n",
    "            acum = acum + x[ c ]\n",
    "    return acum\n",
    "\n",
    "barranquilla[ 'UCI' ] = barranquilla.apply( lambda x: sum_ucis( x ), axis = 1 )"
   ]
  },
  {
   "cell_type": "code",
   "execution_count": 12,
   "metadata": {},
   "outputs": [],
   "source": [
    "def sum_intermedio( x ):\n",
    "    acum = 0\n",
    "    for c in x.keys():\n",
    "        if 'intermedio' in c:\n",
    "            acum = acum + x[ c ]\n",
    "    return acum\n",
    "\n",
    "barranquilla[ 'Intermedio' ] = barranquilla.apply( lambda x: sum_intermedio( x ), axis = 1 )"
   ]
  },
  {
   "cell_type": "code",
   "execution_count": 13,
   "metadata": {},
   "outputs": [],
   "source": [
    "def sum_general( x ):\n",
    "    acum = 0\n",
    "    for c in x.keys():\n",
    "        if ( 'intensivo' not in c ) and ( 'intermedio' not in c ):\n",
    "            acum = acum + x[ c ]\n",
    "    return acum\n",
    "\n",
    "barranquilla[ 'General' ] = barranquilla.apply( lambda x: sum_general( x ), axis = 1 )"
   ]
  },
  {
   "cell_type": "code",
   "execution_count": 14,
   "metadata": {},
   "outputs": [],
   "source": [
    "barranquilla = barranquilla[ [ 'UCI', 'Intermedio', 'General' ] ].stack().reset_index()\n",
    "del barranquilla[ 'level_0' ]\n",
    "barranquilla.rename( columns = { 'level_1': 'Servicio', 0: 'Camas habilitadas' }, inplace = True )"
   ]
  },
  {
   "cell_type": "code",
   "execution_count": 15,
   "metadata": {},
   "outputs": [
    {
     "data": {
      "text/html": [
       "<div>\n",
       "<style scoped>\n",
       "    .dataframe tbody tr th:only-of-type {\n",
       "        vertical-align: middle;\n",
       "    }\n",
       "\n",
       "    .dataframe tbody tr th {\n",
       "        vertical-align: top;\n",
       "    }\n",
       "\n",
       "    .dataframe thead th {\n",
       "        text-align: right;\n",
       "    }\n",
       "</style>\n",
       "<table border=\"1\" class=\"dataframe\">\n",
       "  <thead>\n",
       "    <tr style=\"text-align: right;\">\n",
       "      <th></th>\n",
       "      <th>Servicio</th>\n",
       "      <th>Camas habilitadas</th>\n",
       "    </tr>\n",
       "  </thead>\n",
       "  <tbody>\n",
       "    <tr>\n",
       "      <td>0</td>\n",
       "      <td>UCI</td>\n",
       "      <td>860</td>\n",
       "    </tr>\n",
       "    <tr>\n",
       "      <td>1</td>\n",
       "      <td>Intermedio</td>\n",
       "      <td>618</td>\n",
       "    </tr>\n",
       "    <tr>\n",
       "      <td>2</td>\n",
       "      <td>General</td>\n",
       "      <td>7783</td>\n",
       "    </tr>\n",
       "  </tbody>\n",
       "</table>\n",
       "</div>"
      ],
      "text/plain": [
       "     Servicio  Camas habilitadas\n",
       "0         UCI                860\n",
       "1  Intermedio                618\n",
       "2     General               7783"
      ]
     },
     "execution_count": 15,
     "metadata": {},
     "output_type": "execute_result"
    }
   ],
   "source": [
    "barranquilla.head()"
   ]
  },
  {
   "cell_type": "code",
   "execution_count": 16,
   "metadata": {},
   "outputs": [],
   "source": [
    "barranquilla.to_csv( './data/camas_barranquilla.csv', index = False )"
   ]
  },
  {
   "cell_type": "code",
   "execution_count": null,
   "metadata": {},
   "outputs": [],
   "source": []
  },
  {
   "cell_type": "code",
   "execution_count": 22,
   "metadata": {},
   "outputs": [],
   "source": [
    "cartagena = pd.read_csv( './data/camas_cartagena_raw.csv', sep = ';' )"
   ]
  },
  {
   "cell_type": "code",
   "execution_count": 23,
   "metadata": {},
   "outputs": [],
   "source": [
    "columns = [ c for c in cartagena.columns.tolist() if c.startswith( 'camas_' ) ]"
   ]
  },
  {
   "cell_type": "code",
   "execution_count": 24,
   "metadata": {},
   "outputs": [],
   "source": [
    "cartagena = cartagena[ columns ]"
   ]
  },
  {
   "cell_type": "code",
   "execution_count": 25,
   "metadata": {},
   "outputs": [],
   "source": [
    "def sum_ucis( x ):\n",
    "    acum = 0\n",
    "    for c in x.keys():\n",
    "        if 'intensivo' in c:\n",
    "            acum = acum + x[ c ]\n",
    "    return acum\n",
    "\n",
    "cartagena[ 'UCI' ] = cartagena.apply( lambda x: sum_ucis( x ), axis = 1 )"
   ]
  },
  {
   "cell_type": "code",
   "execution_count": 26,
   "metadata": {},
   "outputs": [],
   "source": [
    "def sum_intermedio( x ):\n",
    "    acum = 0\n",
    "    for c in x.keys():\n",
    "        if 'intermedio' in c:\n",
    "            acum = acum + x[ c ]\n",
    "    return acum\n",
    "\n",
    "cartagena[ 'Intermedio' ] = cartagena.apply( lambda x: sum_intermedio( x ), axis = 1 )"
   ]
  },
  {
   "cell_type": "code",
   "execution_count": 27,
   "metadata": {},
   "outputs": [],
   "source": [
    "def sum_general( x ):\n",
    "    acum = 0\n",
    "    for c in x.keys():\n",
    "        if ( 'intensivo' not in c ) and ( 'intermedio' not in c ):\n",
    "            acum = acum + x[ c ]\n",
    "    return acum\n",
    "\n",
    "cartagena[ 'General' ] = cartagena.apply( lambda x: sum_general( x ), axis = 1 )"
   ]
  },
  {
   "cell_type": "code",
   "execution_count": 28,
   "metadata": {},
   "outputs": [],
   "source": [
    "cartagena = cartagena[ [ 'UCI', 'Intermedio', 'General' ] ].stack().reset_index()\n",
    "del cartagena[ 'level_0' ]\n",
    "cartagena.rename( columns = { 'level_1': 'Servicio', 0: 'Camas habilitadas' }, inplace = True )"
   ]
  },
  {
   "cell_type": "code",
   "execution_count": 29,
   "metadata": {},
   "outputs": [
    {
     "data": {
      "text/html": [
       "<div>\n",
       "<style scoped>\n",
       "    .dataframe tbody tr th:only-of-type {\n",
       "        vertical-align: middle;\n",
       "    }\n",
       "\n",
       "    .dataframe tbody tr th {\n",
       "        vertical-align: top;\n",
       "    }\n",
       "\n",
       "    .dataframe thead th {\n",
       "        text-align: right;\n",
       "    }\n",
       "</style>\n",
       "<table border=\"1\" class=\"dataframe\">\n",
       "  <thead>\n",
       "    <tr style=\"text-align: right;\">\n",
       "      <th></th>\n",
       "      <th>Servicio</th>\n",
       "      <th>Camas habilitadas</th>\n",
       "    </tr>\n",
       "  </thead>\n",
       "  <tbody>\n",
       "    <tr>\n",
       "      <td>0</td>\n",
       "      <td>UCI</td>\n",
       "      <td>389</td>\n",
       "    </tr>\n",
       "    <tr>\n",
       "      <td>1</td>\n",
       "      <td>Intermedio</td>\n",
       "      <td>271</td>\n",
       "    </tr>\n",
       "    <tr>\n",
       "      <td>2</td>\n",
       "      <td>General</td>\n",
       "      <td>4207</td>\n",
       "    </tr>\n",
       "  </tbody>\n",
       "</table>\n",
       "</div>"
      ],
      "text/plain": [
       "     Servicio  Camas habilitadas\n",
       "0         UCI                389\n",
       "1  Intermedio                271\n",
       "2     General               4207"
      ]
     },
     "execution_count": 29,
     "metadata": {},
     "output_type": "execute_result"
    }
   ],
   "source": [
    "cartagena.head()"
   ]
  },
  {
   "cell_type": "code",
   "execution_count": 30,
   "metadata": {},
   "outputs": [],
   "source": [
    "cartagena.to_csv( './data/camas_cartagena.csv', index = False )"
   ]
  },
  {
   "cell_type": "code",
   "execution_count": null,
   "metadata": {},
   "outputs": [],
   "source": []
  },
  {
   "cell_type": "code",
   "execution_count": 31,
   "metadata": {},
   "outputs": [],
   "source": [
    "medellin = pd.read_csv( './data/camas_medellin_raw.csv', sep = ';' )"
   ]
  },
  {
   "cell_type": "code",
   "execution_count": 32,
   "metadata": {},
   "outputs": [],
   "source": [
    "columns = [ c for c in medellin.columns.tolist() if c.startswith( 'camas_' ) ]"
   ]
  },
  {
   "cell_type": "code",
   "execution_count": 33,
   "metadata": {},
   "outputs": [],
   "source": [
    "medellin = medellin[ columns ]"
   ]
  },
  {
   "cell_type": "code",
   "execution_count": 34,
   "metadata": {},
   "outputs": [],
   "source": [
    "def sum_ucis( x ):\n",
    "    acum = 0\n",
    "    for c in x.keys():\n",
    "        if 'intensivo' in c:\n",
    "            acum = acum + x[ c ]\n",
    "    return acum\n",
    "\n",
    "medellin[ 'UCI' ] = medellin.apply( lambda x: sum_ucis( x ), axis = 1 )"
   ]
  },
  {
   "cell_type": "code",
   "execution_count": 35,
   "metadata": {},
   "outputs": [],
   "source": [
    "def sum_intermedio( x ):\n",
    "    acum = 0\n",
    "    for c in x.keys():\n",
    "        if 'intermedio' in c:\n",
    "            acum = acum + x[ c ]\n",
    "    return acum\n",
    "\n",
    "medellin[ 'Intermedio' ] = medellin.apply( lambda x: sum_intermedio( x ), axis = 1 )"
   ]
  },
  {
   "cell_type": "code",
   "execution_count": 36,
   "metadata": {},
   "outputs": [],
   "source": [
    "def sum_general( x ):\n",
    "    acum = 0\n",
    "    for c in x.keys():\n",
    "        if ( 'intensivo' not in c ) and ( 'intermedio' not in c ):\n",
    "            acum = acum + x[ c ]\n",
    "    return acum\n",
    "\n",
    "medellin[ 'General' ] = medellin.apply( lambda x: sum_general( x ), axis = 1 )"
   ]
  },
  {
   "cell_type": "code",
   "execution_count": 37,
   "metadata": {},
   "outputs": [],
   "source": [
    "medellin = medellin[ [ 'UCI', 'Intermedio', 'General' ] ].stack().reset_index()\n",
    "del medellin[ 'level_0' ]\n",
    "medellin.rename( columns = { 'level_1': 'Servicio', 0: 'Camas habilitadas' }, inplace = True )"
   ]
  },
  {
   "cell_type": "code",
   "execution_count": 38,
   "metadata": {},
   "outputs": [
    {
     "data": {
      "text/html": [
       "<div>\n",
       "<style scoped>\n",
       "    .dataframe tbody tr th:only-of-type {\n",
       "        vertical-align: middle;\n",
       "    }\n",
       "\n",
       "    .dataframe tbody tr th {\n",
       "        vertical-align: top;\n",
       "    }\n",
       "\n",
       "    .dataframe thead th {\n",
       "        text-align: right;\n",
       "    }\n",
       "</style>\n",
       "<table border=\"1\" class=\"dataframe\">\n",
       "  <thead>\n",
       "    <tr style=\"text-align: right;\">\n",
       "      <th></th>\n",
       "      <th>Servicio</th>\n",
       "      <th>Camas habilitadas</th>\n",
       "    </tr>\n",
       "  </thead>\n",
       "  <tbody>\n",
       "    <tr>\n",
       "      <td>0</td>\n",
       "      <td>UCI</td>\n",
       "      <td>804</td>\n",
       "    </tr>\n",
       "    <tr>\n",
       "      <td>1</td>\n",
       "      <td>Intermedio</td>\n",
       "      <td>643</td>\n",
       "    </tr>\n",
       "    <tr>\n",
       "      <td>2</td>\n",
       "      <td>General</td>\n",
       "      <td>9848</td>\n",
       "    </tr>\n",
       "  </tbody>\n",
       "</table>\n",
       "</div>"
      ],
      "text/plain": [
       "     Servicio  Camas habilitadas\n",
       "0         UCI                804\n",
       "1  Intermedio                643\n",
       "2     General               9848"
      ]
     },
     "execution_count": 38,
     "metadata": {},
     "output_type": "execute_result"
    }
   ],
   "source": [
    "medellin.head()"
   ]
  },
  {
   "cell_type": "code",
   "execution_count": 39,
   "metadata": {},
   "outputs": [],
   "source": [
    "medellin.to_csv( './data/camas_medellin.csv', index = False )"
   ]
  },
  {
   "cell_type": "code",
   "execution_count": null,
   "metadata": {},
   "outputs": [],
   "source": []
  },
  {
   "cell_type": "code",
   "execution_count": 40,
   "metadata": {},
   "outputs": [],
   "source": [
    "cali = pd.read_csv( './data/camas_cali_raw.csv', sep = ';' )"
   ]
  },
  {
   "cell_type": "code",
   "execution_count": 41,
   "metadata": {},
   "outputs": [],
   "source": [
    "columns = [ c for c in cali.columns.tolist() if c.startswith( 'camas_' ) ]"
   ]
  },
  {
   "cell_type": "code",
   "execution_count": 42,
   "metadata": {},
   "outputs": [],
   "source": [
    "cali = cali[ columns ]"
   ]
  },
  {
   "cell_type": "code",
   "execution_count": 43,
   "metadata": {},
   "outputs": [],
   "source": [
    "def sum_ucis( x ):\n",
    "    acum = 0\n",
    "    for c in x.keys():\n",
    "        if 'intensivo' in c:\n",
    "            acum = acum + x[ c ]\n",
    "    return acum\n",
    "\n",
    "cali[ 'UCI' ] = cali.apply( lambda x: sum_ucis( x ), axis = 1 )"
   ]
  },
  {
   "cell_type": "code",
   "execution_count": 44,
   "metadata": {},
   "outputs": [],
   "source": [
    "def sum_intermedio( x ):\n",
    "    acum = 0\n",
    "    for c in x.keys():\n",
    "        if 'intermedio' in c:\n",
    "            acum = acum + x[ c ]\n",
    "    return acum\n",
    "\n",
    "cali[ 'Intermedio' ] = cali.apply( lambda x: sum_intermedio( x ), axis = 1 )"
   ]
  },
  {
   "cell_type": "code",
   "execution_count": 45,
   "metadata": {},
   "outputs": [],
   "source": [
    "def sum_general( x ):\n",
    "    acum = 0\n",
    "    for c in x.keys():\n",
    "        if ( 'intensivo' not in c ) and ( 'intermedio' not in c ):\n",
    "            acum = acum + x[ c ]\n",
    "    return acum\n",
    "\n",
    "cali[ 'General' ] = cali.apply( lambda x: sum_general( x ), axis = 1 )"
   ]
  },
  {
   "cell_type": "code",
   "execution_count": 46,
   "metadata": {},
   "outputs": [],
   "source": [
    "cali = cali[ [ 'UCI', 'Intermedio', 'General' ] ].stack().reset_index()\n",
    "del cali[ 'level_0' ]\n",
    "cali.rename( columns = { 'level_1': 'Servicio', 0: 'Camas habilitadas' }, inplace = True )"
   ]
  },
  {
   "cell_type": "code",
   "execution_count": 47,
   "metadata": {},
   "outputs": [
    {
     "data": {
      "text/html": [
       "<div>\n",
       "<style scoped>\n",
       "    .dataframe tbody tr th:only-of-type {\n",
       "        vertical-align: middle;\n",
       "    }\n",
       "\n",
       "    .dataframe tbody tr th {\n",
       "        vertical-align: top;\n",
       "    }\n",
       "\n",
       "    .dataframe thead th {\n",
       "        text-align: right;\n",
       "    }\n",
       "</style>\n",
       "<table border=\"1\" class=\"dataframe\">\n",
       "  <thead>\n",
       "    <tr style=\"text-align: right;\">\n",
       "      <th></th>\n",
       "      <th>Servicio</th>\n",
       "      <th>Camas habilitadas</th>\n",
       "    </tr>\n",
       "  </thead>\n",
       "  <tbody>\n",
       "    <tr>\n",
       "      <td>0</td>\n",
       "      <td>UCI</td>\n",
       "      <td>989</td>\n",
       "    </tr>\n",
       "    <tr>\n",
       "      <td>1</td>\n",
       "      <td>Intermedio</td>\n",
       "      <td>508</td>\n",
       "    </tr>\n",
       "    <tr>\n",
       "      <td>2</td>\n",
       "      <td>General</td>\n",
       "      <td>7893</td>\n",
       "    </tr>\n",
       "  </tbody>\n",
       "</table>\n",
       "</div>"
      ],
      "text/plain": [
       "     Servicio  Camas habilitadas\n",
       "0         UCI                989\n",
       "1  Intermedio                508\n",
       "2     General               7893"
      ]
     },
     "execution_count": 47,
     "metadata": {},
     "output_type": "execute_result"
    }
   ],
   "source": [
    "cali.head()"
   ]
  },
  {
   "cell_type": "code",
   "execution_count": 48,
   "metadata": {},
   "outputs": [],
   "source": [
    "cali.to_csv( './data/camas_cali.csv', index = False )"
   ]
  },
  {
   "cell_type": "code",
   "execution_count": null,
   "metadata": {},
   "outputs": [],
   "source": []
  }
 ],
 "metadata": {
  "kernelspec": {
   "display_name": "Python 3",
   "language": "python",
   "name": "python3"
  },
  "language_info": {
   "codemirror_mode": {
    "name": "ipython",
    "version": 3
   },
   "file_extension": ".py",
   "mimetype": "text/x-python",
   "name": "python",
   "nbconvert_exporter": "python",
   "pygments_lexer": "ipython3",
   "version": "3.7.4"
  }
 },
 "nbformat": 4,
 "nbformat_minor": 4
}
