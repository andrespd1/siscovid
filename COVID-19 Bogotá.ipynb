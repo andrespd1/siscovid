{
 "cells": [
  {
   "cell_type": "code",
   "execution_count": 1,
   "metadata": {},
   "outputs": [],
   "source": [
    "# Datos: http://saludata.saludcapital.gov.co/osb/datos_abiertos_osb/enf-transmisibles/OSB_EnfTransm-COVID-19.csv"
   ]
  },
  {
   "cell_type": "code",
   "execution_count": 2,
   "metadata": {},
   "outputs": [],
   "source": [
    "import pandas as pd\n",
    "import geopandas as gpd"
   ]
  },
  {
   "cell_type": "code",
   "execution_count": 33,
   "metadata": {},
   "outputs": [],
   "source": [
    "# Loading the data\n",
    "covid_bog = pd.read_csv( './data/covid19_bogota_raw.csv', encoding = 'ISO-8859-1', sep = ';' )"
   ]
  },
  {
   "cell_type": "code",
   "execution_count": 34,
   "metadata": {},
   "outputs": [
    {
     "data": {
      "text/plain": [
       "Index(['ID de caso', 'Fecha de diagnóstico', 'Ciudad de residencia',\n",
       "       'Localidad de residencia', 'Edad', 'Sexo', 'Tipo de caso', 'Ubicación',\n",
       "       'Estado'],\n",
       "      dtype='object')"
      ]
     },
     "execution_count": 34,
     "metadata": {},
     "output_type": "execute_result"
    }
   ],
   "source": [
    "covid_bog.columns"
   ]
  },
  {
   "cell_type": "code",
   "execution_count": 35,
   "metadata": {},
   "outputs": [
    {
     "data": {
      "text/plain": [
       "(19241, 9)"
      ]
     },
     "execution_count": 35,
     "metadata": {},
     "output_type": "execute_result"
    }
   ],
   "source": [
    "covid_bog.shape"
   ]
  },
  {
   "cell_type": "code",
   "execution_count": 36,
   "metadata": {},
   "outputs": [],
   "source": [
    "covid_bog[ 'Fecha de diagnóstico' ].replace( { '#¡REF!': None }, inplace = True )"
   ]
  },
  {
   "cell_type": "code",
   "execution_count": 37,
   "metadata": {},
   "outputs": [],
   "source": [
    "covid_bog[ 'Fecha de diagnóstico' ] = pd.to_datetime( covid_bog[ 'Fecha de diagnóstico' ], format = '%d/%m/%y' )"
   ]
  },
  {
   "cell_type": "code",
   "execution_count": 38,
   "metadata": {},
   "outputs": [],
   "source": [
    "covid_bog[ 'Localidad de residencia' ].replace( { 'Santa Fe': 'Santa Fé' }, inplace = True )"
   ]
  },
  {
   "cell_type": "code",
   "execution_count": 39,
   "metadata": {},
   "outputs": [
    {
     "data": {
      "text/plain": [
       "ID de caso                          int64\n",
       "Fecha de diagnóstico       datetime64[ns]\n",
       "Ciudad de residencia               object\n",
       "Localidad de residencia            object\n",
       "Edad                                int64\n",
       "Sexo                               object\n",
       "Tipo de caso                       object\n",
       "Ubicación                          object\n",
       "Estado                             object\n",
       "dtype: object"
      ]
     },
     "execution_count": 39,
     "metadata": {},
     "output_type": "execute_result"
    }
   ],
   "source": [
    "covid_bog.dtypes"
   ]
  },
  {
   "cell_type": "code",
   "execution_count": 40,
   "metadata": {},
   "outputs": [],
   "source": [
    "def get_age_group( x ):\n",
    "    if x <= 19:\n",
    "        return '0 - 19'\n",
    "    elif x > 19 and x <= 39:\n",
    "        return '20 - 39'\n",
    "    elif x > 39 and x <= 59:\n",
    "        return '40 - 59'\n",
    "    elif x > 59 and x <= 79:\n",
    "        return '60 - 79'\n",
    "    elif x > 79:\n",
    "          return '80+'\n",
    "    else:\n",
    "        return None\n",
    "\n",
    "covid_bog[ 'Grupo de edad' ] = covid_bog[ 'Edad' ].apply( get_age_group )"
   ]
  },
  {
   "cell_type": "code",
   "execution_count": 41,
   "metadata": {},
   "outputs": [],
   "source": [
    "covid_bog.rename( columns = { 'ID de caso': 'ID_caso', 'Fecha de diagnóstico': 'Fecha_diagnostico', 'Ciudad de residencia': 'Ciudad', 'Localidad de residencia': 'Localidad', 'Tipo de caso': 'Tipo', 'Ubicación': 'Atencion', 'Grupo de edad': 'Grupo_de_edad' }, inplace = True )"
   ]
  },
  {
   "cell_type": "code",
   "execution_count": 42,
   "metadata": {},
   "outputs": [
    {
     "data": {
      "text/plain": [
       "ID_caso                       int64\n",
       "Fecha_diagnostico    datetime64[ns]\n",
       "Ciudad                       object\n",
       "Localidad                    object\n",
       "Edad                          int64\n",
       "Sexo                         object\n",
       "Tipo                         object\n",
       "Atencion                     object\n",
       "Estado                       object\n",
       "Grupo_de_edad                object\n",
       "dtype: object"
      ]
     },
     "execution_count": 42,
     "metadata": {},
     "output_type": "execute_result"
    }
   ],
   "source": [
    "covid_bog.dtypes"
   ]
  },
  {
   "cell_type": "code",
   "execution_count": 43,
   "metadata": {},
   "outputs": [
    {
     "data": {
      "text/html": [
       "<div>\n",
       "<style scoped>\n",
       "    .dataframe tbody tr th:only-of-type {\n",
       "        vertical-align: middle;\n",
       "    }\n",
       "\n",
       "    .dataframe tbody tr th {\n",
       "        vertical-align: top;\n",
       "    }\n",
       "\n",
       "    .dataframe thead th {\n",
       "        text-align: right;\n",
       "    }\n",
       "</style>\n",
       "<table border=\"1\" class=\"dataframe\">\n",
       "  <thead>\n",
       "    <tr style=\"text-align: right;\">\n",
       "      <th></th>\n",
       "      <th>ID_caso</th>\n",
       "      <th>Fecha_diagnostico</th>\n",
       "      <th>Ciudad</th>\n",
       "      <th>Localidad</th>\n",
       "      <th>Edad</th>\n",
       "      <th>Sexo</th>\n",
       "      <th>Tipo</th>\n",
       "      <th>Atencion</th>\n",
       "      <th>Estado</th>\n",
       "      <th>Grupo_de_edad</th>\n",
       "    </tr>\n",
       "  </thead>\n",
       "  <tbody>\n",
       "    <tr>\n",
       "      <th>19236</th>\n",
       "      <td>19237</td>\n",
       "      <td>2020-06-19</td>\n",
       "      <td>Bogotá</td>\n",
       "      <td>Sin Dato</td>\n",
       "      <td>68</td>\n",
       "      <td>M</td>\n",
       "      <td>En estudio</td>\n",
       "      <td>Casa</td>\n",
       "      <td>Moderado</td>\n",
       "      <td>60 - 79</td>\n",
       "    </tr>\n",
       "    <tr>\n",
       "      <th>19237</th>\n",
       "      <td>19238</td>\n",
       "      <td>2020-06-19</td>\n",
       "      <td>Bogotá</td>\n",
       "      <td>Sin Dato</td>\n",
       "      <td>45</td>\n",
       "      <td>F</td>\n",
       "      <td>En estudio</td>\n",
       "      <td>Casa</td>\n",
       "      <td>Moderado</td>\n",
       "      <td>40 - 59</td>\n",
       "    </tr>\n",
       "    <tr>\n",
       "      <th>19238</th>\n",
       "      <td>19239</td>\n",
       "      <td>2020-06-12</td>\n",
       "      <td>Fuera de Bogotá</td>\n",
       "      <td>Fuera de Bogotá</td>\n",
       "      <td>76</td>\n",
       "      <td>M</td>\n",
       "      <td>En estudio</td>\n",
       "      <td>Casa</td>\n",
       "      <td>Moderado</td>\n",
       "      <td>60 - 79</td>\n",
       "    </tr>\n",
       "    <tr>\n",
       "      <th>19239</th>\n",
       "      <td>19240</td>\n",
       "      <td>2020-06-11</td>\n",
       "      <td>Bogotá</td>\n",
       "      <td>Sin Dato</td>\n",
       "      <td>22</td>\n",
       "      <td>F</td>\n",
       "      <td>En estudio</td>\n",
       "      <td>Casa</td>\n",
       "      <td>Moderado</td>\n",
       "      <td>20 - 39</td>\n",
       "    </tr>\n",
       "    <tr>\n",
       "      <th>19240</th>\n",
       "      <td>19241</td>\n",
       "      <td>2020-06-08</td>\n",
       "      <td>Bogotá</td>\n",
       "      <td>Sin Dato</td>\n",
       "      <td>28</td>\n",
       "      <td>F</td>\n",
       "      <td>En estudio</td>\n",
       "      <td>Casa</td>\n",
       "      <td>Moderado</td>\n",
       "      <td>20 - 39</td>\n",
       "    </tr>\n",
       "  </tbody>\n",
       "</table>\n",
       "</div>"
      ],
      "text/plain": [
       "       ID_caso Fecha_diagnostico           Ciudad        Localidad  Edad Sexo  \\\n",
       "19236    19237        2020-06-19           Bogotá         Sin Dato    68    M   \n",
       "19237    19238        2020-06-19           Bogotá         Sin Dato    45    F   \n",
       "19238    19239        2020-06-12  Fuera de Bogotá  Fuera de Bogotá    76    M   \n",
       "19239    19240        2020-06-11           Bogotá         Sin Dato    22    F   \n",
       "19240    19241        2020-06-08           Bogotá         Sin Dato    28    F   \n",
       "\n",
       "             Tipo Atencion    Estado Grupo_de_edad  \n",
       "19236  En estudio     Casa  Moderado       60 - 79  \n",
       "19237  En estudio     Casa  Moderado       40 - 59  \n",
       "19238  En estudio     Casa  Moderado       60 - 79  \n",
       "19239  En estudio     Casa  Moderado       20 - 39  \n",
       "19240  En estudio     Casa  Moderado       20 - 39  "
      ]
     },
     "execution_count": 43,
     "metadata": {},
     "output_type": "execute_result"
    }
   ],
   "source": [
    "covid_bog.tail()"
   ]
  },
  {
   "cell_type": "raw",
   "metadata": {},
   "source": [
    "covid_bog.replace( { 'Moderado                                                                                                                                                                                                    ': 'Moderado' }, inplace = True )"
   ]
  },
  {
   "cell_type": "code",
   "execution_count": 44,
   "metadata": {},
   "outputs": [
    {
     "data": {
      "text/plain": [
       "array(['Recuperado', 'Fallecido', 'Crítico', 'Severo', 'Moderado'],\n",
       "      dtype=object)"
      ]
     },
     "execution_count": 44,
     "metadata": {},
     "output_type": "execute_result"
    }
   ],
   "source": [
    "covid_bog[ 'Estado' ].unique()"
   ]
  },
  {
   "cell_type": "code",
   "execution_count": 45,
   "metadata": {},
   "outputs": [],
   "source": [
    "covid_bog.to_csv( './data/covid19_bogota.csv', index = False )"
   ]
  },
  {
   "cell_type": "code",
   "execution_count": null,
   "metadata": {},
   "outputs": [],
   "source": []
  }
 ],
 "metadata": {
  "kernelspec": {
   "display_name": "Python 3",
   "language": "python",
   "name": "python3"
  },
  "language_info": {
   "codemirror_mode": {
    "name": "ipython",
    "version": 3
   },
   "file_extension": ".py",
   "mimetype": "text/x-python",
   "name": "python",
   "nbconvert_exporter": "python",
   "pygments_lexer": "ipython3",
   "version": "3.7.6"
  }
 },
 "nbformat": 4,
 "nbformat_minor": 4
}
