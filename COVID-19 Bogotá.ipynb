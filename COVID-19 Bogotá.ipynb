{
 "cells": [
  {
   "cell_type": "code",
   "execution_count": 48,
   "metadata": {},
   "outputs": [],
   "source": [
    "import pandas as pd\n",
    "import geopandas as gpd\n",
    "\n",
    "from pandas_profiling import ProfileReport"
   ]
  },
  {
   "cell_type": "code",
   "execution_count": 77,
   "metadata": {},
   "outputs": [],
   "source": [
    "# Loading the data\n",
    "covid_bog = pd.read_csv( './data/covid19_bogota_raw.csv', encoding = 'ISO-8859-1' )"
   ]
  },
  {
   "cell_type": "code",
   "execution_count": 78,
   "metadata": {},
   "outputs": [
    {
     "data": {
      "text/plain": [
       "(5283, 9)"
      ]
     },
     "execution_count": 78,
     "metadata": {},
     "output_type": "execute_result"
    }
   ],
   "source": [
    "covid_bog.shape"
   ]
  },
  {
   "cell_type": "code",
   "execution_count": 79,
   "metadata": {},
   "outputs": [],
   "source": [
    "covid_bog[ 'Fecha de diagnóstico' ] = pd.to_datetime( covid_bog[ 'Fecha de diagnóstico' ], format = '%d/%m/%Y' )"
   ]
  },
  {
   "cell_type": "code",
   "execution_count": 80,
   "metadata": {},
   "outputs": [],
   "source": [
    "covid_bog[ 'Localidad de residencia' ].replace( { 'Santa Fe': 'Santa Fé' }, inplace = True )"
   ]
  },
  {
   "cell_type": "code",
   "execution_count": 81,
   "metadata": {},
   "outputs": [
    {
     "data": {
      "text/plain": [
       "ID de caso                          int64\n",
       "Fecha de diagnóstico       datetime64[ns]\n",
       "Ciudad de residencia               object\n",
       "Localidad de residencia            object\n",
       "Edad                                int64\n",
       "Sexo                               object\n",
       "Tipo de caso                       object\n",
       "Ubicación                          object\n",
       "Estado                             object\n",
       "dtype: object"
      ]
     },
     "execution_count": 81,
     "metadata": {},
     "output_type": "execute_result"
    }
   ],
   "source": [
    "covid_bog.dtypes"
   ]
  },
  {
   "cell_type": "code",
   "execution_count": 82,
   "metadata": {},
   "outputs": [],
   "source": [
    "def get_age_group( x ):\n",
    "    if x <= 19:\n",
    "        return '0 - 19'\n",
    "    elif x > 19 and x <= 39:\n",
    "        return '20 - 39'\n",
    "    elif x > 39 and x <= 59:\n",
    "        return '40 - 59'\n",
    "    elif x > 59 and x <= 79:\n",
    "        return '60 - 79'\n",
    "    elif x > 79:\n",
    "          return '80+'\n",
    "    else:\n",
    "        return None\n",
    "\n",
    "covid_bog[ 'Grupo de edad' ] = covid_bog[ 'Edad' ].apply( get_age_group )"
   ]
  },
  {
   "cell_type": "code",
   "execution_count": 83,
   "metadata": {},
   "outputs": [
    {
     "data": {
      "text/plain": [
       "Moderado      3765\n",
       "Recuperado    1062\n",
       "Severo         229\n",
       "Fallecido      171\n",
       "Crítico         56\n",
       "Name: Estado, dtype: int64"
      ]
     },
     "execution_count": 83,
     "metadata": {},
     "output_type": "execute_result"
    }
   ],
   "source": [
    "covid_bog[ 'Estado' ].value_counts()"
   ]
  },
  {
   "cell_type": "code",
   "execution_count": 89,
   "metadata": {},
   "outputs": [
    {
     "data": {
      "text/html": [
       "<div>\n",
       "<style scoped>\n",
       "    .dataframe tbody tr th:only-of-type {\n",
       "        vertical-align: middle;\n",
       "    }\n",
       "\n",
       "    .dataframe tbody tr th {\n",
       "        vertical-align: top;\n",
       "    }\n",
       "\n",
       "    .dataframe thead th {\n",
       "        text-align: right;\n",
       "    }\n",
       "</style>\n",
       "<table border=\"1\" class=\"dataframe\">\n",
       "  <thead>\n",
       "    <tr style=\"text-align: right;\">\n",
       "      <th></th>\n",
       "      <th>ID de caso</th>\n",
       "      <th>Fecha de diagnóstico</th>\n",
       "      <th>Ciudad de residencia</th>\n",
       "      <th>Localidad de residencia</th>\n",
       "      <th>Edad</th>\n",
       "      <th>Sexo</th>\n",
       "      <th>Tipo de caso</th>\n",
       "      <th>Ubicación</th>\n",
       "      <th>Estado</th>\n",
       "      <th>Grupo de edad</th>\n",
       "    </tr>\n",
       "  </thead>\n",
       "  <tbody>\n",
       "    <tr>\n",
       "      <td>0</td>\n",
       "      <td>1</td>\n",
       "      <td>2020-03-06</td>\n",
       "      <td>Bogotá</td>\n",
       "      <td>Usaquén</td>\n",
       "      <td>19</td>\n",
       "      <td>F</td>\n",
       "      <td>Importado</td>\n",
       "      <td>Casa</td>\n",
       "      <td>Recuperado</td>\n",
       "      <td>0 - 19</td>\n",
       "    </tr>\n",
       "    <tr>\n",
       "      <td>1</td>\n",
       "      <td>2</td>\n",
       "      <td>2020-03-10</td>\n",
       "      <td>Bogotá</td>\n",
       "      <td>Engativá</td>\n",
       "      <td>22</td>\n",
       "      <td>F</td>\n",
       "      <td>Importado</td>\n",
       "      <td>Casa</td>\n",
       "      <td>Recuperado</td>\n",
       "      <td>20 - 39</td>\n",
       "    </tr>\n",
       "    <tr>\n",
       "      <td>2</td>\n",
       "      <td>3</td>\n",
       "      <td>2020-03-10</td>\n",
       "      <td>Bogotá</td>\n",
       "      <td>Engativá</td>\n",
       "      <td>28</td>\n",
       "      <td>F</td>\n",
       "      <td>Importado</td>\n",
       "      <td>Casa</td>\n",
       "      <td>Recuperado</td>\n",
       "      <td>20 - 39</td>\n",
       "    </tr>\n",
       "    <tr>\n",
       "      <td>3</td>\n",
       "      <td>4</td>\n",
       "      <td>2020-03-12</td>\n",
       "      <td>Bogotá</td>\n",
       "      <td>Fontibón</td>\n",
       "      <td>36</td>\n",
       "      <td>F</td>\n",
       "      <td>Importado</td>\n",
       "      <td>Casa</td>\n",
       "      <td>Recuperado</td>\n",
       "      <td>20 - 39</td>\n",
       "    </tr>\n",
       "    <tr>\n",
       "      <td>4</td>\n",
       "      <td>5</td>\n",
       "      <td>2020-03-12</td>\n",
       "      <td>Bogotá</td>\n",
       "      <td>Kennedy</td>\n",
       "      <td>42</td>\n",
       "      <td>F</td>\n",
       "      <td>Importado</td>\n",
       "      <td>Casa</td>\n",
       "      <td>Recuperado</td>\n",
       "      <td>40 - 59</td>\n",
       "    </tr>\n",
       "  </tbody>\n",
       "</table>\n",
       "</div>"
      ],
      "text/plain": [
       "   ID de caso Fecha de diagnóstico Ciudad de residencia  \\\n",
       "0           1           2020-03-06               Bogotá   \n",
       "1           2           2020-03-10               Bogotá   \n",
       "2           3           2020-03-10               Bogotá   \n",
       "3           4           2020-03-12               Bogotá   \n",
       "4           5           2020-03-12               Bogotá   \n",
       "\n",
       "  Localidad de residencia  Edad Sexo Tipo de caso Ubicación      Estado  \\\n",
       "0                 Usaquén    19    F    Importado      Casa  Recuperado   \n",
       "1                Engativá    22    F    Importado      Casa  Recuperado   \n",
       "2                Engativá    28    F    Importado      Casa  Recuperado   \n",
       "3                Fontibón    36    F    Importado      Casa  Recuperado   \n",
       "4                 Kennedy    42    F    Importado      Casa  Recuperado   \n",
       "\n",
       "  Grupo de edad  \n",
       "0        0 - 19  \n",
       "1       20 - 39  \n",
       "2       20 - 39  \n",
       "3       20 - 39  \n",
       "4       40 - 59  "
      ]
     },
     "execution_count": 89,
     "metadata": {},
     "output_type": "execute_result"
    }
   ],
   "source": [
    "covid_bog.head()"
   ]
  },
  {
   "cell_type": "code",
   "execution_count": 85,
   "metadata": {},
   "outputs": [],
   "source": [
    "covid_bog.to_csv( './data/covid19_bogota.csv', index = False )"
   ]
  },
  {
   "cell_type": "code",
   "execution_count": null,
   "metadata": {},
   "outputs": [],
   "source": []
  },
  {
   "cell_type": "raw",
   "metadata": {
    "jupyter": {
     "outputs_hidden": true
    }
   },
   "source": [
    "# Generate a report for a first exploratory analysis\n",
    "profile = ProfileReport( covid_bog, title = 'Pandas Profiling Report', html = { 'style': { 'full_width': True } } )\n",
    "profile.to_notebook_iframe()"
   ]
  },
  {
   "cell_type": "raw",
   "metadata": {},
   "source": [
    "covid_bog_grouped = covid_bog.groupby( 'Localidad_de_residencia' ).agg( { 'ID_de_caso': 'count' } ).reset_index()\\\n",
    "    .rename( columns = { 'Localidad_de_residencia': 'localidad', 'ID_de_caso': 'casos' } )"
   ]
  },
  {
   "cell_type": "raw",
   "metadata": {},
   "source": [
    "covid_bog_grouped"
   ]
  },
  {
   "cell_type": "code",
   "execution_count": 20,
   "metadata": {},
   "outputs": [],
   "source": [
    "localidades_bog = gpd.read_file( './data/geo/localidades.json' )"
   ]
  },
  {
   "cell_type": "code",
   "execution_count": 21,
   "metadata": {},
   "outputs": [
    {
     "data": {
      "text/plain": [
       "array(['ANTONIO NARIÑO', 'TUNJUELITO', 'RAFAEL URIBE URIBE', 'CANDELARIA',\n",
       "       'BARRIOS UNIDOS', 'TEUSAQUILLO', 'PUENTE ARANDA', 'LOS MARTIRES',\n",
       "       'SUMAPAZ', 'USAQUEN', 'CHAPINERO', 'SANTA FE', 'SAN CRISTOBAL',\n",
       "       'USME', 'CIUDAD BOLIVAR', 'BOSA', 'KENNEDY', 'FONTIBON',\n",
       "       'ENGATIVA', 'SUBA'], dtype=object)"
      ]
     },
     "execution_count": 21,
     "metadata": {},
     "output_type": "execute_result"
    }
   ],
   "source": [
    "localidades_bog[ 'localidad' ].unique()"
   ]
  },
  {
   "cell_type": "code",
   "execution_count": 22,
   "metadata": {},
   "outputs": [],
   "source": [
    "localidades_bog.replace( { 'ANTONIO NARIÑO': 'Antonio Nariño', 'TUNJUELITO': 'Tunjuelito', 'RAFAEL URIBE URIBE': 'Rafael Uribe Uribe', \\\n",
    "                         'CANDELARIA': 'La Candelaria', 'BARRIOS UNIDOS': 'Barrios Unidos', 'TEUSAQUILLO': 'Teusaquillo', 'PUENTE ARANDA': 'Puente Aranda', \\\n",
    "                         'LOS MARTIRES': 'Los Mártires', 'SUMAPAZ': 'Sumapaz', 'USAQUEN': 'Usaquén', 'CHAPINERO': 'Chapinero', 'SANTA FE': 'Santa Fé', \\\n",
    "                         'SAN CRISTOBAL': 'San Cristóbal', 'USME': 'Usme', 'CIUDAD BOLIVAR': 'Ciudad Bolívar', 'BOSA': 'Bosa', 'KENNEDY': 'Kennedy', \\\n",
    "                         'FONTIBON': 'Fontibón', 'ENGATIVA' : 'Engativá', 'SUBA': 'Suba' }, inplace = True )"
   ]
  },
  {
   "cell_type": "code",
   "execution_count": 23,
   "metadata": {},
   "outputs": [
    {
     "data": {
      "text/html": [
       "<div>\n",
       "<style scoped>\n",
       "    .dataframe tbody tr th:only-of-type {\n",
       "        vertical-align: middle;\n",
       "    }\n",
       "\n",
       "    .dataframe tbody tr th {\n",
       "        vertical-align: top;\n",
       "    }\n",
       "\n",
       "    .dataframe thead th {\n",
       "        text-align: right;\n",
       "    }\n",
       "</style>\n",
       "<table border=\"1\" class=\"dataframe\">\n",
       "  <thead>\n",
       "    <tr style=\"text-align: right;\">\n",
       "      <th></th>\n",
       "      <th>localidad</th>\n",
       "      <th>codigo_localidad</th>\n",
       "      <th>geometry</th>\n",
       "    </tr>\n",
       "  </thead>\n",
       "  <tbody>\n",
       "    <tr>\n",
       "      <td>0</td>\n",
       "      <td>Antonio Nariño</td>\n",
       "      <td>15</td>\n",
       "      <td>MULTIPOLYGON (((-74.13075 4.59335, -74.12917 4...</td>\n",
       "    </tr>\n",
       "    <tr>\n",
       "      <td>1</td>\n",
       "      <td>Tunjuelito</td>\n",
       "      <td>6</td>\n",
       "      <td>MULTIPOLYGON (((-74.13777 4.59489, -74.13165 4...</td>\n",
       "    </tr>\n",
       "    <tr>\n",
       "      <td>2</td>\n",
       "      <td>Rafael Uribe Uribe</td>\n",
       "      <td>18</td>\n",
       "      <td>MULTIPOLYGON (((-74.12803 4.59254, -74.12777 4...</td>\n",
       "    </tr>\n",
       "    <tr>\n",
       "      <td>3</td>\n",
       "      <td>La Candelaria</td>\n",
       "      <td>17</td>\n",
       "      <td>MULTIPOLYGON (((-74.06621 4.60317, -74.06620 4...</td>\n",
       "    </tr>\n",
       "    <tr>\n",
       "      <td>4</td>\n",
       "      <td>Barrios Unidos</td>\n",
       "      <td>12</td>\n",
       "      <td>MULTIPOLYGON (((-74.05725 4.68684, -74.06249 4...</td>\n",
       "    </tr>\n",
       "  </tbody>\n",
       "</table>\n",
       "</div>"
      ],
      "text/plain": [
       "            localidad  codigo_localidad  \\\n",
       "0      Antonio Nariño                15   \n",
       "1          Tunjuelito                 6   \n",
       "2  Rafael Uribe Uribe                18   \n",
       "3       La Candelaria                17   \n",
       "4      Barrios Unidos                12   \n",
       "\n",
       "                                            geometry  \n",
       "0  MULTIPOLYGON (((-74.13075 4.59335, -74.12917 4...  \n",
       "1  MULTIPOLYGON (((-74.13777 4.59489, -74.13165 4...  \n",
       "2  MULTIPOLYGON (((-74.12803 4.59254, -74.12777 4...  \n",
       "3  MULTIPOLYGON (((-74.06621 4.60317, -74.06620 4...  \n",
       "4  MULTIPOLYGON (((-74.05725 4.68684, -74.06249 4...  "
      ]
     },
     "execution_count": 23,
     "metadata": {},
     "output_type": "execute_result"
    }
   ],
   "source": [
    "localidades_bog.head()"
   ]
  },
  {
   "cell_type": "raw",
   "metadata": {},
   "source": [
    "localidades_bog = localidades_bog.merge( covid_bog_grouped, how = 'left', on = 'localidad' )"
   ]
  },
  {
   "cell_type": "code",
   "execution_count": 25,
   "metadata": {},
   "outputs": [],
   "source": [
    "localidades_bog = localidades_bog.loc[ localidades_bog[ 'localidad' ] != 'Sumapaz' ]"
   ]
  },
  {
   "cell_type": "code",
   "execution_count": 26,
   "metadata": {},
   "outputs": [],
   "source": [
    "localidades_bog.to_file( './data/geo/localidades_no_sumapaz.json', driver = 'GeoJSON' )"
   ]
  },
  {
   "cell_type": "code",
   "execution_count": null,
   "metadata": {},
   "outputs": [],
   "source": []
  }
 ],
 "metadata": {
  "kernelspec": {
   "display_name": "Python 3",
   "language": "python",
   "name": "python3"
  },
  "language_info": {
   "codemirror_mode": {
    "name": "ipython",
    "version": 3
   },
   "file_extension": ".py",
   "mimetype": "text/x-python",
   "name": "python",
   "nbconvert_exporter": "python",
   "pygments_lexer": "ipython3",
   "version": "3.7.4"
  }
 },
 "nbformat": 4,
 "nbformat_minor": 4
}
