{
 "cells": [
  {
   "cell_type": "code",
   "execution_count": null,
   "metadata": {},
   "outputs": [],
   "source": [
    "# Datos: http://saludata.saludcapital.gov.co/osb/datos_abiertos_osb/enf-transmisibles/OSB_EnfTransm-COVID-19.csv"
   ]
  },
  {
   "cell_type": "code",
   "execution_count": 1,
   "metadata": {},
   "outputs": [],
   "source": [
    "import requests\n",
    "import pandas as pd\n",
    "import geopandas as gpd"
   ]
  },
  {
   "cell_type": "code",
   "execution_count": 2,
   "metadata": {},
   "outputs": [],
   "source": [
    "URL = 'http://saludata.saludcapital.gov.co/osb/datos_abiertos_osb/enf-transmisibles/OSB_EnfTransm-COVID-19.csv'\n",
    "FILEPATH = './data/covid19_bogota_raw.csv'"
   ]
  },
  {
   "cell_type": "code",
   "execution_count": 3,
   "metadata": {},
   "outputs": [],
   "source": [
    "r = requests.get( URL, stream = True )\n",
    "\n",
    "with open( FILEPATH, 'wb' ) as f:\n",
    "    f.write( r.content )"
   ]
  },
  {
   "cell_type": "code",
   "execution_count": 4,
   "metadata": {},
   "outputs": [
    {
     "name": "stderr",
     "output_type": "stream",
     "text": [
      "/Users/fabian/anaconda3/lib/python3.7/site-packages/ipykernel_launcher.py:2: ParserWarning: Falling back to the 'python' engine because the 'c' engine does not support skipfooter; you can avoid this warning by specifying engine='python'.\n",
      "  \n"
     ]
    }
   ],
   "source": [
    "# Loading the data\n",
    "covid_bog = pd.read_csv( FILEPATH, encoding = 'ISO-8859-1', sep = ';', skiprows = 4, skipfooter = 2 )"
   ]
  },
  {
   "cell_type": "code",
   "execution_count": 5,
   "metadata": {},
   "outputs": [
    {
     "data": {
      "text/plain": [
       "Index(['ID de caso', 'Fecha de inicio de síntomas', 'Fecha de diagnóstico',\n",
       "       'Ciudad de residencia', 'Localidad de residencia', 'Edad', 'Sexo',\n",
       "       'Tipo de caso', 'Ubicación', 'Estado'],\n",
       "      dtype='object')"
      ]
     },
     "execution_count": 5,
     "metadata": {},
     "output_type": "execute_result"
    }
   ],
   "source": [
    "covid_bog.columns"
   ]
  },
  {
   "cell_type": "code",
   "execution_count": 6,
   "metadata": {},
   "outputs": [
    {
     "data": {
      "text/plain": [
       "(86857, 10)"
      ]
     },
     "execution_count": 6,
     "metadata": {},
     "output_type": "execute_result"
    }
   ],
   "source": [
    "covid_bog.shape"
   ]
  },
  {
   "cell_type": "code",
   "execution_count": 13,
   "metadata": {},
   "outputs": [],
   "source": [
    "covid_bog[ 'Fecha de inicio de síntomas' ] = pd.to_datetime( covid_bog[ 'Fecha de inicio de síntomas' ], format = '%d/%m/%Y', errors = 'coerce' )"
   ]
  },
  {
   "cell_type": "code",
   "execution_count": 15,
   "metadata": {},
   "outputs": [],
   "source": [
    "covid_bog[ 'Fecha de diagnóstico' ] = pd.to_datetime( covid_bog[ 'Fecha de diagnóstico' ], format = '%d/%m/%Y' )"
   ]
  },
  {
   "cell_type": "code",
   "execution_count": 16,
   "metadata": {},
   "outputs": [],
   "source": [
    "covid_bog[ 'Localidad de residencia' ].replace( { 'Santa Fe': 'Santa Fé' }, inplace = True )"
   ]
  },
  {
   "cell_type": "code",
   "execution_count": 17,
   "metadata": {},
   "outputs": [],
   "source": [
    "covid_bog[ 'Atencion' ] = covid_bog[ 'Ubicación' ].str.strip()\n",
    "del covid_bog[ 'Ubicación' ]"
   ]
  },
  {
   "cell_type": "code",
   "execution_count": 18,
   "metadata": {},
   "outputs": [],
   "source": [
    "covid_bog[ 'Estado' ] = covid_bog[ 'Estado' ].str.strip()"
   ]
  },
  {
   "cell_type": "code",
   "execution_count": 19,
   "metadata": {},
   "outputs": [
    {
     "data": {
      "text/plain": [
       "ID de caso                              int64\n",
       "Fecha de inicio de síntomas    datetime64[ns]\n",
       "Fecha de diagnóstico           datetime64[ns]\n",
       "Ciudad de residencia                   object\n",
       "Localidad de residencia                object\n",
       "Edad                                    int64\n",
       "Sexo                                   object\n",
       "Tipo de caso                           object\n",
       "Estado                                 object\n",
       "Atencion                               object\n",
       "dtype: object"
      ]
     },
     "execution_count": 19,
     "metadata": {},
     "output_type": "execute_result"
    }
   ],
   "source": [
    "covid_bog.dtypes"
   ]
  },
  {
   "cell_type": "code",
   "execution_count": 20,
   "metadata": {},
   "outputs": [],
   "source": [
    "def get_age_group( x ):\n",
    "    if x <= 19:\n",
    "        return '0 - 19'\n",
    "    elif x > 19 and x <= 39:\n",
    "        return '20 - 39'\n",
    "    elif x > 39 and x <= 59:\n",
    "        return '40 - 59'\n",
    "    elif x > 59 and x <= 79:\n",
    "        return '60 - 79'\n",
    "    elif x > 79:\n",
    "          return '80+'\n",
    "    else:\n",
    "        return None\n",
    "\n",
    "covid_bog[ 'Grupo de edad' ] = covid_bog[ 'Edad' ].apply( get_age_group )"
   ]
  },
  {
   "cell_type": "code",
   "execution_count": 21,
   "metadata": {},
   "outputs": [],
   "source": [
    "covid_bog.replace( { 'Fallecido (No aplica, No causa Directa)': 'Fallecido', 'Fallecido(No aplica': 'Fallecido', 'fallecido': 'Fallecido', 'hospital': 'Hospital', 'leve': 'Leve' }, inplace = True )"
   ]
  },
  {
   "cell_type": "code",
   "execution_count": 22,
   "metadata": {},
   "outputs": [],
   "source": [
    "covid_bog.rename( columns = { 'ID de caso': 'ID_caso', 'Fecha de inicio de síntomas': 'Fecha_inicio_sintomas', 'Fecha de diagnóstico': 'Fecha_diagnostico', 'Ciudad de residencia': 'Ciudad', 'Localidad de residencia': 'Localidad', 'Tipo de caso': 'Tipo', 'Ubicación': 'Atencion', 'Grupo de edad': 'Grupo_de_edad' }, inplace = True )"
   ]
  },
  {
   "cell_type": "code",
   "execution_count": 32,
   "metadata": {},
   "outputs": [],
   "source": [
    "covid_bog = covid_bog[ [ 'ID_caso', 'Fecha_inicio_sintomas', 'Fecha_diagnostico', 'Ciudad', 'Localidad', 'Edad', 'Sexo', 'Tipo', 'Atencion', 'Estado', 'Grupo_de_edad' ] ]"
   ]
  },
  {
   "cell_type": "code",
   "execution_count": 33,
   "metadata": {},
   "outputs": [
    {
     "data": {
      "text/plain": [
       "ID_caso                           int64\n",
       "Fecha_inicio_sintomas    datetime64[ns]\n",
       "Fecha_diagnostico        datetime64[ns]\n",
       "Ciudad                           object\n",
       "Localidad                        object\n",
       "Edad                              int64\n",
       "Sexo                             object\n",
       "Tipo                             object\n",
       "Atencion                         object\n",
       "Estado                           object\n",
       "Grupo_de_edad                    object\n",
       "dtype: object"
      ]
     },
     "execution_count": 33,
     "metadata": {},
     "output_type": "execute_result"
    }
   ],
   "source": [
    "covid_bog.dtypes"
   ]
  },
  {
   "cell_type": "code",
   "execution_count": 34,
   "metadata": {},
   "outputs": [
    {
     "data": {
      "text/html": [
       "<div>\n",
       "<style scoped>\n",
       "    .dataframe tbody tr th:only-of-type {\n",
       "        vertical-align: middle;\n",
       "    }\n",
       "\n",
       "    .dataframe tbody tr th {\n",
       "        vertical-align: top;\n",
       "    }\n",
       "\n",
       "    .dataframe thead th {\n",
       "        text-align: right;\n",
       "    }\n",
       "</style>\n",
       "<table border=\"1\" class=\"dataframe\">\n",
       "  <thead>\n",
       "    <tr style=\"text-align: right;\">\n",
       "      <th></th>\n",
       "      <th>ID_caso</th>\n",
       "      <th>Fecha_inicio_sintomas</th>\n",
       "      <th>Fecha_diagnostico</th>\n",
       "      <th>Ciudad</th>\n",
       "      <th>Localidad</th>\n",
       "      <th>Edad</th>\n",
       "      <th>Sexo</th>\n",
       "      <th>Tipo</th>\n",
       "      <th>Atencion</th>\n",
       "      <th>Estado</th>\n",
       "      <th>Grupo_de_edad</th>\n",
       "    </tr>\n",
       "  </thead>\n",
       "  <tbody>\n",
       "    <tr>\n",
       "      <th>86852</th>\n",
       "      <td>86853</td>\n",
       "      <td>2020-06-12</td>\n",
       "      <td>2020-06-25</td>\n",
       "      <td>Bogotá</td>\n",
       "      <td>Los Mártires</td>\n",
       "      <td>46</td>\n",
       "      <td>M</td>\n",
       "      <td>En estudio                                    ...</td>\n",
       "      <td>Hospital</td>\n",
       "      <td>Recuperado</td>\n",
       "      <td>40 - 59</td>\n",
       "    </tr>\n",
       "    <tr>\n",
       "      <th>86853</th>\n",
       "      <td>86854</td>\n",
       "      <td>2020-06-28</td>\n",
       "      <td>2020-07-18</td>\n",
       "      <td>Fuera de Bogotá</td>\n",
       "      <td>Fuera de Bogotá</td>\n",
       "      <td>71</td>\n",
       "      <td>M</td>\n",
       "      <td>En estudio                                    ...</td>\n",
       "      <td>Hospital</td>\n",
       "      <td>Moderado</td>\n",
       "      <td>60 - 79</td>\n",
       "    </tr>\n",
       "    <tr>\n",
       "      <th>86854</th>\n",
       "      <td>86855</td>\n",
       "      <td>2020-07-07</td>\n",
       "      <td>2020-07-19</td>\n",
       "      <td>Fuera de Bogotá</td>\n",
       "      <td>Fuera de Bogotá</td>\n",
       "      <td>27</td>\n",
       "      <td>F</td>\n",
       "      <td>En estudio                                    ...</td>\n",
       "      <td>Casa</td>\n",
       "      <td>Leve</td>\n",
       "      <td>20 - 39</td>\n",
       "    </tr>\n",
       "    <tr>\n",
       "      <th>86855</th>\n",
       "      <td>86856</td>\n",
       "      <td>2020-07-13</td>\n",
       "      <td>2020-07-22</td>\n",
       "      <td>Fuera de Bogotá</td>\n",
       "      <td>Fuera de Bogotá</td>\n",
       "      <td>28</td>\n",
       "      <td>M</td>\n",
       "      <td>En estudio                                    ...</td>\n",
       "      <td>Casa</td>\n",
       "      <td>Leve</td>\n",
       "      <td>20 - 39</td>\n",
       "    </tr>\n",
       "    <tr>\n",
       "      <th>86856</th>\n",
       "      <td>86857</td>\n",
       "      <td>2020-07-03</td>\n",
       "      <td>2020-07-21</td>\n",
       "      <td>Fuera de Bogotá</td>\n",
       "      <td>Fuera de Bogotá</td>\n",
       "      <td>29</td>\n",
       "      <td>M</td>\n",
       "      <td>En estudio                                    ...</td>\n",
       "      <td>Hospital</td>\n",
       "      <td>Moderado</td>\n",
       "      <td>20 - 39</td>\n",
       "    </tr>\n",
       "  </tbody>\n",
       "</table>\n",
       "</div>"
      ],
      "text/plain": [
       "       ID_caso Fecha_inicio_sintomas Fecha_diagnostico           Ciudad  \\\n",
       "86852    86853            2020-06-12        2020-06-25           Bogotá   \n",
       "86853    86854            2020-06-28        2020-07-18  Fuera de Bogotá   \n",
       "86854    86855            2020-07-07        2020-07-19  Fuera de Bogotá   \n",
       "86855    86856            2020-07-13        2020-07-22  Fuera de Bogotá   \n",
       "86856    86857            2020-07-03        2020-07-21  Fuera de Bogotá   \n",
       "\n",
       "             Localidad  Edad Sexo  \\\n",
       "86852     Los Mártires    46    M   \n",
       "86853  Fuera de Bogotá    71    M   \n",
       "86854  Fuera de Bogotá    27    F   \n",
       "86855  Fuera de Bogotá    28    M   \n",
       "86856  Fuera de Bogotá    29    M   \n",
       "\n",
       "                                                    Tipo  Atencion  \\\n",
       "86852  En estudio                                    ...  Hospital   \n",
       "86853  En estudio                                    ...  Hospital   \n",
       "86854  En estudio                                    ...      Casa   \n",
       "86855  En estudio                                    ...      Casa   \n",
       "86856  En estudio                                    ...  Hospital   \n",
       "\n",
       "           Estado Grupo_de_edad  \n",
       "86852  Recuperado       40 - 59  \n",
       "86853    Moderado       60 - 79  \n",
       "86854        Leve       20 - 39  \n",
       "86855        Leve       20 - 39  \n",
       "86856    Moderado       20 - 39  "
      ]
     },
     "execution_count": 34,
     "metadata": {},
     "output_type": "execute_result"
    }
   ],
   "source": [
    "covid_bog.tail()"
   ]
  },
  {
   "cell_type": "code",
   "execution_count": 35,
   "metadata": {},
   "outputs": [
    {
     "data": {
      "text/plain": [
       "<matplotlib.axes._subplots.AxesSubplot at 0x7fa81018c610>"
      ]
     },
     "execution_count": 35,
     "metadata": {},
     "output_type": "execute_result"
    },
    {
     "data": {
      "image/png": "[encoded data removed]",
      "text/plain": [
       "<Figure size 432x288 with 1 Axes>"
      ]
     },
     "metadata": {
      "needs_background": "light"
     },
     "output_type": "display_data"
    }
   ],
   "source": [
    "covid_bog[ 'Fecha_inicio_sintomas' ].hist()"
   ]
  },
  {
   "cell_type": "code",
   "execution_count": 36,
   "metadata": {},
   "outputs": [
    {
     "data": {
      "text/plain": [
       "<matplotlib.axes._subplots.AxesSubplot at 0x7fa810174410>"
      ]
     },
     "execution_count": 36,
     "metadata": {},
     "output_type": "execute_result"
    },
    {
     "data": {
      "image/png": "[encoded data removed]",
      "text/plain": [
       "<Figure size 432x288 with 1 Axes>"
      ]
     },
     "metadata": {
      "needs_background": "light"
     },
     "output_type": "display_data"
    }
   ],
   "source": [
    "covid_bog[ 'Fecha_diagnostico' ].hist()"
   ]
  },
  {
   "cell_type": "code",
   "execution_count": 37,
   "metadata": {},
   "outputs": [
    {
     "data": {
      "text/plain": [
       "array(['Casa', 'Fallecido', 'Hospital', 'Hospital UCI'], dtype=object)"
      ]
     },
     "execution_count": 37,
     "metadata": {},
     "output_type": "execute_result"
    }
   ],
   "source": [
    "covid_bog[ 'Atencion' ].unique()"
   ]
  },
  {
   "cell_type": "code",
   "execution_count": 38,
   "metadata": {},
   "outputs": [
    {
     "data": {
      "text/plain": [
       "array(['Recuperado', 'Fallecido', 'Grave', 'Moderado', 'Leve'],\n",
       "      dtype=object)"
      ]
     },
     "execution_count": 38,
     "metadata": {},
     "output_type": "execute_result"
    }
   ],
   "source": [
    "covid_bog[ 'Estado' ].unique()"
   ]
  },
  {
   "cell_type": "code",
   "execution_count": 39,
   "metadata": {},
   "outputs": [],
   "source": [
    "covid_bog.to_csv( './data/covid19_bogota.csv', index = False )"
   ]
  },
  {
   "cell_type": "code",
   "execution_count": null,
   "metadata": {},
   "outputs": [],
   "source": []
  }
 ],
 "metadata": {
  "kernelspec": {
   "display_name": "Python 3",
   "language": "python",
   "name": "python3"
  },
  "language_info": {
   "codemirror_mode": {
    "name": "ipython",
    "version": 3
   },
   "file_extension": ".py",
   "mimetype": "text/x-python",
   "name": "python",
   "nbconvert_exporter": "python",
   "pygments_lexer": "ipython3",
   "version": "3.8.3"
  }
 },
 "nbformat": 4,
 "nbformat_minor": 4
}
