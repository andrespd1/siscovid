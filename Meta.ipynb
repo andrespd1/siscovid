{
 "cells": [
  {
   "cell_type": "code",
   "execution_count": 23,
   "metadata": {},
   "outputs": [],
   "source": [
    "import numpy as np\n",
    "import pandas as pd\n",
    "\n",
    "import matplotlib.pyplot as plt\n",
    "%matplotlib inline"
   ]
  },
  {
   "cell_type": "code",
   "execution_count": 117,
   "metadata": {},
   "outputs": [],
   "source": [
    "city = 'bogota'"
   ]
  },
  {
   "cell_type": "code",
   "execution_count": 118,
   "metadata": {},
   "outputs": [],
   "source": [
    "time = pd.read_csv( './data/meta/time.csv' )"
   ]
  },
  {
   "cell_type": "code",
   "execution_count": 119,
   "metadata": {},
   "outputs": [],
   "source": [
    "time[ 'date' ] = pd.to_datetime( time[ 'date' ], format = '%d/%m/%Y' )"
   ]
  },
  {
   "cell_type": "code",
   "execution_count": 120,
   "metadata": {},
   "outputs": [
    {
     "data": {
      "text/plain": [
       "date    datetime64[ns]\n",
       "time             int64\n",
       "dtype: object"
      ]
     },
     "execution_count": 120,
     "metadata": {},
     "output_type": "execute_result"
    }
   ],
   "source": [
    "time.dtypes"
   ]
  },
  {
   "cell_type": "code",
   "execution_count": 121,
   "metadata": {},
   "outputs": [
    {
     "data": {
      "text/html": [
       "<div>\n",
       "<style scoped>\n",
       "    .dataframe tbody tr th:only-of-type {\n",
       "        vertical-align: middle;\n",
       "    }\n",
       "\n",
       "    .dataframe tbody tr th {\n",
       "        vertical-align: top;\n",
       "    }\n",
       "\n",
       "    .dataframe thead th {\n",
       "        text-align: right;\n",
       "    }\n",
       "</style>\n",
       "<table border=\"1\" class=\"dataframe\">\n",
       "  <thead>\n",
       "    <tr style=\"text-align: right;\">\n",
       "      <th></th>\n",
       "      <th>date</th>\n",
       "      <th>time</th>\n",
       "    </tr>\n",
       "  </thead>\n",
       "  <tbody>\n",
       "    <tr>\n",
       "      <th>0</th>\n",
       "      <td>2020-03-14</td>\n",
       "      <td>1</td>\n",
       "    </tr>\n",
       "    <tr>\n",
       "      <th>1</th>\n",
       "      <td>2020-03-15</td>\n",
       "      <td>2</td>\n",
       "    </tr>\n",
       "    <tr>\n",
       "      <th>2</th>\n",
       "      <td>2020-03-16</td>\n",
       "      <td>3</td>\n",
       "    </tr>\n",
       "    <tr>\n",
       "      <th>3</th>\n",
       "      <td>2020-03-17</td>\n",
       "      <td>4</td>\n",
       "    </tr>\n",
       "    <tr>\n",
       "      <th>4</th>\n",
       "      <td>2020-03-18</td>\n",
       "      <td>5</td>\n",
       "    </tr>\n",
       "  </tbody>\n",
       "</table>\n",
       "</div>"
      ],
      "text/plain": [
       "        date  time\n",
       "0 2020-03-14     1\n",
       "1 2020-03-15     2\n",
       "2 2020-03-16     3\n",
       "3 2020-03-17     4\n",
       "4 2020-03-18     5"
      ]
     },
     "execution_count": 121,
     "metadata": {},
     "output_type": "execute_result"
    }
   ],
   "source": [
    "time.head()"
   ]
  },
  {
   "cell_type": "code",
   "execution_count": 122,
   "metadata": {},
   "outputs": [],
   "source": [
    "filename = ''\n",
    "if city == 'bogota':\n",
    "    filename = 'BOG'\n",
    "elif city == 'barranquilla':\n",
    "    filename = 'BQUILLA'\n",
    "elif city == 'cali':\n",
    "    filename = 'CALI'\n",
    "    \n",
    "meta = pd.read_csv( './data/meta/{}.csv'.format( filename ) )"
   ]
  },
  {
   "cell_type": "code",
   "execution_count": 123,
   "metadata": {},
   "outputs": [],
   "source": [
    "del meta[ 'Unnamed: 0' ]"
   ]
  },
  {
   "cell_type": "code",
   "execution_count": 124,
   "metadata": {},
   "outputs": [
    {
     "data": {
      "text/plain": [
       "(1120, 11)"
      ]
     },
     "execution_count": 124,
     "metadata": {},
     "output_type": "execute_result"
    }
   ],
   "source": [
    "meta.shape"
   ]
  },
  {
   "cell_type": "code",
   "execution_count": 125,
   "metadata": {},
   "outputs": [
    {
     "data": {
      "text/plain": [
       "replicate      int64\n",
       "time           int64\n",
       "S            float64\n",
       "E            float64\n",
       "A            float64\n",
       "I1           float64\n",
       "I2           float64\n",
       "I3           float64\n",
       "R            float64\n",
       "D            float64\n",
       "obs          float64\n",
       "dtype: object"
      ]
     },
     "execution_count": 125,
     "metadata": {},
     "output_type": "execute_result"
    }
   ],
   "source": [
    "meta.dtypes"
   ]
  },
  {
   "cell_type": "code",
   "execution_count": 126,
   "metadata": {},
   "outputs": [
    {
     "data": {
      "text/html": [
       "<div>\n",
       "<style scoped>\n",
       "    .dataframe tbody tr th:only-of-type {\n",
       "        vertical-align: middle;\n",
       "    }\n",
       "\n",
       "    .dataframe tbody tr th {\n",
       "        vertical-align: top;\n",
       "    }\n",
       "\n",
       "    .dataframe thead th {\n",
       "        text-align: right;\n",
       "    }\n",
       "</style>\n",
       "<table border=\"1\" class=\"dataframe\">\n",
       "  <thead>\n",
       "    <tr style=\"text-align: right;\">\n",
       "      <th></th>\n",
       "      <th>replicate</th>\n",
       "      <th>time</th>\n",
       "      <th>S</th>\n",
       "      <th>E</th>\n",
       "      <th>A</th>\n",
       "      <th>I1</th>\n",
       "      <th>I2</th>\n",
       "      <th>I3</th>\n",
       "      <th>R</th>\n",
       "      <th>D</th>\n",
       "      <th>obs</th>\n",
       "    </tr>\n",
       "  </thead>\n",
       "  <tbody>\n",
       "    <tr>\n",
       "      <th>0</th>\n",
       "      <td>1</td>\n",
       "      <td>0</td>\n",
       "      <td>1.028736e+06</td>\n",
       "      <td>0.000000</td>\n",
       "      <td>0.000000</td>\n",
       "      <td>2.000000</td>\n",
       "      <td>0.000000</td>\n",
       "      <td>0.000000</td>\n",
       "      <td>0.000000</td>\n",
       "      <td>0.000000</td>\n",
       "      <td>0.0</td>\n",
       "    </tr>\n",
       "    <tr>\n",
       "      <th>1</th>\n",
       "      <td>1</td>\n",
       "      <td>1</td>\n",
       "      <td>1.028734e+06</td>\n",
       "      <td>1.980980</td>\n",
       "      <td>0.109658</td>\n",
       "      <td>1.823569</td>\n",
       "      <td>-0.012334</td>\n",
       "      <td>-0.000310</td>\n",
       "      <td>0.192698</td>\n",
       "      <td>-0.000005</td>\n",
       "      <td>NaN</td>\n",
       "    </tr>\n",
       "    <tr>\n",
       "      <th>2</th>\n",
       "      <td>1</td>\n",
       "      <td>2</td>\n",
       "      <td>1.028731e+06</td>\n",
       "      <td>3.939094</td>\n",
       "      <td>0.406790</td>\n",
       "      <td>1.826335</td>\n",
       "      <td>-0.015082</td>\n",
       "      <td>-0.000949</td>\n",
       "      <td>0.396771</td>\n",
       "      <td>-0.000037</td>\n",
       "      <td>NaN</td>\n",
       "    </tr>\n",
       "    <tr>\n",
       "      <th>3</th>\n",
       "      <td>1</td>\n",
       "      <td>3</td>\n",
       "      <td>1.028728e+06</td>\n",
       "      <td>6.426920</td>\n",
       "      <td>0.895124</td>\n",
       "      <td>2.006726</td>\n",
       "      <td>-0.003282</td>\n",
       "      <td>-0.001335</td>\n",
       "      <td>0.649160</td>\n",
       "      <td>-0.000096</td>\n",
       "      <td>NaN</td>\n",
       "    </tr>\n",
       "    <tr>\n",
       "      <th>4</th>\n",
       "      <td>1</td>\n",
       "      <td>4</td>\n",
       "      <td>1.028723e+06</td>\n",
       "      <td>9.986353</td>\n",
       "      <td>1.633959</td>\n",
       "      <td>2.406750</td>\n",
       "      <td>0.028699</td>\n",
       "      <td>-0.000709</td>\n",
       "      <td>0.992601</td>\n",
       "      <td>-0.000153</td>\n",
       "      <td>NaN</td>\n",
       "    </tr>\n",
       "    <tr>\n",
       "      <th>5</th>\n",
       "      <td>1</td>\n",
       "      <td>5</td>\n",
       "      <td>1.028715e+06</td>\n",
       "      <td>15.302678</td>\n",
       "      <td>2.738326</td>\n",
       "      <td>3.112044</td>\n",
       "      <td>0.088873</td>\n",
       "      <td>0.001919</td>\n",
       "      <td>1.485446</td>\n",
       "      <td>-0.000134</td>\n",
       "      <td>NaN</td>\n",
       "    </tr>\n",
       "    <tr>\n",
       "      <th>6</th>\n",
       "      <td>1</td>\n",
       "      <td>6</td>\n",
       "      <td>1.028703e+06</td>\n",
       "      <td>23.354434</td>\n",
       "      <td>4.394699</td>\n",
       "      <td>4.263970</td>\n",
       "      <td>0.189465</td>\n",
       "      <td>0.007899</td>\n",
       "      <td>2.213080</td>\n",
       "      <td>0.000094</td>\n",
       "      <td>0.0</td>\n",
       "    </tr>\n",
       "    <tr>\n",
       "      <th>7</th>\n",
       "      <td>1</td>\n",
       "      <td>7</td>\n",
       "      <td>1.028685e+06</td>\n",
       "      <td>35.602016</td>\n",
       "      <td>6.892154</td>\n",
       "      <td>6.083664</td>\n",
       "      <td>0.349348</td>\n",
       "      <td>0.019145</td>\n",
       "      <td>3.303647</td>\n",
       "      <td>0.000743</td>\n",
       "      <td>0.0</td>\n",
       "    </tr>\n",
       "    <tr>\n",
       "      <th>8</th>\n",
       "      <td>1</td>\n",
       "      <td>8</td>\n",
       "      <td>1.028657e+06</td>\n",
       "      <td>54.256406</td>\n",
       "      <td>10.673223</td>\n",
       "      <td>8.911333</td>\n",
       "      <td>0.597604</td>\n",
       "      <td>0.038468</td>\n",
       "      <td>4.951230</td>\n",
       "      <td>0.002143</td>\n",
       "      <td>0.0</td>\n",
       "    </tr>\n",
       "    <tr>\n",
       "      <th>9</th>\n",
       "      <td>1</td>\n",
       "      <td>9</td>\n",
       "      <td>1.028615e+06</td>\n",
       "      <td>82.679971</td>\n",
       "      <td>16.412974</td>\n",
       "      <td>13.267412</td>\n",
       "      <td>0.978867</td>\n",
       "      <td>0.070059</td>\n",
       "      <td>7.450813</td>\n",
       "      <td>0.004793</td>\n",
       "      <td>1.0</td>\n",
       "    </tr>\n",
       "    <tr>\n",
       "      <th>10</th>\n",
       "      <td>1</td>\n",
       "      <td>10</td>\n",
       "      <td>1.028552e+06</td>\n",
       "      <td>125.992577</td>\n",
       "      <td>25.140185</td>\n",
       "      <td>19.946277</td>\n",
       "      <td>1.561451</td>\n",
       "      <td>0.120242</td>\n",
       "      <td>11.251346</td>\n",
       "      <td>0.009457</td>\n",
       "      <td>1.0</td>\n",
       "    </tr>\n",
       "    <tr>\n",
       "      <th>11</th>\n",
       "      <td>1</td>\n",
       "      <td>11</td>\n",
       "      <td>1.028454e+06</td>\n",
       "      <td>191.992648</td>\n",
       "      <td>38.422270</td>\n",
       "      <td>30.159316</td>\n",
       "      <td>2.449716</td>\n",
       "      <td>0.198610</td>\n",
       "      <td>17.036530</td>\n",
       "      <td>0.017285</td>\n",
       "      <td>0.0</td>\n",
       "    </tr>\n",
       "    <tr>\n",
       "      <th>12</th>\n",
       "      <td>1</td>\n",
       "      <td>12</td>\n",
       "      <td>1.028306e+06</td>\n",
       "      <td>292.557492</td>\n",
       "      <td>58.646973</td>\n",
       "      <td>45.752862</td>\n",
       "      <td>3.802899</td>\n",
       "      <td>0.319746</td>\n",
       "      <td>25.847811</td>\n",
       "      <td>0.030026</td>\n",
       "      <td>0.0</td>\n",
       "    </tr>\n",
       "    <tr>\n",
       "      <th>13</th>\n",
       "      <td>1</td>\n",
       "      <td>13</td>\n",
       "      <td>1.028080e+06</td>\n",
       "      <td>445.772132</td>\n",
       "      <td>89.451204</td>\n",
       "      <td>69.539999</td>\n",
       "      <td>5.863807</td>\n",
       "      <td>0.505856</td>\n",
       "      <td>39.271697</td>\n",
       "      <td>0.050336</td>\n",
       "      <td>0.0</td>\n",
       "    </tr>\n",
       "    <tr>\n",
       "      <th>14</th>\n",
       "      <td>1</td>\n",
       "      <td>14</td>\n",
       "      <td>1.027736e+06</td>\n",
       "      <td>679.161129</td>\n",
       "      <td>136.373189</td>\n",
       "      <td>105.805166</td>\n",
       "      <td>9.002486</td>\n",
       "      <td>0.790766</td>\n",
       "      <td>59.724910</td>\n",
       "      <td>0.082249</td>\n",
       "      <td>1.0</td>\n",
       "    </tr>\n",
       "    <tr>\n",
       "      <th>15</th>\n",
       "      <td>1</td>\n",
       "      <td>15</td>\n",
       "      <td>1.027211e+06</td>\n",
       "      <td>1034.585887</td>\n",
       "      <td>207.843171</td>\n",
       "      <td>161.070720</td>\n",
       "      <td>13.782666</td>\n",
       "      <td>1.226005</td>\n",
       "      <td>90.888264</td>\n",
       "      <td>0.131903</td>\n",
       "      <td>0.0</td>\n",
       "    </tr>\n",
       "    <tr>\n",
       "      <th>16</th>\n",
       "      <td>1</td>\n",
       "      <td>16</td>\n",
       "      <td>1.026413e+06</td>\n",
       "      <td>1575.643139</td>\n",
       "      <td>316.685773</td>\n",
       "      <td>245.259434</td>\n",
       "      <td>21.062753</td>\n",
       "      <td>1.890067</td>\n",
       "      <td>138.366293</td>\n",
       "      <td>0.208641</td>\n",
       "      <td>0.0</td>\n",
       "    </tr>\n",
       "    <tr>\n",
       "      <th>17</th>\n",
       "      <td>1</td>\n",
       "      <td>17</td>\n",
       "      <td>1.025198e+06</td>\n",
       "      <td>2398.789898</td>\n",
       "      <td>482.392316</td>\n",
       "      <td>373.452759</td>\n",
       "      <td>32.149112</td>\n",
       "      <td>2.902490</td>\n",
       "      <td>210.688814</td>\n",
       "      <td>0.326682</td>\n",
       "      <td>0.0</td>\n",
       "    </tr>\n",
       "    <tr>\n",
       "      <th>18</th>\n",
       "      <td>1</td>\n",
       "      <td>18</td>\n",
       "      <td>1.023351e+06</td>\n",
       "      <td>3649.951998</td>\n",
       "      <td>734.544127</td>\n",
       "      <td>568.539720</td>\n",
       "      <td>49.028218</td>\n",
       "      <td>4.445233</td>\n",
       "      <td>320.828821</td>\n",
       "      <td>0.507677</td>\n",
       "      <td>1.0</td>\n",
       "    </tr>\n",
       "    <tr>\n",
       "      <th>19</th>\n",
       "      <td>1</td>\n",
       "      <td>19</td>\n",
       "      <td>1.023348e+06</td>\n",
       "      <td>2990.972633</td>\n",
       "      <td>985.978969</td>\n",
       "      <td>763.075061</td>\n",
       "      <td>73.264753</td>\n",
       "      <td>6.778157</td>\n",
       "      <td>480.741240</td>\n",
       "      <td>0.784410</td>\n",
       "      <td>0.0</td>\n",
       "    </tr>\n",
       "  </tbody>\n",
       "</table>\n",
       "</div>"
      ],
      "text/plain": [
       "    replicate  time             S            E           A          I1  \\\n",
       "0           1     0  1.028736e+06     0.000000    0.000000    2.000000   \n",
       "1           1     1  1.028734e+06     1.980980    0.109658    1.823569   \n",
       "2           1     2  1.028731e+06     3.939094    0.406790    1.826335   \n",
       "3           1     3  1.028728e+06     6.426920    0.895124    2.006726   \n",
       "4           1     4  1.028723e+06     9.986353    1.633959    2.406750   \n",
       "5           1     5  1.028715e+06    15.302678    2.738326    3.112044   \n",
       "6           1     6  1.028703e+06    23.354434    4.394699    4.263970   \n",
       "7           1     7  1.028685e+06    35.602016    6.892154    6.083664   \n",
       "8           1     8  1.028657e+06    54.256406   10.673223    8.911333   \n",
       "9           1     9  1.028615e+06    82.679971   16.412974   13.267412   \n",
       "10          1    10  1.028552e+06   125.992577   25.140185   19.946277   \n",
       "11          1    11  1.028454e+06   191.992648   38.422270   30.159316   \n",
       "12          1    12  1.028306e+06   292.557492   58.646973   45.752862   \n",
       "13          1    13  1.028080e+06   445.772132   89.451204   69.539999   \n",
       "14          1    14  1.027736e+06   679.161129  136.373189  105.805166   \n",
       "15          1    15  1.027211e+06  1034.585887  207.843171  161.070720   \n",
       "16          1    16  1.026413e+06  1575.643139  316.685773  245.259434   \n",
       "17          1    17  1.025198e+06  2398.789898  482.392316  373.452759   \n",
       "18          1    18  1.023351e+06  3649.951998  734.544127  568.539720   \n",
       "19          1    19  1.023348e+06  2990.972633  985.978969  763.075061   \n",
       "\n",
       "           I2        I3           R         D  obs  \n",
       "0    0.000000  0.000000    0.000000  0.000000  0.0  \n",
       "1   -0.012334 -0.000310    0.192698 -0.000005  NaN  \n",
       "2   -0.015082 -0.000949    0.396771 -0.000037  NaN  \n",
       "3   -0.003282 -0.001335    0.649160 -0.000096  NaN  \n",
       "4    0.028699 -0.000709    0.992601 -0.000153  NaN  \n",
       "5    0.088873  0.001919    1.485446 -0.000134  NaN  \n",
       "6    0.189465  0.007899    2.213080  0.000094  0.0  \n",
       "7    0.349348  0.019145    3.303647  0.000743  0.0  \n",
       "8    0.597604  0.038468    4.951230  0.002143  0.0  \n",
       "9    0.978867  0.070059    7.450813  0.004793  1.0  \n",
       "10   1.561451  0.120242   11.251346  0.009457  1.0  \n",
       "11   2.449716  0.198610   17.036530  0.017285  0.0  \n",
       "12   3.802899  0.319746   25.847811  0.030026  0.0  \n",
       "13   5.863807  0.505856   39.271697  0.050336  0.0  \n",
       "14   9.002486  0.790766   59.724910  0.082249  1.0  \n",
       "15  13.782666  1.226005   90.888264  0.131903  0.0  \n",
       "16  21.062753  1.890067  138.366293  0.208641  0.0  \n",
       "17  32.149112  2.902490  210.688814  0.326682  0.0  \n",
       "18  49.028218  4.445233  320.828821  0.507677  1.0  \n",
       "19  73.264753  6.778157  480.741240  0.784410  0.0  "
      ]
     },
     "execution_count": 126,
     "metadata": {},
     "output_type": "execute_result"
    }
   ],
   "source": [
    "meta.head( 20 )"
   ]
  },
  {
   "cell_type": "code",
   "execution_count": 127,
   "metadata": {},
   "outputs": [],
   "source": [
    "def ci( x ):\n",
    "    try:\n",
    "        return 1.96 * np.std( x ) / np.sqrt( len( x ) )\n",
    "    except ZeroDivisionError:\n",
    "        return 0\n",
    "\n",
    "meta_grouped = meta.groupby( 'time' ).agg( { 'obs': [ 'mean', ci ] } ).reset_index().fillna( 0 )\n",
    "meta_grouped.columns = [ '_'.join( col ).strip() for col in meta_grouped.columns.values ]\n",
    "meta_grouped.rename( columns = { 'time_': 'time' }, inplace = True )"
   ]
  },
  {
   "cell_type": "code",
   "execution_count": 128,
   "metadata": {},
   "outputs": [],
   "source": [
    "meta_grouped = meta_grouped.merge( time, how = 'left', on = 'time' )"
   ]
  },
  {
   "cell_type": "code",
   "execution_count": 129,
   "metadata": {},
   "outputs": [],
   "source": [
    "meta_grouped = meta_grouped.loc[ meta_grouped[ 'date' ].notnull() ]"
   ]
  },
  {
   "cell_type": "code",
   "execution_count": 130,
   "metadata": {},
   "outputs": [],
   "source": [
    "meta_grouped[ 'obs_lower' ] = meta_grouped[ 'obs_mean' ] - meta_grouped[ 'obs_ci' ]\n",
    "meta_grouped[ 'obs_upper' ] = meta_grouped[ 'obs_mean' ] + meta_grouped[ 'obs_ci' ]"
   ]
  },
  {
   "cell_type": "code",
   "execution_count": 131,
   "metadata": {},
   "outputs": [],
   "source": [
    "meta_grouped[ 'city' ] = city"
   ]
  },
  {
   "cell_type": "code",
   "execution_count": 132,
   "metadata": {},
   "outputs": [
    {
     "data": {
      "text/html": [
       "<div>\n",
       "<style scoped>\n",
       "    .dataframe tbody tr th:only-of-type {\n",
       "        vertical-align: middle;\n",
       "    }\n",
       "\n",
       "    .dataframe tbody tr th {\n",
       "        vertical-align: top;\n",
       "    }\n",
       "\n",
       "    .dataframe thead th {\n",
       "        text-align: right;\n",
       "    }\n",
       "</style>\n",
       "<table border=\"1\" class=\"dataframe\">\n",
       "  <thead>\n",
       "    <tr style=\"text-align: right;\">\n",
       "      <th></th>\n",
       "      <th>time</th>\n",
       "      <th>obs_mean</th>\n",
       "      <th>obs_ci</th>\n",
       "      <th>date</th>\n",
       "      <th>obs_lower</th>\n",
       "      <th>obs_upper</th>\n",
       "      <th>city</th>\n",
       "    </tr>\n",
       "  </thead>\n",
       "  <tbody>\n",
       "    <tr>\n",
       "      <th>1</th>\n",
       "      <td>1</td>\n",
       "      <td>0.0</td>\n",
       "      <td>0.0</td>\n",
       "      <td>2020-03-14</td>\n",
       "      <td>0.0</td>\n",
       "      <td>0.0</td>\n",
       "      <td>bogota</td>\n",
       "    </tr>\n",
       "    <tr>\n",
       "      <th>2</th>\n",
       "      <td>2</td>\n",
       "      <td>0.0</td>\n",
       "      <td>0.0</td>\n",
       "      <td>2020-03-15</td>\n",
       "      <td>0.0</td>\n",
       "      <td>0.0</td>\n",
       "      <td>bogota</td>\n",
       "    </tr>\n",
       "    <tr>\n",
       "      <th>3</th>\n",
       "      <td>3</td>\n",
       "      <td>0.0</td>\n",
       "      <td>0.0</td>\n",
       "      <td>2020-03-16</td>\n",
       "      <td>0.0</td>\n",
       "      <td>0.0</td>\n",
       "      <td>bogota</td>\n",
       "    </tr>\n",
       "    <tr>\n",
       "      <th>4</th>\n",
       "      <td>4</td>\n",
       "      <td>0.0</td>\n",
       "      <td>0.0</td>\n",
       "      <td>2020-03-17</td>\n",
       "      <td>0.0</td>\n",
       "      <td>0.0</td>\n",
       "      <td>bogota</td>\n",
       "    </tr>\n",
       "    <tr>\n",
       "      <th>5</th>\n",
       "      <td>5</td>\n",
       "      <td>0.0</td>\n",
       "      <td>0.0</td>\n",
       "      <td>2020-03-18</td>\n",
       "      <td>0.0</td>\n",
       "      <td>0.0</td>\n",
       "      <td>bogota</td>\n",
       "    </tr>\n",
       "  </tbody>\n",
       "</table>\n",
       "</div>"
      ],
      "text/plain": [
       "   time  obs_mean  obs_ci       date  obs_lower  obs_upper    city\n",
       "1     1       0.0     0.0 2020-03-14        0.0        0.0  bogota\n",
       "2     2       0.0     0.0 2020-03-15        0.0        0.0  bogota\n",
       "3     3       0.0     0.0 2020-03-16        0.0        0.0  bogota\n",
       "4     4       0.0     0.0 2020-03-17        0.0        0.0  bogota\n",
       "5     5       0.0     0.0 2020-03-18        0.0        0.0  bogota"
      ]
     },
     "execution_count": 132,
     "metadata": {},
     "output_type": "execute_result"
    }
   ],
   "source": [
    "meta_grouped.head()"
   ]
  },
  {
   "cell_type": "code",
   "execution_count": 133,
   "metadata": {},
   "outputs": [
    {
     "data": {
      "text/html": [
       "<div>\n",
       "<style scoped>\n",
       "    .dataframe tbody tr th:only-of-type {\n",
       "        vertical-align: middle;\n",
       "    }\n",
       "\n",
       "    .dataframe tbody tr th {\n",
       "        vertical-align: top;\n",
       "    }\n",
       "\n",
       "    .dataframe thead th {\n",
       "        text-align: right;\n",
       "    }\n",
       "</style>\n",
       "<table border=\"1\" class=\"dataframe\">\n",
       "  <thead>\n",
       "    <tr style=\"text-align: right;\">\n",
       "      <th></th>\n",
       "      <th>time</th>\n",
       "      <th>obs_mean</th>\n",
       "      <th>obs_ci</th>\n",
       "      <th>date</th>\n",
       "      <th>obs_lower</th>\n",
       "      <th>obs_upper</th>\n",
       "      <th>city</th>\n",
       "    </tr>\n",
       "  </thead>\n",
       "  <tbody>\n",
       "    <tr>\n",
       "      <th>107</th>\n",
       "      <td>107</td>\n",
       "      <td>631.9</td>\n",
       "      <td>13.288887</td>\n",
       "      <td>2020-06-28</td>\n",
       "      <td>618.611113</td>\n",
       "      <td>645.188887</td>\n",
       "      <td>bogota</td>\n",
       "    </tr>\n",
       "    <tr>\n",
       "      <th>108</th>\n",
       "      <td>108</td>\n",
       "      <td>646.2</td>\n",
       "      <td>18.653599</td>\n",
       "      <td>2020-06-29</td>\n",
       "      <td>627.546401</td>\n",
       "      <td>664.853599</td>\n",
       "      <td>bogota</td>\n",
       "    </tr>\n",
       "    <tr>\n",
       "      <th>109</th>\n",
       "      <td>109</td>\n",
       "      <td>702.3</td>\n",
       "      <td>19.771825</td>\n",
       "      <td>2020-06-30</td>\n",
       "      <td>682.528175</td>\n",
       "      <td>722.071825</td>\n",
       "      <td>bogota</td>\n",
       "    </tr>\n",
       "    <tr>\n",
       "      <th>110</th>\n",
       "      <td>110</td>\n",
       "      <td>729.1</td>\n",
       "      <td>19.056301</td>\n",
       "      <td>2020-07-01</td>\n",
       "      <td>710.043699</td>\n",
       "      <td>748.156301</td>\n",
       "      <td>bogota</td>\n",
       "    </tr>\n",
       "    <tr>\n",
       "      <th>111</th>\n",
       "      <td>111</td>\n",
       "      <td>765.3</td>\n",
       "      <td>14.049386</td>\n",
       "      <td>2020-07-02</td>\n",
       "      <td>751.250614</td>\n",
       "      <td>779.349386</td>\n",
       "      <td>bogota</td>\n",
       "    </tr>\n",
       "  </tbody>\n",
       "</table>\n",
       "</div>"
      ],
      "text/plain": [
       "     time  obs_mean     obs_ci       date   obs_lower   obs_upper    city\n",
       "107   107     631.9  13.288887 2020-06-28  618.611113  645.188887  bogota\n",
       "108   108     646.2  18.653599 2020-06-29  627.546401  664.853599  bogota\n",
       "109   109     702.3  19.771825 2020-06-30  682.528175  722.071825  bogota\n",
       "110   110     729.1  19.056301 2020-07-01  710.043699  748.156301  bogota\n",
       "111   111     765.3  14.049386 2020-07-02  751.250614  779.349386  bogota"
      ]
     },
     "execution_count": 133,
     "metadata": {},
     "output_type": "execute_result"
    }
   ],
   "source": [
    "meta_grouped.tail()"
   ]
  },
  {
   "cell_type": "code",
   "execution_count": 134,
   "metadata": {},
   "outputs": [
    {
     "data": {
      "text/plain": [
       "<matplotlib.legend.Legend at 0x7ff105642810>"
      ]
     },
     "execution_count": 134,
     "metadata": {},
     "output_type": "execute_result"
    },
    {
     "data": {
      "image/png": "[encoded data removed]",
      "text/plain": [
       "<Figure size 1440x504 with 1 Axes>"
      ]
     },
     "metadata": {
      "needs_background": "light"
     },
     "output_type": "display_data"
    }
   ],
   "source": [
    "fig, ax = plt.subplots( figsize = ( 20, 7 ) )\n",
    "\n",
    "ax.plot( meta_grouped[ 'date' ], meta_grouped[ 'obs_mean' ], label = 'Fallecidos', color = '#f64438' )\n",
    "ax.fill_between( meta_grouped[ 'date' ], meta_grouped[ 'obs_lower' ], meta_grouped[ 'obs_upper' ], color = '#f64438', alpha = .1 )\n",
    "\n",
    "plt.title( 'Proyección de fallecidos' )\n",
    "plt.xlabel( 'Fecha' )\n",
    "plt.ylabel( 'Fallecidos' )\n",
    "plt.grid( True )\n",
    "plt.legend()"
   ]
  },
  {
   "cell_type": "code",
   "execution_count": 135,
   "metadata": {},
   "outputs": [],
   "source": [
    "meta_grouped.to_csv( './data/meta/meta_{}.csv'.format( city ), index = False )"
   ]
  },
  {
   "cell_type": "code",
   "execution_count": null,
   "metadata": {},
   "outputs": [],
   "source": []
  },
  {
   "cell_type": "code",
   "execution_count": null,
   "metadata": {},
   "outputs": [],
   "source": []
  },
  {
   "cell_type": "code",
   "execution_count": null,
   "metadata": {},
   "outputs": [],
   "source": []
  },
  {
   "cell_type": "code",
   "execution_count": null,
   "metadata": {},
   "outputs": [],
   "source": []
  },
  {
   "cell_type": "code",
   "execution_count": null,
   "metadata": {},
   "outputs": [],
   "source": []
  },
  {
   "cell_type": "code",
   "execution_count": null,
   "metadata": {},
   "outputs": [],
   "source": [
    "projections = meta[ [ 'replicate', 'time', 'obs' ] ].fillna( 0 ).merge( time, how = 'left', on = 'time' )\n",
    "projections.rename( columns = { 'obs': 'fallecidos' }, inplace = True )\n",
    "projections = projections.loc[ projections[ 'date' ].notnull() ]\n",
    "projections.to_csv( './meta-viz/data/{}-meta.csv'.format( city ), index = False )"
   ]
  },
  {
   "cell_type": "code",
   "execution_count": null,
   "metadata": {},
   "outputs": [],
   "source": [
    "meta.groupby( 'time' ).agg( { 'D': [ 'min', 'mean', 'median', 'max', percentile( 25 ), percentile( 75 ) ], 'obs': [ 'min', 'mean', 'median', 'max', percentile( 25 ), percentile( 75 ) ] } ).tail( 10 )"
   ]
  },
  {
   "cell_type": "code",
   "execution_count": null,
   "metadata": {},
   "outputs": [],
   "source": [
    "to_export = meta.loc[ meta[ 'replicate' ] == 1 ][ [ 'time', 'I2', 'I3', 'D' ] ].round( 0 )"
   ]
  },
  {
   "cell_type": "code",
   "execution_count": null,
   "metadata": {},
   "outputs": [],
   "source": [
    "to_export[ 'I2' ] = to_export[ 'I2' ].astype( int )\n",
    "to_export[ 'I3' ] = to_export[ 'I3' ].astype( int )\n",
    "to_export[ 'D' ] = to_export[ 'D' ].astype( int )"
   ]
  },
  {
   "cell_type": "code",
   "execution_count": null,
   "metadata": {},
   "outputs": [],
   "source": [
    "to_export.tail()"
   ]
  },
  {
   "cell_type": "code",
   "execution_count": null,
   "metadata": {},
   "outputs": [],
   "source": [
    "to_export = to_export.iloc[ 1: ]"
   ]
  },
  {
   "cell_type": "code",
   "execution_count": null,
   "metadata": {},
   "outputs": [],
   "source": [
    "to_export.tail()"
   ]
  },
  {
   "cell_type": "code",
   "execution_count": null,
   "metadata": {},
   "outputs": [],
   "source": [
    "real = pd.read_csv( './data/meta/old2/BOG17jun.csv' )"
   ]
  },
  {
   "cell_type": "code",
   "execution_count": null,
   "metadata": {},
   "outputs": [],
   "source": [
    "real.shape"
   ]
  },
  {
   "cell_type": "code",
   "execution_count": null,
   "metadata": {},
   "outputs": [],
   "source": [
    "real[ 'date' ] = pd.to_datetime( real[ 'date' ], format = '%d/%m/%Y' )"
   ]
  },
  {
   "cell_type": "code",
   "execution_count": null,
   "metadata": {},
   "outputs": [],
   "source": [
    "real.dtypes"
   ]
  },
  {
   "cell_type": "code",
   "execution_count": null,
   "metadata": {},
   "outputs": [],
   "source": [
    "real.head()"
   ]
  },
  {
   "cell_type": "code",
   "execution_count": null,
   "metadata": {},
   "outputs": [],
   "source": [
    "to_export = real.merge( to_export, how = 'outer', on = 'time' )"
   ]
  },
  {
   "cell_type": "code",
   "execution_count": null,
   "metadata": {},
   "outputs": [],
   "source": [
    "to_export.rename( columns = { 'date': 'Fecha', 'obs': 'Fallecidos_reales', 'D': 'Fallecidos', 'I2': 'Graves', 'I3': 'Críticos' }, inplace = True )"
   ]
  },
  {
   "cell_type": "code",
   "execution_count": null,
   "metadata": {},
   "outputs": [],
   "source": [
    "def impute_date( x ):\n",
    "    if pd.isnull( x[ 'Fecha' ] ):\n",
    "        return max( to_export[ 'Fecha' ] ) + pd.DateOffset( x[ 'time' ] - 96 )\n",
    "    else:\n",
    "        return x[ 'Fecha' ]\n",
    "    \n",
    "to_export[ 'Fecha' ] = to_export.apply( lambda x: impute_date( x ), axis = 1 )"
   ]
  },
  {
   "cell_type": "code",
   "execution_count": null,
   "metadata": {},
   "outputs": [],
   "source": [
    "to_export.tail( 25 )"
   ]
  },
  {
   "cell_type": "code",
   "execution_count": null,
   "metadata": {},
   "outputs": [],
   "source": [
    "to_export = pd.melt( to_export, id_vars=[ 'Fecha' ], value_vars = [ 'Fallecidos_reales', 'Graves', 'Críticos', 'Fallecidos' ] )"
   ]
  },
  {
   "cell_type": "code",
   "execution_count": null,
   "metadata": {},
   "outputs": [],
   "source": [
    "#to_export.drop_duplicates( subset = [ 'value' ], inplace = True )"
   ]
  },
  {
   "cell_type": "code",
   "execution_count": null,
   "metadata": {},
   "outputs": [],
   "source": [
    "to_export.head()"
   ]
  },
  {
   "cell_type": "code",
   "execution_count": null,
   "metadata": {},
   "outputs": [],
   "source": [
    "to_export.to_csv( './agents-viz/data/meta.csv', index = False )"
   ]
  },
  {
   "cell_type": "code",
   "execution_count": null,
   "metadata": {},
   "outputs": [],
   "source": []
  }
 ],
 "metadata": {
  "kernelspec": {
   "display_name": "Python 3",
   "language": "python",
   "name": "python3"
  },
  "language_info": {
   "codemirror_mode": {
    "name": "ipython",
    "version": 3
   },
   "file_extension": ".py",
   "mimetype": "text/x-python",
   "name": "python",
   "nbconvert_exporter": "python",
   "pygments_lexer": "ipython3",
   "version": "3.7.6"
  }
 },
 "nbformat": 4,
 "nbformat_minor": 4
}
